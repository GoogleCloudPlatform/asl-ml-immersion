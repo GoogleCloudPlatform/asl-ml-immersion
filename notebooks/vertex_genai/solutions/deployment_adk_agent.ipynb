{
 "cells": [
  {
   "cell_type": "markdown",
   "id": "2fdb77ea71896541",
   "metadata": {},
   "source": [
    "# Deploy to Vertex AI Agent Engine"
   ]
  },
  {
   "cell_type": "markdown",
   "id": "31c5d860-0945-4799-b2ba-74298c87ee3b",
   "metadata": {},
   "source": [
    "## Deployment Options\n",
    "Your ADK agent can be deployed to a range of different environments based on your needs for production readiness or custom flexibility:\n",
    "\n",
    "#### Agent Engine in Vertex AI\n",
    "Agent Engine is a fully managed auto-scaling service on Google Cloud specifically designed for deploying, managing, and scaling AI agents built with frameworks such as ADK.\n",
    "\n",
    "Learn more about deploying your agent to Vertex AI Agent Engine.\n",
    "\n",
    "#### Cloud Run\n",
    "Cloud Run is a managed auto-scaling compute platform on Google Cloud that enables you to run your agent as a container-based application.\n",
    "\n",
    "Learn more about deploying your agent to Cloud Run.\n",
    "\n",
    "#### Google Kubernetes Engine (GKE)\n",
    "Google Kubernetes Engine (GKE) is a managed Kubernetes service of Google Cloud that allows you to run your agent in a containerized environment. GKE is a good option if you need more control over the deployment as well as for running Open Models.\n",
    "\n",
    "Learn more about deploying your agent to GKE."
   ]
  },
  {
   "cell_type": "markdown",
   "id": "3d255611-a6ea-4605-b70d-326d91fa438d",
   "metadata": {},
   "source": [
    "## Setup\n",
    "This lab needs a special kernel to run, please run the following cell.\n",
    "**NOTE: You can skip this step if you have already built the ADK Kernel from the previous Lab**"
   ]
  },
  {
   "cell_type": "code",
   "id": "ebecae6b-b122-4c50-8614-24bee5114444",
   "metadata": {
    "tags": []
   },
   "source": [
    "!echo \"Kernel installation started.\"\n",
    "!cd ../../.. && make adk_kernel > /dev/null 2>&1\n",
    "!echo \"Kernel installation completed.\""
   ],
   "outputs": [],
   "execution_count": null
  },
  {
   "cell_type": "markdown",
   "id": "ae474f30-8d24-46c9-a88e-48480cae9dac",
   "metadata": {},
   "source": [
    "When it's completed, select the **`ADK Kernel`** on the top right before going forward in the notebook.<br>\n",
    "It may take ~1 minutes until the kernel is shown after the installation."
   ]
  },
  {
   "cell_type": "markdown",
   "id": "41f5ecd2-09e3-4801-9918-bbf861b62d3d",
   "metadata": {},
   "source": [
    "## Install Packages"
   ]
  },
  {
   "cell_type": "code",
   "id": "09d0fe85-302a-4ac6-afcb-360bb7764c3d",
   "metadata": {
    "tags": []
   },
   "source": [
    "import asyncio\n",
    "import importlib\n",
    "import json\n",
    "import os\n",
    "import warnings\n",
    "\n",
    "import pandas as pd\n",
    "from google.adk.agents import Agent\n",
    "from google.adk.models.lite_llm import LiteLlm  # For multi-model support\n",
    "from google.adk.runners import Runner\n",
    "from google.adk.sessions import InMemorySessionService\n",
    "from google.adk.tools.tool_context import ToolContext\n",
    "from google.genai import types  # For creating message Content/Parts\n",
    "from IPython.display import HTML, Markdown, display\n",
    "\n",
    "# Ignore all warnings\n",
    "warnings.filterwarnings(\"ignore\")\n",
    "\n",
    "import logging\n",
    "\n",
    "logging.basicConfig(level=logging.ERROR)"
   ],
   "outputs": [],
   "execution_count": null
  },
  {
   "cell_type": "code",
   "id": "9e7b1b3e-6b91-42f4-9550-fe027efb1988",
   "metadata": {
    "tags": []
   },
   "source": [
    "LOCATION = \"us-central1\"\n",
    "os.environ[\"GOOGLE_CLOUD_LOCATION\"] = LOCATION\n",
    "os.environ[\"GOOGLE_GENAI_USE_VERTEXAI\"] = \"TRUE\"  # Use Vertex AI API"
   ],
   "outputs": [],
   "execution_count": null
  },
  {
   "cell_type": "code",
   "id": "ec87bb48-e10d-49f7-97da-4ffc52edd4a4",
   "metadata": {
    "tags": []
   },
   "source": [
    "%%bash\n",
    "echo > adk_agents/.env \"GOOGLE_CLOUD_LOCATION=$GOOGLE_CLOUD_LOCATION\n",
    "GOOGLE_GENAI_USE_VERTEXAI=$GOOGLE_GENAI_USE_VERTEXAI\n",
    "\""
   ],
   "outputs": [],
   "execution_count": null
  },
  {
   "cell_type": "code",
   "id": "f9593b46-00f1-4af6-926d-e58017535000",
   "metadata": {
    "tags": []
   },
   "source": [
    "MODEL = \"gemini-2.0-flash\""
   ],
   "outputs": [],
   "execution_count": null
  },
  {
   "cell_type": "markdown",
   "id": "17554fcf-08b1-451c-980c-41a1fc539f4a",
   "metadata": {},
   "source": [
    "## Basic App: Weather Lookup\n",
    "**NOTE: You can skip this step if you have already created \"./adk_agents/agent1_weather_lookup/tools.py\" file from the previous Lab**\n",
    "\n",
    "Let's begin by building the fundamental component of our Weather Bot: a single agent capable of performing a specific task – looking up weather information. This involves creating two core pieces:\n",
    "\n",
    "- A Tool: A Python function that equips the agent with the ability to fetch weather data.\n",
    "- An Agent: The AI \"brain\" that understands the user's request, knows it has a weather tool, and decides when and how to use it."
   ]
  },
  {
   "cell_type": "markdown",
   "id": "a2d754cc-3499-4b81-81ec-4ba1f4da7a61",
   "metadata": {},
   "source": [
    "### Define the Tool (get_weather)\n",
    "\n",
    "In ADK, **Tools** are the building blocks that give agents concrete capabilities beyond just text generation. They are typically regular Python functions that perform specific actions, like calling an API, querying a database, or performing calculations.\n",
    "\n",
    "Our first tool will provide a *mock* weather report. This allows us to focus on the agent structure without needing external API keys yet. Later, you could easily swap this mock function with one that calls a real weather service.\n",
    "\n",
    "**Key Concept: Docstrings are Crucial\\!** The agent's LLM relies heavily on the function's **docstring** to understand:\n",
    "\n",
    "* *What* the tool does.  \n",
    "* *When* to use it.  \n",
    "* *What arguments* it requires (`city: str`).  \n",
    "* *What information* it returns.\n",
    "\n",
    "**Best Practice:** Write clear, descriptive, and accurate docstrings for your tools. This is essential for the LLM to use the tool correctly."
   ]
  },
  {
   "cell_type": "code",
   "id": "7a289a32-cfd2-48cf-abd5-edbc60c12b2c",
   "metadata": {
    "tags": []
   },
   "source": [
    "%%writefile ./adk_agents/agent1_weather_lookup/tools.py\n",
    "def get_weather(city: str) -> dict:\n",
    "    \"\"\"Retrieves the current weather report for a specified city.\n",
    "\n",
    "    Args:\n",
    "        city (str): The name of the city (e.g., \"New York\", \"London\", \"Tokyo\").\n",
    "\n",
    "    Returns:\n",
    "        dict: A dictionary containing the weather information.\n",
    "              Includes a 'status' key ('success' or 'error').\n",
    "              If 'success', includes a 'report' key with weather details.\n",
    "              If 'error', includes an 'error_message' key.\n",
    "    \"\"\"\n",
    "    print(f\"--- Tool: get_weather called for city: {city} ---\") # Log tool execution\n",
    "    city_normalized = city.lower().replace(\" \", \"\") # Basic normalization\n",
    "\n",
    "    # Mock weather data\n",
    "    mock_weather_db = {\n",
    "        \"newyork\": {\"status\": \"success\", \"report\": \"The weather in New York is sunny with a temperature of 25°C.\"},\n",
    "        \"london\": {\"status\": \"success\", \"report\": \"It's cloudy in London with a temperature of 15°C.\"},\n",
    "        \"tokyo\": {\"status\": \"success\", \"report\": \"Tokyo is experiencing light rain and a temperature of 18°C.\"},\n",
    "    }\n",
    "\n",
    "    if city_normalized in mock_weather_db:\n",
    "        return mock_weather_db[city_normalized]\n",
    "    else:\n",
    "        return {\"status\": \"error\", \"error_message\": f\"Sorry, I don't have weather information for '{city}'.\"}"
   ],
   "outputs": [],
   "execution_count": null
  },
  {
   "cell_type": "markdown",
   "id": "d287a1bc-247f-4a89-9105-22dbf76c3042",
   "metadata": {
    "tags": []
   },
   "source": [
    "### Define the Agent (`weather_agent`)\n",
    "\n",
    "### NOTE: You can skip this step if you have already created \"./adk_agents/agent1_weather_lookup/agent.py\" file from the previous Lab\n",
    "\n",
    "Now, let's create the **Agent** itself. An `Agent` in ADK orchestrates the interaction between the user, the LLM, and the available tools.\n",
    "\n",
    "We configure it with several key parameters:\n",
    "\n",
    "* `name`: A unique identifier for this agent (e.g., \"weather\\_agent\\_v1\").  \n",
    "* `model`: Specifies which LLM to use (e.g., `gemini-2.0-flash`).\n",
    "* `description`: A concise summary of the agent's overall purpose. This becomes crucial later when other agents need to decide whether to delegate tasks to *this* agent.  \n",
    "* `instruction`: Detailed guidance for the LLM on how to behave, its persona, its goals, and specifically *how and when* to utilize its assigned `tools`.  \n",
    "* `tools`: A list containing the actual Python tool functions the agent is allowed to use (e.g., `[get_weather]`).\n",
    "\n",
    "**Best Practices:** \n",
    "- Choose descriptive `name` and `description` values. These are used internally by ADK and are vital for features like automatic delegation (covered later).\n",
    "- Provide clear and specific `instruction` prompts. The more detailed the instructions, the better the LLM can understand its role and how to use its tools effectively. Be explicit about error handling if needed."
   ]
  },
  {
   "cell_type": "code",
   "id": "bd0d941f-7aee-4bb7-90d6-d6dbae11181d",
   "metadata": {
    "tags": []
   },
   "source": [
    "%%writefile ./adk_agents/agent1_weather_lookup/agent.py\n",
    "from google.adk.agents import Agent\n",
    "MODEL = \"gemini-2.0-flash\"\n",
    "\n",
    "from .tools import get_weather\n",
    "\n",
    "root_agent = Agent(\n",
    "    name=\"weather_agent_v1\",\n",
    "    model=MODEL, # Can be a string for Gemini or a LiteLlm object\n",
    "    description=\"Provides weather information for specific cities.\",\n",
    "    instruction=\"You are a helpful weather assistant. \"\n",
    "                \"When the user asks for the weather in a specific city, \"\n",
    "                \"use the 'get_weather' tool to find the information. \"\n",
    "                \"If the tool returns an error, inform the user politely. \"\n",
    "                \"If the tool is successful, present the weather report clearly.\",\n",
    "    tools=[get_weather], # Pass the function directly\n",
    ")"
   ],
   "outputs": [],
   "execution_count": null
  },
  {
   "cell_type": "code",
   "id": "ca24f126-5532-4331-ada0-a91a9b71fee9",
   "metadata": {
    "tags": []
   },
   "source": [
    "from adk_agents.agent1_weather_lookup import agent\n",
    "\n",
    "importlib.reload(agent)  # Force reload\n",
    "\n",
    "# Example tool usage (optional test)\n",
    "print(agent.get_weather(\"New York\"))\n",
    "print(agent.get_weather(\"Paris\"))"
   ],
   "outputs": [],
   "execution_count": null
  },
  {
   "cell_type": "code",
   "id": "a52d1dc7-c6e7-45e5-be52-358934dfbcd7",
   "metadata": {
    "tags": []
   },
   "source": [
    "APP_NAME = \"weather_info_app\"\n",
    "USER_ID = \"user_1\"\n",
    "SESSION_ID = \"session_001\"  # Using a fixed ID for simplicity\n",
    "EXPERIMENT_NAME = \"weather-agent-v1\""
   ],
   "outputs": [],
   "execution_count": null
  },
  {
   "cell_type": "markdown",
   "id": "78294254-96ba-4ee3-8ccc-33be9c83ef2a",
   "metadata": {
    "tags": []
   },
   "source": [
    "# Deploy to Vertex AI Agent Engine\n",
    "Agent Engine is a fully managed Google Cloud service enabling developers to deploy, manage, and scale AI agents in production. \n",
    "Agent Engine handles the infrastructure to scale agents in production so you can focus on creating intelligent and impactful applications."
   ]
  },
  {
   "cell_type": "code",
   "id": "93b5a5e6-c151-4c91-bf29-3982baf07830",
   "metadata": {
    "tags": []
   },
   "source": [
    "LOCATION = \"us-central1\"\n",
    "PROJECT = !gcloud config list --format 'value(core.project)'\n",
    "PROJECT = PROJECT[0]\n",
    "BUCKET_NAME = f\"agent-evaluation-{PROJECT}-bucket\"\n",
    "BUCKET_URI = f\"gs://{BUCKET_NAME}\""
   ],
   "outputs": [],
   "execution_count": null
  },
  {
   "cell_type": "markdown",
   "id": "8a3e13a4-81da-43b0-b673-2591ff98ec23",
   "metadata": {},
   "source": [
    "**Checking for the existence of BUCKET. Creating it if it doesn't exist:**"
   ]
  },
  {
   "cell_type": "code",
   "id": "826bda76-bba8-4bde-905d-5d05b85022bf",
   "metadata": {
    "tags": []
   },
   "source": [
    "!gsutil ls $BUCKET_URI || gsutil mb -l $LOCATION $BUCKET_URI"
   ],
   "outputs": [],
   "execution_count": null
  },
  {
   "cell_type": "markdown",
   "id": "4696b723-b631-4d0c-b660-d53c3b4627b0",
   "metadata": {
    "tags": []
   },
   "source": [
    "### Initialization"
   ]
  },
  {
   "cell_type": "code",
   "id": "61d73e11-d05f-4c82-90cd-1a7f20d61707",
   "metadata": {
    "tags": []
   },
   "source": [
    "import os\n",
    "\n",
    "import vertexai\n",
    "from absl import app, flags\n",
    "from dotenv import load_dotenv\n",
    "from vertexai import agent_engines\n",
    "from vertexai.preview.reasoning_engines import AdkApp\n",
    "\n",
    "vertexai.init(\n",
    "    project=PROJECT,\n",
    "    location=LOCATION,\n",
    "    staging_bucket=BUCKET_URI,\n",
    "    experiment=EXPERIMENT_NAME,\n",
    ")"
   ],
   "outputs": [],
   "execution_count": null
  },
  {
   "cell_type": "markdown",
   "id": "62f3f71a-44db-4919-a668-8f78d0408ef9",
   "metadata": {},
   "source": [
    "### Prepare your agent for Agent Engine¶\n",
    "Use reasoning_engines.AdkApp() to wrap your agent to make it deployable to Agent Engine"
   ]
  },
  {
   "cell_type": "code",
   "id": "61196180-5bfb-42e9-81e5-bf51707fdeb9",
   "metadata": {
    "tags": []
   },
   "source": [
    "adk_app = AdkApp(agent=agent.root_agent, enable_tracing=True)"
   ],
   "outputs": [],
   "execution_count": null
  },
  {
   "cell_type": "markdown",
   "id": "943f8b2b-796b-4bd7-9a46-a55f909d0251",
   "metadata": {
    "tags": []
   },
   "source": [
    "### Deploy your agent to Agent Engine\n",
    "This step may take several minutes to finish."
   ]
  },
  {
   "cell_type": "code",
   "id": "3385e1f9-183f-4aa8-b207-a7b812225709",
   "metadata": {
    "tags": []
   },
   "source": [
    "remote_app = agent_engines.create(\n",
    "    adk_app,\n",
    "    display_name=agent.root_agent.name,\n",
    "    requirements=[\n",
    "        \"google-adk (>=1.5.0)\",\n",
    "        \"google-genai (>=1.5.0,<2.0.0)\",\n",
    "    ],\n",
    "    extra_packages=[\"./adk_agents/\"],\n",
    ")\n",
    "print(f\"Created remote agent: {remote_app.resource_name}\")\n"
   ],
   "outputs": [],
   "execution_count": null
  },
  {
   "cell_type": "markdown",
   "id": "cb79886b-d9a4-42c9-9057-ab1c8e47741b",
   "metadata": {
    "tags": []
   },
   "source": [
    "### Try ADK agent on Agent Engine\n",
    "#### Create session (remote)"
   ]
  },
  {
   "cell_type": "code",
   "id": "a66e1aca-4e83-40ee-a075-62f4ee0d0ded",
   "metadata": {
    "tags": []
   },
   "source": [
    "remote_session = remote_app.create_session(user_id=USER_ID)"
   ],
   "outputs": [],
   "execution_count": null
  },
  {
   "cell_type": "markdown",
   "id": "3228281f-c7a1-4979-850e-3a77aaedbeb5",
   "metadata": {},
   "source": [
    "#### Expected output for create_session (remote):"
   ]
  },
  {
   "cell_type": "code",
   "id": "2cdb8c01-7f9c-4a57-bfc6-17728fe80584",
   "metadata": {
    "tags": []
   },
   "source": [
    "remote_session"
   ],
   "outputs": [],
   "execution_count": null
  },
  {
   "cell_type": "markdown",
   "id": "ea085250-f788-4897-98a3-5129b79565d1",
   "metadata": {
    "tags": []
   },
   "source": [
    "#### id is the session ID, and app_name is the resource ID of the deployed agent on Agent Engine."
   ]
  },
  {
   "cell_type": "markdown",
   "id": "a9015cf5-727a-40e7-b31c-6e17af78d2a9",
   "metadata": {
    "tags": []
   },
   "source": [
    "#### List sessions (remote)"
   ]
  },
  {
   "cell_type": "code",
   "id": "93d108fa-7a98-4bee-b359-7cf351fd230c",
   "metadata": {
    "tags": []
   },
   "source": [
    "remote_app.list_sessions(user_id=USER_ID)"
   ],
   "outputs": [],
   "execution_count": null
  },
  {
   "cell_type": "markdown",
   "id": "eecae378-9d00-4382-8575-a8dc124fe135",
   "metadata": {
    "tags": []
   },
   "source": [
    "#### Get a specific session (remote)\n",
    "While using your agent locally, session ID is stored in session.id, when using your agent remotely on Agent Engine, session ID is stored in remote_session[\"id\"]."
   ]
  },
  {
   "cell_type": "code",
   "id": "b6f39e81-8460-43eb-8465-250dc1fb7f0d",
   "metadata": {
    "tags": []
   },
   "source": [
    "remote_app.get_session(user_id=USER_ID, session_id=remote_session[\"id\"])"
   ],
   "outputs": [],
   "execution_count": null
  },
  {
   "cell_type": "markdown",
   "id": "2ff13a35ccd5d2f6",
   "metadata": {},
   "source": [
    "#### Send queries to your agent (remote)"
   ]
  },
  {
   "cell_type": "code",
   "id": "20ab2bd9-e0ae-4726-81fa-7cb2d9836a74",
   "metadata": {
    "tags": []
   },
   "source": [
    "for event in remote_app.stream_query(\n",
    "    user_id=USER_ID,\n",
    "    session_id=remote_session[\"id\"],\n",
    "    message=\"whats the weather in New York\",\n",
    "):\n",
    "    print(event)"
   ],
   "outputs": [],
   "execution_count": null
  },
  {
   "cell_type": "code",
   "id": "f1997b03-903f-4595-a975-ea07b0aa4946",
   "metadata": {
    "tags": []
   },
   "source": [
    "for event in remote_app.stream_query(\n",
    "    user_id=USER_ID,\n",
    "    session_id=remote_session[\"id\"],\n",
    "    message=\"whats the weather in Dublin\",\n",
    "):\n",
    "    print(event)"
   ],
   "outputs": [],
   "execution_count": null
  },
  {
   "cell_type": "code",
   "id": "a72b053b-97c6-43e5-91d0-0b735bc3cafc",
   "metadata": {
    "tags": []
   },
   "source": [
    "from vertexai import agent_engines\n",
    "\n",
    "\n",
    "AGENT_RESOURCE_ID=\"projects/.../locations/us-central1/reasoningEngines/...\"\n",
    "remote_agent = agent_engines.get(AGENT_RESOURCE_ID)\n",
    "remote_agent"
   ],
   "outputs": [],
   "execution_count": null
  },
  {
   "cell_type": "code",
   "id": "f17e44ad-2f5e-4503-9fab-69a626792846",
   "metadata": {
    "tags": []
   },
   "source": [
    "%%writefile ./adk_agents/agent1_weather_lookup/tools.py\n",
    "def get_weather(city: str) -> dict:\n",
    "    \"\"\"Retrieves the current weather report for a specified city.\n",
    "\n",
    "    Args:\n",
    "        city (str): The name of the city (e.g., \"New York\", \"London\", \"Tokyo\").\n",
    "\n",
    "    Returns:\n",
    "        dict: A dictionary containing the weather information.\n",
    "              Includes a 'status' key ('success' or 'error').\n",
    "              If 'success', includes a 'report' key with weather details.\n",
    "              If 'error', includes an 'error_message' key.\n",
    "    \"\"\"\n",
    "    print(f\"--- Tool: get_weather called for city: {city} ---\") # Log tool execution\n",
    "    city_normalized = city.lower().replace(\" \", \"\") # Basic normalization\n",
    "\n",
    "    # Mock weather data\n",
    "    mock_weather_db = {\n",
    "        \"newyork\": {\"status\": \"success\", \"report\": \"The weather in New York is sunny with a temperature of 25°C.\"},\n",
    "        \"london\": {\"status\": \"success\", \"report\": \"It's cloudy in London with a temperature of 15°C.\"},\n",
    "        \"tokyo\": {\"status\": \"success\", \"report\": \"Tokyo is experiencing light rain and a temperature of 18°C.\"},\n",
    "        \"dublin\": {\"status\": \"success\", \"report\": \"Dublin is experiencing rain and a temperature of 14°C.\"},\n",
    "    }\n",
    "\n",
    "    if city_normalized in mock_weather_db:\n",
    "        return mock_weather_db[city_normalized]\n",
    "    else:\n",
    "        return {\"status\": \"error\", \"error_message\": f\"Sorry, I don't have weather information for '{city}'.\"}"
   ],
   "outputs": [],
   "execution_count": null
  },
  {
   "cell_type": "code",
   "id": "e57002c2-dd54-47c6-acfd-4010c8ad0c85",
   "metadata": {
    "tags": []
   },
   "source": [
    "from vertexai import agent_engines\n",
    "\n",
    "adk_app2 = AdkApp(agent=agent.root_agent, enable_tracing=True)\n",
    "\n",
    "agent_engines.update(\n",
    "    resource_name=AGENT_RESOURCE_ID,\n",
    "    agent_engine=adk_app2,\n",
    "    description=\"Weather Agent v2\",\n",
    "    display_name=agent.root_agent.name,\n",
    "    requirements=[\n",
    "        \"google-adk (>=1.5.0)\",\n",
    "        \"google-genai (>=1.5.0,<2.0.0)\",\n",
    "        \"pydantic (>=2.10.6,<3.0.0)\",\n",
    "        \"absl-py (>=2.2.1,<3.0.0)\",\n",
    "    ],\n",
    "    extra_packages=[\"./adk_agents/\"],\n",
    ")"
   ],
   "outputs": [],
   "execution_count": null
  },
  {
   "cell_type": "code",
   "id": "d727c7ea-918f-44d4-ae14-1fed1a4d418b",
   "metadata": {
    "tags": []
   },
   "source": [
    "for event in remote_app.stream_query(\n",
    "    user_id=USER_ID,\n",
    "    session_id=remote_session[\"id\"],\n",
    "    message=\"whats the weather in Dublin\",\n",
    "):\n",
    "    print(event)"
   ],
   "outputs": [],
   "execution_count": null
  },
  {
   "cell_type": "markdown",
   "id": "31650488-1e42-465e-8eab-05d3f092b5fb",
   "metadata": {},
   "source": [
    "### Clean up\n",
    "After you have finished, it is a good practice to clean up your cloud resources. \n",
    "You can delete the deployed Agent Engine instance by using the next code:"
   ]
  },
  {
   "cell_type": "code",
   "id": "ea315675-5ac8-42e5-b871-86229644f2d7",
   "metadata": {
    "tags": []
   },
   "source": [
    "remote_app.delete(force=True)"
   ],
   "outputs": [],
   "execution_count": null
  },
  {
   "cell_type": "markdown",
   "id": "562b6138-4d26-40ca-a306-3470b1136367",
   "metadata": {},
   "source": [
    "Copyright 2025 Google LLC\n",
    "\n",
    "Licensed under the Apache License, Version 2.0 (the \"License\"); you may not use this file except in compliance with the License. You may obtain a copy of the License at\n",
    "\n",
    "https://www.apache.org/licenses/LICENSE-2.0\n",
    "Unless required by applicable law or agreed to in writing, software distributed under the License is distributed on an \"AS IS\" BASIS, WITHOUT WARRANTIES OR CONDITIONS OF ANY KIND, either express or implied. See the License for the specific language governing permissions and limitations under the License."
   ]
  }
 ],
 "metadata": {
  "environment": {
   "kernel": "conda-env-adk_kernel-adk_kernel",
   "name": "workbench-notebooks.m129",
   "type": "gcloud",
   "uri": "us-docker.pkg.dev/deeplearning-platform-release/gcr.io/workbench-notebooks:m129"
  },
  "kernelspec": {
   "display_name": "ADK kernel",
   "language": "python",
   "name": "conda-env-adk_kernel-adk_kernel"
  },
  "language_info": {
   "codemirror_mode": {
    "name": "ipython",
    "version": 3
   },
   "file_extension": ".py",
   "mimetype": "text/x-python",
   "name": "python",
   "nbconvert_exporter": "python",
   "pygments_lexer": "ipython3",
   "version": "3.10.14"
  }
 },
 "nbformat": 4,
 "nbformat_minor": 5
}
