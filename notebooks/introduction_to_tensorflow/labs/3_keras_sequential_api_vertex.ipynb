{
 "cells": [
  {
   "cell_type": "markdown",
   "metadata": {},
   "source": [
    "# Introducing the Keras Sequential API"
   ]
  },
  {
   "cell_type": "markdown",
   "metadata": {},
   "source": [
    "**Learning Objectives**\n",
    "  1. Build a DNN model using the Keras Sequential API\n",
    "  1. Learn how to train a model with Keras\n",
    "  1. Learn how to save/load, and deploy a Keras model on GCP\n",
    "  1. Learn how to deploy and make predictions with the Keras model"
   ]
  },
  {
   "cell_type": "markdown",
   "metadata": {},
   "source": [
    "## Introduction"
   ]
  },
  {
   "cell_type": "markdown",
   "metadata": {},
   "source": [
    "The [Keras sequential API](https://keras.io/models/sequential/) allows you to create Tensorflow models layer-by-layer. This is useful for building most kinds of machine learning models but it does not allow you to create models that share layers, re-use layers or have multiple inputs or outputs. \n",
    "\n",
    "In this lab, we'll see how to build a simple deep neural network model using the Keras sequential api. Once we have trained our model, we will deploy it using Vertex AI and see how to call our model for online prediciton.\n"
   ]
  },
  {
   "cell_type": "markdown",
   "metadata": {},
   "source": [
    "Start by importing the necessary libraries for this lab."
   ]
  },
  {
   "cell_type": "code",
   "execution_count": 42,
   "metadata": {
    "tags": []
   },
   "outputs": [
    {
     "name": "stdout",
     "output_type": "stream",
     "text": [
      "env: PATH=/home/jupyter/.local/bin:/home/jupyter/.local/bin:/home/jupyter/.local/bin:/usr/local/cuda/bin:/opt/conda/bin:/opt/conda/condabin:/usr/local/bin:/usr/bin:/bin:/usr/local/games:/usr/games:/home/jupyter/.local/bin:.\n",
      "2.12.0\n"
     ]
    }
   ],
   "source": [
    "import os\n",
    "import warnings\n",
    "\n",
    "os.environ[\"TF_CPP_MIN_LOG_LEVEL\"] = \"2\"\n",
    "warnings.filterwarnings(\"ignore\")\n",
    "\n",
    "# Set `PATH` to include the directory containing saved_model_cli\n",
    "PATH = %env PATH\n",
    "%env PATH=/home/jupyter/.local/bin:{PATH}\n",
    "\n",
    "import datetime\n",
    "import shutil\n",
    "\n",
    "import numpy as np\n",
    "import pandas as pd\n",
    "import tensorflow as tf\n",
    "from google.cloud import aiplatform\n",
    "from matplotlib import pyplot as plt\n",
    "from tensorflow import keras\n",
    "from tensorflow.keras.callbacks import TensorBoard\n",
    "from tensorflow.keras.layers import *\n",
    "from tensorflow.keras.callbacks import *\n",
    "from tensorflow.keras.models import Sequential\n",
    "\n",
    "print(tf.__version__)\n",
    "%matplotlib inline"
   ]
  },
  {
   "cell_type": "markdown",
   "metadata": {},
   "source": [
    "## Load raw data"
   ]
  },
  {
   "cell_type": "markdown",
   "metadata": {},
   "source": [
    "We will use the taxifare dataset, using the CSV files that we created in the first notebook of this sequence. Those files have been saved into `../data`."
   ]
  },
  {
   "cell_type": "code",
   "execution_count": 2,
   "metadata": {
    "tags": []
   },
   "outputs": [
    {
     "name": "stdout",
     "output_type": "stream",
     "text": [
      "-rw-r--r-- 1 jupyter jupyter 123590 May 12 07:39 ../data/taxi-test.csv\n",
      "-rw-r--r-- 1 jupyter jupyter 579055 May 12 07:39 ../data/taxi-train.csv\n",
      "-rw-r--r-- 1 jupyter jupyter 399562 May 12 07:39 ../data/taxi-valid.csv\n"
     ]
    }
   ],
   "source": [
    "!ls -l ../data/*.csv"
   ]
  },
  {
   "cell_type": "code",
   "execution_count": 3,
   "metadata": {
    "tags": []
   },
   "outputs": [
    {
     "name": "stdout",
     "output_type": "stream",
     "text": [
      "==> ../data/taxi-test.csv <==\n",
      "6.0,2013-03-27 03:35:00 UTC,-73.977672,40.784052,-73.965332,40.801025,2,0\n",
      "19.3,2012-05-10 18:43:16 UTC,-73.954366,40.778924,-74.004094,40.723104,1,1\n",
      "7.5,2014-05-20 23:09:00 UTC,-73.999165,40.738377,-74.003473,40.723862,2,2\n",
      "12.5,2015-02-23 19:51:31 UTC,-73.9652099609375,40.76948165893555,-73.98949432373047,40.739742279052734,1,3\n",
      "10.9,2011-03-19 03:32:00 UTC,-73.99259,40.742957,-73.989908,40.711053,1,4\n",
      "7.0,2012-09-18 12:51:11 UTC,-73.971195,40.751566,-73.975922,40.756361,1,5\n",
      "19.0,2014-05-20 23:09:00 UTC,-73.998392,40.74517,-73.939845,40.74908,1,6\n",
      "8.9,2012-07-18 08:46:08 UTC,-73.997638,40.756541,-73.973303,40.762019,1,7\n",
      "4.5,2010-07-11 20:39:08 UTC,-73.976738,40.751321,-73.986671,40.74883,1,8\n",
      "7.0,2013-12-12 02:16:40 UTC,-73.985024,40.767537,-73.981273,40.779302,1,9\n",
      "\n",
      "==> ../data/taxi-train.csv <==\n",
      "11.3,2011-01-28 20:42:59 UTC,-73.999022,40.739146,-73.990369,40.717866,1,0\n",
      "7.7,2011-06-27 04:28:06 UTC,-73.987443,40.729221,-73.979013,40.758641,1,1\n",
      "10.5,2011-04-03 00:54:53 UTC,-73.982539,40.735725,-73.954797,40.778388,1,2\n",
      "16.2,2009-04-10 04:11:56 UTC,-74.001945,40.740505,-73.91385,40.758559,1,3\n",
      "33.5,2014-02-24 18:22:00 UTC,-73.993372,40.753382,-73.8609,40.732897,2,4\n",
      "6.9,2011-12-10 00:25:23 UTC,-73.996237,40.721848,-73.989416,40.718052,1,5\n",
      "6.1,2012-09-01 14:30:19 UTC,-73.977048,40.758461,-73.984899,40.744693,2,6\n",
      "9.5,2012-11-08 13:28:07 UTC,-73.969402,40.757545,-73.950049,40.776079,1,7\n",
      "9.0,2014-07-15 11:37:25 UTC,-73.979318,40.760949,-73.95767,40.773724,1,8\n",
      "3.3,2009-11-09 18:06:58 UTC,-73.955675,40.779154,-73.961172,40.772368,1,9\n",
      "\n",
      "==> ../data/taxi-valid.csv <==\n",
      "6.1,2009-07-16 17:41:00+00:00,-73.967683,40.792738,-73.968902,40.791675,2.0,unused\n",
      "16.0,2012-12-10 21:12:00+00:00,-74.005318,40.727682,-73.970285,40.756618,3.0,unused\n",
      "12.0,2014-02-24 20:57:00+00:00,-73.983618,40.771067,-73.943078,40.777297,1.0,unused\n",
      "16.5,2012-03-31 23:16:00+00:00,-73.934025,40.802195,-73.94788,40.755947,5.0,unused\n",
      "19.5,2015-05-02 11:39:19+00:00,-73.98455810546875,40.71536636352539,-73.97948455810547,40.75907897949219,1.0,unused\n",
      "6.1,2010-06-21 15:21:11+00:00,-73.978104,40.756639,-73.991559,40.749858,1.0,unused\n",
      "5.3,2010-06-28 08:05:20+00:00,-73.990191,40.756952,-73.97772,40.760308,1.0,unused\n",
      "14.5,2013-03-23 20:15:50+00:00,-73.986321,40.761607,-73.954787,40.805151,1.0,unused\n",
      "8.5,2014-02-24 20:57:00+00:00,-73.974252,40.757492,-73.985088,40.736077,3.0,unused\n",
      "13.0,2013-05-11 01:13:00+00:00,-73.984985,40.728037,-73.991272,40.754652,1.0,unused\n"
     ]
    }
   ],
   "source": [
    "!head ../data/taxi*.csv"
   ]
  },
  {
   "cell_type": "markdown",
   "metadata": {},
   "source": [
    "## Use tf.data to read the CSV files"
   ]
  },
  {
   "cell_type": "markdown",
   "metadata": {},
   "source": [
    "We wrote these functions for reading data from the csv files above in the [previous notebook](./2a_dataset_api.ipynb)."
   ]
  },
  {
   "cell_type": "code",
   "execution_count": 4,
   "metadata": {
    "tags": []
   },
   "outputs": [],
   "source": [
    "def parse_csv(row):\n",
    "    ds = tf.strings.split(row, \",\")\n",
    "    label = tf.strings.to_number(ds[0])\n",
    "    features = tf.strings.to_number(\n",
    "        ds[2:6]\n",
    "    )  # return pickup and drop off location only\n",
    "    return features, label\n",
    "\n",
    "\n",
    "def create_dataset(pattern, batch_size):\n",
    "    ds = tf.data.TextLineDataset(pattern)\n",
    "    ds = ds.map(parse_csv).batch(batch_size)\n",
    "    return ds"
   ]
  },
  {
   "cell_type": "markdown",
   "metadata": {},
   "source": [
    "## Build a simple keras DNN model"
   ]
  },
  {
   "cell_type": "markdown",
   "metadata": {},
   "source": [
    "Next, we create the DNN model. The Sequential model is a linear stack of layers and when building a model using the Sequential API, you configure each layer of the model in turn. Once all the layers have been added, you compile the model. "
   ]
  },
  {
   "cell_type": "markdown",
   "metadata": {},
   "source": [
    "**Exercise.** Create a deep neural network using Keras's Sequential API. In the cell below, use the `tf.keras.layers` library to create all the layers for your deep neural network. "
   ]
  },
  {
   "cell_type": "code",
   "execution_count": 147,
   "metadata": {
    "tags": []
   },
   "outputs": [],
   "source": [
    "# Build a keras DNN model using Sequential API\n",
    "\n",
    "\n",
    "model = Sequential([\n",
    "    Dense(512, activation='tanh', input_shape=(4,)),\n",
    "    Dense(512, activation='relu'),\n",
    "    Dense(512, activation='relu'),\n",
    "    Dense(512, activation='relu'),\n",
    "    Dense(512, activation='relu'),\n",
    "    Dense(512, activation='relu'),\n",
    "    Dense(1, activation='linear')\n",
    "])"
   ]
  },
  {
   "cell_type": "markdown",
   "metadata": {},
   "source": [
    "Next, to prepare the model for training, you must configure the learning process. This is done using the compile method. The compile method takes three arguments:\n",
    "\n",
    "* An optimizer. This could be the string identifier of an existing optimizer (such as `rmsprop` or `adagrad`), or an instance of the [Optimizer class](https://www.tensorflow.org/versions/r2.0/api_docs/python/tf/keras/optimizers).\n",
    "* A loss function. This is the objective that the model will try to minimize. It can be the string identifier of an existing loss function from the [Losses class](https://www.tensorflow.org/versions/r2.0/api_docs/python/tf/keras/losses) (such as categorical_crossentropy or mse), or it can be a custom objective function.\n",
    "* A list of metrics. For any machine learning problem you will want a set of metrics to evaluate your model. A metric could be the string identifier of an existing metric or a custom metric function.\n",
    "\n",
    "We will add an additional custom metric called `rmse` to our list of metrics which will return the root mean square error. "
   ]
  },
  {
   "cell_type": "markdown",
   "metadata": {},
   "source": [
    "**Exercise.** Compile the model you created above. Create a custom loss function called `rmse` which computes the root mean squared error between `y_true` and `y_pred`. Pass this function to the model as an evaluation metric. "
   ]
  },
  {
   "cell_type": "code",
   "execution_count": 148,
   "metadata": {
    "tags": []
   },
   "outputs": [],
   "source": [
    "# Create a custom evalution metric\n",
    "def rmse(y_true, y_pred):\n",
    "    return tf.sqrt(tf.reduce_mean(tf.square(y_pred - y_true)))\n",
    "\n",
    "\n",
    "\n",
    "# Compile the keras model\n",
    "model.compile(optimizer=tf.keras.optimizers.Adam(learning_rate=0.01), loss=\"mse\", metrics=[rmse, \"mse\"])"
   ]
  },
  {
   "cell_type": "markdown",
   "metadata": {},
   "source": [
    "## Train the model"
   ]
  },
  {
   "cell_type": "markdown",
   "metadata": {},
   "source": [
    "To train your model, Keras provides two functions that can be used:\n",
    " 1. `.fit()` for training a model for a fixed number of epochs (iterations on a dataset).\n",
    " 2. `.train_on_batch()` runs a single gradient update on a single batch of data. \n",
    " \n",
    "The `.fit()` function works for various formats of data such as Numpy array, list of Tensors tf.data and Python generators. The `.train_on_batch()` method is for more fine-grained control over training and accepts only a single batch of data.\n",
    "\n",
    "Our `create_dataset` function above generates batches of training examples, so we can use `.fit`. \n",
    "\n",
    "We start by setting up some parameters for our training job and create the data generators for the training and validation data.\n"
   ]
  },
  {
   "cell_type": "code",
   "execution_count": 149,
   "metadata": {
    "tags": []
   },
   "outputs": [],
   "source": [
    "trainds = create_dataset(pattern=\"../data/taxi-train.csv\", batch_size=256)\n",
    "\n",
    "evalds = create_dataset(pattern=\"../data/taxi-valid.csv\", batch_size=32)"
   ]
  },
  {
   "cell_type": "markdown",
   "metadata": {},
   "source": [
    "There are various arguments you can set when calling the [.fit method](https://www.tensorflow.org/versions/r2.0/api_docs/python/tf/keras/Model#fit). Here `x` specifies the input data which in our case is a `tf.data` dataset returning a tuple of (inputs, targets). The `epochs` parameter is used to define the number of epochs. Here we are training for `10` epochs. Lastly, for the `callback` argument we specify a Tensorboard callback so we can inspect Tensorboard after training. "
   ]
  },
  {
   "cell_type": "markdown",
   "metadata": {},
   "source": [
    "**Exercise.** In the cell below, you will train your model. Train your model using `.fit()`, saving the model training output to a variable called `history`."
   ]
  },
  {
   "cell_type": "code",
   "execution_count": 150,
   "metadata": {
    "tags": []
   },
   "outputs": [
    {
     "name": "stdout",
     "output_type": "stream",
     "text": [
      "Epoch 1/100\n",
      "29/29 [==============================] - 3s 69ms/step - loss: 6776.0332 - rmse: 31.2079 - mse: 6776.0332 - val_loss: 88.1546 - val_rmse: 8.8790 - val_mse: 88.1546 - lr: 0.0100\n",
      "Epoch 2/100\n",
      "29/29 [==============================] - 2s 59ms/step - loss: 96.8433 - rmse: 9.7556 - mse: 96.8433 - val_loss: 88.6294 - val_rmse: 8.8803 - val_mse: 88.6294 - lr: 0.0100\n",
      "Epoch 3/100\n",
      "29/29 [==============================] - 2s 73ms/step - loss: 96.4911 - rmse: 9.7379 - mse: 96.4911 - val_loss: 88.0671 - val_rmse: 8.8879 - val_mse: 88.0671 - lr: 0.0100\n",
      "Epoch 4/100\n",
      "29/29 [==============================] - 2s 74ms/step - loss: 96.2824 - rmse: 9.7266 - mse: 96.2824 - val_loss: 88.0975 - val_rmse: 8.8826 - val_mse: 88.0975 - lr: 0.0100\n",
      "Epoch 5/100\n",
      "29/29 [==============================] - 2s 71ms/step - loss: 96.4164 - rmse: 9.7336 - mse: 96.4164 - val_loss: 88.1573 - val_rmse: 8.8789 - val_mse: 88.1573 - lr: 0.0100\n",
      "Epoch 6/100\n",
      "29/29 [==============================] - 2s 81ms/step - loss: 96.4150 - rmse: 9.7336 - mse: 96.4150 - val_loss: 88.1371 - val_rmse: 8.8798 - val_mse: 88.1371 - lr: 0.0100\n",
      "Epoch 7/100\n",
      "29/29 [==============================] - 2s 60ms/step - loss: 96.3288 - rmse: 9.7291 - mse: 96.3288 - val_loss: 88.1078 - val_rmse: 8.8816 - val_mse: 88.1078 - lr: 0.0100\n",
      "Epoch 8/100\n",
      "27/29 [==========================>...] - ETA: 0s - loss: 95.3076 - rmse: 9.6482 - mse: 95.3076\n",
      "Epoch 8: ReduceLROnPlateau reducing learning rate to 0.004999999888241291.\n",
      "29/29 [==============================] - 2s 60ms/step - loss: 96.2450 - rmse: 9.7245 - mse: 96.2450 - val_loss: 88.0749 - val_rmse: 8.8988 - val_mse: 88.0749 - lr: 0.0100\n",
      "Epoch 9/100\n",
      "29/29 [==============================] - 2s 60ms/step - loss: 95.9567 - rmse: 9.7096 - mse: 95.9567 - val_loss: 88.1601 - val_rmse: 8.8788 - val_mse: 88.1601 - lr: 0.0050\n",
      "Epoch 10/100\n",
      "29/29 [==============================] - 2s 60ms/step - loss: 95.9077 - rmse: 9.7065 - mse: 95.9077 - val_loss: 88.0637 - val_rmse: 8.8899 - val_mse: 88.0637 - lr: 0.0050\n",
      "Epoch 11/100\n",
      "29/29 [==============================] - 2s 60ms/step - loss: 95.8353 - rmse: 9.7025 - mse: 95.8353 - val_loss: 88.0818 - val_rmse: 8.8845 - val_mse: 88.0818 - lr: 0.0050\n",
      "Epoch 12/100\n",
      "29/29 [==============================] - 2s 60ms/step - loss: 95.8785 - rmse: 9.7049 - mse: 95.8785 - val_loss: 88.0944 - val_rmse: 8.8829 - val_mse: 88.0944 - lr: 0.0050\n",
      "Epoch 13/100\n",
      "29/29 [==============================] - 2s 60ms/step - loss: 95.9019 - rmse: 9.7061 - mse: 95.9019 - val_loss: 88.1063 - val_rmse: 8.8818 - val_mse: 88.1063 - lr: 0.0050\n",
      "Epoch 14/100\n",
      "29/29 [==============================] - 2s 61ms/step - loss: 95.9203 - rmse: 9.7071 - mse: 95.9203 - val_loss: 88.1170 - val_rmse: 8.8809 - val_mse: 88.1170 - lr: 0.0050\n",
      "Epoch 15/100\n",
      "29/29 [==============================] - ETA: 0s - loss: 95.9510 - rmse: 9.7087 - mse: 95.9510\n",
      "Epoch 15: ReduceLROnPlateau reducing learning rate to 0.0024999999441206455.\n",
      "29/29 [==============================] - 2s 66ms/step - loss: 95.9510 - rmse: 9.7087 - mse: 95.9510 - val_loss: 88.2720 - val_rmse: 8.8767 - val_mse: 88.2720 - lr: 0.0050\n",
      "Epoch 16/100\n",
      "29/29 [==============================] - 2s 61ms/step - loss: 95.6121 - rmse: 9.6920 - mse: 95.6121 - val_loss: 88.1737 - val_rmse: 8.9178 - val_mse: 88.1737 - lr: 0.0025\n",
      "Epoch 17/100\n",
      "29/29 [==============================] - 2s 60ms/step - loss: 95.6153 - rmse: 9.6924 - mse: 95.6153 - val_loss: 88.3016 - val_rmse: 8.9343 - val_mse: 88.3016 - lr: 0.0025\n",
      "Epoch 18/100\n",
      "29/29 [==============================] - 2s 59ms/step - loss: 95.6621 - rmse: 9.6950 - mse: 95.6621 - val_loss: 88.3644 - val_rmse: 8.9415 - val_mse: 88.3644 - lr: 0.0025\n",
      "Epoch 19/100\n",
      "29/29 [==============================] - 2s 59ms/step - loss: 95.6704 - rmse: 9.6953 - mse: 95.6704 - val_loss: 88.3768 - val_rmse: 8.9429 - val_mse: 88.3768 - lr: 0.0025\n",
      "Epoch 20/100\n",
      "27/29 [==========================>...] - ETA: 0s - loss: 94.7185 - rmse: 9.6181 - mse: 94.7185\n",
      "Epoch 20: ReduceLROnPlateau reducing learning rate to 0.0012499999720603228.\n",
      "29/29 [==============================] - 2s 59ms/step - loss: 95.6742 - rmse: 9.6954 - mse: 95.6742 - val_loss: 88.3842 - val_rmse: 8.9437 - val_mse: 88.3842 - lr: 0.0025\n",
      "Epoch 21/100\n",
      "29/29 [==============================] - 2s 59ms/step - loss: 95.5872 - rmse: 9.6913 - mse: 95.5872 - val_loss: 88.1610 - val_rmse: 8.9159 - val_mse: 88.1610 - lr: 0.0012\n",
      "Epoch 22/100\n",
      "29/29 [==============================] - 2s 59ms/step - loss: 95.5408 - rmse: 9.6886 - mse: 95.5408 - val_loss: 88.1805 - val_rmse: 8.9188 - val_mse: 88.1805 - lr: 0.0012\n",
      "Epoch 23/100\n",
      "29/29 [==============================] - 2s 59ms/step - loss: 95.5491 - rmse: 9.6891 - mse: 95.5491 - val_loss: 88.1736 - val_rmse: 8.9178 - val_mse: 88.1736 - lr: 0.0012\n",
      "Epoch 24/100\n",
      "29/29 [==============================] - 2s 59ms/step - loss: 95.5473 - rmse: 9.6890 - mse: 95.5473 - val_loss: 88.1686 - val_rmse: 8.9170 - val_mse: 88.1686 - lr: 0.0012\n",
      "Epoch 25/100\n",
      "27/29 [==========================>...] - ETA: 0s - loss: 94.5917 - rmse: 9.6117 - mse: 94.5917\n",
      "Epoch 25: ReduceLROnPlateau reducing learning rate to 0.0006249999860301614.\n",
      "29/29 [==============================] - 2s 58ms/step - loss: 95.5475 - rmse: 9.6891 - mse: 95.5475 - val_loss: 88.1661 - val_rmse: 8.9166 - val_mse: 88.1661 - lr: 0.0012\n",
      "Epoch 26/100\n",
      "29/29 [==============================] - 2s 59ms/step - loss: 95.5616 - rmse: 9.6892 - mse: 95.5616 - val_loss: 88.2436 - val_rmse: 8.9272 - val_mse: 88.2436 - lr: 6.2500e-04\n",
      "Epoch 27/100\n",
      "29/29 [==============================] - 2s 59ms/step - loss: 95.6425 - rmse: 9.6939 - mse: 95.6425 - val_loss: 88.2827 - val_rmse: 8.9321 - val_mse: 88.2827 - lr: 6.2500e-04\n",
      "Epoch 28/100\n",
      "29/29 [==============================] - 2s 58ms/step - loss: 95.6640 - rmse: 9.6951 - mse: 95.6640 - val_loss: 88.3033 - val_rmse: 8.9345 - val_mse: 88.3033 - lr: 6.2500e-04\n",
      "Epoch 29/100\n",
      "29/29 [==============================] - 2s 60ms/step - loss: 95.6668 - rmse: 9.6953 - mse: 95.6668 - val_loss: 88.3158 - val_rmse: 8.9360 - val_mse: 88.3158 - lr: 6.2500e-04\n",
      "Epoch 30/100\n",
      "27/29 [==========================>...] - ETA: 0s - loss: 94.7163 - rmse: 9.6182 - mse: 94.7163\n",
      "Epoch 30: ReduceLROnPlateau reducing learning rate to 0.0003124999930150807.\n",
      "29/29 [==============================] - 2s 59ms/step - loss: 95.6649 - rmse: 9.6952 - mse: 95.6649 - val_loss: 88.3248 - val_rmse: 8.9370 - val_mse: 88.3248 - lr: 6.2500e-04\n",
      "Epoch 31/100\n",
      "29/29 [==============================] - 2s 59ms/step - loss: 95.7176 - rmse: 9.6983 - mse: 95.7176 - val_loss: 88.0663 - val_rmse: 8.8882 - val_mse: 88.0663 - lr: 3.1250e-04\n",
      "Epoch 32/100\n",
      "29/29 [==============================] - 2s 59ms/step - loss: 95.6098 - rmse: 9.6926 - mse: 95.6098 - val_loss: 88.0686 - val_rmse: 8.8874 - val_mse: 88.0686 - lr: 3.1250e-04\n",
      "Epoch 33/100\n",
      "29/29 [==============================] - 2s 60ms/step - loss: 95.5811 - rmse: 9.6908 - mse: 95.5811 - val_loss: 88.0647 - val_rmse: 8.8891 - val_mse: 88.0647 - lr: 3.1250e-04\n",
      "Epoch 34/100\n",
      "29/29 [==============================] - 2s 61ms/step - loss: 95.5868 - rmse: 9.6911 - mse: 95.5868 - val_loss: 88.0642 - val_rmse: 8.8894 - val_mse: 88.0642 - lr: 3.1250e-04\n",
      "Epoch 35/100\n",
      "27/29 [==========================>...] - ETA: 0s - loss: 94.6363 - rmse: 9.6140 - mse: 94.6363\n",
      "Epoch 35: ReduceLROnPlateau reducing learning rate to 0.00015624999650754035.\n",
      "29/29 [==============================] - 2s 59ms/step - loss: 95.5908 - rmse: 9.6914 - mse: 95.5908 - val_loss: 88.0639 - val_rmse: 8.8896 - val_mse: 88.0639 - lr: 3.1250e-04\n",
      "Epoch 36/100\n",
      "29/29 [==============================] - 2s 73ms/step - loss: 95.5468 - rmse: 9.6894 - mse: 95.5468 - val_loss: 88.0835 - val_rmse: 8.8842 - val_mse: 88.0835 - lr: 1.5625e-04\n",
      "Epoch 37/100\n",
      "29/29 [==============================] - 2s 74ms/step - loss: 95.5183 - rmse: 9.6874 - mse: 95.5183 - val_loss: 88.0761 - val_rmse: 8.8855 - val_mse: 88.0761 - lr: 1.5625e-04\n",
      "Epoch 38/100\n",
      "29/29 [==============================] - 2s 71ms/step - loss: 95.5247 - rmse: 9.6879 - mse: 95.5247 - val_loss: 88.0776 - val_rmse: 8.8852 - val_mse: 88.0776 - lr: 1.5625e-04\n",
      "Epoch 39/100\n",
      "29/29 [==============================] - 2s 59ms/step - loss: 95.5241 - rmse: 9.6878 - mse: 95.5241 - val_loss: 88.0771 - val_rmse: 8.8853 - val_mse: 88.0771 - lr: 1.5625e-04\n",
      "Epoch 40/100\n",
      "27/29 [==========================>...] - ETA: 0s - loss: 94.5654 - rmse: 9.6101 - mse: 94.5654\n",
      "Epoch 40: ReduceLROnPlateau reducing learning rate to 0.0001.\n",
      "29/29 [==============================] - 2s 58ms/step - loss: 95.5253 - rmse: 9.6879 - mse: 95.5253 - val_loss: 88.0771 - val_rmse: 8.8853 - val_mse: 88.0771 - lr: 1.5625e-04\n",
      "Epoch 41/100\n",
      "29/29 [==============================] - 2s 59ms/step - loss: 95.5095 - rmse: 9.6871 - mse: 95.5095 - val_loss: 88.0781 - val_rmse: 8.8851 - val_mse: 88.0781 - lr: 1.0000e-04\n",
      "Epoch 42/100\n",
      "29/29 [==============================] - 2s 59ms/step - loss: 95.5082 - rmse: 9.6870 - mse: 95.5082 - val_loss: 88.0788 - val_rmse: 8.8850 - val_mse: 88.0788 - lr: 1.0000e-04\n",
      "Epoch 43/100\n",
      "29/29 [==============================] - 2s 59ms/step - loss: 95.5085 - rmse: 9.6870 - mse: 95.5085 - val_loss: 88.0785 - val_rmse: 8.8851 - val_mse: 88.0785 - lr: 1.0000e-04\n",
      "Epoch 44/100\n",
      "29/29 [==============================] - 2s 59ms/step - loss: 95.5090 - rmse: 9.6870 - mse: 95.5090 - val_loss: 88.0786 - val_rmse: 8.8850 - val_mse: 88.0786 - lr: 1.0000e-04\n",
      "Epoch 45/100\n",
      "29/29 [==============================] - 2s 60ms/step - loss: 95.5094 - rmse: 9.6870 - mse: 95.5094 - val_loss: 88.0785 - val_rmse: 8.8851 - val_mse: 88.0785 - lr: 1.0000e-04\n",
      "Epoch 46/100\n",
      "29/29 [==============================] - 2s 84ms/step - loss: 95.5098 - rmse: 9.6870 - mse: 95.5098 - val_loss: 88.0785 - val_rmse: 8.8851 - val_mse: 88.0785 - lr: 1.0000e-04\n",
      "Epoch 47/100\n",
      "29/29 [==============================] - 2s 61ms/step - loss: 95.5102 - rmse: 9.6871 - mse: 95.5102 - val_loss: 88.0785 - val_rmse: 8.8851 - val_mse: 88.0785 - lr: 1.0000e-04\n",
      "Epoch 48/100\n",
      "29/29 [==============================] - 2s 61ms/step - loss: 95.5106 - rmse: 9.6871 - mse: 95.5106 - val_loss: 88.0785 - val_rmse: 8.8851 - val_mse: 88.0785 - lr: 1.0000e-04\n",
      "Epoch 49/100\n",
      "29/29 [==============================] - 2s 60ms/step - loss: 95.5110 - rmse: 9.6871 - mse: 95.5110 - val_loss: 88.0784 - val_rmse: 8.8851 - val_mse: 88.0784 - lr: 1.0000e-04\n",
      "Epoch 50/100\n",
      "29/29 [==============================] - 2s 59ms/step - loss: 95.5114 - rmse: 9.6871 - mse: 95.5114 - val_loss: 88.0784 - val_rmse: 8.8851 - val_mse: 88.0784 - lr: 1.0000e-04\n",
      "Epoch 51/100\n",
      "29/29 [==============================] - 2s 59ms/step - loss: 95.5118 - rmse: 9.6872 - mse: 95.5118 - val_loss: 88.0784 - val_rmse: 8.8851 - val_mse: 88.0784 - lr: 1.0000e-04\n",
      "Epoch 52/100\n",
      "29/29 [==============================] - 2s 59ms/step - loss: 95.5122 - rmse: 9.6872 - mse: 95.5122 - val_loss: 88.0784 - val_rmse: 8.8851 - val_mse: 88.0784 - lr: 1.0000e-04\n",
      "Epoch 53/100\n",
      "29/29 [==============================] - 2s 58ms/step - loss: 95.5126 - rmse: 9.6872 - mse: 95.5126 - val_loss: 88.0784 - val_rmse: 8.8851 - val_mse: 88.0784 - lr: 1.0000e-04\n",
      "Epoch 54/100\n",
      "29/29 [==============================] - 2s 59ms/step - loss: 95.5130 - rmse: 9.6872 - mse: 95.5130 - val_loss: 88.0783 - val_rmse: 8.8851 - val_mse: 88.0783 - lr: 1.0000e-04\n",
      "Epoch 55/100\n",
      "29/29 [==============================] - 2s 59ms/step - loss: 95.5134 - rmse: 9.6872 - mse: 95.5134 - val_loss: 88.0783 - val_rmse: 8.8851 - val_mse: 88.0783 - lr: 1.0000e-04\n",
      "Epoch 56/100\n",
      "29/29 [==============================] - 2s 60ms/step - loss: 95.5138 - rmse: 9.6873 - mse: 95.5138 - val_loss: 88.0783 - val_rmse: 8.8851 - val_mse: 88.0783 - lr: 1.0000e-04\n",
      "Epoch 57/100\n",
      "29/29 [==============================] - 2s 58ms/step - loss: 95.5142 - rmse: 9.6873 - mse: 95.5142 - val_loss: 88.0783 - val_rmse: 8.8851 - val_mse: 88.0783 - lr: 1.0000e-04\n",
      "Epoch 58/100\n",
      "29/29 [==============================] - 2s 58ms/step - loss: 95.5146 - rmse: 9.6873 - mse: 95.5146 - val_loss: 88.0782 - val_rmse: 8.8851 - val_mse: 88.0782 - lr: 1.0000e-04\n",
      "Epoch 59/100\n",
      "29/29 [==============================] - 2s 59ms/step - loss: 95.5150 - rmse: 9.6873 - mse: 95.5150 - val_loss: 88.0782 - val_rmse: 8.8851 - val_mse: 88.0782 - lr: 1.0000e-04\n",
      "Epoch 60/100\n",
      "29/29 [==============================] - 2s 59ms/step - loss: 95.5154 - rmse: 9.6874 - mse: 95.5154 - val_loss: 88.0781 - val_rmse: 8.8851 - val_mse: 88.0781 - lr: 1.0000e-04\n",
      "CPU times: user 4min 59s, sys: 19.5 s, total: 5min 18s\n",
      "Wall time: 1min 50s\n"
     ]
    }
   ],
   "source": [
    "%%time\n",
    "\n",
    "early_stopping = EarlyStopping(  # monitor='val_loss',\n",
    "                               min_delta=0.0,\n",
    "                               patience=50,)\n",
    "\n",
    "reduce_lr = ReduceLROnPlateau(  # monitor='val_loss',\n",
    "                              factor=0.5,\n",
    "                              patience=5,\n",
    "                              min_lr=0.0001,\n",
    "                              verbose=1)\n",
    "\n",
    "\n",
    "\n",
    "LOGDIR = \"./taxi_trained\"\n",
    "history = model.fit(trainds,\n",
    "                     epochs=100,\n",
    "                     validation_data=evalds,\n",
    "                     verbose=1,\n",
    "                     callbacks=[early_stopping, reduce_lr],\n",
    "                     )\n"
   ]
  },
  {
   "cell_type": "markdown",
   "metadata": {},
   "source": [
    "### High-level model evaluation"
   ]
  },
  {
   "cell_type": "markdown",
   "metadata": {},
   "source": [
    "Once we've run data through the model, we can call `.summary()` on the model to get a high-level summary of our network. We can also plot the training and evaluation curves for the metrics we computed above. "
   ]
  },
  {
   "cell_type": "code",
   "execution_count": 146,
   "metadata": {
    "tags": []
   },
   "outputs": [
    {
     "name": "stdout",
     "output_type": "stream",
     "text": [
      "Model: \"sequential_19\"\n",
      "_________________________________________________________________\n",
      " Layer (type)                Output Shape              Param #   \n",
      "=================================================================\n",
      " dense_102 (Dense)           multiple                  0 (unused)\n",
      "                                                                 \n",
      " dense_103 (Dense)           multiple                  0 (unused)\n",
      "                                                                 \n",
      " dense_104 (Dense)           multiple                  0 (unused)\n",
      "                                                                 \n",
      " dense_105 (Dense)           multiple                  0 (unused)\n",
      "                                                                 \n",
      " dense_106 (Dense)           multiple                  0 (unused)\n",
      "                                                                 \n",
      " dense_107 (Dense)           multiple                  0 (unused)\n",
      "                                                                 \n",
      " dense_108 (Dense)           multiple                  0 (unused)\n",
      "                                                                 \n",
      " dense_109 (Dense)           multiple                  0 (unused)\n",
      "                                                                 \n",
      "=================================================================\n",
      "Total params: 0\n",
      "Trainable params: 0\n",
      "Non-trainable params: 0\n",
      "_________________________________________________________________\n"
     ]
    }
   ],
   "source": [
    "model.summary()"
   ]
  },
  {
   "cell_type": "markdown",
   "metadata": {},
   "source": [
    "Running `.fit` returns a History object which collects all the events recorded during training. Similar to Tensorboard, we can plot the training and validation curves for the model loss and rmse by accessing these elements of the History object."
   ]
  },
  {
   "cell_type": "code",
   "execution_count": 135,
   "metadata": {
    "tags": []
   },
   "outputs": [
    {
     "data": {
      "text/plain": [
       "<Axes: >"
      ]
     },
     "execution_count": 135,
     "metadata": {},
     "output_type": "execute_result"
    },
    {
     "data": {
      "image/png": "[encoded data removed]",
      "text/plain": [
       "<Figure size 640x480 with 1 Axes>"
      ]
     },
     "metadata": {},
     "output_type": "display_data"
    }
   ],
   "source": [
    "RMSE_COLS = [\"rmse\", \"val_rmse\"]\n",
    "\n",
    "pd.DataFrame(history.history)[RMSE_COLS].plot()"
   ]
  },
  {
   "cell_type": "code",
   "execution_count": 136,
   "metadata": {
    "tags": []
   },
   "outputs": [
    {
     "data": {
      "text/plain": [
       "<Axes: >"
      ]
     },
     "execution_count": 136,
     "metadata": {},
     "output_type": "execute_result"
    },
    {
     "data": {
      "image/png": "[encoded data removed]",
      "text/plain": [
       "<Figure size 640x480 with 1 Axes>"
      ]
     },
     "metadata": {},
     "output_type": "display_data"
    }
   ],
   "source": [
    "LOSS_COLS = [\"loss\", \"val_loss\"]\n",
    "\n",
    "pd.DataFrame(history.history)[LOSS_COLS].plot()"
   ]
  },
  {
   "cell_type": "markdown",
   "metadata": {},
   "source": [
    "# Making predictions with our model"
   ]
  },
  {
   "cell_type": "markdown",
   "metadata": {},
   "source": [
    "To make predictions with our trained model, we can call the [predict method](https://www.tensorflow.org/api_docs/python/tf/keras/Model#predict), passing to it a dictionary of values. The `steps` parameter determines the total number of steps before declaring the prediction round finished. Here since we have just one example, we set `steps=1` (setting `steps=None` would also work). Note, however, that if x is a `tf.data` dataset or a dataset iterator, and steps is set to None, predict will run until the input dataset is exhausted."
   ]
  },
  {
   "cell_type": "code",
   "execution_count": 51,
   "metadata": {
    "tags": []
   },
   "outputs": [
    {
     "name": "stdout",
     "output_type": "stream",
     "text": [
      "1/1 [==============================] - 0s 128ms/step\n"
     ]
    },
    {
     "data": {
      "text/plain": [
       "array([[11.306651]], dtype=float32)"
      ]
     },
     "execution_count": 51,
     "metadata": {},
     "output_type": "execute_result"
    }
   ],
   "source": [
    "model.predict([[-73.982683, 40.742104, -73.983766, 40.755174]])"
   ]
  },
  {
   "cell_type": "markdown",
   "metadata": {},
   "source": [
    "# Export and deploy our model"
   ]
  },
  {
   "cell_type": "markdown",
   "metadata": {},
   "source": [
    "Of course, making individual predictions is not realistic, because we can't expect client code to have a model object in memory. For others to use our trained model, we'll have to export our model to a file, and expect client code to instantiate the model from that exported file. \n",
    "\n",
    "We'll export the model to a TensorFlow SavedModel format. Once we have a model in this format, we have lots of ways to \"serve\" the model, from a web application, from JavaScript, from mobile applications, etc."
   ]
  },
  {
   "cell_type": "markdown",
   "metadata": {},
   "source": [
    "**Exercise.** Use `tf.saved_model.save` to export the trained model to a Tensorflow SavedModel format. Reference the [documentation for `tf.saved_model.save`](https://www.tensorflow.org/api_docs/python/tf/saved_model/save) as you fill in the code for the cell below.\n",
    "\n",
    "Next, print the signature of your saved model using the SavedModel Command Line Interface command `saved_model_cli`. You can read more about the command line interface and the `show` and `run` commands it supports in the [documentation here](https://www.tensorflow.org/guide/saved_model#overview_of_commands). "
   ]
  },
  {
   "cell_type": "code",
   "execution_count": 52,
   "metadata": {
    "tags": []
   },
   "outputs": [
    {
     "name": "stderr",
     "output_type": "stream",
     "text": [
      "WARNING:absl:Found untraced functions such as _update_step_xla while saving (showing 1 of 1). These functions will not be directly callable after loading.\n"
     ]
    },
    {
     "name": "stdout",
     "output_type": "stream",
     "text": [
      "INFO:tensorflow:Assets written to: ./export/savedmodel/20250513032957/assets\n"
     ]
    },
    {
     "name": "stderr",
     "output_type": "stream",
     "text": [
      "INFO:tensorflow:Assets written to: ./export/savedmodel/20250513032957/assets\n"
     ]
    }
   ],
   "source": [
    "OUTPUT_DIR = \"./export/savedmodel\"\n",
    "shutil.rmtree(OUTPUT_DIR, ignore_errors=True)\n",
    "TIMESTAMP = datetime.datetime.now().strftime(\"%Y%m%d%H%M%S\")\n",
    "\n",
    "EXPORT_PATH = os.path.join(OUTPUT_DIR, TIMESTAMP)\n",
    "\n",
    "tf.saved_model.save(\n",
    "    model, EXPORT_PATH\n",
    ")"
   ]
  },
  {
   "cell_type": "code",
   "execution_count": 60,
   "metadata": {
    "tags": []
   },
   "outputs": [
    {
     "name": "stdout",
     "output_type": "stream",
     "text": [
      "The given SavedModel SignatureDef contains the following input(s):\n",
      "  inputs['dense_21_input'] tensor_info:\n",
      "      dtype: DT_FLOAT\n",
      "      shape: (-1, 4)\n",
      "      name: serving_default_dense_21_input:0\n",
      "The given SavedModel SignatureDef contains the following output(s):\n",
      "  outputs['dense_24'] tensor_info:\n",
      "      dtype: DT_FLOAT\n",
      "      shape: (-1, 1)\n",
      "      name: StatefulPartitionedCall:0\n",
      "Method name is: tensorflow/serving/predict\n",
      "./export/savedmodel/20250513032957\n",
      "./export/savedmodel/20250513032957/fingerprint.pb\n",
      "./export/savedmodel/20250513032957/variables\n",
      "./export/savedmodel/20250513032957/variables/variables.data-00000-of-00001\n",
      "./export/savedmodel/20250513032957/variables/variables.index\n",
      "./export/savedmodel/20250513032957/saved_model.pb\n",
      "./export/savedmodel/20250513032957/assets\n"
     ]
    }
   ],
   "source": [
    "!saved_model_cli show \\\n",
    "--tag_set serve \\\n",
    "--signature_def serving_default \\\n",
    "--dir {EXPORT_PATH}\n",
    "\n",
    "!find {EXPORT_PATH}\n",
    "os.environ['EXPORT_PATH'] = EXPORT_PATH"
   ]
  },
  {
   "cell_type": "markdown",
   "metadata": {},
   "source": [
    "## Deploy our model to Vertex AI"
   ]
  },
  {
   "cell_type": "markdown",
   "metadata": {},
   "source": [
    "Finally, we will deploy our trained model to Vertex AI and see how we can make online predicitons. "
   ]
  },
  {
   "cell_type": "code",
   "execution_count": 61,
   "metadata": {
    "tags": [
     "flake8-noqa-line-8-E501"
    ]
   },
   "outputs": [
    {
     "name": "stdout",
     "output_type": "stream",
     "text": [
      "MODEL_DISPLAYNAME: taxifare-20250513032957\n"
     ]
    }
   ],
   "source": [
    "PROJECT = !gcloud config list --format 'value(core.project)' 2>/dev/null\n",
    "PROJECT = PROJECT[0]\n",
    "BUCKET = PROJECT\n",
    "REGION = \"us-central1\"\n",
    "MODEL_DISPLAYNAME = f\"taxifare-{TIMESTAMP}\"\n",
    "\n",
    "print(f\"MODEL_DISPLAYNAME: {MODEL_DISPLAYNAME}\")\n",
    "\n",
    "# from https://cloud.google.com/vertex-ai/docs/predictions/pre-built-containers\n",
    "SERVING_CONTAINER_IMAGE_URI = (\n",
    "    \"us-docker.pkg.dev/vertex-ai/prediction/tf2-cpu.2-12:latest\"\n",
    ")\n",
    "os.environ[\"BUCKET\"] = BUCKET\n",
    "os.environ[\"REGION\"] = REGION"
   ]
  },
  {
   "cell_type": "code",
   "execution_count": 65,
   "metadata": {
    "tags": []
   },
   "outputs": [
    {
     "name": "stdout",
     "output_type": "stream",
     "text": [
      "Bucket exists, let's not recreate it.\n",
      "gs://qwiklabs-asl-01-19968276eb55/\n"
     ]
    }
   ],
   "source": [
    "%%bash\n",
    "# Create GCS bucket if it doesn't exist already...\n",
    "exists=$(gsutil ls -d | grep -w gs://${BUCKET}/)\n",
    "\n",
    "if [ -n \"$exists\" ]; then\n",
    "    echo -e \"Bucket exists, let's not recreate it.\"\n",
    "    gsutil ls\n",
    "else\n",
    "    echo \"Creating a new GCS bucket.\"\n",
    "    gsutil mb -l ${REGION} gs://${BUCKET}\n",
    "    echo \"\\nHere are your current buckets:\"\n",
    "    gsutil ls\n",
    "fi"
   ]
  },
  {
   "cell_type": "code",
   "execution_count": 68,
   "metadata": {
    "tags": [
     "flake8-noqa-cell"
    ]
   },
   "outputs": [
    {
     "name": "stdout",
     "output_type": "stream",
     "text": [
      "Copying file://./export/savedmodel/20250513032957/fingerprint.pb [Content-Type=application/octet-stream]...\n",
      "Copying file://./export/savedmodel/20250513032957/saved_model.pb [Content-Type=application/octet-stream]...\n",
      "Copying file://./export/savedmodel/20250513032957/variables/variables.data-00000-of-00001 [Content-Type=application/octet-stream]...\n",
      "Copying file://./export/savedmodel/20250513032957/variables/variables.index [Content-Type=application/octet-stream]...\n",
      "/ [4 files][948.2 KiB/948.2 KiB]                                                \n",
      "Operation completed over 4 objects/948.2 KiB.                                    \n",
      "/bin/bash: line 1: echo　gs://qwiklabs-asl-01-19968276eb55/taxifare-20250513032957: No such file or directory\n"
     ]
    }
   ],
   "source": [
    "!gsutil cp -R $EXPORT_PATH gs://$BUCKET/$MODEL_DISPLAYNAME\n",
    "!echo　gs://$BUCKET/$MODEL_DISPLAYNAME"
   ]
  },
  {
   "cell_type": "markdown",
   "metadata": {},
   "source": [
    "**Exercise.** Complete the code in the cell below to upload and deploy your trained model to Vertex AI using the `Model.upload` method. Have a look at [the documentation](https://googleapis.dev/python/aiplatform/latest/aiplatform.html#google.cloud.aiplatform.Model)."
   ]
  },
  {
   "cell_type": "code",
   "execution_count": 71,
   "metadata": {
    "tags": [
     "flake8-noqa-cell"
    ]
   },
   "outputs": [
    {
     "name": "stdout",
     "output_type": "stream",
     "text": [
      "Creating Model\n",
      "Create Model backing LRO: projects/604342147284/locations/us-central1/models/8112112127335989248/operations/6856501287576403968\n",
      "Model created. Resource name: projects/604342147284/locations/us-central1/models/8112112127335989248@1\n",
      "To use this Model in another session:\n",
      "model = aiplatform.Model('projects/604342147284/locations/us-central1/models/8112112127335989248@1')\n"
     ]
    }
   ],
   "source": [
    "uploaded_model = aiplatform.Model.upload(\n",
    "    display_name=MODEL_DISPLAYNAME,\n",
    "    artifact_uri=\"gs://qwiklabs-asl-01-19968276eb55/taxifare-20250513032957\",\n",
    "    serving_container_image_uri=SERVING_CONTAINER_IMAGE_URI\n",
    ")"
   ]
  },
  {
   "cell_type": "code",
   "execution_count": 73,
   "metadata": {
    "tags": []
   },
   "outputs": [
    {
     "name": "stdout",
     "output_type": "stream",
     "text": [
      "Creating Endpoint\n",
      "Create Endpoint backing LRO: projects/604342147284/locations/us-central1/endpoints/8114841115196129280/operations/3233777599821905920\n",
      "Endpoint created. Resource name: projects/604342147284/locations/us-central1/endpoints/8114841115196129280\n",
      "To use this Endpoint in another session:\n",
      "endpoint = aiplatform.Endpoint('projects/604342147284/locations/us-central1/endpoints/8114841115196129280')\n",
      "Deploying model to Endpoint : projects/604342147284/locations/us-central1/endpoints/8114841115196129280\n",
      "Deploy Endpoint model backing LRO: projects/604342147284/locations/us-central1/endpoints/8114841115196129280/operations/3165801392946282496\n",
      "Endpoint model deployed. Resource name: projects/604342147284/locations/us-central1/endpoints/8114841115196129280\n"
     ]
    }
   ],
   "source": [
    "MACHINE_TYPE = \"n1-standard-2\"\n",
    "\n",
    "endpoint = uploaded_model.deploy(\n",
    "    machine_type=MACHINE_TYPE,\n",
    "    accelerator_type=None,\n",
    "    accelerator_count=None,\n",
    ")"
   ]
  },
  {
   "cell_type": "code",
   "execution_count": 76,
   "metadata": {
    "tags": [
     "flake8-noqa-cell"
    ]
   },
   "outputs": [],
   "source": [
    "instance = {\"dense_21_input\": [-73.982683, 40.742104, -73.983766, 40.755174]}\n"
   ]
  },
  {
   "cell_type": "markdown",
   "metadata": {},
   "source": [
    "**Exercise.** Complete the code in the cell below to call prediction on your deployed model for the example you just created in the `instance` variable above."
   ]
  },
  {
   "cell_type": "code",
   "execution_count": 79,
   "metadata": {
    "tags": [
     "flake8-noqa-cell",
     "flake8-noqa-cell-E902"
    ]
   },
   "outputs": [
    {
     "data": {
      "text/plain": [
       "Prediction(predictions=[[11.3066511]], deployed_model_id='881688478708924416', metadata=None, model_version_id='1', model_resource_name='projects/604342147284/locations/us-central1/models/8112112127335989248', explanations=None)"
      ]
     },
     "execution_count": 79,
     "metadata": {},
     "output_type": "execute_result"
    }
   ],
   "source": [
    "endpoint.predict(\n",
    "    [instance]\n",
    ")\n",
    "\n",
    "# or\n",
    "endpoint.predict(\n",
    "    [[-73.982683, 40.742104, -73.983766, 40.755174]]\n",
    ")"
   ]
  },
  {
   "cell_type": "markdown",
   "metadata": {},
   "source": [
    "# Cleanup\n",
    "\n",
    "When deploying a model to an endpoint for online prediction, the minimum `min-replica-count` is 1, and it is charged per node hour. So let's delete the endpoint to reduce unnecessary charges. Before we can delete the endpoint, we first undeploy all attached models... "
   ]
  },
  {
   "cell_type": "code",
   "execution_count": null,
   "metadata": {},
   "outputs": [],
   "source": [
    "endpoint.undeploy_all()"
   ]
  },
  {
   "cell_type": "markdown",
   "metadata": {},
   "source": [
    "...then delete the endpoint."
   ]
  },
  {
   "cell_type": "code",
   "execution_count": null,
   "metadata": {},
   "outputs": [],
   "source": [
    "endpoint.delete()"
   ]
  },
  {
   "cell_type": "markdown",
   "metadata": {},
   "source": [
    "Copyright 2021 Google Inc. Licensed under the Apache License, Version 2.0 (the \"License\"); you may not use this file except in compliance with the License. You may obtain a copy of the License at http://www.apache.org/licenses/LICENSE-2.0 Unless required by applicable law or agreed to in writing, software distributed under the License is distributed on an \"AS IS\" BASIS, WITHOUT WARRANTIES OR CONDITIONS OF ANY KIND, either express or implied. See the License for the specific language governing permissions and limitations under the License"
   ]
  }
 ],
 "metadata": {
  "environment": {
   "kernel": "conda-base-py",
   "name": "workbench-notebooks.m129",
   "type": "gcloud",
   "uri": "us-docker.pkg.dev/deeplearning-platform-release/gcr.io/workbench-notebooks:m129"
  },
  "kernelspec": {
   "display_name": "Python 3 (ipykernel)",
   "language": "python",
   "name": "conda-base-py"
  },
  "language_info": {
   "codemirror_mode": {
    "name": "ipython",
    "version": 3
   },
   "file_extension": ".py",
   "mimetype": "text/x-python",
   "name": "python",
   "nbconvert_exporter": "python",
   "pygments_lexer": "ipython3",
   "version": "3.10.16"
  },
  "toc-autonumbering": true,
  "toc-showmarkdowntxt": false
 },
 "nbformat": 4,
 "nbformat_minor": 4
}
