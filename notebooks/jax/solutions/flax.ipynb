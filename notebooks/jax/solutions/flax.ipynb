{
 "cells": [
  {
   "cell_type": "markdown",
   "metadata": {
    "id": "qdeIrK5I_zj_"
   },
   "source": [
    "See go/flax-air"
   ]
  },
  {
   "cell_type": "markdown",
   "metadata": {
    "id": "N8Vf0fZqPBY4"
   },
   "source": [
    "### Flax\n",
    "\n",
    "You probably want to keep the Flax documentation ready in another tab:\n",
    "\n",
    "https://flax.readthedocs.io/"
   ]
  },
  {
   "cell_type": "code",
   "execution_count": null,
   "metadata": {
    "id": "P7YKHVVoVoQS"
   },
   "outputs": [],
   "source": [
    "# from typing import Callable, Sequence  # used ?\n",
    "\n",
    "import flax\n",
    "from flax import linen as nn"
   ]
  },
  {
   "cell_type": "markdown",
   "metadata": {
    "id": "uiR7qpQy9ksY"
   },
   "source": [
    "#### Functional core"
   ]
  },
  {
   "cell_type": "code",
   "execution_count": null,
   "metadata": {
    "executionInfo": {
     "elapsed": 1227,
     "status": "ok",
     "timestamp": 1605716881904,
     "user": {
      "displayName": "",
      "photoUrl": "",
      "userId": ""
     },
     "user_tz": -60
    },
    "id": "E4qwAAEVE_hp",
    "outputId": "7af3e309-f499-4162-9753-e85d66ac2d2a"
   },
   "outputs": [
    {
     "data": {
      "text/plain": [
       "FrozenDict({\n",
       "    params: {\n",
       "        matmul_1: {\n",
       "            kernel: (784, 50),\n",
       "        },\n",
       "        matmul_2: {\n",
       "            kernel: (50, 10),\n",
       "        },\n",
       "    },\n",
       "})"
      ]
     },
     "execution_count": 44,
     "metadata": {
      "tags": []
     },
     "output_type": "execute_result"
    }
   ],
   "source": [
    "# Simple module with matmul layer. Note that we could build this in many\n",
    "# different ways using the `scope` for parameter handling.\n",
    "\n",
    "\n",
    "class Matmul:\n",
    "    def __init__(self, features):\n",
    "        self.features = features\n",
    "\n",
    "    def kernel_init(self, key, shape):\n",
    "        return jax.random.normal(key, shape)\n",
    "\n",
    "    def __call__(self, scope, x):\n",
    "        kernel = scope.param(\n",
    "            \"kernel\", self.kernel_init, (x.shape[1], self.features)\n",
    "        )\n",
    "        return x @ kernel\n",
    "\n",
    "\n",
    "class Model:\n",
    "    def __init__(self, features):\n",
    "        self.matmuls = [Matmul(f) for f in features]\n",
    "\n",
    "    def __call__(self, scope, x):\n",
    "        x = x.reshape([len(x), -1])\n",
    "        for i, matmul in enumerate(self.matmuls):\n",
    "            x = scope.child(matmul, f\"matmul_{i + 1}\")(x)\n",
    "            if i < len(self.matmuls) - 1:\n",
    "                x = jax.nn.relu(x)\n",
    "        x = jax.nn.log_softmax(x)\n",
    "        return x\n",
    "\n",
    "\n",
    "model = Model([ds_info.features[\"label\"].num_classes])\n",
    "y, variables = flax.core.init(model)(key, train_images[:1])\n",
    "assert (y == flax.core.apply(model)(variables, train_images[:1])).all()\n",
    "\n",
    "# YOUR ACTION REQUIRED:\n",
    "# Check out the parameter structure, try adding/removing \"layers\" and see how it\n",
    "# changes\n",
    "##-snip\n",
    "model = Model([50, ds_info.features[\"label\"].num_classes])\n",
    "_, variables = flax.core.init(model)(key, train_images[:1])\n",
    "jax.tree_map(jnp.shape, variables)"
   ]
  },
  {
   "cell_type": "code",
   "execution_count": null,
   "metadata": {
    "colab": {
     "height": 286
    },
    "executionInfo": {
     "elapsed": 2558,
     "status": "ok",
     "timestamp": 1605716884488,
     "user": {
      "displayName": "",
      "photoUrl": "",
      "userId": ""
     },
     "user_tz": -60
    },
    "id": "dxEq47C2Fite",
    "outputId": "f87ac7e4-d861-42d8-fe30-642f8b793a40"
   },
   "outputs": [
    {
     "name": "stdout",
     "output_type": "stream",
     "text": [
      "final loss: 0.7789248\n"
     ]
    },
    {
     "data": {
      "image/png": "[encoded data removed]",
      "text/plain": [
       "<Figure size 600x400 with 1 Axes>"
      ]
     },
     "metadata": {
      "tags": []
     },
     "output_type": "display_data"
    }
   ],
   "source": [
    "# YOUR ACTION REQUIRED:\n",
    "# Redefine loss_fun(), update_step(), and train() from above to train the new\n",
    "# model.\n",
    "##-snip\n",
    "\n",
    "\n",
    "@jax.jit\n",
    "def update_step(variables, inputs, targets):\n",
    "    def loss_fun(variables):\n",
    "        logits = flax.core.apply(model)(variables, inputs)\n",
    "        logprobs = logits - jax.scipy.special.logsumexp(\n",
    "            logits, axis=-1, keepdims=True\n",
    "        )\n",
    "        return -logprobs[jnp.arange(len(targets)), targets].mean()\n",
    "\n",
    "    loss, grads = jax.value_and_grad(loss_fun)(variables)\n",
    "    updated_variables = jax.tree_multimap(\n",
    "        lambda variable, grad: variable - 0.05 * grad, variables, grads\n",
    "    )\n",
    "    return updated_variables, loss\n",
    "\n",
    "\n",
    "def train(variables, steps, batch_size=128):\n",
    "    losses = []\n",
    "    steps_per_epoch = len(train_images) // batch_size\n",
    "    for step in range(steps):\n",
    "        i0 = (step % steps_per_epoch) * batch_size\n",
    "        variables, loss = update_step(\n",
    "            variables,\n",
    "            train_images[i0 : i0 + batch_size],\n",
    "            train_labels[i0 : i0 + batch_size],\n",
    "        )\n",
    "        losses.append(float(loss))\n",
    "    return variables, jnp.array(losses)\n",
    "\n",
    "\n",
    "learnt_variables, losses = train(variables, steps=1_000)\n",
    "\n",
    "plt.plot(losses)\n",
    "print(\"final loss:\", np.mean(losses[-100]))"
   ]
  },
  {
   "cell_type": "markdown",
   "metadata": {
    "id": "2nJSoLKUCbnF"
   },
   "source": [
    "#### Stateless Linen module"
   ]
  },
  {
   "cell_type": "code",
   "execution_count": null,
   "metadata": {
    "executionInfo": {
     "elapsed": 529,
     "status": "ok",
     "timestamp": 1605716885112,
     "user": {
      "displayName": "",
      "photoUrl": "",
      "userId": ""
     },
     "user_tz": -60
    },
    "id": "1ciRbfVPRvb9",
    "outputId": "45913f38-0718-40a4-df2a-b46458163c5b"
   },
   "outputs": [
    {
     "data": {
      "text/plain": [
       "FrozenDict({\n",
       "    params: {\n",
       "        dense: {\n",
       "            bias: (10,),\n",
       "            kernel: (784, 10),\n",
       "        },\n",
       "    },\n",
       "})"
      ]
     },
     "execution_count": 46,
     "metadata": {
      "tags": []
     },
     "output_type": "execute_result"
    }
   ],
   "source": [
    "# Reimplementation of above model using the Linen API.\n",
    "\n",
    "\n",
    "class Model(nn.Module):\n",
    "    num_classes: int\n",
    "\n",
    "    def setup(self):\n",
    "        self.dense = nn.Dense(self.num_classes)\n",
    "\n",
    "    def __call__(self, x):\n",
    "        x = x.reshape([len(x), -1])\n",
    "        x = self.dense(x)\n",
    "        x = nn.log_softmax(x)\n",
    "        return x\n",
    "\n",
    "\n",
    "model = Model(num_classes=ds_info.features[\"label\"].num_classes)\n",
    "variables = model.init(jax.random.PRNGKey(0), train_images[:1])\n",
    "jax.tree_map(jnp.shape, variables)"
   ]
  },
  {
   "cell_type": "code",
   "execution_count": null,
   "metadata": {
    "id": "hyNbZwFS8vlI"
   },
   "outputs": [],
   "source": [
    "# YOUR ACTION REQUIRED:\n",
    "# 1. Rewrite above model using the @nn.compact notation.\n",
    "# 2. Extend the model to use additional layers, see e.g.\n",
    "#    convolutions in\n",
    "#    http://google3/third_party/py/flax/linen/linear.py\n",
    "##-snip\n",
    "\n",
    "\n",
    "class Model(nn.Module):\n",
    "    num_classes: int\n",
    "\n",
    "    @nn.compact\n",
    "    def __call__(self, x):\n",
    "        x = nn.Conv(features=32, kernel_size=(3, 3))(x)\n",
    "        x = nn.relu(x)\n",
    "        x = nn.avg_pool(x, window_shape=(2, 2), strides=(2, 2))\n",
    "        x = nn.Conv(features=64, kernel_size=(3, 3))(x)\n",
    "        x = nn.relu(x)\n",
    "        x = nn.avg_pool(x, window_shape=(2, 2), strides=(2, 2))\n",
    "        x = x.reshape((x.shape[0], -1))  # flatten\n",
    "        x = nn.Dense(features=256)(x)\n",
    "        x = nn.relu(x)\n",
    "        x = nn.Dense(features=10)(x)\n",
    "        x = nn.log_softmax(x)\n",
    "        return x"
   ]
  },
  {
   "cell_type": "code",
   "execution_count": null,
   "metadata": {
    "executionInfo": {
     "elapsed": 1705,
     "status": "ok",
     "timestamp": 1605716887257,
     "user": {
      "displayName": "",
      "photoUrl": "",
      "userId": ""
     },
     "user_tz": -60
    },
    "id": "dah65MVi-bRR",
    "outputId": "b7b8b066-0356-45c4-e607-5f2f237244d2"
   },
   "outputs": [
    {
     "data": {
      "text/plain": [
       "FrozenDict({\n",
       "    params: {\n",
       "        Conv_0: {\n",
       "            bias: (32,),\n",
       "            kernel: (3, 3, 1, 32),\n",
       "        },\n",
       "        Conv_1: {\n",
       "            bias: (64,),\n",
       "            kernel: (3, 3, 32, 64),\n",
       "        },\n",
       "        Dense_0: {\n",
       "            bias: (256,),\n",
       "            kernel: (3136, 256),\n",
       "        },\n",
       "        Dense_1: {\n",
       "            bias: (10,),\n",
       "            kernel: (256, 10),\n",
       "        },\n",
       "    },\n",
       "})"
      ]
     },
     "execution_count": 48,
     "metadata": {
      "tags": []
     },
     "output_type": "execute_result"
    }
   ],
   "source": [
    "model = Model(ds_info.features[\"label\"].num_classes)\n",
    "variables = model.init(key, train_images[:1])\n",
    "jax.tree_map(jnp.shape, variables)"
   ]
  },
  {
   "cell_type": "code",
   "execution_count": null,
   "metadata": {
    "colab": {
     "height": 286
    },
    "executionInfo": {
     "elapsed": 4175,
     "status": "ok",
     "timestamp": 1605716891442,
     "user": {
      "displayName": "",
      "photoUrl": "",
      "userId": ""
     },
     "user_tz": -60
    },
    "id": "dOCSpW5sR3fk",
    "outputId": "b105b2b2-0aa0-4b63-c38f-8758c86d0c5d"
   },
   "outputs": [
    {
     "name": "stdout",
     "output_type": "stream",
     "text": [
      "final loss: 0.24742776\n"
     ]
    },
    {
     "data": {
      "image/png": "[encoded data removed]",
      "text/plain": [
       "<Figure size 600x400 with 1 Axes>"
      ]
     },
     "metadata": {
      "tags": []
     },
     "output_type": "display_data"
    }
   ],
   "source": [
    "# Reimplementation of training loop using a Flax optimizer.\n",
    "\n",
    "\n",
    "@jax.jit\n",
    "def update_step_optim(optim, inputs, targets):\n",
    "    def loss_fun(params):\n",
    "        logits = model.apply(dict(params=params), inputs)\n",
    "        logprobs = logits - jax.scipy.special.logsumexp(\n",
    "            logits, axis=-1, keepdims=True\n",
    "        )\n",
    "        return -logprobs[jnp.arange(len(targets)), targets].mean()\n",
    "\n",
    "    loss, grads = jax.value_and_grad(loss_fun)(optim.target)\n",
    "    return optim.apply_gradient(grads), loss\n",
    "\n",
    "\n",
    "def train_optim(optim, steps, batch_size=128):\n",
    "    losses = []\n",
    "    steps_per_epoch = len(train_images) // batch_size\n",
    "    for step in range(steps):\n",
    "        i0 = (step % steps_per_epoch) * batch_size\n",
    "        optim, loss = update_step_optim(\n",
    "            optim,\n",
    "            train_images[i0 : i0 + batch_size],\n",
    "            train_labels[i0 : i0 + batch_size],\n",
    "        )\n",
    "        losses.append(float(loss))\n",
    "    return optim, jnp.array(losses)\n",
    "\n",
    "\n",
    "optim = flax.optim.adam.Adam(learning_rate=0.01).create(variables[\"params\"])\n",
    "learnt_optim, losses = train_optim(optim, steps=1_000)\n",
    "plt.plot(losses)\n",
    "print(\"final loss:\", np.mean(losses[-100]))"
   ]
  },
  {
   "cell_type": "code",
   "execution_count": null,
   "metadata": {
    "executionInfo": {
     "elapsed": 2798,
     "status": "ok",
     "timestamp": 1605716894255,
     "user": {
      "displayName": "",
      "photoUrl": "",
      "userId": ""
     },
     "user_tz": -60
    },
    "id": "7S2UhjE-SLfi",
    "outputId": "830c0f6b-833b-4dea-b45a-ab917a92bdc0"
   },
   "outputs": [
    {
     "data": {
      "text/plain": [
       "DeviceArray(0.88199997, dtype=float32)"
      ]
     },
     "execution_count": 50,
     "metadata": {
      "tags": []
     },
     "output_type": "execute_result"
    }
   ],
   "source": [
    "# Re-evaluate accuracy.\n",
    "(\n",
    "    model.apply(dict(params=learnt_optim.target), test_images).argmax(axis=-1)\n",
    "    == test_labels\n",
    ").mean()"
   ]
  },
  {
   "cell_type": "markdown",
   "metadata": {
    "id": "fMm28tSqWRkc"
   },
   "source": [
    "#### Linen module with state"
   ]
  },
  {
   "cell_type": "code",
   "execution_count": null,
   "metadata": {
    "executionInfo": {
     "elapsed": 437,
     "status": "ok",
     "timestamp": 1605716894755,
     "user": {
      "displayName": "",
      "photoUrl": "",
      "userId": ""
     },
     "user_tz": -60
    },
    "id": "YfsyKCUSezL5",
    "outputId": "4da91481-b7e0-444b-cf62-701ef785fa5c"
   },
   "outputs": [
    {
     "data": {
      "text/plain": [
       "FrozenDict({\n",
       "    batch_stats: {\n",
       "        BatchNorm_0: {\n",
       "            mean: (784,),\n",
       "            var: (784,),\n",
       "        },\n",
       "    },\n",
       "    params: {\n",
       "        BatchNorm_0: {\n",
       "            bias: (784,),\n",
       "            scale: (784,),\n",
       "        },\n",
       "        Dense_0: {\n",
       "            bias: (10,),\n",
       "            kernel: (784, 10),\n",
       "        },\n",
       "    },\n",
       "})"
      ]
     },
     "execution_count": 51,
     "metadata": {
      "tags": []
     },
     "output_type": "execute_result"
    }
   ],
   "source": [
    "# Let's add batch norm!\n",
    "# I'm not saying it's a good idea here, but it will allow us study the changes\n",
    "# we need to make for models that have state.\n",
    "\n",
    "\n",
    "class Model(nn.Module):\n",
    "    num_classes: int\n",
    "\n",
    "    @nn.compact\n",
    "    def __call__(self, x, *, train):\n",
    "        x = x.reshape([len(x), -1])\n",
    "        x = nn.BatchNorm(use_running_average=not train)(x)\n",
    "        x = nn.Dense(self.num_classes)(x)\n",
    "        x = nn.log_softmax(x)\n",
    "        return x\n",
    "\n",
    "\n",
    "model = Model(num_classes=ds_info.features[\"label\"].num_classes)\n",
    "variables = model.init(jax.random.PRNGKey(0), train_images[:1], train=True)\n",
    "jax.tree_map(jnp.shape, variables)\n",
    "\n",
    "# Note the new \"batch_stats\" collection !"
   ]
  },
  {
   "cell_type": "code",
   "execution_count": null,
   "metadata": {
    "colab": {
     "height": 286
    },
    "executionInfo": {
     "elapsed": 2658,
     "status": "ok",
     "timestamp": 1605716897420,
     "user": {
      "displayName": "",
      "photoUrl": "",
      "userId": ""
     },
     "user_tz": -60
    },
    "id": "EuF11BFGCku7",
    "outputId": "10fa55fa-bb58-4763-d42a-1cf7776e3294"
   },
   "outputs": [
    {
     "name": "stdout",
     "output_type": "stream",
     "text": [
      "final loss: 0.37923503\n"
     ]
    },
    {
     "data": {
      "image/png": "[encoded data removed]",
      "text/plain": [
       "<Figure size 600x400 with 1 Axes>"
      ]
     },
     "metadata": {
      "tags": []
     },
     "output_type": "display_data"
    }
   ],
   "source": [
    "# YOUR ACTION REQUIRED:\n",
    "# Check below code and add comments for every change compared to the model above\n",
    "# without state.\n",
    "\n",
    "\n",
    "@jax.jit\n",
    "def update_step_optim(optim, batch_stats, inputs, targets):\n",
    "    def loss_fun(params):\n",
    "        logits, mutated_state = model.apply(\n",
    "            dict(params=params, batch_stats=batch_stats),\n",
    "            inputs,\n",
    "            mutable=\"batch_stats\",\n",
    "            train=True,\n",
    "        )\n",
    "        logprobs = logits - jax.scipy.special.logsumexp(\n",
    "            logits, axis=-1, keepdims=True\n",
    "        )\n",
    "        return (\n",
    "            -logprobs[jnp.arange(len(targets)), targets].mean(),\n",
    "            variables[\"batch_stats\"],\n",
    "        )\n",
    "\n",
    "    (loss, state), grads = jax.value_and_grad(loss_fun, has_aux=True)(\n",
    "        optim.target\n",
    "    )\n",
    "    return optim.apply_gradient(grads), batch_stats, loss\n",
    "\n",
    "\n",
    "def train_optim(optim, batch_stats, steps, batch_size=128):\n",
    "    losses = []\n",
    "    steps_per_epoch = len(train_images) // batch_size\n",
    "    for step in range(steps):\n",
    "        i0 = (step % steps_per_epoch) * batch_size\n",
    "        optim, batch_stats, loss = update_step_optim(\n",
    "            optim,\n",
    "            batch_stats,\n",
    "            train_images[i0 : i0 + batch_size],\n",
    "            train_labels[i0 : i0 + batch_size],\n",
    "        )\n",
    "        losses.append(float(loss))\n",
    "    return optim, batch_stats, jnp.array(losses)\n",
    "\n",
    "\n",
    "optim = flax.optim.adam.Adam(learning_rate=0.01).create(variables[\"params\"])\n",
    "learnt_optim, batch_stats, losses = train_optim(\n",
    "    optim, variables[\"batch_stats\"], steps=1_000\n",
    ")\n",
    "plt.plot(losses)\n",
    "print(\"final loss:\", np.mean(losses[-100]))"
   ]
  },
  {
   "cell_type": "code",
   "execution_count": null,
   "metadata": {
    "executionInfo": {
     "elapsed": 453,
     "status": "ok",
     "timestamp": 1605716897986,
     "user": {
      "displayName": "",
      "photoUrl": "",
      "userId": ""
     },
     "user_tz": -60
    },
    "id": "Vk8-FFi3EN-Q",
    "outputId": "3a63cd97-95dd-4d3f-a2e2-58b4010a06cf"
   },
   "outputs": [
    {
     "data": {
      "text/plain": [
       "DeviceArray(0.4622, dtype=float32)"
      ]
     },
     "execution_count": 53,
     "metadata": {
      "tags": []
     },
     "output_type": "execute_result"
    }
   ],
   "source": [
    "# YOUR ACTION REQUIRED:\n",
    "# Make predictions with above model with state\n",
    "##-snip\n",
    "(\n",
    "    model.apply(\n",
    "        dict(params=learnt_optim.target, batch_stats=batch_stats),\n",
    "        test_images,\n",
    "        train=False,\n",
    "    ).argmax(axis=-1)\n",
    "    == test_labels\n",
    ").mean()"
   ]
  },
  {
   "cell_type": "markdown",
   "metadata": {
    "id": "CczOcHDOe-34"
   },
   "source": [
    "#### Modify MNIST example\n",
    "\n",
    "Check out the Flax MNIST example Colab - you can find a link on Github\n",
    "\n",
    "https://github.com/google/flax/tree/master/linen_examples/mnist"
   ]
  },
  {
   "cell_type": "code",
   "execution_count": null,
   "metadata": {
    "id": "8PLQpjaJfL40"
   },
   "outputs": [],
   "source": [
    "# YOUR ACTION REQURIED:\n",
    "# Store the Colab in your personal drive and modify it to use the dataset from\n",
    "# above.\n",
    "# While this might sound boring, you will learn the following things:\n",
    "# - how to load files in public Colab from Github, modify them in the UI and\n",
    "#   optionally store them on your personal Google Drive.\n",
    "# - how to use inline TensorBoard on public Colab and export it to tensorboard.dev"
   ]
  },
  {
   "cell_type": "markdown",
   "metadata": {
    "id": "oBgGdfd9O-2J"
   },
   "source": [
    "### end"
   ]
  }
 ],
 "metadata": {
  "accelerator": "GPU",
  "colab": {
   "collapsed_sections": [],
   "last_runtime": {
    "build_target": "//learning/deepmind/public/tools/ml_python:ml_notebook",
    "kind": "private"
   },
   "name": "JAX/Flax for AI Residents - Practical Session (go/flax-air)",
   "provenance": [
    {
     "file_id": "/piper/depot/google3/experimental/users/andstein/flax/air/colabs/solutions2.ipynb?workspaceId=andstein:flax::citc",
     "timestamp": 1605717425105
    },
    {
     "file_id": "/piper/depot/google3/experimental/users/andstein/flax/air/colabs/solutions1.ipynb?workspaceId=andstein:flax::citc",
     "timestamp": 1605717404589
    },
    {
     "file_id": "/piper/depot/google3/experimental/users/andstein/jax/flax-air/practical_session.ipynb?workspaceId=andstein:flax::citc",
     "timestamp": 1605717371662
    },
    {
     "file_id": "/piper/depot/google3/experimental/users/andstein/jax/dlc/practical_session.ipynb?cl=314311380",
     "timestamp": 1605113589945
    },
    {
     "file_id": "1LHqEBdkXq3MY-6R391gxpRHoYzGkZgHh",
     "timestamp": 1590385903513
    }
   ],
   "toc_visible": true
  },
  "environment": {
   "name": "tf2-gpu.2-1.m50",
   "type": "gcloud",
   "uri": "gcr.io/deeplearning-platform-release/tf2-gpu.2-1:m50"
  },
  "kernelspec": {
   "display_name": "Python 3",
   "language": "python",
   "name": "python3"
  },
  "language_info": {
   "codemirror_mode": {
    "name": "ipython",
    "version": 3
   },
   "file_extension": ".py",
   "mimetype": "text/x-python",
   "name": "python",
   "nbconvert_exporter": "python",
   "pygments_lexer": "ipython3",
   "version": "3.7.6"
  }
 },
 "nbformat": 4,
 "nbformat_minor": 4
}
