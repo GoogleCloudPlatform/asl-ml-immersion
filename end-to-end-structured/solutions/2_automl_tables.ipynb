{
 "cells": [
  {
   "cell_type": "markdown",
   "metadata": {
    "colab_type": "text",
    "id": "aklJxkHBD5aR"
   },
   "source": [
    "# Training AutoML Tables\n",
    "\n",
    "**Learning Objectives**\n",
    "\n",
    "* Setup AutoML Tables\n",
    "* Create and import AutoML Tables dataset from BigQuery\n",
    "* Analyze AutoML Tables dataset\n",
    "* Train AutoML Tables model\n",
    "* Check evaluation metrics\n",
    "* Deploy the model\n",
    "* Make batch predictions\n",
    "* Make online predictions\n",
    "\n",
    "## Introduction \n",
    "In this notebook, we will use AutoML Tables to train a model to predict the weight of a baby before it is born.  We will use the AutoML Tables UI to create a training dataset from BigQuery and the we'll train, evaluate, and predict with a Auto ML Tables model.\n",
    "\n",
    "We will setup AutoML Tables, create and import an AutoML Tables dataset from BigQuery, analyze AutoML Tables dataset, train an AutoML Tables model, check evaluation metrics of trained model, deploy trained model, and then finally make both batch and online predictions using the trained model.\n",
    "\n",
    "Each learning objective will correspond to a series of steps to complete in the student lab notebook. Try to complete the TODOs in the lab notebook first before reviewing this solution notebook."
   ]
  },
  {
   "cell_type": "markdown",
   "metadata": {},
   "source": [
    "## Verify tables exist\n",
    "\n",
    "Run the following cells to verify that we previously created the dataset and data tables. If not, go back to lab [1b_prepare_data](../solutions/1b_prepare_data.ipynb) to create them."
   ]
  },
  {
   "cell_type": "code",
   "execution_count": null,
   "metadata": {},
   "outputs": [],
   "source": [
    "%%bigquery\n",
    "-- LIMIT 0 is a free query; this allows us to check that the table exists.\n",
    "SELECT * FROM babyweight.babyweight_augmented_data\n",
    "LIMIT 0"
   ]
  },
  {
   "cell_type": "markdown",
   "metadata": {},
   "source": [
    "## Setup AutoML Tables"
   ]
  },
  {
   "cell_type": "markdown",
   "metadata": {},
   "source": [
    "### Step 1: Open AutoML Tables\n",
    "Go the GCP console and open the console menu in the upper left corner. Scroll down to the bottom to the `Artificial Intelligence` section. Click on `Tables` to open AutoML Tables."
   ]
  },
  {
   "cell_type": "markdown",
   "metadata": {},
   "source": [
    "![AutoML](./assets/1_automl_tables_hamburger_dropdown.png)"
   ]
  },
  {
   "cell_type": "markdown",
   "metadata": {},
   "source": [
    "### Step 2: Enable API\n",
    "If you haven't already enabled the AutoML Tables API, then you'll see the screen below. Make sure to click the `ENABLE API` button."
   ]
  },
  {
   "cell_type": "markdown",
   "metadata": {},
   "source": [
    "![AutoML](./assets/2_automl_tables_enable_api.png)"
   ]
  },
  {
   "cell_type": "markdown",
   "metadata": {},
   "source": [
    "### Step 3: Get started\n",
    "If this is your first time using AutoML Tables, you will see the screen below. Make sure to click the `GET STARTED` button."
   ]
  },
  {
   "cell_type": "markdown",
   "metadata": {},
   "source": [
    "![AutoML](./assets/3_automl_tables_get_started.png)"
   ]
  },
  {
   "cell_type": "markdown",
   "metadata": {},
   "source": [
    "## Create and import AutoML Tables dataset from BigQuery"
   ]
  },
  {
   "cell_type": "markdown",
   "metadata": {},
   "source": [
    "### Step 4: Datasets\n",
    "You should now be on the AutoML Table's Datasets page. This is where all imported datasets are shown. We'll want to add our babyweight dataset, so click the `+ NEW DATASET` button."
   ]
  },
  {
   "cell_type": "markdown",
   "metadata": {},
   "source": [
    "![AutoML](./assets/4_automl_tables_click_create_dataset.png)"
   ]
  },
  {
   "cell_type": "markdown",
   "metadata": {},
   "source": [
    "### Step 5: Create new dataset\n",
    "We need to give our new dataset a unique name. This lab uses `babyweight_automl` but feel free to name yours whatever you want. When you are done choosing a unique name, click the `CREATE DATASET` button."
   ]
  },
  {
   "cell_type": "markdown",
   "metadata": {},
   "source": [
    "![AutoML](./assets/5_automl_tables_create_new_dataset.png)"
   ]
  },
  {
   "cell_type": "markdown",
   "metadata": {},
   "source": [
    "### Step 6: Import your data\n",
    "Now that we've created a dataset, let's import our data so that AutoML Tables can use it for training. Our data is currently already in BigQuery, so we will select the radio button `Import data from BigQuery`. This will give us several text boxes to fill in with our data's `BigQuery Project ID`, `BigQuery Dataset ID`, and `BigQuery Table or View ID`. After entering the IDs into the text boxes, click the `IMPORT` button."
   ]
  },
  {
   "cell_type": "markdown",
   "metadata": {},
   "source": [
    "![AutoML](./assets/6_automl_tables_import_data.png)"
   ]
  },
  {
   "cell_type": "markdown",
   "metadata": {},
   "source": [
    "### Step 7: Wait for your data to be imported\n",
    "AutoML Tables should now be importing your data from BigQuery. Depending on the size of your dataset, this could take a while, so this step is about waiting and being patient."
   ]
  },
  {
   "cell_type": "markdown",
   "metadata": {},
   "source": [
    "![AutoML](./assets/7_automl_tables_importing_data.png)"
   ]
  },
  {
   "cell_type": "markdown",
   "metadata": {},
   "source": [
    "### Step 8: Select target column\n",
    "Awesome! The dataset has been successfully imported! You can now look at the dataset's schema, which will show for each column the column name, data type, and nullability. From these columns, we need to select one to be our target or label column. Click the drop down for `Target column` and choose `weight_pounds`."
   ]
  },
  {
   "cell_type": "markdown",
   "metadata": {},
   "source": [
    "![AutoML](./assets/8_automl_tables_schema_target_column.png)"
   ]
  },
  {
   "cell_type": "markdown",
   "metadata": {},
   "source": [
    "### Step 9: Approve target and schema\n",
    "After you successfully choose your target column, you will see a green checkmark on the left of the column name and a target tag on the right. Nullability will also be disabled because machine learning doesn't do well with null labels. Once you've verified everything is correct with your target column and the schema, click the `CONTINUE` button."
   ]
  },
  {
   "cell_type": "markdown",
   "metadata": {},
   "source": [
    "![AutoML](./assets/9_automl_tables_schema_continue.png)"
   ]
  },
  {
   "cell_type": "markdown",
   "metadata": {},
   "source": [
    "## Analyze AutoML Tables dataset"
   ]
  },
  {
   "cell_type": "markdown",
   "metadata": {},
   "source": [
    "### Step 10: Analyze\n",
    "The next tab we'll be using is `ANALYZE`. This is where basic statistics are shown. \n",
    "\n",
    "We can see that we have 6 features, 4 of which are numeric and 2 of which are categorical. We can also see that there are 0% missing and 0 invalid values across all of our columns, which is great! \n",
    "\n",
    "We can also see the number of distinct values, which we can compare with our expectations. Additionally, the linear correlation with the target column is shown, `weight_pounds` in this instance, along with the mean and standard deviation for each column. Once you are satisfied with the analysis, then click the `TRAIN` tab."
   ]
  },
  {
   "cell_type": "markdown",
   "metadata": {},
   "source": [
    "![AutoML](./assets/10_automl_tables_analyze.png)"
   ]
  },
  {
   "cell_type": "markdown",
   "metadata": {},
   "source": [
    "## Train AutoML Tables model"
   ]
  },
  {
   "cell_type": "markdown",
   "metadata": {},
   "source": [
    "### Step 11: Setup training\n",
    "We are nearly ready to train our model. There were a lot of steps to get here, but those were mainly to import the data and make sure the data is alright. As we all know, data is extremely important for ML and if it is not what we expect, then our model will also not perfom as we expect. Garbage in, garbage out. \n",
    "\n",
    "Now we need to set the `Training budget`, which is the maximum number of node hours to spend training our model. Thankfully, if improvement stops before that, then the training will stop and you'll only be charged for the actual node hours you used. \n",
    "**For this dataset, I got decent results with a budget of just 1 to 3 node hours.** \n",
    "\n",
    "We also need to select which features we want to use in our model, out of the superset of all possible features. We'll do this by selecting the `Input feature selection` dropdown, where we will see details in the next step below. Once all of that is set, the click the `TRAIN MODEL` button."
   ]
  },
  {
   "cell_type": "markdown",
   "metadata": {},
   "source": [
    "![AutoML](./assets/11_automl_tables_train.png)"
   ]
  },
  {
   "cell_type": "markdown",
   "metadata": {},
   "source": [
    "### Step 12: Input feature selection\n",
    "We imported six columns, one of which, `weight_pounds`, we have set aside to be our target or label column. There are now five remaining columns. Clicking the `Input feature selection` dropdown provides you with a list of those columns. We want to use `is_male`, `mother_age`, `plurality`, and `gestation_weeks` as our four features. `hashmonth` is leftover from when we did our repeatable splitting in the [2_prepare_babyweight](../solutions/2_prepare_data.ipynb) lab. Whatever is selected will be used for the model training, so click the checkbox to deselect it."
   ]
  },
  {
   "cell_type": "markdown",
   "metadata": {},
   "source": [
    "![AutoML](./assets/12_automl_tables_feature_selection.png)"
   ]
  },
  {
   "cell_type": "markdown",
   "metadata": {},
   "source": [
    "### Step 13: Wait for model to train\n",
    "Woohoo - lucky step 13! Our model is training! We are going to have an awesome model when it finishes! And now we wait. Depending on the size of your dataset, your training budget, and other factors, this could take a while, anywhere from a couple hours to more than a day, so this step is about waiting and being patient. A good thing to do while you are waiting is to keep going through the next labs in this series and then come back to this once lab training completes."
   ]
  },
  {
   "cell_type": "markdown",
   "metadata": {},
   "source": [
    "![AutoML](./assets/13_automl_tables_training.png)"
   ]
  },
  {
   "cell_type": "markdown",
   "metadata": {},
   "source": [
    "## Check evaluation metrics"
   ]
  },
  {
   "cell_type": "markdown",
   "metadata": {},
   "source": [
    "### Step 14: Evaluate model\n",
    "Yeah! Our model is done training! Now we can check the `EVALUATE` tab and see how well we did. The data on this tab reminds you what the target was, `weight_pounds`, what the training was optimized for, `RMSE`, and then the many evaluation metrics like MAE, RMSE, etc. The lab training run did great with an RMSE of 1.030 after only an hour of training! This really shows you the amazing power of AutoML! \n",
    "\n",
    "Below you can see a feature importance bar chart. `gestation_weeks` is by far the most important, which makes sense because usually the longer the gestation period, the longer the baby hastime to grow, and therefore the heavier the baby weighs."
   ]
  },
  {
   "cell_type": "markdown",
   "metadata": {},
   "source": [
    "![AutoML](./assets/14_automl_tables_evaluate.png)"
   ]
  },
  {
   "cell_type": "markdown",
   "metadata": {},
   "source": [
    "## Deploy model"
   ]
  },
  {
   "cell_type": "markdown",
   "metadata": {},
   "source": [
    "### Step 15: Deploy model for predictions\n",
    "If you are satisified with how well our new AutoML Tables model trained and evaluated, you'll probably next want to do what ML is all about; making great predictions! To do that, we'll have to deploy our trained model. If you go to the main `Models` page for AutoML Tables, you'll see your trained model listed. The listing gives the model name, dataset used,  problem type, time of creation, model size, and whether the model is deployed or not. Since we just finished training our model, `Deployed` should say `No`. Click the three vertical dots to the right and then click `Deploy model`."
   ]
  },
  {
   "cell_type": "markdown",
   "metadata": {},
   "source": [
    "![AutoML](./assets/15_automl_tables_deploy.png)"
   ]
  },
  {
   "cell_type": "markdown",
   "metadata": {},
   "source": [
    "### Step 16: Deploy model confirmation\n",
    "You should now see a confirmation box pop up on your screen. This is just a confirmation making sure you really want to deploy your model because there will be charges depending on the model size and the number of machines used. Please click the `DEPLOY` button."
   ]
  },
  {
   "cell_type": "markdown",
   "metadata": {},
   "source": [
    "![AutoML](./assets/16_automl_tables_deploy_confirmation.png)"
   ]
  },
  {
   "cell_type": "markdown",
   "metadata": {},
   "source": [
    "## Make batch predictions"
   ]
  },
  {
   "cell_type": "markdown",
   "metadata": {},
   "source": [
    "### Step 17: Create batch prediction job\n",
    "Great! Once  the model is done deploying, `Deployed` should say `Yes`. \n",
    "\n",
    "Now click your model name and then the `PREDICT` tab. Let's start  with batch prediction. To make this easy, we can for now  predict on the BigQuery table that we used to train and evaluate on. To do that, select the radio button `Data from BigQuery` and then enter your `BigQuery Project Id`, `BigQuery Dataset Id`, and `BigQuery Table or View Id`. We could have also used CSVs from Google Cloud Storage. \n",
    "\n",
    "Next we need to select where we want to put our `Result`. Let's select the radio button `BigQuery project` and enter our `BigQuery Project Id`. We also could have written the results to Google Cloud Storage. Once that is set, click `SEND BATCH PREDICTION` to submit a batch prediction job using our trained AutoML Tables model and the data at the location selected above."
   ]
  },
  {
   "cell_type": "markdown",
   "metadata": {},
   "source": [
    "![AutoML](./assets/17_automl_tables_batch_predict.png)"
   ]
  },
  {
   "cell_type": "markdown",
   "metadata": {},
   "source": [
    "### Step 18: Batch prediction job finished\n",
    "After a short wait, your batch predictions should be done. The lab dataset took about 15 minutes. At the bottom of the `BATCH PREDICTION` page you should see a section labeled `Recent Predictions`. This shows the data input, where the results are stored, when it was created, and how long it took to process. Let's now move to the [BigQuery Console UI](https://console.cloud.google.com/bigquery) to have a look."
   ]
  },
  {
   "cell_type": "markdown",
   "metadata": {},
   "source": [
    "![AutoML](./assets/18_automl_tables_batch_predict_results.png)"
   ]
  },
  {
   "cell_type": "markdown",
   "metadata": {},
   "source": [
    "### Step 19: Batch prediction dataset\n",
    "In your list of projects on the far left, you will see the project you have been working in. Click the arrow to expand the dropdown list of all the BigQuery datasets within the project. You'll see a new dataset there which is the same as the one shown in the `Results directory` from the last step. Expanding that dataset dropdown list, you will see two BigQuery tables that have been created: `predictions` and `errors`. Let's first look at the `predictions` table."
   ]
  },
  {
   "cell_type": "markdown",
   "metadata": {},
   "source": [
    "![AutoML](./assets/19_automl_tables_batch_predict_dataset.png)"
   ]
  },
  {
   "cell_type": "markdown",
   "metadata": {},
   "source": [
    "### Step 20: Batch prediction predictions\n",
    "The `predictions` BigQuery table has essentially taken your input data to the batch prediction job and appended three new columns to it. Notice that even columns you did not use as features in your model are still here, such as `hashmonth`. You should see the two `prediction_inteval` columns for `start` and `end`. The last column is the prediction `value` which for us is our predicted `weight_pounds` that was calculated by our trained AutoML Tables model, using the corresponding features in the row."
   ]
  },
  {
   "cell_type": "markdown",
   "metadata": {},
   "source": [
    "![AutoML](./assets/20_automl_tables_batch_predict_prediction_table.png)"
   ]
  },
  {
   "cell_type": "markdown",
   "metadata": {},
   "source": [
    "### Step 21: Batch prediction errors\n",
    "We can also look at the `errors` table for possible errors. When running the lab's batch prediction job, thankfully there weren't any errors, but this is definitely the place to check in case yours did. If the `errors` table if empty, below you'll see the schema. Once again, it has essentially taken your input data to the batch prediction job and appended three new columns. There is a record stored as well as an error `code` and `error` message. These could be helpful in debugging any unwanted behavior."
   ]
  },
  {
   "cell_type": "markdown",
   "metadata": {},
   "source": [
    "![AutoML](./assets/21_automl_tables_batch_predict_errors_table_schema.png)"
   ]
  },
  {
   "cell_type": "markdown",
   "metadata": {},
   "source": [
    "## Make online predictions"
   ]
  },
  {
   "cell_type": "markdown",
   "metadata": {},
   "source": [
    "### Step 22: Online prediction setup\n",
    "We can also perform online prediction with our trained AutoML Tables model. To do that, in the `PREDICT` tab, click `ONLINE PREDICTION`. You'll something similar to the table below with our model's features. Each feature has the column name, column ID, data type, status (whether it is required or not), and a prepopulated value. You can leave those values as is or enter values. For `Categorical` features, make sure to use valid values or else they will end up in the OOV (out of vocabulary) spillover and not take full advantage of the training. When you're done setting your values, click the `PREDICT` button."
   ]
  },
  {
   "cell_type": "markdown",
   "metadata": {},
   "source": [
    "![AutoML](./assets/22_automl_tables_before_online_predict.png)"
   ]
  },
  {
   "cell_type": "markdown",
   "metadata": {},
   "source": [
    "### Step 23: Online prediction result\n",
    "After a few moments, you should see your online predictions appear on your screen. There will be a `Prediction result` as well as a `95% prediction interval` returned. You can try other values for each feature and see the predictions results."
   ]
  },
  {
   "cell_type": "markdown",
   "metadata": {},
   "source": [
    "![AutoML](./assets/23_automl_tables_after_online_predict.png)"
   ]
  },
  {
   "cell_type": "markdown",
   "metadata": {},
   "source": [
    "## Lab Summary: \n",
    "In this lab, we used AutoML Tables to train a model to predict the weight of a baby before it is born.  We used the AutoML Tables UI to create a training dataset from BigQuery then we trained, evaluated, and predicted with a Auto ML Tables model.\n",
    "\n",
    "We setup AutoML Tables, created and imported an AutoML Tables dataset from BigQuery, analyzed AutoML Tables dataset, trained an AutoML Tables model, checked evaluation metrics of trained model, deployed trained model, and then finally made both batch and online predictions using the trained model.\n",
    "\n",
    "This was a longer lab with multiple steps. If you had any questions or issues with getting similar results to the solution, try to segment out the sections of the lab to retrace your steps and find any errors in executing the instructions. Once your comfortable with your solution output, proceed to the next lab. "
   ]
  },
  {
   "cell_type": "markdown",
   "metadata": {
    "colab_type": "text",
    "id": "PK_-WNGUD5bX"
   },
   "source": [
    "Copyright 2020 Google LLC\n",
    "Licensed under the Apache License, Version 2.0 (the \"License\");\n",
    "you may not use this file except in compliance with the License.\n",
    "You may obtain a copy of the License at\n",
    "    https://www.apache.org/licenses/LICENSE-2.0\n",
    "Unless required by applicable law or agreed to in writing, software\n",
    "distributed under the License is distributed on an \"AS IS\" BASIS,\n",
    "WITHOUT WARRANTIES OR CONDITIONS OF ANY KIND, either express or implied.\n",
    "See the License for the specific language governing permissions and\n",
    "limitations under the License."
   ]
  },
  {
   "cell_type": "code",
   "execution_count": null,
   "metadata": {},
   "outputs": [],
   "source": []
  }
 ],
 "metadata": {
  "colab": {
   "default_view": {},
   "name": "babyweight_bqml.ipynb",
   "provenance": [],
   "version": "0.3.2",
   "views": {}
  },
  "environment": {
   "name": "tf2-gpu.2-1.m50",
   "type": "gcloud",
   "uri": "gcr.io/deeplearning-platform-release/tf2-gpu.2-1:m50"
  },
  "kernelspec": {
   "display_name": "Python 3",
   "language": "python",
   "name": "python3"
  },
  "language_info": {
   "codemirror_mode": {
    "name": "ipython",
    "version": 3
   },
   "file_extension": ".py",
   "mimetype": "text/x-python",
   "name": "python",
   "nbconvert_exporter": "python",
   "pygments_lexer": "ipython3",
   "version": "3.7.6"
  }
 },
 "nbformat": 4,
 "nbformat_minor": 4
}
