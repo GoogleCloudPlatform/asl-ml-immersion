{
 "cells": [
  {
   "cell_type": "markdown",
   "metadata": {
    "id": "tvgnzT1CKxrO"
   },
   "source": [
    "# Tuning and deploy a foundation model\n"
   ]
  },
  {
   "cell_type": "markdown",
   "metadata": {
    "id": "d975e698c9a4"
   },
   "source": [
    "**Learning Objective**\n",
    "\n",
    "1. Learn how to generate a JSONL file for Gemini tuning\n",
    "1. Learn how to launch a tuning job\n",
    "1. Learn how to deploy and query a tuned LLM\n",
    "1. Learn how to evaluate a tuned LLM\n"
   ]
  },
  {
   "cell_type": "markdown",
   "metadata": {
    "id": "JAPoU8Sm5E6e",
    "tags": []
   },
   "source": [
    "Creating an LLM requires massive amounts of data, significant computing resources, and specialized skills. In this notebook, you'll learn how tuning allows you to customize a Gemini foundation model on Vertex AI studio for more specific tasks or knowledge domains.\n",
    "While the prompt design is excellent for quick experimentation, if training data is available, you can achieve higher quality by tuning the model. Tuning a model enables you to customize the model response based on examples of the task you want the model to perform.\n",
    "\n",
    "For more details on tuning have a look at the [official documentation](https://cloud.google.com/vertex-ai/docs/generative-ai/models/tune-models)."
   ]
  },
  {
   "cell_type": "markdown",
   "metadata": {},
   "source": [
    "## Setup"
   ]
  },
  {
   "cell_type": "code",
   "execution_count": null,
   "metadata": {
    "tags": []
   },
   "outputs": [],
   "source": [
    "import os\n",
    "import warnings\n",
    "\n",
    "warnings.filterwarnings(\"ignore\")\n",
    "os.environ[\"TF_CPP_MIN_LOG_LEVEL\"] = \"2\""
   ]
  },
  {
   "cell_type": "code",
   "execution_count": null,
   "metadata": {
    "tags": []
   },
   "outputs": [],
   "source": [
    "import json\n",
    "import time\n",
    "\n",
    "import evaluate\n",
    "import pandas as pd\n",
    "from google import genai\n",
    "from google.cloud import bigquery\n",
    "from google.genai import types\n",
    "from IPython.display import Markdown\n",
    "from sklearn.model_selection import train_test_split"
   ]
  },
  {
   "cell_type": "code",
   "execution_count": null,
   "metadata": {
    "tags": []
   },
   "outputs": [],
   "source": [
    "REGION = \"us-central1\"\n",
    "PROJECT_ID = !(gcloud config get-value project)\n",
    "PROJECT_ID = PROJECT_ID[0]\n",
    "BUCKET_NAME = PROJECT_ID\n",
    "BUCKET_URI = f\"gs://{BUCKET_NAME}\""
   ]
  },
  {
   "cell_type": "code",
   "execution_count": null,
   "metadata": {
    "colab": {
     "base_uri": "https://localhost:8080/"
    },
    "id": "NSRiXkavaalH",
    "outputId": "8b752c8a-d575-4982-85f8-5a40317c8ac3",
    "tags": []
   },
   "outputs": [],
   "source": [
    "!gsutil ls $BUCKET_URI || gsutil mb -l $REGION -p $PROJECT_ID $BUCKET_URI"
   ]
  },
  {
   "cell_type": "markdown",
   "metadata": {
    "id": "WdtNETYxaalH"
   },
   "source": [
    "## Training Data\n",
    "\n",
    "\n",
    "In this notebook, we will be tuning Gemini using the Gen AI SDK on a questions & answers dataset from StackOverflow. \n",
    "Our first step will be to query the StackOverflow data on BigQuery Public Datasets, limiting to questions with the `python` tag, and `accepted` answers from 2020-01-01 only. \n",
    "\n",
    "We will limit the dataset to 1000 samples, 800 of which will be used to tune the LLM and the rest for evaluating the tuned model.\n",
    "The second step will be to convert the dataset into a JSONL format, with one example per line, so that the tuning job can consume it.\n"
   ]
  },
  {
   "cell_type": "markdown",
   "metadata": {
    "id": "1BydoFfTaalI"
   },
   "source": [
    "Next let us run the query to assemble our dataset into the DataFrame `df`:"
   ]
  },
  {
   "cell_type": "code",
   "execution_count": null,
   "metadata": {
    "tags": []
   },
   "outputs": [],
   "source": [
    "%%bigquery df\n",
    "\n",
    "SELECT CONCAT(q.title, q.body) as input_text, a.body AS output_text\n",
    "FROM\n",
    "    `bigquery-public-data.stackoverflow.posts_questions` q\n",
    "JOIN\n",
    "    `bigquery-public-data.stackoverflow.posts_answers` a\n",
    "ON\n",
    "    q.accepted_answer_id = a.id\n",
    "WHERE\n",
    "    q.accepted_answer_id IS NOT NULL AND\n",
    "    REGEXP_CONTAINS(q.tags, \"python\") AND\n",
    "    a.creation_date >= \"2020-01-01\"\n",
    "LIMIT\n",
    "    1000"
   ]
  },
  {
   "cell_type": "code",
   "execution_count": null,
   "metadata": {
    "id": "9VTaovLtaalI",
    "tags": []
   },
   "outputs": [],
   "source": [
    "df.head()"
   ]
  },
  {
   "cell_type": "markdown",
   "metadata": {},
   "source": [
    "The column `input_text` under `parts` corresponds to the actual questions asked by the StackOverflow users, while the `output_text` column corresponds to the correct answers. From this dataset of 1000 questions-answers pairs, we will now need to generate a JSONL file with one example per line in the format:\n",
    "\n",
    "```python\n",
    "{\n",
    "  \"contents\": [\n",
    "    {\n",
    "      \"role\": \"user\",\n",
    "      \"parts\": [\n",
    "        {\n",
    "          \"text\": input_text,\n",
    "          ...\n",
    "        }\n",
    "      ],\n",
    "    },\n",
    "    {\n",
    "      \"role\": \"model\",\n",
    "      \"parts\": [\n",
    "        {\n",
    "          \"text\": output_text,\n",
    "          ...\n",
    "        }\n",
    "      ],\n",
    "    },\n",
    "  ]\n",
    "}\n",
    "```\n",
    "\n",
    "This is the format example we need to tune a Gemini 2.0 Flash model.\n",
    "\n",
    "Please refer to [the document](https://cloud.google.com/vertex-ai/generative-ai/docs/models/gemini-supervised-tuning-prepare#dataset_example_for_gemini-15-pro_and_gemini-15-flash) to check other fields you can use.\n",
    "\n",
    "To tune Gemini we advise at least 100 to 500 examples. The more examples you provide in your dataset, the better the results. There is no limit for the number of examples in a training dataset. In this case you will use 800.\n",
    "If possible, also provide a validation dataset. A validation dataset helps you measure the effectiveness of a tuning job. Validation datasets support up to 256 examples.\n",
    "\n",
    "Let's first split the data into training and evaluation. "
   ]
  },
  {
   "cell_type": "code",
   "execution_count": null,
   "metadata": {
    "id": "aXqBwSwaaalJ",
    "tags": []
   },
   "outputs": [],
   "source": [
    "# split is set to 80/20\n",
    "train, evaluation = train_test_split(df, test_size=0.2)\n",
    "print(\"train size:\", len(train))\n",
    "print(\"eval size:\", len(evaluation))"
   ]
  },
  {
   "cell_type": "code",
   "execution_count": null,
   "metadata": {
    "tags": []
   },
   "outputs": [],
   "source": [
    "train.head()"
   ]
  },
  {
   "cell_type": "markdown",
   "metadata": {
    "id": "nf-q8TpnaalJ"
   },
   "source": [
    "For tuning, the training and evaluation data first needs to be converted into a JSONL format. For this, we provide the following two helper functions.\n",
    "The first one converts a single `input_text` and `output_text` record into the JSONL format required by Gemini."
   ]
  },
  {
   "cell_type": "code",
   "execution_count": null,
   "metadata": {
    "tags": []
   },
   "outputs": [],
   "source": [
    "def format_for_gemini(input_text, output_text):\n",
    "    return json.dumps(\n",
    "        {\n",
    "            \"contents\": [\n",
    "                {\n",
    "                    \"role\": \"user\",\n",
    "                    \"parts\": [\n",
    "                        {\n",
    "                            \"text\": input_text,\n",
    "                        }\n",
    "                    ],\n",
    "                },\n",
    "                {\n",
    "                    \"role\": \"model\",\n",
    "                    \"parts\": [\n",
    "                        {\n",
    "                            \"text\": output_text,\n",
    "                        }\n",
    "                    ],\n",
    "                },\n",
    "            ]\n",
    "        }\n",
    "    )"
   ]
  },
  {
   "cell_type": "markdown",
   "metadata": {},
   "source": [
    "The second helper function exports the data into a file:"
   ]
  },
  {
   "cell_type": "code",
   "execution_count": null,
   "metadata": {
    "tags": []
   },
   "outputs": [],
   "source": [
    "def export_tuning_data(file_name, df):\n",
    "    with open(file_name, \"a\") as file:\n",
    "        for row in df.iterrows():\n",
    "            jsonline = format_for_gemini(\n",
    "                row[1][\"input_text\"],\n",
    "                row[1][\"output_text\"],\n",
    "            )\n",
    "            file.write(jsonline)\n",
    "            file.write(\"\\n\")"
   ]
  },
  {
   "cell_type": "markdown",
   "metadata": {
    "tags": []
   },
   "source": [
    "Let us now create our training and evaluation files:"
   ]
  },
  {
   "cell_type": "code",
   "execution_count": null,
   "metadata": {
    "tags": []
   },
   "outputs": [],
   "source": [
    "training_data_filename = \"tune_data_stack_overflow_python_qa.jsonl\"\n",
    "evaluation_data_filename = \"evaluation_data_stack_overflow_python_qa.jsonl\"\n",
    "\n",
    "!test -f $training_data_filename    && rm $training_data_filename\n",
    "!test -f $evaluation_data_filename  && rm $evaluation_data_filename\n",
    "\n",
    "export_tuning_data(training_data_filename, train)\n",
    "export_tuning_data(evaluation_data_filename, evaluation)"
   ]
  },
  {
   "cell_type": "markdown",
   "metadata": {
    "id": "FV8Wxz7JaalN"
   },
   "source": [
    "You can then export the local files to GCS, so that they can be used by Vertex AI for the tuning job."
   ]
  },
  {
   "cell_type": "code",
   "execution_count": null,
   "metadata": {
    "id": "vDDLHac5aalN",
    "tags": []
   },
   "outputs": [],
   "source": [
    "!gsutil cp $training_data_filename   $BUCKET_URI\n",
    "!gsutil cp $evaluation_data_filename $BUCKET_URI"
   ]
  },
  {
   "cell_type": "markdown",
   "metadata": {
    "id": "Ff68wmzoaalN"
   },
   "source": [
    "You can check to make sure that the files successfully transferred to your Google Cloud Storage bucket:"
   ]
  },
  {
   "cell_type": "code",
   "execution_count": null,
   "metadata": {
    "id": "2-DnKpYlaalN",
    "tags": []
   },
   "outputs": [],
   "source": [
    "TRAINING_DATA_URI = f\"{BUCKET_URI}/{training_data_filename}\"\n",
    "EVALUATION_DATA_URI = f\"{BUCKET_URI}/{evaluation_data_filename}\"\n",
    "\n",
    "!gsutil ls -al $TRAINING_DATA_URI\n",
    "!gsutil ls -al $EVALUATION_DATA_URI"
   ]
  },
  {
   "cell_type": "markdown",
   "metadata": {
    "id": "-mW7K57BaalN",
    "tags": []
   },
   "source": [
    "### Model Tuning\n",
    "Now it's time to start to tune a model. You will use the [Google Gen AI SDK to submit our tuning job](https://googleapis.github.io/python-genai/#tune).\n",
    "This should take roughly 30min."
   ]
  },
  {
   "cell_type": "code",
   "execution_count": null,
   "metadata": {
    "id": "on4baTh5aalN",
    "tags": []
   },
   "outputs": [],
   "source": [
    "client = genai.Client(vertexai=True, location=\"us-central1\")\n",
    "\n",
    "base_model = \"gemini-2.0-flash-001\"\n",
    "\n",
    "training_dataset = types.TuningDataset(\n",
    "    gcs_uri=TRAINING_DATA_URI,\n",
    ")\n",
    "evaluation_dataset = types.TuningValidationDataset(gcs_uri=EVALUATION_DATA_URI)\n",
    "\n",
    "sft_tuning_job = client.tunings.tune(\n",
    "    base_model=base_model,\n",
    "    training_dataset=training_dataset,\n",
    "    config=types.CreateTuningJobConfig(\n",
    "        epoch_count=1,\n",
    "        validation_dataset=evaluation_dataset,\n",
    "        tuned_model_display_name=\"stackoverflow_tuned_gemini_pro\",\n",
    "    ),\n",
    ")\n",
    "\n",
    "running_states = {\"JOB_STATE_PENDING\", \"JOB_STATE_RUNNING\"}\n",
    "\n",
    "# Polling for job completion\n",
    "while sft_tuning_job.state in running_states:\n",
    "    print(sft_tuning_job.state)\n",
    "    sft_tuning_job = client.tunings.get(name=sft_tuning_job.name)\n",
    "    time.sleep(10)\n",
    "\n",
    "print(sft_tuning_job.tuned_model_display_name)\n",
    "print(sft_tuning_job.name)\n",
    "print(sft_tuning_job.experiment)"
   ]
  },
  {
   "cell_type": "markdown",
   "metadata": {
    "id": "O6JC8XplaalO"
   },
   "source": [
    "## Retrieve the tuned model from your Vertex AI Model registry\n",
    "\n",
    "\n",
    "When your tuning job is finished, your model will be available on Vertex. The next cell shows you how to list tuned models."
   ]
  },
  {
   "cell_type": "code",
   "execution_count": null,
   "metadata": {
    "tags": []
   },
   "outputs": [],
   "source": [
    "for model in client.models.list(config={\"page_size\": 10, \"query_base\": False}):\n",
    "    print(model)"
   ]
  },
  {
   "cell_type": "markdown",
   "metadata": {
    "id": "xDOueoptaalO"
   },
   "source": [
    "It's time to get predictions. You can start sending a prompt to the tuned model via Gen AI SDK.<br>\n",
    "Feel free to update the following prompt:"
   ]
  },
  {
   "cell_type": "code",
   "execution_count": null,
   "metadata": {
    "id": "2ERbfPJPaalO",
    "tags": []
   },
   "outputs": [],
   "source": [
    "PROMPT = \"\"\"\n",
    "How can I store my TensorFlow checkpoint on Google Cloud Storage?\n",
    "\n",
    "Python example:\n",
    "\n",
    "\"\"\"\n",
    "\n",
    "response = client.models.generate_content(\n",
    "    model=sft_tuning_job.tuned_model.endpoint,\n",
    "    contents=PROMPT,\n",
    ")\n",
    "\n",
    "Markdown(response.text)"
   ]
  },
  {
   "cell_type": "markdown",
   "metadata": {
    "tags": []
   },
   "source": [
    "## Manual Evaluation\n",
    "\n",
    "It's essential to evaluate your model to understand its performance. Evaluation can be done in an automated way using evaluation metrics like F1, Bleu, or Rouge. You can also leverage human evaluation methods. Human evaluation methods involve asking humans to rate the quality of the LLM's answers. This can be done through crowdsourcing or by having experts evaluate the responses. Some standard human evaluation metrics include fluency, coherence, relevance, and informativeness. Often you want to choose a mix of evaluation metrics to get a good understanding of your model performance. \n",
    "\n",
    "\n",
    "Among other metrics we will compute the following two metrics that provide crude measures albeit automated of how two texts may have the same meaning: \n",
    "- The [BLEU](https://en.wikipedia.org/wiki/BLEU) evaluation metric is a sort of **precision** metric, measuring the proportion of $n$-grams in the generated sentence matching $n$-grams in the reference sentence. It goes from 0 to 1 with a higher score for more similar sentences. BLEU1 considers uni-grams only, while BLEU2 considers bi-grams. \n",
    "\n",
    "- The [ROUGE](https://en.wikipedia.org/wiki/ROUGE_(metric)) evaluation metric is a sort of **recall** metric, measuring the proportion of $n$-grams in the reference sentence that are matched by $n$-grams in the generated sentence. It goes from 0 to 1 with a higher score for more similar sentences. ROUGE1 considers uni-grams only, while ROUGE2 considers bi-grams.\n",
    "\n",
    "\n",
    "We will use  [evaluate](https://github.com/huggingface/evaluate/tree/main) to to compute the scores.\n",
    "Earlier in the notebook, you created a train and eval dataset. Now it's time to take some of the eval data. You will use the questions to get a response from our tuned model, and the answers we will use as a reference:\n",
    "- **Candidates**: Answers generated by the tuned model.\n",
    "- **References**: Original answers that we will use to compare\n"
   ]
  },
  {
   "cell_type": "code",
   "execution_count": null,
   "metadata": {
    "id": "LKMmIH0XaalO",
    "tags": []
   },
   "outputs": [],
   "source": [
    "# you can change the number of rows you want to use\n",
    "EVAL_ROWS = 60\n",
    "INPUT_LIMIT = 10000  # characters\n",
    "evaluation = evaluation[evaluation.input_text.apply(len) <= INPUT_LIMIT]\n",
    "evaluation = evaluation.head(EVAL_ROWS)\n",
    "evaluation.head()"
   ]
  },
  {
   "cell_type": "markdown",
   "metadata": {},
   "source": [
    "The function in the cell below will query our tuned model using the `evaluation.input_text` and store the ground truth in `evaluation.output_text` in a DataFrame next to the model answers (this will roughly take 5 minutes):"
   ]
  },
  {
   "cell_type": "code",
   "execution_count": null,
   "metadata": {
    "tags": []
   },
   "outputs": [],
   "source": [
    "def create_eval_data(model_endpoint, evaluation):\n",
    "    model_answers = []\n",
    "\n",
    "    for prompt in evaluation.input_text:\n",
    "        response = client.models.generate_content(\n",
    "            model=model_endpoint, contents=prompt\n",
    "        )\n",
    "        model_answers.append(response.text)\n",
    "    eval_df = pd.DataFrame(\n",
    "        {\"candidate\": model_answers, \"reference\": evaluation.output_text}\n",
    "    )\n",
    "    mask = eval_df.candidate == \"\"\n",
    "    return eval_df[~mask]"
   ]
  },
  {
   "cell_type": "code",
   "execution_count": null,
   "metadata": {
    "tags": []
   },
   "outputs": [],
   "source": [
    "eval_df = create_eval_data(sft_tuning_job.tuned_model.endpoint, evaluation)"
   ]
  },
  {
   "cell_type": "code",
   "execution_count": null,
   "metadata": {
    "tags": []
   },
   "outputs": [],
   "source": [
    "eval_df.head()"
   ]
  },
  {
   "cell_type": "markdown",
   "metadata": {},
   "source": [
    "The function in the next cell computes the uni-gram BLEU and ROUGE scores. It averages these scores over all the reference answers and those generated by our tuned model, giving scores that can serve as performance metrics for our model."
   ]
  },
  {
   "cell_type": "code",
   "execution_count": null,
   "metadata": {
    "tags": []
   },
   "outputs": [],
   "source": [
    "def compute_scores(eval_data):\n",
    "    predictions = eval_data.candidate.tolist()\n",
    "    references = eval_data.reference.tolist()\n",
    "    rouge = evaluate.load(\"rouge\")\n",
    "    bleu = evaluate.load(\"bleu\")\n",
    "    rouge_value = rouge.compute(predictions=predictions, references=references)[\n",
    "        \"rouge1\"\n",
    "    ]\n",
    "    bleu_value = bleu.compute(predictions=predictions, references=references)[\n",
    "        \"bleu\"\n",
    "    ]\n",
    "    return {\"rouge\": rouge_value, \"bleu\": bleu_value}"
   ]
  },
  {
   "cell_type": "code",
   "execution_count": null,
   "metadata": {
    "tags": []
   },
   "outputs": [],
   "source": [
    "compute_scores(eval_df)"
   ]
  },
  {
   "cell_type": "markdown",
   "metadata": {},
   "source": [
    "Given two versions of the model (possibly tuned with a different amount of data or training steps), you can now compare the scores to decide which one is the best. However, remember that these automated metrics are very crude proxy of human assessment. "
   ]
  },
  {
   "cell_type": "markdown",
   "metadata": {
    "id": "qtYr_KNPaalO",
    "tags": []
   },
   "source": [
    "## Automated Evaluation\n",
    "\n",
    "\n",
    "Let us conclude by noting that a Vertex tuning job collects and reports model tuning and model evaluation metrics, which can then be visualized in Vertex AI Experiments by clicking on your tuned model name in the tuning section of Vertex AI Studio.\n",
    "Here is a description of the metrics that are computed:\n",
    "\n",
    "\n",
    "#### Model tuning metrics\n",
    "\n",
    "The model tuning job automatically collects the following tuning metrics for `gemini-2.0-flash`.\n",
    "\n",
    "* `/train_total_loss`: Loss for the tuning dataset at a training step.\n",
    "* `/train_fraction_of_correct_next_step_preds`: The token accuracy at a training step. A single prediction consists of a sequence of tokens. This metric measures the accuracy of the predicted tokens when compared to the ground truth in the tuning dataset.\n",
    "* `/train_num_predictions`: Number of predicted tokens at a training step.\n",
    "\n",
    "\n",
    "#### Model validation metrics:\n",
    "\n",
    "You can configure a model tuning job to collect the following validation metrics for gemini-2.0-flash by passing an evaluation dataset as we did in this lab.\n",
    "\n",
    "`/eval_total_loss`: Loss for the validation dataset at a validation step.\n",
    "`/eval_fraction_of_correct_next_step_preds`: The token accuracy at an validation step. A single prediction consists of a sequence of tokens. This metric measures the accuracy of the predicted tokens when compared to the ground truth in the validation dataset.\n",
    "`/eval_num_predictions`: Number of predicted tokens at a validation step.\n",
    "\n",
    "\n",
    "The metrics visualizations are available after the model tuning job completes. \n",
    "If you don't specify a validation dataset when you create the tuning job, \n",
    "only the visualizations for the tuning metrics are available.\n",
    "\n"
   ]
  },
  {
   "cell_type": "markdown",
   "metadata": {},
   "source": [
    "## Acknowledgement \n",
    "\n",
    "This notebook is adapted from a [tutorial](https://github.com/GoogleCloudPlatform/generative-ai/blob/main/language/tuning/getting_started_tuning.ipynb)\n",
    "written by Polong Lin."
   ]
  },
  {
   "cell_type": "markdown",
   "metadata": {
    "id": "ur8xi4C7S06n"
   },
   "source": [
    "Copyright 2023 Google LLC\n",
    "\n",
    "Licensed under the Apache License, Version 2.0 (the \"License\");\n",
    "you may not use this file except in compliance with the License.\n",
    "You may obtain a copy of the License at\n",
    "\n",
    "     https://www.apache.org/licenses/LICENSE-2.0\n",
    "\n",
    "Unless required by applicable law or agreed to in writing, software\n",
    "distributed under the License is distributed on an \"AS IS\" BASIS,\n",
    "WITHOUT WARRANTIES OR CONDITIONS OF ANY KIND, either express or implied.\n",
    "See the License for the specific language governing permissions and\n",
    "limitations under the License."
   ]
  },
  {
   "cell_type": "code",
   "execution_count": null,
   "metadata": {},
   "outputs": [],
   "source": []
  }
 ],
 "metadata": {
  "colab": {
   "provenance": [],
   "toc_visible": true
  },
  "environment": {
   "kernel": "conda-base-py",
   "name": "workbench-notebooks.m128",
   "type": "gcloud",
   "uri": "us-docker.pkg.dev/deeplearning-platform-release/gcr.io/workbench-notebooks:m128"
  },
  "kernelspec": {
   "display_name": "Python 3 (ipykernel)",
   "language": "python",
   "name": "conda-base-py"
  },
  "language_info": {
   "codemirror_mode": {
    "name": "ipython",
    "version": 3
   },
   "file_extension": ".py",
   "mimetype": "text/x-python",
   "name": "python",
   "nbconvert_exporter": "python",
   "pygments_lexer": "ipython3",
   "version": "3.10.16"
  }
 },
 "nbformat": 4,
 "nbformat_minor": 4
}
