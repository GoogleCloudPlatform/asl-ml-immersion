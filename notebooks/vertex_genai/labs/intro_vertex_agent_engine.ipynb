{
 "cells": [
  {
   "cell_type": "markdown",
   "metadata": {
    "id": "VEqbX8OhE8y9"
   },
   "source": [
    "# Intro to Building and Deploying an Agent with Agent Engine in Vertex AI\n",
    "       \n"
   ]
  },
  {
   "cell_type": "markdown",
   "metadata": {
    "id": "CkHPv2myT2cx"
   },
   "source": [
    "## Overview\n",
    "\n",
    "### Agent Engine in Vertex AI\n",
    "\n",
    "[Agent Engine](https://cloud.google.com/vertex-ai/generative-ai/docs/agent-engine/overview) is a managed service that helps you to build and deploy an agent framework. It gives you the flexibility to choose how much reasoning you want to delegate to the LLM and how much you want to handle with customized code. Agent Engine integrates closely with the Python SDK for the Gemini model in Vertex AI, and it can manage prompts, agents, and examples in a modular way. Agent Engine is compatible with LangChain, LlamaIndex, or other Python frameworks.\n"
   ]
  },
  {
   "cell_type": "markdown",
   "metadata": {
    "id": "DrkcqHrrwMAo"
   },
   "source": [
    "### Objectives\n",
    "\n",
    "In this tutorial, you will learn how to build and deploy an agent (model, tools, and reasoning) using the Vertex AI SDK for Python.\n",
    "\n",
    "You'll build and deploy an agent that uses the Gemini model, Python functions as tools, and LangChain for orchestration.\n",
    "\n",
    "You will complete the following tasks:\n",
    "\n",
    "- Install the Vertex AI SDK for Python\n",
    "- Use the Vertex AI SDK to build components of a simple agent\n",
    "- Test your agent locally before deploying\n",
    "- Deploy and test your agent on Vertex AI\n",
    "- Customize each layer of your agent (model, tools, orchestration)"
   ]
  },
  {
   "cell_type": "markdown",
   "metadata": {
    "id": "r11Gu7qNgx1p"
   },
   "source": [
    "## Getting Started\n"
   ]
  },
  {
   "cell_type": "markdown",
   "metadata": {
    "id": "No17Cw5hgx12"
   },
   "source": [
    "### Install Vertex AI SDK for Python\n",
    "\n",
    "Install the latest version of the Vertex AI SDK for Python as well as extra dependencies related to Agent Engine and LangChain:"
   ]
  },
  {
   "cell_type": "code",
   "execution_count": null,
   "metadata": {
    "colab": {
     "base_uri": "https://localhost:8080/"
    },
    "id": "tFy3H3aPgx12",
    "outputId": "0fbd1298-7303-432d-d0a2-1afef24b123a",
    "tags": []
   },
   "outputs": [],
   "source": [
    "%pip install --upgrade --quiet \\\n",
    "    \"google-cloud-aiplatform[agent_engines,langchain]\" \\\n",
    "    cloudpickle==3.0.0 \\\n",
    "    \"pydantic>=2.10\" \\\n",
    "    requests"
   ]
  },
  {
   "cell_type": "markdown",
   "metadata": {
    "id": "R5Xep4W9lq-Z"
   },
   "source": [
    "### Restart current runtime\n",
    "\n",
    "To use the newly installed packages in this Jupyter runtime, you must restart the runtime. You can do this by running the cell below, which will restart the current kernel."
   ]
  },
  {
   "cell_type": "code",
   "execution_count": null,
   "metadata": {
    "colab": {
     "base_uri": "https://localhost:8080/"
    },
    "id": "XRvKdaPDTznN",
    "outputId": "7d3feaf9-fb33-436e-9e12-07b6f2a221ab",
    "tags": []
   },
   "outputs": [],
   "source": [
    "# Restart kernel after installs so that your environment can access the new packages\n",
    "import IPython\n",
    "\n",
    "app = IPython.Application.instance()\n",
    "app.kernel.do_shutdown(True)"
   ]
  },
  {
   "cell_type": "markdown",
   "metadata": {
    "id": "SbmM4z7FOBpM"
   },
   "source": [
    "<div class=\"alert alert-block alert-warning\">\n",
    "<b>⚠️ The kernel is going to restart. Please wait until it is finished before continuing to the next step. ⚠️</b>\n",
    "</div>\n"
   ]
  },
  {
   "cell_type": "code",
   "execution_count": null,
   "metadata": {
    "id": "Nqwi-5ufWp_B",
    "tags": []
   },
   "outputs": [],
   "source": [
    "PROJECT_ID = !(gcloud config get-value project)\n",
    "PROJECT_ID = PROJECT_ID[0]\n",
    "BUCKET_NAME = PROJECT_ID\n",
    "STAGING_BUCKET = f\"gs://{BUCKET_NAME}\"\n",
    "LOCATION = \"us-central1\"\n",
    "\n",
    "import vertexai\n",
    "\n",
    "vertexai.init(\n",
    "    project=PROJECT_ID, location=LOCATION, staging_bucket=STAGING_BUCKET\n",
    ")"
   ]
  },
  {
   "cell_type": "markdown",
   "metadata": {
    "id": "1e5c96372296"
   },
   "source": [
    "## Example: Build and deploy an agent"
   ]
  },
  {
   "cell_type": "markdown",
   "metadata": {
    "id": "jXHfaVS66_01"
   },
   "source": [
    "### Import libraries"
   ]
  },
  {
   "cell_type": "code",
   "execution_count": null,
   "metadata": {
    "id": "lslYAvw37JGQ",
    "tags": []
   },
   "outputs": [],
   "source": [
    "from vertexai import agent_engines\n",
    "from vertexai.preview.reasoning_engines import LangchainAgent"
   ]
  },
  {
   "cell_type": "markdown",
   "metadata": {
    "id": "43c61bf4c3f5"
   },
   "source": [
    "### Define model"
   ]
  },
  {
   "cell_type": "markdown",
   "metadata": {
    "id": "f685ca44c1e9"
   },
   "source": [
    "As you construct your agent from the bottom up, the first component deals with which generative model you want to use in your agent.\n",
    "\n",
    "<img width=\"40%\" src=\"https://storage.googleapis.com/github-repo/generative-ai/gemini/agent-engine/images/agent-stack-1.png\" alt=\"Components of an agent in Agent Engine on Vertex AI\" />\n",
    "\n",
    "Here you'll use the Gemini 2.0 model:"
   ]
  },
  {
   "cell_type": "code",
   "execution_count": null,
   "metadata": {
    "id": "921890fcb875",
    "tags": []
   },
   "outputs": [],
   "source": [
    "model = \"gemini-2.0-flash\""
   ]
  },
  {
   "cell_type": "markdown",
   "metadata": {
    "id": "60eba5468448"
   },
   "source": [
    "### Define Python functions (tools)\n",
    "\n",
    "The second component of your agent includes tools and functions, which enable the generative model to interact with external systems, databases, document stores, and other APIs so that the model can get the most up-to-date information or take action with those systems.\n",
    "\n",
    "<img width=\"40%\" src=\"https://storage.googleapis.com/github-repo/generative-ai/gemini/agent-engine/images/agent-stack-2.png\" alt=\"Components of an agent in Agent Engine on Vertex AI\" />\n",
    "\n",
    "In this example, you'll define a function called `get_exchange_rate` that uses the `requests` library to retrieve real-time currency exchange information from an API:"
   ]
  },
  {
   "cell_type": "code",
   "execution_count": null,
   "metadata": {
    "id": "ff7991bf37bf",
    "tags": []
   },
   "outputs": [],
   "source": [
    "def get_exchange_rate(\n",
    "    currency_from: str = \"USD\",\n",
    "    currency_to: str = \"EUR\",\n",
    "    currency_date: str = \"latest\",\n",
    "):\n",
    "    \"\"\"Retrieves the exchange rate between two currencies on a specified date.\"\"\"\n",
    "    import requests\n",
    "\n",
    "    response = requests.get(\n",
    "        f\"https://api.frankfurter.app/{currency_date}\",\n",
    "        params={\"from\": currency_from, \"to\": currency_to},\n",
    "    )\n",
    "    return response.json()"
   ]
  },
  {
   "cell_type": "markdown",
   "metadata": {
    "id": "971f56c167e7"
   },
   "source": [
    "Test the function with sample inputs to ensure that it's working as expected:"
   ]
  },
  {
   "cell_type": "code",
   "execution_count": null,
   "metadata": {
    "colab": {
     "base_uri": "https://localhost:8080/"
    },
    "id": "4ae49a2ccd2e",
    "outputId": "ed09f2c4-d551-442f-a092-3611d2174c5c",
    "tags": []
   },
   "outputs": [],
   "source": [
    "get_exchange_rate(currency_from=\"USD\", currency_to=\"SEK\")"
   ]
  },
  {
   "cell_type": "markdown",
   "metadata": {
    "id": "35ca52a9021c",
    "tags": []
   },
   "source": [
    "### Define agent\n",
    "\n",
    "The third component of your agent involves adding a reasoning layer, which helps your agent use the tools that you provided to help the end user achieve a higher-level goal.\n",
    "\n",
    "<img width=\"40%\" src=\"https://storage.googleapis.com/github-repo/generative-ai/gemini/agent-engine/images/agent-stack-3.png\" alt=\"Components of an agent in Agent Engine on Vertex AI\" />\n",
    "\n",
    "If you were to use Gemini and Function Calling on their own without a reasoning layer, you would need to handle the process of calling functions and APIs in your application code, and you would need to implement retries and additional logic to ensure that your function calling code is resilient to failures and malformed requests.\n",
    "\n",
    "**Exercise:** Use the LangChain agent template provided in the Vertex AI SDK for Agent Engine to bring together the model, tools, and reasoning that you've built up so far. Use [this documentation](https://google.github.io/adk-docs/tools/third-party-tools/#1-using-langchain-tools) for reference."
   ]
  },
  {
   "cell_type": "code",
   "execution_count": null,
   "metadata": {
    "id": "68bc1b395f9d",
    "tags": []
   },
   "outputs": [],
   "source": [
    "agent = LangchainAgent()  # TODO"
   ]
  },
  {
   "cell_type": "markdown",
   "metadata": {
    "id": "fa3c33f6ec72"
   },
   "source": [
    "Now we can test the model and agent behavior to ensure that it's working as expected before we deploy it:"
   ]
  },
  {
   "cell_type": "markdown",
   "metadata": {
    "id": "68a527f87e42"
   },
   "source": [
    "### Test your agent locally\n",
    "\n",
    "With all of the core components of your agent in place, you can send a prompt to your agent using `.query` to test that it's working as expected, including the intermediate steps that the agent performed between the input prompt and the generated summary output. In the default mode, the agent processes your input and returns the **entire agent output in a single response when complete**:"
   ]
  },
  {
   "cell_type": "code",
   "execution_count": null,
   "metadata": {
    "colab": {
     "base_uri": "https://localhost:8080/"
    },
    "id": "e0c5c699de12",
    "outputId": "ad2af0a2-d59d-40a1-e50f-40262dd1f926",
    "tags": []
   },
   "outputs": [],
   "source": [
    "agent.query(\n",
    "    input=\"What's the exchange rate from US dollars to Indian currency latest ?\"\n",
    ")"
   ]
  },
  {
   "cell_type": "markdown",
   "metadata": {
    "id": "b1cf06f5fa46"
   },
   "source": [
    "In addition to the default query mode, the `.stream_query` method allows you to **see the agent's intermediate steps and final output from the chain**.\n",
    "\n",
    "Instead of waiting for the agent to complete all sub-tasks, the agent sends back the response in **chunks as it's being generated**:"
   ]
  },
  {
   "cell_type": "code",
   "execution_count": null,
   "metadata": {
    "colab": {
     "base_uri": "https://localhost:8080/"
    },
    "id": "7a931f086fc9",
    "outputId": "02caf3a7-d62e-4bd6-aedc-888314b86cc9",
    "tags": []
   },
   "outputs": [],
   "source": [
    "message_types = {\"actions\": \"Action\", \"messages\": \"Message\", \"output\": \"Output\"}\n",
    "for chunk in agent.stream_query(\n",
    "    input=\"What's the exchange rate from US dollars to Indian currency latest ?\"\n",
    "):\n",
    "    for key, label in message_types.items():\n",
    "        if key in chunk:\n",
    "            print(\"\\n------\\n\")\n",
    "            print(f\"{label}:\")\n",
    "            print()\n",
    "            print(chunk[key])"
   ]
  },
  {
   "cell_type": "markdown",
   "metadata": {
    "id": "bbe3d34ec106"
   },
   "source": [
    "This allows you to observe the agent's actions in real-time (such as function calls, and intermediate steps), which is helpful for debugging purposes or for providing real-time updates to the end user."
   ]
  },
  {
   "cell_type": "markdown",
   "metadata": {
    "id": "77b0a9f0d75b"
   },
   "source": [
    "### Deploy your agent on Vertex AI\n",
    "\n",
    "Now that you've specified a model, tools, and reasoning for your agent and tested it out, you're ready to deploy your agent as a remote service in Vertex AI!\n",
    "\n",
    "<img width=\"40%\" src=\"https://storage.googleapis.com/github-repo/generative-ai/gemini/agent-engine/images/agent-stack-4.png\" alt=\"Components of an agent in Agent Engine on Vertex AI\" />\n",
    "\n",
    "You can re-define the agent to avoid any stateful information in the agent due to our testing in the previous cell:"
   ]
  },
  {
   "cell_type": "code",
   "execution_count": null,
   "metadata": {
    "id": "b2f8365735d2",
    "tags": []
   },
   "outputs": [],
   "source": [
    "agent = LangchainAgent(\n",
    "    model=model,\n",
    "    tools=[get_exchange_rate],\n",
    ")"
   ]
  },
  {
   "cell_type": "markdown",
   "metadata": {
    "id": "ebe2c3be1ca6"
   },
   "source": [
    "**Exercise:** Now you're ready to deploy your agent to Agent Engine in Vertex AI. Use `agent_engines.create()` along with the below info to create the deployment:\n",
    "\n",
    "1. The instance of your agent class\n",
    "2. The Python packages and versions that your agent requires at runtime, similar to how you would define packages and versions in a `requirements.txt` file.\n"
   ]
  },
  {
   "cell_type": "code",
   "execution_count": null,
   "metadata": {
    "colab": {
     "base_uri": "https://localhost:8080/"
    },
    "id": "fd3b88c73411",
    "outputId": "b25739f3-db5d-41aa-8439-a9afc7ef3079",
    "tags": []
   },
   "outputs": [],
   "source": [
    "remote_agent = None  # TODO - use agent_engines.create()"
   ]
  },
  {
   "cell_type": "markdown",
   "metadata": {
    "id": "e698a4c3d786"
   },
   "source": [
    "Now you can send a prompt to your remote agent using `.query` to test that it's working as expected:"
   ]
  },
  {
   "cell_type": "code",
   "execution_count": null,
   "metadata": {
    "colab": {
     "base_uri": "https://localhost:8080/"
    },
    "id": "d01b37cb77dc",
    "outputId": "dfb353e2-0247-450d-b859-f2a51efcb149",
    "tags": []
   },
   "outputs": [],
   "source": [
    "remote_agent.query(input=\"What's the exchange rate from US dollars to Euro ?\")"
   ]
  },
  {
   "cell_type": "markdown",
   "metadata": {
    "id": "ff3620f5fa01"
   },
   "source": [
    "Or you can stream the results back from the remote agent interactively using `.stream_query`:"
   ]
  },
  {
   "cell_type": "markdown",
   "metadata": {
    "id": "9f2f7d3ed7bd"
   },
   "source": [
    "### Querying your deployed agent\n",
    "\n",
    "You've now deployed your agent and can [interact with it in multiple ways](https://cloud.google.com/vertex-ai/generative-ai/docs/agent-engine/use/overview), both within this notebook and from other applications or environments. The primary methods for accessing your deployed agent are via the Python client library or through REST API calls. Here's an overview of both methods:\n"
   ]
  },
  {
   "cell_type": "code",
   "execution_count": null,
   "metadata": {
    "colab": {
     "base_uri": "https://localhost:8080/"
    },
    "id": "fdaf8b91413f",
    "outputId": "f251f654-c80e-4371-f7d4-da69db1989f0",
    "tags": []
   },
   "outputs": [],
   "source": [
    "# List all agent engines\n",
    "all_agent_engines = agent_engines.list()\n",
    "print(\"All Agent Engines:\")\n",
    "for agent in all_agent_engines:\n",
    "    print(f\"- {agent.display_name} : {agent.resource_name}\")"
   ]
  },
  {
   "cell_type": "markdown",
   "metadata": {
    "id": "060f8369d113"
   },
   "source": [
    "Use the resource name to load the agent in your other notebook or Python script, then query the remote agent as usual:"
   ]
  },
  {
   "cell_type": "code",
   "execution_count": null,
   "metadata": {
    "id": "78af4442827e"
   },
   "outputs": [],
   "source": [
    "RESOURCE_ID = \"2598515412341620736\"\n",
    "remote_agent = agent_engines.get(RESOURCE_ID)"
   ]
  },
  {
   "cell_type": "code",
   "execution_count": null,
   "metadata": {
    "colab": {
     "base_uri": "https://localhost:8080/"
    },
    "id": "9alLgEWkcQrE",
    "outputId": "e40e8f2a-ff6b-4499-cec4-756c8e9db5a2"
   },
   "outputs": [],
   "source": [
    "remote_agent.query(input=\"What's the exchange rate from US dollars to Euro ?\")"
   ]
  },
  {
   "cell_type": "markdown",
   "metadata": {
    "id": "6415b2a47a0e"
   },
   "source": [
    "## Cleaning up\n",
    "\n",
    "After you've finished, it's a good practice to clean up your cloud resources. You can delete the deployed Agent Engine instance to avoid any unexpected charges on your Google Cloud account."
   ]
  },
  {
   "cell_type": "code",
   "execution_count": null,
   "metadata": {
    "id": "7cec827288b7"
   },
   "outputs": [],
   "source": [
    "remote_agent.delete()"
   ]
  }
 ],
 "metadata": {
  "colab": {
   "provenance": []
  },
  "environment": {
   "kernel": "conda-base-py",
   "name": "workbench-notebooks.m125",
   "type": "gcloud",
   "uri": "us-docker.pkg.dev/deeplearning-platform-release/gcr.io/workbench-notebooks:m125"
  },
  "kernelspec": {
   "display_name": "Python 3 (ipykernel) (Local)",
   "language": "python",
   "name": "conda-base-py"
  },
  "language_info": {
   "codemirror_mode": {
    "name": "ipython",
    "version": 3
   },
   "file_extension": ".py",
   "mimetype": "text/x-python",
   "name": "python",
   "nbconvert_exporter": "python",
   "pygments_lexer": "ipython3",
   "version": "3.10.15"
  }
 },
 "nbformat": 4,
 "nbformat_minor": 4
}
