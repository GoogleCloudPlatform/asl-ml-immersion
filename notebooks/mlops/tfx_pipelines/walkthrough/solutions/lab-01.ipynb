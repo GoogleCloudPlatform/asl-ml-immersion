{
 "cells": [
  {
   "cell_type": "markdown",
   "metadata": {
    "nbpresent": {
     "id": "f26e2c49-b415-4dbb-b3f9-5e77f67b5526"
    }
   },
   "source": [
    "# TFX Components Walk-through"
   ]
  },
  {
   "cell_type": "markdown",
   "metadata": {
    "nbpresent": {
     "id": "5897b3c2-55cd-4e16-b283-85b0ebdc1524"
    }
   },
   "source": [
    "## Learning Objectives\n",
    "\n",
    "1.  Develop a high level understanding of TFX pipeline components.\n",
    "2.  Learn how to use a TFX Interactive Context for prototype development of TFX pipelines.\n",
    "3.  Work with the Tensorflow Data Validation (TFDV) library to check and analyze input data.\n",
    "4.  Utilize the Tensorflow Transform (TFT) library for scalable data preprocessing and feature transformations.\n",
    "5.  Employ the Tensorflow Model Analysis (TFMA) library for model evaluation.\n",
    "\n",
    "In this lab, you will work with the [Covertype Data Set](https://github.com/jarokaz/mlops-labs/blob/master/datasets/covertype/README.md) and use TFX to analyze, understand, and pre-process the dataset and train, analyze, validate, and deploy a multi-class classification model to predict the type of forest cover from cartographic features.\n",
    "\n",
    "You will utilize  **TFX Interactive Context** to work with the TFX components interactivelly in a Jupyter notebook environment. Working in an interactive notebook is useful when doing initial data exploration, experimenting with models, and designing ML pipelines. You should be aware that there are differences in the way interactive notebooks are orchestrated, and how they access metadata artifacts. In a production deployment of TFX on GCP, you will use an orchestrator such as Kubeflow Pipelines, or Cloud Composer. In an interactive mode, the notebook itself is the orchestrator, running each TFX component as you execute the notebook cells. In a production deployment, ML Metadata will be managed in a scalabe database like MySQL, and artifacts in apersistent store such as Google Cloud Storage. In an interactive mode, both properties and payloads are stored in a local file system of the Jupyter host.\n",
    "\n",
    "**Setup Note:**\n",
    "Currently, TFMA visualizations do not render properly in JupyterLab. It is recommended to run this notebook in Jupyter Classic Notebook. To switch to Classic Notebook select *Launch Classic Notebook* from the *Help* menu."
   ]
  },
  {
   "cell_type": "code",
   "execution_count": null,
   "metadata": {
    "nbpresent": {
     "id": "95aac674-e626-4327-8136-f7070de00762"
    }
   },
   "outputs": [],
   "source": [
    "import absl\n",
    "import os\n",
    "import tempfile\n",
    "import time\n",
    "\n",
    "import tensorflow as tf\n",
    "import tensorflow_data_validation as tfdv\n",
    "import tensorflow_model_analysis as tfma\n",
    "import tensorflow_transform as tft\n",
    "import tfx\n",
    "\n",
    "from pprint import pprint\n",
    "from tensorflow_metadata.proto.v0 import (\n",
    "    schema_pb2,\n",
    "    statistics_pb2,\n",
    "    anomalies_pb2,\n",
    ")\n",
    "from tensorflow_transform.tf_metadata import schema_utils\n",
    "from tfx.components import CsvExampleGen\n",
    "from tfx.components import BigQueryExampleGen\n",
    "from tfx.components import Evaluator\n",
    "from tfx.components import ExampleValidator\n",
    "from tfx.components import InfraValidator\n",
    "from tfx.components import Pusher\n",
    "from tfx.components import ResolverNode\n",
    "from tfx.components import SchemaGen\n",
    "from tfx.components import StatisticsGen\n",
    "from tfx.components import Trainer\n",
    "from tfx.components import Transform\n",
    "from tfx.components.base import executor_spec\n",
    "from tfx.components.common_nodes.importer_node import ImporterNode\n",
    "from tfx.components.trainer import executor as trainer_executor\n",
    "from tfx.dsl.experimental import latest_blessed_model_resolver\n",
    "from tfx.orchestration import metadata\n",
    "from tfx.orchestration import pipeline\n",
    "from tfx.orchestration.experimental.interactive.interactive_context import (\n",
    "    InteractiveContext,\n",
    ")\n",
    "from tfx.proto import evaluator_pb2\n",
    "from tfx.proto import example_gen_pb2\n",
    "from tfx.proto import infra_validator_pb2\n",
    "from tfx.proto import pusher_pb2\n",
    "from tfx.proto import trainer_pb2\n",
    "from tfx.proto.evaluator_pb2 import SingleSlicingSpec\n",
    "from tfx.utils.dsl_utils import external_input\n",
    "from tfx.types import Channel\n",
    "from tfx.types.standard_artifacts import Model\n",
    "from tfx.types.standard_artifacts import ModelBlessing\n",
    "from tfx.types.standard_artifacts import InfraBlessing"
   ]
  },
  {
   "cell_type": "markdown",
   "metadata": {
    "nbpresent": {
     "id": "7ef40ed2-97d6-4abd-99d5-80710df4bd06"
    }
   },
   "source": [
    "**Note**: this lab was developed and tested with the following TF ecosystem package versions:\n",
    "\n",
    "`Tensorflow Version: 2.1.0`  \n",
    "`TFX Version: 0.21.4`  \n",
    "`TFDV Version: 0.21.5`  \n",
    "`TFMA Version: 0.21.6`\n",
    "\n",
    "If you encounter errors with the above imports (e.g. TFX component not found), check your package versions in the cell below."
   ]
  },
  {
   "cell_type": "code",
   "execution_count": null,
   "metadata": {
    "nbpresent": {
     "id": "9c8f6d51-08c2-4d27-aac6-eaa652efb6f0"
    }
   },
   "outputs": [],
   "source": [
    "print(\"Tensorflow Version:\", tf.__version__)\n",
    "print(\"TFX Version:\", tfx.__version__)\n",
    "print(\"TFDV Version:\", tfdv.__version__)\n",
    "print(\"TFMA Version:\", tfma.VERSION_STRING)\n",
    "\n",
    "absl.logging.set_verbosity(absl.logging.INFO)"
   ]
  },
  {
   "cell_type": "markdown",
   "metadata": {
    "nbpresent": {
     "id": "2bfb8b37-7663-4053-b2af-4f5c521b9ff7"
    }
   },
   "source": [
    "If the versions above do not match, update your packages in the current Jupyter kernel below. The default `%pip` package installation location is not on your system installation PATH; use the command below to append the local installation path to pick up the latest package versions. Note that you may also need to restart your notebook kernel to pick up the specified package versions and re-run the imports cell above before proceeding with the lab."
   ]
  },
  {
   "cell_type": "code",
   "execution_count": null,
   "metadata": {
    "nbpresent": {
     "id": "855bc4bf-a8a1-4082-8ae2-0daab30118fa"
    }
   },
   "outputs": [],
   "source": [
    "os.environ[\"PATH\"] += os.pathsep + \"/home/jupyter/.local/bin\""
   ]
  },
  {
   "cell_type": "markdown",
   "metadata": {
    "nbpresent": {
     "id": "425d92ca-6e2b-4b89-9afe-d9e6ab3fcde4"
    }
   },
   "source": [
    "(Optional) Run the cell below only if your package versions do not match the lab defaults."
   ]
  },
  {
   "cell_type": "code",
   "execution_count": null,
   "metadata": {
    "nbpresent": {
     "id": "8b8d7a2f-f285-4eae-96d4-433b31b0d25f"
    }
   },
   "outputs": [],
   "source": [
    "%pip install --upgrade --user tensorflow==2.1.1\n",
    "%pip install --upgrade --user tfx==0.21.4\n",
    "%pip install --upgrade --user tensorflow_data_validation==0.21.5\n",
    "%pip install --upgrade --user tensorflow_model_analysis==0.21.6"
   ]
  },
  {
   "cell_type": "markdown",
   "metadata": {
    "nbpresent": {
     "id": "2a1d2679-cbc2-4672-9650-99a9a836e5e8"
    }
   },
   "source": [
    "## Configure lab settings\n",
    "\n",
    "Set constants, location paths and other environment settings. "
   ]
  },
  {
   "cell_type": "code",
   "execution_count": null,
   "metadata": {
    "nbpresent": {
     "id": "a9a242a5-d72d-4670-82ac-c2c42d6f7d97"
    }
   },
   "outputs": [],
   "source": [
    "ARTIFACT_STORE = os.path.join(os.sep, \"home\", \"jupyter\", \"artifact-store\")\n",
    "SERVING_MODEL_DIR = os.path.join(os.sep, \"home\", \"jupyter\", \"serving_model\")\n",
    "DATA_ROOT = \"gs://workshop-datasets/covertype/small\""
   ]
  },
  {
   "cell_type": "markdown",
   "metadata": {
    "nbpresent": {
     "id": "f9c8b2da-a2e6-4d9d-822f-0fd6cc243bb4"
    }
   },
   "source": [
    "## Creating Interactive Context\n",
    "\n",
    "TFX Interactive Context allows you to create and run TFX Components in an interactive mode. It is designed to support experimentation and development in a Jupyter Notebook environment. It is an experimental feature and major changes to interface and functionality are expected. When creating the interactive context you can specifiy the following parameters:\n",
    "- `pipeline_name` - Optional name of the pipeline for ML Metadata tracking purposes. If not specified, a name will be generated for you.\n",
    "- `pipeline_root` - Optional path to the root of the pipeline's outputs. If not specified, an ephemeral temporary directory will be created and used.\n",
    "- `metadata_connection_config` - Optional `metadata_store_pb2.ConnectionConfig` instance used to configure connection to a ML Metadata connection. If not specified, an ephemeral SQLite MLMD connection contained in the pipeline_root directory with file name \"metadata.sqlite\" will be used.\n"
   ]
  },
  {
   "cell_type": "code",
   "execution_count": null,
   "metadata": {
    "nbpresent": {
     "id": "dba0bf7d-c8f2-4e8f-9a04-69623894cfa0"
    }
   },
   "outputs": [],
   "source": [
    "PIPELINE_NAME = \"tfx-covertype-classifier\"\n",
    "PIPELINE_ROOT = os.path.join(\n",
    "    ARTIFACT_STORE, PIPELINE_NAME, time.strftime(\"%Y%m%d_%H%M%S\")\n",
    ")\n",
    "os.makedirs(PIPELINE_ROOT, exist_ok=True)\n",
    "\n",
    "context = InteractiveContext(\n",
    "    pipeline_name=PIPELINE_NAME,\n",
    "    pipeline_root=PIPELINE_ROOT,\n",
    "    metadata_connection_config=None,\n",
    ")"
   ]
  },
  {
   "cell_type": "markdown",
   "metadata": {
    "nbpresent": {
     "id": "04326616-e5fb-44bf-baff-b038dc10f886"
    }
   },
   "source": [
    "## Ingesting data using ExampleGen\n",
    "\n",
    "In any ML development process the first step  is to ingest the training and test datasets. The `ExampleGen` component ingests data into a TFX pipeline. It consumes external files/services to generate a set file files in the `TFRecord` format,  which will be used by other TFX components. It can also shuffle the data and split into an arbitrary number of partitions.\n",
    "\n",
    "<img src=https://github.com/GoogleCloudPlatform/mlops-on-gcp/raw/master/images/ExampleGen.png width=\"300\">\n",
    "\n",
    "### Configure and run CsvExampleGen\n",
    "\n",
    "In this exercise, you use the `CsvExampleGen` specialization of `ExampleGen` to ingest CSV files from a GCS location. The component is configured to split the input data into two splits - `train` and `eval` - using 4:1 ratio.  "
   ]
  },
  {
   "cell_type": "code",
   "execution_count": null,
   "metadata": {
    "nbpresent": {
     "id": "08716778-96d4-4d7d-9c56-0078a6b6cbc3"
    }
   },
   "outputs": [],
   "source": [
    "output_config = example_gen_pb2.Output(\n",
    "    split_config=example_gen_pb2.SplitConfig(\n",
    "        splits=[\n",
    "            example_gen_pb2.SplitConfig.Split(name=\"train\", hash_buckets=4),\n",
    "            example_gen_pb2.SplitConfig.Split(name=\"eval\", hash_buckets=1),\n",
    "        ]\n",
    "    )\n",
    ")\n",
    "\n",
    "example_gen = tfx.components.CsvExampleGen(\n",
    "    instance_name=\"Data_Extraction_Spliting\",\n",
    "    input=external_input(DATA_ROOT),\n",
    "    output_config=output_config,\n",
    ")"
   ]
  },
  {
   "cell_type": "code",
   "execution_count": null,
   "metadata": {
    "nbpresent": {
     "id": "2b944c82-bd3a-4293-96bc-ba0b3a6ecb9a"
    }
   },
   "outputs": [],
   "source": [
    "context.run(example_gen)"
   ]
  },
  {
   "cell_type": "markdown",
   "metadata": {
    "nbpresent": {
     "id": "2429fced-5f7f-4592-a96e-554e56166607"
    }
   },
   "source": [
    "### Examine the ingested data"
   ]
  },
  {
   "cell_type": "code",
   "execution_count": null,
   "metadata": {
    "nbpresent": {
     "id": "590e21fa-4ddf-408e-98f5-41f83e89b3d9"
    }
   },
   "outputs": [],
   "source": [
    "examples_uri = example_gen.outputs[\"examples\"].get()[0].uri\n",
    "\n",
    "tfrecord_filenames = [\n",
    "    os.path.join(examples_uri, \"train\", name)\n",
    "    for name in os.listdir(os.path.join(examples_uri, \"train\"))\n",
    "]\n",
    "\n",
    "dataset = tf.data.TFRecordDataset(tfrecord_filenames, compression_type=\"GZIP\")\n",
    "\n",
    "for tfrecord in dataset.take(2):\n",
    "    example = tf.train.Example()\n",
    "    example.ParseFromString(tfrecord.numpy())\n",
    "    for name, feature in example.features.feature.items():\n",
    "        if feature.HasField(\"bytes_list\"):\n",
    "            value = feature.bytes_list.value\n",
    "        if feature.HasField(\"float_list\"):\n",
    "            value = feature.float_list.value\n",
    "        if feature.HasField(\"int64_list\"):\n",
    "            value = feature.int64_list.value\n",
    "        print(\"{}: {}\".format(name, value))\n",
    "    print(\"******\")"
   ]
  },
  {
   "cell_type": "markdown",
   "metadata": {
    "nbpresent": {
     "id": "153f9887-3c40-4929-87c9-a445b853dd08"
    }
   },
   "source": [
    "## Generating statistics using StatisticsGen\n",
    "\n",
    "The `StatisticsGen`  component generates data statistics that can be used by other TFX components. StatisticsGen uses [TensorFlow Data Validation](https://www.tensorflow.org/tfx/data_validation/get_started). `StatisticsGen` generate statistics for each split in the `ExampleGen` component's output. In our case there two splits: `train` and `eval`.\n",
    "\n",
    "<img src=https://github.com/GoogleCloudPlatform/mlops-on-gcp/raw/master/images/StatisticsGen.png width=\"200\">"
   ]
  },
  {
   "cell_type": "markdown",
   "metadata": {
    "nbpresent": {
     "id": "f9eab727-8850-4763-b556-93aa2fd3f4d0"
    }
   },
   "source": [
    "### Configure and  run the `StatisticsGen` component"
   ]
  },
  {
   "cell_type": "code",
   "execution_count": null,
   "metadata": {
    "nbpresent": {
     "id": "1d15891e-9314-46cd-9c51-6a58aa3438b3"
    }
   },
   "outputs": [],
   "source": [
    "statistics_gen = tfx.components.StatisticsGen(\n",
    "    instance_name=\"Statistics_Generation\",\n",
    "    examples=example_gen.outputs[\"examples\"],\n",
    ")"
   ]
  },
  {
   "cell_type": "code",
   "execution_count": null,
   "metadata": {
    "nbpresent": {
     "id": "dff4f2b6-a95a-4f74-afb3-3f96a421335e"
    }
   },
   "outputs": [],
   "source": [
    "context.run(statistics_gen)"
   ]
  },
  {
   "cell_type": "markdown",
   "metadata": {
    "nbpresent": {
     "id": "7c7bc499-f503-4cde-8940-f0ae7d9da509"
    }
   },
   "source": [
    "### Visualize statistics\n",
    "\n",
    "The generated statistics can be visualized using the `tfdv.visualize_statistics()` function from the [TensorFlow Data Validation](https://www.tensorflow.org/tfx/data_validation/get_started) library or using a utility method of the `InteractiveContext` object. In fact, most of the artifacts generated by the TFX components can be visualized using `InteractiveContext`."
   ]
  },
  {
   "cell_type": "code",
   "execution_count": null,
   "metadata": {
    "nbpresent": {
     "id": "bf3e80e5-486e-4ede-9536-02d585435995"
    }
   },
   "outputs": [],
   "source": [
    "context.show(statistics_gen.outputs[\"statistics\"])"
   ]
  },
  {
   "cell_type": "markdown",
   "metadata": {
    "nbpresent": {
     "id": "79b4b178-713c-4ea4-aff9-2f66604d2728"
    }
   },
   "source": [
    "## Infering data schema using SchemaGen\n",
    "\n",
    "Some TFX components use a description input data called a schema. The schema is an instance of `schema.proto`. It can specify data types for feature values, whether a feature has to be present in all examples, allowed value ranges, and other properties. `SchemaGen` automatically generates the schema by inferring types, categories, and ranges from data statistics. The auto-generated schema is best-effort and only tries to infer basic properties of the data. It is expected that developers review and modify it as needed. `SchemaGen` uses [TensorFlow Data Validation](https://www.tensorflow.org/tfx/data_validation/get_started).\n",
    "\n",
    "The `SchemaGen` component generates the schema using the statistics for the `train` split. The statistics for other splits are ignored.\n",
    "\n",
    "<img src=https://github.com/GoogleCloudPlatform/mlops-on-gcp/raw/master/images/SchemaGen.png width=\"200\">"
   ]
  },
  {
   "cell_type": "markdown",
   "metadata": {
    "nbpresent": {
     "id": "45bc5ec0-b267-4d8b-9283-c2d35c192c0b"
    }
   },
   "source": [
    "### Configure and run the `SchemaGen` components"
   ]
  },
  {
   "cell_type": "code",
   "execution_count": null,
   "metadata": {
    "nbpresent": {
     "id": "7c4276a3-7c88-4e60-9e5b-c61138bf180c"
    }
   },
   "outputs": [],
   "source": [
    "schema_gen = SchemaGen(\n",
    "    statistics=statistics_gen.outputs[\"statistics\"], infer_feature_shape=False\n",
    ")"
   ]
  },
  {
   "cell_type": "code",
   "execution_count": null,
   "metadata": {
    "nbpresent": {
     "id": "67632ffc-eb89-4006-8ae5-b471e0dc2085"
    }
   },
   "outputs": [],
   "source": [
    "context.run(schema_gen)"
   ]
  },
  {
   "cell_type": "markdown",
   "metadata": {
    "nbpresent": {
     "id": "cddd1ce8-901a-46c9-a42c-c280ee7da1a0"
    }
   },
   "source": [
    "### Visualize the inferred schema"
   ]
  },
  {
   "cell_type": "code",
   "execution_count": null,
   "metadata": {
    "nbpresent": {
     "id": "fa827f3e-576e-43ba-acc9-7ae0cd20978f"
    }
   },
   "outputs": [],
   "source": [
    "context.show(schema_gen.outputs[\"schema\"])"
   ]
  },
  {
   "cell_type": "markdown",
   "metadata": {
    "nbpresent": {
     "id": "37e06329-6859-49c5-b111-dabf739f6350"
    }
   },
   "source": [
    "## Updating the auto-generated schema\n",
    "\n",
    "In most cases the auto-generated schemas must be fine-tuned manually using insights from data exploration and/or domain knowledge about the data. For example, you know that in the `covertype` dataset there are seven types of forest cover (coded using 1-7 range) and that the value of the `Slope` feature should be in the 0-90 range. You can manually add these constraints to the auto-generated schema by setting the feature domain."
   ]
  },
  {
   "cell_type": "markdown",
   "metadata": {
    "nbpresent": {
     "id": "a954c412-7843-4ad7-9a55-ae22a53e22d1"
    }
   },
   "source": [
    "### Load the auto-generated schema proto file"
   ]
  },
  {
   "cell_type": "code",
   "execution_count": null,
   "metadata": {
    "nbpresent": {
     "id": "484a349d-4c09-43ae-8836-934eb47bf1a6"
    }
   },
   "outputs": [],
   "source": [
    "schema_proto_path = \"{}/{}\".format(\n",
    "    schema_gen.outputs[\"schema\"].get()[0].uri, \"schema.pbtxt\"\n",
    ")\n",
    "schema = tfdv.load_schema_text(schema_proto_path)"
   ]
  },
  {
   "cell_type": "markdown",
   "metadata": {
    "nbpresent": {
     "id": "035e5417-f51a-450b-b4d7-f1edb2c8cdb6"
    }
   },
   "source": [
    "### Modify the schema\n",
    "\n",
    "You can use the protocol buffer APIs to modify the schema. "
   ]
  },
  {
   "cell_type": "code",
   "execution_count": null,
   "metadata": {
    "nbpresent": {
     "id": "1d42cff4-d517-4640-8f5c-c1c9a68ce5bb"
    }
   },
   "outputs": [],
   "source": [
    "tfdv.set_domain(\n",
    "    schema,\n",
    "    \"Cover_Type\",\n",
    "    schema_pb2.IntDomain(name=\"Cover_Type\", min=0, max=6, is_categorical=True),\n",
    ")\n",
    "tfdv.set_domain(\n",
    "    schema, \"Slope\", schema_pb2.IntDomain(name=\"Slope\", min=0, max=90)\n",
    ")\n",
    "\n",
    "tfdv.display_schema(schema=schema)"
   ]
  },
  {
   "cell_type": "markdown",
   "metadata": {
    "nbpresent": {
     "id": "ea55ab13-6bb2-450f-b3aa-86365a21d230"
    }
   },
   "source": [
    "#### Save the updated schema "
   ]
  },
  {
   "cell_type": "code",
   "execution_count": null,
   "metadata": {
    "nbpresent": {
     "id": "db7e37f4-6300-476d-8608-1296a3ea14ec"
    }
   },
   "outputs": [],
   "source": [
    "schema_dir = os.path.join(ARTIFACT_STORE, \"schema\")\n",
    "tf.io.gfile.makedirs(schema_dir)\n",
    "schema_file = os.path.join(schema_dir, \"schema.pbtxt\")\n",
    "\n",
    "tfdv.write_schema_text(schema, schema_file)\n",
    "\n",
    "!cat {schema_file}"
   ]
  },
  {
   "cell_type": "markdown",
   "metadata": {
    "nbpresent": {
     "id": "495d15df-8722-4a8a-9a5f-b56dcf66dfbb"
    }
   },
   "source": [
    "## Importing the updated schema using ImporterNode\n",
    "\n",
    "The `ImporterNode` component allows you to import an external artifact, including the schema file, so it can be used by other TFX components in your workflow. \n"
   ]
  },
  {
   "cell_type": "markdown",
   "metadata": {
    "nbpresent": {
     "id": "92f111cc-803d-4aac-95cc-fb3195b1b059"
    }
   },
   "source": [
    "### Configure and run the `ImporterNode` component"
   ]
  },
  {
   "cell_type": "code",
   "execution_count": null,
   "metadata": {
    "nbpresent": {
     "id": "7a002c49-1823-4e40-8354-4e4c261db604"
    }
   },
   "outputs": [],
   "source": [
    "schema_importer = ImporterNode(\n",
    "    instance_name=\"Schema_Importer\",\n",
    "    source_uri=schema_dir,\n",
    "    artifact_type=tfx.types.standard_artifacts.Schema,\n",
    "    reimport=False,\n",
    ")"
   ]
  },
  {
   "cell_type": "code",
   "execution_count": null,
   "metadata": {
    "nbpresent": {
     "id": "f1fa1547-085f-4c8a-9dc3-394a2be9bf77"
    }
   },
   "outputs": [],
   "source": [
    "context.run(schema_importer)"
   ]
  },
  {
   "cell_type": "markdown",
   "metadata": {
    "nbpresent": {
     "id": "a1b69a92-a4e1-4cc1-8c4e-f5e42acdd383"
    }
   },
   "source": [
    "### Visualize the imported schema"
   ]
  },
  {
   "cell_type": "code",
   "execution_count": null,
   "metadata": {
    "nbpresent": {
     "id": "0be7cc2a-5e3d-4c86-97b4-b9c6f52f3e53"
    }
   },
   "outputs": [],
   "source": [
    "context.show(schema_importer.outputs[\"result\"])"
   ]
  },
  {
   "cell_type": "markdown",
   "metadata": {
    "nbpresent": {
     "id": "cfee9202-a151-48a2-a9d8-98d36d077e20"
    }
   },
   "source": [
    "## Validating data with ExampleValidator\n",
    "\n",
    "The `ExampleValidator` component identifies anomalies in data.  It identifies anomalies by comparing data statistics computed by the `StatisticsGen` component against a schema generated by `SchemaGen` or imported by `ImporterNode`.\n",
    "\n",
    "`ExampleValidator` can detect different classes of anomalies. For example it can:\n",
    "\n",
    "- perform validity checks by comparing data statistics against a schema \n",
    "- detect training-serving skew by comparing training and serving data.\n",
    "- detect data drift by looking at a series of data.\n",
    "\n",
    "\n",
    "The `ExampleValidator` component validates the data in the `eval` split only. Other splits are ignored. \n",
    "\n",
    "<img src=https://github.com/GoogleCloudPlatform/mlops-on-gcp/raw/master/images/ExampleValidator.png width=\"350\">"
   ]
  },
  {
   "cell_type": "markdown",
   "metadata": {
    "nbpresent": {
     "id": "6f5902cf-ea76-49a1-a8f0-44be79480ac6"
    }
   },
   "source": [
    "### Configure and run the `ExampleValidator` component\n"
   ]
  },
  {
   "cell_type": "code",
   "execution_count": null,
   "metadata": {
    "nbpresent": {
     "id": "8411aa64-0e47-4a98-8a2e-c96e5101659d"
    }
   },
   "outputs": [],
   "source": [
    "example_validator = ExampleValidator(\n",
    "    statistics=statistics_gen.outputs[\"statistics\"],\n",
    "    schema=schema_importer.outputs[\"result\"],\n",
    "    instance_name=\"Data_Validation\",\n",
    ")"
   ]
  },
  {
   "cell_type": "code",
   "execution_count": null,
   "metadata": {
    "nbpresent": {
     "id": "1fbbe8d8-2960-4252-a227-d6869d0fd73b"
    }
   },
   "outputs": [],
   "source": [
    "context.run(example_validator)"
   ]
  },
  {
   "cell_type": "markdown",
   "metadata": {
    "nbpresent": {
     "id": "296a18cb-dbda-4902-90d0-c92d91c1663e"
    }
   },
   "source": [
    "### Examine the output of `ExampleValidator`\n",
    "\n",
    "The output artifact of the ExampleValidator is the `anomalies.pbtxt` file describing an anomalies_pb2.Anomalies protobuf."
   ]
  },
  {
   "cell_type": "code",
   "execution_count": null,
   "metadata": {
    "nbpresent": {
     "id": "a754f0ce-de87-4696-ad1f-447d1b744c9d"
    }
   },
   "outputs": [],
   "source": [
    "train_uri = example_validator.outputs[\"anomalies\"].get()[0].uri\n",
    "anomalies_filename = os.path.join(train_uri, \"anomalies.pbtxt\")\n",
    "!cat $anomalies_filename"
   ]
  },
  {
   "cell_type": "markdown",
   "metadata": {
    "nbpresent": {
     "id": "aa49d546-16a8-4ab6-bd45-49c72f8bafe2"
    }
   },
   "source": [
    "### Visualize validation results\n",
    "\n",
    "The file `anomalies.pbtxt` can be visualized using `context.show`."
   ]
  },
  {
   "cell_type": "code",
   "execution_count": null,
   "metadata": {
    "nbpresent": {
     "id": "139a7b3c-9e73-445e-895f-08c17bd88d27"
    }
   },
   "outputs": [],
   "source": [
    "context.show(example_validator.outputs[\"output\"])"
   ]
  },
  {
   "cell_type": "markdown",
   "metadata": {
    "nbpresent": {
     "id": "c19ab1ae-c121-46ea-83e0-e33e14ec5c9c"
    }
   },
   "source": [
    "In our case no anomalies were detected in the `eval` split."
   ]
  },
  {
   "cell_type": "markdown",
   "metadata": {
    "nbpresent": {
     "id": "87fff01c-d11d-4df1-9d95-171258c33bff"
    }
   },
   "source": [
    "## Preprocessing data with Transform\n",
    "\n",
    "The `Transform` component performs data transformation and feature engineering. The `Transform` component consumes `tf.Examples` emitted from the `ExampleGen` component and emits the transformed feature data and the `SavedModel` graph that was used to process the data. The emitted `SavedModel`  can then be used by serving components to make sure that the same data pre-processing logic is applied at training and serving.\n",
    "\n",
    "The `Transform` component requires more code than many other components because of the arbitrary complexity of the feature engineering that you may need for the data and/or model that you're working with. It requires code files to be available which define the processing needed.\n",
    "\n",
    "<img src=https://github.com/GoogleCloudPlatform/mlops-on-gcp/raw/master/images/Transform.png width=\"400\">\n",
    "\n",
    "### Define the pre-processing module\n",
    "\n",
    "To configure `Transform`, you need to encapsulate your pre-processing code in the Python `preprocessing_fn` function and save it to a  python module that is then provided to the Transform component as an input. This module will be loaded by transform and the `preprocessing_fn` function will be called when the `Transform` component runs.\n",
    "\n",
    "In most cases, your implementation of the `preprocessing_fn` makes extensive use of [TensorFlow Transform](https://www.tensorflow.org/tfx/guide/tft) for performing feature engineering on your dataset."
   ]
  },
  {
   "cell_type": "code",
   "execution_count": null,
   "metadata": {
    "nbpresent": {
     "id": "9cfa5c63-2454-4215-bbb8-8cc0658485c0"
    }
   },
   "outputs": [],
   "source": [
    "TRANSFORM_MODULE = \"preprocessing.py\"\n",
    "!cat {TRANSFORM_MODULE}"
   ]
  },
  {
   "cell_type": "markdown",
   "metadata": {
    "nbpresent": {
     "id": "6c390210-1c22-4473-9df5-5efe5d4bcc0f"
    }
   },
   "source": [
    "### Configure and run the `Transform` component."
   ]
  },
  {
   "cell_type": "code",
   "execution_count": null,
   "metadata": {
    "nbpresent": {
     "id": "ca2b5e45-7fff-4513-8af5-604f7095c957"
    }
   },
   "outputs": [],
   "source": [
    "transform = Transform(\n",
    "    examples=example_gen.outputs[\"examples\"],\n",
    "    schema=schema_importer.outputs[\"result\"],\n",
    "    module_file=TRANSFORM_MODULE,\n",
    ")"
   ]
  },
  {
   "cell_type": "code",
   "execution_count": null,
   "metadata": {
    "nbpresent": {
     "id": "9d9c9da2-9830-4a1b-a384-ffbba8304107"
    }
   },
   "outputs": [],
   "source": [
    "context.run(transform)"
   ]
  },
  {
   "cell_type": "markdown",
   "metadata": {
    "nbpresent": {
     "id": "3315a885-a2d7-4890-b9a6-6cef5b7a54e8"
    }
   },
   "source": [
    "### Examine the `Transform` component's outputs\n",
    "\n",
    "The Transform component has 2 outputs:\n",
    "\n",
    "- `transform_graph` - contains the graph that can perform the preprocessing operations (this graph will be included in the serving and evaluation models).\n",
    "- `transformed_examples` - contains the preprocessed training and evaluation data.\n",
    "\n",
    "Take a peek at the `transform_graph` artifact: it points to a directory containing 3 subdirectories:"
   ]
  },
  {
   "cell_type": "code",
   "execution_count": null,
   "metadata": {
    "nbpresent": {
     "id": "57cd0ec8-bed1-413a-af32-0d95baee6e65"
    }
   },
   "outputs": [],
   "source": [
    "os.listdir(transform.outputs[\"transform_graph\"].get()[0].uri)"
   ]
  },
  {
   "cell_type": "markdown",
   "metadata": {
    "nbpresent": {
     "id": "8807a3e1-055b-486f-9701-4d59294f1ebe"
    }
   },
   "source": [
    "And the `transform.examples` artifact"
   ]
  },
  {
   "cell_type": "code",
   "execution_count": null,
   "metadata": {
    "nbpresent": {
     "id": "b5d49ddd-15b9-49a2-8e61-201d9788ec8a"
    }
   },
   "outputs": [],
   "source": [
    "os.listdir(transform.outputs[\"transformed_examples\"].get()[0].uri)"
   ]
  },
  {
   "cell_type": "code",
   "execution_count": null,
   "metadata": {
    "nbpresent": {
     "id": "d2a82e85-c464-40c9-8d1d-72209a81a57b"
    }
   },
   "outputs": [],
   "source": [
    "transform_uri = transform.outputs[\"transformed_examples\"].get()[0].uri\n",
    "\n",
    "tfrecord_filenames = [\n",
    "    os.path.join(transform_uri, \"train\", name)\n",
    "    for name in os.listdir(os.path.join(transform_uri, \"train\"))\n",
    "]\n",
    "\n",
    "dataset = tf.data.TFRecordDataset(tfrecord_filenames, compression_type=\"GZIP\")\n",
    "\n",
    "for tfrecord in dataset.take(2):\n",
    "    example = tf.train.Example()\n",
    "    example.ParseFromString(tfrecord.numpy())\n",
    "    for name, feature in example.features.feature.items():\n",
    "        if feature.HasField(\"bytes_list\"):\n",
    "            value = feature.bytes_list.value\n",
    "        if feature.HasField(\"float_list\"):\n",
    "            value = feature.float_list.value\n",
    "        if feature.HasField(\"int64_list\"):\n",
    "            value = feature.int64_list.value\n",
    "        print(\"{}: {}\".format(name, value))\n",
    "    print(\"******\")"
   ]
  },
  {
   "cell_type": "markdown",
   "metadata": {
    "nbpresent": {
     "id": "f780edef-2b8f-4bbd-b0a6-280cd2376f56"
    }
   },
   "source": [
    "### Train with the `Trainer` component\n",
    "\n",
    "The `Trainer` component trains a model using TensorFlow.\n",
    "\n",
    "`Trainer` takes:\n",
    "\n",
    "- tf.Examples used for training and eval.\n",
    "- A user provided module file that defines the trainer logic.\n",
    "- A data schema created by `SchemaGen` or imported by `ImporterNode`.\n",
    "- A proto definition of train args and eval args.\n",
    "- An optional transform graph produced by upstream Transform component.\n",
    "- An optional base models used for scenarios such as warmstart.\n",
    "\n",
    "<img src=https://github.com/GoogleCloudPlatform/mlops-on-gcp/raw/master/images/Trainer.png width=\"400\">\n",
    "\n",
    "\n",
    "#### Define the trainer module\n",
    "\n",
    "To configure `Trainer`, you need to encapsulate your training code in a Python module that is then provided to the `Trainer` as an input. \n"
   ]
  },
  {
   "cell_type": "code",
   "execution_count": null,
   "metadata": {
    "nbpresent": {
     "id": "5818c6cc-df42-4a86-8bdf-e6a1d1775817"
    }
   },
   "outputs": [],
   "source": [
    "TRAINER_MODULE_FILE = \"model.py\"\n",
    "!cat {TRAINER_MODULE_FILE}"
   ]
  },
  {
   "cell_type": "markdown",
   "metadata": {
    "nbpresent": {
     "id": "507e7680-156c-4f2d-84c2-729e33f142f6"
    }
   },
   "source": [
    "#### Create and run the Trainer component\n",
    "\n",
    "As of the 0.21.2 release of TFX, the `Trainer` component only supports passing a single field - `num_steps` - through the `train_args` and `eval_args` arguments. "
   ]
  },
  {
   "cell_type": "code",
   "execution_count": null,
   "metadata": {
    "nbpresent": {
     "id": "19898cec-6de1-4c6c-a300-40b4f9ee87a4"
    }
   },
   "outputs": [],
   "source": [
    "trainer = Trainer(\n",
    "    custom_executor_spec=executor_spec.ExecutorClassSpec(\n",
    "        trainer_executor.GenericExecutor\n",
    "    ),\n",
    "    module_file=TRAINER_MODULE_FILE,\n",
    "    transformed_examples=transform.outputs[\"transformed_examples\"],\n",
    "    schema=schema_importer.outputs[\"result\"],\n",
    "    transform_graph=transform.outputs[\"transform_graph\"],\n",
    "    train_args=trainer_pb2.TrainArgs(num_steps=5000),\n",
    "    eval_args=trainer_pb2.EvalArgs(num_steps=1000),\n",
    ")"
   ]
  },
  {
   "cell_type": "code",
   "execution_count": null,
   "metadata": {
    "nbpresent": {
     "id": "08155fd6-246d-4819-a176-5106681e7f41"
    }
   },
   "outputs": [],
   "source": [
    "context.run(trainer)"
   ]
  },
  {
   "cell_type": "markdown",
   "metadata": {
    "nbpresent": {
     "id": "20205320-089a-4937-9900-555bd955627c"
    }
   },
   "source": [
    "## Analyzing training runs with TensorBoard\n",
    "\n",
    "In this step you will analyze the training run with [TensorBoard.dev](https://blog.tensorflow.org/2019/12/introducing-tensorboarddev-new-way-to.html). `TensorBoard.dev` is a managed service that enables you to easily host, track and share your ML experiments.\n",
    "\n",
    "\n",
    "### Retrieve the location of TensorBoard logs"
   ]
  },
  {
   "cell_type": "code",
   "execution_count": null,
   "metadata": {
    "nbpresent": {
     "id": "cbccd381-6758-43a7-96d9-4c81350d959c"
    }
   },
   "outputs": [],
   "source": [
    "train_uri = trainer.outputs[\"model\"].get()[0].uri\n",
    "logs_path = os.path.join(train_uri, \"logs\")\n",
    "print(logs_path)"
   ]
  },
  {
   "cell_type": "markdown",
   "metadata": {
    "nbpresent": {
     "id": "a130e4a5-ff7d-42a3-bc8e-f420d9e6594b"
    }
   },
   "source": [
    "### Upload the logs and start TensorBoard.dev\n",
    "\n",
    "1. Open a new JupyterLab terminal window\n",
    "\n",
    "2. From the terminal window, execute the following command\n",
    "```\n",
    "tensorboard dev upload --logdir [YOUR_LOGDIR]\n",
    "```\n",
    "\n",
    "Where [YOUR_LOGDIR] is an URI retrieved by the previous cell.\n",
    "\n",
    "You will be asked to authorize `TensorBoard.dev` using your Google account. If you don't have a Google account or you don't want to authorize `TensorBoard.dev` you can skip this exercise.\n",
    "\n",
    "After the authorization process completes, follow the link provided to view your experiment."
   ]
  },
  {
   "cell_type": "markdown",
   "metadata": {
    "nbpresent": {
     "id": "7c50f53f-9c24-47aa-ba4f-71b5b59f3f4a"
    }
   },
   "source": [
    "## Evaluating trained models with Evaluator\n",
    "The `Evaluator` component analyzes model performance using the [TensorFlow Model Analysis library](https://www.tensorflow.org/tfx/model_analysis/get_started). It runs inference requests on particular subsets of the test dataset, based on which slices are defined by the developer. Knowing which slices should be analyzed requires domain knowledge of what is important in this particular use case or domain. \n",
    "\n",
    "The `Evaluator` can also optionally validate a newly trained model against a previous model. In this lab, you only train one model, so the Evaluator automatically will label the model as \"blessed\".\n",
    "\n",
    "\n",
    "<img src=https://github.com/GoogleCloudPlatform/mlops-on-gcp/raw/master/images/Evaluator.png width=\"400\">"
   ]
  },
  {
   "cell_type": "markdown",
   "metadata": {
    "nbpresent": {
     "id": "6c6c3ec5-eef0-44d2-af7f-0919e075bb5c"
    }
   },
   "source": [
    "### Configure and run the Evaluator component\n"
   ]
  },
  {
   "cell_type": "markdown",
   "metadata": {
    "nbpresent": {
     "id": "6a9f8666-cc82-4e7a-b6ba-18b6d18bb302"
    }
   },
   "source": [
    "Use the `ResolverNode` to pick the previous model to compare against.  The model resolver is only required if performing model validation in addition to evaluation. In this case we validate against the latest blessed model. If no model has been blessed before (as in this case) the evaluator will make our candidate the first blessed model."
   ]
  },
  {
   "cell_type": "code",
   "execution_count": null,
   "metadata": {
    "nbpresent": {
     "id": "11c92a56-41ca-477f-8b54-a967e5fdaafb"
    }
   },
   "outputs": [],
   "source": [
    "model_resolver = ResolverNode(\n",
    "    instance_name=\"latest_blessed_model_resolver\",\n",
    "    resolver_class=latest_blessed_model_resolver.LatestBlessedModelResolver,\n",
    "    model=Channel(type=Model),\n",
    "    model_blessing=Channel(type=ModelBlessing),\n",
    ")\n",
    "\n",
    "context.run(model_resolver)"
   ]
  },
  {
   "cell_type": "code",
   "execution_count": null,
   "metadata": {
    "nbpresent": {
     "id": "75bcc083-0aba-45c5-bb00-f03d9b651832"
    }
   },
   "outputs": [],
   "source": [
    "model_resolver.outputs"
   ]
  },
  {
   "cell_type": "markdown",
   "metadata": {
    "nbpresent": {
     "id": "acba6d78-35ce-4a22-939e-697b8c1c8686"
    }
   },
   "source": [
    "Configure evaluation metrics and slices."
   ]
  },
  {
   "cell_type": "code",
   "execution_count": null,
   "metadata": {
    "nbpresent": {
     "id": "62dc7981-cc59-4143-be17-3d051496d972"
    }
   },
   "outputs": [],
   "source": [
    "accuracy_threshold = tfma.MetricThreshold(\n",
    "    value_threshold=tfma.GenericValueThreshold(\n",
    "        lower_bound={\"value\": 0.5}, upper_bound={\"value\": 0.99}\n",
    "    ),\n",
    "    change_threshold=tfma.GenericChangeThreshold(\n",
    "        absolute={\"value\": 0.0001},\n",
    "        direction=tfma.MetricDirection.HIGHER_IS_BETTER,\n",
    "    ),\n",
    ")\n",
    "\n",
    "metrics_specs = tfma.MetricsSpec(\n",
    "    metrics=[\n",
    "        tfma.MetricConfig(\n",
    "            class_name=\"SparseCategoricalAccuracy\",\n",
    "            threshold=accuracy_threshold,\n",
    "        ),\n",
    "        tfma.MetricConfig(class_name=\"ExampleCount\"),\n",
    "    ]\n",
    ")\n",
    "\n",
    "eval_config = tfma.EvalConfig(\n",
    "    model_specs=[tfma.ModelSpec(label_key=\"Cover_Type\")],\n",
    "    metrics_specs=[metrics_specs],\n",
    "    slicing_specs=[\n",
    "        tfma.SlicingSpec(),\n",
    "        tfma.SlicingSpec(feature_keys=[\"Wilderness_Area\"]),\n",
    "    ],\n",
    ")\n",
    "eval_config"
   ]
  },
  {
   "cell_type": "code",
   "execution_count": null,
   "metadata": {
    "nbpresent": {
     "id": "c0f363a0-d02f-45b5-970b-1466c547e0a4"
    }
   },
   "outputs": [],
   "source": [
    "model_analyzer = Evaluator(\n",
    "    examples=example_gen.outputs.examples,\n",
    "    model=trainer.outputs.model,\n",
    "    baseline_model=model_resolver.outputs.model,\n",
    "    eval_config=eval_config,\n",
    ")\n",
    "context.run(model_analyzer, enable_cache=False)"
   ]
  },
  {
   "cell_type": "markdown",
   "metadata": {
    "nbpresent": {
     "id": "270e20bd-99d7-4a15-a870-25ff526bb664"
    }
   },
   "source": [
    "### Check the model performance validation status"
   ]
  },
  {
   "cell_type": "code",
   "execution_count": null,
   "metadata": {
    "nbpresent": {
     "id": "2c49af25-c5b0-4df6-af5a-0b5681835fe5"
    }
   },
   "outputs": [],
   "source": [
    "model_blessing_uri = model_analyzer.outputs.blessing.get()[0].uri\n",
    "!ls -l {model_blessing_uri}"
   ]
  },
  {
   "cell_type": "markdown",
   "metadata": {
    "nbpresent": {
     "id": "076423f1-3674-4715-babe-d86150caf3f3"
    }
   },
   "source": [
    "### Visualize evaluation results\n",
    "You can visualize the evaluation results using the `tfma.view.render_slicing_metrics()` function from TensorFlow Model Analysis library.\n",
    "\n",
    "**Setup Note:** *Currently, TFMA visualizations don't render in  JupyterLab. Make sure that you run this notebook in Classic Notebook.*"
   ]
  },
  {
   "cell_type": "code",
   "execution_count": null,
   "metadata": {
    "nbpresent": {
     "id": "62c814e4-70ac-4ad9-ab8f-0b1635651dc4"
    }
   },
   "outputs": [],
   "source": [
    "evaluation_uri = model_analyzer.outputs[\"evaluation\"].get()[0].uri\n",
    "evaluation_uri\n",
    "!ls {evaluation_uri}"
   ]
  },
  {
   "cell_type": "code",
   "execution_count": null,
   "metadata": {
    "nbpresent": {
     "id": "63275dbf-dded-40a2-a60b-c4352f223d4e"
    }
   },
   "outputs": [],
   "source": [
    "eval_result = tfma.load_eval_result(evaluation_uri)\n",
    "eval_result"
   ]
  },
  {
   "cell_type": "code",
   "execution_count": null,
   "metadata": {
    "nbpresent": {
     "id": "6389f371-17cd-477a-870a-4475befd02d5"
    }
   },
   "outputs": [],
   "source": [
    "tfma.view.render_slicing_metrics(eval_result)"
   ]
  },
  {
   "cell_type": "code",
   "execution_count": null,
   "metadata": {
    "nbpresent": {
     "id": "d9cd0dd5-ab02-4b96-a9cd-afccfa33df5b"
    }
   },
   "outputs": [],
   "source": [
    "tfma.view.render_slicing_metrics(eval_result, slicing_column=\"Wilderness_Area\")"
   ]
  },
  {
   "cell_type": "markdown",
   "metadata": {
    "nbpresent": {
     "id": "bb3cc641-f2b7-4fe3-ac51-ebbbebd51289"
    }
   },
   "source": [
    "## InfraValidator\n",
    "\n",
    "The `InfraValidator` component acts as an additional early warning layer by validating a candidate model in a sandbox version of its serving infrastructure to prevent an unservable model from being pushed to production. Compared to the `Evaluator` component above which validates a model's performance, the `InfraValidator` component is validating that a model is able to generate predictions from served examples in an environment configured to match production. The config below takes a model and examples, launches the model in a sand-boxed [TensorflowServing](https://www.tensorflow.org/tfx/guide/serving) model server from the latest image in a local docker engine, and optionally checks that the model binary can be loaded and queried before \"blessing\" it for production.\n",
    "\n",
    "<img src=https://github.com/GoogleCloudPlatform/mlops-on-gcp/raw/master/images/InfraValidator.png width=\"400\">"
   ]
  },
  {
   "cell_type": "code",
   "execution_count": null,
   "metadata": {
    "nbpresent": {
     "id": "62de8c1a-8712-451f-b4d0-02c539b8b86e"
    }
   },
   "outputs": [],
   "source": [
    "infra_validator = InfraValidator(\n",
    "    model=trainer.outputs[\"model\"],\n",
    "    examples=example_gen.outputs[\"examples\"],\n",
    "    serving_spec=infra_validator_pb2.ServingSpec(\n",
    "        tensorflow_serving=infra_validator_pb2.TensorFlowServing(\n",
    "            tags=[\"latest\"]\n",
    "        ),\n",
    "        local_docker=infra_validator_pb2.LocalDockerConfig(),\n",
    "    ),\n",
    "    validation_spec=infra_validator_pb2.ValidationSpec(\n",
    "        max_loading_time_seconds=60,\n",
    "        num_tries=5,\n",
    "    ),\n",
    "    request_spec=infra_validator_pb2.RequestSpec(\n",
    "        tensorflow_serving=infra_validator_pb2.TensorFlowServingRequestSpec(),\n",
    "        num_examples=5,\n",
    "    ),\n",
    ")"
   ]
  },
  {
   "cell_type": "code",
   "execution_count": null,
   "metadata": {
    "nbpresent": {
     "id": "0a211132-9e70-4187-bdf3-52b74b75ba53"
    }
   },
   "outputs": [],
   "source": [
    "context.run(infra_validator, enable_cache=False)"
   ]
  },
  {
   "cell_type": "markdown",
   "metadata": {
    "nbpresent": {
     "id": "e068fb1b-c803-4e03-9f0b-01dc0843e260"
    }
   },
   "source": [
    "### Check the model infrastructure validation status"
   ]
  },
  {
   "cell_type": "code",
   "execution_count": null,
   "metadata": {
    "nbpresent": {
     "id": "f961dedb-c97c-45e9-8ad8-e7621586c2a9"
    }
   },
   "outputs": [],
   "source": [
    "infra_blessing_uri = infra_validator.outputs.blessing.get()[0].uri\n",
    "!ls -l {infra_blessing_uri}"
   ]
  },
  {
   "cell_type": "markdown",
   "metadata": {
    "nbpresent": {
     "id": "6a19149e-1bd7-45fa-b481-ced19b1a6589"
    }
   },
   "source": [
    "## Deploying models with Pusher\n",
    "\n",
    "The `Pusher` component checks whether a model has been \"blessed\", and if so, deploys it by pushing the model to a well known file destination.\n",
    "\n",
    "<img src=https://github.com/GoogleCloudPlatform/mlops-on-gcp/raw/master/images/Pusher.png width=\"400\">\n",
    "\n"
   ]
  },
  {
   "cell_type": "markdown",
   "metadata": {
    "nbpresent": {
     "id": "55d654c2-10cb-440f-b34c-da8fa59951a3"
    }
   },
   "source": [
    "### Configure and run the `Pusher` component"
   ]
  },
  {
   "cell_type": "code",
   "execution_count": null,
   "metadata": {
    "nbpresent": {
     "id": "1a641ab2-32e4-4562-bf31-8985c97a1376"
    }
   },
   "outputs": [],
   "source": [
    "trainer.outputs[\"model\"]"
   ]
  },
  {
   "cell_type": "code",
   "execution_count": null,
   "metadata": {
    "nbpresent": {
     "id": "b3af2cdf-7dd2-419a-a521-4550d36d4ab6"
    }
   },
   "outputs": [],
   "source": [
    "pusher = Pusher(\n",
    "    model=trainer.outputs[\"model\"],\n",
    "    model_blessing=model_analyzer.outputs[\"blessing\"],\n",
    "    infra_blessing=infra_validator.outputs[\"blessing\"],\n",
    "    push_destination=pusher_pb2.PushDestination(\n",
    "        filesystem=pusher_pb2.PushDestination.Filesystem(\n",
    "            base_directory=SERVING_MODEL_DIR\n",
    "        )\n",
    "    ),\n",
    ")\n",
    "context.run(pusher)"
   ]
  },
  {
   "cell_type": "markdown",
   "metadata": {
    "nbpresent": {
     "id": "e56328aa-6967-4ba0-acb7-3326def0776a"
    }
   },
   "source": [
    "### Examine the output of `Pusher`"
   ]
  },
  {
   "cell_type": "code",
   "execution_count": null,
   "metadata": {
    "nbpresent": {
     "id": "28d7262c-8b2e-42e1-8de7-be4d2267db4d"
    }
   },
   "outputs": [],
   "source": [
    "pusher.outputs"
   ]
  },
  {
   "cell_type": "code",
   "execution_count": null,
   "metadata": {
    "nbpresent": {
     "id": "b48f452f-1135-4b82-bcf6-1a82001a9607"
    }
   },
   "outputs": [],
   "source": [
    "# Set `PATH` to include a directory containing `saved_model_cli.\n",
    "PATH=%env PATH\n",
    "%env PATH=/opt/conda/envs/tfx/bin:{PATH}"
   ]
  },
  {
   "cell_type": "code",
   "execution_count": null,
   "metadata": {
    "nbpresent": {
     "id": "9c7aa924-d9b7-45e8-bd1a-539bcf856d9f"
    }
   },
   "outputs": [],
   "source": [
    "latest_pushed_model = os.path.join(\n",
    "    SERVING_MODEL_DIR, max(os.listdir(SERVING_MODEL_DIR))\n",
    ")\n",
    "!saved_model_cli show --dir {latest_pushed_model} --all"
   ]
  },
  {
   "cell_type": "markdown",
   "metadata": {
    "nbpresent": {
     "id": "2922629d-4dbd-4af2-8ea6-4ab7982c2fff"
    }
   },
   "source": [
    "## Next steps\n",
    "\n",
    "This concludes your introductory walthrough through TFX pipeline components. In the lab, you used TFX to analyze, understand, and pre-process the dataset and train, analyze, validate, and deploy a multi-class classification model to predict the type of forest cover from cartographic features. You utilized a TFX Interactive Context for prototype development of a TFX pipeline directly in a Jupyter notebook. Next, you worked with the TFDV library to modify your dataset schema to add feature constraints to catch data anamolies that can negatively impact your model's performance. You utilized TFT library for feature proprocessing for consistent feature transformations for your model at training and serving time. Lastly, using the TFMA library, you added model performance constraints to ensure you only push more accurate models than previous runs to production.\n",
    "\n",
    "\n",
    "The next labs in the series will guide through developing a TFX pipeline, deploying and running the pipeline on **AI Platform Pipelines** and automating the pipeline build and deployment processes with **Cloud Build**."
   ]
  },
  {
   "cell_type": "markdown",
   "metadata": {
    "nbpresent": {
     "id": "3cc0dfa8-5bc8-4259-82cb-a7d574a72c91"
    }
   },
   "source": [
    "## License"
   ]
  },
  {
   "cell_type": "markdown",
   "metadata": {
    "nbpresent": {
     "id": "e48c015a-1204-4f41-a45c-0ad7c71203f6"
    }
   },
   "source": [
    "<font size=-1>Licensed under the Apache License, Version 2.0 (the \\\"License\\\");\n",
    "you may not use this file except in compliance with the License.\n",
    "You may obtain a copy of the License at [https://www.apache.org/licenses/LICENSE-2.0](https://www.apache.org/licenses/LICENSE-2.0)\n",
    "\n",
    "Unless required by applicable law or agreed to in writing, software distributed under the License is distributed on an \\\"AS IS\\\" BASIS, WITHOUT WARRANTIES OR CONDITIONS OF ANY KIND, either express or implied.  See the License for the specific language governing permissions and limitations under the License.</font>"
   ]
  }
 ],
 "metadata": {
  "environment": {
   "name": "tf2-gpu.2-1.m59",
   "type": "gcloud",
   "uri": "gcr.io/deeplearning-platform-release/tf2-gpu.2-1:m59"
  },
  "kernelspec": {
   "display_name": "Python 3",
   "language": "python",
   "name": "python3"
  },
  "language_info": {
   "codemirror_mode": {
    "name": "ipython",
    "version": 3
   },
   "file_extension": ".py",
   "mimetype": "text/x-python",
   "name": "python",
   "nbconvert_exporter": "python",
   "pygments_lexer": "ipython3",
   "version": "3.7.8"
  }
 },
 "nbformat": 4,
 "nbformat_minor": 4
}
