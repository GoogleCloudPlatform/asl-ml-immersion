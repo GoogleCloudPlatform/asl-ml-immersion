{
 "cells": [
  {
   "cell_type": "markdown",
   "metadata": {
    "id": "qdeIrK5I_zj_"
   },
   "source": [
    "See go/flax-air"
   ]
  },
  {
   "cell_type": "markdown",
   "metadata": {
    "id": "vqZcEyuRVrL4"
   },
   "source": [
    "### JAX Fundamentals"
   ]
  },
  {
   "cell_type": "markdown",
   "metadata": {
    "id": "Zdt0cskgvN9l"
   },
   "source": [
    "Now is a good moment to open the JAX documentation in a separate tab:\n",
    "\n",
    "https://jax.readthedocs.io"
   ]
  },
  {
   "cell_type": "markdown",
   "metadata": {
    "id": "llSC6xV1Vi1O"
   },
   "source": [
    "#### Initialization"
   ]
  },
  {
   "cell_type": "code",
   "execution_count": null,
   "metadata": {
    "id": "KGdh15C_Xh-F"
   },
   "outputs": [],
   "source": [
    "import jax\n",
    "\n",
    "import jax.numpy as jnp\n",
    "import numpy as np\n",
    "\n",
    "from matplotlib import pyplot as plt"
   ]
  },
  {
   "cell_type": "code",
   "execution_count": null,
   "metadata": {
    "executionInfo": {
     "elapsed": 10309,
     "status": "ok",
     "timestamp": 1605716838974,
     "user": {
      "displayName": "",
      "photoUrl": "",
      "userId": ""
     },
     "user_tz": -60
    },
    "id": "1PECyFXeXg30",
    "outputId": "dd3edf74-58cf-49e9-b4ba-be1f322320cb"
   },
   "outputs": [
    {
     "data": {
      "text/plain": [
       "[PjRtTpuDevice(id=0, host_id=0, coords=(0,0,0), core_on_chip=0),\n",
       " PjRtTpuDevice(id=1, host_id=0, coords=(0,0,0), core_on_chip=1),\n",
       " PjRtTpuDevice(id=2, host_id=0, coords=(1,0,0), core_on_chip=0),\n",
       " PjRtTpuDevice(id=3, host_id=0, coords=(1,0,0), core_on_chip=1),\n",
       " PjRtTpuDevice(id=4, host_id=0, coords=(0,1,0), core_on_chip=0),\n",
       " PjRtTpuDevice(id=5, host_id=0, coords=(0,1,0), core_on_chip=1),\n",
       " PjRtTpuDevice(id=6, host_id=0, coords=(1,1,0), core_on_chip=0),\n",
       " PjRtTpuDevice(id=7, host_id=0, coords=(1,1,0), core_on_chip=1)]"
      ]
     },
     "execution_count": 2,
     "metadata": {
      "tags": []
     },
     "output_type": "execute_result"
    }
   ],
   "source": [
    "# Check connected accelerators. Depending on what runtime you're connected to,\n",
    "# this will show a single CPU/GPU, or 8 TPU cores (jf_2x2 aka JellyDonut).\n",
    "\n",
    "# You can start a TPU runtime via : \"Connect to a runtime\" -> \"Start\" ->\n",
    "# \"Borg Runtime\" -> \"Brain Frameworks JellyDonut (go/ml-colab)\"\n",
    "# https://screenshot.googleplex.com/87HTCpQNhBKUZUp\n",
    "# See also http://go/research-workflow-intro-deck#colab\n",
    "jax.devices()"
   ]
  },
  {
   "cell_type": "code",
   "execution_count": null,
   "metadata": {
    "executionInfo": {
     "elapsed": 312,
     "status": "ok",
     "timestamp": 1605716839294,
     "user": {
      "displayName": "",
      "photoUrl": "",
      "userId": ""
     },
     "user_tz": -60
    },
    "id": "fFLB_jkDYJPK",
    "outputId": "02c4f281-0f93-49a8-fcfc-a32f0378de96"
   },
   "outputs": [
    {
     "data": {
      "text/plain": [
       "[PjRtTpuDevice(id=0, host_id=0, coords=(0,0,0), core_on_chip=0),\n",
       " PjRtTpuDevice(id=1, host_id=0, coords=(0,0,0), core_on_chip=1),\n",
       " PjRtTpuDevice(id=2, host_id=0, coords=(1,0,0), core_on_chip=0),\n",
       " PjRtTpuDevice(id=3, host_id=0, coords=(1,0,0), core_on_chip=1),\n",
       " PjRtTpuDevice(id=4, host_id=0, coords=(0,1,0), core_on_chip=0),\n",
       " PjRtTpuDevice(id=5, host_id=0, coords=(0,1,0), core_on_chip=1),\n",
       " PjRtTpuDevice(id=6, host_id=0, coords=(1,1,0), core_on_chip=0),\n",
       " PjRtTpuDevice(id=7, host_id=0, coords=(1,1,0), core_on_chip=1)]"
      ]
     },
     "execution_count": 3,
     "metadata": {
      "tags": []
     },
     "output_type": "execute_result"
    }
   ],
   "source": [
    "# Local devices: In this case it's the same as all devices, but if you run JAX\n",
    "# in a multi host setup, then local_devices will only show the devices connected\n",
    "# to the host running the program.\n",
    "jax.local_devices()"
   ]
  },
  {
   "cell_type": "code",
   "execution_count": null,
   "metadata": {
    "executionInfo": {
     "elapsed": 330,
     "status": "ok",
     "timestamp": 1605716839651,
     "user": {
      "displayName": "",
      "photoUrl": "",
      "userId": ""
     },
     "user_tz": -60
    },
    "id": "TFgHXqHBtngY",
    "outputId": "ee94c259-d0e3-4134-af4b-27788e6c469b"
   },
   "outputs": [
    {
     "name": "stdout",
     "output_type": "stream",
     "text": [
      "/bin/sh: nvidia-smi: command not found\n"
     ]
    }
   ],
   "source": [
    "# Alternatively, you can also connect to GPU runtime.\n",
    "!nvidia-smi"
   ]
  },
  {
   "cell_type": "markdown",
   "metadata": {
    "id": "zvGr6pKaVmdf"
   },
   "source": [
    "#### Randomness\n",
    "\n",
    "https://jax.readthedocs.io/en/latest/notebooks/Common_Gotchas_in_JAX.html#%F0%9F%94%AA-Random-Numbers\n",
    "\n",
    "\n",
    "<center>\n",
    "<img src=\"https://live.staticflickr.com/3127/2875827736_2224e426c6_w.jpg\" width=\"400\" height=\"300\" alt=\"Green Tree Python\"><br>\n",
    "<i>CC BY Image by <a href=\"https://www.flickr.com/photos/tedmurphy/\">Ted Murphy</a></i>\n",
    "</center>\n"
   ]
  },
  {
   "cell_type": "code",
   "execution_count": null,
   "metadata": {
    "executionInfo": {
     "elapsed": 585,
     "status": "ok",
     "timestamp": 1605716840262,
     "user": {
      "displayName": "",
      "photoUrl": "",
      "userId": ""
     },
     "user_tz": -60
    },
    "id": "32RCWRATVwQo",
    "outputId": "ebb80218-b7cf-4bd9-8647-f088dcc897a2"
   },
   "outputs": [
    {
     "name": "stdout",
     "output_type": "stream",
     "text": [
      "[0.1252873  0.02237558 0.83836806 0.82412434 0.38652325]\n",
      "[-0.64391863  0.07092397 -0.2470687  -1.057074    0.13556837]\n"
     ]
    }
   ],
   "source": [
    "# YOUR ACTION REQUIRED:\n",
    "# Your task is to use JAX to generate 5 uniform random numbers and 5 normally\n",
    "# distributed random numbers.\n",
    "\n",
    "# Check out the following JAX API calls:\n",
    "# - jax.random.PRNGKey()\n",
    "# - jax.random.split()\n",
    "# - jax.random.uniform()\n",
    "# - jax.random.normal()\n",
    "\n",
    "##-snip\n",
    "# Create initial key from seed.\n",
    "key = jax.random.PRNGKey(0)\n",
    "# Derive two keys for consumption and another key to continue the chain.\n",
    "key1, key2, key = jax.random.split(key, 3)\n",
    "# Generate some random numbers using the first key.\n",
    "print(jax.random.uniform(key1, shape=(5,)))\n",
    "# Generate some random numbers using the second key.\n",
    "print(jax.random.normal(key2, shape=(5,)))\n",
    "\n",
    "# Note: using the same key for both random numbers would be a mistake, because\n",
    "# then both vectors would use the same key and there are no guarantees with\n",
    "# respect to their independence."
   ]
  },
  {
   "cell_type": "markdown",
   "metadata": {
    "id": "P5nO3BL-Vxog"
   },
   "source": [
    "#### `jnp` vs. `np`\n",
    "\n",
    "<center>\n",
    "<img src=\"https://live.staticflickr.com/2828/9578749884_d93a4a1315_w.jpg\" width=\"400\" height=\"255\" alt=\"steam forever\"><br>\n",
    "<i>CC BY Image by <a href=\"https://www.flickr.com/photos/h-studio/\">targut</a></i>\n",
    "</center>\n"
   ]
  },
  {
   "cell_type": "code",
   "execution_count": null,
   "metadata": {
    "executionInfo": {
     "elapsed": 3058,
     "status": "ok",
     "timestamp": 1605716843327,
     "user": {
      "displayName": "",
      "photoUrl": "",
      "userId": ""
     },
     "user_tz": -60
    },
    "id": "vnix-egH3hmr",
    "outputId": "ddb03fc1-44cc-4c12-b572-09e9d80172e7"
   },
   "outputs": [
    {
     "name": "stdout",
     "output_type": "stream",
     "text": [
      "CPU times: user 2.35 s, sys: 16 ms, total: 2.37 s\n",
      "Wall time: 2.37 s\n"
     ]
    },
    {
     "data": {
      "text/plain": [
       "array([[ -46.28066977,   11.35294462,  -11.95715758, ...,    4.13460615,\n",
       "         -28.39691633,  -67.08623321],\n",
       "       [ -56.06628128, -118.69125234,  -19.12654581, ...,  -81.85798712,\n",
       "          38.68220825,   31.14132371],\n",
       "       [ -55.75723054,  -29.08318693,  -63.99392113, ...,   -2.9280346 ,\n",
       "         -19.07768706,   65.11818916],\n",
       "       ...,\n",
       "       [ -46.98717565,   53.99080585,   47.8796869 , ...,  -18.91981076,\n",
       "         -40.43737338,   15.78576061],\n",
       "       [  76.0289938 ,  -49.47216149,   38.24874394, ...,  -94.33544392,\n",
       "         101.42438977,  -82.43652372],\n",
       "       [ -67.78545972,    7.14331359,  -97.59488811, ...,   -4.83372553,\n",
       "           2.73935695,  -49.52092656]])"
      ]
     },
     "execution_count": 6,
     "metadata": {
      "tags": []
     },
     "output_type": "execute_result"
    }
   ],
   "source": [
    "# Let's do some semi-serious matrix multiplication:\n",
    "k = 3_000\n",
    "x = np.random.normal(size=[k, k])\n",
    "# ~3.4s\n",
    "%time x @ x"
   ]
  },
  {
   "cell_type": "code",
   "execution_count": null,
   "metadata": {
    "executionInfo": {
     "elapsed": 1683,
     "status": "ok",
     "timestamp": 1605716845053,
     "user": {
      "displayName": "",
      "photoUrl": "",
      "userId": ""
     },
     "user_tz": -60
    },
    "id": "6JwTdcQH3Vhp",
    "outputId": "4c5e9ada-c54a-4716-9e5e-60c5778440a3"
   },
   "outputs": [
    {
     "name": "stdout",
     "output_type": "stream",
     "text": [
      "CPU times: user 815 ms, sys: 2.69 ms, total: 818 ms\n",
      "Wall time: 822 ms\n"
     ]
    },
    {
     "data": {
      "text/plain": [
       "DeviceArray([[ 38.375317, -21.0246  ,  42.664158, ..., -36.84205 ,\n",
       "              -16.638084, 120.2195  ],\n",
       "             [ 53.475822,   8.369665, -38.94782 , ...,  10.590559,\n",
       "              -68.711914,   1.945715],\n",
       "             [-26.465311,  -8.921974,  37.035046, ...,  53.59578 ,\n",
       "              -43.16165 ,  13.983183],\n",
       "             ...,\n",
       "             [ 16.283106,  67.18446 ,  53.673855, ...,  22.90127 ,\n",
       "               31.392447,  85.10547 ],\n",
       "             [ 97.00985 , -98.17281 ,  41.025414, ..., -24.279696,\n",
       "               25.458023,  76.61342 ],\n",
       "             [-23.025066,  16.083858,  33.15876 , ...,  33.482998,\n",
       "               73.54208 ,  30.782677]], dtype=float32)"
      ]
     },
     "execution_count": 7,
     "metadata": {
      "tags": []
     },
     "output_type": "execute_result"
    }
   ],
   "source": [
    "# YOUR ACTION REQUIRED: Do the same computation using JAX!\n",
    "# You should use result.block_until_ready() for a fair comparison.\n",
    "##-snip\n",
    "x = jax.random.normal(jax.random.PRNGKey(0), [k, k])\n",
    "# 201 ms on TPU\n",
    "%time (x@x).block_until_ready()"
   ]
  },
  {
   "cell_type": "code",
   "execution_count": null,
   "metadata": {
    "executionInfo": {
     "elapsed": 304,
     "status": "ok",
     "timestamp": 1605716845364,
     "user": {
      "displayName": "",
      "photoUrl": "",
      "userId": ""
     },
     "user_tz": -60
    },
    "id": "aAfR3DNTNRG0",
    "outputId": "4aea27f1-e52b-4c66-813f-4782ff767d2b"
   },
   "outputs": [
    {
     "data": {
      "text/plain": [
       "PjRtTpuDevice(id=0, host_id=0, coords=(0,0,0), core_on_chip=0)"
      ]
     },
     "execution_count": 8,
     "metadata": {
      "tags": []
     },
     "output_type": "execute_result"
    }
   ],
   "source": [
    "# Note the different class of the JAX array. There is additional API e.g. to\n",
    "# determine on which device the data is stored, check out x.device_buffer\n",
    "##-snip\n",
    "x.device_buffer.device()"
   ]
  },
  {
   "cell_type": "code",
   "execution_count": null,
   "metadata": {
    "executionInfo": {
     "elapsed": 4463,
     "status": "ok",
     "timestamp": 1605716849834,
     "user": {
      "displayName": "",
      "photoUrl": "",
      "userId": ""
     },
     "user_tz": -60
    },
    "id": "8L1Vzbzj234K",
    "outputId": "a8d2ebb4-dfb5-42d3-d523-e5bdf6541aee"
   },
   "outputs": [
    {
     "name": "stdout",
     "output_type": "stream",
     "text": [
      "DeviceArray([[ 0,  1,  2, ..., 97, 98, 99],\n",
      "             [ 0,  1,  2, ..., 97, 98, 99],\n",
      "             [ 0,  1,  2, ..., 97, 98, 99],\n",
      "             ...,\n",
      "             [ 0,  1,  2, ..., 97, 98, 99],\n",
      "             [ 0,  1,  2, ..., 97, 98, 99],\n",
      "             [ 0,  1,  2, ..., 97, 98, 99]], dtype=int32)\n",
      "array([[ 0,  1,  2, ..., 97, 98, 99],\n",
      "       [ 0,  1,  2, ..., 97, 98, 99],\n",
      "       [ 0,  1,  2, ..., 97, 98, 99],\n",
      "       ...,\n",
      "       [ 0,  1,  2, ..., 97, 98, 99],\n",
      "       [ 0,  1,  2, ..., 97, 98, 99],\n",
      "       [ 0,  1,  2, ..., 97, 98, 99]])\n",
      "DeviceArray([[ 0,  1,  2, ..., 97, 98, 99],\n",
      "             [ 0,  1,  2, ..., 97, 98, 99],\n",
      "             [ 0,  1,  2, ..., 97, 98, 99],\n",
      "             ...,\n",
      "             [ 0,  1,  2, ..., 97, 98, 99],\n",
      "             [ 0,  1,  2, ..., 97, 98, 99],\n",
      "             [ 0,  1,  2, ..., 97, 98, 99]], dtype=int32)\n",
      "DeviceArray([[ 0,  1,  2, ..., 97, 98, 99],\n",
      "             [ 0,  1,  2, ..., 97, 98, 99],\n",
      "             [ 0,  1,  2, ..., 97, 98, 99],\n",
      "             ...,\n",
      "             [ 0,  1,  2, ..., 97, 98, 99],\n",
      "             [ 0,  1,  2, ..., 97, 98, 99],\n",
      "             [ 0,  1,  2, ..., 97, 98, 99]], dtype=int32)\n",
      "CPU times: user 4.37 s, sys: 1.88 s, total: 6.25 s\n",
      "Wall time: 4.13 s\n"
     ]
    }
   ],
   "source": [
    "# Combining jnp & np : Below array initialization is rather slow because we\n",
    "# create a lot of jnp array. Replace jnp with np and observe the speedup!\n",
    "%%time\n",
    "# GPU : 1.79s\n",
    "# CPU : 1.04s\n",
    "x = jnp.array([jnp.arange(100) for _ in range(10000)])\n",
    "print(repr(x))\n",
    "# YOUR ACTION REQUIRED:\n",
    "# In this situation we would want to create the array in np and then convert it\n",
    "# to a jnp array using jnp.array() or jax.device_put().\n",
    "# (Note that we could use np.tile() here, but that's not the point)\n",
    "##-snip\n",
    "# GPU : 0.03s\n",
    "# CPU : 0.03s\n",
    "x = np.array([np.arange(100) for _ in range(10000)])\n",
    "print(repr(x))\n",
    "# GPU : 0.03s\n",
    "# CPU : 0.03s\n",
    "x = jnp.array(np.array([np.arange(100) for _ in range(10000)]))\n",
    "print(repr(x))\n",
    "# GPU : 0.03s\n",
    "# CPU : 0.03s\n",
    "x = jax.device_put(np.array([np.arange(100) for _ in range(10000)]))\n",
    "print(repr(x))"
   ]
  },
  {
   "cell_type": "markdown",
   "metadata": {
    "id": "I3U44rDeVo--"
   },
   "source": [
    "#### `grad()`\n",
    "\n",
    "<center>\n",
    "<img src=\"https://live.staticflickr.com/8573/15246394073_0cfdcc458b_w.jpg\" width=\"400\" height=\"221\" alt=\"Gradient\"><br>\n",
    "<i>CC BY Image by <a href=\"https://www.flickr.com/photos/60506610@N08/\">Manel Torralba</a></i>\n",
    "</center>\n",
    "\n",
    "https://jax.readthedocs.io/en/latest/jax.html#automatic-differentiation"
   ]
  },
  {
   "cell_type": "code",
   "execution_count": null,
   "metadata": {
    "executionInfo": {
     "elapsed": 345,
     "status": "ok",
     "timestamp": 1605716850187,
     "user": {
      "displayName": "",
      "photoUrl": "",
      "userId": ""
     },
     "user_tz": -60
    },
    "id": "OmqVcxf8W0PL",
    "outputId": "2eea693b-71b1-49fa-9eae-f63f2b01811a"
   },
   "outputs": [
    {
     "name": "stdout",
     "output_type": "stream",
     "text": [
      "-10.0 0.0\n",
      "0.0 0.5\n",
      "10.0 0.0\n"
     ]
    }
   ],
   "source": [
    "def sigmoid(x):\n",
    "    return 0.5 * (1 + jnp.tanh(x))\n",
    "\n",
    "\n",
    "# YOUR ACTION REQUIRED:\n",
    "# Use grad() to create a new function that computes the gradient of `sigmoid`.\n",
    "# Verify the output of the new function at some points.\n",
    "##-snip\n",
    "sigmoid_grad = jax.grad(sigmoid)\n",
    "for x in (-10.0, 0.0, 10.0):\n",
    "    print(x, sigmoid_grad(x))"
   ]
  },
  {
   "cell_type": "code",
   "execution_count": null,
   "metadata": {
    "executionInfo": {
     "elapsed": 324,
     "status": "ok",
     "timestamp": 1605716850519,
     "user": {
      "displayName": "",
      "photoUrl": "",
      "userId": ""
     },
     "user_tz": -60
    },
    "id": "vttdLwiCxfFl",
    "outputId": "7d8c37e7-c51a-4881-f3a5-54d3e57cf983"
   },
   "outputs": [
    {
     "data": {
      "text/plain": [
       "(DeviceArray(18., dtype=float32),\n",
       " DeviceArray(24., dtype=float32),\n",
       " DeviceArray(24., dtype=float32))"
      ]
     },
     "execution_count": 11,
     "metadata": {
      "tags": []
     },
     "output_type": "execute_result"
    }
   ],
   "source": [
    "def f(x, y):\n",
    "    return 2 * x * y ** 2\n",
    "\n",
    "\n",
    "# YOUR ACTION REQUIRED:\n",
    "# Compute df/dx and df/dy with grad()\n",
    "##-snip\n",
    "(\n",
    "    jax.grad(f)(2.0, 3.0),  # argnums=0 is the default\n",
    "    jax.grad(f, argnums=1)(\n",
    "        2.0, 3.0\n",
    "    ),  # specify to take gradient wrt 2nd argument\n",
    "    jax.grad(lambda y, x: f(x, y))(2.0, 3.0),  # same result using a lambda\n",
    ")"
   ]
  },
  {
   "cell_type": "markdown",
   "metadata": {
    "id": "KsVY8VxEV5HK"
   },
   "source": [
    "#### `vmap()`\n",
    "\n",
    "<center>\n",
    "<img src=\"https://live.staticflickr.com/65535/49164406707_a954dc465f_w.jpg\" width=\"400\" height=\"225\" alt=\"Les Tanji, éléments majeurs du paysage urbain coréen (Daejeon, Corée du sud)\"><br>\n",
    "<i>CC BY Image by <a href=\"https://www.flickr.com/photos/dalbera/\">Jean-Pierre Dalbéra</a></i>\n",
    "</center>\n",
    "\n",
    "https://jax.readthedocs.io/en/latest/jax.html#vectorization-vmap"
   ]
  },
  {
   "cell_type": "code",
   "execution_count": null,
   "metadata": {
    "colab": {
     "height": 269
    },
    "executionInfo": {
     "elapsed": 697,
     "status": "ok",
     "timestamp": 1605716851223,
     "user": {
      "displayName": "",
      "photoUrl": "",
      "userId": ""
     },
     "user_tz": -60
    },
    "id": "4wsPRBn1W0gq",
    "outputId": "0701008b-96fe-4558-eb3d-e23e6604d513"
   },
   "outputs": [
    {
     "data": {
      "image/png": "[encoded data removed]",
      "text/plain": [
       "<Figure size 600x400 with 1 Axes>"
      ]
     },
     "metadata": {
      "tags": []
     },
     "output_type": "display_data"
    }
   ],
   "source": [
    "# Now let's plot the gradient of the sigmoid function in the range [05, 5]\n",
    "xs = jnp.linspace(-5, 5, 100)\n",
    "# We can of course evaluate the gradient at every position separately:\n",
    "grads = [jax.grad(sigmoid)(x) for x in xs]\n",
    "plt.plot(xs, grads)\n",
    "# But JAX can \"vectorize\" our gradient function for us automatically.\n",
    "# YOUR ACTION REQUIRED:\n",
    "# Read the documentation about `vmap` and reimplement the plot without a Python\n",
    "# loop.\n",
    "##-snip\n",
    "plt.plot(xs, jax.vmap(jax.grad(sigmoid))(xs));"
   ]
  },
  {
   "cell_type": "code",
   "execution_count": null,
   "metadata": {
    "executionInfo": {
     "elapsed": 872,
     "status": "ok",
     "timestamp": 1605716852263,
     "user": {
      "displayName": "",
      "photoUrl": "",
      "userId": ""
     },
     "user_tz": -60
    },
    "id": "AWtpfcOy01lh",
    "outputId": "075d4770-e1d7-4704-9302-9e2718f7887d"
   },
   "outputs": [
    {
     "name": "stdout",
     "output_type": "stream",
     "text": [
      "[0 0 0]\n"
     ]
    },
    {
     "data": {
      "text/plain": [
       "DeviceArray([[0, 0, 0],\n",
       "             [0, 0, 0],\n",
       "             [0, 0, 0]], dtype=int32)"
      ]
     },
     "execution_count": 13,
     "metadata": {
      "tags": []
     },
     "output_type": "execute_result"
    }
   ],
   "source": [
    "# Another vmap() example : Let's re-implement matmul using vector dot product:\n",
    "vdp = lambda v1, v2: v1.dot(v2)\n",
    "# Vector dot product:\n",
    "vdp(jnp.arange(1, 4), jnp.arange(1, 4))\n",
    "# Matrix vector product:\n",
    "mvp = jax.vmap(vdp, in_axes=(0, None), out_axes=0)\n",
    "# Matrix matrix product:\n",
    "mmp = jax.vmap(mvp, in_axes=(None, 1), out_axes=1)\n",
    "\n",
    "# Verify result.\n",
    "m1 = jnp.arange(12).reshape((3, 4))\n",
    "m2 = m1.reshape((4, 3))\n",
    "# In case you were wondering : Since Python 3.5 we have `.__matmul__()` operator\n",
    "# that happens to use the same character as for decorators (cf. `@jit` below).\n",
    "mmp(m1, m2) - m1 @ m2\n",
    "\n",
    "# YOUR ACTION REQUIRED:\n",
    "# It's curry time!\n",
    "# Try re-implementing mvp() but this time without using the in_axes=, and\n",
    "# out_axes=. Instead use lambda expressions to (un)curry the arguments in such\n",
    "# a way that vmap()'s default in_axes=0 and out_axes=0 does the job.\n",
    "# (You can also re-implement mmp() this way, but it involves transposing).\n",
    "##-snip\n",
    "mvp_ = lambda m, v: jax.vmap(lambda x: vdp(x, v))(m)\n",
    "print(mvp(m1, m2[:, 0]) - mvp_(m1, m2[:, 0]))\n",
    "mmp_ = lambda m1, m2: jax.vmap(lambda x: mvp_(m1, x))(m2.T).T\n",
    "mmp_(m1, m2) - m1 @ m2"
   ]
  },
  {
   "cell_type": "markdown",
   "metadata": {
    "id": "sNoQ-NVBV7nM"
   },
   "source": [
    "#### `jit()`\n",
    "\n",
    "<center>\n",
    "<img src=\"https://live.staticflickr.com/3803/9540184355_0dee2f496a_w.jpg\" width=\"400\" height=\"267\" alt=\"Silicon Village\"><br>\n",
    "<i>CC BY Image by <a href=\"https://www.flickr.com/photos/jackofspades/\">Jack Spades</a></i>\n",
    "</center>\n",
    "\n",
    "https://jax.readthedocs.io/en/latest/jax.html#just-in-time-compilation-*jit*"
   ]
  },
  {
   "cell_type": "code",
   "execution_count": null,
   "metadata": {
    "executionInfo": {
     "elapsed": 2657,
     "status": "ok",
     "timestamp": 1605716854929,
     "user": {
      "displayName": "",
      "photoUrl": "",
      "userId": ""
     },
     "user_tz": -60
    },
    "id": "R_3LkmBs8tjh",
    "outputId": "aed4cc61-be8a-4e57-cc0a-49ff9154eeb4"
   },
   "outputs": [
    {
     "name": "stdout",
     "output_type": "stream",
     "text": [
      "10 loops, best of 3: 37.4 ms per loop\n"
     ]
    }
   ],
   "source": [
    "# JAX would not have the final X in it's name if it were not for XLA, the\n",
    "# magic sauce that somehow takes computation defined in a function as input\n",
    "# and produces a much faster version of it.\n",
    "\n",
    "# @jax.jit\n",
    "def f(x):\n",
    "    y = x\n",
    "    for _ in range(10):\n",
    "        y = y - 0.1 * y + 3.0\n",
    "    return y[:100, :100]\n",
    "\n",
    "\n",
    "x = jax.random.normal(jax.random.PRNGKey(0), (5000, 5000))\n",
    "%timeit f(x).block_until_ready()\n",
    "\n",
    "# YOUR ACTION REQUIRED:\n",
    "# Move your magic JAX wand and cast a spell by removing a single character from\n",
    "# above example, drastically speeding up the computation!\n",
    "# Note: JIT unrolls the for loop and converts all computations to XLA\n",
    "# primitives. XLA is then smart enough to fuse kernels for multiplication and\n",
    "# addition, and optimize the program to only compute those parts that are\n",
    "# actually needed for the function result..."
   ]
  },
  {
   "cell_type": "code",
   "execution_count": null,
   "metadata": {
    "executionInfo": {
     "elapsed": 328,
     "status": "ok",
     "timestamp": 1605716855267,
     "user": {
      "displayName": "",
      "photoUrl": "",
      "userId": ""
     },
     "user_tz": -60
    },
    "id": "cKN0v0sCEZqq",
    "outputId": "b41affe5-38b1-4e1d-d5ab-e4a36feee24d"
   },
   "outputs": [
    {
     "data": {
      "text/plain": [
       "DeviceArray(0., dtype=float32)"
      ]
     },
     "execution_count": 15,
     "metadata": {
      "tags": []
     },
     "output_type": "execute_result"
    }
   ],
   "source": [
    "# Just to be clear : `@jit` is Python's decorator syntax [1], you can also use\n",
    "# jit() like the other function transformations.\n",
    "# [1] https://www.python.org/dev/peps/pep-0318\n",
    "\n",
    "\n",
    "@jax.jit\n",
    "def f1_jit(x):\n",
    "    return x ** 0.5\n",
    "\n",
    "\n",
    "def f2(x):\n",
    "    return x ** 0.5\n",
    "\n",
    "\n",
    "# It's really the same.\n",
    "f2_jit = jax.jit(f2)\n",
    "\n",
    "f1_jit(2) - f2_jit(2)"
   ]
  },
  {
   "cell_type": "code",
   "execution_count": null,
   "metadata": {
    "executionInfo": {
     "elapsed": 356,
     "status": "ok",
     "timestamp": 1605716855680,
     "user": {
      "displayName": "",
      "photoUrl": "",
      "userId": ""
     },
     "user_tz": -60
    },
    "id": "B2G-A2tnvqao",
    "outputId": "b865fd89-228d-45ce-92f7-5a47485e8b5a"
   },
   "outputs": [
    {
     "name": "stdout",
     "output_type": "stream",
     "text": [
      "Tracing noop: Traced<ShapedArray(int32[3])>with<DynamicJaxprTrace(level=0/1)>\n",
      "Tracing noop: Traced<ShapedArray(int32[4])>with<DynamicJaxprTrace(level=0/1)>\n",
      "Tracing noop: Traced<ShapedArray(float32[4])>with<DynamicJaxprTrace(level=0/1)>\n"
     ]
    },
    {
     "data": {
      "text/plain": [
       "DeviceArray([1., 2., 3., 4.], dtype=float32)"
      ]
     },
     "execution_count": 16,
     "metadata": {
      "tags": []
     },
     "output_type": "execute_result"
    }
   ],
   "source": [
    "# What you need to understand about JIT (1/3): When a function is traced.\n",
    "\n",
    "\n",
    "@jax.jit\n",
    "def noop(x):\n",
    "    # This statement only gets executed when the function is traced, i.e. every\n",
    "    # time you execute the JIT-ted version with a new ShapedArray (different dtype\n",
    "    # and/or different shape).\n",
    "    print(\"Tracing noop:\", x)\n",
    "    return x\n",
    "\n",
    "\n",
    "noop(jnp.arange(3))  # Tracing.\n",
    "noop(jnp.arange(3) + 1)  # Using trace from cache.\n",
    "noop(jnp.arange(4))  # Tracing.\n",
    "noop(jnp.arange(4.0))  # Tracing.\n",
    "noop(jnp.arange(1.0, 5.0))  # Using trace from cache."
   ]
  },
  {
   "cell_type": "code",
   "execution_count": null,
   "metadata": {
    "executionInfo": {
     "elapsed": 346,
     "status": "ok",
     "timestamp": 1605716856036,
     "user": {
      "displayName": "",
      "photoUrl": "",
      "userId": ""
     },
     "user_tz": -60
    },
    "id": "9gKO9M7DDJUr",
    "outputId": "551dd905-3fe9-4038-a55e-0b40005886e2"
   },
   "outputs": [
    {
     "name": "stdout",
     "output_type": "stream",
     "text": [
      "[13]\n",
      "[13]\n",
      "[42.]\n"
     ]
    }
   ],
   "source": [
    "# What you need to understand about JIT (2/3): Baking in environment.\n",
    "magic_number = 13\n",
    "\n",
    "\n",
    "@jax.jit\n",
    "def add_magic(x):\n",
    "    return x + magic_number\n",
    "\n",
    "\n",
    "print(add_magic(np.array([0])))\n",
    "magic_number = 42\n",
    "print(add_magic(np.array([0])))\n",
    "print(add_magic(np.array([0.0])))"
   ]
  },
  {
   "cell_type": "code",
   "execution_count": null,
   "metadata": {
    "id": "6neI1cN8Dgho"
   },
   "outputs": [],
   "source": [
    "# What you need to understand about JIT (2/3): Value-dependent flow.\n",
    "def mult(x, n):\n",
    "    print(\"Tracing mult:\", x, n)\n",
    "    tot = 0\n",
    "    while n > 0:\n",
    "        tot += x\n",
    "        n -= 1\n",
    "    return tot"
   ]
  },
  {
   "cell_type": "code",
   "execution_count": null,
   "metadata": {
    "executionInfo": {
     "elapsed": 317,
     "status": "ok",
     "timestamp": 1605716856689,
     "user": {
      "displayName": "",
      "photoUrl": "",
      "userId": ""
     },
     "user_tz": -60
    },
    "id": "kudcEghERJF5",
    "outputId": "e905cc7f-05f2-4224-c854-4d11fb8266f0"
   },
   "outputs": [
    {
     "name": "stdout",
     "output_type": "stream",
     "text": [
      "Tracing mult: Traced<ShapedArray(int32[], weak_type=True)>with<DynamicJaxprTrace(level=0/1)> Traced<ShapedArray(int32[], weak_type=True)>with<DynamicJaxprTrace(level=0/1)>\n",
      "\n",
      "### FAILED WITH : Abstract tracer value encountered where concrete value is expected.\n",
      "\n",
      "The problem arose with the `bool` function. \n",
      "\n",
      "While tracing the function mult at <ipython-input-18-168d651ed123>:2, this concrete value was not available in Python because it depends on the value of the arguments to mult at <ipython-input-18-168d651ed123>:2 at flattened positions [1], and the computation of these values is being staged out (that is, delayed rather than executed eagerly).\n",
      "\n",
      "You can use transformation parameters such as `static_argnums` for `jit` to avoid tracing particular arguments of transformed functions, though at the cost of more recompiles.\n",
      "\n",
      "See https://jax.readthedocs.io/en/latest/faq.html#abstract-tracer-value-encountered-where-concrete-value-is-expected-error for more information.\n",
      "\n",
      "Encountered tracer value: Traced<ShapedArray(bool[])>with<DynamicJaxprTrace(level=0/1)>\n"
     ]
    }
   ],
   "source": [
    "# The problem:\n",
    "\n",
    "# The following statement fails, because : JIT will generate the function's XLA\n",
    "# code by tracing it with `ShapedArray`'s. These arrays have only their shape\n",
    "# and datatype defined. Hence, if there are any statements involving the actual\n",
    "# *values* of the parameters, JIT does not know what to do and raises an\n",
    "# exception.\n",
    "# (Note that if mult were traced with `ConcreteArray`s then the trace would work\n",
    "#  just fine; you can see that when executing `grad(mult)(3., 2.)`)\n",
    "try:\n",
    "    jax.jit(mult)(3, 2)\n",
    "except Exception as e:\n",
    "    print(f\"\\n### FAILED WITH : {e}\")\n",
    "\n",
    "# How can we fix this ??"
   ]
  },
  {
   "cell_type": "code",
   "execution_count": null,
   "metadata": {
    "executionInfo": {
     "elapsed": 362,
     "status": "ok",
     "timestamp": 1605716857095,
     "user": {
      "displayName": "",
      "photoUrl": "",
      "userId": ""
     },
     "user_tz": -60
    },
    "id": "BDMWMsPkGToO",
    "outputId": "c479a5bb-5a4f-4b1c-dfd7-7a5daa82a41b"
   },
   "outputs": [
    {
     "name": "stdout",
     "output_type": "stream",
     "text": [
      "Tracing mult: Traced<ShapedArray(int32[], weak_type=True)>with<DynamicJaxprTrace(level=0/1)> 4\n",
      "Tracing mult: Traced<ShapedArray(int32[], weak_type=True)>with<DynamicJaxprTrace(level=0/1)> 5\n",
      "Tracing mult: Traced<ShapedArray(int32[], weak_type=True)>with<DynamicJaxprTrace(level=0/1)> 6\n"
     ]
    },
    {
     "data": {
      "text/plain": [
       "DeviceArray(18, dtype=int32)"
      ]
     },
     "execution_count": 20,
     "metadata": {
      "tags": []
     },
     "output_type": "execute_result"
    }
   ],
   "source": [
    "# Solution 1 : static_argnums\n",
    "jax.jit(mult, static_argnums=1)(3, 4)\n",
    "jax.jit(mult, static_argnums=1)(3, 5)\n",
    "jax.jit(mult, static_argnums=1)(3, 6)\n",
    "\n",
    "# By the way : did you notice how the function is traced exactly three times the\n",
    "# first time this cell is executed, but not when you re-execute the same cell?\n",
    "# That's because JIT-ted functions are cached. If You want to observe the\n",
    "# tracing a second time, you first need to execute above cell so that `mult`\n",
    "# gets redefined and the cache needs to be updated with the new definition."
   ]
  },
  {
   "cell_type": "code",
   "execution_count": null,
   "metadata": {
    "executionInfo": {
     "elapsed": 375,
     "status": "ok",
     "timestamp": 1605716857481,
     "user": {
      "displayName": "",
      "photoUrl": "",
      "userId": ""
     },
     "user_tz": -60
    },
    "id": "PVg2Df7IHyro",
    "outputId": "0e0f4c0c-7df0-40bf-bcf1-a056002a50e1"
   },
   "outputs": [
    {
     "name": "stdout",
     "output_type": "stream",
     "text": [
      "Tracing mult: Traced<ShapedArray(int32[], weak_type=True)>with<DynamicJaxprTrace(level=0/1)> 4\n",
      "Tracing mult: Traced<ShapedArray(int32[], weak_type=True)>with<DynamicJaxprTrace(level=0/1)> 5\n",
      "Tracing mult: Traced<ShapedArray(int32[], weak_type=True)>with<DynamicJaxprTrace(level=0/1)> 6\n"
     ]
    },
    {
     "data": {
      "text/plain": [
       "DeviceArray(18, dtype=int32)"
      ]
     },
     "execution_count": 21,
     "metadata": {
      "tags": []
     },
     "output_type": "execute_result"
    }
   ],
   "source": [
    "# Solution 2 : (un)currying\n",
    "\n",
    "# YOUR ACTION REQUIRED:\n",
    "# Use jit() without `static_argnums=`, but (un)curry the function mult instead.\n",
    "##-snip\n",
    "mult_jit = lambda x, n: jax.jit(lambda x: mult(x, n))(x)\n",
    "mult_jit(3, 4)\n",
    "mult_jit(3, 5)\n",
    "mult_jit(3, 6)"
   ]
  },
  {
   "cell_type": "code",
   "execution_count": null,
   "metadata": {
    "executionInfo": {
     "elapsed": 872,
     "status": "ok",
     "timestamp": 1605716858365,
     "user": {
      "displayName": "",
      "photoUrl": "",
      "userId": ""
     },
     "user_tz": -60
    },
    "id": "BcLw1EuyIHeV",
    "outputId": "8aa7588d-f731-4b10-ea64-a0f574859946"
   },
   "outputs": [
    {
     "name": "stdout",
     "output_type": "stream",
     "text": [
      "Tracing mult_: Traced<ShapedArray(int32[], weak_type=True)>with<DynamicJaxprTrace(level=0/1)> Traced<ShapedArray(int32[], weak_type=True)>with<DynamicJaxprTrace(level=0/1)>\n"
     ]
    },
    {
     "data": {
      "text/plain": [
       "(DeviceArray(0, dtype=int32), DeviceArray(18, dtype=int32))"
      ]
     },
     "execution_count": 22,
     "metadata": {
      "tags": []
     },
     "output_type": "execute_result"
    }
   ],
   "source": [
    "# Solution 3 : Use XLA primitives for control flow.\n",
    "\n",
    "# Remember: You can inspect `jax.lax.while_loop()` docs by either:\n",
    "# - Go to https://jax.readthedocs.io\n",
    "# - Execute a cell containing `?jax.lax.while_loop`\n",
    "# - Hover your mouse over `while_loop` and wait two seconds\n",
    "\n",
    "\n",
    "def mult_(x, n):\n",
    "    print(\"Tracing mult_:\", x, n)\n",
    "\n",
    "    def cond_fun(n_tot):\n",
    "        n, tot = n_tot\n",
    "        return n > 0\n",
    "\n",
    "    def body_fun(n_tot):\n",
    "        n, tot = n_tot\n",
    "        return (n - 1, tot + x)\n",
    "\n",
    "    return jax.lax.while_loop(cond_fun, body_fun, (n, 0))\n",
    "\n",
    "\n",
    "jax.jit(mult_)(3, 4)\n",
    "jax.jit(mult_)(3, 5)\n",
    "jax.jit(mult_)(3, 6)"
   ]
  },
  {
   "cell_type": "code",
   "execution_count": null,
   "metadata": {
    "executionInfo": {
     "elapsed": 2675,
     "status": "ok",
     "timestamp": 1605716861051,
     "user": {
      "displayName": "",
      "photoUrl": "",
      "userId": ""
     },
     "user_tz": -60
    },
    "id": "4DIdnlULSoDs",
    "outputId": "47f4ccc5-e778-4b4c-b4d3-aa5cfcb874eb"
   },
   "outputs": [
    {
     "name": "stdout",
     "output_type": "stream",
     "text": [
      "Tracing mult: Traced<ShapedArray(int32[], weak_type=True)>with<DynamicJaxprTrace(level=0/1)> 5000\n",
      "CPU times: user 2.31 s, sys: 2.48 ms, total: 2.31 s\n",
      "Wall time: 2.31 s\n"
     ]
    },
    {
     "data": {
      "text/plain": [
       "DeviceArray(15000, dtype=int32)"
      ]
     },
     "execution_count": 23,
     "metadata": {
      "tags": []
     },
     "output_type": "execute_result"
    }
   ],
   "source": [
    "# Woah! Wasn't JAX supposed to be fast !? What is going on here ??\n",
    "# Also note that increasing the second number significantly will crash\n",
    "# your runtime...\n",
    "%%time\n",
    "jax.jit(mult, static_argnums=1)(3, 5000)\n",
    "##-snip\n",
    "# JAX will unroll the loop before compiling it. Compiling a huge graph that has\n",
    "# thousands of unrolled additions will take a long time, and at some point\n",
    "# exhaust all memory, leading to a OOM crash."
   ]
  },
  {
   "cell_type": "code",
   "execution_count": null,
   "metadata": {
    "executionInfo": {
     "elapsed": 326,
     "status": "ok",
     "timestamp": 1605716861387,
     "user": {
      "displayName": "",
      "photoUrl": "",
      "userId": ""
     },
     "user_tz": -60
    },
    "id": "ud2GC4vhTJDR",
    "outputId": "af63e2a1-5f72-4fa6-e62d-c4425cad8064"
   },
   "outputs": [
    {
     "name": "stdout",
     "output_type": "stream",
     "text": [
      "CPU times: user 888 µs, sys: 0 ns, total: 888 µs\n",
      "Wall time: 621 µs\n"
     ]
    },
    {
     "data": {
      "text/plain": [
       "(DeviceArray(0, dtype=int32), DeviceArray(15000, dtype=int32))"
      ]
     },
     "execution_count": 24,
     "metadata": {
      "tags": []
     },
     "output_type": "execute_result"
    }
   ],
   "source": [
    "# Does this function have the same problems? Why not?\n",
    "%%time\n",
    "jax.jit(mult_)(3, 5000)\n",
    "##-snip\n",
    "# No unrolling is happening here. We simply have a single XLA instruction that\n",
    "# is compiled as any other instruction."
   ]
  },
  {
   "cell_type": "markdown",
   "metadata": {
    "id": "qS2kXGXFG9I-"
   },
   "source": [
    "#### `pmap()`\n",
    "\n",
    "<center>\n",
    "<a href=\"https://storage.googleapis.com/gweb-cloudblog-publish/original_images/TPU_V3_POD_FULLFRONT_FORWEBONLY_FINAL.jpg\" target=\"_blank\"><img src=\"https://storage.googleapis.com/gweb-cloudblog-publish/original_images/TPU_V3_POD_FULLFRONT_FORWEBONLY_FINAL.jpg\" width=\"800\"  alt=\"Full TPUv3 (DragonFish) pod\"></a><br>\n",
    "<i>Full TPUv3 (DragonFish) pod (from <a href=\"https://cloud.google.com/blog/products/ai-machine-learning/cloud-tpu-pods-break-ai-training-records?hl=fr_ca&skip_cache=true\">GoogleAI Blog</a>) - click to enlarge.</i>\n",
    "</center>\n",
    "\n",
    "https://jax.readthedocs.io/en/latest/jax.html#parallelization-pmap"
   ]
  },
  {
   "cell_type": "code",
   "execution_count": null,
   "metadata": {
    "id": "XQ0344DG1w3T"
   },
   "outputs": [],
   "source": [
    "# Parallel computing is more fun with multiple devices :-)\n",
    "# Go back to \"Initialization\" and connect to a different runtime if you're\n",
    "# running on a single device.\n",
    "assert jax.device_count() == 8, \"Please connect to a JellyDonut runtime!\""
   ]
  },
  {
   "cell_type": "code",
   "execution_count": null,
   "metadata": {
    "executionInfo": {
     "elapsed": 1598,
     "status": "ok",
     "timestamp": 1605716863344,
     "user": {
      "displayName": "",
      "photoUrl": "",
      "userId": ""
     },
     "user_tz": -60
    },
    "id": "0cfM4Cl42V3K",
    "outputId": "2c6e99f2-85cf-42ec-a201-a2b6373bacca"
   },
   "outputs": [
    {
     "data": {
      "text/plain": [
       "ShardedDeviceArray([ 0.00185904, -0.00014661,  0.02134887,  0.01937939,\n",
       "                     0.00734944,  0.00370082,  0.00958951,  0.00445661],                   dtype=float32)"
      ]
     },
     "execution_count": 26,
     "metadata": {
      "tags": []
     },
     "output_type": "execute_result"
    }
   ],
   "source": [
    "# By default in_axes=0, so pmap() will split every incoming tensor across it's\n",
    "# first axis - which should be sized jax.local_device_count().\n",
    "# The computations are then performed in parallel and the results are returned\n",
    "# as a sharded device array. The dat remains on the individual accelerators.\n",
    "# Note that pmap() also XLA-compiles the function, so no need to call jit().\n",
    "\n",
    "# Generate 8 different random seeds.\n",
    "keys = jax.random.split(jax.random.PRNGKey(0), 8)\n",
    "# Generate 8 different random matrices. Data remains on devices.\n",
    "mats = jax.pmap(lambda key: jax.random.normal(key, (8_000, 8_000)))(keys)\n",
    "# Perform 8 matmuls in parallel.\n",
    "results = jax.pmap(lambda m1, m2: m1 @ m2)(mats, mats)\n",
    "\n",
    "# YOUR ACTION REQUIRED:\n",
    "# Fetch the mean of thes matrices from every device and print it out here.\n",
    "##-snip\n",
    "jax.pmap(jnp.mean)(results)"
   ]
  },
  {
   "cell_type": "code",
   "execution_count": null,
   "metadata": {
    "executionInfo": {
     "elapsed": 430,
     "status": "ok",
     "timestamp": 1605716863823,
     "user": {
      "displayName": "",
      "photoUrl": "",
      "userId": ""
     },
     "user_tz": -60
    },
    "id": "SI0FUo5jyGiD",
    "outputId": "dc86e006-06c3-49e2-b5be-7073774a892b"
   },
   "outputs": [
    {
     "data": {
      "text/plain": [
       "(ShardedDeviceArray([[12., 16.],\n",
       "                     [12., 16.],\n",
       "                     [12., 16.],\n",
       "                     [12., 16.]], dtype=float32),\n",
       " ShardedDeviceArray([[ 1.,  1.],\n",
       "                     [ 5.,  5.],\n",
       "                     [ 9.,  9.],\n",
       "                     [13., 13.]], dtype=float32),\n",
       " ShardedDeviceArray([[28., 28.],\n",
       "                     [28., 28.],\n",
       "                     [28., 28.],\n",
       "                     [28., 28.]], dtype=float32))"
      ]
     },
     "execution_count": 27,
     "metadata": {
      "tags": []
     },
     "output_type": "execute_result"
    }
   ],
   "source": [
    "import functools\n",
    "\n",
    "# Here we use jax.lax.psum() to do computations across devices. Note that these\n",
    "# operations can cause a lot of communication costs. Below we split our 8\n",
    "# devices along two axis (4x2).\n",
    "\n",
    "# Note in particular that parallel operators work across hosts! We can't\n",
    "# demonstrate this in a Colab, but you will encounter it later in the Flax\n",
    "# examples and brain templates.\n",
    "\n",
    "# You can read more about parallel operators here:\n",
    "# https://jax.readthedocs.io/en/latest/jax.lax.html#parallel-operators\n",
    "\n",
    "# axis 0 : rows\n",
    "@functools.partial(jax.pmap, axis_name=\"rows\")\n",
    "# axis 1 : columns\n",
    "@functools.partial(jax.pmap, axis_name=\"cols\")\n",
    "def f(x):\n",
    "    # across the rows (= column sum)\n",
    "    row_sum = jax.lax.psum(x, \"rows\")\n",
    "    # across the cols (= row sum)\n",
    "    col_sum = jax.lax.psum(x, \"cols\")\n",
    "    total_sum = jax.lax.psum(x, (\"rows\", \"cols\"))\n",
    "    return row_sum, col_sum, total_sum\n",
    "\n",
    "\n",
    "# YOUR ACTION REQUIRED:\n",
    "# Create an array, feed it to f() and verify the correctness of the results\n",
    "##-snip\n",
    "f(jnp.arange(8.0).reshape(4, 2))"
   ]
  },
  {
   "cell_type": "markdown",
   "metadata": {
    "id": "rkgsBV1nbQRC"
   },
   "source": [
    "#### pytrees\n",
    "\n",
    "<center>\n",
    "<img src=\"https://live.staticflickr.com/4695/38641518410_53da16c2a9_w.jpg\" width=\"400\" height=\"300\" alt=\"Green Tree Python\"><br>\n",
    "<i>CC BY Image by <a href=\"https://www.flickr.com/photos/markgillow/\">Mark Gillow</a></i>\n",
    "</center>\n",
    "\n",
    "https://jax.readthedocs.io/en/latest/notebooks/JAX_pytrees.html"
   ]
  },
  {
   "cell_type": "code",
   "execution_count": null,
   "metadata": {
    "id": "bsJGdklgbRMo"
   },
   "outputs": [],
   "source": [
    "# Whenever we encounter a function argument, e.g. the `params` for a model, or\n",
    "# the first argument to `grad()` to whose respect we perform automatic\n",
    "# differentiation, it can really be a \"pytree\" of `jnp.ndarray`. A pytree\n",
    "# consists of an arbitrary combination of Python dict/list/tuple and allows us\n",
    "# to structure our data hierarchically.\n",
    "\n",
    "# This is a pytree:\n",
    "data = dict(\n",
    "    array_3x2=jnp.arange(6.0).reshape((3, 2)),\n",
    "    mixed_tuple=(0.1, 0.2, 0.3, [1.0, 2.0, 3.0]),\n",
    "    subdict=dict(\n",
    "        array_3x4=jnp.arange(12.0).reshape((3, 4)),\n",
    "        array_4x3=jnp.arange(12.0).reshape((4, 3)),\n",
    "    ),\n",
    ")"
   ]
  },
  {
   "cell_type": "code",
   "execution_count": null,
   "metadata": {
    "executionInfo": {
     "elapsed": 659,
     "status": "ok",
     "timestamp": 1605716864870,
     "user": {
      "displayName": "",
      "photoUrl": "",
      "userId": ""
     },
     "user_tz": -60
    },
    "id": "yapH9c-teEhY",
    "outputId": "0be39bc3-b771-404a-9b30-7e9480b4058f"
   },
   "outputs": [
    {
     "data": {
      "text/plain": [
       "{'array_3x2': (3, 2),\n",
       " 'mixed_tuple': ((), (), (), [(), (), ()]),\n",
       " 'subdict': {'array_3x4': (3, 4), 'array_4x3': (4, 3)}}"
      ]
     },
     "execution_count": 29,
     "metadata": {
      "tags": []
     },
     "output_type": "execute_result"
    }
   ],
   "source": [
    "# Call a function over all values, output resulting tree:\n",
    "jax.tree_map(jnp.shape, data)"
   ]
  },
  {
   "cell_type": "code",
   "execution_count": null,
   "metadata": {
    "executionInfo": {
     "elapsed": 343,
     "status": "ok",
     "timestamp": 1605716865224,
     "user": {
      "displayName": "",
      "photoUrl": "",
      "userId": ""
     },
     "user_tz": -60
    },
    "id": "CycIGKXWeHh7",
    "outputId": "715a0cf7-c5a7-4073-ad5e-dcca3973b170"
   },
   "outputs": [
    {
     "data": {
      "text/plain": [
       "DeviceArray(8951.141, dtype=float32)"
      ]
     },
     "execution_count": 30,
     "metadata": {
      "tags": []
     },
     "output_type": "execute_result"
    }
   ],
   "source": [
    "# Define a function that does some computation with the values:\n",
    "def sumsquares(x):\n",
    "    value_flat, value_tree = jax.tree_flatten(x)\n",
    "    del value_tree  # not needed.\n",
    "    tot = 0\n",
    "    for value in value_flat:\n",
    "        if isinstance(value, jnp.ndarray):\n",
    "            value = value.sum()\n",
    "        tot += value ** 2\n",
    "    return tot\n",
    "\n",
    "\n",
    "sumsquares(data)"
   ]
  },
  {
   "cell_type": "code",
   "execution_count": null,
   "metadata": {
    "executionInfo": {
     "elapsed": 345,
     "status": "ok",
     "timestamp": 1605716865594,
     "user": {
      "displayName": "",
      "photoUrl": "",
      "userId": ""
     },
     "user_tz": -60
    },
    "id": "0jlfIFXIejG4",
    "outputId": "c0167839-5835-4adc-d422-3c96054c3166"
   },
   "outputs": [
    {
     "data": {
      "text/plain": [
       "{'array_3x2': DeviceArray([[30., 30.],\n",
       "              [30., 30.],\n",
       "              [30., 30.]], dtype=float32),\n",
       " 'mixed_tuple': (DeviceArray(0.2, dtype=float32),\n",
       "  DeviceArray(0.4, dtype=float32),\n",
       "  DeviceArray(0.6, dtype=float32),\n",
       "  [DeviceArray(2., dtype=float32),\n",
       "   DeviceArray(4., dtype=float32),\n",
       "   DeviceArray(6., dtype=float32)]),\n",
       " 'subdict': {'array_3x4': DeviceArray([[132., 132., 132., 132.],\n",
       "               [132., 132., 132., 132.],\n",
       "               [132., 132., 132., 132.]], dtype=float32),\n",
       "  'array_4x3': DeviceArray([[132., 132., 132.],\n",
       "               [132., 132., 132.],\n",
       "               [132., 132., 132.],\n",
       "               [132., 132., 132.]], dtype=float32)}}"
      ]
     },
     "execution_count": 31,
     "metadata": {
      "tags": []
     },
     "output_type": "execute_result"
    }
   ],
   "source": [
    "# Compute gradients. Remember that grad() computes gradients wrt the first\n",
    "# argument, but that first argument can be an arbitrarily complex pytree (like\n",
    "# all the weights in your hierarchical model).\n",
    "grads = jax.grad(sumsquares)(data)\n",
    "grads"
   ]
  },
  {
   "cell_type": "code",
   "execution_count": null,
   "metadata": {
    "executionInfo": {
     "elapsed": 336,
     "status": "ok",
     "timestamp": 1605716865956,
     "user": {
      "displayName": "",
      "photoUrl": "",
      "userId": ""
     },
     "user_tz": -60
    },
    "id": "yr0j_wYlfncp",
    "outputId": "36f1429a-edc8-4e92-e29a-9c1946dd45d9"
   },
   "outputs": [
    {
     "data": {
      "text/plain": [
       "{'array_3x2': DeviceArray([[-3., -2.],\n",
       "              [-1.,  0.],\n",
       "              [ 1.,  2.]], dtype=float32),\n",
       " 'mixed_tuple': (DeviceArray(0.08, dtype=float32),\n",
       "  DeviceArray(0.16, dtype=float32),\n",
       "  DeviceArray(0.24000001, dtype=float32),\n",
       "  [DeviceArray(0.8, dtype=float32),\n",
       "   DeviceArray(1.6, dtype=float32),\n",
       "   DeviceArray(2.4, dtype=float32)]),\n",
       " 'subdict': {'array_3x4': DeviceArray([[-13.2      , -12.2      , -11.2      , -10.2      ],\n",
       "               [ -9.2      ,  -8.2      ,  -7.2      ,  -6.2      ],\n",
       "               [ -5.2      ,  -4.2      ,  -3.1999998,  -2.1999998]],            dtype=float32),\n",
       "  'array_4x3': DeviceArray([[-13.2      , -12.2      , -11.2      ],\n",
       "               [-10.2      ,  -9.2      ,  -8.2      ],\n",
       "               [ -7.2      ,  -6.2      ,  -5.2      ],\n",
       "               [ -4.2      ,  -3.1999998,  -2.1999998]], dtype=float32)}}"
      ]
     },
     "execution_count": 32,
     "metadata": {
      "tags": []
     },
     "output_type": "execute_result"
    }
   ],
   "source": [
    "# YOUR ACTION REQUIRED:\n",
    "# Take a step against the gradients using `jax.tree_multimap()`\n",
    "##-snip\n",
    "data2 = jax.tree_multimap(lambda value, grad: value - 0.1 * grad, data, grads)\n",
    "data2"
   ]
  },
  {
   "cell_type": "markdown",
   "metadata": {
    "id": "oBgGdfd9O-2J"
   },
   "source": [
    "### end"
   ]
  }
 ],
 "metadata": {
  "accelerator": "GPU",
  "colab": {
   "collapsed_sections": [],
   "last_runtime": {
    "build_target": "//learning/deepmind/public/tools/ml_python:ml_notebook",
    "kind": "private"
   },
   "name": "JAX/Flax for AI Residents - Practical Session (go/flax-air)",
   "provenance": [
    {
     "file_id": "/piper/depot/google3/experimental/users/andstein/jax/flax-air/practical_session.ipynb?workspaceId=andstein:flax::citc",
     "timestamp": 1605717371662
    },
    {
     "file_id": "/piper/depot/google3/experimental/users/andstein/jax/dlc/practical_session.ipynb?cl=314311380",
     "timestamp": 1605113589945
    },
    {
     "file_id": "1LHqEBdkXq3MY-6R391gxpRHoYzGkZgHh",
     "timestamp": 1590385903513
    }
   ],
   "toc_visible": true
  },
  "environment": {
   "name": "tf2-gpu.2-1.m50",
   "type": "gcloud",
   "uri": "gcr.io/deeplearning-platform-release/tf2-gpu.2-1:m50"
  },
  "kernelspec": {
   "display_name": "Python 3",
   "language": "python",
   "name": "python3"
  },
  "language_info": {
   "codemirror_mode": {
    "name": "ipython",
    "version": 3
   },
   "file_extension": ".py",
   "mimetype": "text/x-python",
   "name": "python",
   "nbconvert_exporter": "python",
   "pygments_lexer": "ipython3",
   "version": "3.7.6"
  }
 },
 "nbformat": 4,
 "nbformat_minor": 4
}
