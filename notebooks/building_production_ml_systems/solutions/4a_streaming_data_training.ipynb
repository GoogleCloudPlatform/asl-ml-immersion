{
 "cells": [
  {
   "cell_type": "markdown",
   "metadata": {},
   "source": [
    "# Training a model with `traffic_last_5min` feature\n",
    "\n",
    "\n",
    "## Introduction\n",
    "\n",
    "In this notebook, we'll train a taxifare prediction model but this time with an additional feature of `traffic_last_5min`."
   ]
  },
  {
   "cell_type": "code",
   "execution_count": 1,
   "metadata": {},
   "outputs": [
    {
     "name": "stdout",
     "output_type": "stream",
     "text": [
      "2.3.2\n"
     ]
    }
   ],
   "source": [
    "import datetime\n",
    "import os\n",
    "import shutil\n",
    "\n",
    "import pandas as pd\n",
    "import tensorflow as tf\n",
    "\n",
    "from matplotlib import pyplot as plt\n",
    "from tensorflow import keras\n",
    "\n",
    "from tensorflow.keras.models import Sequential\n",
    "from tensorflow.keras.layers import Dense, DenseFeatures\n",
    "from tensorflow.keras.callbacks import TensorBoard\n",
    "\n",
    "print(tf.__version__)\n",
    "%matplotlib inline"
   ]
  },
  {
   "cell_type": "code",
   "execution_count": 2,
   "metadata": {},
   "outputs": [],
   "source": [
    "PROJECT = 'cloud-training-demos' # REPLACE WITH YOUR PROJECT ID\n",
    "BUCKET = 'cloud-training-demos' # REPLACE WITH YOUR BUCKET NAME\n",
    "REGION = 'us-central1' # REPLACE WITH YOUR BUCKET REGION e.g. us-central1"
   ]
  },
  {
   "cell_type": "code",
   "execution_count": 3,
   "metadata": {},
   "outputs": [],
   "source": [
    "# For Bash Code\n",
    "os.environ['PROJECT'] = PROJECT\n",
    "os.environ['BUCKET'] = BUCKET\n",
    "os.environ['REGION'] = REGION"
   ]
  },
  {
   "cell_type": "code",
   "execution_count": 4,
   "metadata": {},
   "outputs": [
    {
     "name": "stderr",
     "output_type": "stream",
     "text": [
      "Updated property [core/project].\n",
      "Updated property [compute/region].\n"
     ]
    }
   ],
   "source": [
    "%%bash\n",
    "gcloud config set project $PROJECT\n",
    "gcloud config set compute/region $REGION"
   ]
  },
  {
   "cell_type": "markdown",
   "metadata": {},
   "source": [
    "## Load raw data"
   ]
  },
  {
   "cell_type": "code",
   "execution_count": 5,
   "metadata": {},
   "outputs": [
    {
     "name": "stdout",
     "output_type": "stream",
     "text": [
      "-rw-r--r-- 1 jupyter jupyter 2186310 May 21 20:11 ../data/taxi-traffic-test.csv\n",
      "-rw-r--r-- 1 jupyter jupyter 9713118 May 21 20:11 ../data/taxi-traffic-train.csv\n",
      "-rw-r--r-- 1 jupyter jupyter 2036826 May 21 20:11 ../data/taxi-traffic-valid.csv\n"
     ]
    }
   ],
   "source": [
    "!ls -l ../data/taxi-traffic*"
   ]
  },
  {
   "cell_type": "code",
   "execution_count": 6,
   "metadata": {},
   "outputs": [
    {
     "name": "stdout",
     "output_type": "stream",
     "text": [
      "==> ../data/taxi-traffic-test.csv <==\n",
      "15.7,6,12,-73.990072,40.758199,-73.974686,40.742004,2089\n",
      "6.1,7,2,-73.95647,40.771226,-73.971845,40.750089,1738\n",
      "4.1,6,18,-73.987871,40.759855,-73.996375,40.763728,2971\n",
      "5.7,2,18,-73.974177,40.761154,-73.980953,40.769357,2320\n",
      "7.4,4,23,-73.924908,40.741879,-73.897524,40.747867,1491\n",
      "20.5,1,15,-73.957528,40.766847,-73.870813,40.774044,1794\n",
      "6.5,6,9,-73.996553,40.725558,-73.992503,40.737248,2341\n",
      "4.1,4,11,-73.98353,40.746821000000004,-73.976831,40.751082000000004,2329\n",
      "10.5,3,18,-73.863998,40.770439,-73.91671099999999,40.773011,2318\n",
      "10.1,6,1,-73.979685,40.727247999999996,-73.952508,40.772492,1455\n",
      "\n",
      "==> ../data/taxi-traffic-train.csv <==\n",
      "6.1,2,0,-73.98689499999999,40.729723,-74.00631,40.739407,1129\n",
      "9.7,7,0,-73.94578299999999,40.777807,-73.97539,40.757712,2876\n",
      "5.3,6,0,-74.00644,40.739349,-73.999379,40.731804,3950\n",
      "7.3,5,0,-73.96611800000001,40.753983000000005,-73.945605,40.782802000000004,1334\n",
      "6.5,7,0,-73.974153,40.762767,-73.989152,40.742727,2623\n",
      "22.9,1,0,-73.977188,40.774063,-73.962647,40.654768,2833\n",
      "22.9,2,0,-74.00188,40.745946999999994,-73.968497,40.639375,2002\n",
      "6.1,3,0,-73.994051,40.751077,-73.977333,40.778875,661\n",
      "5.3,5,0,-73.980898,40.744515,-73.973383,40.753496999999996,1938\n",
      "6.5,7,0,-74.00540600000001,40.708533,-74.005498,40.725617,2781\n",
      "\n",
      "==> ../data/taxi-traffic-valid.csv <==\n",
      "7.7,2,11,-73.97463,40.742118,-73.98544,40.760585999999996,1059\n",
      "30.1,7,1,-73.956921,40.777588,-73.965109,40.673271,2225\n",
      "7.7,6,13,-73.98073199999999,40.742109,-73.96415400000001,40.764891999999996,1994\n",
      "24.67,4,4,-73.953387,40.822733,-73.878697,40.755373,321\n",
      "7.7,2,1,-73.982304,40.723572,-73.972778,40.74928,1115\n",
      "8.1,5,18,-73.98474300000001,40.749171999999994,-74.00232,40.72825,2697\n",
      "6.1,4,1,-73.983588,40.72224,-73.997302,40.720786,868\n",
      "19.07,3,1,-73.94446500000001,40.807284,-73.876339,40.763073999999996,711\n",
      "12.5,4,10,-73.98696899999999,40.722343,-74.01621,40.715067,1990\n",
      "5.7,7,18,-74.007972,40.738759,-73.991973,40.73704,2048\n"
     ]
    }
   ],
   "source": [
    "!head ../data/taxi-traffic*"
   ]
  },
  {
   "cell_type": "markdown",
   "metadata": {},
   "source": [
    "## Use tf.data to read the CSV files\n",
    "\n",
    "These functions for reading data from the csv files are similar to what we used in the Introduction to Tensorflow module. Note that here we have an addtional feature `traffic_last_5min`."
   ]
  },
  {
   "cell_type": "code",
   "execution_count": 7,
   "metadata": {},
   "outputs": [],
   "source": [
    "CSV_COLUMNS = [\n",
    "    'fare_amount',\n",
    "    'dayofweek',\n",
    "    'hourofday',\n",
    "    'pickup_longitude',\n",
    "    'pickup_latitude',\n",
    "    'dropoff_longitude',\n",
    "    'dropoff_latitude',\n",
    "    'traffic_last_5min'\n",
    "]\n",
    "LABEL_COLUMN = 'fare_amount'\n",
    "DEFAULTS = [[0.0], [0.0], [0.0], [0.0], [0.0], [0.0], [0.0], [0.0]]\n",
    "\n",
    "\n",
    "def features_and_labels(row_data):\n",
    "    label = row_data.pop(LABEL_COLUMN)\n",
    "    features = row_data\n",
    "\n",
    "    return features, label\n",
    "\n",
    "\n",
    "def create_dataset(pattern, batch_size=1, mode=tf.estimator.ModeKeys.EVAL):\n",
    "    dataset = tf.data.experimental.make_csv_dataset(\n",
    "        pattern, batch_size, CSV_COLUMNS, DEFAULTS)\n",
    "\n",
    "    dataset = dataset.map(features_and_labels)\n",
    "\n",
    "    if mode == tf.estimator.ModeKeys.TRAIN:\n",
    "        dataset = dataset.shuffle(buffer_size=1000).repeat()\n",
    "\n",
    "    # take advantage of multi-threading; 1=AUTOTUNE\n",
    "    dataset = dataset.prefetch(1)\n",
    "    return dataset"
   ]
  },
  {
   "cell_type": "code",
   "execution_count": 8,
   "metadata": {},
   "outputs": [],
   "source": [
    "INPUT_COLS = [\n",
    "    'dayofweek',\n",
    "    'hourofday',\n",
    "    'pickup_longitude',\n",
    "    'pickup_latitude',\n",
    "    'dropoff_longitude',\n",
    "    'dropoff_latitude',\n",
    "    'traffic_last_5min'\n",
    "]\n",
    "\n",
    "# Create input layer of feature columns\n",
    "feature_columns = {\n",
    "    colname: tf.feature_column.numeric_column(colname)\n",
    "    for colname in INPUT_COLS\n",
    "    }"
   ]
  },
  {
   "cell_type": "markdown",
   "metadata": {},
   "source": [
    "## Build a simple keras DNN model"
   ]
  },
  {
   "cell_type": "code",
   "execution_count": 9,
   "metadata": {},
   "outputs": [],
   "source": [
    "# Build a keras DNN model using Sequential API\n",
    "def build_model(dnn_hidden_units):\n",
    "    model = Sequential(DenseFeatures(feature_columns=feature_columns.values()))\n",
    "    \n",
    "    for num_nodes in dnn_hidden_units:\n",
    "        model.add(Dense(units=num_nodes, activation=\"relu\"))\n",
    "    \n",
    "    model.add(Dense(units=1, activation=\"linear\"))    \n",
    "    \n",
    "    # Create a custom evalution metric\n",
    "    def rmse(y_true, y_pred):\n",
    "        return tf.sqrt(tf.reduce_mean(tf.square(y_pred - y_true)))\n",
    "\n",
    "    # Compile the keras model\n",
    "    model.compile(optimizer=\"adam\", loss=\"mse\", metrics=[rmse, \"mse\"])\n",
    "    \n",
    "    return model"
   ]
  },
  {
   "cell_type": "markdown",
   "metadata": {},
   "source": [
    "Next, we can call the `build_model` to create the model. Here we'll have two hidden layers before our final output layer. And we'll train with the same parameters we used before."
   ]
  },
  {
   "cell_type": "code",
   "execution_count": 10,
   "metadata": {},
   "outputs": [],
   "source": [
    "HIDDEN_UNITS = [32, 8]\n",
    "\n",
    "model = build_model(dnn_hidden_units=HIDDEN_UNITS)"
   ]
  },
  {
   "cell_type": "code",
   "execution_count": 11,
   "metadata": {},
   "outputs": [],
   "source": [
    "BATCH_SIZE = 1000\n",
    "NUM_TRAIN_EXAMPLES = 10000 * 6  # training dataset will repeat, wrap around\n",
    "NUM_EVALS = 60  # how many times to evaluate\n",
    "NUM_EVAL_EXAMPLES = 10000  # enough to get a reasonable sample\n",
    "\n",
    "trainds = create_dataset(\n",
    "    pattern='../data/taxi-traffic-train*',\n",
    "    batch_size=BATCH_SIZE,\n",
    "    mode=tf.estimator.ModeKeys.TRAIN)\n",
    "\n",
    "evalds = create_dataset(\n",
    "    pattern='../data/taxi-traffic-valid*',\n",
    "    batch_size=BATCH_SIZE,\n",
    "    mode=tf.estimator.ModeKeys.EVAL).take(NUM_EVAL_EXAMPLES//1000)"
   ]
  },
  {
   "cell_type": "code",
   "execution_count": 12,
   "metadata": {},
   "outputs": [
    {
     "name": "stdout",
     "output_type": "stream",
     "text": [
      "Epoch 1/60\n",
      "WARNING:tensorflow:Layers in a Sequential model should only have a single input tensor, but we receive a <class 'collections.OrderedDict'> input: OrderedDict([('dayofweek', <tf.Tensor 'ExpandDims:0' shape=(1000, 1) dtype=float32>), ('hourofday', <tf.Tensor 'ExpandDims_3:0' shape=(1000, 1) dtype=float32>), ('pickup_longitude', <tf.Tensor 'ExpandDims_5:0' shape=(1000, 1) dtype=float32>), ('pickup_latitude', <tf.Tensor 'ExpandDims_4:0' shape=(1000, 1) dtype=float32>), ('dropoff_longitude', <tf.Tensor 'ExpandDims_2:0' shape=(1000, 1) dtype=float32>), ('dropoff_latitude', <tf.Tensor 'ExpandDims_1:0' shape=(1000, 1) dtype=float32>), ('traffic_last_5min', <tf.Tensor 'ExpandDims_6:0' shape=(1000, 1) dtype=float32>)])\n",
      "Consider rewriting this model with the Functional API.\n",
      "WARNING:tensorflow:Layers in a Sequential model should only have a single input tensor, but we receive a <class 'collections.OrderedDict'> input: OrderedDict([('dayofweek', <tf.Tensor 'ExpandDims:0' shape=(1000, 1) dtype=float32>), ('hourofday', <tf.Tensor 'ExpandDims_3:0' shape=(1000, 1) dtype=float32>), ('pickup_longitude', <tf.Tensor 'ExpandDims_5:0' shape=(1000, 1) dtype=float32>), ('pickup_latitude', <tf.Tensor 'ExpandDims_4:0' shape=(1000, 1) dtype=float32>), ('dropoff_longitude', <tf.Tensor 'ExpandDims_2:0' shape=(1000, 1) dtype=float32>), ('dropoff_latitude', <tf.Tensor 'ExpandDims_1:0' shape=(1000, 1) dtype=float32>), ('traffic_last_5min', <tf.Tensor 'ExpandDims_6:0' shape=(1000, 1) dtype=float32>)])\n",
      "Consider rewriting this model with the Functional API.\n",
      "1/1 [==============================] - ETA: 0s - loss: 850.7469 - rmse: 29.1676 - mse: 850.7469WARNING:tensorflow:Layers in a Sequential model should only have a single input tensor, but we receive a <class 'collections.OrderedDict'> input: OrderedDict([('dayofweek', <tf.Tensor 'ExpandDims:0' shape=(1000, 1) dtype=float32>), ('hourofday', <tf.Tensor 'ExpandDims_3:0' shape=(1000, 1) dtype=float32>), ('pickup_longitude', <tf.Tensor 'ExpandDims_5:0' shape=(1000, 1) dtype=float32>), ('pickup_latitude', <tf.Tensor 'ExpandDims_4:0' shape=(1000, 1) dtype=float32>), ('dropoff_longitude', <tf.Tensor 'ExpandDims_2:0' shape=(1000, 1) dtype=float32>), ('dropoff_latitude', <tf.Tensor 'ExpandDims_1:0' shape=(1000, 1) dtype=float32>), ('traffic_last_5min', <tf.Tensor 'ExpandDims_6:0' shape=(1000, 1) dtype=float32>)])\n",
      "Consider rewriting this model with the Functional API.\n",
      "1/1 [==============================] - 0s 492ms/step - loss: 850.7469 - rmse: 29.1676 - mse: 850.7469 - val_loss: 119.6968 - val_rmse: 10.9146 - val_mse: 119.6968\n",
      "Epoch 2/60\n",
      "WARNING:tensorflow:From /opt/conda/lib/python3.7/site-packages/tensorflow/python/ops/summary_ops_v2.py:1277: stop (from tensorflow.python.eager.profiler) is deprecated and will be removed after 2020-07-01.\n",
      "Instructions for updating:\n",
      "use `tf.profiler.experimental.stop` instead.\n",
      "1/1 [==============================] - 0s 357ms/step - loss: 122.5765 - rmse: 11.0714 - mse: 122.5765 - val_loss: 302.4014 - val_rmse: 17.3827 - val_mse: 302.4014\n",
      "Epoch 3/60\n",
      "1/1 [==============================] - 0s 316ms/step - loss: 305.5103 - rmse: 17.4789 - mse: 305.5103 - val_loss: 435.3892 - val_rmse: 20.8613 - val_mse: 435.3892\n",
      "Epoch 4/60\n",
      "1/1 [==============================] - 0s 293ms/step - loss: 501.7705 - rmse: 22.4002 - mse: 501.7705 - val_loss: 338.1036 - val_rmse: 18.3845 - val_mse: 338.1036\n",
      "Epoch 5/60\n",
      "1/1 [==============================] - 0s 352ms/step - loss: 439.4366 - rmse: 20.9627 - mse: 439.4366 - val_loss: 186.5560 - val_rmse: 13.6440 - val_mse: 186.5560\n",
      "Epoch 6/60\n",
      "1/1 [==============================] - 0s 386ms/step - loss: 258.3072 - rmse: 16.0719 - mse: 258.3072 - val_loss: 111.1567 - val_rmse: 10.5253 - val_mse: 111.1567\n",
      "Epoch 7/60\n",
      "1/1 [==============================] - 0s 299ms/step - loss: 136.6302 - rmse: 11.6889 - mse: 136.6302 - val_loss: 151.6391 - val_rmse: 12.3028 - val_mse: 151.6391\n",
      "Epoch 8/60\n",
      "1/1 [==============================] - 0s 299ms/step - loss: 228.6964 - rmse: 15.1227 - mse: 228.6964 - val_loss: 208.4643 - val_rmse: 14.4302 - val_mse: 208.4643\n",
      "Epoch 9/60\n",
      "1/1 [==============================] - 0s 319ms/step - loss: 197.5186 - rmse: 14.0541 - mse: 197.5186 - val_loss: 258.2773 - val_rmse: 16.0628 - val_mse: 258.2773\n",
      "Epoch 10/60\n",
      "1/1 [==============================] - 0s 306ms/step - loss: 279.2178 - rmse: 16.7098 - mse: 279.2178 - val_loss: 248.7767 - val_rmse: 15.7687 - val_mse: 248.7767\n",
      "Epoch 11/60\n",
      "1/1 [==============================] - 0s 331ms/step - loss: 237.1153 - rmse: 15.3985 - mse: 237.1153 - val_loss: 196.1024 - val_rmse: 13.9983 - val_mse: 196.1024\n",
      "Epoch 12/60\n",
      "1/1 [==============================] - 0s 308ms/step - loss: 181.7808 - rmse: 13.4826 - mse: 181.7808 - val_loss: 139.4202 - val_rmse: 11.8011 - val_mse: 139.4202\n",
      "Epoch 13/60\n",
      "1/1 [==============================] - 0s 304ms/step - loss: 134.1717 - rmse: 11.5833 - mse: 134.1717 - val_loss: 105.8856 - val_rmse: 10.2784 - val_mse: 105.8856\n",
      "Epoch 14/60\n",
      "1/1 [==============================] - 0s 292ms/step - loss: 110.4531 - rmse: 10.5097 - mse: 110.4531 - val_loss: 115.5127 - val_rmse: 10.7407 - val_mse: 115.5127\n",
      "Epoch 15/60\n",
      "1/1 [==============================] - 0s 322ms/step - loss: 137.7582 - rmse: 11.7370 - mse: 137.7582 - val_loss: 150.9449 - val_rmse: 12.2762 - val_mse: 150.9449\n",
      "Epoch 16/60\n",
      "1/1 [==============================] - 0s 331ms/step - loss: 148.8040 - rmse: 12.1985 - mse: 148.8040 - val_loss: 177.4236 - val_rmse: 13.3038 - val_mse: 177.4236\n",
      "Epoch 17/60\n",
      "1/1 [==============================] - 0s 374ms/step - loss: 210.4817 - rmse: 14.5080 - mse: 210.4817 - val_loss: 169.9620 - val_rmse: 13.0334 - val_mse: 169.9620\n",
      "Epoch 18/60\n",
      "1/1 [==============================] - 0s 342ms/step - loss: 173.6291 - rmse: 13.1768 - mse: 173.6291 - val_loss: 147.6034 - val_rmse: 12.1300 - val_mse: 147.6034\n",
      "Epoch 19/60\n",
      "1/1 [==============================] - 0s 383ms/step - loss: 191.0713 - rmse: 13.8229 - mse: 191.0713 - val_loss: 113.2125 - val_rmse: 10.6091 - val_mse: 113.2125\n",
      "Epoch 20/60\n",
      "1/1 [==============================] - 0s 280ms/step - loss: 134.2567 - rmse: 11.5869 - mse: 134.2567 - val_loss: 98.6929 - val_rmse: 9.9242 - val_mse: 98.6929\n",
      "Epoch 21/60\n",
      "1/1 [==============================] - 0s 321ms/step - loss: 103.6980 - rmse: 10.1832 - mse: 103.6980 - val_loss: 115.4928 - val_rmse: 10.7406 - val_mse: 115.4928\n",
      "Epoch 22/60\n",
      "1/1 [==============================] - 0s 296ms/step - loss: 147.7903 - rmse: 12.1569 - mse: 147.7903 - val_loss: 126.0625 - val_rmse: 11.2206 - val_mse: 126.0625\n",
      "Epoch 23/60\n",
      "1/1 [==============================] - 0s 313ms/step - loss: 105.7692 - rmse: 10.2844 - mse: 105.7692 - val_loss: 129.2750 - val_rmse: 11.3637 - val_mse: 129.2750\n",
      "Epoch 24/60\n",
      "1/1 [==============================] - 1s 512ms/step - loss: 129.2494 - rmse: 11.3688 - mse: 129.2494 - val_loss: 124.1634 - val_rmse: 11.1352 - val_mse: 124.1634\n",
      "Epoch 25/60\n",
      "1/1 [==============================] - 1s 942ms/step - loss: 126.2574 - rmse: 11.2364 - mse: 126.2574 - val_loss: 116.8069 - val_rmse: 10.7834 - val_mse: 116.8069\n",
      "Epoch 26/60\n",
      "1/1 [==============================] - 1s 693ms/step - loss: 120.4667 - rmse: 10.9757 - mse: 120.4667 - val_loss: 104.4241 - val_rmse: 10.2014 - val_mse: 104.4241\n",
      "Epoch 27/60\n",
      "1/1 [==============================] - 0s 435ms/step - loss: 140.9089 - rmse: 11.8705 - mse: 140.9089 - val_loss: 103.3480 - val_rmse: 10.1432 - val_mse: 103.3480\n",
      "Epoch 28/60\n",
      "1/1 [==============================] - 0s 324ms/step - loss: 92.2460 - rmse: 9.6045 - mse: 92.2460 - val_loss: 115.5407 - val_rmse: 10.7082 - val_mse: 115.5407\n",
      "Epoch 29/60\n",
      "1/1 [==============================] - 0s 340ms/step - loss: 98.1367 - rmse: 9.9064 - mse: 98.1367 - val_loss: 135.7773 - val_rmse: 11.6372 - val_mse: 135.7773\n",
      "Epoch 30/60\n",
      "1/1 [==============================] - 0s 297ms/step - loss: 92.8131 - rmse: 9.6340 - mse: 92.8131 - val_loss: 133.3918 - val_rmse: 11.5326 - val_mse: 133.3918\n",
      "Epoch 31/60\n",
      "1/1 [==============================] - 0s 300ms/step - loss: 144.2892 - rmse: 12.0120 - mse: 144.2892 - val_loss: 126.2918 - val_rmse: 11.2284 - val_mse: 126.2918\n",
      "Epoch 32/60\n",
      "1/1 [==============================] - 0s 306ms/step - loss: 172.8897 - rmse: 13.1488 - mse: 172.8897 - val_loss: 105.8628 - val_rmse: 10.2553 - val_mse: 105.8628\n",
      "Epoch 33/60\n",
      "1/1 [==============================] - 0s 289ms/step - loss: 98.8325 - rmse: 9.9415 - mse: 98.8325 - val_loss: 93.7866 - val_rmse: 9.6669 - val_mse: 93.7866\n",
      "Epoch 34/60\n",
      "1/1 [==============================] - 0s 292ms/step - loss: 114.2434 - rmse: 10.6885 - mse: 114.2434 - val_loss: 102.8857 - val_rmse: 10.1197 - val_mse: 102.8857\n",
      "Epoch 35/60\n",
      "1/1 [==============================] - 0s 331ms/step - loss: 140.4048 - rmse: 11.8493 - mse: 140.4048 - val_loss: 118.1520 - val_rmse: 10.8575 - val_mse: 118.1520\n",
      "Epoch 36/60\n",
      "1/1 [==============================] - 0s 387ms/step - loss: 117.0581 - rmse: 10.8193 - mse: 117.0581 - val_loss: 133.1853 - val_rmse: 11.5321 - val_mse: 133.1853\n",
      "Epoch 37/60\n",
      "1/1 [==============================] - 0s 317ms/step - loss: 125.2560 - rmse: 11.1918 - mse: 125.2560 - val_loss: 130.3959 - val_rmse: 11.4143 - val_mse: 130.3959\n",
      "Epoch 38/60\n",
      "1/1 [==============================] - 0s 293ms/step - loss: 123.2564 - rmse: 11.1021 - mse: 123.2564 - val_loss: 125.3487 - val_rmse: 11.1932 - val_mse: 125.3487\n",
      "Epoch 39/60\n",
      "1/1 [==============================] - 0s 297ms/step - loss: 113.6144 - rmse: 10.6590 - mse: 113.6144 - val_loss: 109.3101 - val_rmse: 10.4447 - val_mse: 109.3101\n",
      "Epoch 40/60\n",
      "1/1 [==============================] - 0s 315ms/step - loss: 198.1323 - rmse: 14.0759 - mse: 198.1323 - val_loss: 95.2186 - val_rmse: 9.7506 - val_mse: 95.2186\n",
      "Epoch 41/60\n",
      "1/1 [==============================] - 0s 286ms/step - loss: 98.5352 - rmse: 9.9265 - mse: 98.5352 - val_loss: 94.6006 - val_rmse: 9.7068 - val_mse: 94.6006\n",
      "Epoch 42/60\n",
      "1/1 [==============================] - 0s 268ms/step - loss: 78.3982 - rmse: 8.8543 - mse: 78.3982 - val_loss: 105.7227 - val_rmse: 10.2633 - val_mse: 105.7227\n",
      "Epoch 43/60\n",
      "1/1 [==============================] - 0s 290ms/step - loss: 87.0102 - rmse: 9.3279 - mse: 87.0102 - val_loss: 115.9525 - val_rmse: 10.7565 - val_mse: 115.9525\n",
      "Epoch 44/60\n",
      "1/1 [==============================] - 0s 283ms/step - loss: 136.1818 - rmse: 11.6697 - mse: 136.1818 - val_loss: 111.4829 - val_rmse: 10.5526 - val_mse: 111.4829\n",
      "Epoch 45/60\n",
      "1/1 [==============================] - 0s 313ms/step - loss: 92.9530 - rmse: 9.6412 - mse: 92.9530 - val_loss: 103.2891 - val_rmse: 10.1500 - val_mse: 103.2891\n",
      "Epoch 46/60\n",
      "1/1 [==============================] - 0s 315ms/step - loss: 125.6069 - rmse: 11.2074 - mse: 125.6069 - val_loss: 94.9495 - val_rmse: 9.7142 - val_mse: 94.9495\n",
      "Epoch 47/60\n",
      "1/1 [==============================] - 0s 325ms/step - loss: 89.1432 - rmse: 9.4416 - mse: 89.1432 - val_loss: 88.1187 - val_rmse: 9.3749 - val_mse: 88.1187\n",
      "Epoch 48/60\n",
      "1/1 [==============================] - 0s 345ms/step - loss: 123.9856 - rmse: 11.1349 - mse: 123.9856 - val_loss: 102.2103 - val_rmse: 10.0906 - val_mse: 102.2103\n",
      "Epoch 49/60\n",
      "1/1 [==============================] - 0s 309ms/step - loss: 113.3028 - rmse: 10.6444 - mse: 113.3028 - val_loss: 98.2427 - val_rmse: 9.8934 - val_mse: 98.2427\n",
      "Epoch 50/60\n",
      "1/1 [==============================] - 0s 308ms/step - loss: 95.1685 - rmse: 9.7554 - mse: 95.1685 - val_loss: 94.1405 - val_rmse: 9.6795 - val_mse: 94.1405\n",
      "Epoch 51/60\n",
      "1/1 [==============================] - 0s 306ms/step - loss: 88.9836 - rmse: 9.4331 - mse: 88.9836 - val_loss: 90.9685 - val_rmse: 9.5232 - val_mse: 90.9685\n",
      "Epoch 52/60\n",
      "1/1 [==============================] - 0s 297ms/step - loss: 84.5270 - rmse: 9.1939 - mse: 84.5270 - val_loss: 95.1139 - val_rmse: 9.7207 - val_mse: 95.1139\n",
      "Epoch 53/60\n",
      "1/1 [==============================] - 0s 298ms/step - loss: 82.1043 - rmse: 9.0611 - mse: 82.1043 - val_loss: 93.8487 - val_rmse: 9.6765 - val_mse: 93.8487\n",
      "Epoch 54/60\n",
      "1/1 [==============================] - 0s 316ms/step - loss: 114.1741 - rmse: 10.6852 - mse: 114.1741 - val_loss: 96.6162 - val_rmse: 9.8109 - val_mse: 96.6162\n",
      "Epoch 55/60\n",
      "1/1 [==============================] - 0s 312ms/step - loss: 88.7309 - rmse: 9.4197 - mse: 88.7309 - val_loss: 88.4622 - val_rmse: 9.3799 - val_mse: 88.4622\n",
      "Epoch 56/60\n",
      "1/1 [==============================] - 0s 298ms/step - loss: 124.3592 - rmse: 11.1516 - mse: 124.3592 - val_loss: 91.5632 - val_rmse: 9.5528 - val_mse: 91.5632\n",
      "Epoch 57/60\n",
      "1/1 [==============================] - 0s 311ms/step - loss: 120.2200 - rmse: 10.9645 - mse: 120.2200 - val_loss: 88.8351 - val_rmse: 9.4118 - val_mse: 88.8351\n",
      "Epoch 58/60\n",
      "1/1 [==============================] - 0s 358ms/step - loss: 103.8678 - rmse: 10.1916 - mse: 103.8678 - val_loss: 95.5557 - val_rmse: 9.7591 - val_mse: 95.5557\n",
      "Epoch 59/60\n",
      "1/1 [==============================] - 0s 382ms/step - loss: 107.8308 - rmse: 10.3842 - mse: 107.8308 - val_loss: 97.6459 - val_rmse: 9.8760 - val_mse: 97.6459\n",
      "Epoch 60/60\n",
      "1/1 [==============================] - 0s 358ms/step - loss: 93.3151 - rmse: 9.6600 - mse: 93.3151 - val_loss: 91.1457 - val_rmse: 9.5144 - val_mse: 91.1457\n",
      "CPU times: user 45 s, sys: 9.93 s, total: 55 s\n",
      "Wall time: 37.5 s\n"
     ]
    }
   ],
   "source": [
    "%%time\n",
    "steps_per_epoch = NUM_TRAIN_EXAMPLES // (BATCH_SIZE * NUM_EVALS)\n",
    "\n",
    "LOGDIR = \"./taxi_trained\"\n",
    "history = model.fit(x=trainds,\n",
    "                    steps_per_epoch=steps_per_epoch,\n",
    "                    epochs=NUM_EVALS,\n",
    "                    validation_data=evalds,\n",
    "                    callbacks=[TensorBoard(LOGDIR)])"
   ]
  },
  {
   "cell_type": "code",
   "execution_count": 13,
   "metadata": {},
   "outputs": [
    {
     "data": {
      "text/plain": [
       "<AxesSubplot:>"
      ]
     },
     "execution_count": 13,
     "metadata": {},
     "output_type": "execute_result"
    },
    {
     "data": {
      "image/png": "[encoded data removed]",
      "text/plain": [
       "<Figure size 432x288 with 1 Axes>"
      ]
     },
     "metadata": {
      "needs_background": "light"
     },
     "output_type": "display_data"
    }
   ],
   "source": [
    "RMSE_COLS = ['rmse', 'val_rmse']\n",
    "\n",
    "pd.DataFrame(history.history)[RMSE_COLS].plot()"
   ]
  },
  {
   "cell_type": "code",
   "execution_count": 14,
   "metadata": {},
   "outputs": [
    {
     "name": "stdout",
     "output_type": "stream",
     "text": [
      "WARNING:tensorflow:Layers in a Sequential model should only have a single input tensor, but we receive a <class 'dict'> input: {'dayofweek': <tf.Tensor 'ExpandDims:0' shape=(1, 1) dtype=int32>, 'hourofday': <tf.Tensor 'ExpandDims_3:0' shape=(1, 1) dtype=int32>, 'pickup_longitude': <tf.Tensor 'ExpandDims_5:0' shape=(1, 1) dtype=float32>, 'pickup_latitude': <tf.Tensor 'ExpandDims_4:0' shape=(1, 1) dtype=float32>, 'dropoff_longitude': <tf.Tensor 'ExpandDims_2:0' shape=(1, 1) dtype=float32>, 'dropoff_latitude': <tf.Tensor 'ExpandDims_1:0' shape=(1, 1) dtype=float32>, 'traffic_last_5min': <tf.Tensor 'ExpandDims_6:0' shape=(1, 1) dtype=int32>}\n",
      "Consider rewriting this model with the Functional API.\n"
     ]
    },
    {
     "data": {
      "text/plain": [
       "array([[-9.698321]], dtype=float32)"
      ]
     },
     "execution_count": 14,
     "metadata": {},
     "output_type": "execute_result"
    }
   ],
   "source": [
    "model.predict(x={\"dayofweek\": tf.convert_to_tensor([6]),\n",
    "                 \"hourofday\": tf.convert_to_tensor([17]),\n",
    "                 \"pickup_longitude\": tf.convert_to_tensor([-73.982683]),\n",
    "                 \"pickup_latitude\": tf.convert_to_tensor([40.742104]),\n",
    "                 \"dropoff_longitude\": tf.convert_to_tensor([-73.983766]),\n",
    "                 \"dropoff_latitude\": tf.convert_to_tensor([40.755174]),\n",
    "                \"traffic_last_5min\": tf.convert_to_tensor([114])},\n",
    "              steps=1)"
   ]
  },
  {
   "cell_type": "markdown",
   "metadata": {},
   "source": [
    "## Export and deploy model"
   ]
  },
  {
   "cell_type": "code",
   "execution_count": 15,
   "metadata": {},
   "outputs": [
    {
     "name": "stdout",
     "output_type": "stream",
     "text": [
      "WARNING:tensorflow:Layers in a Sequential model should only have a single input tensor, but we receive a <class 'collections.OrderedDict'> input: OrderedDict([('dayofweek', <tf.Tensor 'dayofweek:0' shape=(None, 1) dtype=float32>), ('hourofday', <tf.Tensor 'hourofday:0' shape=(None, 1) dtype=float32>), ('pickup_longitude', <tf.Tensor 'pickup_longitude:0' shape=(None, 1) dtype=float32>), ('pickup_latitude', <tf.Tensor 'pickup_latitude:0' shape=(None, 1) dtype=float32>), ('dropoff_longitude', <tf.Tensor 'dropoff_longitude:0' shape=(None, 1) dtype=float32>), ('dropoff_latitude', <tf.Tensor 'dropoff_latitude:0' shape=(None, 1) dtype=float32>), ('traffic_last_5min', <tf.Tensor 'traffic_last_5min:0' shape=(None, 1) dtype=float32>)])\n",
      "Consider rewriting this model with the Functional API.\n",
      "WARNING:tensorflow:Layers in a Sequential model should only have a single input tensor, but we receive a <class 'collections.OrderedDict'> input: OrderedDict([('dayofweek', <tf.Tensor 'dayofweek:0' shape=(None, 1) dtype=float32>), ('hourofday', <tf.Tensor 'hourofday:0' shape=(None, 1) dtype=float32>), ('pickup_longitude', <tf.Tensor 'pickup_longitude:0' shape=(None, 1) dtype=float32>), ('pickup_latitude', <tf.Tensor 'pickup_latitude:0' shape=(None, 1) dtype=float32>), ('dropoff_longitude', <tf.Tensor 'dropoff_longitude:0' shape=(None, 1) dtype=float32>), ('dropoff_latitude', <tf.Tensor 'dropoff_latitude:0' shape=(None, 1) dtype=float32>), ('traffic_last_5min', <tf.Tensor 'traffic_last_5min:0' shape=(None, 1) dtype=float32>)])\n",
      "Consider rewriting this model with the Functional API.\n",
      "WARNING:tensorflow:Layers in a Sequential model should only have a single input tensor, but we receive a <class 'collections.OrderedDict'> input: OrderedDict([('dayofweek', <tf.Tensor 'dayofweek:0' shape=(None, 1) dtype=float32>), ('hourofday', <tf.Tensor 'hourofday:0' shape=(None, 1) dtype=float32>), ('pickup_longitude', <tf.Tensor 'pickup_longitude:0' shape=(None, 1) dtype=float32>), ('pickup_latitude', <tf.Tensor 'pickup_latitude:0' shape=(None, 1) dtype=float32>), ('dropoff_longitude', <tf.Tensor 'dropoff_longitude:0' shape=(None, 1) dtype=float32>), ('dropoff_latitude', <tf.Tensor 'dropoff_latitude:0' shape=(None, 1) dtype=float32>), ('traffic_last_5min', <tf.Tensor 'traffic_last_5min:0' shape=(None, 1) dtype=float32>)])\n",
      "Consider rewriting this model with the Functional API.\n",
      "WARNING:tensorflow:Layers in a Sequential model should only have a single input tensor, but we receive a <class 'collections.OrderedDict'> input: OrderedDict([('dayofweek', <tf.Tensor 'inputs:0' shape=(None, 1) dtype=float32>), ('hourofday', <tf.Tensor 'inputs_3:0' shape=(None, 1) dtype=float32>), ('pickup_longitude', <tf.Tensor 'inputs_5:0' shape=(None, 1) dtype=float32>), ('pickup_latitude', <tf.Tensor 'inputs_4:0' shape=(None, 1) dtype=float32>), ('dropoff_longitude', <tf.Tensor 'inputs_2:0' shape=(None, 1) dtype=float32>), ('dropoff_latitude', <tf.Tensor 'inputs_1:0' shape=(None, 1) dtype=float32>), ('traffic_last_5min', <tf.Tensor 'inputs_6:0' shape=(None, 1) dtype=float32>)])\n",
      "Consider rewriting this model with the Functional API.\n",
      "WARNING:tensorflow:Layers in a Sequential model should only have a single input tensor, but we receive a <class 'collections.OrderedDict'> input: OrderedDict([('dayofweek', <tf.Tensor 'inputs:0' shape=(None, 1) dtype=float32>), ('hourofday', <tf.Tensor 'inputs_3:0' shape=(None, 1) dtype=float32>), ('pickup_longitude', <tf.Tensor 'inputs_5:0' shape=(None, 1) dtype=float32>), ('pickup_latitude', <tf.Tensor 'inputs_4:0' shape=(None, 1) dtype=float32>), ('dropoff_longitude', <tf.Tensor 'inputs_2:0' shape=(None, 1) dtype=float32>), ('dropoff_latitude', <tf.Tensor 'inputs_1:0' shape=(None, 1) dtype=float32>), ('traffic_last_5min', <tf.Tensor 'inputs_6:0' shape=(None, 1) dtype=float32>)])\n",
      "Consider rewriting this model with the Functional API.\n",
      "WARNING:tensorflow:From /opt/conda/lib/python3.7/site-packages/tensorflow/python/training/tracking/tracking.py:111: Model.state_updates (from tensorflow.python.keras.engine.training) is deprecated and will be removed in a future version.\n",
      "Instructions for updating:\n",
      "This property should not be used in TensorFlow 2.0, as updates are applied automatically.\n",
      "WARNING:tensorflow:From /opt/conda/lib/python3.7/site-packages/tensorflow/python/training/tracking/tracking.py:111: Layer.updates (from tensorflow.python.keras.engine.base_layer) is deprecated and will be removed in a future version.\n",
      "Instructions for updating:\n",
      "This property should not be used in TensorFlow 2.0, as updates are applied automatically.\n",
      "WARNING:tensorflow:Layers in a Sequential model should only have a single input tensor, but we receive a <class 'collections.OrderedDict'> input: OrderedDict([('dayofweek', <tf.Tensor 'dayofweek:0' shape=(None, 1) dtype=float32>), ('hourofday', <tf.Tensor 'hourofday:0' shape=(None, 1) dtype=float32>), ('pickup_longitude', <tf.Tensor 'pickup_longitude:0' shape=(None, 1) dtype=float32>), ('pickup_latitude', <tf.Tensor 'pickup_latitude:0' shape=(None, 1) dtype=float32>), ('dropoff_longitude', <tf.Tensor 'dropoff_longitude:0' shape=(None, 1) dtype=float32>), ('dropoff_latitude', <tf.Tensor 'dropoff_latitude:0' shape=(None, 1) dtype=float32>), ('traffic_last_5min', <tf.Tensor 'traffic_last_5min:0' shape=(None, 1) dtype=float32>)])\n",
      "Consider rewriting this model with the Functional API.\n",
      "WARNING:tensorflow:Layers in a Sequential model should only have a single input tensor, but we receive a <class 'collections.OrderedDict'> input: OrderedDict([('dayofweek', <tf.Tensor 'dayofweek:0' shape=(None, 1) dtype=float32>), ('hourofday', <tf.Tensor 'hourofday:0' shape=(None, 1) dtype=float32>), ('pickup_longitude', <tf.Tensor 'pickup_longitude:0' shape=(None, 1) dtype=float32>), ('pickup_latitude', <tf.Tensor 'pickup_latitude:0' shape=(None, 1) dtype=float32>), ('dropoff_longitude', <tf.Tensor 'dropoff_longitude:0' shape=(None, 1) dtype=float32>), ('dropoff_latitude', <tf.Tensor 'dropoff_latitude:0' shape=(None, 1) dtype=float32>), ('traffic_last_5min', <tf.Tensor 'traffic_last_5min:0' shape=(None, 1) dtype=float32>)])\n",
      "Consider rewriting this model with the Functional API.\n",
      "WARNING:tensorflow:Layers in a Sequential model should only have a single input tensor, but we receive a <class 'collections.OrderedDict'> input: OrderedDict([('dayofweek', <tf.Tensor 'inputs/dayofweek:0' shape=(None, 1) dtype=float32>), ('hourofday', <tf.Tensor 'inputs/hourofday:0' shape=(None, 1) dtype=float32>), ('pickup_longitude', <tf.Tensor 'inputs/pickup_longitude:0' shape=(None, 1) dtype=float32>), ('pickup_latitude', <tf.Tensor 'inputs/pickup_latitude:0' shape=(None, 1) dtype=float32>), ('dropoff_longitude', <tf.Tensor 'inputs/dropoff_longitude:0' shape=(None, 1) dtype=float32>), ('dropoff_latitude', <tf.Tensor 'inputs/dropoff_latitude:0' shape=(None, 1) dtype=float32>), ('traffic_last_5min', <tf.Tensor 'inputs/traffic_last_5min:0' shape=(None, 1) dtype=float32>)])\n",
      "Consider rewriting this model with the Functional API.\n",
      "WARNING:tensorflow:Layers in a Sequential model should only have a single input tensor, but we receive a <class 'collections.OrderedDict'> input: OrderedDict([('dayofweek', <tf.Tensor 'inputs/dayofweek:0' shape=(None, 1) dtype=float32>), ('hourofday', <tf.Tensor 'inputs/hourofday:0' shape=(None, 1) dtype=float32>), ('pickup_longitude', <tf.Tensor 'inputs/pickup_longitude:0' shape=(None, 1) dtype=float32>), ('pickup_latitude', <tf.Tensor 'inputs/pickup_latitude:0' shape=(None, 1) dtype=float32>), ('dropoff_longitude', <tf.Tensor 'inputs/dropoff_longitude:0' shape=(None, 1) dtype=float32>), ('dropoff_latitude', <tf.Tensor 'inputs/dropoff_latitude:0' shape=(None, 1) dtype=float32>), ('traffic_last_5min', <tf.Tensor 'inputs/traffic_last_5min:0' shape=(None, 1) dtype=float32>)])\n",
      "Consider rewriting this model with the Functional API.\n",
      "INFO:tensorflow:Assets written to: ./export/savedmodel/20210521223634/assets\n"
     ]
    }
   ],
   "source": [
    "OUTPUT_DIR = \"./export/savedmodel\"\n",
    "shutil.rmtree(OUTPUT_DIR, ignore_errors=True)\n",
    "EXPORT_PATH = os.path.join(OUTPUT_DIR,\n",
    "                           datetime.datetime.now().strftime(\"%Y%m%d%H%M%S\"))\n",
    "tf.saved_model.save(model, EXPORT_PATH)  # with default serving function\n",
    "os.environ['EXPORT_PATH'] = EXPORT_PATH"
   ]
  },
  {
   "cell_type": "markdown",
   "metadata": {},
   "source": [
    "Note that the last `gcloud` call below, which deploys the mode, can take a few minutes, and you might not see the earlier `echo` outputs while that job is still running. If you want to make sure that your notebook is not stalled and your model is actually getting deployed, view your models in the console at https://console.cloud.google.com/vertex-ai/models, click on your model, and you should see your endpoint listed with an \"in progress\" icon next to it."
   ]
  },
  {
   "cell_type": "code",
   "execution_count": null,
   "metadata": {},
   "outputs": [],
   "source": [
    "%%bash\n",
    "PROJECT=${PROJECT}\n",
    "BUCKET=${BUCKET}\n",
    "REGION=${REGION}\n",
    "MODEL_NAME=taxifare_$(date -u +%y%m%d_%H%M%S)\n",
    "ENDPOINT_NAME=taxifare_endpoint_$(date -u +%y%m%d_%H%M%S)\n",
    "IMAGE_URI=\"us-docker.pkg.dev/vertex-ai/prediction/tf2-cpu.2-3:latest\"\n",
    "ARTIFACT_DIRECTORY=gs://${BUCKET}/${MODEL_NAME}/\n",
    "echo $ARTIFACT_DIRECTORY\n",
    "\n",
    "gsutil cp -r ${EXPORT_PATH}/* ${ARTIFACT_DIRECTORY}\n",
    "\n",
    "# Model\n",
    "gcloud ai models upload \\\n",
    "    --region=$REGION \\\n",
    "    --display-name=$MODEL_NAME \\\n",
    "    --container-image-uri=$IMAGE_URI \\\n",
    "    --artifact-uri=$ARTIFACT_DIRECTORY\n",
    "\n",
    "MODEL_ID=$(gcloud ai models list \\\n",
    "    --region=$REGION \\\n",
    "    --filter=displayName=\"$MODEL_NAME\" | cut -d\" \" -f1 | head -n2 | tail -n1)\n",
    "\n",
    "echo \"MODEL_ID=${MODEL_ID}\"\n",
    "\n",
    "# Endpoint\n",
    "gcloud ai endpoints create \\\n",
    "  --region=$REGION \\\n",
    "  --display-name=$ENDPOINT_NAME\n",
    "\n",
    "ENDPOINT_ID=$(gcloud ai endpoints list \\\n",
    "  --region=$REGION \\\n",
    "  --filter=display_name=\"$ENDPOINT_NAME\" | cut -d\" \" -f1 | head -n2 | tail -n1)\n",
    "\n",
    "echo \"ENDPOINT_ID=${ENDPOINT_ID}\"\n",
    "\n",
    "# Deployment\n",
    "DEPLOYED_MODEL_NAME=${MODEL_NAME}_deployment\n",
    "MACHINE_TYPE=n1-standard-2\n",
    "MIN_REPLICA_COUNT=1\n",
    "MAX_REPLICA_COUNT=3\n",
    "\n",
    "gcloud ai endpoints deploy-model $ENDPOINT_ID \\\n",
    "  --region=$REGION \\\n",
    "  --model=$MODEL_ID \\\n",
    "  --display-name=$DEPLOYED_MODEL_NAME \\\n",
    "  --machine-type=$MACHINE_TYPE \\\n",
    "  --min-replica-count=$MIN_REPLICA_COUNT \\\n",
    "  --max-replica-count=$MAX_REPLICA_COUNT \\\n",
    "  --traffic-split=0=100"
   ]
  },
  {
   "cell_type": "markdown",
   "metadata": {},
   "source": [
    "Copyright 2021 Google Inc. Licensed under the Apache License, Version 2.0 (the \"License\"); you may not use this file except in compliance with the License. You may obtain a copy of the License at http://www.apache.org/licenses/LICENSE-2.0 Unless required by applicable law or agreed to in writing, software distributed under the License is distributed on an \"AS IS\" BASIS, WITHOUT WARRANTIES OR CONDITIONS OF ANY KIND, either express or implied. See the License for the specific language governing permissions and limitations under the License"
   ]
  },
  {
   "cell_type": "code",
   "execution_count": null,
   "metadata": {},
   "outputs": [],
   "source": []
  }
 ],
 "metadata": {
  "environment": {
   "name": "tf2-gpu.2-3.m69",
   "type": "gcloud",
   "uri": "gcr.io/deeplearning-platform-release/tf2-gpu.2-3:m69"
  },
  "kernelspec": {
   "display_name": "Python 3",
   "language": "python",
   "name": "python3"
  },
  "language_info": {
   "codemirror_mode": {
    "name": "ipython",
    "version": 3
   },
   "file_extension": ".py",
   "mimetype": "text/x-python",
   "name": "python",
   "nbconvert_exporter": "python",
   "pygments_lexer": "ipython3",
   "version": "3.7.10"
  }
 },
 "nbformat": 4,
 "nbformat_minor": 4
}
