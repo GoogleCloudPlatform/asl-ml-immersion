{
 "cells": [
  {
   "cell_type": "markdown",
   "metadata": {},
   "source": [
    "# Introducing the Keras Sequential API"
   ]
  },
  {
   "cell_type": "markdown",
   "metadata": {},
   "source": [
    "**Learning Objectives**\n",
    "  1. Build a DNN model using the Keras Sequential API\n",
    "  1. Learn how to train a model with Keras\n",
    "  1. Learn how to save/load, and deploy a Keras model on GCP\n",
    "  1. Learn how to deploy and make predictions with the Keras model"
   ]
  },
  {
   "cell_type": "markdown",
   "metadata": {},
   "source": [
    "## Introduction"
   ]
  },
  {
   "cell_type": "markdown",
   "metadata": {},
   "source": [
    "The [Keras sequential API](https://keras.io/models/sequential/) allows you to create Tensorflow models layer-by-layer. This is useful for building most kinds of machine learning models but it does not allow you to create models that share layers, re-use layers or have multiple inputs or outputs. \n",
    "\n",
    "In this lab, we'll see how to build a simple deep neural network model using the Keras sequential api. Once we have trained our model, we will deploy it using Vertex AI and see how to call our model for online prediciton.\n"
   ]
  },
  {
   "cell_type": "markdown",
   "metadata": {},
   "source": [
    "Start by importing the necessary libraries for this lab."
   ]
  },
  {
   "cell_type": "code",
   "execution_count": 42,
   "metadata": {
    "tags": []
   },
   "outputs": [
    {
     "name": "stdout",
     "output_type": "stream",
     "text": [
      "env: PATH=/home/jupyter/.local/bin:/home/jupyter/.local/bin:/home/jupyter/.local/bin:/usr/local/cuda/bin:/opt/conda/bin:/opt/conda/condabin:/usr/local/bin:/usr/bin:/bin:/usr/local/games:/usr/games:/home/jupyter/.local/bin:.\n",
      "2.12.0\n"
     ]
    }
   ],
   "source": [
    "import os\n",
    "import warnings\n",
    "\n",
    "os.environ[\"TF_CPP_MIN_LOG_LEVEL\"] = \"2\"\n",
    "warnings.filterwarnings(\"ignore\")\n",
    "\n",
    "# Set `PATH` to include the directory containing saved_model_cli\n",
    "PATH = %env PATH\n",
    "%env PATH=/home/jupyter/.local/bin:{PATH}\n",
    "\n",
    "import datetime\n",
    "import shutil\n",
    "\n",
    "import numpy as np\n",
    "import pandas as pd\n",
    "import tensorflow as tf\n",
    "from google.cloud import aiplatform\n",
    "from matplotlib import pyplot as plt\n",
    "from tensorflow import keras\n",
    "from tensorflow.keras.callbacks import TensorBoard\n",
    "from tensorflow.keras.layers import *\n",
    "from tensorflow.keras.callbacks import *\n",
    "from tensorflow.keras.models import Sequential\n",
    "\n",
    "print(tf.__version__)\n",
    "%matplotlib inline"
   ]
  },
  {
   "cell_type": "markdown",
   "metadata": {},
   "source": [
    "## Load raw data"
   ]
  },
  {
   "cell_type": "markdown",
   "metadata": {},
   "source": [
    "We will use the taxifare dataset, using the CSV files that we created in the first notebook of this sequence. Those files have been saved into `../data`."
   ]
  },
  {
   "cell_type": "code",
   "execution_count": 2,
   "metadata": {
    "tags": []
   },
   "outputs": [
    {
     "name": "stdout",
     "output_type": "stream",
     "text": [
      "-rw-r--r-- 1 jupyter jupyter 123590 May 12 07:39 ../data/taxi-test.csv\n",
      "-rw-r--r-- 1 jupyter jupyter 579055 May 12 07:39 ../data/taxi-train.csv\n",
      "-rw-r--r-- 1 jupyter jupyter 399562 May 12 07:39 ../data/taxi-valid.csv\n"
     ]
    }
   ],
   "source": [
    "!ls -l ../data/*.csv"
   ]
  },
  {
   "cell_type": "code",
   "execution_count": 3,
   "metadata": {
    "tags": []
   },
   "outputs": [
    {
     "name": "stdout",
     "output_type": "stream",
     "text": [
      "==> ../data/taxi-test.csv <==\n",
      "6.0,2013-03-27 03:35:00 UTC,-73.977672,40.784052,-73.965332,40.801025,2,0\n",
      "19.3,2012-05-10 18:43:16 UTC,-73.954366,40.778924,-74.004094,40.723104,1,1\n",
      "7.5,2014-05-20 23:09:00 UTC,-73.999165,40.738377,-74.003473,40.723862,2,2\n",
      "12.5,2015-02-23 19:51:31 UTC,-73.9652099609375,40.76948165893555,-73.98949432373047,40.739742279052734,1,3\n",
      "10.9,2011-03-19 03:32:00 UTC,-73.99259,40.742957,-73.989908,40.711053,1,4\n",
      "7.0,2012-09-18 12:51:11 UTC,-73.971195,40.751566,-73.975922,40.756361,1,5\n",
      "19.0,2014-05-20 23:09:00 UTC,-73.998392,40.74517,-73.939845,40.74908,1,6\n",
      "8.9,2012-07-18 08:46:08 UTC,-73.997638,40.756541,-73.973303,40.762019,1,7\n",
      "4.5,2010-07-11 20:39:08 UTC,-73.976738,40.751321,-73.986671,40.74883,1,8\n",
      "7.0,2013-12-12 02:16:40 UTC,-73.985024,40.767537,-73.981273,40.779302,1,9\n",
      "\n",
      "==> ../data/taxi-train.csv <==\n",
      "11.3,2011-01-28 20:42:59 UTC,-73.999022,40.739146,-73.990369,40.717866,1,0\n",
      "7.7,2011-06-27 04:28:06 UTC,-73.987443,40.729221,-73.979013,40.758641,1,1\n",
      "10.5,2011-04-03 00:54:53 UTC,-73.982539,40.735725,-73.954797,40.778388,1,2\n",
      "16.2,2009-04-10 04:11:56 UTC,-74.001945,40.740505,-73.91385,40.758559,1,3\n",
      "33.5,2014-02-24 18:22:00 UTC,-73.993372,40.753382,-73.8609,40.732897,2,4\n",
      "6.9,2011-12-10 00:25:23 UTC,-73.996237,40.721848,-73.989416,40.718052,1,5\n",
      "6.1,2012-09-01 14:30:19 UTC,-73.977048,40.758461,-73.984899,40.744693,2,6\n",
      "9.5,2012-11-08 13:28:07 UTC,-73.969402,40.757545,-73.950049,40.776079,1,7\n",
      "9.0,2014-07-15 11:37:25 UTC,-73.979318,40.760949,-73.95767,40.773724,1,8\n",
      "3.3,2009-11-09 18:06:58 UTC,-73.955675,40.779154,-73.961172,40.772368,1,9\n",
      "\n",
      "==> ../data/taxi-valid.csv <==\n",
      "6.1,2009-07-16 17:41:00+00:00,-73.967683,40.792738,-73.968902,40.791675,2.0,unused\n",
      "16.0,2012-12-10 21:12:00+00:00,-74.005318,40.727682,-73.970285,40.756618,3.0,unused\n",
      "12.0,2014-02-24 20:57:00+00:00,-73.983618,40.771067,-73.943078,40.777297,1.0,unused\n",
      "16.5,2012-03-31 23:16:00+00:00,-73.934025,40.802195,-73.94788,40.755947,5.0,unused\n",
      "19.5,2015-05-02 11:39:19+00:00,-73.98455810546875,40.71536636352539,-73.97948455810547,40.75907897949219,1.0,unused\n",
      "6.1,2010-06-21 15:21:11+00:00,-73.978104,40.756639,-73.991559,40.749858,1.0,unused\n",
      "5.3,2010-06-28 08:05:20+00:00,-73.990191,40.756952,-73.97772,40.760308,1.0,unused\n",
      "14.5,2013-03-23 20:15:50+00:00,-73.986321,40.761607,-73.954787,40.805151,1.0,unused\n",
      "8.5,2014-02-24 20:57:00+00:00,-73.974252,40.757492,-73.985088,40.736077,3.0,unused\n",
      "13.0,2013-05-11 01:13:00+00:00,-73.984985,40.728037,-73.991272,40.754652,1.0,unused\n"
     ]
    }
   ],
   "source": [
    "!head ../data/taxi*.csv"
   ]
  },
  {
   "cell_type": "markdown",
   "metadata": {},
   "source": [
    "## Use tf.data to read the CSV files"
   ]
  },
  {
   "cell_type": "markdown",
   "metadata": {},
   "source": [
    "We wrote these functions for reading data from the csv files above in the [previous notebook](./2a_dataset_api.ipynb)."
   ]
  },
  {
   "cell_type": "code",
   "execution_count": 4,
   "metadata": {
    "tags": []
   },
   "outputs": [],
   "source": [
    "def parse_csv(row):\n",
    "    ds = tf.strings.split(row, \",\")\n",
    "    label = tf.strings.to_number(ds[0])\n",
    "    features = tf.strings.to_number(\n",
    "        ds[2:6]\n",
    "    )  # return pickup and drop off location only\n",
    "    return features, label\n",
    "\n",
    "\n",
    "def create_dataset(pattern, batch_size):\n",
    "    ds = tf.data.TextLineDataset(pattern)\n",
    "    ds = ds.map(parse_csv).batch(batch_size)\n",
    "    return ds"
   ]
  },
  {
   "cell_type": "markdown",
   "metadata": {},
   "source": [
    "## Build a simple keras DNN model"
   ]
  },
  {
   "cell_type": "markdown",
   "metadata": {},
   "source": [
    "Next, we create the DNN model. The Sequential model is a linear stack of layers and when building a model using the Sequential API, you configure each layer of the model in turn. Once all the layers have been added, you compile the model. "
   ]
  },
  {
   "cell_type": "markdown",
   "metadata": {},
   "source": [
    "**Exercise.** Create a deep neural network using Keras's Sequential API. In the cell below, use the `tf.keras.layers` library to create all the layers for your deep neural network. "
   ]
  },
  {
   "cell_type": "code",
   "execution_count": 122,
   "metadata": {
    "tags": []
   },
   "outputs": [],
   "source": [
    "# Build a keras DNN model using Sequential API\n",
    "\n",
    "\n",
    "model = Sequential([\n",
    "    LayerNormalization(epsilon=1e-6, input_shape=(4,)),\n",
    "    Dense(512, activation='tanh'),\n",
    "    Dense(512, activation='relu'),\n",
    "    Dense(512, activation='relu'),\n",
    "    Dense(1, activation='linear')\n",
    "])"
   ]
  },
  {
   "cell_type": "markdown",
   "metadata": {},
   "source": [
    "Next, to prepare the model for training, you must configure the learning process. This is done using the compile method. The compile method takes three arguments:\n",
    "\n",
    "* An optimizer. This could be the string identifier of an existing optimizer (such as `rmsprop` or `adagrad`), or an instance of the [Optimizer class](https://www.tensorflow.org/versions/r2.0/api_docs/python/tf/keras/optimizers).\n",
    "* A loss function. This is the objective that the model will try to minimize. It can be the string identifier of an existing loss function from the [Losses class](https://www.tensorflow.org/versions/r2.0/api_docs/python/tf/keras/losses) (such as categorical_crossentropy or mse), or it can be a custom objective function.\n",
    "* A list of metrics. For any machine learning problem you will want a set of metrics to evaluate your model. A metric could be the string identifier of an existing metric or a custom metric function.\n",
    "\n",
    "We will add an additional custom metric called `rmse` to our list of metrics which will return the root mean square error. "
   ]
  },
  {
   "cell_type": "markdown",
   "metadata": {},
   "source": [
    "**Exercise.** Compile the model you created above. Create a custom loss function called `rmse` which computes the root mean squared error between `y_true` and `y_pred`. Pass this function to the model as an evaluation metric. "
   ]
  },
  {
   "cell_type": "code",
   "execution_count": 123,
   "metadata": {
    "tags": []
   },
   "outputs": [],
   "source": [
    "# Create a custom evalution metric\n",
    "def rmse(y_true, y_pred):\n",
    "    return tf.sqrt(tf.reduce_mean(tf.square(y_pred - y_true)))\n",
    "\n",
    "\n",
    "\n",
    "# Compile the keras model\n",
    "model.compile(optimizer=tf.keras.optimizers.Adam(learning_rate=0.5), loss=\"mse\", metrics=[rmse, \"mse\"])"
   ]
  },
  {
   "cell_type": "markdown",
   "metadata": {},
   "source": [
    "## Train the model"
   ]
  },
  {
   "cell_type": "markdown",
   "metadata": {},
   "source": [
    "To train your model, Keras provides two functions that can be used:\n",
    " 1. `.fit()` for training a model for a fixed number of epochs (iterations on a dataset).\n",
    " 2. `.train_on_batch()` runs a single gradient update on a single batch of data. \n",
    " \n",
    "The `.fit()` function works for various formats of data such as Numpy array, list of Tensors tf.data and Python generators. The `.train_on_batch()` method is for more fine-grained control over training and accepts only a single batch of data.\n",
    "\n",
    "Our `create_dataset` function above generates batches of training examples, so we can use `.fit`. \n",
    "\n",
    "We start by setting up some parameters for our training job and create the data generators for the training and validation data.\n"
   ]
  },
  {
   "cell_type": "code",
   "execution_count": 124,
   "metadata": {
    "tags": []
   },
   "outputs": [],
   "source": [
    "trainds = create_dataset(pattern=\"../data/taxi-train.csv\", batch_size=256)\n",
    "\n",
    "evalds = create_dataset(pattern=\"../data/taxi-valid.csv\", batch_size=32)"
   ]
  },
  {
   "cell_type": "markdown",
   "metadata": {},
   "source": [
    "There are various arguments you can set when calling the [.fit method](https://www.tensorflow.org/versions/r2.0/api_docs/python/tf/keras/Model#fit). Here `x` specifies the input data which in our case is a `tf.data` dataset returning a tuple of (inputs, targets). The `epochs` parameter is used to define the number of epochs. Here we are training for `10` epochs. Lastly, for the `callback` argument we specify a Tensorboard callback so we can inspect Tensorboard after training. "
   ]
  },
  {
   "cell_type": "markdown",
   "metadata": {},
   "source": [
    "**Exercise.** In the cell below, you will train your model. Train your model using `.fit()`, saving the model training output to a variable called `history`."
   ]
  },
  {
   "cell_type": "code",
   "execution_count": 125,
   "metadata": {
    "tags": []
   },
   "outputs": [
    {
     "name": "stdout",
     "output_type": "stream",
     "text": [
      "Epoch 1/100\n",
      "29/29 [==============================] - 2s 49ms/step - loss: 51065151488.0000 - rmse: 117446.4062 - mse: 51065151488.0000 - val_loss: 104753360.0000 - val_rmse: 10234.8711 - val_mse: 104753360.0000 - lr: 0.5000\n",
      "Epoch 2/100\n",
      "29/29 [==============================] - 1s 39ms/step - loss: 8245351.0000 - rmse: 2083.6331 - mse: 8245351.0000 - val_loss: 132285.6562 - val_rmse: 363.6684 - val_mse: 132285.6562 - lr: 0.5000\n",
      "Epoch 3/100\n",
      "29/29 [==============================] - 1s 40ms/step - loss: 224889.1875 - rmse: 395.3622 - mse: 224889.1875 - val_loss: 77627.4766 - val_rmse: 278.6490 - val_mse: 77627.4766 - lr: 0.5000\n",
      "Epoch 4/100\n",
      "29/29 [==============================] - 1s 37ms/step - loss: 14065.7754 - rmse: 96.7110 - mse: 14065.7754 - val_loss: 4041.7253 - val_rmse: 63.4994 - val_mse: 4041.7253 - lr: 0.5000\n",
      "Epoch 5/100\n",
      "29/29 [==============================] - 1s 38ms/step - loss: 825.4806 - rmse: 25.2409 - mse: 825.4806 - val_loss: 123.3953 - val_rmse: 10.9551 - val_mse: 123.3953 - lr: 0.5000\n",
      "Epoch 6/100\n",
      "29/29 [==============================] - 1s 41ms/step - loss: 125.2035 - rmse: 11.0428 - mse: 125.2035 - val_loss: 94.3655 - val_rmse: 9.3837 - val_mse: 94.3655 - lr: 0.5000\n",
      "Epoch 7/100\n",
      "29/29 [==============================] - 1s 37ms/step - loss: 96.3469 - rmse: 9.7280 - mse: 96.3469 - val_loss: 88.1413 - val_rmse: 8.8796 - val_mse: 88.1413 - lr: 0.5000\n",
      "Epoch 8/100\n",
      "29/29 [==============================] - 1s 37ms/step - loss: 96.0687 - rmse: 9.7159 - mse: 96.0687 - val_loss: 88.8959 - val_rmse: 8.8866 - val_mse: 88.8959 - lr: 0.5000\n",
      "Epoch 9/100\n",
      "29/29 [==============================] - 1s 37ms/step - loss: 96.3437 - rmse: 9.7318 - mse: 96.3437 - val_loss: 88.5943 - val_rmse: 8.8797 - val_mse: 88.5943 - lr: 0.5000\n",
      "Epoch 10/100\n",
      "29/29 [==============================] - 1s 39ms/step - loss: 96.2537 - rmse: 9.7265 - mse: 96.2537 - val_loss: 88.2011 - val_rmse: 8.8777 - val_mse: 88.2011 - lr: 0.5000\n",
      "Epoch 11/100\n",
      "29/29 [==============================] - 1s 36ms/step - loss: 96.1442 - rmse: 9.7200 - mse: 96.1442 - val_loss: 88.1498 - val_rmse: 8.8791 - val_mse: 88.1498 - lr: 0.5000\n",
      "Epoch 12/100\n",
      "28/29 [===========================>..] - ETA: 0s - loss: 95.1174 - rmse: 9.6429 - mse: 95.1174\n",
      "Epoch 12: ReduceLROnPlateau reducing learning rate to 0.25.\n",
      "29/29 [==============================] - 1s 39ms/step - loss: 96.1795 - rmse: 9.7217 - mse: 96.1795 - val_loss: 88.1605 - val_rmse: 8.8789 - val_mse: 88.1605 - lr: 0.5000\n",
      "Epoch 13/100\n",
      "29/29 [==============================] - 1s 38ms/step - loss: 96.0200 - rmse: 9.7140 - mse: 96.0200 - val_loss: 88.0830 - val_rmse: 8.9011 - val_mse: 88.0830 - lr: 0.2500\n",
      "Epoch 14/100\n",
      "29/29 [==============================] - 1s 39ms/step - loss: 95.7959 - rmse: 9.7002 - mse: 95.7959 - val_loss: 88.0621 - val_rmse: 8.8908 - val_mse: 88.0621 - lr: 0.2500\n",
      "Epoch 15/100\n",
      "29/29 [==============================] - 1s 37ms/step - loss: 95.8484 - rmse: 9.7033 - mse: 95.8484 - val_loss: 88.0771 - val_rmse: 8.8853 - val_mse: 88.0771 - lr: 0.2500\n",
      "Epoch 16/100\n",
      "29/29 [==============================] - 1s 37ms/step - loss: 95.9180 - rmse: 9.7070 - mse: 95.9180 - val_loss: 88.1095 - val_rmse: 8.8817 - val_mse: 88.1095 - lr: 0.2500\n",
      "Epoch 17/100\n",
      "29/29 [==============================] - 1s 39ms/step - loss: 95.9854 - rmse: 9.7105 - mse: 95.9854 - val_loss: 88.1782 - val_rmse: 8.8782 - val_mse: 88.1782 - lr: 0.2500\n",
      "Epoch 18/100\n",
      "29/29 [==============================] - 1s 39ms/step - loss: 96.0665 - rmse: 9.7148 - mse: 96.0665 - val_loss: 88.2961 - val_rmse: 8.8767 - val_mse: 88.2961 - lr: 0.2500\n",
      "Epoch 19/100\n",
      "27/29 [==========================>...] - ETA: 0s - loss: 95.2231 - rmse: 9.6437 - mse: 95.2231\n",
      "Epoch 19: ReduceLROnPlateau reducing learning rate to 0.125.\n",
      "29/29 [==============================] - 1s 40ms/step - loss: 96.1600 - rmse: 9.7199 - mse: 96.1600 - val_loss: 88.4727 - val_rmse: 8.8776 - val_mse: 88.4727 - lr: 0.2500\n",
      "Epoch 20/100\n",
      "29/29 [==============================] - 1s 38ms/step - loss: 95.6830 - rmse: 9.6953 - mse: 95.6830 - val_loss: 88.1565 - val_rmse: 8.9153 - val_mse: 88.1565 - lr: 0.1250\n",
      "Epoch 21/100\n",
      "29/29 [==============================] - 1s 39ms/step - loss: 95.6410 - rmse: 9.6934 - mse: 95.6410 - val_loss: 88.3365 - val_rmse: 8.9384 - val_mse: 88.3365 - lr: 0.1250\n",
      "Epoch 22/100\n",
      "29/29 [==============================] - 1s 38ms/step - loss: 95.6799 - rmse: 9.6952 - mse: 95.6799 - val_loss: 88.3751 - val_rmse: 8.9427 - val_mse: 88.3751 - lr: 0.1250\n",
      "Epoch 23/100\n",
      "29/29 [==============================] - 1s 38ms/step - loss: 95.6874 - rmse: 9.6953 - mse: 95.6874 - val_loss: 88.3546 - val_rmse: 8.9404 - val_mse: 88.3546 - lr: 0.1250\n",
      "Epoch 24/100\n",
      "27/29 [==========================>...] - ETA: 0s - loss: 94.7164 - rmse: 9.6168 - mse: 94.7164\n",
      "Epoch 24: ReduceLROnPlateau reducing learning rate to 0.0625.\n",
      "29/29 [==============================] - 1s 38ms/step - loss: 95.6839 - rmse: 9.6949 - mse: 95.6839 - val_loss: 88.3094 - val_rmse: 8.9352 - val_mse: 88.3094 - lr: 0.1250\n",
      "Epoch 25/100\n",
      "29/29 [==============================] - 1s 38ms/step - loss: 95.5638 - rmse: 9.6900 - mse: 95.5638 - val_loss: 88.1328 - val_rmse: 8.9113 - val_mse: 88.1328 - lr: 0.0625\n",
      "Epoch 26/100\n",
      "29/29 [==============================] - 1s 38ms/step - loss: 95.5559 - rmse: 9.6898 - mse: 95.5559 - val_loss: 88.1483 - val_rmse: 8.9139 - val_mse: 88.1483 - lr: 0.0625\n",
      "Epoch 27/100\n",
      "29/29 [==============================] - 1s 51ms/step - loss: 95.5548 - rmse: 9.6897 - mse: 95.5548 - val_loss: 88.1472 - val_rmse: 8.9138 - val_mse: 88.1472 - lr: 0.0625\n",
      "Epoch 28/100\n",
      "29/29 [==============================] - 2s 53ms/step - loss: 95.5600 - rmse: 9.6901 - mse: 95.5600 - val_loss: 88.1453 - val_rmse: 8.9134 - val_mse: 88.1453 - lr: 0.0625\n",
      "Epoch 29/100\n",
      "29/29 [==============================] - ETA: 0s - loss: 95.5627 - rmse: 9.6902 - mse: 95.5627\n",
      "Epoch 29: ReduceLROnPlateau reducing learning rate to 0.03125.\n",
      "29/29 [==============================] - 2s 60ms/step - loss: 95.5627 - rmse: 9.6902 - mse: 95.5627 - val_loss: 88.1465 - val_rmse: 8.9136 - val_mse: 88.1465 - lr: 0.0625\n",
      "Epoch 30/100\n",
      "29/29 [==============================] - 2s 57ms/step - loss: 95.5511 - rmse: 9.6889 - mse: 95.5511 - val_loss: 88.2804 - val_rmse: 8.9318 - val_mse: 88.2804 - lr: 0.0312\n",
      "Epoch 31/100\n",
      "29/29 [==============================] - 1s 46ms/step - loss: 95.6103 - rmse: 9.6923 - mse: 95.6103 - val_loss: 88.3246 - val_rmse: 8.9371 - val_mse: 88.3246 - lr: 0.0312\n",
      "Epoch 32/100\n",
      "29/29 [==============================] - 1s 44ms/step - loss: 95.6118 - rmse: 9.6924 - mse: 95.6118 - val_loss: 88.3212 - val_rmse: 8.9367 - val_mse: 88.3212 - lr: 0.0312\n",
      "Epoch 33/100\n",
      "29/29 [==============================] - 1s 43ms/step - loss: 95.6034 - rmse: 9.6919 - mse: 95.6034 - val_loss: 88.3117 - val_rmse: 8.9355 - val_mse: 88.3117 - lr: 0.0312\n",
      "Epoch 34/100\n",
      "27/29 [==========================>...] - ETA: 0s - loss: 94.6408 - rmse: 9.6142 - mse: 94.6408\n",
      "Epoch 34: ReduceLROnPlateau reducing learning rate to 0.015625.\n",
      "29/29 [==============================] - 1s 42ms/step - loss: 95.5968 - rmse: 9.6916 - mse: 95.5968 - val_loss: 88.2982 - val_rmse: 8.9339 - val_mse: 88.2982 - lr: 0.0312\n",
      "Epoch 35/100\n",
      "29/29 [==============================] - 1s 44ms/step - loss: 95.6485 - rmse: 9.6941 - mse: 95.6485 - val_loss: 88.0962 - val_rmse: 8.9044 - val_mse: 88.0962 - lr: 0.0156\n",
      "Epoch 36/100\n",
      "29/29 [==============================] - 1s 42ms/step - loss: 95.6638 - rmse: 9.6954 - mse: 95.6638 - val_loss: 88.0733 - val_rmse: 8.8981 - val_mse: 88.0733 - lr: 0.0156\n",
      "Epoch 37/100\n",
      "29/29 [==============================] - 1s 43ms/step - loss: 95.6422 - rmse: 9.6941 - mse: 95.6422 - val_loss: 88.0730 - val_rmse: 8.8984 - val_mse: 88.0730 - lr: 0.0156\n",
      "Epoch 38/100\n",
      "29/29 [==============================] - 1s 41ms/step - loss: 95.6411 - rmse: 9.6940 - mse: 95.6411 - val_loss: 88.0776 - val_rmse: 8.9001 - val_mse: 88.0776 - lr: 0.0156\n",
      "Epoch 39/100\n",
      "28/29 [===========================>..] - ETA: 0s - loss: 94.5992 - rmse: 9.6163 - mse: 94.5992\n",
      "Epoch 39: ReduceLROnPlateau reducing learning rate to 0.0078125.\n",
      "29/29 [==============================] - 1s 41ms/step - loss: 95.6442 - rmse: 9.6942 - mse: 95.6442 - val_loss: 88.0861 - val_rmse: 8.9017 - val_mse: 88.0861 - lr: 0.0156\n",
      "Epoch 40/100\n",
      "29/29 [==============================] - 1s 40ms/step - loss: 95.6164 - rmse: 9.6934 - mse: 95.6164 - val_loss: 88.0901 - val_rmse: 8.8832 - val_mse: 88.0901 - lr: 0.0078\n",
      "Epoch 41/100\n",
      "29/29 [==============================] - 1s 40ms/step - loss: 95.5358 - rmse: 9.6884 - mse: 95.5358 - val_loss: 88.0731 - val_rmse: 8.8866 - val_mse: 88.0731 - lr: 0.0078\n",
      "Epoch 42/100\n",
      "29/29 [==============================] - 1s 43ms/step - loss: 95.5441 - rmse: 9.6889 - mse: 95.5441 - val_loss: 88.0726 - val_rmse: 8.8863 - val_mse: 88.0726 - lr: 0.0078\n",
      "Epoch 43/100\n",
      "29/29 [==============================] - 1s 46ms/step - loss: 95.5452 - rmse: 9.6890 - mse: 95.5452 - val_loss: 88.0715 - val_rmse: 8.8862 - val_mse: 88.0715 - lr: 0.0078\n",
      "Epoch 44/100\n",
      "27/29 [==========================>...] - ETA: 0s - loss: 94.5904 - rmse: 9.6115 - mse: 94.5904\n",
      "Epoch 44: ReduceLROnPlateau reducing learning rate to 0.00390625.\n",
      "29/29 [==============================] - 1s 37ms/step - loss: 95.5488 - rmse: 9.6892 - mse: 95.5488 - val_loss: 88.0728 - val_rmse: 8.8862 - val_mse: 88.0728 - lr: 0.0078\n",
      "Epoch 45/100\n",
      "29/29 [==============================] - 1s 40ms/step - loss: 95.5150 - rmse: 9.6875 - mse: 95.5150 - val_loss: 88.0789 - val_rmse: 8.8852 - val_mse: 88.0789 - lr: 0.0039\n",
      "Epoch 46/100\n",
      "29/29 [==============================] - 1s 37ms/step - loss: 95.5079 - rmse: 9.6869 - mse: 95.5079 - val_loss: 88.0785 - val_rmse: 8.8851 - val_mse: 88.0785 - lr: 0.0039\n",
      "Epoch 47/100\n",
      "29/29 [==============================] - 1s 38ms/step - loss: 95.5100 - rmse: 9.6871 - mse: 95.5100 - val_loss: 88.0784 - val_rmse: 8.8851 - val_mse: 88.0784 - lr: 0.0039\n",
      "Epoch 48/100\n",
      "29/29 [==============================] - 1s 39ms/step - loss: 95.5111 - rmse: 9.6871 - mse: 95.5111 - val_loss: 88.0782 - val_rmse: 8.8851 - val_mse: 88.0782 - lr: 0.0039\n",
      "Epoch 49/100\n",
      "28/29 [===========================>..] - ETA: 0s - loss: 94.4585 - rmse: 9.6087 - mse: 94.4585\n",
      "Epoch 49: ReduceLROnPlateau reducing learning rate to 0.001953125.\n",
      "29/29 [==============================] - 1s 38ms/step - loss: 95.5113 - rmse: 9.6871 - mse: 95.5113 - val_loss: 88.0799 - val_rmse: 8.8853 - val_mse: 88.0799 - lr: 0.0039\n",
      "Epoch 50/100\n",
      "29/29 [==============================] - 1s 38ms/step - loss: 95.4971 - rmse: 9.6864 - mse: 95.4971 - val_loss: 88.0788 - val_rmse: 8.8854 - val_mse: 88.0788 - lr: 0.0020\n",
      "Epoch 51/100\n",
      "29/29 [==============================] - 1s 40ms/step - loss: 95.4981 - rmse: 9.6864 - mse: 95.4981 - val_loss: 88.0808 - val_rmse: 8.8853 - val_mse: 88.0808 - lr: 0.0020\n",
      "Epoch 52/100\n",
      "29/29 [==============================] - 1s 40ms/step - loss: 95.4980 - rmse: 9.6864 - mse: 95.4980 - val_loss: 88.0800 - val_rmse: 8.8852 - val_mse: 88.0800 - lr: 0.0020\n",
      "Epoch 53/100\n",
      "29/29 [==============================] - 1s 40ms/step - loss: 95.4976 - rmse: 9.6864 - mse: 95.4976 - val_loss: 88.0796 - val_rmse: 8.8850 - val_mse: 88.0796 - lr: 0.0020\n",
      "Epoch 54/100\n",
      "28/29 [===========================>..] - ETA: 0s - loss: 94.4449 - rmse: 9.6079 - mse: 94.4449\n",
      "Epoch 54: ReduceLROnPlateau reducing learning rate to 0.0009765625.\n",
      "29/29 [==============================] - 1s 39ms/step - loss: 95.4978 - rmse: 9.6864 - mse: 95.4978 - val_loss: 88.0796 - val_rmse: 8.8850 - val_mse: 88.0796 - lr: 0.0020\n",
      "Epoch 55/100\n",
      "29/29 [==============================] - 1s 38ms/step - loss: 95.4914 - rmse: 9.6860 - mse: 95.4914 - val_loss: 88.0805 - val_rmse: 8.8850 - val_mse: 88.0805 - lr: 9.7656e-04\n",
      "Epoch 56/100\n",
      "29/29 [==============================] - 1s 39ms/step - loss: 95.4921 - rmse: 9.6860 - mse: 95.4921 - val_loss: 88.0828 - val_rmse: 8.8849 - val_mse: 88.0828 - lr: 9.7656e-04\n",
      "Epoch 57/100\n",
      "29/29 [==============================] - 1s 38ms/step - loss: 95.4924 - rmse: 9.6861 - mse: 95.4924 - val_loss: 88.0828 - val_rmse: 8.8849 - val_mse: 88.0828 - lr: 9.7656e-04\n",
      "Epoch 58/100\n",
      "29/29 [==============================] - 1s 38ms/step - loss: 95.4917 - rmse: 9.6860 - mse: 95.4917 - val_loss: 88.0811 - val_rmse: 8.8849 - val_mse: 88.0811 - lr: 9.7656e-04\n",
      "Epoch 59/100\n",
      "28/29 [===========================>..] - ETA: 0s - loss: 94.4384 - rmse: 9.6075 - mse: 94.4384\n",
      "Epoch 59: ReduceLROnPlateau reducing learning rate to 0.00048828125.\n",
      "29/29 [==============================] - 1s 37ms/step - loss: 95.4915 - rmse: 9.6860 - mse: 95.4915 - val_loss: 88.0805 - val_rmse: 8.8849 - val_mse: 88.0805 - lr: 9.7656e-04\n",
      "Epoch 60/100\n",
      "29/29 [==============================] - 1s 38ms/step - loss: 95.4873 - rmse: 9.6858 - mse: 95.4873 - val_loss: 88.0781 - val_rmse: 8.8849 - val_mse: 88.0781 - lr: 4.8828e-04\n",
      "Epoch 61/100\n",
      "29/29 [==============================] - 1s 36ms/step - loss: 95.4886 - rmse: 9.6859 - mse: 95.4886 - val_loss: 88.0793 - val_rmse: 8.8852 - val_mse: 88.0793 - lr: 4.8828e-04\n",
      "Epoch 62/100\n",
      "29/29 [==============================] - 1s 38ms/step - loss: 95.4891 - rmse: 9.6859 - mse: 95.4891 - val_loss: 88.0784 - val_rmse: 8.8853 - val_mse: 88.0784 - lr: 4.8828e-04\n",
      "Epoch 63/100\n",
      "29/29 [==============================] - 1s 39ms/step - loss: 95.4884 - rmse: 9.6859 - mse: 95.4884 - val_loss: 88.0792 - val_rmse: 8.8855 - val_mse: 88.0792 - lr: 4.8828e-04\n",
      "Epoch 64/100\n",
      "28/29 [===========================>..] - ETA: 0s - loss: 94.4357 - rmse: 9.6074 - mse: 94.4357\n",
      "Epoch 64: ReduceLROnPlateau reducing learning rate to 0.000244140625.\n",
      "29/29 [==============================] - 1s 38ms/step - loss: 95.4883 - rmse: 9.6859 - mse: 95.4883 - val_loss: 88.0771 - val_rmse: 8.8854 - val_mse: 88.0771 - lr: 4.8828e-04\n",
      "CPU times: user 3min 31s, sys: 17.4 s, total: 3min 49s\n",
      "Wall time: 1min 19s\n"
     ]
    }
   ],
   "source": [
    "%%time\n",
    "\n",
    "early_stopping = EarlyStopping(  # monitor='val_loss',\n",
    "                               min_delta=0.0,\n",
    "                               patience=50,)\n",
    "\n",
    "reduce_lr = ReduceLROnPlateau(  # monitor='val_loss',\n",
    "                              factor=0.5,\n",
    "                              patience=5,\n",
    "                              min_lr=0.0001,\n",
    "                              verbose=1)\n",
    "\n",
    "\n",
    "\n",
    "LOGDIR = \"./taxi_trained\"\n",
    "history = model.fit(trainds,\n",
    "                     epochs=100,\n",
    "                     validation_data=evalds,\n",
    "                     verbose=1,\n",
    "                     callbacks=[early_stopping, reduce_lr],\n",
    "                     )\n"
   ]
  },
  {
   "cell_type": "markdown",
   "metadata": {},
   "source": [
    "### High-level model evaluation"
   ]
  },
  {
   "cell_type": "markdown",
   "metadata": {},
   "source": [
    "Once we've run data through the model, we can call `.summary()` on the model to get a high-level summary of our network. We can also plot the training and evaluation curves for the metrics we computed above. "
   ]
  },
  {
   "cell_type": "code",
   "execution_count": 110,
   "metadata": {
    "tags": []
   },
   "outputs": [
    {
     "name": "stdout",
     "output_type": "stream",
     "text": [
      "Model: \"sequential_11\"\n",
      "_________________________________________________________________\n",
      " Layer (type)                Output Shape              Param #   \n",
      "=================================================================\n",
      " layer_normalization_5 (Laye  (None, 4)                8         \n",
      " rNormalization)                                                 \n",
      "                                                                 \n",
      " dense_47 (Dense)            (None, 8)                 40        \n",
      "                                                                 \n",
      " layer_normalization_6 (Laye  (None, 8)                16        \n",
      " rNormalization)                                                 \n",
      "                                                                 \n",
      " dense_48 (Dense)            (None, 8)                 72        \n",
      "                                                                 \n",
      " layer_normalization_7 (Laye  (None, 8)                16        \n",
      " rNormalization)                                                 \n",
      "                                                                 \n",
      " dense_49 (Dense)            (None, 8)                 72        \n",
      "                                                                 \n",
      " layer_normalization_8 (Laye  (None, 8)                16        \n",
      " rNormalization)                                                 \n",
      "                                                                 \n",
      " dense_50 (Dense)            (None, 8)                 72        \n",
      "                                                                 \n",
      " layer_normalization_9 (Laye  (None, 8)                16        \n",
      " rNormalization)                                                 \n",
      "                                                                 \n",
      " dense_51 (Dense)            (None, 8)                 72        \n",
      "                                                                 \n",
      " layer_normalization_10 (Lay  (None, 8)                16        \n",
      " erNormalization)                                                \n",
      "                                                                 \n",
      " dense_52 (Dense)            (None, 1)                 9         \n",
      "                                                                 \n",
      "=================================================================\n",
      "Total params: 425\n",
      "Trainable params: 425\n",
      "Non-trainable params: 0\n",
      "_________________________________________________________________\n"
     ]
    }
   ],
   "source": [
    "model.summary()"
   ]
  },
  {
   "cell_type": "markdown",
   "metadata": {},
   "source": [
    "Running `.fit` returns a History object which collects all the events recorded during training. Similar to Tensorboard, we can plot the training and validation curves for the model loss and rmse by accessing these elements of the History object."
   ]
  },
  {
   "cell_type": "code",
   "execution_count": 49,
   "metadata": {
    "tags": []
   },
   "outputs": [
    {
     "data": {
      "text/plain": [
       "<Axes: >"
      ]
     },
     "execution_count": 49,
     "metadata": {},
     "output_type": "execute_result"
    },
    {
     "data": {
      "image/png": "[encoded data removed]",
      "text/plain": [
       "<Figure size 640x480 with 1 Axes>"
      ]
     },
     "metadata": {},
     "output_type": "display_data"
    }
   ],
   "source": [
    "RMSE_COLS = [\"rmse\", \"val_rmse\"]\n",
    "\n",
    "pd.DataFrame(history.history)[RMSE_COLS].plot()"
   ]
  },
  {
   "cell_type": "code",
   "execution_count": 50,
   "metadata": {
    "tags": []
   },
   "outputs": [
    {
     "data": {
      "text/plain": [
       "<Axes: >"
      ]
     },
     "execution_count": 50,
     "metadata": {},
     "output_type": "execute_result"
    },
    {
     "data": {
      "image/png": "[encoded data removed]",
      "text/plain": [
       "<Figure size 640x480 with 1 Axes>"
      ]
     },
     "metadata": {},
     "output_type": "display_data"
    }
   ],
   "source": [
    "LOSS_COLS = [\"loss\", \"val_loss\"]\n",
    "\n",
    "pd.DataFrame(history.history)[LOSS_COLS].plot()"
   ]
  },
  {
   "cell_type": "markdown",
   "metadata": {},
   "source": [
    "# Making predictions with our model"
   ]
  },
  {
   "cell_type": "markdown",
   "metadata": {},
   "source": [
    "To make predictions with our trained model, we can call the [predict method](https://www.tensorflow.org/api_docs/python/tf/keras/Model#predict), passing to it a dictionary of values. The `steps` parameter determines the total number of steps before declaring the prediction round finished. Here since we have just one example, we set `steps=1` (setting `steps=None` would also work). Note, however, that if x is a `tf.data` dataset or a dataset iterator, and steps is set to None, predict will run until the input dataset is exhausted."
   ]
  },
  {
   "cell_type": "code",
   "execution_count": 51,
   "metadata": {
    "tags": []
   },
   "outputs": [
    {
     "name": "stdout",
     "output_type": "stream",
     "text": [
      "1/1 [==============================] - 0s 128ms/step\n"
     ]
    },
    {
     "data": {
      "text/plain": [
       "array([[11.306651]], dtype=float32)"
      ]
     },
     "execution_count": 51,
     "metadata": {},
     "output_type": "execute_result"
    }
   ],
   "source": [
    "model.predict([[-73.982683, 40.742104, -73.983766, 40.755174]])"
   ]
  },
  {
   "cell_type": "markdown",
   "metadata": {},
   "source": [
    "# Export and deploy our model"
   ]
  },
  {
   "cell_type": "markdown",
   "metadata": {},
   "source": [
    "Of course, making individual predictions is not realistic, because we can't expect client code to have a model object in memory. For others to use our trained model, we'll have to export our model to a file, and expect client code to instantiate the model from that exported file. \n",
    "\n",
    "We'll export the model to a TensorFlow SavedModel format. Once we have a model in this format, we have lots of ways to \"serve\" the model, from a web application, from JavaScript, from mobile applications, etc."
   ]
  },
  {
   "cell_type": "markdown",
   "metadata": {},
   "source": [
    "**Exercise.** Use `tf.saved_model.save` to export the trained model to a Tensorflow SavedModel format. Reference the [documentation for `tf.saved_model.save`](https://www.tensorflow.org/api_docs/python/tf/saved_model/save) as you fill in the code for the cell below.\n",
    "\n",
    "Next, print the signature of your saved model using the SavedModel Command Line Interface command `saved_model_cli`. You can read more about the command line interface and the `show` and `run` commands it supports in the [documentation here](https://www.tensorflow.org/guide/saved_model#overview_of_commands). "
   ]
  },
  {
   "cell_type": "code",
   "execution_count": 52,
   "metadata": {
    "tags": []
   },
   "outputs": [
    {
     "name": "stderr",
     "output_type": "stream",
     "text": [
      "WARNING:absl:Found untraced functions such as _update_step_xla while saving (showing 1 of 1). These functions will not be directly callable after loading.\n"
     ]
    },
    {
     "name": "stdout",
     "output_type": "stream",
     "text": [
      "INFO:tensorflow:Assets written to: ./export/savedmodel/20250513032957/assets\n"
     ]
    },
    {
     "name": "stderr",
     "output_type": "stream",
     "text": [
      "INFO:tensorflow:Assets written to: ./export/savedmodel/20250513032957/assets\n"
     ]
    }
   ],
   "source": [
    "OUTPUT_DIR = \"./export/savedmodel\"\n",
    "shutil.rmtree(OUTPUT_DIR, ignore_errors=True)\n",
    "TIMESTAMP = datetime.datetime.now().strftime(\"%Y%m%d%H%M%S\")\n",
    "\n",
    "EXPORT_PATH = os.path.join(OUTPUT_DIR, TIMESTAMP)\n",
    "\n",
    "tf.saved_model.save(\n",
    "    model, EXPORT_PATH\n",
    ")"
   ]
  },
  {
   "cell_type": "code",
   "execution_count": 60,
   "metadata": {
    "tags": []
   },
   "outputs": [
    {
     "name": "stdout",
     "output_type": "stream",
     "text": [
      "The given SavedModel SignatureDef contains the following input(s):\n",
      "  inputs['dense_21_input'] tensor_info:\n",
      "      dtype: DT_FLOAT\n",
      "      shape: (-1, 4)\n",
      "      name: serving_default_dense_21_input:0\n",
      "The given SavedModel SignatureDef contains the following output(s):\n",
      "  outputs['dense_24'] tensor_info:\n",
      "      dtype: DT_FLOAT\n",
      "      shape: (-1, 1)\n",
      "      name: StatefulPartitionedCall:0\n",
      "Method name is: tensorflow/serving/predict\n",
      "./export/savedmodel/20250513032957\n",
      "./export/savedmodel/20250513032957/fingerprint.pb\n",
      "./export/savedmodel/20250513032957/variables\n",
      "./export/savedmodel/20250513032957/variables/variables.data-00000-of-00001\n",
      "./export/savedmodel/20250513032957/variables/variables.index\n",
      "./export/savedmodel/20250513032957/saved_model.pb\n",
      "./export/savedmodel/20250513032957/assets\n"
     ]
    }
   ],
   "source": [
    "!saved_model_cli show \\\n",
    "--tag_set serve \\\n",
    "--signature_def serving_default \\\n",
    "--dir {EXPORT_PATH}\n",
    "\n",
    "!find {EXPORT_PATH}\n",
    "os.environ['EXPORT_PATH'] = EXPORT_PATH"
   ]
  },
  {
   "cell_type": "markdown",
   "metadata": {},
   "source": [
    "## Deploy our model to Vertex AI"
   ]
  },
  {
   "cell_type": "markdown",
   "metadata": {},
   "source": [
    "Finally, we will deploy our trained model to Vertex AI and see how we can make online predicitons. "
   ]
  },
  {
   "cell_type": "code",
   "execution_count": 61,
   "metadata": {
    "tags": [
     "flake8-noqa-line-8-E501"
    ]
   },
   "outputs": [
    {
     "name": "stdout",
     "output_type": "stream",
     "text": [
      "MODEL_DISPLAYNAME: taxifare-20250513032957\n"
     ]
    }
   ],
   "source": [
    "PROJECT = !gcloud config list --format 'value(core.project)' 2>/dev/null\n",
    "PROJECT = PROJECT[0]\n",
    "BUCKET = PROJECT\n",
    "REGION = \"us-central1\"\n",
    "MODEL_DISPLAYNAME = f\"taxifare-{TIMESTAMP}\"\n",
    "\n",
    "print(f\"MODEL_DISPLAYNAME: {MODEL_DISPLAYNAME}\")\n",
    "\n",
    "# from https://cloud.google.com/vertex-ai/docs/predictions/pre-built-containers\n",
    "SERVING_CONTAINER_IMAGE_URI = (\n",
    "    \"us-docker.pkg.dev/vertex-ai/prediction/tf2-cpu.2-12:latest\"\n",
    ")\n",
    "os.environ[\"BUCKET\"] = BUCKET\n",
    "os.environ[\"REGION\"] = REGION"
   ]
  },
  {
   "cell_type": "code",
   "execution_count": 65,
   "metadata": {
    "tags": []
   },
   "outputs": [
    {
     "name": "stdout",
     "output_type": "stream",
     "text": [
      "Bucket exists, let's not recreate it.\n",
      "gs://qwiklabs-asl-01-19968276eb55/\n"
     ]
    }
   ],
   "source": [
    "%%bash\n",
    "# Create GCS bucket if it doesn't exist already...\n",
    "exists=$(gsutil ls -d | grep -w gs://${BUCKET}/)\n",
    "\n",
    "if [ -n \"$exists\" ]; then\n",
    "    echo -e \"Bucket exists, let's not recreate it.\"\n",
    "    gsutil ls\n",
    "else\n",
    "    echo \"Creating a new GCS bucket.\"\n",
    "    gsutil mb -l ${REGION} gs://${BUCKET}\n",
    "    echo \"\\nHere are your current buckets:\"\n",
    "    gsutil ls\n",
    "fi"
   ]
  },
  {
   "cell_type": "code",
   "execution_count": 68,
   "metadata": {
    "tags": [
     "flake8-noqa-cell"
    ]
   },
   "outputs": [
    {
     "name": "stdout",
     "output_type": "stream",
     "text": [
      "Copying file://./export/savedmodel/20250513032957/fingerprint.pb [Content-Type=application/octet-stream]...\n",
      "Copying file://./export/savedmodel/20250513032957/saved_model.pb [Content-Type=application/octet-stream]...\n",
      "Copying file://./export/savedmodel/20250513032957/variables/variables.data-00000-of-00001 [Content-Type=application/octet-stream]...\n",
      "Copying file://./export/savedmodel/20250513032957/variables/variables.index [Content-Type=application/octet-stream]...\n",
      "/ [4 files][948.2 KiB/948.2 KiB]                                                \n",
      "Operation completed over 4 objects/948.2 KiB.                                    \n",
      "/bin/bash: line 1: echo　gs://qwiklabs-asl-01-19968276eb55/taxifare-20250513032957: No such file or directory\n"
     ]
    }
   ],
   "source": [
    "!gsutil cp -R $EXPORT_PATH gs://$BUCKET/$MODEL_DISPLAYNAME\n",
    "!echo　gs://$BUCKET/$MODEL_DISPLAYNAME"
   ]
  },
  {
   "cell_type": "markdown",
   "metadata": {},
   "source": [
    "**Exercise.** Complete the code in the cell below to upload and deploy your trained model to Vertex AI using the `Model.upload` method. Have a look at [the documentation](https://googleapis.dev/python/aiplatform/latest/aiplatform.html#google.cloud.aiplatform.Model)."
   ]
  },
  {
   "cell_type": "code",
   "execution_count": 71,
   "metadata": {
    "tags": [
     "flake8-noqa-cell"
    ]
   },
   "outputs": [
    {
     "name": "stdout",
     "output_type": "stream",
     "text": [
      "Creating Model\n",
      "Create Model backing LRO: projects/604342147284/locations/us-central1/models/8112112127335989248/operations/6856501287576403968\n",
      "Model created. Resource name: projects/604342147284/locations/us-central1/models/8112112127335989248@1\n",
      "To use this Model in another session:\n",
      "model = aiplatform.Model('projects/604342147284/locations/us-central1/models/8112112127335989248@1')\n"
     ]
    }
   ],
   "source": [
    "uploaded_model = aiplatform.Model.upload(\n",
    "    display_name=MODEL_DISPLAYNAME,\n",
    "    artifact_uri=\"gs://qwiklabs-asl-01-19968276eb55/taxifare-20250513032957\",\n",
    "    serving_container_image_uri=SERVING_CONTAINER_IMAGE_URI\n",
    ")"
   ]
  },
  {
   "cell_type": "code",
   "execution_count": 73,
   "metadata": {
    "tags": []
   },
   "outputs": [
    {
     "name": "stdout",
     "output_type": "stream",
     "text": [
      "Creating Endpoint\n",
      "Create Endpoint backing LRO: projects/604342147284/locations/us-central1/endpoints/8114841115196129280/operations/3233777599821905920\n",
      "Endpoint created. Resource name: projects/604342147284/locations/us-central1/endpoints/8114841115196129280\n",
      "To use this Endpoint in another session:\n",
      "endpoint = aiplatform.Endpoint('projects/604342147284/locations/us-central1/endpoints/8114841115196129280')\n",
      "Deploying model to Endpoint : projects/604342147284/locations/us-central1/endpoints/8114841115196129280\n",
      "Deploy Endpoint model backing LRO: projects/604342147284/locations/us-central1/endpoints/8114841115196129280/operations/3165801392946282496\n",
      "Endpoint model deployed. Resource name: projects/604342147284/locations/us-central1/endpoints/8114841115196129280\n"
     ]
    }
   ],
   "source": [
    "MACHINE_TYPE = \"n1-standard-2\"\n",
    "\n",
    "endpoint = uploaded_model.deploy(\n",
    "    machine_type=MACHINE_TYPE,\n",
    "    accelerator_type=None,\n",
    "    accelerator_count=None,\n",
    ")"
   ]
  },
  {
   "cell_type": "code",
   "execution_count": 76,
   "metadata": {
    "tags": [
     "flake8-noqa-cell"
    ]
   },
   "outputs": [],
   "source": [
    "instance = {\"dense_21_input\": [-73.982683, 40.742104, -73.983766, 40.755174]}\n"
   ]
  },
  {
   "cell_type": "markdown",
   "metadata": {},
   "source": [
    "**Exercise.** Complete the code in the cell below to call prediction on your deployed model for the example you just created in the `instance` variable above."
   ]
  },
  {
   "cell_type": "code",
   "execution_count": 79,
   "metadata": {
    "tags": [
     "flake8-noqa-cell",
     "flake8-noqa-cell-E902"
    ]
   },
   "outputs": [
    {
     "data": {
      "text/plain": [
       "Prediction(predictions=[[11.3066511]], deployed_model_id='881688478708924416', metadata=None, model_version_id='1', model_resource_name='projects/604342147284/locations/us-central1/models/8112112127335989248', explanations=None)"
      ]
     },
     "execution_count": 79,
     "metadata": {},
     "output_type": "execute_result"
    }
   ],
   "source": [
    "endpoint.predict(\n",
    "    [instance]\n",
    ")\n",
    "\n",
    "# or\n",
    "endpoint.predict(\n",
    "    [[-73.982683, 40.742104, -73.983766, 40.755174]]\n",
    ")"
   ]
  },
  {
   "cell_type": "markdown",
   "metadata": {},
   "source": [
    "# Cleanup\n",
    "\n",
    "When deploying a model to an endpoint for online prediction, the minimum `min-replica-count` is 1, and it is charged per node hour. So let's delete the endpoint to reduce unnecessary charges. Before we can delete the endpoint, we first undeploy all attached models... "
   ]
  },
  {
   "cell_type": "code",
   "execution_count": null,
   "metadata": {},
   "outputs": [],
   "source": [
    "endpoint.undeploy_all()"
   ]
  },
  {
   "cell_type": "markdown",
   "metadata": {},
   "source": [
    "...then delete the endpoint."
   ]
  },
  {
   "cell_type": "code",
   "execution_count": null,
   "metadata": {},
   "outputs": [],
   "source": [
    "endpoint.delete()"
   ]
  },
  {
   "cell_type": "markdown",
   "metadata": {},
   "source": [
    "Copyright 2021 Google Inc. Licensed under the Apache License, Version 2.0 (the \"License\"); you may not use this file except in compliance with the License. You may obtain a copy of the License at http://www.apache.org/licenses/LICENSE-2.0 Unless required by applicable law or agreed to in writing, software distributed under the License is distributed on an \"AS IS\" BASIS, WITHOUT WARRANTIES OR CONDITIONS OF ANY KIND, either express or implied. See the License for the specific language governing permissions and limitations under the License"
   ]
  }
 ],
 "metadata": {
  "environment": {
   "kernel": "conda-base-py",
   "name": "workbench-notebooks.m129",
   "type": "gcloud",
   "uri": "us-docker.pkg.dev/deeplearning-platform-release/gcr.io/workbench-notebooks:m129"
  },
  "kernelspec": {
   "display_name": "Python 3 (ipykernel)",
   "language": "python",
   "name": "conda-base-py"
  },
  "language_info": {
   "codemirror_mode": {
    "name": "ipython",
    "version": 3
   },
   "file_extension": ".py",
   "mimetype": "text/x-python",
   "name": "python",
   "nbconvert_exporter": "python",
   "pygments_lexer": "ipython3",
   "version": "3.10.16"
  },
  "toc-autonumbering": true,
  "toc-showmarkdowntxt": false
 },
 "nbformat": 4,
 "nbformat_minor": 4
}
