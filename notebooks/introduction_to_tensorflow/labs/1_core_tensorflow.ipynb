{
 "cells": [
  {
   "cell_type": "markdown",
   "metadata": {},
   "source": [
    "# Getting started with TensorFlow\n",
    "\n",
    "**Learning Objectives**\n",
    "  1. Practice defining and performing basic operations on constant Tensors\n",
    "  1. Use Tensorflow's automatic differentiation capability\n",
    "  1. Learn how to train a linear regression from scratch with TensorFLow\n"
   ]
  },
  {
   "cell_type": "markdown",
   "metadata": {},
   "source": [
    "In this notebook, we will start by reviewing the main operations on Tensors in TensorFlow and understand how to manipulate TensorFlow Variables. We explain how these are compatible with python built-in list and numpy arrays. \n",
    "\n",
    "Then we will jump to the problem of training a linear regression from scratch with gradient descent. The first order of business will be to understand how to compute the gradients of a function (the loss here) with respect to some of its arguments (the model weights here). The TensorFlow construct allowing us to do that is `tf.GradientTape`, which we will describe. \n",
    "\n",
    "At last we will create a simple training loop to learn the weights of a 1-dim linear regression using synthetic data generated from a linear model. \n",
    "\n",
    "As a bonus exercise, we will do the same for data generated from a non linear model, forcing us to manual engineer non-linear features to improve our linear model performance."
   ]
  },
  {
   "cell_type": "code",
   "execution_count": 1,
   "metadata": {
    "tags": []
   },
   "outputs": [],
   "source": [
    "import os\n",
    "import warnings\n",
    "\n",
    "os.environ[\"TF_CPP_MIN_LOG_LEVEL\"] = \"2\"\n",
    "warnings.filterwarnings(\"ignore\")\n",
    "\n",
    "import numpy as np\n",
    "import tensorflow as tf\n",
    "from matplotlib import pyplot as plt"
   ]
  },
  {
   "cell_type": "code",
   "execution_count": 2,
   "metadata": {
    "tags": []
   },
   "outputs": [
    {
     "name": "stdout",
     "output_type": "stream",
     "text": [
      "2.12.0\n"
     ]
    }
   ],
   "source": [
    "print(tf.__version__)"
   ]
  },
  {
   "cell_type": "markdown",
   "metadata": {},
   "source": [
    "## Operations on Tensors"
   ]
  },
  {
   "cell_type": "markdown",
   "metadata": {},
   "source": [
    "### Variables and Constants"
   ]
  },
  {
   "cell_type": "markdown",
   "metadata": {},
   "source": [
    "Tensors in TensorFlow are either contant (`tf.constant`) or variables (`tf.Variable`).\n",
    "Constant values can not be changed, while variables values can be.\n",
    "\n",
    "The main difference is that instances of `tf.Variable` have methods allowing us to change \n",
    "their values while tensors constructed with `tf.constant` don't have these methods, and\n",
    "therefore their values can not be changed. When you want to change the value of a `tf.Variable`\n",
    "`x` use one of the following method: \n",
    "\n",
    "* `x.assign(new_value)`\n",
    "* `x.assign_add(value_to_be_added)`\n",
    "* `x.assign_sub(value_to_be_subtracted)`\n",
    "\n"
   ]
  },
  {
   "cell_type": "code",
   "execution_count": 3,
   "metadata": {
    "tags": []
   },
   "outputs": [
    {
     "data": {
      "text/plain": [
       "<tf.Tensor: shape=(3,), dtype=int32, numpy=array([2, 3, 4], dtype=int32)>"
      ]
     },
     "execution_count": 3,
     "metadata": {},
     "output_type": "execute_result"
    }
   ],
   "source": [
    "x = tf.constant([2, 3, 4])\n",
    "x"
   ]
  },
  {
   "cell_type": "code",
   "execution_count": 4,
   "metadata": {
    "tags": []
   },
   "outputs": [],
   "source": [
    "x = tf.Variable(2.0, dtype=tf.float32, name=\"my_variable\")"
   ]
  },
  {
   "cell_type": "markdown",
   "metadata": {},
   "source": [
    "**Exercise.** Use the `assign(..)` method to assign a new value to the variable `x` you created above. After each, print `x` to verify how the value changes. "
   ]
  },
  {
   "cell_type": "code",
   "execution_count": 9,
   "metadata": {
    "tags": []
   },
   "outputs": [
    {
     "data": {
      "text/plain": [
       "<tf.Variable 'my_variable:0' shape=() dtype=float32, numpy=2.0>"
      ]
     },
     "execution_count": 9,
     "metadata": {},
     "output_type": "execute_result"
    }
   ],
   "source": [
    "x.assign(2)  # TODO: Your code goes here.\n",
    "x"
   ]
  },
  {
   "cell_type": "code",
   "execution_count": 10,
   "metadata": {
    "tags": []
   },
   "outputs": [
    {
     "data": {
      "text/plain": [
       "<tf.Variable 'my_variable:0' shape=() dtype=float32, numpy=5.0>"
      ]
     },
     "execution_count": 10,
     "metadata": {},
     "output_type": "execute_result"
    }
   ],
   "source": [
    "x.assign_add(3)  # TODO: Your code goes here.\n",
    "x"
   ]
  },
  {
   "cell_type": "code",
   "execution_count": 11,
   "metadata": {
    "tags": []
   },
   "outputs": [
    {
     "data": {
      "text/plain": [
       "<tf.Variable 'my_variable:0' shape=() dtype=float32, numpy=4.0>"
      ]
     },
     "execution_count": 11,
     "metadata": {},
     "output_type": "execute_result"
    }
   ],
   "source": [
    "x.assign_sub(1)  # TODO: Your code goes here.\n",
    "x"
   ]
  },
  {
   "cell_type": "markdown",
   "metadata": {
    "tags": []
   },
   "source": [
    "### Point-wise operations"
   ]
  },
  {
   "cell_type": "markdown",
   "metadata": {},
   "source": [
    "Tensorflow offers similar point-wise tensor operations as numpy does:\n",
    "    \n",
    "* `tf.add` allows to add the components of a tensor \n",
    "* `tf.multiply` allows us to multiply the components of a tensor\n",
    "* `tf.subtract` allow us to substract the components of a tensor\n",
    "* `tf.math.*` contains the usual math operations to be applied on the components of a tensor\n",
    "* and many more...\n",
    "\n",
    "Most of the standard aritmetic operations (`tf.add`, `tf.substract`, etc.) are overloaded by the usual corresponding arithmetic symbols (`+`, `-`, etc.)"
   ]
  },
  {
   "cell_type": "markdown",
   "metadata": {},
   "source": [
    "**Exercise.** Create two tensorflow constants `a = [5, 3, 8]` and `b = [3, -1, 2]`. Then, compute \n",
    "1. the sum of the constants `a` and `b` below using `tf.add` and `+` and verify both operations produce the same values.\n",
    "2. the product of the constants `a` and `b` below using `tf.multiply` and `*` and verify both operations produce the same values.\n",
    "3. the exponential of the constant `a` using `tf.math.exp`. Note, you'll need to specify the type for this operation.\n"
   ]
  },
  {
   "cell_type": "code",
   "execution_count": 12,
   "metadata": {
    "tags": []
   },
   "outputs": [
    {
     "name": "stdout",
     "output_type": "stream",
     "text": [
      "c: tf.Tensor([ 8  2 10], shape=(3,), dtype=int32)\n",
      "d: tf.Tensor([ 8  2 10], shape=(3,), dtype=int32)\n"
     ]
    }
   ],
   "source": [
    "a = tf.constant([5, 3, 8])  # TODO: Your code goes here.\n",
    "b = tf.constant([3, -1, 2])  # TODO: Your code goes here.\n",
    "c = tf.add(a, b)  # TODO: Your code goes here.\n",
    "d = a + b  # TODO: Your code goes here.\n",
    "\n",
    "print(\"c:\", c)\n",
    "print(\"d:\", d)"
   ]
  },
  {
   "cell_type": "code",
   "execution_count": 13,
   "metadata": {
    "tags": []
   },
   "outputs": [
    {
     "name": "stdout",
     "output_type": "stream",
     "text": [
      "c: tf.Tensor([15 -3 16], shape=(3,), dtype=int32)\n",
      "d: tf.Tensor([15 -3 16], shape=(3,), dtype=int32)\n"
     ]
    }
   ],
   "source": [
    "a = tf.constant([5, 3, 8])  # TODO: Your code goes here.\n",
    "b = tf.constant([3, -1, 2])  # TODO: Your code goes here.\n",
    "c = tf.multiply(a, b)  # TODO: Your code goes here.\n",
    "d = a * b  # TODO: Your code goes here.\n",
    "\n",
    "print(\"c:\", c)\n",
    "print(\"d:\", d)"
   ]
  },
  {
   "cell_type": "code",
   "execution_count": 17,
   "metadata": {
    "tags": []
   },
   "outputs": [
    {
     "name": "stdout",
     "output_type": "stream",
     "text": [
      "b: tf.Tensor([ 148.4    20.08 2980.  ], shape=(3,), dtype=float16)\n"
     ]
    }
   ],
   "source": [
    "# tf.math.exp expects floats so we need to explicitly give the type\n",
    "a = tf.constant([5., 3., 8.], dtype=tf.float16)  # TODO: Your code goes here.\n",
    "b = tf.math.exp(a)  # TODO: Your code goes here.\n",
    "\n",
    "print(\"b:\", b)"
   ]
  },
  {
   "cell_type": "code",
   "execution_count": null,
   "metadata": {},
   "outputs": [],
   "source": []
  },
  {
   "cell_type": "markdown",
   "metadata": {},
   "source": [
    "### NumPy Interoperability\n",
    "\n",
    "In addition to native TF tensors, tensorflow operations can take native python types and NumPy arrays as operands. "
   ]
  },
  {
   "cell_type": "code",
   "execution_count": 18,
   "metadata": {
    "tags": []
   },
   "outputs": [],
   "source": [
    "# native python list\n",
    "a_py = [1, 2]\n",
    "b_py = [3, 4]"
   ]
  },
  {
   "cell_type": "markdown",
   "metadata": {},
   "source": [
    "**Exercise.** Use `tf.add` to compute the sum of the native python arrays `a` and `b`. "
   ]
  },
  {
   "cell_type": "code",
   "execution_count": 19,
   "metadata": {
    "tags": []
   },
   "outputs": [
    {
     "data": {
      "text/plain": [
       "<tf.Tensor: shape=(2,), dtype=int32, numpy=array([4, 6], dtype=int32)>"
      ]
     },
     "execution_count": 19,
     "metadata": {},
     "output_type": "execute_result"
    }
   ],
   "source": [
    "tf.add(a_py, b_py)"
   ]
  },
  {
   "cell_type": "code",
   "execution_count": 21,
   "metadata": {
    "tags": []
   },
   "outputs": [],
   "source": [
    "# numpy arrays\n",
    "a_np = np.array([1, 2])\n",
    "b_np = np.array([3, 4])"
   ]
  },
  {
   "cell_type": "markdown",
   "metadata": {},
   "source": [
    "**Exercise.** Use `tf.add` to compute the sum of the NumPy arrays `a` and `b`. "
   ]
  },
  {
   "cell_type": "code",
   "execution_count": 22,
   "metadata": {
    "tags": []
   },
   "outputs": [
    {
     "data": {
      "text/plain": [
       "<tf.Tensor: shape=(2,), dtype=int64, numpy=array([4, 6])>"
      ]
     },
     "execution_count": 22,
     "metadata": {},
     "output_type": "execute_result"
    }
   ],
   "source": [
    "tf.add(a_np, b_np)"
   ]
  },
  {
   "cell_type": "code",
   "execution_count": 23,
   "metadata": {
    "tags": []
   },
   "outputs": [],
   "source": [
    "# native TF tensor\n",
    "a_tf = tf.constant([1, 2])\n",
    "b_tf = tf.constant([3, 4])"
   ]
  },
  {
   "cell_type": "markdown",
   "metadata": {},
   "source": [
    "**Exercise.** Use `tf.add` to compute the sum of the Tensorflow constants `a` and `b`. "
   ]
  },
  {
   "cell_type": "code",
   "execution_count": 24,
   "metadata": {
    "tags": []
   },
   "outputs": [
    {
     "data": {
      "text/plain": [
       "<tf.Tensor: shape=(2,), dtype=int32, numpy=array([4, 6], dtype=int32)>"
      ]
     },
     "execution_count": 24,
     "metadata": {},
     "output_type": "execute_result"
    }
   ],
   "source": [
    "tf.add(a_tf, b_tf)"
   ]
  },
  {
   "cell_type": "markdown",
   "metadata": {},
   "source": [
    "You can convert a native TF tensor to a NumPy array using .numpy()"
   ]
  },
  {
   "cell_type": "code",
   "execution_count": 25,
   "metadata": {
    "tags": []
   },
   "outputs": [
    {
     "data": {
      "text/plain": [
       "array([1, 2], dtype=int32)"
      ]
     },
     "execution_count": 25,
     "metadata": {},
     "output_type": "execute_result"
    }
   ],
   "source": [
    "a_tf.numpy()"
   ]
  },
  {
   "cell_type": "markdown",
   "metadata": {},
   "source": [
    "## Linear Regression\n",
    "\n",
    "Now let's use low level tensorflow operations to implement linear regression.\n",
    "\n",
    "Later in the course you'll see abstracted ways to do this using high level TensorFlow."
   ]
  },
  {
   "cell_type": "markdown",
   "metadata": {
    "tags": []
   },
   "source": [
    "### Toy Dataset\n",
    "\n",
    "We'll model the following function:\n",
    "\n",
    "\\begin{equation}\n",
    "y= 2x + 10\n",
    "\\end{equation}"
   ]
  },
  {
   "cell_type": "code",
   "execution_count": 26,
   "metadata": {
    "tags": []
   },
   "outputs": [
    {
     "name": "stdout",
     "output_type": "stream",
     "text": [
      "X:[0. 1. 2. 3. 4. 5. 6. 7. 8. 9.]\n",
      "Y:[10. 12. 14. 16. 18. 20. 22. 24. 26. 28.]\n"
     ]
    }
   ],
   "source": [
    "X = tf.constant(range(10), dtype=tf.float32)\n",
    "Y = 2 * X + 10\n",
    "\n",
    "print(f\"X:{X}\")\n",
    "print(f\"Y:{Y}\")"
   ]
  },
  {
   "cell_type": "markdown",
   "metadata": {},
   "source": [
    "Let's also create a test dataset to evaluate our models:"
   ]
  },
  {
   "cell_type": "code",
   "execution_count": 27,
   "metadata": {
    "tags": []
   },
   "outputs": [
    {
     "name": "stdout",
     "output_type": "stream",
     "text": [
      "X_test:[10. 11. 12. 13. 14. 15. 16. 17. 18. 19.]\n",
      "Y_test:[30. 32. 34. 36. 38. 40. 42. 44. 46. 48.]\n"
     ]
    }
   ],
   "source": [
    "X_test = tf.constant(range(10, 20), dtype=tf.float32)\n",
    "Y_test = 2 * X_test + 10\n",
    "\n",
    "print(f\"X_test:{X_test}\")\n",
    "print(f\"Y_test:{Y_test}\")"
   ]
  },
  {
   "cell_type": "markdown",
   "metadata": {},
   "source": [
    "#### Loss Function"
   ]
  },
  {
   "cell_type": "markdown",
   "metadata": {},
   "source": [
    "The simplest model we can build is a model that for each value of x returns the sample mean of the training set:"
   ]
  },
  {
   "cell_type": "code",
   "execution_count": 29,
   "metadata": {
    "tags": []
   },
   "outputs": [
    {
     "data": {
      "text/plain": [
       "[19.0, 19.0, 19.0, 19.0, 19.0, 19.0, 19.0, 19.0, 19.0, 19.0]"
      ]
     },
     "execution_count": 29,
     "metadata": {},
     "output_type": "execute_result"
    }
   ],
   "source": [
    "y_mean = Y.numpy().mean()\n",
    "\n",
    "\n",
    "def predict_mean(X):\n",
    "    y_hat = [y_mean] * len(X)\n",
    "    return y_hat\n",
    "\n",
    "\n",
    "Y_hat = predict_mean(X_test)\n",
    "Y_hat"
   ]
  },
  {
   "cell_type": "markdown",
   "metadata": {},
   "source": [
    "Using mean squared error, our loss is:\n",
    "\\begin{equation}\n",
    "MSE = \\frac{1}{m}\\sum_{i=1}^{m}(\\hat{Y}_i-Y_i)^2\n",
    "\\end{equation}"
   ]
  },
  {
   "cell_type": "markdown",
   "metadata": {},
   "source": [
    "For this simple model the loss is then:"
   ]
  },
  {
   "cell_type": "code",
   "execution_count": 30,
   "metadata": {
    "tags": []
   },
   "outputs": [
    {
     "data": {
      "text/plain": [
       "433.0"
      ]
     },
     "execution_count": 30,
     "metadata": {},
     "output_type": "execute_result"
    }
   ],
   "source": [
    "errors = (Y_hat - Y_test) ** 2\n",
    "loss = tf.reduce_mean(errors)\n",
    "loss.numpy()"
   ]
  },
  {
   "cell_type": "markdown",
   "metadata": {},
   "source": [
    "This values for the MSE loss above will give us a baseline to compare how a more complex model is doing."
   ]
  },
  {
   "cell_type": "markdown",
   "metadata": {},
   "source": [
    "Now, if $\\hat{Y}$ represents the vector containing our model's predictions when we use a linear regression model\n",
    "\\begin{equation}\n",
    "\\hat{Y} = w_0X + w_1\n",
    "\\end{equation}\n",
    "\n",
    "we can write a loss function taking as arguments the coefficients of the model:"
   ]
  },
  {
   "cell_type": "code",
   "execution_count": 31,
   "metadata": {
    "tags": []
   },
   "outputs": [],
   "source": [
    "def loss_mse(X, Y, w0, w1):\n",
    "    Y_hat = w0 * X + w1\n",
    "    errors = (Y_hat - Y) ** 2\n",
    "    return tf.reduce_mean(errors)"
   ]
  },
  {
   "cell_type": "markdown",
   "metadata": {},
   "source": [
    "### Gradient Function\n",
    "\n",
    "To use gradient descent we need to take the partial derivatives of the loss function with respect to each of the weights. We could manually compute the derivatives, but with Tensorflow's automatic differentiation capabilities we don't have to!\n",
    "\n",
    "During gradient descent we think of the loss as a function of the parameters $w_0$ and $w_1$. Thus, we want to compute the partial derivative with respect to these variables. \n",
    "\n",
    "For that we need to wrap our loss computation within the context of `tf.GradientTape` instance which will reccord gradient information:\n",
    "\n",
    "```python\n",
    "with tf.GradientTape() as tape:\n",
    "    loss = # computation \n",
    "```\n",
    "\n",
    "This will allow us to later compute the gradients of any tensor computed within the `tf.GradientTape` context with respect to instances of `tf.Variable`:\n",
    "\n",
    "```python\n",
    "gradients = tape.gradient(loss, [w0, w1])\n",
    "```"
   ]
  },
  {
   "cell_type": "markdown",
   "metadata": {},
   "source": [
    "We illustrate this procedure with by computing the loss gradients with respect to the model weights:"
   ]
  },
  {
   "cell_type": "markdown",
   "metadata": {},
   "source": [
    "**Lab Task #6:** Complete the function below to compute the loss gradients with respect to the model weights `w0` and `w1`. "
   ]
  },
  {
   "cell_type": "code",
   "execution_count": 32,
   "metadata": {
    "tags": []
   },
   "outputs": [],
   "source": [
    "def compute_gradients(X, Y, w0, w1):\n",
    "    with tf.GradientTape() as tape:\n",
    "        loss = loss_mse(X, Y, w0, w1)\n",
    "    return tape.gradient(loss, [w0, w1])\n",
    "    # TODO: Your code goes here."
   ]
  },
  {
   "cell_type": "code",
   "execution_count": 33,
   "metadata": {
    "tags": []
   },
   "outputs": [],
   "source": [
    "w0 = tf.Variable(0.0)\n",
    "w1 = tf.Variable(0.0)\n",
    "\n",
    "dw0, dw1 = compute_gradients(X, Y, w0, w1)"
   ]
  },
  {
   "cell_type": "code",
   "execution_count": 34,
   "metadata": {
    "tags": []
   },
   "outputs": [
    {
     "name": "stdout",
     "output_type": "stream",
     "text": [
      "dw0: -204.0\n"
     ]
    }
   ],
   "source": [
    "print(\"dw0:\", dw0.numpy())"
   ]
  },
  {
   "cell_type": "code",
   "execution_count": 35,
   "metadata": {
    "tags": []
   },
   "outputs": [
    {
     "name": "stdout",
     "output_type": "stream",
     "text": [
      "dw1 -38.0\n"
     ]
    }
   ],
   "source": [
    "print(\"dw1\", dw1.numpy())"
   ]
  },
  {
   "cell_type": "markdown",
   "metadata": {},
   "source": [
    "### Training Loop\n",
    "\n",
    "Here we have a very simple training loop that converges. Note we are ignoring best practices like batching, creating a separate test set, and random weight initialization for the sake of simplicity."
   ]
  },
  {
   "cell_type": "markdown",
   "metadata": {},
   "source": [
    "**Lab Task #7:** Complete the `for` loop below to train a linear regression. \n",
    "1. Use `compute_gradients` to compute `dw0` and `dw1`.\n",
    "2. Then, re-assign the value of `w0` and `w1` using the `.assign_sub(...)` method with the computed gradient values and the `LEARNING_RATE`.\n",
    "3. Finally, for every 100th step , we'll compute and print the `loss`. Use the `loss_mse` function we created above to compute the `loss`. "
   ]
  },
  {
   "cell_type": "code",
   "execution_count": 52,
   "metadata": {
    "tags": []
   },
   "outputs": [
    {
     "name": "stdout",
     "output_type": "stream",
     "text": [
      "STEP 100 - loss: None, w0: 2.483504056930542, w1: 6.968146324157715\n",
      "\n",
      "STEP 200 - loss: None, w0: 2.1552717685699463, w1: 9.026354789733887\n",
      "\n",
      "STEP 300 - loss: None, w0: 2.049863815307617, w1: 9.687324523925781\n",
      "\n",
      "STEP 400 - loss: None, w0: 2.0160133838653564, w1: 9.899585723876953\n",
      "\n",
      "STEP 500 - loss: None, w0: 2.0051426887512207, w1: 9.967751502990723\n",
      "\n",
      "STEP 600 - loss: None, w0: 2.0016515254974365, w1: 9.989643096923828\n",
      "\n",
      "STEP 700 - loss: None, w0: 2.000530481338501, w1: 9.996673583984375\n",
      "\n",
      "STEP 800 - loss: None, w0: 2.0001704692840576, w1: 9.998931884765625\n",
      "\n",
      "STEP 900 - loss: None, w0: 2.0000550746917725, w1: 9.999654769897461\n",
      "\n",
      "STEP 1000 - loss: None, w0: 2.0000178813934326, w1: 9.999887466430664\n",
      "\n"
     ]
    }
   ],
   "source": [
    "STEPS = 1000\n",
    "LEARNING_RATE = 0.02\n",
    "MSG = \"STEP {step} - loss: {loss}, w0: {w0}, w1: {w1}\\n\"\n",
    "\n",
    "\n",
    "w0 = tf.Variable(0.0)\n",
    "w1 = tf.Variable(0.0)\n",
    "\n",
    "\n",
    "for step in range(1, STEPS + 1):\n",
    "    dw0, dw1 = compute_gradients(X, Y, w0, w1)  # TODO: Your code goes here.\n",
    "    # w0.assign_sub(dw0 * LEARNING_RATE)\n",
    "    # w1.assign_sub(dw1 * LEARNING_RATE)\n",
    "    w0, w1 = tf.Variable(w0 - dw0 * LEARNING_RATE), tf.Variable(w1 - dw1 * LEARNING_RATE)\n",
    "    # TODO: Your code goes here.\n",
    "    # TODO: Your code goes here.\n",
    "\n",
    "    if step % 100 == 0:\n",
    "        loss = None  # TODO: Your code goes here.\n",
    "        print(MSG.format(step=step, loss=loss, w0=w0.numpy(), w1=w1.numpy()))"
   ]
  },
  {
   "cell_type": "markdown",
   "metadata": {},
   "source": [
    "Now let's compare the test loss for this linear regression to the test loss from the baseline model that outputs always the mean of the training set:"
   ]
  },
  {
   "cell_type": "code",
   "execution_count": 53,
   "metadata": {
    "tags": []
   },
   "outputs": [
    {
     "data": {
      "text/plain": [
       "2.4155089e-08"
      ]
     },
     "execution_count": 53,
     "metadata": {},
     "output_type": "execute_result"
    }
   ],
   "source": [
    "loss = loss_mse(X_test, Y_test, w0, w1)\n",
    "loss.numpy()"
   ]
  },
  {
   "cell_type": "markdown",
   "metadata": {},
   "source": [
    "This is indeed much better!"
   ]
  },
  {
   "cell_type": "markdown",
   "metadata": {},
   "source": [
    "## Bonus"
   ]
  },
  {
   "cell_type": "markdown",
   "metadata": {},
   "source": [
    "Try modelling a non-linear function such as: $y=xe^{-x^2}$"
   ]
  },
  {
   "cell_type": "code",
   "execution_count": 54,
   "metadata": {
    "tags": []
   },
   "outputs": [],
   "source": [
    "X = tf.constant(np.linspace(0, 2, 1000), dtype=tf.float32)\n",
    "Y = X * tf.exp(-(X**2))"
   ]
  },
  {
   "cell_type": "code",
   "execution_count": 95,
   "metadata": {
    "tags": []
   },
   "outputs": [
    {
     "data": {
      "text/plain": [
       "[<matplotlib.lines.Line2D at 0x7fa73d688190>]"
      ]
     },
     "execution_count": 95,
     "metadata": {},
     "output_type": "execute_result"
    },
    {
     "data": {
      "image/png": "[encoded data removed]",
      "text/plain": [
       "<Figure size 640x480 with 1 Axes>"
      ]
     },
     "metadata": {},
     "output_type": "display_data"
    }
   ],
   "source": [
    "%matplotlib inline\n",
    "\n",
    "plt.plot(X, Y)"
   ]
  },
  {
   "cell_type": "code",
   "execution_count": null,
   "metadata": {},
   "outputs": [],
   "source": []
  },
  {
   "cell_type": "code",
   "execution_count": 131,
   "metadata": {
    "tags": []
   },
   "outputs": [],
   "source": [
    "def make_features(X):\n",
    "    f1 = tf.ones_like(X)  # Bias.\n",
    "    f2 = X\n",
    "    f3 = tf.square(X)\n",
    "    f4 = tf.pow(X, 3)\n",
    "    f5 = tf.pow(X, 4)\n",
    "    f6 = tf.pow(X, 5)\n",
    "    # f4 = tf.sqrt(X)\n",
    "    # f5 = tf.exp(X)\n",
    "    # f6 = tf.sin(X)\n",
    "    return tf.stack([f1, f2, f3, f4, f5, f6, ], axis=1)"
   ]
  },
  {
   "cell_type": "code",
   "execution_count": 132,
   "metadata": {
    "tags": []
   },
   "outputs": [],
   "source": [
    "def predict(X, W):\n",
    "    return tf.squeeze(X @ W, -1)"
   ]
  },
  {
   "cell_type": "code",
   "execution_count": 133,
   "metadata": {
    "tags": []
   },
   "outputs": [],
   "source": [
    "def loss_mse(X, Y, W):\n",
    "    Y_hat = predict(X, W)\n",
    "    errors = (Y_hat - Y) ** 2\n",
    "    return tf.reduce_mean(errors)"
   ]
  },
  {
   "cell_type": "code",
   "execution_count": 134,
   "metadata": {
    "tags": []
   },
   "outputs": [],
   "source": [
    "def compute_gradients(X, Y, W):\n",
    "    with tf.GradientTape() as tape:\n",
    "        loss = loss_mse(X, Y, W)\n",
    "    return tape.gradient(loss, W)"
   ]
  },
  {
   "cell_type": "code",
   "execution_count": 137,
   "metadata": {
    "tags": []
   },
   "outputs": [
    {
     "name": "stdout",
     "output_type": "stream",
     "text": [
      "100 tf.Tensor(0.032238357, shape=(), dtype=float32)\n",
      "200 tf.Tensor(0.020027298, shape=(), dtype=float32)\n",
      "300 tf.Tensor(0.015600498, shape=(), dtype=float32)\n",
      "400 tf.Tensor(0.013397118, shape=(), dtype=float32)\n",
      "500 tf.Tensor(0.011951006, shape=(), dtype=float32)\n",
      "600 tf.Tensor(0.010852179, shape=(), dtype=float32)\n",
      "700 tf.Tensor(0.009967462, shape=(), dtype=float32)\n",
      "800 tf.Tensor(0.00923976, shape=(), dtype=float32)\n",
      "900 tf.Tensor(0.008635704, shape=(), dtype=float32)\n",
      "1000 tf.Tensor(0.008131457, shape=(), dtype=float32)\n",
      "1100 tf.Tensor(0.0077084466, shape=(), dtype=float32)\n",
      "1200 tf.Tensor(0.0073517556, shape=(), dtype=float32)\n",
      "1300 tf.Tensor(0.007049281, shape=(), dtype=float32)\n",
      "1400 tf.Tensor(0.0067911632, shape=(), dtype=float32)\n",
      "1500 tf.Tensor(0.0065693636, shape=(), dtype=float32)\n",
      "1600 tf.Tensor(0.0063773356, shape=(), dtype=float32)\n",
      "1700 tf.Tensor(0.006209731, shape=(), dtype=float32)\n",
      "1800 tf.Tensor(0.0060621942, shape=(), dtype=float32)\n",
      "1900 tf.Tensor(0.0059311716, shape=(), dtype=float32)\n",
      "2000 tf.Tensor(0.005813761, shape=(), dtype=float32)\n",
      "2100 tf.Tensor(0.005707598, shape=(), dtype=float32)\n",
      "2200 tf.Tensor(0.005610748, shape=(), dtype=float32)\n",
      "2300 tf.Tensor(0.005521638, shape=(), dtype=float32)\n",
      "2400 tf.Tensor(0.0054389792, shape=(), dtype=float32)\n",
      "2500 tf.Tensor(0.005361719, shape=(), dtype=float32)\n",
      "2600 tf.Tensor(0.0052890005, shape=(), dtype=float32)\n",
      "2700 tf.Tensor(0.0052201194, shape=(), dtype=float32)\n",
      "2800 tf.Tensor(0.0051545026, shape=(), dtype=float32)\n",
      "2900 tf.Tensor(0.0050916797, shape=(), dtype=float32)\n",
      "3000 tf.Tensor(0.0050312653, shape=(), dtype=float32)\n",
      "3100 tf.Tensor(0.0049729426, shape=(), dtype=float32)\n",
      "3200 tf.Tensor(0.0049164533, shape=(), dtype=float32)\n",
      "3300 tf.Tensor(0.004861585, shape=(), dtype=float32)\n",
      "3400 tf.Tensor(0.0048081595, shape=(), dtype=float32)\n",
      "3500 tf.Tensor(0.004756033, shape=(), dtype=float32)\n",
      "3600 tf.Tensor(0.0047050864, shape=(), dtype=float32)\n",
      "3700 tf.Tensor(0.0046552196, shape=(), dtype=float32)\n",
      "3800 tf.Tensor(0.0046063494, shape=(), dtype=float32)\n",
      "3900 tf.Tensor(0.0045584077, shape=(), dtype=float32)\n",
      "4000 tf.Tensor(0.0045113363, shape=(), dtype=float32)\n",
      "4100 tf.Tensor(0.004465086, shape=(), dtype=float32)\n",
      "4200 tf.Tensor(0.004419616, shape=(), dtype=float32)\n",
      "4300 tf.Tensor(0.0043748883, shape=(), dtype=float32)\n",
      "4400 tf.Tensor(0.004330876, shape=(), dtype=float32)\n",
      "4500 tf.Tensor(0.004287551, shape=(), dtype=float32)\n",
      "4600 tf.Tensor(0.00424489, shape=(), dtype=float32)\n",
      "4700 tf.Tensor(0.0042028753, shape=(), dtype=float32)\n",
      "4800 tf.Tensor(0.0041614864, shape=(), dtype=float32)\n",
      "4900 tf.Tensor(0.0041207084, shape=(), dtype=float32)\n",
      "5000 tf.Tensor(0.004080527, shape=(), dtype=float32)\n",
      "5100 tf.Tensor(0.004040928, shape=(), dtype=float32)\n",
      "5200 tf.Tensor(0.0040018996, shape=(), dtype=float32)\n",
      "5300 tf.Tensor(0.0039634313, shape=(), dtype=float32)\n",
      "5400 tf.Tensor(0.0039255116, shape=(), dtype=float32)\n",
      "5500 tf.Tensor(0.003888131, shape=(), dtype=float32)\n",
      "5600 tf.Tensor(0.00385128, shape=(), dtype=float32)\n",
      "5700 tf.Tensor(0.0038149515, shape=(), dtype=float32)\n",
      "5800 tf.Tensor(0.0037791329, shape=(), dtype=float32)\n",
      "5900 tf.Tensor(0.003743821, shape=(), dtype=float32)\n",
      "6000 tf.Tensor(0.003709004, shape=(), dtype=float32)\n",
      "6100 tf.Tensor(0.0036746757, shape=(), dtype=float32)\n",
      "6200 tf.Tensor(0.0036408291, shape=(), dtype=float32)\n",
      "6300 tf.Tensor(0.003607456, shape=(), dtype=float32)\n",
      "6400 tf.Tensor(0.0035745502, shape=(), dtype=float32)\n",
      "6500 tf.Tensor(0.0035421033, shape=(), dtype=float32)\n",
      "6600 tf.Tensor(0.00351011, shape=(), dtype=float32)\n",
      "6700 tf.Tensor(0.0034785636, shape=(), dtype=float32)\n",
      "6800 tf.Tensor(0.0034474574, shape=(), dtype=float32)\n",
      "6900 tf.Tensor(0.0034167846, shape=(), dtype=float32)\n",
      "7000 tf.Tensor(0.0033865394, shape=(), dtype=float32)\n",
      "7100 tf.Tensor(0.0033567147, shape=(), dtype=float32)\n",
      "7200 tf.Tensor(0.003327306, shape=(), dtype=float32)\n",
      "7300 tf.Tensor(0.0032983066, shape=(), dtype=float32)\n",
      "7400 tf.Tensor(0.0032697106, shape=(), dtype=float32)\n",
      "7500 tf.Tensor(0.0032415118, shape=(), dtype=float32)\n",
      "7600 tf.Tensor(0.0032137053, shape=(), dtype=float32)\n",
      "7700 tf.Tensor(0.0031862846, shape=(), dtype=float32)\n",
      "7800 tf.Tensor(0.0031592452, shape=(), dtype=float32)\n",
      "7900 tf.Tensor(0.0031325803, shape=(), dtype=float32)\n",
      "8000 tf.Tensor(0.003106287, shape=(), dtype=float32)\n",
      "8100 tf.Tensor(0.0030803578, shape=(), dtype=float32)\n",
      "8200 tf.Tensor(0.003054788, shape=(), dtype=float32)\n",
      "8300 tf.Tensor(0.0030295732, shape=(), dtype=float32)\n",
      "8400 tf.Tensor(0.0030047079, shape=(), dtype=float32)\n",
      "8500 tf.Tensor(0.002980186, shape=(), dtype=float32)\n",
      "8600 tf.Tensor(0.002956005, shape=(), dtype=float32)\n",
      "8700 tf.Tensor(0.0029321585, shape=(), dtype=float32)\n",
      "8800 tf.Tensor(0.0029086424, shape=(), dtype=float32)\n",
      "8900 tf.Tensor(0.0028854508, shape=(), dtype=float32)\n",
      "9000 tf.Tensor(0.0028625801, shape=(), dtype=float32)\n",
      "9100 tf.Tensor(0.0028400251, shape=(), dtype=float32)\n",
      "9200 tf.Tensor(0.0028177826, shape=(), dtype=float32)\n",
      "9300 tf.Tensor(0.0027958464, shape=(), dtype=float32)\n",
      "9400 tf.Tensor(0.0027742144, shape=(), dtype=float32)\n",
      "9500 tf.Tensor(0.00275288, shape=(), dtype=float32)\n",
      "9600 tf.Tensor(0.0027318401, shape=(), dtype=float32)\n",
      "9700 tf.Tensor(0.0027110905, shape=(), dtype=float32)\n",
      "9800 tf.Tensor(0.0026906268, shape=(), dtype=float32)\n",
      "9900 tf.Tensor(0.0026704445, shape=(), dtype=float32)\n",
      "10000 tf.Tensor(0.0026505417, shape=(), dtype=float32)\n",
      "10100 tf.Tensor(0.0026309122, shape=(), dtype=float32)\n",
      "10200 tf.Tensor(0.0026115528, shape=(), dtype=float32)\n",
      "10300 tf.Tensor(0.0025924589, shape=(), dtype=float32)\n",
      "10400 tf.Tensor(0.0025736282, shape=(), dtype=float32)\n",
      "10500 tf.Tensor(0.0025550565, shape=(), dtype=float32)\n",
      "10600 tf.Tensor(0.00253674, shape=(), dtype=float32)\n",
      "10700 tf.Tensor(0.0025186746, shape=(), dtype=float32)\n",
      "10800 tf.Tensor(0.0025008577, shape=(), dtype=float32)\n",
      "10900 tf.Tensor(0.002483285, shape=(), dtype=float32)\n",
      "11000 tf.Tensor(0.0024659522, shape=(), dtype=float32)\n",
      "11100 tf.Tensor(0.0024488578, shape=(), dtype=float32)\n",
      "11200 tf.Tensor(0.0024319973, shape=(), dtype=float32)\n",
      "11300 tf.Tensor(0.0024153674, shape=(), dtype=float32)\n",
      "11400 tf.Tensor(0.0023989645, shape=(), dtype=float32)\n",
      "11500 tf.Tensor(0.0023827867, shape=(), dtype=float32)\n",
      "11600 tf.Tensor(0.00236683, shape=(), dtype=float32)\n",
      "11700 tf.Tensor(0.0023510905, shape=(), dtype=float32)\n",
      "11800 tf.Tensor(0.002335567, shape=(), dtype=float32)\n",
      "11900 tf.Tensor(0.0023202554, shape=(), dtype=float32)\n",
      "12000 tf.Tensor(0.0023051524, shape=(), dtype=float32)\n",
      "12100 tf.Tensor(0.002290255, shape=(), dtype=float32)\n",
      "12200 tf.Tensor(0.0022755596, shape=(), dtype=float32)\n",
      "12300 tf.Tensor(0.002261065, shape=(), dtype=float32)\n",
      "12400 tf.Tensor(0.0022467682, shape=(), dtype=float32)\n",
      "12500 tf.Tensor(0.0022326652, shape=(), dtype=float32)\n",
      "12600 tf.Tensor(0.0022187538, shape=(), dtype=float32)\n",
      "12700 tf.Tensor(0.0022050324, shape=(), dtype=float32)\n",
      "12800 tf.Tensor(0.0021914958, shape=(), dtype=float32)\n",
      "12900 tf.Tensor(0.0021781435, shape=(), dtype=float32)\n",
      "13000 tf.Tensor(0.0021649722, shape=(), dtype=float32)\n",
      "13100 tf.Tensor(0.0021519794, shape=(), dtype=float32)\n",
      "13200 tf.Tensor(0.002139162, shape=(), dtype=float32)\n",
      "13300 tf.Tensor(0.0021265186, shape=(), dtype=float32)\n",
      "13400 tf.Tensor(0.0021140457, shape=(), dtype=float32)\n",
      "13500 tf.Tensor(0.0021017417, shape=(), dtype=float32)\n",
      "13600 tf.Tensor(0.002089603, shape=(), dtype=float32)\n",
      "13700 tf.Tensor(0.0020776296, shape=(), dtype=float32)\n",
      "13800 tf.Tensor(0.002065816, shape=(), dtype=float32)\n",
      "13900 tf.Tensor(0.0020541635, shape=(), dtype=float32)\n",
      "14000 tf.Tensor(0.0020426663, shape=(), dtype=float32)\n",
      "14100 tf.Tensor(0.0020313244, shape=(), dtype=float32)\n",
      "14200 tf.Tensor(0.0020201348, shape=(), dtype=float32)\n",
      "14300 tf.Tensor(0.0020090952, shape=(), dtype=float32)\n",
      "14400 tf.Tensor(0.0019982045, shape=(), dtype=float32)\n",
      "14500 tf.Tensor(0.0019874587, shape=(), dtype=float32)\n",
      "14600 tf.Tensor(0.001976858, shape=(), dtype=float32)\n",
      "14700 tf.Tensor(0.0019663991, shape=(), dtype=float32)\n",
      "14800 tf.Tensor(0.0019560796, shape=(), dtype=float32)\n",
      "14900 tf.Tensor(0.0019458979, shape=(), dtype=float32)\n",
      "15000 tf.Tensor(0.0019358535, shape=(), dtype=float32)\n",
      "15100 tf.Tensor(0.0019259419, shape=(), dtype=float32)\n",
      "15200 tf.Tensor(0.0019161626, shape=(), dtype=float32)\n",
      "15300 tf.Tensor(0.0019065146, shape=(), dtype=float32)\n",
      "15400 tf.Tensor(0.0018969943, shape=(), dtype=float32)\n",
      "15500 tf.Tensor(0.0018876017, shape=(), dtype=float32)\n",
      "15600 tf.Tensor(0.0018783327, shape=(), dtype=float32)\n",
      "15700 tf.Tensor(0.0018691864, shape=(), dtype=float32)\n",
      "15800 tf.Tensor(0.0018601612, shape=(), dtype=float32)\n",
      "15900 tf.Tensor(0.0018512569, shape=(), dtype=float32)\n",
      "16000 tf.Tensor(0.0018424708, shape=(), dtype=float32)\n",
      "16100 tf.Tensor(0.0018338003, shape=(), dtype=float32)\n",
      "16200 tf.Tensor(0.0018252446, shape=(), dtype=float32)\n",
      "16300 tf.Tensor(0.0018168013, shape=(), dtype=float32)\n",
      "16400 tf.Tensor(0.0018084698, shape=(), dtype=float32)\n",
      "16500 tf.Tensor(0.0018002478, shape=(), dtype=float32)\n",
      "16600 tf.Tensor(0.0017921343, shape=(), dtype=float32)\n",
      "16700 tf.Tensor(0.0017841272, shape=(), dtype=float32)\n",
      "16800 tf.Tensor(0.0017762255, shape=(), dtype=float32)\n",
      "16900 tf.Tensor(0.0017684272, shape=(), dtype=float32)\n",
      "17000 tf.Tensor(0.0017607313, shape=(), dtype=float32)\n",
      "17100 tf.Tensor(0.0017531363, shape=(), dtype=float32)\n",
      "17200 tf.Tensor(0.0017456401, shape=(), dtype=float32)\n",
      "17300 tf.Tensor(0.0017382426, shape=(), dtype=float32)\n",
      "17400 tf.Tensor(0.001730941, shape=(), dtype=float32)\n",
      "17500 tf.Tensor(0.0017237345, shape=(), dtype=float32)\n",
      "17600 tf.Tensor(0.0017166224, shape=(), dtype=float32)\n",
      "17700 tf.Tensor(0.0017096017, shape=(), dtype=float32)\n",
      "17800 tf.Tensor(0.0017026732, shape=(), dtype=float32)\n",
      "17900 tf.Tensor(0.001695835, shape=(), dtype=float32)\n",
      "18000 tf.Tensor(0.0016890848, shape=(), dtype=float32)\n",
      "18100 tf.Tensor(0.0016824221, shape=(), dtype=float32)\n",
      "18200 tf.Tensor(0.0016758454, shape=(), dtype=float32)\n",
      "18300 tf.Tensor(0.001669353, shape=(), dtype=float32)\n",
      "18400 tf.Tensor(0.0016629448, shape=(), dtype=float32)\n",
      "18500 tf.Tensor(0.0016566197, shape=(), dtype=float32)\n",
      "18600 tf.Tensor(0.0016503753, shape=(), dtype=float32)\n",
      "18700 tf.Tensor(0.0016442105, shape=(), dtype=float32)\n",
      "18800 tf.Tensor(0.0016381262, shape=(), dtype=float32)\n",
      "18900 tf.Tensor(0.0016321196, shape=(), dtype=float32)\n",
      "19000 tf.Tensor(0.0016261892, shape=(), dtype=float32)\n",
      "19100 tf.Tensor(0.0016203342, shape=(), dtype=float32)\n",
      "19200 tf.Tensor(0.0016145554, shape=(), dtype=float32)\n",
      "19300 tf.Tensor(0.0016088493, shape=(), dtype=float32)\n",
      "19400 tf.Tensor(0.0016032148, shape=(), dtype=float32)\n",
      "19500 tf.Tensor(0.0015976534, shape=(), dtype=float32)\n",
      "19600 tf.Tensor(0.0015921616, shape=(), dtype=float32)\n",
      "19700 tf.Tensor(0.0015867398, shape=(), dtype=float32)\n",
      "19800 tf.Tensor(0.001581387, shape=(), dtype=float32)\n",
      "19900 tf.Tensor(0.0015761008, shape=(), dtype=float32)\n",
      "20000 tf.Tensor(0.0015708817, shape=(), dtype=float32)\n",
      "STEP: 20000 MSE: 0.00157088169362396\n"
     ]
    },
    {
     "data": {
      "text/plain": [
       "<matplotlib.legend.Legend at 0x7fa73d080550>"
      ]
     },
     "execution_count": 137,
     "metadata": {},
     "output_type": "execute_result"
    },
    {
     "data": {
      "image/png": "[encoded data removed]",
      "text/plain": [
       "<Figure size 640x480 with 1 Axes>"
      ]
     },
     "metadata": {},
     "output_type": "display_data"
    },
    {
     "data": {
      "image/png": "[encoded data removed]",
      "text/plain": [
       "<Figure size 640x480 with 1 Axes>"
      ]
     },
     "metadata": {},
     "output_type": "display_data"
    }
   ],
   "source": [
    "STEPS = 20000\n",
    "LEARNING_RATE = 0.002\n",
    "\n",
    "\n",
    "Xf = make_features(X)\n",
    "n_weights = Xf.shape[1]\n",
    "\n",
    "W = tf.Variable(np.zeros((n_weights, 1)), dtype=tf.float32)\n",
    "\n",
    "# For plotting\n",
    "steps, losses = [], []\n",
    "plt.figure()\n",
    "\n",
    "\n",
    "for step in range(1, STEPS + 1):\n",
    "    dW = compute_gradients(Xf, Y, W)\n",
    "    W.assign_sub(dW * LEARNING_RATE)\n",
    "\n",
    "    if step % 100 == 0:\n",
    "        loss = loss_mse(Xf, Y, W)\n",
    "        print(step, loss)\n",
    "        steps.append(step)\n",
    "        losses.append(loss)\n",
    "        plt.clf()\n",
    "        plt.plot(steps, losses)\n",
    "\n",
    "        \n",
    "\n",
    "print(f\"STEP: {STEPS} MSE: {loss_mse(Xf, Y, W)}\")\n",
    "\n",
    "plt.figure()\n",
    "plt.plot(X, Y, label=\"actual\")\n",
    "plt.plot(X, predict(Xf, W), label=\"predicted\")\n",
    "plt.legend()"
   ]
  },
  {
   "cell_type": "markdown",
   "metadata": {},
   "source": [
    "Copyright 2021 Google Inc. Licensed under the Apache License, Version 2.0 (the \"License\"); you may not use this file except in compliance with the License. You may obtain a copy of the License at http://www.apache.org/licenses/LICENSE-2.0 Unless required by applicable law or agreed to in writing, software distributed under the License is distributed on an \"AS IS\" BASIS, WITHOUT WARRANTIES OR CONDITIONS OF ANY KIND, either express or implied. See the License for the specific language governing permissions and limitations under the License"
   ]
  },
  {
   "cell_type": "code",
   "execution_count": null,
   "metadata": {},
   "outputs": [],
   "source": []
  }
 ],
 "metadata": {
  "environment": {
   "kernel": "conda-base-py",
   "name": "workbench-notebooks.m129",
   "type": "gcloud",
   "uri": "us-docker.pkg.dev/deeplearning-platform-release/gcr.io/workbench-notebooks:m129"
  },
  "kernelspec": {
   "display_name": "Python 3 (ipykernel) (Local)",
   "language": "python",
   "name": "conda-base-py"
  },
  "language_info": {
   "codemirror_mode": {
    "name": "ipython",
    "version": 3
   },
   "file_extension": ".py",
   "mimetype": "text/x-python",
   "name": "python",
   "nbconvert_exporter": "python",
   "pygments_lexer": "ipython3",
   "version": "3.10.16"
  }
 },
 "nbformat": 4,
 "nbformat_minor": 4
}
