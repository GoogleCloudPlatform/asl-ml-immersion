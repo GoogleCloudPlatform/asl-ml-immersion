{
 "cells": [
  {
   "cell_type": "markdown",
   "id": "0ac6099d-c03b-46cc-bd0a-dd96f824a8de",
   "metadata": {
    "id": "0ac6099d-c03b-46cc-bd0a-dd96f824a8de"
   },
   "source": [
    "# Interpretability of Language Model with Learning Interpretability Tool 🔥"
   ]
  },
  {
   "cell_type": "markdown",
   "id": "a5d79e19-968e-49d7-8abb-35ad2f985513",
   "metadata": {},
   "source": [
    "## Overview\n",
    "\n",
    "This notebook shows how to use explainability methods for a BERT-based text classification model with the [Learning Interpretability Tool (🔥LIT)](https://pair-code.github.io/lit/).\n",
    "\n",
    "LIT is a visual, interactive ML model-understanding tool that supports text, image, and tabular data.<br>\n",
    "You can use LIT to ask and answer questions like:\n",
    "- What kind of examples does my model perform poorly on?\n",
    "- Why did my model make this prediction? Can it attribute it to adversarial behavior, or undesirable priors from the training set?\n",
    "- Does my model behave consistently if I change things like textual style, verb tense, or pronoun gender?\n",
    "\n",
    "LIT contains many built-in capabilities but is also customizable, with the ability to add custom interpretability techniques, metrics calculations, counterfactual generators, visualizations, and more.\n",
    "\n",
    "In this notebook, we'll explore the built-in interpretability methods - [LIME](#Explore-the-LIME-explanation) , [Gradient Norm](#Gradient-Norm), [Gradient-dot-Input](#Gradient-dot-Input), and [Integrated Gradients](#Add-Integrated-Gradients).\n",
    "\n",
    "### Learning objectives: \n",
    "* Learn the overview of the Learning Interpretability Tool🔥\n",
    "* Configure the LIT dataset and Model objects.\n",
    "* Customize the Model for interpretability methods"
   ]
  },
  {
   "cell_type": "markdown",
   "id": "09254b64-3602-4f7a-aff9-6d826b8c2b8f",
   "metadata": {},
   "source": [
    "## Setup\n",
    "This lab needs a special kernel to run, please run the following cell. "
   ]
  },
  {
   "cell_type": "code",
   "execution_count": null,
   "id": "e99c369c-4da9-41d2-8bad-7b65390e5e75",
   "metadata": {
    "tags": []
   },
   "outputs": [],
   "source": [
    "!echo \"Kernel installation started.\"\n",
    "!cd ../../../.. && make lit_kernel > /dev/null 2>&1\n",
    "!echo \"Kernel installation completed.\""
   ]
  },
  {
   "cell_type": "markdown",
   "id": "2b9935bc-5274-46cd-baaa-aec3a2d88be5",
   "metadata": {},
   "source": [
    "When it's completed, select the **`LIT Kernel`** on the top right before going forward in the notebook.<br>\n",
    "It may take ~1 minutes until the kernel is shown.\n",
    "\n",
    "<img width=\"700\" alt=\"image\" src=\"https://github.com/user-attachments/assets/e75e98f6-005f-4724-9c08-3467259b5acc\">\n"
   ]
  },
  {
   "cell_type": "markdown",
   "id": "ed3de7e4-55a0-4eed-a922-4be6a82253f4",
   "metadata": {},
   "source": [
    "### Import libraries\n"
   ]
  },
  {
   "cell_type": "code",
   "execution_count": 1,
   "id": "4916615f-68cf-4946-b31f-ce4fb3b48e5a",
   "metadata": {
    "colab": {
     "base_uri": "https://localhost:8080/"
    },
    "id": "4916615f-68cf-4946-b31f-ce4fb3b48e5a",
    "outputId": "51608304-59de-4546-8bf4-717262d39bbb",
    "tags": []
   },
   "outputs": [],
   "source": [
    "import os\n",
    "import warnings\n",
    "\n",
    "warnings.filterwarnings(\"ignore\")\n",
    "os.environ[\"TF_CPP_MIN_LOG_LEVEL\"] = \"2\""
   ]
  },
  {
   "cell_type": "code",
   "execution_count": 69,
   "id": "0708d01f-9f6a-46f0-b4eb-85dc8afa23c6",
   "metadata": {
    "id": "0708d01f-9f6a-46f0-b4eb-85dc8afa23c6",
    "tags": []
   },
   "outputs": [],
   "source": [
    "import datetime\n",
    "import shutil\n",
    "from collections.abc import Iterable, Sequence\n",
    "\n",
    "import keras\n",
    "import keras_nlp\n",
    "import pandas as pd\n",
    "import tensorflow as tf\n",
    "from lit_nlp import notebook\n",
    "from lit_nlp.api import dataset as lit_dataset\n",
    "from lit_nlp.api import layout\n",
    "from lit_nlp.api import model as lit_model\n",
    "from lit_nlp.api import types as lit_types\n",
    "\n",
    "JsonDict = lit_types.JsonDict\n",
    "Spec = lit_types.Spec\n",
    "\n",
    "tf.get_logger().setLevel(\"ERROR\")"
   ]
  },
  {
   "cell_type": "code",
   "execution_count": 3,
   "id": "5d1b1c31-d2af-4f77-9d7c-816428bbf496",
   "metadata": {
    "colab": {
     "base_uri": "https://localhost:8080/"
    },
    "id": "5d1b1c31-d2af-4f77-9d7c-816428bbf496",
    "outputId": "ddf67176-5507-4d7d-bfd7-038ac06b95f0",
    "tags": []
   },
   "outputs": [
    {
     "name": "stdout",
     "output_type": "stream",
     "text": [
      "Num GPUs Available:  1\n"
     ]
    }
   ],
   "source": [
    "print(\"Num GPUs Available: \", len(tf.config.list_physical_devices(\"GPU\")))"
   ]
  },
  {
   "cell_type": "markdown",
   "id": "0927aaaf-b6db-4c7d-80ea-e83dee8ad3cc",
   "metadata": {
    "id": "0927aaaf-b6db-4c7d-80ea-e83dee8ad3cc"
   },
   "source": [
    "## Build a BERT-based Sentiment Analysis model\n",
    "\n",
    "This notebook trains a sentiment analysis model to classify movie reviews as *positive* or *negative*, based on the text of the review.\n",
    "\n",
    "You'll use the [Large Movie Review Dataset](https://ai.stanford.edu/~amaas/data/sentiment/) that contains the text of 50,000 movie reviews from the [Internet Movie Database](https://www.imdb.com/)."
   ]
  },
  {
   "cell_type": "markdown",
   "id": "51eedf91-b731-467a-a162-8c469685a952",
   "metadata": {
    "id": "51eedf91-b731-467a-a162-8c469685a952"
   },
   "source": [
    "### Download the IMDB dataset\n",
    "\n",
    "Let's download and extract the dataset, then explore the directory structure.\n"
   ]
  },
  {
   "cell_type": "code",
   "execution_count": 4,
   "id": "2d2faa77-fe1b-46d4-a77d-04a194699423",
   "metadata": {
    "id": "2d2faa77-fe1b-46d4-a77d-04a194699423",
    "tags": []
   },
   "outputs": [],
   "source": [
    "url = \"https://ai.stanford.edu/~amaas/data/sentiment/aclImdb_v1.tar.gz\"\n",
    "\n",
    "path = \"/home/jupyter/\"\n",
    "dataset = keras.utils.get_file(\n",
    "    \"aclImdb_v1.tar.gz\", url, untar=True, cache_dir=path, cache_subdir=\"\"\n",
    ")\n",
    "\n",
    "dataset_dir = os.path.join(os.path.dirname(dataset), \"aclImdb\")\n",
    "\n",
    "train_dir = os.path.join(dataset_dir, \"train\")\n",
    "\n",
    "# remove unused folders to make it easier to load the data\n",
    "remove_dir = os.path.join(train_dir, \"unsup\")\n",
    "shutil.rmtree(remove_dir)"
   ]
  },
  {
   "cell_type": "markdown",
   "id": "c9735ca6-cd37-4e94-aa0c-26e66f262d66",
   "metadata": {
    "id": "c9735ca6-cd37-4e94-aa0c-26e66f262d66"
   },
   "source": [
    "Next, you will use the `text_dataset_from_directory` utility to create a labeled `tf.data.Dataset`.\n",
    "\n",
    "The IMDB dataset has already been divided into train and test, but it lacks a validation set. Let's create a validation set using an 80:20 split of the training data by using the `validation_split` argument below.\n",
    "\n",
    "Note:  When using the `validation_split` and `subset` arguments, make sure to either specify a random seed, or to pass `shuffle=False`, so that the validation and training splits have no overlap."
   ]
  },
  {
   "cell_type": "code",
   "execution_count": 5,
   "id": "45cada35-c136-491d-bbc6-33c522004685",
   "metadata": {
    "colab": {
     "base_uri": "https://localhost:8080/"
    },
    "id": "45cada35-c136-491d-bbc6-33c522004685",
    "outputId": "1c6e3ab8-c6af-4f06-db6d-0f99b8b830e8",
    "tags": []
   },
   "outputs": [
    {
     "name": "stdout",
     "output_type": "stream",
     "text": [
      "Found 25000 files belonging to 2 classes.\n",
      "Using 20000 files for training.\n",
      "Found 25000 files belonging to 2 classes.\n",
      "Using 5000 files for validation.\n",
      "Found 25000 files belonging to 2 classes.\n"
     ]
    }
   ],
   "source": [
    "AUTOTUNE = tf.data.AUTOTUNE\n",
    "batch_size = 32\n",
    "seed = 42\n",
    "\n",
    "raw_train_ds = tf.keras.preprocessing.text_dataset_from_directory(\n",
    "    path + \"aclImdb/train\",\n",
    "    batch_size=batch_size,\n",
    "    validation_split=0.2,\n",
    "    subset=\"training\",\n",
    "    seed=seed,\n",
    ")\n",
    "\n",
    "class_names = raw_train_ds.class_names\n",
    "train_ds = raw_train_ds.cache().prefetch(buffer_size=AUTOTUNE)\n",
    "\n",
    "val_ds = tf.keras.preprocessing.text_dataset_from_directory(\n",
    "    path + \"aclImdb/train\",\n",
    "    batch_size=batch_size,\n",
    "    validation_split=0.2,\n",
    "    subset=\"validation\",\n",
    "    seed=seed,\n",
    ")\n",
    "\n",
    "val_ds = val_ds.cache().prefetch(buffer_size=AUTOTUNE)\n",
    "\n",
    "test_ds = tf.keras.preprocessing.text_dataset_from_directory(\n",
    "    path + \"aclImdb/test\", batch_size=batch_size\n",
    ")\n",
    "\n",
    "test_ds = test_ds.cache().prefetch(buffer_size=AUTOTUNE)"
   ]
  },
  {
   "cell_type": "markdown",
   "id": "9548fc4e-c2eb-4ecf-88e2-67dc696bf58e",
   "metadata": {
    "id": "9548fc4e-c2eb-4ecf-88e2-67dc696bf58e"
   },
   "source": [
    "### Train BERT model with Keras NLP\n",
    "\n",
    "For the purpose of this lab, we will be loading a small model called tiny BERT, already pre-trained for sentiment analysis purpose. The tiny BERT has the same general architecture as the original BERT but the has fewer and/or smaller Transformer blocks.\n",
    "\n",
    "For other model types, see the [Keras NLP documentation](https://keras.io/api/keras_nlp/models/bert/bert_classifier/)."
   ]
  },
  {
   "cell_type": "code",
   "execution_count": 6,
   "id": "66c07033-70a7-4a40-9d45-5a8ae914aba8",
   "metadata": {
    "id": "66c07033-70a7-4a40-9d45-5a8ae914aba8",
    "tags": []
   },
   "outputs": [],
   "source": [
    "classifier = keras_nlp.models.BertClassifier.from_preset(\n",
    "    \"bert_tiny_en_uncased_sst2\",\n",
    ")"
   ]
  },
  {
   "cell_type": "markdown",
   "id": "26dc13b0-7e28-409a-8902-0b0d3920e37c",
   "metadata": {},
   "source": [
    "We use adamw optimizer with a warm-up period. See [this paper](https://arxiv.org/abs/1905.05583) for a general guideline of BERT finetuning"
   ]
  },
  {
   "cell_type": "code",
   "execution_count": 7,
   "id": "7c5730a4-a354-404b-8b74-5b041af0cd5a",
   "metadata": {
    "id": "7c5730a4-a354-404b-8b74-5b041af0cd5a",
    "tags": []
   },
   "outputs": [],
   "source": [
    "epochs = 5\n",
    "steps_per_epoch = tf.data.experimental.cardinality(train_ds).numpy()\n",
    "num_train_steps = steps_per_epoch * epochs\n",
    "num_warmup_steps = int(0.1 * num_train_steps)\n",
    "\n",
    "warmup_tgt = 3e-5\n",
    "scheduler = tf.keras.optimizers.schedules.CosineDecay(\n",
    "    0.0,\n",
    "    num_train_steps,\n",
    "    warmup_target=warmup_tgt,\n",
    "    warmup_steps=num_warmup_steps,\n",
    ")\n",
    "\n",
    "optimizer = tf.keras.optimizers.AdamW(learning_rate=scheduler)"
   ]
  },
  {
   "cell_type": "code",
   "execution_count": 8,
   "id": "f34cc4b3-4a58-412e-97d0-4912c942e5ae",
   "metadata": {
    "id": "f34cc4b3-4a58-412e-97d0-4912c942e5ae",
    "tags": []
   },
   "outputs": [],
   "source": [
    "classifier.compile(\n",
    "    optimizer=optimizer,\n",
    "    loss=tf.keras.losses.SparseCategoricalCrossentropy(from_logits=True),\n",
    "    metrics=[tf.metrics.SparseCategoricalAccuracy()],\n",
    ")"
   ]
  },
  {
   "cell_type": "code",
   "execution_count": 9,
   "id": "029e9ecb-db92-4aae-a031-fd6bfa3754c1",
   "metadata": {
    "colab": {
     "base_uri": "https://localhost:8080/"
    },
    "id": "029e9ecb-db92-4aae-a031-fd6bfa3754c1",
    "outputId": "fc2b5f5f-a01d-495c-ed64-bdf634512ef4",
    "tags": []
   },
   "outputs": [
    {
     "name": "stdout",
     "output_type": "stream",
     "text": [
      "Epoch 1/5\n",
      "625/625 [==============================] - 97s 140ms/step - loss: 0.3990 - sparse_categorical_accuracy: 0.8232 - val_loss: 0.3382 - val_sparse_categorical_accuracy: 0.8566\n",
      "Epoch 2/5\n",
      "625/625 [==============================] - 58s 93ms/step - loss: 0.3137 - sparse_categorical_accuracy: 0.8680 - val_loss: 0.3113 - val_sparse_categorical_accuracy: 0.8698\n",
      "Epoch 3/5\n",
      "625/625 [==============================] - 56s 89ms/step - loss: 0.2751 - sparse_categorical_accuracy: 0.8879 - val_loss: 0.2982 - val_sparse_categorical_accuracy: 0.8802\n",
      "Epoch 4/5\n",
      "625/625 [==============================] - 56s 90ms/step - loss: 0.2497 - sparse_categorical_accuracy: 0.9000 - val_loss: 0.2967 - val_sparse_categorical_accuracy: 0.8834\n",
      "Epoch 5/5\n",
      "625/625 [==============================] - 56s 89ms/step - loss: 0.2348 - sparse_categorical_accuracy: 0.9078 - val_loss: 0.2963 - val_sparse_categorical_accuracy: 0.8830\n"
     ]
    }
   ],
   "source": [
    "FILE_PATH = \"./model\"\n",
    "\n",
    "checkpoint_cb = keras.callbacks.ModelCheckpoint(\n",
    "    FILE_PATH,\n",
    "    monitor=\"val_loss\",\n",
    "    save_best_only=True,\n",
    ")\n",
    "\n",
    "history = classifier.fit(\n",
    "    x=train_ds, validation_data=val_ds, epochs=epochs, callbacks=[checkpoint_cb]\n",
    ")"
   ]
  },
  {
   "cell_type": "markdown",
   "id": "d5b92e8a-fd0e-40de-a1e1-a91de3c0b256",
   "metadata": {
    "id": "d5b92e8a-fd0e-40de-a1e1-a91de3c0b256"
   },
   "source": [
    "---"
   ]
  },
  {
   "cell_type": "markdown",
   "id": "0960b150-272c-4de9-972c-57356d918a1f",
   "metadata": {
    "id": "0960b150-272c-4de9-972c-57356d918a1f"
   },
   "source": [
    "## Use the Learning Interpretability Tool\n",
    "\n",
    "Let's start using the Learning Interpretability Tool. We use LIT for our Keras model, but please note that LIT itself is framework agnostic.\n",
    "\n",
    "<img src=\"https://pair-code.github.io/lit/documentation/_images/lit-system-diagram.svg\" width=\"1084\">\n",
    "\n",
    "In this notebook, We'll configure two LIT objects: Dataset and Model.\n",
    "\n",
    "### Dataset\n",
    "Datasets are lists of examples, with associated type information following LIT’s type system.\n",
    "\n",
    "- `spec()` should return a flat dict that describes the fields in each example. Note that each item is typed using LIT types. See [the documentation about the LIT types](https://pair-code.github.io/lit/documentation/api.html#available-types) for more details.\n",
    "- `self._examples` should be a list of flat dicts, conforming to `spec()`\n",
    "\n",
    "In this case, we convert `tf.data.Dataset` object to LIT Dataset by iterating through it.\n",
    "\n",
    "LIT operates on all examples loaded in the datasets you include in your LIT server. Therefore, you should take care to use dataset sizes that can fit into memory on your backend server and can be displayed in the browser.\n",
    "\n",
    "Implementations should subclass [Dataset](https://github.com/PAIR-code/lit/blob/main/lit_nlp/api/dataset.py). Usually, this is just a few lines of code like the example below."
   ]
  },
  {
   "cell_type": "code",
   "execution_count": 10,
   "id": "17ea1c05-723f-4c7b-becb-f813a6d565bc",
   "metadata": {
    "id": "17ea1c05-723f-4c7b-becb-f813a6d565bc",
    "tags": []
   },
   "outputs": [],
   "source": [
    "NUM_DATA = 100  # Get small samples\n",
    "LABELS = [\"negative\", \"positive\"]\n",
    "\n",
    "\n",
    "class ImdbSentimentData(lit_dataset.Dataset):\n",
    "\n",
    "    def __init__(self, dataset: tf.data.Dataset):\n",
    "        data_array = list(\n",
    "            dataset.shuffle(dataset.cardinality()).as_numpy_iterator()\n",
    "        )\n",
    "        texts, targets = [], []\n",
    "        for features, labels in data_array:\n",
    "            texts.extend([f.decode() for f in features if len(f.decode())])\n",
    "            targets.extend(labels)\n",
    "        # Store as a list of dicts, conforming to self.spec()\n",
    "        self._examples = [\n",
    "            {\n",
    "                \"text\": text,\n",
    "                \"label\": LABELS[1] if target else LABELS[0],\n",
    "            }\n",
    "            for text, target in zip(texts[:NUM_DATA], targets[:NUM_DATA])\n",
    "        ]\n",
    "\n",
    "    def spec(self):\n",
    "        return {\n",
    "            \"text\": lit_types.TextSegment(),\n",
    "            \"label\": lit_types.CategoryLabel(vocab=LABELS),\n",
    "        }"
   ]
  },
  {
   "cell_type": "markdown",
   "id": "a586f8a6-706e-4fa1-8a50-71734badd5a3",
   "metadata": {},
   "source": [
    "### Model\n",
    "\n",
    "Models are functions that take inputs and produce outputs, with associated type information following LIT’s type system. \n",
    "\n",
    "The core API consists of three methods:\n",
    "- `input_spec()` should return a flat dict that describes necessary input fields. Here we define `\"text\"` and `\"label\"`.\n",
    "- `output_spec()` should return a flat dict that describes the model’s predictions and any additional outputs. In our case, we use the `MulticlassPreds` type.\n",
    "- `predict()` should take a sequence of inputs (satisfying `input_spec()`) and yields a parallel sequence of outputs matching `output_spec()`.\n",
    "\n",
    "Implementations should subclass [Model](https://github.com/PAIR-code/lit/blob/main/lit_nlp/api/model.py). \n",
    "\n",
    "With this simple Model setup, we can use a black-box interpretability method, LIME, since it just pays attention to inputs and outputs."
   ]
  },
  {
   "cell_type": "code",
   "execution_count": 11,
   "id": "9db7866b-43b9-4bb6-b6e1-3b7e07d15911",
   "metadata": {
    "id": "9db7866b-43b9-4bb6-b6e1-3b7e07d15911",
    "tags": []
   },
   "outputs": [],
   "source": [
    "class BertSentimentModel(lit_model.Model):\n",
    "\n",
    "    def __init__(self, model: tf.keras.Model):\n",
    "        self._model = model\n",
    "\n",
    "    def predict(self, inputs: Iterable[JsonDict]) -> Iterable[JsonDict]:\n",
    "        examples = [d[\"text\"] for d in inputs]\n",
    "        tokens = self._model.preprocessor(examples)\n",
    "        logits = self._model(tokens)\n",
    "        probs = tf.keras.activations.sigmoid(logits)\n",
    "        return [{\"prob\": prob.numpy()} for prob in probs]\n",
    "\n",
    "    def input_spec(self) -> Spec:\n",
    "        return {\n",
    "            \"text\": lit_types.TextSegment(),\n",
    "            \"label\": lit_types.CategoryLabel(required=False, vocab=LABELS),\n",
    "        }\n",
    "\n",
    "    def output_spec(self) -> Spec:\n",
    "        return {\n",
    "            \"prob\": lit_types.MulticlassPreds(vocab=LABELS, parent=\"label\"),\n",
    "        }"
   ]
  },
  {
   "cell_type": "markdown",
   "id": "2ac33808-5fc6-4bbe-be62-2b7c40696949",
   "metadata": {},
   "source": [
    "Now let's create a LIT widget in the notebook."
   ]
  },
  {
   "cell_type": "code",
   "execution_count": 13,
   "id": "9a9bd33b-2740-453e-843f-0a6eadaee0e6",
   "metadata": {
    "colab": {
     "base_uri": "https://localhost:8080/"
    },
    "id": "9a9bd33b-2740-453e-843f-0a6eadaee0e6",
    "outputId": "6996d79a-ae5f-4a6a-bee0-bf17a57d1a5c",
    "tags": []
   },
   "outputs": [
    {
     "name": "stderr",
     "output_type": "stream",
     "text": [
      "WARNING:absl:Unable to infer init spec for model 'BertSentimentModel'. Unsupported type '<class 'keras.src.engine.training.Model'>' for parameter 'model' of '__init__'. If possible (e.g., this parameter is Optional), please implement a spec literal instead of using inferencing.\n",
      "WARNING:absl:Unable to infer init spec for dataset 'ImdbSentimentData'. Unsupported type '<class 'tensorflow.python.data.ops.dataset_ops.DatasetV2'>' for parameter 'dataset' of '__init__'. If possible (e.g., this parameter is Optional), please implement a spec literal instead of using inferencing.\n",
      "WARNING:absl:Unable to infer init spec for dataset 'NoneDataset'. Unable to infer a type for parameter 'models' of '__init__'. Please add a type hint or default value, or implement a Spec literal.\n",
      "127.0.0.1 - - [09/Sep/2024 10:58:49] \"GET / HTTP/1.1\" 200 1408\n",
      "127.0.0.1 - - [09/Sep/2024 10:58:49] \"GET /main.js HTTP/1.1\" 200 2024211\n",
      "127.0.0.1 - - [09/Sep/2024 10:58:50] \"GET /static/favicon.png HTTP/1.1\" 200 13257\n",
      "127.0.0.1 - - [09/Sep/2024 10:58:50] \"POST /get_info HTTP/1.1\" 200 24099\n",
      "127.0.0.1 - - [09/Sep/2024 10:58:50] \"POST /get_dataset?dataset_name=acllmdb HTTP/1.1\" 200 161614\n",
      "127.0.0.1 - - [09/Sep/2024 10:58:50] \"GET /static/onboarding_1_welcome.gif HTTP/1.1\" 200 584363\n",
      "127.0.0.1 - - [09/Sep/2024 10:58:51] \"POST /get_interpretations?model=BERT%20classifier&dataset_name=acllmdb&interpreter=classification&do_predict=1 HTTP/1.1\" 200 17465\n",
      "127.0.0.1 - - [09/Sep/2024 10:58:51] \"POST /push_ui_state?dataset_name=acllmdb HTTP/1.1\" 200 4\n",
      "127.0.0.1 - - [09/Sep/2024 10:58:51] \"POST /get_metrics?model=BERT%20classifier&dataset_name=acllmdb&metrics=multiclass,paired&do_predict=1 HTTP/1.1\" 200 162\n",
      "127.0.0.1 - - [09/Sep/2024 10:59:09] \"GET /?models=BERT+classifier&selection=06a2e1cbb821990d0a612a968d3bf634&primary=06a2e1cbb821990d0a612a968d3bf634&dataset=acllmdb&layout=rich_layout&lower_tab=Explanations HTTP/1.1\" 200 1408\n"
     ]
    }
   ],
   "source": [
    "# Create the LIT widget with the model and dataset to analyze.\n",
    "datasets = {\"acllmdb\": ImdbSentimentData(test_ds)}\n",
    "models = {\"BERT classifier\": BertSentimentModel(classifier)}\n",
    "layouts = {\"default\": \"default\"}\n",
    "\n",
    "# Uncomment below when you rerun the widget.\n",
    "# widget.stop()\n",
    "widget = notebook.LitWidget(models, datasets, port=8890)"
   ]
  },
  {
   "cell_type": "markdown",
   "id": "81fb6102-b772-4027-bdb3-12e604fa9286",
   "metadata": {},
   "source": [
    "You can render the widget using the `render()` method.<br>\n",
    "The widget can be embedded in the notebook, but let's add `open_in_new_tab=True` and check the widget on another tab.\n",
    "\n",
    "Feel free to play around with the UI and check how the concepts we defined above are linked to the LIT UI."
   ]
  },
  {
   "cell_type": "code",
   "execution_count": 14,
   "id": "a423cb4d-87e5-4dd2-8bba-1c45dff1c221",
   "metadata": {
    "colab": {
     "base_uri": "https://localhost:8080/",
     "height": 621
    },
    "id": "a423cb4d-87e5-4dd2-8bba-1c45dff1c221",
    "outputId": "7fea223f-cabe-43dc-e2f5-39138d9f7c4f",
    "tags": []
   },
   "outputs": [
    {
     "data": {
      "text/html": [
       "\n",
       "      <a href=\"javascript:void(0);\" id=\"lit-frame-8a5dce246d1ce931\"></a>\n",
       "      <script>\n",
       "        (function() {\n",
       "          const urlStr = \"/proxy/8890/\" + '?'\n",
       "          const url = new URL(urlStr, window.location);\n",
       "          const port = 0;\n",
       "          if (port) {\n",
       "            url.port = port;\n",
       "          }\n",
       "          const a = document.getElementById(\"lit-frame-8a5dce246d1ce931\");\n",
       "          a.innerHTML = url;\n",
       "          a.onclick = (e) => window.open(url, \"_blank\");\n",
       "          window.open(url, \"_blank\");\n",
       "        })();\n",
       "      </script>\n",
       "    "
      ],
      "text/plain": [
       "<IPython.core.display.HTML object>"
      ]
     },
     "metadata": {},
     "output_type": "display_data"
    }
   ],
   "source": [
    "# Render the widget\n",
    "widget.render(height=600, open_in_new_tab=True)"
   ]
  },
  {
   "cell_type": "markdown",
   "id": "a9282849-d149-4c5f-b2d4-0f31c050f1d8",
   "metadata": {
    "tags": []
   },
   "source": [
    "### Customize the Layout\n",
    "\n",
    "The UI looks handy, doesn't it?<br>\n",
    "But you might want to change the layout a bit. No worries! The LIT UI is customizable.<br>\n",
    "\n",
    "Let's switch to a richer layout from the prebuild layout catalog. <br>\n",
    "We'll keep the original UI in case you want to switch back by passing multiple layouts in a dictionary.\n"
   ]
  },
  {
   "cell_type": "code",
   "execution_count": 15,
   "id": "d315295b-6a3d-421b-b96c-5a86b30e7f00",
   "metadata": {
    "tags": []
   },
   "outputs": [],
   "source": [
    "layouts = {\n",
    "    \"rich_layout\": layout.THREE_PANEL_LAYOUT,\n",
    "    \"default\": notebook.LIT_NOTEBOOK_LAYOUT,\n",
    "}"
   ]
  },
  {
   "cell_type": "code",
   "execution_count": 16,
   "id": "fb366850-63c9-435d-92d6-a6f4a72d3008",
   "metadata": {
    "tags": []
   },
   "outputs": [
    {
     "name": "stderr",
     "output_type": "stream",
     "text": [
      "WARNING:absl:Unable to infer init spec for model 'BertSentimentModel'. Unsupported type '<class 'keras.src.engine.training.Model'>' for parameter 'model' of '__init__'. If possible (e.g., this parameter is Optional), please implement a spec literal instead of using inferencing.\n",
      "WARNING:absl:Unable to infer init spec for dataset 'ImdbSentimentData'. Unsupported type '<class 'tensorflow.python.data.ops.dataset_ops.DatasetV2'>' for parameter 'dataset' of '__init__'. If possible (e.g., this parameter is Optional), please implement a spec literal instead of using inferencing.\n",
      "WARNING:absl:Unable to infer init spec for dataset 'NoneDataset'. Unable to infer a type for parameter 'models' of '__init__'. Please add a type hint or default value, or implement a Spec literal.\n"
     ]
    },
    {
     "data": {
      "text/html": [
       "\n",
       "      <a href=\"javascript:void(0);\" id=\"lit-frame-8c41c97cf711a8db\"></a>\n",
       "      <script>\n",
       "        (function() {\n",
       "          const urlStr = \"/proxy/8890/\" + '?'\n",
       "          const url = new URL(urlStr, window.location);\n",
       "          const port = 0;\n",
       "          if (port) {\n",
       "            url.port = port;\n",
       "          }\n",
       "          const a = document.getElementById(\"lit-frame-8c41c97cf711a8db\");\n",
       "          a.innerHTML = url;\n",
       "          a.onclick = (e) => window.open(url, \"_blank\");\n",
       "          window.open(url, \"_blank\");\n",
       "        })();\n",
       "      </script>\n",
       "    "
      ],
      "text/plain": [
       "<IPython.core.display.HTML object>"
      ]
     },
     "metadata": {},
     "output_type": "display_data"
    },
    {
     "name": "stderr",
     "output_type": "stream",
     "text": [
      "127.0.0.1 - - [09/Sep/2024 10:59:10] \"POST /get_info HTTP/1.1\" 200 26045\n",
      "127.0.0.1 - - [09/Sep/2024 10:59:10] \"POST /get_dataset?dataset_name=acllmdb HTTP/1.1\" 200 161614\n",
      "WARNING:absl:State tracker: unable to find primary_id 06a2e1cbb821990d0a612a968d3bf634\n",
      "127.0.0.1 - - [09/Sep/2024 10:59:10] \"POST /push_ui_state?dataset_name=acllmdb HTTP/1.1\" 200 4\n",
      "127.0.0.1 - - [09/Sep/2024 10:59:11] \"POST /get_interpretations?model=BERT%20classifier&dataset_name=acllmdb&interpreter=classification&do_predict=1 HTTP/1.1\" 200 17465\n",
      "127.0.0.1 - - [09/Sep/2024 10:59:11] \"POST /get_metrics?model=BERT%20classifier&dataset_name=acllmdb&metrics=multiclass,paired&do_predict=1 HTTP/1.1\" 200 162\n",
      "127.0.0.1 - - [09/Sep/2024 10:59:14] \"POST /get_info HTTP/1.1\" 200 26045\n",
      "127.0.0.1 - - [09/Sep/2024 10:59:14] \"POST /get_dataset?dataset_name=acllmdb HTTP/1.1\" 200 161614\n",
      "127.0.0.1 - - [09/Sep/2024 10:59:15] \"POST /push_ui_state?dataset_name=acllmdb HTTP/1.1\" 200 4\n",
      "127.0.0.1 - - [09/Sep/2024 10:59:15] \"POST /get_interpretations?model=BERT%20classifier&dataset_name=acllmdb&interpreter=classification&do_predict=1 HTTP/1.1\" 200 17465\n",
      "127.0.0.1 - - [09/Sep/2024 10:59:15] \"POST /get_metrics?model=BERT%20classifier&dataset_name=acllmdb&metrics=multiclass,paired&do_predict=1 HTTP/1.1\" 200 162\n",
      "127.0.0.1 - - [09/Sep/2024 10:59:19] \"POST /push_ui_state?dataset_name=acllmdb HTTP/1.1\" 200 4\n",
      "127.0.0.1 - - [09/Sep/2024 10:59:19] \"POST /get_preds?model=BERT%20classifier&dataset_name=acllmdb&requested_types=MulticlassPreds,RegressionScore&requested_fields= HTTP/1.1\" 200 53\n",
      "WARNING:absl:Attmepting to retrieve 256 (of 257) predictions from the cache where the cache key is None - this can be from a missing or empty example id. These will call model.predict() on this and subsequent calls.\n",
      "127.0.0.1 - - [09/Sep/2024 10:59:24] \"POST /get_interpretations?model=BERT%20classifier&dataset_name=acllmdb&interpreter=LIME&do_predict=1 HTTP/1.1\" 200 23672\n",
      "127.0.0.1 - - [09/Sep/2024 10:59:37] \"POST /push_ui_state?dataset_name=acllmdb HTTP/1.1\" 200 4\n",
      "127.0.0.1 - - [09/Sep/2024 10:59:37] \"POST /get_preds?model=BERT%20classifier&dataset_name=acllmdb&requested_types=MulticlassPreds,RegressionScore&requested_fields= HTTP/1.1\" 200 52\n",
      "WARNING:absl:Attmepting to retrieve 256 (of 257) predictions from the cache where the cache key is None - this can be from a missing or empty example id. These will call model.predict() on this and subsequent calls.\n",
      "127.0.0.1 - - [09/Sep/2024 10:59:37] \"POST /get_interpretations?model=BERT%20classifier&dataset_name=acllmdb&interpreter=LIME&do_predict=1 HTTP/1.1\" 200 3758\n",
      "WARNING:absl:Attmepting to retrieve 256 (of 257) predictions from the cache where the cache key is None - this can be from a missing or empty example id. These will call model.predict() on this and subsequent calls.\n",
      "127.0.0.1 - - [09/Sep/2024 10:59:38] \"POST /get_interpretations?model=BERT%20classifier&dataset_name=acllmdb&interpreter=LIME&do_predict=1 HTTP/1.1\" 200 3757\n",
      "WARNING:absl:Attmepting to retrieve 256 (of 257) predictions from the cache where the cache key is None - this can be from a missing or empty example id. These will call model.predict() on this and subsequent calls.\n",
      "127.0.0.1 - - [09/Sep/2024 10:59:38] \"POST /get_interpretations?model=BERT%20classifier&dataset_name=acllmdb&interpreter=LIME&do_predict=1 HTTP/1.1\" 200 3764\n",
      "127.0.0.1 - - [09/Sep/2024 10:59:42] \"POST /get_preds?model=BERT%20classifier&dataset_name=acllmdb&requested_types=MulticlassPreds,RegressionScore&requested_fields= HTTP/1.1\" 200 53\n",
      "WARNING:absl:Attmepting to retrieve 256 (of 257) predictions from the cache where the cache key is None - this can be from a missing or empty example id. These will call model.predict() on this and subsequent calls.\n",
      "127.0.0.1 - - [09/Sep/2024 10:59:43] \"POST /get_interpretations?model=BERT%20classifier&dataset_name=acllmdb&interpreter=LIME&do_predict=1 HTTP/1.1\" 200 23707\n",
      "127.0.0.1 - - [09/Sep/2024 10:59:43] \"POST /push_ui_state?dataset_name=acllmdb HTTP/1.1\" 200 4\n",
      "WARNING:absl:Attmepting to retrieve 256 (of 257) predictions from the cache where the cache key is None - this can be from a missing or empty example id. These will call model.predict() on this and subsequent calls.\n",
      "127.0.0.1 - - [09/Sep/2024 10:59:44] \"POST /get_interpretations?model=BERT%20classifier&dataset_name=acllmdb&interpreter=LIME&do_predict=1 HTTP/1.1\" 200 23671\n",
      "WARNING:absl:Attmepting to retrieve 256 (of 257) predictions from the cache where the cache key is None - this can be from a missing or empty example id. These will call model.predict() on this and subsequent calls.\n",
      "127.0.0.1 - - [09/Sep/2024 10:59:45] \"POST /get_interpretations?model=BERT%20classifier&dataset_name=acllmdb&interpreter=LIME&do_predict=1 HTTP/1.1\" 200 23650\n",
      "127.0.0.1 - - [09/Sep/2024 10:59:45] \"POST /push_ui_state?dataset_name=acllmdb HTTP/1.1\" 200 4\n",
      "WARNING:absl:Attmepting to retrieve 256 (of 257) predictions from the cache where the cache key is None - this can be from a missing or empty example id. These will call model.predict() on this and subsequent calls.\n",
      "127.0.0.1 - - [09/Sep/2024 10:59:45] \"POST /get_interpretations?model=BERT%20classifier&dataset_name=acllmdb&interpreter=LIME&do_predict=1 HTTP/1.1\" 200 3740\n",
      "WARNING:absl:Attmepting to retrieve 256 (of 257) predictions from the cache where the cache key is None - this can be from a missing or empty example id. These will call model.predict() on this and subsequent calls.\n",
      "127.0.0.1 - - [09/Sep/2024 10:59:46] \"POST /get_interpretations?model=BERT%20classifier&dataset_name=acllmdb&interpreter=LIME&do_predict=1 HTTP/1.1\" 200 3747\n",
      "127.0.0.1 - - [09/Sep/2024 10:59:46] \"POST /get_preds?model=BERT%20classifier&dataset_name=acllmdb&requested_types=MulticlassPreds,RegressionScore&requested_fields= HTTP/1.1\" 200 52\n",
      "WARNING:absl:Attmepting to retrieve 256 (of 257) predictions from the cache where the cache key is None - this can be from a missing or empty example id. These will call model.predict() on this and subsequent calls.\n",
      "127.0.0.1 - - [09/Sep/2024 10:59:47] \"POST /get_interpretations?model=BERT%20classifier&dataset_name=acllmdb&interpreter=LIME&do_predict=1 HTTP/1.1\" 200 3747\n",
      "WARNING:absl:Attmepting to retrieve 256 (of 257) predictions from the cache where the cache key is None - this can be from a missing or empty example id. These will call model.predict() on this and subsequent calls.\n",
      "127.0.0.1 - - [09/Sep/2024 10:59:47] \"POST /get_interpretations?model=BERT%20classifier&dataset_name=acllmdb&interpreter=LIME&do_predict=1 HTTP/1.1\" 200 3751\n"
     ]
    }
   ],
   "source": [
    "widget.stop()\n",
    "widget = notebook.LitWidget(models, datasets, layouts=layouts, port=8890)\n",
    "widget.render(height=600, open_in_new_tab=True)"
   ]
  },
  {
   "cell_type": "markdown",
   "id": "678959f2-f8c1-4581-b713-75ea91281c04",
   "metadata": {},
   "source": [
    "If you want to customize the UI, refer to the [documentation](https://pair-code.github.io/lit/documentation/api.html#customizing-the-layout) and the [UI definition](https://github.com/PAIR-code/lit/blob/main/lit_nlp/api/layout.py#L173) we just used."
   ]
  },
  {
   "cell_type": "markdown",
   "id": "bafc329e-a850-4549-bff8-c3334210b181",
   "metadata": {},
   "source": [
    "### Explore the LIME explanation\n",
    "Now, let's investigate the LIME explanation using the UI we just rendered.\n",
    "\n",
    "[LIME](https://arxiv.org/abs/1602.04938) is a widely used black-box (or model-agnostic) explainability method. Since it is a black-box method, we can use LIME for any ML models (or, more generally, any functions that have inputs and outputs) to get the saliency.\n",
    "\n",
    "1. Select a text input from the left panel.\n",
    "2. On the upper-right panel, check the predicted probabilities for the `negative` and `positive` classes, the label (indicated as `T`), and the predicted class (`P`).\n",
    "3. On the lower right panel, select the `Explanations` tab.\n",
    "4. Click the arrow symbol on the right-hand side of `LIME.`\n",
    "5. Saliency scores appear on each word. If the coloring is too pale, raise the `Gamma` score until you can see the color clearly.\n",
    "6. Confirm that the predicted class is already set as `Class to explain`.\n",
    "6. Mouse over an important word (colored in a vivid red or blue color), and check the score. A positive score means a positive contribution to the label (to the `positive` class in the screenshot below), and a negative score means a negative contribution."
   ]
  },
  {
   "cell_type": "markdown",
   "id": "7386365c-b1c2-4315-b6e4-ed253e227162",
   "metadata": {},
   "source": [
    "<img width=\"800\" src=\"https://github.com/user-attachments/assets/05623753-bdf8-4aec-88c6-3e7d0718576a\">\n"
   ]
  },
  {
   "cell_type": "markdown",
   "id": "e00957a5-f0fb-47dd-bc02-9099a942870a",
   "metadata": {
    "id": "e00957a5-f0fb-47dd-bc02-9099a942870a"
   },
   "source": [
    "---"
   ]
  },
  {
   "cell_type": "markdown",
   "id": "5dac8692-c62d-4193-a913-2439c46e7c21",
   "metadata": {},
   "source": [
    "## Add Gradient-based Saliency Methods\n",
    "\n",
    "Black-box methods like LIME are flexible and easy to use since they don't require access to model internals. However, we can understand the model behavior more delicately by utilizing model internals, like gradients.\n",
    "\n",
    "The core idea of gradient-based interpretability is to compute the gradient of outputs, $y$, with respect to each input, $x$.\n",
    "\n",
    "In text classification, outputs are logits produced by the last layer of the model, and inputs are token embeddings (in image classification, inputs should be image pixels)."
   ]
  },
  {
   "cell_type": "markdown",
   "id": "899c34b7-e274-49ef-8f39-62960e8341f2",
   "metadata": {},
   "source": [
    "### Dissect the Model\n",
    "\n",
    "Let's look at our BERT model and dissect it for this purpose."
   ]
  },
  {
   "cell_type": "code",
   "execution_count": 17,
   "id": "f37c79ca-23fd-4fe7-8cbc-7f851b912125",
   "metadata": {
    "tags": []
   },
   "outputs": [
    {
     "data": {
      "image/png": "[encoded data removed]",
      "text/plain": [
       "<IPython.core.display.Image object>"
      ]
     },
     "execution_count": 17,
     "metadata": {},
     "output_type": "execute_result"
    }
   ],
   "source": [
    "tf.keras.utils.plot_model(classifier, show_shapes=True, show_layer_names=True)"
   ]
  },
  {
   "cell_type": "markdown",
   "id": "456931a3-af6d-465a-a2a2-e6ce4167ddb7",
   "metadata": {},
   "source": [
    "Let's take a look at the layers in the model."
   ]
  },
  {
   "cell_type": "code",
   "execution_count": 18,
   "id": "5186f606-694f-4ad1-a23b-126283c274f8",
   "metadata": {
    "tags": []
   },
   "outputs": [
    {
     "data": {
      "text/plain": [
       "[<keras.src.engine.input_layer.InputLayer at 0x7f6e6e5fda20>,\n",
       " <keras.src.engine.input_layer.InputLayer at 0x7f6e6e5fe560>,\n",
       " <keras.src.engine.input_layer.InputLayer at 0x7f6e6e75dff0>,\n",
       " <keras_nlp.src.models.bert.bert_backbone.BertBackbone at 0x7f6e6e75e0b0>,\n",
       " <keras.src.layers.regularization.dropout.Dropout at 0x7f6e6e75c0d0>,\n",
       " <keras.src.layers.core.dense.Dense at 0x7f6e6e858130>]"
      ]
     },
     "execution_count": 18,
     "metadata": {},
     "output_type": "execute_result"
    }
   ],
   "source": [
    "classifier.layers"
   ]
  },
  {
   "cell_type": "markdown",
   "id": "c6614d7c-5c26-4187-9551-141cf1d01905",
   "metadata": {},
   "source": [
    "It looks like the main model is nested in the `BertBackbone` layer (`classifier.layers[3]`)."
   ]
  },
  {
   "cell_type": "code",
   "execution_count": 19,
   "id": "caa861ca-11a8-4964-94b7-ef00516d8543",
   "metadata": {
    "id": "caa861ca-11a8-4964-94b7-ef00516d8543",
    "outputId": "65eaae3a-a2fc-4092-b338-89f50acfec34",
    "tags": []
   },
   "outputs": [
    {
     "data": {
      "text/plain": [
       "[<keras.src.engine.input_layer.InputLayer at 0x7f6e6e75dff0>,\n",
       " <keras.src.layers.core.embedding.Embedding at 0x7f6e6e5fcb50>,\n",
       " <keras.src.engine.input_layer.InputLayer at 0x7f6e6e5fe560>,\n",
       " <keras_nlp.src.layers.position_embedding.PositionEmbedding at 0x7f6e6e5fcf40>,\n",
       " <keras.src.layers.core.embedding.Embedding at 0x7f6e6e5fd6c0>,\n",
       " <keras.src.layers.merging.add.Add at 0x7f6e6e5fd360>,\n",
       " <keras.src.layers.normalization.layer_normalization.LayerNormalization at 0x7f6e6e5e28f0>,\n",
       " <keras.src.layers.regularization.dropout.Dropout at 0x7f6e6e5e2f50>,\n",
       " <keras.src.engine.input_layer.InputLayer at 0x7f6e6e5fda20>,\n",
       " <keras_nlp.src.layers.transformer_encoder.TransformerEncoder at 0x7f6e6e74eb60>,\n",
       " <keras_nlp.src.layers.transformer_encoder.TransformerEncoder at 0x7f6e6f0ecd00>,\n",
       " <keras.src.layers.core.tf_op_layer.SlicingOpLambda at 0x7f6e6e818280>,\n",
       " <keras.src.layers.core.dense.Dense at 0x7f6e6e819540>]"
      ]
     },
     "execution_count": 19,
     "metadata": {},
     "output_type": "execute_result"
    }
   ],
   "source": [
    "classifier.layers[3].layers"
   ]
  },
  {
   "cell_type": "markdown",
   "id": "8f85789e-4406-48b2-ad29-44cda40c4a13",
   "metadata": {},
   "source": [
    "Let's plot the nested `BertBackbone` to see the architecture."
   ]
  },
  {
   "cell_type": "code",
   "execution_count": 20,
   "id": "688348da-ddcd-4402-9d8d-d55315422226",
   "metadata": {
    "id": "688348da-ddcd-4402-9d8d-d55315422226",
    "outputId": "b1290b4e-904e-46dd-e54d-767b600857f3",
    "tags": []
   },
   "outputs": [
    {
     "data": {
      "image/png": "[encoded data removed]",
      "text/plain": [
       "<IPython.core.display.Image object>"
      ]
     },
     "execution_count": 20,
     "metadata": {},
     "output_type": "execute_result"
    }
   ],
   "source": [
    "tf.keras.utils.plot_model(\n",
    "    classifier.layers[3], show_shapes=True, show_layer_names=True\n",
    ")"
   ]
  },
  {
   "cell_type": "markdown",
   "id": "3b414cab-6057-473b-b216-4cb3bc17b72e",
   "metadata": {},
   "source": [
    "We want to get token embeddings. It seems like the output of the `token_embedding` layer (`classifier.layers[3].layers[1]`) produces the token embeddings. However, the final embedding is produced by the `add_1` layer (`classifier.layers[3].layers[5]`) by combining positional encoding.<br>\n",
    "Also, a Layer Normalization layer (`classifier.layers[3].layers[6]`) follows it. This embedding seems to be a good target for gradient-based interpretability.\n",
    "\n",
    "Let's define a standalone module until this layer. Here, we can find nested layers. Let's visualize the graph."
   ]
  },
  {
   "cell_type": "code",
   "execution_count": 21,
   "id": "25d881e9-dc4b-4e59-941e-720930db6a8f",
   "metadata": {
    "id": "25d881e9-dc4b-4e59-941e-720930db6a8f",
    "tags": []
   },
   "outputs": [],
   "source": [
    "embedding_model = tf.keras.Model(\n",
    "    inputs=classifier.input, outputs=classifier.layers[3].layers[6].output\n",
    ")"
   ]
  },
  {
   "cell_type": "code",
   "execution_count": 22,
   "id": "b76b9e7b-0a09-4b70-8cea-1b2f24398769",
   "metadata": {
    "id": "b76b9e7b-0a09-4b70-8cea-1b2f24398769",
    "outputId": "e1694dc2-7727-479a-91dd-64bbbf2421c8",
    "tags": []
   },
   "outputs": [
    {
     "data": {
      "image/png": "[encoded data removed]",
      "text/plain": [
       "<IPython.core.display.Image object>"
      ]
     },
     "execution_count": 22,
     "metadata": {},
     "output_type": "execute_result"
    }
   ],
   "source": [
    "tf.keras.utils.plot_model(embedding_model)"
   ]
  },
  {
   "cell_type": "markdown",
   "id": "d892f70d-7c07-47bb-9f27-65f19dccc4fd",
   "metadata": {},
   "source": [
    "The main BERT model follows it. Here, we similarly define a remaining BERT backbone as a standalone module."
   ]
  },
  {
   "cell_type": "code",
   "execution_count": 23,
   "id": "b20d6f95-6327-4cfd-a077-13022ce9197a",
   "metadata": {
    "id": "b20d6f95-6327-4cfd-a077-13022ce9197a",
    "tags": []
   },
   "outputs": [],
   "source": [
    "bert_backbone = tf.keras.Model(\n",
    "    inputs=[\n",
    "        classifier.layers[3].layers[7].input,\n",
    "        classifier.layers[3].layers[8].input,\n",
    "    ],\n",
    "    outputs=classifier.layers[3].layers[-1].output,\n",
    ")"
   ]
  },
  {
   "cell_type": "code",
   "execution_count": 24,
   "id": "6d12e2bf-4e92-4c6a-b9d7-bac832fb3391",
   "metadata": {
    "id": "6d12e2bf-4e92-4c6a-b9d7-bac832fb3391",
    "outputId": "cc46d0b0-a6e6-473c-aa31-bae8a6ccbfca",
    "tags": []
   },
   "outputs": [
    {
     "data": {
      "image/png": "[encoded data removed]",
      "text/plain": [
       "<IPython.core.display.Image object>"
      ]
     },
     "execution_count": 24,
     "metadata": {},
     "output_type": "execute_result"
    }
   ],
   "source": [
    "tf.keras.utils.plot_model(bert_backbone)"
   ]
  },
  {
   "cell_type": "markdown",
   "id": "bc5f3205-033b-48ec-8734-e9e043e4ef4f",
   "metadata": {},
   "source": [
    "Last, we define a classification head, which produces the final logits value from which we calculate the gradients."
   ]
  },
  {
   "cell_type": "code",
   "execution_count": 25,
   "id": "ad23139e-2e1f-415c-86e8-d3094f8bbb1e",
   "metadata": {
    "id": "ad23139e-2e1f-415c-86e8-d3094f8bbb1e",
    "tags": []
   },
   "outputs": [],
   "source": [
    "cls_head = tf.keras.Model(\n",
    "    inputs=classifier.layers[-2].input, outputs=classifier.layers[-1].output\n",
    ")"
   ]
  },
  {
   "cell_type": "code",
   "execution_count": 26,
   "id": "f569b145-e302-4388-b991-df0167ff8ddd",
   "metadata": {
    "id": "f569b145-e302-4388-b991-df0167ff8ddd",
    "outputId": "5548ebc0-a489-4340-f36f-e60a983b6c98",
    "tags": []
   },
   "outputs": [
    {
     "data": {
      "image/png": "[encoded data removed]",
      "text/plain": [
       "<IPython.core.display.Image object>"
      ]
     },
     "execution_count": 26,
     "metadata": {},
     "output_type": "execute_result"
    }
   ],
   "source": [
    "tf.keras.utils.plot_model(cls_head)"
   ]
  },
  {
   "cell_type": "markdown",
   "id": "6aa9223c-8236-4397-9689-7bd261de02f8",
   "metadata": {},
   "source": [
    "We can call these three modules in order to calculate logits from texts. "
   ]
  },
  {
   "cell_type": "code",
   "execution_count": 61,
   "id": "54f3db03-9d56-4c40-af53-9de056e31a6b",
   "metadata": {
    "id": "54f3db03-9d56-4c40-af53-9de056e31a6b",
    "tags": []
   },
   "outputs": [
    {
     "data": {
      "text/plain": [
       "<tf.Tensor: shape=(1, 2), dtype=float32, numpy=array([[ 2.6266904, -2.6779945]], dtype=float32)>"
      ]
     },
     "execution_count": 61,
     "metadata": {},
     "output_type": "execute_result"
    }
   ],
   "source": [
    "data = ImdbSentimentData(test_ds)\n",
    "text = data.examples[0][\"text\"]\n",
    "\n",
    "tokens = classifier._preprocessor(tf.constant([text]))\n",
    "embeddings = embedding_model(tokens)\n",
    "bert_output = bert_backbone([embeddings, tokens[\"padding_mask\"]])\n",
    "logits = cls_head(bert_output)\n",
    "logits"
   ]
  },
  {
   "cell_type": "markdown",
   "id": "3c5a7771-eff9-4f70-a618-8e1b927cebe0",
   "metadata": {},
   "source": [
    "### Compute Gradients\n",
    "In TensorFlow, we can use `tf.GradientTape` context manager to use autograd capability.\n",
    "\n",
    "If you are using other frameworks, please refer to the documentation about autograd to do the same procedure (e.g. [Pytorch](https://pytorch.org/tutorials/beginner/former_torchies/autograd_tutorial.html), [JAX](https://jax.readthedocs.io/en/latest/notebooks/autodiff_cookbook.html))"
   ]
  },
  {
   "cell_type": "code",
   "execution_count": 45,
   "id": "a5f4d7cb-d333-43ab-91bc-8cc451b36161",
   "metadata": {
    "id": "a5f4d7cb-d333-43ab-91bc-8cc451b36161",
    "tags": []
   },
   "outputs": [
    {
     "data": {
      "text/plain": [
       "<tf.Tensor: shape=(1, 512, 128), dtype=float32, numpy=\n",
       "array([[[-1.2266111e-02, -1.7972630e-02, -2.4448384e-02, ...,\n",
       "          8.7134004e-02,  2.7757222e-02, -1.9070851e-02],\n",
       "        [-1.6250003e-03, -7.7768188e-04,  4.9589266e-04, ...,\n",
       "          5.4970878e-04,  2.4117201e-03,  6.9923373e-04],\n",
       "        [-2.1806904e-03, -1.7278483e-03, -7.0573296e-04, ...,\n",
       "         -9.2792936e-04,  9.8060677e-04,  1.1187326e-03],\n",
       "        ...,\n",
       "        [-8.1803725e-04,  1.1070468e-03, -1.2024770e-03, ...,\n",
       "          2.4822948e-06,  2.0791711e-03, -2.3768278e-04],\n",
       "        [-1.0492257e-03, -9.7427116e-04, -3.4040953e-05, ...,\n",
       "         -2.6212356e-04,  9.2613348e-04,  9.1896101e-05],\n",
       "        [-2.2385579e-03, -2.0981238e-03, -1.7014235e-03, ...,\n",
       "          2.0118098e-04,  9.3238708e-04, -2.4278437e-05]]], dtype=float32)>"
      ]
     },
     "execution_count": 45,
     "metadata": {},
     "output_type": "execute_result"
    }
   ],
   "source": [
    "with tf.GradientTape() as tape:\n",
    "    tape.watch(embeddings)\n",
    "    bert_output = bert_backbone([embeddings, tokens[\"padding_mask\"]])\n",
    "    logits = cls_head(bert_output)\n",
    "\n",
    "    indices = tf.argmax(logits, axis=-1)\n",
    "    pred = tf.gather_nd(logits, [[i, idx] for i, idx in enumerate(indices)])\n",
    "\n",
    "input_emb_grads = tape.gradient(pred, embeddings)\n",
    "input_emb_grads"
   ]
  },
  {
   "cell_type": "markdown",
   "id": "259afd3b-3505-4e7d-900f-d5a2fc879e90",
   "metadata": {},
   "source": [
    "### Update LIT Model\n",
    "\n",
    "Looks great! \n",
    "\n",
    "Based on this setup, we can add two gradient-based methods, Gradient Norm and Gradient-dot-Input:\n",
    "\n",
    "#### Gradient Norm\n",
    "Gradient Norm is a simple method in which salience scores are proportional to the L2 norm of the gradient, i.e., the score for a token $i$ is:\n",
    "\n",
    "$S(i)\\propto  \\|  \\nabla _{x_i} \\hat{y} \\| _2$\n",
    "\n",
    "#### Gradient-dot-Input\n",
    "In Gradient-dot-Input, salience scores are proportional to the dot product of the input embeddings and their gradients, i.e., for token $i$, we compute:\n",
    "\n",
    "$S(i)\\propto  x_i \\nabla_{x_i} \\hat{y} $\n",
    "\n",
    "\n",
    "Since we already defined $\\hat{y}$ in the previous model, there are two additional elements we have to produce: $\\nabla _{x_i}$ and $x_i$. \n",
    "- $x_i$: token embedding. This is only required by Gradient-dot-Input.\n",
    "- $\\nabla _{x_i}$: Gradient of each token embedding. This is necessary for both Gradient Norm and Gradient-dot-Input.\n"
   ]
  },
  {
   "cell_type": "markdown",
   "id": "454ecd83-66f8-460a-a7de-86ec75c4bc4d",
   "metadata": {},
   "source": [
    "Let's update the LIT model module to reflect these elements. \n",
    "\n",
    "Here are the key updates we make:\n",
    "- in `__init__()`, we define additional modules discussed above.\n",
    "- `output_spec()` output now contains three additional key-value specs:\n",
    "  - `\"tokens\"`: a list of tokens of shape `(num_tokens)`. For spec, we use `Tokens` LIT type with `parent=\"text\"` to link with the input text.\n",
    "  - `\"input_embedding\"`: token embeddings ($x_i$) of shape `(num_tokens, emb_dim)`. For the spec, we use `TokenEmbeddings` LIT type with `align=\"tokens\"`.\n",
    "  - `\"input_emb_grad\"`: gradients of token embeddings ($\\nabla _{x_i}$) of shape `(num_tokens, emb_dim)`. For the spec, we use `TokenGradients` LIT type with `align=\"tokens\"` and  `grad_for=\"input_embedding\"` to define the link.\n",
    "- `predict()` now computes gradients using the three sub-modules and `tf.GradientTape` discussed above and returns the three additional elements corresponding to the `output_spec()` spec definition. <br>\n",
    "Note that we slice the `tokens`, `impute_embedding` and `input_emb_grad` with `[START_OFFSET : slen - END_OFFSET]` where:\n",
    "  - `START_OFFSET=1` to trim the first `[CLS]` token that doesn't correspond with any elements in the input sentence,\n",
    "  - `END_OFFSET=1` to trim the `[SEP]` token BERT uses after the first sentence. Note that BERT can take a pair of sentences. `[SEP]` is a separator between them, while we only use a single sentence in this text classification example.\n",
    "  - `slen` is the length of input tokens."
   ]
  },
  {
   "cell_type": "code",
   "execution_count": 53,
   "id": "f5277650-f29c-4219-941a-2f6a541a0d54",
   "metadata": {
    "id": "f5277650-f29c-4219-941a-2f6a541a0d54",
    "tags": []
   },
   "outputs": [],
   "source": [
    "START_OFFSET = 1  # offset [CLS] token\n",
    "END_OFFSET = 1  # offset [SEP] token\n",
    "\n",
    "\n",
    "class BertSentimentModel(lit_model.Model):\n",
    "\n",
    "    def __init__(self, model):\n",
    "        self._model = model\n",
    "        ########## MODEL SLICES ##########\n",
    "        self._embedding_model = tf.keras.Model(\n",
    "            inputs=model.input, outputs=model.layers[3].layers[6].output\n",
    "        )\n",
    "        self._bert_backbone = tf.keras.Model(\n",
    "            inputs=[\n",
    "                model.layers[3].layers[7].input,\n",
    "                model.layers[3].layers[8].input,\n",
    "            ],\n",
    "            outputs=model.layers[3].layers[-1].output,\n",
    "        )\n",
    "        self._cls_head = tf.keras.Model(\n",
    "            inputs=classifier.layers[-2].input,\n",
    "            outputs=classifier.layers[-1].output,\n",
    "        )\n",
    "        ##################################\n",
    "\n",
    "    def _detokenize(self, indices):\n",
    "        return [\n",
    "            self._model.preprocessor.tokenizer.vocabulary[idx]\n",
    "            for idx in indices\n",
    "        ]\n",
    "\n",
    "    def predict(self, inputs):\n",
    "        \"\"\"Predict on a stream of examples.\"\"\"\n",
    "        examples = [d[\"text\"] for d in inputs]\n",
    "        tokenized = self._model.preprocessor(examples)\n",
    "        seq_lens = tf.reduce_sum(\n",
    "            tf.cast(tokenized[\"padding_mask\"], tf.int32), axis=-1\n",
    "        )\n",
    "        embeddings = self._embedding_model(tokenized)\n",
    "\n",
    "        ########## COMPUTE GRADIENTS ##########\n",
    "        with tf.GradientTape() as tape:\n",
    "            tape.watch(embeddings)\n",
    "            bert_output = self._bert_backbone(\n",
    "                [embeddings, tokenized[\"padding_mask\"]]\n",
    "            )\n",
    "            logits = self._cls_head(bert_output)\n",
    "\n",
    "            if \"label\" in inputs[0].keys():\n",
    "                indices = [\n",
    "                    1 if inp[\"label\"] == LABELS[1] else 0 for inp in inputs\n",
    "                ]\n",
    "            else:\n",
    "                indices = tf.argmax(logits, axis=-1)\n",
    "\n",
    "            pred = tf.gather_nd(\n",
    "                logits, [[i, idx] for i, idx in enumerate(indices)]\n",
    "            )\n",
    "\n",
    "        probs = tf.keras.activations.softmax(logits)\n",
    "\n",
    "        input_emb_grads = tape.gradient(pred, embeddings)\n",
    "        ######################################\n",
    "\n",
    "        return [\n",
    "            {\n",
    "                \"prob\": prob.numpy(),\n",
    "                ########## NEW OUTPUTS ##########\n",
    "                \"tokens\": self._detokenize(\n",
    "                    tokens[START_OFFSET : slen - END_OFFSET]\n",
    "                ),\n",
    "                \"input_embedding\": emb[\n",
    "                    START_OFFSET : slen - END_OFFSET\n",
    "                ].numpy(),\n",
    "                \"input_emb_grad\": grad[\n",
    "                    START_OFFSET : slen - END_OFFSET\n",
    "                ].numpy(),\n",
    "                #################################\n",
    "            }\n",
    "            for prob, tokens, emb, grad, slen in zip(\n",
    "                probs,\n",
    "                tokenized[\"token_ids\"],\n",
    "                embeddings,\n",
    "                input_emb_grads,\n",
    "                seq_lens,\n",
    "            )\n",
    "        ]\n",
    "\n",
    "    def input_spec(self):\n",
    "        \"\"\"Describe the inputs to the model.\"\"\"\n",
    "        return {\n",
    "            \"text\": lit_types.TextSegment(),\n",
    "            \"label\": lit_types.CategoryLabel(required=False, vocab=LABELS),\n",
    "        }\n",
    "\n",
    "    def output_spec(self):\n",
    "        \"\"\"Describe the model outputs.\"\"\"\n",
    "        return {\n",
    "            \"prob\": lit_types.MulticlassPreds(vocab=LABELS, parent=\"label\"),\n",
    "            ########## NEW OUTPUT SPECS ##########\n",
    "            \"tokens\": lit_types.Tokens(parent=\"text\"),\n",
    "            \"input_embedding\": lit_types.TokenEmbeddings(align=\"tokens\"),\n",
    "            \"input_emb_grad\": lit_types.TokenGradients(\n",
    "                align=\"tokens\", grad_for=\"input_embedding\"\n",
    "            ),\n",
    "            ######################################\n",
    "        }"
   ]
  },
  {
   "cell_type": "markdown",
   "id": "f510bc1b-e8b9-45e2-a60c-7eca5b0f2815",
   "metadata": {},
   "source": [
    "Let's render LIT again and check how these changes are reflected in the UI!"
   ]
  },
  {
   "cell_type": "code",
   "execution_count": 54,
   "id": "11633154-f2ef-4011-8079-49b6553dd0ca",
   "metadata": {
    "id": "11633154-f2ef-4011-8079-49b6553dd0ca",
    "outputId": "0a4c881a-a145-4019-e89e-e631b7284bef",
    "tags": []
   },
   "outputs": [
    {
     "name": "stderr",
     "output_type": "stream",
     "text": [
      "WARNING:absl:Unable to infer init spec for model 'BertSentimentModel'. Unable to infer a type for parameter 'model' of '__init__'. Please add a type hint or default value, or implement a Spec literal.\n",
      "WARNING:absl:Unable to infer init spec for dataset 'ImdbSentimentData'. Unsupported type '<class 'tensorflow.python.data.ops.dataset_ops.DatasetV2'>' for parameter 'dataset' of '__init__'. If possible (e.g., this parameter is Optional), please implement a spec literal instead of using inferencing.\n",
      "WARNING:absl:Unable to infer init spec for dataset 'NoneDataset'. Unable to infer a type for parameter 'models' of '__init__'. Please add a type hint or default value, or implement a Spec literal.\n",
      "127.0.0.1 - - [09/Sep/2024 11:07:25] \"POST /get_info HTTP/1.1\" 200 26613\n",
      "127.0.0.1 - - [09/Sep/2024 11:07:25] \"POST /get_dataset?dataset_name=acllmdb HTTP/1.1\" 200 161614\n",
      "127.0.0.1 - - [09/Sep/2024 11:07:26] \"POST /push_ui_state?dataset_name=acllmdb HTTP/1.1\" 200 4\n",
      "127.0.0.1 - - [09/Sep/2024 11:07:33] \"POST /get_metrics?model=BERT%20classifier&dataset_name=acllmdb&metrics=multiclass,paired&do_predict=1 HTTP/1.1\" 200 162\n",
      "127.0.0.1 - - [09/Sep/2024 11:07:33] \"POST /get_interpretations?model=BERT%20classifier&dataset_name=acllmdb&interpreter=classification&do_predict=1 HTTP/1.1\" 200 17525\n",
      "127.0.0.1 - - [09/Sep/2024 11:07:33] \"POST /push_ui_state?dataset_name=acllmdb HTTP/1.1\" 200 4\n",
      "127.0.0.1 - - [09/Sep/2024 11:07:33] \"POST /get_metrics?model=BERT%20classifier&dataset_name=acllmdb&metrics=multiclass,paired&do_predict=1 HTTP/1.1\" 200 161\n",
      "127.0.0.1 - - [09/Sep/2024 11:07:37] \"POST /get_preds?model=BERT%20classifier&dataset_name=acllmdb&requested_types=MulticlassPreds,RegressionScore&requested_fields= HTTP/1.1\" 200 51\n",
      "127.0.0.1 - - [09/Sep/2024 11:07:37] \"POST /get_interpretations?model=BERT%20classifier&dataset_name=acllmdb&interpreter=Grad%20L2%20Norm&do_predict=1 HTTP/1.1\" 200 15563\n",
      "127.0.0.1 - - [09/Sep/2024 11:07:37] \"POST /get_interpretations?model=BERT%20classifier&dataset_name=acllmdb&interpreter=Grad%20%E2%8B%85%20Input&do_predict=1 HTTP/1.1\" 200 16016\n",
      "127.0.0.1 - - [09/Sep/2024 11:07:37] \"POST /get_interpretations?model=BERT%20classifier&dataset_name=acllmdb&interpreter=Grad%20%E2%8B%85%20Input&do_predict=1 HTTP/1.1\" 200 16016\n",
      "127.0.0.1 - - [09/Sep/2024 11:07:37] \"POST /get_interpretations?model=BERT%20classifier&dataset_name=acllmdb&interpreter=Grad%20L2%20Norm&do_predict=1 HTTP/1.1\" 200 15563\n",
      "127.0.0.1 - - [09/Sep/2024 11:07:38] \"POST /push_ui_state?dataset_name=acllmdb HTTP/1.1\" 200 4\n",
      "127.0.0.1 - - [09/Sep/2024 11:07:38] \"POST /get_interpretations?model=BERT%20classifier&dataset_name=acllmdb&interpreter=Grad%20%E2%8B%85%20Input&do_predict=1 HTTP/1.1\" 200 4925\n",
      "127.0.0.1 - - [09/Sep/2024 11:07:38] \"POST /get_interpretations?model=BERT%20classifier&dataset_name=acllmdb&interpreter=Grad%20L2%20Norm&do_predict=1 HTTP/1.1\" 200 4805\n",
      "127.0.0.1 - - [09/Sep/2024 11:07:38] \"POST /get_interpretations?model=BERT%20classifier&dataset_name=acllmdb&interpreter=Grad%20L2%20Norm&do_predict=1 HTTP/1.1\" 200 4805\n",
      "127.0.0.1 - - [09/Sep/2024 11:07:38] \"POST /get_preds?model=BERT%20classifier&dataset_name=acllmdb&requested_types=MulticlassPreds,RegressionScore&requested_fields= HTTP/1.1\" 200 54\n",
      "127.0.0.1 - - [09/Sep/2024 11:07:38] \"POST /get_interpretations?model=BERT%20classifier&dataset_name=acllmdb&interpreter=Grad%20%E2%8B%85%20Input&do_predict=1 HTTP/1.1\" 200 4925\n",
      "127.0.0.1 - - [09/Sep/2024 11:07:39] \"POST /get_interpretations?model=BERT%20classifier&dataset_name=acllmdb&interpreter=Grad%20L2%20Norm&do_predict=1 HTTP/1.1\" 200 4805\n",
      "127.0.0.1 - - [09/Sep/2024 11:07:39] \"POST /get_interpretations?model=BERT%20classifier&dataset_name=acllmdb&interpreter=Grad%20%E2%8B%85%20Input&do_predict=1 HTTP/1.1\" 200 4925\n"
     ]
    }
   ],
   "source": [
    "# Create the LIT widget with the model and dataset to analyze.\n",
    "models = {\"BERT classifier\": BertSentimentModel(classifier)}\n",
    "\n",
    "widget.stop()\n",
    "widget = notebook.LitWidget(models, datasets, layouts=layouts, port=8890)"
   ]
  },
  {
   "cell_type": "code",
   "execution_count": 55,
   "id": "826c86b5-c819-4f2c-b874-7c678a763d4b",
   "metadata": {
    "id": "826c86b5-c819-4f2c-b874-7c678a763d4b",
    "outputId": "d1ee69cc-1793-4081-bfe9-3f51882ebfa9",
    "tags": []
   },
   "outputs": [
    {
     "data": {
      "text/html": [
       "\n",
       "      <a href=\"javascript:void(0);\" id=\"lit-frame-58788ddd805c74c5\"></a>\n",
       "      <script>\n",
       "        (function() {\n",
       "          const urlStr = \"/proxy/8890/\" + '?'\n",
       "          const url = new URL(urlStr, window.location);\n",
       "          const port = 0;\n",
       "          if (port) {\n",
       "            url.port = port;\n",
       "          }\n",
       "          const a = document.getElementById(\"lit-frame-58788ddd805c74c5\");\n",
       "          a.innerHTML = url;\n",
       "          a.onclick = (e) => window.open(url, \"_blank\");\n",
       "          window.open(url, \"_blank\");\n",
       "        })();\n",
       "      </script>\n",
       "    "
      ],
      "text/plain": [
       "<IPython.core.display.HTML object>"
      ]
     },
     "metadata": {},
     "output_type": "display_data"
    }
   ],
   "source": [
    "widget.render(height=600, open_in_new_tab=True)"
   ]
  },
  {
   "cell_type": "markdown",
   "id": "9a44b742-df4a-4e97-8e82-b12be9008654",
   "metadata": {},
   "source": [
    "## Add Integrated Gradients\n",
    "\n",
    "The integrated gradient method is a more robust method for estimating feature contribution based on integrating gradients along a path in embedding space. <br>\n",
    "See [Sundararajan et al. 2017](https://arxiv.org/abs/1703.01365) for additional details on the algorithm. This method may give better results than grad-norm and grad-dot-input but also requires more involved instrumentation of the model.\n",
    "\n",
    "There are the key updates to use Integrated Gradients:\n",
    "- `input_spec()` now includes `input_embedding` as an optional key-value (`required=False`), which is the same name as the output `input_embedding` spec. <br>\n",
    "In Integrated Gradients, LIT computes multiple inputs (token embeddings in this case) perturbations on which we compute gradients, and integrates over them. This optional input is the gate of those perturbations, which will only be passed when we use Integrated Gradients.\n",
    "- `output_spec()` is almost the same as the previous example, except for the additional `grad_target_field_key=\"label\"` to link with the label field from the input.\n",
    "- `predict()` now has a conditional operation for Integrated Gradients (i.e., in case the `input_embedding` key is included in inputs). We simply swap the perturbations with the raw embeddings calculated from the original inputs. "
   ]
  },
  {
   "cell_type": "code",
   "execution_count": 80,
   "id": "f37f18da-bf3f-41ab-9122-c16b21e3d005",
   "metadata": {
    "id": "f37f18da-bf3f-41ab-9122-c16b21e3d005",
    "tags": []
   },
   "outputs": [],
   "source": [
    "START_OFFSET = 1  # offset [CLS] token\n",
    "END_OFFSET = 1  # offset [SEP] token\n",
    "\n",
    "\n",
    "class BertSentimentModel(lit_model.Model):\n",
    "\n",
    "    def __init__(self, model):\n",
    "        self._model = model\n",
    "        self._embedding_model = tf.keras.Model(\n",
    "            inputs=model.input, outputs=model.layers[3].layers[6].output\n",
    "        )\n",
    "        self._bert_backbone = tf.keras.Model(\n",
    "            inputs=[\n",
    "                model.layers[3].layers[7].input,\n",
    "                model.layers[3].layers[8].input,\n",
    "            ],\n",
    "            outputs=model.layers[3].layers[-1].output,\n",
    "        )\n",
    "        self._cls_head = tf.keras.Model(\n",
    "            inputs=classifier.layers[-2].input,\n",
    "            outputs=classifier.layers[-1].output,\n",
    "        )\n",
    "\n",
    "    def _detokenize(self, indices):\n",
    "        return [\n",
    "            self._model.preprocessor.tokenizer.vocabulary[idx]\n",
    "            for idx in indices\n",
    "        ]\n",
    "\n",
    "    def predict(self, inputs):\n",
    "        \"\"\"Predict on a stream of examples.\"\"\"\n",
    "        examples = [d[\"text\"] for d in inputs]\n",
    "        tokenized = self._model.preprocessor(examples)\n",
    "        seq_lens = tf.reduce_sum(\n",
    "            tf.cast(tokenized[\"padding_mask\"], tf.int32), axis=-1\n",
    "        )\n",
    "        embeddings = self._embedding_model(tokenized)\n",
    "        ########## CONDITIONAL OPERATION FOR IG PERTURBATIONS ##########\n",
    "        if \"input_embedding\" in inputs[0].keys():\n",
    "            pertubations = tf.convert_to_tensor(\n",
    "                [inp[\"input_embedding\"] for inp in inputs]\n",
    "            )\n",
    "            step_size, ptb_len, emd_dim = pertubations.shape\n",
    "            pertubations = tf.reshape(\n",
    "                pertubations, (step_size * ptb_len, emd_dim)\n",
    "            )\n",
    "            update_indices = [\n",
    "                [s, l + START_OFFSET]\n",
    "                for s in range(step_size)\n",
    "                for l in range(ptb_len)\n",
    "            ]\n",
    "            embeddings = tf.tensor_scatter_nd_update(\n",
    "                embeddings, update_indices, pertubations\n",
    "            )\n",
    "        ###############################################################\n",
    "\n",
    "        with tf.GradientTape() as tape:\n",
    "            tape.watch(embeddings)\n",
    "            bert_output = self._bert_backbone(\n",
    "                [embeddings, tokenized[\"padding_mask\"]]\n",
    "            )\n",
    "            logits = self._cls_head(bert_output)\n",
    "            if \"label\" in inputs[0].keys():\n",
    "                indices = [\n",
    "                    1 if inp[\"label\"] == LABELS[1] else 0 for inp in inputs\n",
    "                ]\n",
    "            else:\n",
    "                indices = tf.argmax(logits, axis=-1)\n",
    "            pred = tf.gather_nd(\n",
    "                logits, [[i, idx] for i, idx in enumerate(indices)]\n",
    "            )\n",
    "\n",
    "        probs = tf.keras.activations.softmax(logits)\n",
    "\n",
    "        input_emb_grads = tape.gradient(pred, embeddings)\n",
    "\n",
    "        return [\n",
    "            {\n",
    "                \"prob\": prob.numpy(),\n",
    "                \"tokens\": self._detokenize(\n",
    "                    tokens[START_OFFSET : slen - END_OFFSET]\n",
    "                ),\n",
    "                \"input_embedding\": emb[\n",
    "                    START_OFFSET : slen - END_OFFSET\n",
    "                ].numpy(),\n",
    "                \"input_emb_grad\": grad[\n",
    "                    START_OFFSET : slen - END_OFFSET\n",
    "                ].numpy(),\n",
    "            }\n",
    "            for prob, tokens, emb, grad, slen in zip(\n",
    "                probs,\n",
    "                tokenized[\"token_ids\"],\n",
    "                embeddings,\n",
    "                input_emb_grads,\n",
    "                seq_lens,\n",
    "            )\n",
    "        ]\n",
    "\n",
    "    def input_spec(self):\n",
    "        \"\"\"Describe the inputs to the model.\"\"\"\n",
    "        return {\n",
    "            \"text\": lit_types.TextSegment(),\n",
    "            \"label\": lit_types.CategoryLabel(required=False, vocab=LABELS),\n",
    "            ########## NEW INPUT SPEC FOR IG PERTURBATIONS ##########\n",
    "            \"input_embedding\": lit_types.TokenEmbeddings(\n",
    "                required=False, align=\"tokens\"\n",
    "            ),\n",
    "            #########################################################\n",
    "        }\n",
    "\n",
    "    def output_spec(self):\n",
    "        \"\"\"Describe the model outputs.\"\"\"\n",
    "        return {\n",
    "            \"prob\": lit_types.MulticlassPreds(vocab=LABELS, parent=\"label\"),\n",
    "            \"tokens\": lit_types.Tokens(parent=\"text\"),\n",
    "            \"input_embedding\": lit_types.TokenEmbeddings(align=\"tokens\"),\n",
    "            \"input_emb_grad\": lit_types.TokenGradients(\n",
    "                align=\"tokens\",\n",
    "                grad_for=\"input_embedding\",\n",
    "                ########## ADDITIONAL ARGUMENT FOR IG ##########\n",
    "                grad_target_field_key=\"label\",\n",
    "                ################################################\n",
    "            ),\n",
    "        }"
   ]
  },
  {
   "cell_type": "code",
   "execution_count": 82,
   "id": "38bda6f3-7573-4c66-b1da-70dc94e0ca84",
   "metadata": {
    "tags": []
   },
   "outputs": [
    {
     "name": "stderr",
     "output_type": "stream",
     "text": [
      "WARNING:absl:Unable to infer init spec for model 'BertSentimentModel'. Unable to infer a type for parameter 'model' of '__init__'. Please add a type hint or default value, or implement a Spec literal.\n",
      "WARNING:absl:Unable to infer init spec for dataset 'ImdbSentimentData'. Unsupported type '<class 'tensorflow.python.data.ops.dataset_ops.DatasetV2'>' for parameter 'dataset' of '__init__'. If possible (e.g., this parameter is Optional), please implement a spec literal instead of using inferencing.\n",
      "WARNING:absl:Unable to infer init spec for dataset 'NoneDataset'. Unable to infer a type for parameter 'models' of '__init__'. Please add a type hint or default value, or implement a Spec literal.\n",
      "127.0.0.1 - - [09/Sep/2024 13:58:30] \"POST /get_info HTTP/1.1\" 200 26791\n",
      "127.0.0.1 - - [09/Sep/2024 13:58:30] \"POST /get_dataset?dataset_name=acllmdb HTTP/1.1\" 200 161614\n",
      "127.0.0.1 - - [09/Sep/2024 13:58:30] \"POST /push_ui_state?dataset_name=acllmdb HTTP/1.1\" 200 4\n",
      "127.0.0.1 - - [09/Sep/2024 13:58:37] \"POST /get_metrics?model=BERT%20classifier&dataset_name=acllmdb&metrics=multiclass,paired&do_predict=1 HTTP/1.1\" 200 162\n",
      "127.0.0.1 - - [09/Sep/2024 13:58:37] \"POST /get_interpretations?model=BERT%20classifier&dataset_name=acllmdb&interpreter=classification&do_predict=1 HTTP/1.1\" 200 17525\n",
      "127.0.0.1 - - [09/Sep/2024 13:58:37] \"GET /static/onboarding_1_welcome.gif HTTP/1.1\" 200 584363\n",
      "127.0.0.1 - - [09/Sep/2024 13:58:37] \"POST /get_metrics?model=BERT%20classifier&dataset_name=acllmdb&metrics=multiclass,paired&do_predict=1 HTTP/1.1\" 200 161\n",
      "127.0.0.1 - - [09/Sep/2024 13:58:37] \"POST /push_ui_state?dataset_name=acllmdb HTTP/1.1\" 200 4\n",
      "127.0.0.1 - - [09/Sep/2024 13:58:37] \"POST /get_interpretations?model=BERT%20classifier&dataset_name=acllmdb&interpreter=Grad%20%E2%8B%85%20Input&do_predict=1 HTTP/1.1\" 200 4925\n",
      "127.0.0.1 - - [09/Sep/2024 13:58:37] \"POST /get_preds?model=BERT%20classifier&dataset_name=acllmdb&requested_types=MulticlassPreds,RegressionScore&requested_fields= HTTP/1.1\" 200 54\n",
      "127.0.0.1 - - [09/Sep/2024 13:58:37] \"POST /get_interpretations?model=BERT%20classifier&dataset_name=acllmdb&interpreter=Grad%20%E2%8B%85%20Input&do_predict=1 HTTP/1.1\" 200 4925\n",
      "127.0.0.1 - - [09/Sep/2024 13:58:37] \"POST /get_interpretations?model=BERT%20classifier&dataset_name=acllmdb&interpreter=Grad%20L2%20Norm&do_predict=1 HTTP/1.1\" 200 4805\n",
      "127.0.0.1 - - [09/Sep/2024 13:58:39] \"POST /get_interpretations?model=BERT%20classifier&dataset_name=acllmdb&interpreter=Grad%20L2%20Norm&do_predict=1 HTTP/1.1\" 200 4805\n",
      "WARNING:absl:Attmepting to retrieve 30 (of 30) predictions from the cache where the cache key is None - this can be from a missing or empty example id. These will call model.predict() on this and subsequent calls.\n",
      "127.0.0.1 - - [09/Sep/2024 13:58:43] \"POST /get_interpretations?model=BERT%20classifier&dataset_name=acllmdb&interpreter=Integrated%20Gradients&do_predict=1 HTTP/1.1\" 200 4904\n",
      "WARNING:absl:Attmepting to retrieve 50 (of 50) predictions from the cache where the cache key is None - this can be from a missing or empty example id. These will call model.predict() on this and subsequent calls.\n",
      "127.0.0.1 - - [09/Sep/2024 13:59:35] \"POST /get_interpretations?model=BERT%20classifier&dataset_name=acllmdb&interpreter=Integrated%20Gradients&do_predict=1 HTTP/1.1\" 200 4916\n",
      "WARNING:absl:Attmepting to retrieve 50 (of 50) predictions from the cache where the cache key is None - this can be from a missing or empty example id. These will call model.predict() on this and subsequent calls.\n",
      "127.0.0.1 - - [09/Sep/2024 14:00:50] \"POST /get_interpretations?model=BERT%20classifier&dataset_name=acllmdb&interpreter=Integrated%20Gradients&do_predict=1 HTTP/1.1\" 200 4916\n",
      "WARNING:absl:Attmepting to retrieve 50 (of 50) predictions from the cache where the cache key is None - this can be from a missing or empty example id. These will call model.predict() on this and subsequent calls.\n",
      "127.0.0.1 - - [09/Sep/2024 14:00:55] \"POST /get_interpretations?model=BERT%20classifier&dataset_name=acllmdb&interpreter=Integrated%20Gradients&do_predict=1 HTTP/1.1\" 200 4748\n",
      "WARNING:absl:Attmepting to retrieve 50 (of 50) predictions from the cache where the cache key is None - this can be from a missing or empty example id. These will call model.predict() on this and subsequent calls.\n",
      "127.0.0.1 - - [09/Sep/2024 14:01:13] \"POST /get_interpretations?model=BERT%20classifier&dataset_name=acllmdb&interpreter=Integrated%20Gradients&do_predict=1 HTTP/1.1\" 200 4748\n"
     ]
    }
   ],
   "source": [
    "# Create the LIT widget with the model and dataset to analyze.\n",
    "models = {\"BERT classifier\": BertSentimentModel(classifier)}\n",
    "\n",
    "widget.stop()\n",
    "widget = notebook.LitWidget(models, datasets, layouts=layouts, port=8890)"
   ]
  },
  {
   "cell_type": "markdown",
   "id": "68d42583-e6ff-4379-ab4f-5d9bac67a6b5",
   "metadata": {},
   "source": [
    "Let's render the LIT UI again. \n",
    "\n",
    "Click the arrow on In Integrated Gradients to compute the saliency with it since it requires additional computation.\n",
    "\n",
    "Also, from the configuration button, you can change the step size (number of perturbations you'll approximate integral with) between 5 and 100—the higher the value, the more accurate, but the more computationally expensive.\n",
    "<img width=\"700\" alt=\"image\" src=\"https://github.com/user-attachments/assets/1f41aaeb-df8a-4d06-9191-de7853f1bfc0\">\n"
   ]
  },
  {
   "cell_type": "code",
   "execution_count": 83,
   "id": "0c886dfb-5931-4d4e-a10f-042dd2c29649",
   "metadata": {
    "tags": []
   },
   "outputs": [
    {
     "data": {
      "text/html": [
       "\n",
       "      <a href=\"javascript:void(0);\" id=\"lit-frame-62e824db000c2d31\"></a>\n",
       "      <script>\n",
       "        (function() {\n",
       "          const urlStr = \"/proxy/8890/\" + '?'\n",
       "          const url = new URL(urlStr, window.location);\n",
       "          const port = 0;\n",
       "          if (port) {\n",
       "            url.port = port;\n",
       "          }\n",
       "          const a = document.getElementById(\"lit-frame-62e824db000c2d31\");\n",
       "          a.innerHTML = url;\n",
       "          a.onclick = (e) => window.open(url, \"_blank\");\n",
       "          window.open(url, \"_blank\");\n",
       "        })();\n",
       "      </script>\n",
       "    "
      ],
      "text/plain": [
       "<IPython.core.display.HTML object>"
      ]
     },
     "metadata": {},
     "output_type": "display_data"
    }
   ],
   "source": [
    "widget.render(height=600, open_in_new_tab=True)"
   ]
  },
  {
   "cell_type": "markdown",
   "id": "5fdfb575-db8d-4dbc-afd0-f364ce35a03f",
   "metadata": {
    "tags": []
   },
   "source": [
    "## (Optional) Directly Call Interpretability modules\n",
    "\n",
    "You may want to get saliency values directly outside of the LIT UI. You can call each component using the same model object.\n",
    "\n",
    "For example, for Integrated Gradients:"
   ]
  },
  {
   "cell_type": "code",
   "execution_count": 78,
   "id": "cd34f59f-3f66-4038-816a-6d2ac19d391e",
   "metadata": {
    "id": "cd34f59f-3f66-4038-816a-6d2ac19d391e",
    "tags": []
   },
   "outputs": [
    {
     "data": {
      "text/plain": [
       "[{'input_emb_grad': TokenSalience(tokens=['the', 'movie', 'is', 'precious', ',', 'and', 'cage', 'is', 'a', 'babe', '.', '<', 'br', '/', '>', '<', 'br', '/', '>', 'but', 'will', 'anyone', 'agree', 'with', 'me', 'in', 'saying', 'that', 'the', 'punk', 'representation', 'in', 'this', 'movie', 'is', 'at', '##ro', '##cious', '?', '!', '?', '!', '<', 'br', '/', '>', '<', 'br', '/', '>', 'where', \"'\", 's', 'the', 'clash', '?', 'the', 'ramon', '##es', '?', '?', 'mis', '##fi', '##ts', '?', 'social', 'distortion', '?', 'the', 'cr', '##amps', '?', '?', 'sex', 'pistols', '?', '!', 'anyone', '?', '!', '?', '!', '?', '!', '?', '!', 'the', 'music', 'is', 'this', 'movie', 'is', 'incredibly', 'disappointing', '!', 'at', 'least', 'they', 'play', 'the', 'cure', '.', '<', 'br', '/', '>', '<', 'br', '/', '>', 'plus', ',', 'randy', \"'\", 's', 'feather', '##ed', 'hair', 'and', 'plea', '##ted', 'k', '##hak', '##is', '.', '.', '.', '<', 'br', '/', '>', '<', 'br', '/', '>', 'this', 'definitely', 'looks', 'like', 'a', 'movie', 'about', '\"', 'punk', '##s', '\"', 'the', 'way', 'that', 'a', 'bunch', 'of', 'movie', 'industry', 'squares', 'see', 'punk', '##s', '.', '<', 'br', '/', '>', '<', 'br', '/', '>', 'although', 'it', \"'\", 's', 'a', '90', \"'\", 's', 'movie', ',', 'sl', '##c', 'punk', 'paints', 'a', 'much', 'more', 'accurate', 'picture', 'of', 'the', 'punk', 'rock', 'scene', 'in', 'the', 'early', '1980', \"'\", 's', '.', 'just', 'say', '##in', \"'\", '.'], salience=array([-3.12506664e-03,  5.45696239e-05,  1.53217162e-03,  2.89084017e-03,\n",
       "         -4.70475620e-03, -5.82023058e-03,  5.64256078e-03,  1.84515794e-03,\n",
       "         -2.57109432e-03, -4.97270701e-03, -1.07851205e-03, -1.87879731e-03,\n",
       "         -6.94543589e-03, -1.11835427e-03,  3.42885475e-03, -1.71492144e-03,\n",
       "         -7.30807520e-03, -1.24833058e-03,  1.82362075e-03, -9.29051545e-04,\n",
       "         -6.58231555e-03, -1.07898249e-03, -1.12688553e-03, -4.22729319e-03,\n",
       "         -4.41983109e-03, -3.90670402e-03,  8.92940909e-03, -7.27116654e-04,\n",
       "         -1.56042061e-03, -7.66744604e-04,  1.38466212e-03, -3.37062194e-03,\n",
       "          8.40747904e-04, -6.32076641e-04,  5.98538294e-03,  2.92404438e-04,\n",
       "          8.36556498e-03,  1.72310825e-02,  1.02020968e-02, -4.50074673e-03,\n",
       "          9.43141803e-03, -6.99339854e-03, -2.31142668e-03, -6.98231347e-03,\n",
       "         -1.61165511e-03, -1.34636764e-03, -4.61195130e-03, -7.68711837e-03,\n",
       "         -1.47142704e-03,  2.49835546e-03,  1.49398984e-04,  1.68841437e-03,\n",
       "         -2.31730612e-03, -1.53999589e-03,  5.60570229e-03,  1.39984330e-02,\n",
       "         -6.68530876e-04, -5.99040836e-03, -1.55946042e-03,  1.35898935e-02,\n",
       "          1.31400907e-02,  5.39731048e-02,  3.79684311e-03,  2.32605496e-03,\n",
       "          1.21427774e-02,  2.65519957e-05,  9.19206068e-03,  1.28191542e-02,\n",
       "         -2.77126580e-03,  2.84173293e-03,  9.12008341e-03,  1.35949226e-02,\n",
       "          1.26534533e-02,  4.84133168e-04,  1.33999465e-02,  1.33235818e-02,\n",
       "         -5.78386802e-03, -1.45602156e-03,  1.31354043e-02, -7.66482670e-03,\n",
       "          1.32585512e-02, -7.27362838e-03,  1.24024851e-02, -6.32213429e-03,\n",
       "          1.25339534e-02, -8.03508982e-03, -2.47663655e-03, -1.04888165e-02,\n",
       "          3.20925657e-03,  1.20020937e-03,  2.25868146e-03,  4.77439445e-03,\n",
       "          2.93945358e-03,  5.54790273e-02, -6.75158855e-03,  4.97953151e-04,\n",
       "          6.83180662e-03, -1.61031936e-03, -2.82514677e-03, -1.43321499e-03,\n",
       "          1.01902820e-02, -3.22120526e-04, -3.31350742e-03, -7.86575675e-03,\n",
       "         -7.11045926e-04,  8.05728021e-04, -3.13636940e-03, -7.32644880e-03,\n",
       "          4.93828557e-04,  1.35788019e-03, -3.38401855e-03, -3.19136726e-03,\n",
       "         -4.09467379e-03, -5.87814720e-05, -2.81475508e-03, -1.60264820e-02,\n",
       "          6.76768972e-03, -2.39305315e-03, -3.27680819e-03,  1.19356264e-03,\n",
       "         -2.22753640e-03, -3.35765746e-03, -8.51454120e-03, -8.88184272e-03,\n",
       "          1.48641906e-04, -8.29271157e-04, -6.83700608e-04, -3.16684530e-03,\n",
       "         -6.84138853e-03, -8.09343881e-04,  4.01071738e-03, -2.70391814e-03,\n",
       "         -6.38365326e-03, -1.34207180e-03,  2.61528511e-03,  8.56660597e-04,\n",
       "         -3.07736881e-02,  2.18231548e-02,  2.12048809e-03, -2.16011470e-03,\n",
       "         -5.23853872e-04, -1.17968733e-03,  1.48953625e-03, -1.33982219e-03,\n",
       "          5.56202373e-04,  2.34357911e-04, -1.74465461e-03, -1.40179193e-03,\n",
       "         -6.43225037e-04, -1.05156808e-03,  1.65711530e-02, -1.35722235e-04,\n",
       "          1.18298270e-03,  4.15497134e-03, -1.00139761e-03, -9.18995123e-03,\n",
       "         -4.77067661e-03, -4.59481089e-05,  7.92555729e-05, -2.77034752e-03,\n",
       "         -6.86247414e-03, -9.11739713e-04,  2.83964840e-03, -2.38396833e-03,\n",
       "         -6.70552347e-03, -1.05420640e-03,  2.78877304e-03, -1.98071217e-03,\n",
       "         -1.66584346e-02,  9.99916374e-05, -2.99674529e-03, -4.30192379e-03,\n",
       "         -7.86743942e-04, -5.83056302e-04, -2.65464513e-03, -1.69973448e-03,\n",
       "         -2.79238657e-03,  1.49107501e-02,  1.26986811e-03, -2.83955154e-03,\n",
       "         -1.27279283e-02, -3.90285812e-03,  4.28216718e-03, -2.13117735e-03,\n",
       "          1.42409059e-03,  2.95556849e-03,  6.21409563e-04, -2.81478022e-03,\n",
       "         -1.74591294e-03, -7.86818285e-03,  2.39018793e-03, -1.54418813e-03,\n",
       "         -2.80134496e-03, -1.66879199e-03, -1.25811473e-02,  3.25744884e-04,\n",
       "         -2.40471284e-03,  5.01880131e-04,  6.33846410e-03,  3.69290542e-03,\n",
       "          3.53556080e-03, -4.66426456e-04, -4.65395387e-05], dtype=float32))}]"
      ]
     },
     "execution_count": 78,
     "metadata": {},
     "output_type": "execute_result"
    }
   ],
   "source": [
    "from lit_nlp.components import gradient_maps\n",
    "\n",
    "ig = gradient_maps.IntegratedGradients()\n",
    "\n",
    "saliency = ig.run(\n",
    "    ImdbSentimentData(test_ds).examples[:1],\n",
    "    BertSentimentModel(classifier),\n",
    "    ImdbSentimentData(test_ds),\n",
    ")\n",
    "saliency"
   ]
  },
  {
   "cell_type": "code",
   "execution_count": 86,
   "id": "42b04100-1860-4b30-b06b-8cf8448a6651",
   "metadata": {
    "tags": []
   },
   "outputs": [
    {
     "data": {
      "text/html": [
       "<style type=\"text/css\">\n",
       "#T_45497_row0_col0, #T_45497_row0_col31, #T_45497_row0_col102, #T_45497_row0_col106, #T_45497_row0_col110, #T_45497_row0_col111, #T_45497_row0_col118, #T_45497_row0_col121, #T_45497_row0_col127, #T_45497_row1_col0, #T_45497_row1_col31, #T_45497_row1_col102, #T_45497_row1_col106, #T_45497_row1_col110, #T_45497_row1_col111, #T_45497_row1_col118, #T_45497_row1_col121, #T_45497_row1_col127 {\n",
       "  background-color: #e1e1ff;\n",
       "  color: #000000;\n",
       "}\n",
       "#T_45497_row0_col1, #T_45497_row0_col35, #T_45497_row0_col50, #T_45497_row0_col65, #T_45497_row0_col124, #T_45497_row0_col145, #T_45497_row0_col158, #T_45497_row0_col169, #T_45497_row0_col195, #T_45497_row1_col1, #T_45497_row1_col35, #T_45497_row1_col50, #T_45497_row1_col65, #T_45497_row1_col124, #T_45497_row1_col145, #T_45497_row1_col158, #T_45497_row1_col169, #T_45497_row1_col195 {\n",
       "  background-color: #fffdfd;\n",
       "  color: #000000;\n",
       "}\n",
       "#T_45497_row0_col2, #T_45497_row0_col30, #T_45497_row0_col51, #T_45497_row0_col109, #T_45497_row0_col142, #T_45497_row0_col184, #T_45497_row1_col2, #T_45497_row1_col30, #T_45497_row1_col51, #T_45497_row1_col109, #T_45497_row1_col142, #T_45497_row1_col184 {\n",
       "  background-color: #fff1f1;\n",
       "  color: #000000;\n",
       "}\n",
       "#T_45497_row0_col3, #T_45497_row0_col69, #T_45497_row0_col92, #T_45497_row0_col134, #T_45497_row0_col162, #T_45497_row0_col166, #T_45497_row0_col185, #T_45497_row1_col3, #T_45497_row1_col69, #T_45497_row1_col92, #T_45497_row1_col134, #T_45497_row1_col162, #T_45497_row1_col166, #T_45497_row1_col185 {\n",
       "  background-color: #ffe5e5;\n",
       "  color: #000000;\n",
       "}\n",
       "#T_45497_row0_col4, #T_45497_row0_col24, #T_45497_row0_col39, #T_45497_row0_col46, #T_45497_row1_col4, #T_45497_row1_col24, #T_45497_row1_col39, #T_45497_row1_col46 {\n",
       "  background-color: #d5d5ff;\n",
       "  color: #000000;\n",
       "}\n",
       "#T_45497_row0_col5, #T_45497_row0_col57, #T_45497_row0_col76, #T_45497_row1_col5, #T_45497_row1_col57, #T_45497_row1_col76 {\n",
       "  background-color: #c9c9ff;\n",
       "  color: #000000;\n",
       "}\n",
       "#T_45497_row0_col6, #T_45497_row0_col34, #T_45497_row1_col6, #T_45497_row1_col34 {\n",
       "  background-color: #ffc9c9;\n",
       "  color: #000000;\n",
       "}\n",
       "#T_45497_row0_col7, #T_45497_row0_col18, #T_45497_row0_col138, #T_45497_row1_col7, #T_45497_row1_col18, #T_45497_row1_col138 {\n",
       "  background-color: #ffeded;\n",
       "  color: #000000;\n",
       "}\n",
       "#T_45497_row0_col8, #T_45497_row0_col42, #T_45497_row0_col52, #T_45497_row0_col86, #T_45497_row0_col117, #T_45497_row0_col120, #T_45497_row0_col163, #T_45497_row0_col196, #T_45497_row1_col8, #T_45497_row1_col42, #T_45497_row1_col52, #T_45497_row1_col86, #T_45497_row1_col117, #T_45497_row1_col120, #T_45497_row1_col163, #T_45497_row1_col196 {\n",
       "  background-color: #e9e9ff;\n",
       "  color: #000000;\n",
       "}\n",
       "#T_45497_row0_col9, #T_45497_row0_col156, #T_45497_row1_col9, #T_45497_row1_col156 {\n",
       "  background-color: #d1d1ff;\n",
       "  color: #000000;\n",
       "}\n",
       "#T_45497_row0_col10, #T_45497_row0_col13, #T_45497_row0_col17, #T_45497_row0_col19, #T_45497_row0_col21, #T_45497_row0_col22, #T_45497_row0_col141, #T_45497_row0_col149, #T_45497_row0_col154, #T_45497_row0_col161, #T_45497_row0_col165, #T_45497_row1_col10, #T_45497_row1_col13, #T_45497_row1_col17, #T_45497_row1_col19, #T_45497_row1_col21, #T_45497_row1_col22, #T_45497_row1_col141, #T_45497_row1_col149, #T_45497_row1_col154, #T_45497_row1_col161, #T_45497_row1_col165 {\n",
       "  background-color: #f5f5ff;\n",
       "  color: #000000;\n",
       "}\n",
       "#T_45497_row0_col11, #T_45497_row0_col139, #T_45497_row0_col146, #T_45497_row0_col167, #T_45497_row0_col183, #T_45497_row0_col188, #T_45497_row1_col11, #T_45497_row1_col139, #T_45497_row1_col146, #T_45497_row1_col167, #T_45497_row1_col183, #T_45497_row1_col188 {\n",
       "  background-color: #ededff;\n",
       "  color: #000000;\n",
       "}\n",
       "#T_45497_row0_col12, #T_45497_row0_col16, #T_45497_row0_col41, #T_45497_row0_col43, #T_45497_row0_col81, #T_45497_row0_col107, #T_45497_row1_col12, #T_45497_row1_col16, #T_45497_row1_col41, #T_45497_row1_col43, #T_45497_row1_col81, #T_45497_row1_col107 {\n",
       "  background-color: #bdbdff;\n",
       "  color: #000000;\n",
       "}\n",
       "#T_45497_row0_col14, #T_45497_row0_col88, #T_45497_row1_col14, #T_45497_row1_col88 {\n",
       "  background-color: #ffe1e1;\n",
       "  color: #000000;\n",
       "}\n",
       "#T_45497_row0_col15, #T_45497_row0_col28, #T_45497_row0_col44, #T_45497_row0_col45, #T_45497_row0_col48, #T_45497_row0_col53, #T_45497_row0_col58, #T_45497_row0_col77, #T_45497_row0_col97, #T_45497_row0_col99, #T_45497_row0_col133, #T_45497_row0_col143, #T_45497_row0_col147, #T_45497_row0_col175, #T_45497_row0_col191, #T_45497_row0_col193, #T_45497_row1_col15, #T_45497_row1_col28, #T_45497_row1_col44, #T_45497_row1_col45, #T_45497_row1_col48, #T_45497_row1_col53, #T_45497_row1_col58, #T_45497_row1_col77, #T_45497_row1_col97, #T_45497_row1_col99, #T_45497_row1_col133, #T_45497_row1_col143, #T_45497_row1_col147, #T_45497_row1_col175, #T_45497_row1_col191, #T_45497_row1_col193 {\n",
       "  background-color: #f1f1ff;\n",
       "  color: #000000;\n",
       "}\n",
       "#T_45497_row0_col20, #T_45497_row0_col94, #T_45497_row0_col128, #T_45497_row0_col160, #T_45497_row0_col164, #T_45497_row1_col20, #T_45497_row1_col94, #T_45497_row1_col128, #T_45497_row1_col160, #T_45497_row1_col164 {\n",
       "  background-color: #c1c1ff;\n",
       "  color: #000000;\n",
       "}\n",
       "#T_45497_row0_col23, #T_45497_row0_col25, #T_45497_row0_col112, #T_45497_row0_col171, #T_45497_row0_col181, #T_45497_row1_col23, #T_45497_row1_col25, #T_45497_row1_col112, #T_45497_row1_col171, #T_45497_row1_col181 {\n",
       "  background-color: #d9d9ff;\n",
       "  color: #000000;\n",
       "}\n",
       "#T_45497_row0_col26, #T_45497_row1_col26 {\n",
       "  background-color: #ffadad;\n",
       "  color: #000000;\n",
       "}\n",
       "#T_45497_row0_col27, #T_45497_row0_col29, #T_45497_row0_col33, #T_45497_row0_col56, #T_45497_row0_col104, #T_45497_row0_col125, #T_45497_row0_col126, #T_45497_row0_col129, #T_45497_row0_col140, #T_45497_row0_col148, #T_45497_row0_col172, #T_45497_row0_col173, #T_45497_row0_col201, #T_45497_row1_col27, #T_45497_row1_col29, #T_45497_row1_col33, #T_45497_row1_col56, #T_45497_row1_col104, #T_45497_row1_col125, #T_45497_row1_col126, #T_45497_row1_col129, #T_45497_row1_col140, #T_45497_row1_col148, #T_45497_row1_col172, #T_45497_row1_col173, #T_45497_row1_col201 {\n",
       "  background-color: #f9f9ff;\n",
       "  color: #000000;\n",
       "}\n",
       "#T_45497_row0_col32, #T_45497_row0_col73, #T_45497_row0_col95, #T_45497_row0_col105, #T_45497_row0_col108, #T_45497_row0_col135, #T_45497_row0_col144, #T_45497_row0_col186, #T_45497_row0_col197, #T_45497_row1_col32, #T_45497_row1_col73, #T_45497_row1_col95, #T_45497_row1_col105, #T_45497_row1_col108, #T_45497_row1_col135, #T_45497_row1_col144, #T_45497_row1_col186, #T_45497_row1_col197 {\n",
       "  background-color: #fff9f9;\n",
       "  color: #000000;\n",
       "}\n",
       "#T_45497_row0_col36, #T_45497_row1_col36 {\n",
       "  background-color: #ffb1b1;\n",
       "  color: #000000;\n",
       "}\n",
       "#T_45497_row0_col37, #T_45497_row1_col37 {\n",
       "  background-color: #ff6161;\n",
       "  color: #f1f1f1;\n",
       "}\n",
       "#T_45497_row0_col38, #T_45497_row0_col100, #T_45497_row1_col38, #T_45497_row1_col100 {\n",
       "  background-color: #ffa1a1;\n",
       "  color: #000000;\n",
       "}\n",
       "#T_45497_row0_col40, #T_45497_row0_col66, #T_45497_row0_col70, #T_45497_row1_col40, #T_45497_row1_col66, #T_45497_row1_col70 {\n",
       "  background-color: #ffa9a9;\n",
       "  color: #000000;\n",
       "}\n",
       "#T_45497_row0_col47, #T_45497_row0_col79, #T_45497_row1_col47, #T_45497_row1_col79 {\n",
       "  background-color: #b9b9ff;\n",
       "  color: #000000;\n",
       "}\n",
       "#T_45497_row0_col49, #T_45497_row0_col63, #T_45497_row0_col90, #T_45497_row0_col190, #T_45497_row1_col49, #T_45497_row1_col63, #T_45497_row1_col90, #T_45497_row1_col190 {\n",
       "  background-color: #ffe9e9;\n",
       "  color: #000000;\n",
       "}\n",
       "#T_45497_row0_col54, #T_45497_row1_col54 {\n",
       "  background-color: #ffcdcd;\n",
       "  color: #000000;\n",
       "}\n",
       "#T_45497_row0_col55, #T_45497_row1_col55 {\n",
       "  background-color: #ff7d7d;\n",
       "  color: #f1f1f1;\n",
       "}\n",
       "#T_45497_row0_col59, #T_45497_row0_col71, #T_45497_row1_col59, #T_45497_row1_col71 {\n",
       "  background-color: #ff8181;\n",
       "  color: #f1f1f1;\n",
       "}\n",
       "#T_45497_row0_col60, #T_45497_row0_col74, #T_45497_row0_col75, #T_45497_row0_col78, #T_45497_row0_col80, #T_45497_row1_col60, #T_45497_row1_col74, #T_45497_row1_col75, #T_45497_row1_col78, #T_45497_row1_col80 {\n",
       "  background-color: #ff8585;\n",
       "  color: #f1f1f1;\n",
       "}\n",
       "#T_45497_row0_col61, #T_45497_row1_col61 {\n",
       "  background-color: #860000;\n",
       "  color: #f1f1f1;\n",
       "}\n",
       "#T_45497_row0_col62, #T_45497_row0_col199, #T_45497_row0_col200, #T_45497_row1_col62, #T_45497_row1_col199, #T_45497_row1_col200 {\n",
       "  background-color: #ffdddd;\n",
       "  color: #000000;\n",
       "}\n",
       "#T_45497_row0_col64, #T_45497_row0_col82, #T_45497_row0_col84, #T_45497_row1_col64, #T_45497_row1_col82, #T_45497_row1_col84 {\n",
       "  background-color: #ff8d8d;\n",
       "  color: #000000;\n",
       "}\n",
       "#T_45497_row0_col67, #T_45497_row0_col72, #T_45497_row1_col67, #T_45497_row1_col72 {\n",
       "  background-color: #ff8989;\n",
       "  color: #000000;\n",
       "}\n",
       "#T_45497_row0_col68, #T_45497_row0_col98, #T_45497_row0_col114, #T_45497_row0_col131, #T_45497_row0_col159, #T_45497_row0_col170, #T_45497_row0_col174, #T_45497_row0_col176, #T_45497_row0_col179, #T_45497_row0_col187, #T_45497_row0_col192, #T_45497_row1_col68, #T_45497_row1_col98, #T_45497_row1_col114, #T_45497_row1_col131, #T_45497_row1_col159, #T_45497_row1_col170, #T_45497_row1_col174, #T_45497_row1_col176, #T_45497_row1_col179, #T_45497_row1_col187, #T_45497_row1_col192 {\n",
       "  background-color: #e5e5ff;\n",
       "  color: #000000;\n",
       "}\n",
       "#T_45497_row0_col83, #T_45497_row0_col132, #T_45497_row1_col83, #T_45497_row1_col132 {\n",
       "  background-color: #c5c5ff;\n",
       "  color: #000000;\n",
       "}\n",
       "#T_45497_row0_col85, #T_45497_row0_col103, #T_45497_row0_col189, #T_45497_row1_col85, #T_45497_row1_col103, #T_45497_row1_col189 {\n",
       "  background-color: #b5b5ff;\n",
       "  color: #000000;\n",
       "}\n",
       "#T_45497_row0_col87, #T_45497_row1_col87 {\n",
       "  background-color: #9d9dff;\n",
       "  color: #f1f1f1;\n",
       "}\n",
       "#T_45497_row0_col89, #T_45497_row0_col119, #T_45497_row0_col152, #T_45497_row0_col178, #T_45497_row1_col89, #T_45497_row1_col119, #T_45497_row1_col152, #T_45497_row1_col178 {\n",
       "  background-color: #fff5f5;\n",
       "  color: #000000;\n",
       "}\n",
       "#T_45497_row0_col91, #T_45497_row1_col91 {\n",
       "  background-color: #ffd1d1;\n",
       "  color: #000000;\n",
       "}\n",
       "#T_45497_row0_col93, #T_45497_row1_col93 {\n",
       "  background-color: #800000;\n",
       "  color: #f1f1f1;\n",
       "}\n",
       "#T_45497_row0_col96, #T_45497_row0_col116, #T_45497_row1_col96, #T_45497_row1_col116 {\n",
       "  background-color: #ffc1c1;\n",
       "  color: #000000;\n",
       "}\n",
       "#T_45497_row0_col101, #T_45497_row0_col113, #T_45497_row0_col151, #T_45497_row0_col157, #T_45497_row0_col202, #T_45497_row1_col101, #T_45497_row1_col113, #T_45497_row1_col151, #T_45497_row1_col157, #T_45497_row1_col202 {\n",
       "  background-color: #fdfdff;\n",
       "  color: #000000;\n",
       "}\n",
       "#T_45497_row0_col115, #T_45497_row1_col115 {\n",
       "  background-color: #6d6dff;\n",
       "  color: #f1f1f1;\n",
       "}\n",
       "#T_45497_row0_col122, #T_45497_row1_col122 {\n",
       "  background-color: #b1b1ff;\n",
       "  color: #000000;\n",
       "}\n",
       "#T_45497_row0_col123, #T_45497_row1_col123 {\n",
       "  background-color: #adadff;\n",
       "  color: #000000;\n",
       "}\n",
       "#T_45497_row0_col130, #T_45497_row0_col153, #T_45497_row0_col182, #T_45497_row1_col130, #T_45497_row1_col153, #T_45497_row1_col182 {\n",
       "  background-color: #ffd9d9;\n",
       "  color: #000000;\n",
       "}\n",
       "#T_45497_row0_col136, #T_45497_row1_col136 {\n",
       "  background-color: #0000e9;\n",
       "  color: #f1f1f1;\n",
       "}\n",
       "#T_45497_row0_col137, #T_45497_row1_col137 {\n",
       "  background-color: #ff3535;\n",
       "  color: #f1f1f1;\n",
       "}\n",
       "#T_45497_row0_col150, #T_45497_row1_col150 {\n",
       "  background-color: #ff6565;\n",
       "  color: #f1f1f1;\n",
       "}\n",
       "#T_45497_row0_col155, #T_45497_row1_col155 {\n",
       "  background-color: #a9a9ff;\n",
       "  color: #000000;\n",
       "}\n",
       "#T_45497_row0_col168, #T_45497_row1_col168 {\n",
       "  background-color: #6565ff;\n",
       "  color: #f1f1f1;\n",
       "}\n",
       "#T_45497_row0_col177, #T_45497_row1_col177 {\n",
       "  background-color: #ff7575;\n",
       "  color: #f1f1f1;\n",
       "}\n",
       "#T_45497_row0_col180, #T_45497_row0_col194, #T_45497_row1_col180, #T_45497_row1_col194 {\n",
       "  background-color: #8989ff;\n",
       "  color: #f1f1f1;\n",
       "}\n",
       "#T_45497_row0_col198, #T_45497_row1_col198 {\n",
       "  background-color: #ffc5c5;\n",
       "  color: #000000;\n",
       "}\n",
       "</style>\n",
       "<table id=\"T_45497\">\n",
       "  <thead>\n",
       "    <tr>\n",
       "      <th class=\"blank level0\" >&nbsp;</th>\n",
       "      <th id=\"T_45497_level0_col0\" class=\"col_heading level0 col0\" >0</th>\n",
       "      <th id=\"T_45497_level0_col1\" class=\"col_heading level0 col1\" >1</th>\n",
       "      <th id=\"T_45497_level0_col2\" class=\"col_heading level0 col2\" >2</th>\n",
       "      <th id=\"T_45497_level0_col3\" class=\"col_heading level0 col3\" >3</th>\n",
       "      <th id=\"T_45497_level0_col4\" class=\"col_heading level0 col4\" >4</th>\n",
       "      <th id=\"T_45497_level0_col5\" class=\"col_heading level0 col5\" >5</th>\n",
       "      <th id=\"T_45497_level0_col6\" class=\"col_heading level0 col6\" >6</th>\n",
       "      <th id=\"T_45497_level0_col7\" class=\"col_heading level0 col7\" >7</th>\n",
       "      <th id=\"T_45497_level0_col8\" class=\"col_heading level0 col8\" >8</th>\n",
       "      <th id=\"T_45497_level0_col9\" class=\"col_heading level0 col9\" >9</th>\n",
       "      <th id=\"T_45497_level0_col10\" class=\"col_heading level0 col10\" >10</th>\n",
       "      <th id=\"T_45497_level0_col11\" class=\"col_heading level0 col11\" >11</th>\n",
       "      <th id=\"T_45497_level0_col12\" class=\"col_heading level0 col12\" >12</th>\n",
       "      <th id=\"T_45497_level0_col13\" class=\"col_heading level0 col13\" >13</th>\n",
       "      <th id=\"T_45497_level0_col14\" class=\"col_heading level0 col14\" >14</th>\n",
       "      <th id=\"T_45497_level0_col15\" class=\"col_heading level0 col15\" >15</th>\n",
       "      <th id=\"T_45497_level0_col16\" class=\"col_heading level0 col16\" >16</th>\n",
       "      <th id=\"T_45497_level0_col17\" class=\"col_heading level0 col17\" >17</th>\n",
       "      <th id=\"T_45497_level0_col18\" class=\"col_heading level0 col18\" >18</th>\n",
       "      <th id=\"T_45497_level0_col19\" class=\"col_heading level0 col19\" >19</th>\n",
       "      <th id=\"T_45497_level0_col20\" class=\"col_heading level0 col20\" >20</th>\n",
       "      <th id=\"T_45497_level0_col21\" class=\"col_heading level0 col21\" >21</th>\n",
       "      <th id=\"T_45497_level0_col22\" class=\"col_heading level0 col22\" >22</th>\n",
       "      <th id=\"T_45497_level0_col23\" class=\"col_heading level0 col23\" >23</th>\n",
       "      <th id=\"T_45497_level0_col24\" class=\"col_heading level0 col24\" >24</th>\n",
       "      <th id=\"T_45497_level0_col25\" class=\"col_heading level0 col25\" >25</th>\n",
       "      <th id=\"T_45497_level0_col26\" class=\"col_heading level0 col26\" >26</th>\n",
       "      <th id=\"T_45497_level0_col27\" class=\"col_heading level0 col27\" >27</th>\n",
       "      <th id=\"T_45497_level0_col28\" class=\"col_heading level0 col28\" >28</th>\n",
       "      <th id=\"T_45497_level0_col29\" class=\"col_heading level0 col29\" >29</th>\n",
       "      <th id=\"T_45497_level0_col30\" class=\"col_heading level0 col30\" >30</th>\n",
       "      <th id=\"T_45497_level0_col31\" class=\"col_heading level0 col31\" >31</th>\n",
       "      <th id=\"T_45497_level0_col32\" class=\"col_heading level0 col32\" >32</th>\n",
       "      <th id=\"T_45497_level0_col33\" class=\"col_heading level0 col33\" >33</th>\n",
       "      <th id=\"T_45497_level0_col34\" class=\"col_heading level0 col34\" >34</th>\n",
       "      <th id=\"T_45497_level0_col35\" class=\"col_heading level0 col35\" >35</th>\n",
       "      <th id=\"T_45497_level0_col36\" class=\"col_heading level0 col36\" >36</th>\n",
       "      <th id=\"T_45497_level0_col37\" class=\"col_heading level0 col37\" >37</th>\n",
       "      <th id=\"T_45497_level0_col38\" class=\"col_heading level0 col38\" >38</th>\n",
       "      <th id=\"T_45497_level0_col39\" class=\"col_heading level0 col39\" >39</th>\n",
       "      <th id=\"T_45497_level0_col40\" class=\"col_heading level0 col40\" >40</th>\n",
       "      <th id=\"T_45497_level0_col41\" class=\"col_heading level0 col41\" >41</th>\n",
       "      <th id=\"T_45497_level0_col42\" class=\"col_heading level0 col42\" >42</th>\n",
       "      <th id=\"T_45497_level0_col43\" class=\"col_heading level0 col43\" >43</th>\n",
       "      <th id=\"T_45497_level0_col44\" class=\"col_heading level0 col44\" >44</th>\n",
       "      <th id=\"T_45497_level0_col45\" class=\"col_heading level0 col45\" >45</th>\n",
       "      <th id=\"T_45497_level0_col46\" class=\"col_heading level0 col46\" >46</th>\n",
       "      <th id=\"T_45497_level0_col47\" class=\"col_heading level0 col47\" >47</th>\n",
       "      <th id=\"T_45497_level0_col48\" class=\"col_heading level0 col48\" >48</th>\n",
       "      <th id=\"T_45497_level0_col49\" class=\"col_heading level0 col49\" >49</th>\n",
       "      <th id=\"T_45497_level0_col50\" class=\"col_heading level0 col50\" >50</th>\n",
       "      <th id=\"T_45497_level0_col51\" class=\"col_heading level0 col51\" >51</th>\n",
       "      <th id=\"T_45497_level0_col52\" class=\"col_heading level0 col52\" >52</th>\n",
       "      <th id=\"T_45497_level0_col53\" class=\"col_heading level0 col53\" >53</th>\n",
       "      <th id=\"T_45497_level0_col54\" class=\"col_heading level0 col54\" >54</th>\n",
       "      <th id=\"T_45497_level0_col55\" class=\"col_heading level0 col55\" >55</th>\n",
       "      <th id=\"T_45497_level0_col56\" class=\"col_heading level0 col56\" >56</th>\n",
       "      <th id=\"T_45497_level0_col57\" class=\"col_heading level0 col57\" >57</th>\n",
       "      <th id=\"T_45497_level0_col58\" class=\"col_heading level0 col58\" >58</th>\n",
       "      <th id=\"T_45497_level0_col59\" class=\"col_heading level0 col59\" >59</th>\n",
       "      <th id=\"T_45497_level0_col60\" class=\"col_heading level0 col60\" >60</th>\n",
       "      <th id=\"T_45497_level0_col61\" class=\"col_heading level0 col61\" >61</th>\n",
       "      <th id=\"T_45497_level0_col62\" class=\"col_heading level0 col62\" >62</th>\n",
       "      <th id=\"T_45497_level0_col63\" class=\"col_heading level0 col63\" >63</th>\n",
       "      <th id=\"T_45497_level0_col64\" class=\"col_heading level0 col64\" >64</th>\n",
       "      <th id=\"T_45497_level0_col65\" class=\"col_heading level0 col65\" >65</th>\n",
       "      <th id=\"T_45497_level0_col66\" class=\"col_heading level0 col66\" >66</th>\n",
       "      <th id=\"T_45497_level0_col67\" class=\"col_heading level0 col67\" >67</th>\n",
       "      <th id=\"T_45497_level0_col68\" class=\"col_heading level0 col68\" >68</th>\n",
       "      <th id=\"T_45497_level0_col69\" class=\"col_heading level0 col69\" >69</th>\n",
       "      <th id=\"T_45497_level0_col70\" class=\"col_heading level0 col70\" >70</th>\n",
       "      <th id=\"T_45497_level0_col71\" class=\"col_heading level0 col71\" >71</th>\n",
       "      <th id=\"T_45497_level0_col72\" class=\"col_heading level0 col72\" >72</th>\n",
       "      <th id=\"T_45497_level0_col73\" class=\"col_heading level0 col73\" >73</th>\n",
       "      <th id=\"T_45497_level0_col74\" class=\"col_heading level0 col74\" >74</th>\n",
       "      <th id=\"T_45497_level0_col75\" class=\"col_heading level0 col75\" >75</th>\n",
       "      <th id=\"T_45497_level0_col76\" class=\"col_heading level0 col76\" >76</th>\n",
       "      <th id=\"T_45497_level0_col77\" class=\"col_heading level0 col77\" >77</th>\n",
       "      <th id=\"T_45497_level0_col78\" class=\"col_heading level0 col78\" >78</th>\n",
       "      <th id=\"T_45497_level0_col79\" class=\"col_heading level0 col79\" >79</th>\n",
       "      <th id=\"T_45497_level0_col80\" class=\"col_heading level0 col80\" >80</th>\n",
       "      <th id=\"T_45497_level0_col81\" class=\"col_heading level0 col81\" >81</th>\n",
       "      <th id=\"T_45497_level0_col82\" class=\"col_heading level0 col82\" >82</th>\n",
       "      <th id=\"T_45497_level0_col83\" class=\"col_heading level0 col83\" >83</th>\n",
       "      <th id=\"T_45497_level0_col84\" class=\"col_heading level0 col84\" >84</th>\n",
       "      <th id=\"T_45497_level0_col85\" class=\"col_heading level0 col85\" >85</th>\n",
       "      <th id=\"T_45497_level0_col86\" class=\"col_heading level0 col86\" >86</th>\n",
       "      <th id=\"T_45497_level0_col87\" class=\"col_heading level0 col87\" >87</th>\n",
       "      <th id=\"T_45497_level0_col88\" class=\"col_heading level0 col88\" >88</th>\n",
       "      <th id=\"T_45497_level0_col89\" class=\"col_heading level0 col89\" >89</th>\n",
       "      <th id=\"T_45497_level0_col90\" class=\"col_heading level0 col90\" >90</th>\n",
       "      <th id=\"T_45497_level0_col91\" class=\"col_heading level0 col91\" >91</th>\n",
       "      <th id=\"T_45497_level0_col92\" class=\"col_heading level0 col92\" >92</th>\n",
       "      <th id=\"T_45497_level0_col93\" class=\"col_heading level0 col93\" >93</th>\n",
       "      <th id=\"T_45497_level0_col94\" class=\"col_heading level0 col94\" >94</th>\n",
       "      <th id=\"T_45497_level0_col95\" class=\"col_heading level0 col95\" >95</th>\n",
       "      <th id=\"T_45497_level0_col96\" class=\"col_heading level0 col96\" >96</th>\n",
       "      <th id=\"T_45497_level0_col97\" class=\"col_heading level0 col97\" >97</th>\n",
       "      <th id=\"T_45497_level0_col98\" class=\"col_heading level0 col98\" >98</th>\n",
       "      <th id=\"T_45497_level0_col99\" class=\"col_heading level0 col99\" >99</th>\n",
       "      <th id=\"T_45497_level0_col100\" class=\"col_heading level0 col100\" >100</th>\n",
       "      <th id=\"T_45497_level0_col101\" class=\"col_heading level0 col101\" >101</th>\n",
       "      <th id=\"T_45497_level0_col102\" class=\"col_heading level0 col102\" >102</th>\n",
       "      <th id=\"T_45497_level0_col103\" class=\"col_heading level0 col103\" >103</th>\n",
       "      <th id=\"T_45497_level0_col104\" class=\"col_heading level0 col104\" >104</th>\n",
       "      <th id=\"T_45497_level0_col105\" class=\"col_heading level0 col105\" >105</th>\n",
       "      <th id=\"T_45497_level0_col106\" class=\"col_heading level0 col106\" >106</th>\n",
       "      <th id=\"T_45497_level0_col107\" class=\"col_heading level0 col107\" >107</th>\n",
       "      <th id=\"T_45497_level0_col108\" class=\"col_heading level0 col108\" >108</th>\n",
       "      <th id=\"T_45497_level0_col109\" class=\"col_heading level0 col109\" >109</th>\n",
       "      <th id=\"T_45497_level0_col110\" class=\"col_heading level0 col110\" >110</th>\n",
       "      <th id=\"T_45497_level0_col111\" class=\"col_heading level0 col111\" >111</th>\n",
       "      <th id=\"T_45497_level0_col112\" class=\"col_heading level0 col112\" >112</th>\n",
       "      <th id=\"T_45497_level0_col113\" class=\"col_heading level0 col113\" >113</th>\n",
       "      <th id=\"T_45497_level0_col114\" class=\"col_heading level0 col114\" >114</th>\n",
       "      <th id=\"T_45497_level0_col115\" class=\"col_heading level0 col115\" >115</th>\n",
       "      <th id=\"T_45497_level0_col116\" class=\"col_heading level0 col116\" >116</th>\n",
       "      <th id=\"T_45497_level0_col117\" class=\"col_heading level0 col117\" >117</th>\n",
       "      <th id=\"T_45497_level0_col118\" class=\"col_heading level0 col118\" >118</th>\n",
       "      <th id=\"T_45497_level0_col119\" class=\"col_heading level0 col119\" >119</th>\n",
       "      <th id=\"T_45497_level0_col120\" class=\"col_heading level0 col120\" >120</th>\n",
       "      <th id=\"T_45497_level0_col121\" class=\"col_heading level0 col121\" >121</th>\n",
       "      <th id=\"T_45497_level0_col122\" class=\"col_heading level0 col122\" >122</th>\n",
       "      <th id=\"T_45497_level0_col123\" class=\"col_heading level0 col123\" >123</th>\n",
       "      <th id=\"T_45497_level0_col124\" class=\"col_heading level0 col124\" >124</th>\n",
       "      <th id=\"T_45497_level0_col125\" class=\"col_heading level0 col125\" >125</th>\n",
       "      <th id=\"T_45497_level0_col126\" class=\"col_heading level0 col126\" >126</th>\n",
       "      <th id=\"T_45497_level0_col127\" class=\"col_heading level0 col127\" >127</th>\n",
       "      <th id=\"T_45497_level0_col128\" class=\"col_heading level0 col128\" >128</th>\n",
       "      <th id=\"T_45497_level0_col129\" class=\"col_heading level0 col129\" >129</th>\n",
       "      <th id=\"T_45497_level0_col130\" class=\"col_heading level0 col130\" >130</th>\n",
       "      <th id=\"T_45497_level0_col131\" class=\"col_heading level0 col131\" >131</th>\n",
       "      <th id=\"T_45497_level0_col132\" class=\"col_heading level0 col132\" >132</th>\n",
       "      <th id=\"T_45497_level0_col133\" class=\"col_heading level0 col133\" >133</th>\n",
       "      <th id=\"T_45497_level0_col134\" class=\"col_heading level0 col134\" >134</th>\n",
       "      <th id=\"T_45497_level0_col135\" class=\"col_heading level0 col135\" >135</th>\n",
       "      <th id=\"T_45497_level0_col136\" class=\"col_heading level0 col136\" >136</th>\n",
       "      <th id=\"T_45497_level0_col137\" class=\"col_heading level0 col137\" >137</th>\n",
       "      <th id=\"T_45497_level0_col138\" class=\"col_heading level0 col138\" >138</th>\n",
       "      <th id=\"T_45497_level0_col139\" class=\"col_heading level0 col139\" >139</th>\n",
       "      <th id=\"T_45497_level0_col140\" class=\"col_heading level0 col140\" >140</th>\n",
       "      <th id=\"T_45497_level0_col141\" class=\"col_heading level0 col141\" >141</th>\n",
       "      <th id=\"T_45497_level0_col142\" class=\"col_heading level0 col142\" >142</th>\n",
       "      <th id=\"T_45497_level0_col143\" class=\"col_heading level0 col143\" >143</th>\n",
       "      <th id=\"T_45497_level0_col144\" class=\"col_heading level0 col144\" >144</th>\n",
       "      <th id=\"T_45497_level0_col145\" class=\"col_heading level0 col145\" >145</th>\n",
       "      <th id=\"T_45497_level0_col146\" class=\"col_heading level0 col146\" >146</th>\n",
       "      <th id=\"T_45497_level0_col147\" class=\"col_heading level0 col147\" >147</th>\n",
       "      <th id=\"T_45497_level0_col148\" class=\"col_heading level0 col148\" >148</th>\n",
       "      <th id=\"T_45497_level0_col149\" class=\"col_heading level0 col149\" >149</th>\n",
       "      <th id=\"T_45497_level0_col150\" class=\"col_heading level0 col150\" >150</th>\n",
       "      <th id=\"T_45497_level0_col151\" class=\"col_heading level0 col151\" >151</th>\n",
       "      <th id=\"T_45497_level0_col152\" class=\"col_heading level0 col152\" >152</th>\n",
       "      <th id=\"T_45497_level0_col153\" class=\"col_heading level0 col153\" >153</th>\n",
       "      <th id=\"T_45497_level0_col154\" class=\"col_heading level0 col154\" >154</th>\n",
       "      <th id=\"T_45497_level0_col155\" class=\"col_heading level0 col155\" >155</th>\n",
       "      <th id=\"T_45497_level0_col156\" class=\"col_heading level0 col156\" >156</th>\n",
       "      <th id=\"T_45497_level0_col157\" class=\"col_heading level0 col157\" >157</th>\n",
       "      <th id=\"T_45497_level0_col158\" class=\"col_heading level0 col158\" >158</th>\n",
       "      <th id=\"T_45497_level0_col159\" class=\"col_heading level0 col159\" >159</th>\n",
       "      <th id=\"T_45497_level0_col160\" class=\"col_heading level0 col160\" >160</th>\n",
       "      <th id=\"T_45497_level0_col161\" class=\"col_heading level0 col161\" >161</th>\n",
       "      <th id=\"T_45497_level0_col162\" class=\"col_heading level0 col162\" >162</th>\n",
       "      <th id=\"T_45497_level0_col163\" class=\"col_heading level0 col163\" >163</th>\n",
       "      <th id=\"T_45497_level0_col164\" class=\"col_heading level0 col164\" >164</th>\n",
       "      <th id=\"T_45497_level0_col165\" class=\"col_heading level0 col165\" >165</th>\n",
       "      <th id=\"T_45497_level0_col166\" class=\"col_heading level0 col166\" >166</th>\n",
       "      <th id=\"T_45497_level0_col167\" class=\"col_heading level0 col167\" >167</th>\n",
       "      <th id=\"T_45497_level0_col168\" class=\"col_heading level0 col168\" >168</th>\n",
       "      <th id=\"T_45497_level0_col169\" class=\"col_heading level0 col169\" >169</th>\n",
       "      <th id=\"T_45497_level0_col170\" class=\"col_heading level0 col170\" >170</th>\n",
       "      <th id=\"T_45497_level0_col171\" class=\"col_heading level0 col171\" >171</th>\n",
       "      <th id=\"T_45497_level0_col172\" class=\"col_heading level0 col172\" >172</th>\n",
       "      <th id=\"T_45497_level0_col173\" class=\"col_heading level0 col173\" >173</th>\n",
       "      <th id=\"T_45497_level0_col174\" class=\"col_heading level0 col174\" >174</th>\n",
       "      <th id=\"T_45497_level0_col175\" class=\"col_heading level0 col175\" >175</th>\n",
       "      <th id=\"T_45497_level0_col176\" class=\"col_heading level0 col176\" >176</th>\n",
       "      <th id=\"T_45497_level0_col177\" class=\"col_heading level0 col177\" >177</th>\n",
       "      <th id=\"T_45497_level0_col178\" class=\"col_heading level0 col178\" >178</th>\n",
       "      <th id=\"T_45497_level0_col179\" class=\"col_heading level0 col179\" >179</th>\n",
       "      <th id=\"T_45497_level0_col180\" class=\"col_heading level0 col180\" >180</th>\n",
       "      <th id=\"T_45497_level0_col181\" class=\"col_heading level0 col181\" >181</th>\n",
       "      <th id=\"T_45497_level0_col182\" class=\"col_heading level0 col182\" >182</th>\n",
       "      <th id=\"T_45497_level0_col183\" class=\"col_heading level0 col183\" >183</th>\n",
       "      <th id=\"T_45497_level0_col184\" class=\"col_heading level0 col184\" >184</th>\n",
       "      <th id=\"T_45497_level0_col185\" class=\"col_heading level0 col185\" >185</th>\n",
       "      <th id=\"T_45497_level0_col186\" class=\"col_heading level0 col186\" >186</th>\n",
       "      <th id=\"T_45497_level0_col187\" class=\"col_heading level0 col187\" >187</th>\n",
       "      <th id=\"T_45497_level0_col188\" class=\"col_heading level0 col188\" >188</th>\n",
       "      <th id=\"T_45497_level0_col189\" class=\"col_heading level0 col189\" >189</th>\n",
       "      <th id=\"T_45497_level0_col190\" class=\"col_heading level0 col190\" >190</th>\n",
       "      <th id=\"T_45497_level0_col191\" class=\"col_heading level0 col191\" >191</th>\n",
       "      <th id=\"T_45497_level0_col192\" class=\"col_heading level0 col192\" >192</th>\n",
       "      <th id=\"T_45497_level0_col193\" class=\"col_heading level0 col193\" >193</th>\n",
       "      <th id=\"T_45497_level0_col194\" class=\"col_heading level0 col194\" >194</th>\n",
       "      <th id=\"T_45497_level0_col195\" class=\"col_heading level0 col195\" >195</th>\n",
       "      <th id=\"T_45497_level0_col196\" class=\"col_heading level0 col196\" >196</th>\n",
       "      <th id=\"T_45497_level0_col197\" class=\"col_heading level0 col197\" >197</th>\n",
       "      <th id=\"T_45497_level0_col198\" class=\"col_heading level0 col198\" >198</th>\n",
       "      <th id=\"T_45497_level0_col199\" class=\"col_heading level0 col199\" >199</th>\n",
       "      <th id=\"T_45497_level0_col200\" class=\"col_heading level0 col200\" >200</th>\n",
       "      <th id=\"T_45497_level0_col201\" class=\"col_heading level0 col201\" >201</th>\n",
       "      <th id=\"T_45497_level0_col202\" class=\"col_heading level0 col202\" >202</th>\n",
       "    </tr>\n",
       "  </thead>\n",
       "  <tbody>\n",
       "    <tr>\n",
       "      <th id=\"T_45497_level0_row0\" class=\"row_heading level0 row0\" >token</th>\n",
       "      <td id=\"T_45497_row0_col0\" class=\"data row0 col0\" >the</td>\n",
       "      <td id=\"T_45497_row0_col1\" class=\"data row0 col1\" >movie</td>\n",
       "      <td id=\"T_45497_row0_col2\" class=\"data row0 col2\" >is</td>\n",
       "      <td id=\"T_45497_row0_col3\" class=\"data row0 col3\" >precious</td>\n",
       "      <td id=\"T_45497_row0_col4\" class=\"data row0 col4\" >,</td>\n",
       "      <td id=\"T_45497_row0_col5\" class=\"data row0 col5\" >and</td>\n",
       "      <td id=\"T_45497_row0_col6\" class=\"data row0 col6\" >cage</td>\n",
       "      <td id=\"T_45497_row0_col7\" class=\"data row0 col7\" >is</td>\n",
       "      <td id=\"T_45497_row0_col8\" class=\"data row0 col8\" >a</td>\n",
       "      <td id=\"T_45497_row0_col9\" class=\"data row0 col9\" >babe</td>\n",
       "      <td id=\"T_45497_row0_col10\" class=\"data row0 col10\" >.</td>\n",
       "      <td id=\"T_45497_row0_col11\" class=\"data row0 col11\" ><</td>\n",
       "      <td id=\"T_45497_row0_col12\" class=\"data row0 col12\" >br</td>\n",
       "      <td id=\"T_45497_row0_col13\" class=\"data row0 col13\" >/</td>\n",
       "      <td id=\"T_45497_row0_col14\" class=\"data row0 col14\" >></td>\n",
       "      <td id=\"T_45497_row0_col15\" class=\"data row0 col15\" ><</td>\n",
       "      <td id=\"T_45497_row0_col16\" class=\"data row0 col16\" >br</td>\n",
       "      <td id=\"T_45497_row0_col17\" class=\"data row0 col17\" >/</td>\n",
       "      <td id=\"T_45497_row0_col18\" class=\"data row0 col18\" >></td>\n",
       "      <td id=\"T_45497_row0_col19\" class=\"data row0 col19\" >but</td>\n",
       "      <td id=\"T_45497_row0_col20\" class=\"data row0 col20\" >will</td>\n",
       "      <td id=\"T_45497_row0_col21\" class=\"data row0 col21\" >anyone</td>\n",
       "      <td id=\"T_45497_row0_col22\" class=\"data row0 col22\" >agree</td>\n",
       "      <td id=\"T_45497_row0_col23\" class=\"data row0 col23\" >with</td>\n",
       "      <td id=\"T_45497_row0_col24\" class=\"data row0 col24\" >me</td>\n",
       "      <td id=\"T_45497_row0_col25\" class=\"data row0 col25\" >in</td>\n",
       "      <td id=\"T_45497_row0_col26\" class=\"data row0 col26\" >saying</td>\n",
       "      <td id=\"T_45497_row0_col27\" class=\"data row0 col27\" >that</td>\n",
       "      <td id=\"T_45497_row0_col28\" class=\"data row0 col28\" >the</td>\n",
       "      <td id=\"T_45497_row0_col29\" class=\"data row0 col29\" >punk</td>\n",
       "      <td id=\"T_45497_row0_col30\" class=\"data row0 col30\" >representation</td>\n",
       "      <td id=\"T_45497_row0_col31\" class=\"data row0 col31\" >in</td>\n",
       "      <td id=\"T_45497_row0_col32\" class=\"data row0 col32\" >this</td>\n",
       "      <td id=\"T_45497_row0_col33\" class=\"data row0 col33\" >movie</td>\n",
       "      <td id=\"T_45497_row0_col34\" class=\"data row0 col34\" >is</td>\n",
       "      <td id=\"T_45497_row0_col35\" class=\"data row0 col35\" >at</td>\n",
       "      <td id=\"T_45497_row0_col36\" class=\"data row0 col36\" >##ro</td>\n",
       "      <td id=\"T_45497_row0_col37\" class=\"data row0 col37\" >##cious</td>\n",
       "      <td id=\"T_45497_row0_col38\" class=\"data row0 col38\" >?</td>\n",
       "      <td id=\"T_45497_row0_col39\" class=\"data row0 col39\" >!</td>\n",
       "      <td id=\"T_45497_row0_col40\" class=\"data row0 col40\" >?</td>\n",
       "      <td id=\"T_45497_row0_col41\" class=\"data row0 col41\" >!</td>\n",
       "      <td id=\"T_45497_row0_col42\" class=\"data row0 col42\" ><</td>\n",
       "      <td id=\"T_45497_row0_col43\" class=\"data row0 col43\" >br</td>\n",
       "      <td id=\"T_45497_row0_col44\" class=\"data row0 col44\" >/</td>\n",
       "      <td id=\"T_45497_row0_col45\" class=\"data row0 col45\" >></td>\n",
       "      <td id=\"T_45497_row0_col46\" class=\"data row0 col46\" ><</td>\n",
       "      <td id=\"T_45497_row0_col47\" class=\"data row0 col47\" >br</td>\n",
       "      <td id=\"T_45497_row0_col48\" class=\"data row0 col48\" >/</td>\n",
       "      <td id=\"T_45497_row0_col49\" class=\"data row0 col49\" >></td>\n",
       "      <td id=\"T_45497_row0_col50\" class=\"data row0 col50\" >where</td>\n",
       "      <td id=\"T_45497_row0_col51\" class=\"data row0 col51\" >'</td>\n",
       "      <td id=\"T_45497_row0_col52\" class=\"data row0 col52\" >s</td>\n",
       "      <td id=\"T_45497_row0_col53\" class=\"data row0 col53\" >the</td>\n",
       "      <td id=\"T_45497_row0_col54\" class=\"data row0 col54\" >clash</td>\n",
       "      <td id=\"T_45497_row0_col55\" class=\"data row0 col55\" >?</td>\n",
       "      <td id=\"T_45497_row0_col56\" class=\"data row0 col56\" >the</td>\n",
       "      <td id=\"T_45497_row0_col57\" class=\"data row0 col57\" >ramon</td>\n",
       "      <td id=\"T_45497_row0_col58\" class=\"data row0 col58\" >##es</td>\n",
       "      <td id=\"T_45497_row0_col59\" class=\"data row0 col59\" >?</td>\n",
       "      <td id=\"T_45497_row0_col60\" class=\"data row0 col60\" >?</td>\n",
       "      <td id=\"T_45497_row0_col61\" class=\"data row0 col61\" >mis</td>\n",
       "      <td id=\"T_45497_row0_col62\" class=\"data row0 col62\" >##fi</td>\n",
       "      <td id=\"T_45497_row0_col63\" class=\"data row0 col63\" >##ts</td>\n",
       "      <td id=\"T_45497_row0_col64\" class=\"data row0 col64\" >?</td>\n",
       "      <td id=\"T_45497_row0_col65\" class=\"data row0 col65\" >social</td>\n",
       "      <td id=\"T_45497_row0_col66\" class=\"data row0 col66\" >distortion</td>\n",
       "      <td id=\"T_45497_row0_col67\" class=\"data row0 col67\" >?</td>\n",
       "      <td id=\"T_45497_row0_col68\" class=\"data row0 col68\" >the</td>\n",
       "      <td id=\"T_45497_row0_col69\" class=\"data row0 col69\" >cr</td>\n",
       "      <td id=\"T_45497_row0_col70\" class=\"data row0 col70\" >##amps</td>\n",
       "      <td id=\"T_45497_row0_col71\" class=\"data row0 col71\" >?</td>\n",
       "      <td id=\"T_45497_row0_col72\" class=\"data row0 col72\" >?</td>\n",
       "      <td id=\"T_45497_row0_col73\" class=\"data row0 col73\" >sex</td>\n",
       "      <td id=\"T_45497_row0_col74\" class=\"data row0 col74\" >pistols</td>\n",
       "      <td id=\"T_45497_row0_col75\" class=\"data row0 col75\" >?</td>\n",
       "      <td id=\"T_45497_row0_col76\" class=\"data row0 col76\" >!</td>\n",
       "      <td id=\"T_45497_row0_col77\" class=\"data row0 col77\" >anyone</td>\n",
       "      <td id=\"T_45497_row0_col78\" class=\"data row0 col78\" >?</td>\n",
       "      <td id=\"T_45497_row0_col79\" class=\"data row0 col79\" >!</td>\n",
       "      <td id=\"T_45497_row0_col80\" class=\"data row0 col80\" >?</td>\n",
       "      <td id=\"T_45497_row0_col81\" class=\"data row0 col81\" >!</td>\n",
       "      <td id=\"T_45497_row0_col82\" class=\"data row0 col82\" >?</td>\n",
       "      <td id=\"T_45497_row0_col83\" class=\"data row0 col83\" >!</td>\n",
       "      <td id=\"T_45497_row0_col84\" class=\"data row0 col84\" >?</td>\n",
       "      <td id=\"T_45497_row0_col85\" class=\"data row0 col85\" >!</td>\n",
       "      <td id=\"T_45497_row0_col86\" class=\"data row0 col86\" >the</td>\n",
       "      <td id=\"T_45497_row0_col87\" class=\"data row0 col87\" >music</td>\n",
       "      <td id=\"T_45497_row0_col88\" class=\"data row0 col88\" >is</td>\n",
       "      <td id=\"T_45497_row0_col89\" class=\"data row0 col89\" >this</td>\n",
       "      <td id=\"T_45497_row0_col90\" class=\"data row0 col90\" >movie</td>\n",
       "      <td id=\"T_45497_row0_col91\" class=\"data row0 col91\" >is</td>\n",
       "      <td id=\"T_45497_row0_col92\" class=\"data row0 col92\" >incredibly</td>\n",
       "      <td id=\"T_45497_row0_col93\" class=\"data row0 col93\" >disappointing</td>\n",
       "      <td id=\"T_45497_row0_col94\" class=\"data row0 col94\" >!</td>\n",
       "      <td id=\"T_45497_row0_col95\" class=\"data row0 col95\" >at</td>\n",
       "      <td id=\"T_45497_row0_col96\" class=\"data row0 col96\" >least</td>\n",
       "      <td id=\"T_45497_row0_col97\" class=\"data row0 col97\" >they</td>\n",
       "      <td id=\"T_45497_row0_col98\" class=\"data row0 col98\" >play</td>\n",
       "      <td id=\"T_45497_row0_col99\" class=\"data row0 col99\" >the</td>\n",
       "      <td id=\"T_45497_row0_col100\" class=\"data row0 col100\" >cure</td>\n",
       "      <td id=\"T_45497_row0_col101\" class=\"data row0 col101\" >.</td>\n",
       "      <td id=\"T_45497_row0_col102\" class=\"data row0 col102\" ><</td>\n",
       "      <td id=\"T_45497_row0_col103\" class=\"data row0 col103\" >br</td>\n",
       "      <td id=\"T_45497_row0_col104\" class=\"data row0 col104\" >/</td>\n",
       "      <td id=\"T_45497_row0_col105\" class=\"data row0 col105\" >></td>\n",
       "      <td id=\"T_45497_row0_col106\" class=\"data row0 col106\" ><</td>\n",
       "      <td id=\"T_45497_row0_col107\" class=\"data row0 col107\" >br</td>\n",
       "      <td id=\"T_45497_row0_col108\" class=\"data row0 col108\" >/</td>\n",
       "      <td id=\"T_45497_row0_col109\" class=\"data row0 col109\" >></td>\n",
       "      <td id=\"T_45497_row0_col110\" class=\"data row0 col110\" >plus</td>\n",
       "      <td id=\"T_45497_row0_col111\" class=\"data row0 col111\" >,</td>\n",
       "      <td id=\"T_45497_row0_col112\" class=\"data row0 col112\" >randy</td>\n",
       "      <td id=\"T_45497_row0_col113\" class=\"data row0 col113\" >'</td>\n",
       "      <td id=\"T_45497_row0_col114\" class=\"data row0 col114\" >s</td>\n",
       "      <td id=\"T_45497_row0_col115\" class=\"data row0 col115\" >feather</td>\n",
       "      <td id=\"T_45497_row0_col116\" class=\"data row0 col116\" >##ed</td>\n",
       "      <td id=\"T_45497_row0_col117\" class=\"data row0 col117\" >hair</td>\n",
       "      <td id=\"T_45497_row0_col118\" class=\"data row0 col118\" >and</td>\n",
       "      <td id=\"T_45497_row0_col119\" class=\"data row0 col119\" >plea</td>\n",
       "      <td id=\"T_45497_row0_col120\" class=\"data row0 col120\" >##ted</td>\n",
       "      <td id=\"T_45497_row0_col121\" class=\"data row0 col121\" >k</td>\n",
       "      <td id=\"T_45497_row0_col122\" class=\"data row0 col122\" >##hak</td>\n",
       "      <td id=\"T_45497_row0_col123\" class=\"data row0 col123\" >##is</td>\n",
       "      <td id=\"T_45497_row0_col124\" class=\"data row0 col124\" >.</td>\n",
       "      <td id=\"T_45497_row0_col125\" class=\"data row0 col125\" >.</td>\n",
       "      <td id=\"T_45497_row0_col126\" class=\"data row0 col126\" >.</td>\n",
       "      <td id=\"T_45497_row0_col127\" class=\"data row0 col127\" ><</td>\n",
       "      <td id=\"T_45497_row0_col128\" class=\"data row0 col128\" >br</td>\n",
       "      <td id=\"T_45497_row0_col129\" class=\"data row0 col129\" >/</td>\n",
       "      <td id=\"T_45497_row0_col130\" class=\"data row0 col130\" >></td>\n",
       "      <td id=\"T_45497_row0_col131\" class=\"data row0 col131\" ><</td>\n",
       "      <td id=\"T_45497_row0_col132\" class=\"data row0 col132\" >br</td>\n",
       "      <td id=\"T_45497_row0_col133\" class=\"data row0 col133\" >/</td>\n",
       "      <td id=\"T_45497_row0_col134\" class=\"data row0 col134\" >></td>\n",
       "      <td id=\"T_45497_row0_col135\" class=\"data row0 col135\" >this</td>\n",
       "      <td id=\"T_45497_row0_col136\" class=\"data row0 col136\" >definitely</td>\n",
       "      <td id=\"T_45497_row0_col137\" class=\"data row0 col137\" >looks</td>\n",
       "      <td id=\"T_45497_row0_col138\" class=\"data row0 col138\" >like</td>\n",
       "      <td id=\"T_45497_row0_col139\" class=\"data row0 col139\" >a</td>\n",
       "      <td id=\"T_45497_row0_col140\" class=\"data row0 col140\" >movie</td>\n",
       "      <td id=\"T_45497_row0_col141\" class=\"data row0 col141\" >about</td>\n",
       "      <td id=\"T_45497_row0_col142\" class=\"data row0 col142\" >\"</td>\n",
       "      <td id=\"T_45497_row0_col143\" class=\"data row0 col143\" >punk</td>\n",
       "      <td id=\"T_45497_row0_col144\" class=\"data row0 col144\" >##s</td>\n",
       "      <td id=\"T_45497_row0_col145\" class=\"data row0 col145\" >\"</td>\n",
       "      <td id=\"T_45497_row0_col146\" class=\"data row0 col146\" >the</td>\n",
       "      <td id=\"T_45497_row0_col147\" class=\"data row0 col147\" >way</td>\n",
       "      <td id=\"T_45497_row0_col148\" class=\"data row0 col148\" >that</td>\n",
       "      <td id=\"T_45497_row0_col149\" class=\"data row0 col149\" >a</td>\n",
       "      <td id=\"T_45497_row0_col150\" class=\"data row0 col150\" >bunch</td>\n",
       "      <td id=\"T_45497_row0_col151\" class=\"data row0 col151\" >of</td>\n",
       "      <td id=\"T_45497_row0_col152\" class=\"data row0 col152\" >movie</td>\n",
       "      <td id=\"T_45497_row0_col153\" class=\"data row0 col153\" >industry</td>\n",
       "      <td id=\"T_45497_row0_col154\" class=\"data row0 col154\" >squares</td>\n",
       "      <td id=\"T_45497_row0_col155\" class=\"data row0 col155\" >see</td>\n",
       "      <td id=\"T_45497_row0_col156\" class=\"data row0 col156\" >punk</td>\n",
       "      <td id=\"T_45497_row0_col157\" class=\"data row0 col157\" >##s</td>\n",
       "      <td id=\"T_45497_row0_col158\" class=\"data row0 col158\" >.</td>\n",
       "      <td id=\"T_45497_row0_col159\" class=\"data row0 col159\" ><</td>\n",
       "      <td id=\"T_45497_row0_col160\" class=\"data row0 col160\" >br</td>\n",
       "      <td id=\"T_45497_row0_col161\" class=\"data row0 col161\" >/</td>\n",
       "      <td id=\"T_45497_row0_col162\" class=\"data row0 col162\" >></td>\n",
       "      <td id=\"T_45497_row0_col163\" class=\"data row0 col163\" ><</td>\n",
       "      <td id=\"T_45497_row0_col164\" class=\"data row0 col164\" >br</td>\n",
       "      <td id=\"T_45497_row0_col165\" class=\"data row0 col165\" >/</td>\n",
       "      <td id=\"T_45497_row0_col166\" class=\"data row0 col166\" >></td>\n",
       "      <td id=\"T_45497_row0_col167\" class=\"data row0 col167\" >although</td>\n",
       "      <td id=\"T_45497_row0_col168\" class=\"data row0 col168\" >it</td>\n",
       "      <td id=\"T_45497_row0_col169\" class=\"data row0 col169\" >'</td>\n",
       "      <td id=\"T_45497_row0_col170\" class=\"data row0 col170\" >s</td>\n",
       "      <td id=\"T_45497_row0_col171\" class=\"data row0 col171\" >a</td>\n",
       "      <td id=\"T_45497_row0_col172\" class=\"data row0 col172\" >90</td>\n",
       "      <td id=\"T_45497_row0_col173\" class=\"data row0 col173\" >'</td>\n",
       "      <td id=\"T_45497_row0_col174\" class=\"data row0 col174\" >s</td>\n",
       "      <td id=\"T_45497_row0_col175\" class=\"data row0 col175\" >movie</td>\n",
       "      <td id=\"T_45497_row0_col176\" class=\"data row0 col176\" >,</td>\n",
       "      <td id=\"T_45497_row0_col177\" class=\"data row0 col177\" >sl</td>\n",
       "      <td id=\"T_45497_row0_col178\" class=\"data row0 col178\" >##c</td>\n",
       "      <td id=\"T_45497_row0_col179\" class=\"data row0 col179\" >punk</td>\n",
       "      <td id=\"T_45497_row0_col180\" class=\"data row0 col180\" >paints</td>\n",
       "      <td id=\"T_45497_row0_col181\" class=\"data row0 col181\" >a</td>\n",
       "      <td id=\"T_45497_row0_col182\" class=\"data row0 col182\" >much</td>\n",
       "      <td id=\"T_45497_row0_col183\" class=\"data row0 col183\" >more</td>\n",
       "      <td id=\"T_45497_row0_col184\" class=\"data row0 col184\" >accurate</td>\n",
       "      <td id=\"T_45497_row0_col185\" class=\"data row0 col185\" >picture</td>\n",
       "      <td id=\"T_45497_row0_col186\" class=\"data row0 col186\" >of</td>\n",
       "      <td id=\"T_45497_row0_col187\" class=\"data row0 col187\" >the</td>\n",
       "      <td id=\"T_45497_row0_col188\" class=\"data row0 col188\" >punk</td>\n",
       "      <td id=\"T_45497_row0_col189\" class=\"data row0 col189\" >rock</td>\n",
       "      <td id=\"T_45497_row0_col190\" class=\"data row0 col190\" >scene</td>\n",
       "      <td id=\"T_45497_row0_col191\" class=\"data row0 col191\" >in</td>\n",
       "      <td id=\"T_45497_row0_col192\" class=\"data row0 col192\" >the</td>\n",
       "      <td id=\"T_45497_row0_col193\" class=\"data row0 col193\" >early</td>\n",
       "      <td id=\"T_45497_row0_col194\" class=\"data row0 col194\" >1980</td>\n",
       "      <td id=\"T_45497_row0_col195\" class=\"data row0 col195\" >'</td>\n",
       "      <td id=\"T_45497_row0_col196\" class=\"data row0 col196\" >s</td>\n",
       "      <td id=\"T_45497_row0_col197\" class=\"data row0 col197\" >.</td>\n",
       "      <td id=\"T_45497_row0_col198\" class=\"data row0 col198\" >just</td>\n",
       "      <td id=\"T_45497_row0_col199\" class=\"data row0 col199\" >say</td>\n",
       "      <td id=\"T_45497_row0_col200\" class=\"data row0 col200\" >##in</td>\n",
       "      <td id=\"T_45497_row0_col201\" class=\"data row0 col201\" >'</td>\n",
       "      <td id=\"T_45497_row0_col202\" class=\"data row0 col202\" >.</td>\n",
       "    </tr>\n",
       "    <tr>\n",
       "      <th id=\"T_45497_level0_row1\" class=\"row_heading level0 row1\" >salience</th>\n",
       "      <td id=\"T_45497_row1_col0\" class=\"data row1 col0\" >-0.003125</td>\n",
       "      <td id=\"T_45497_row1_col1\" class=\"data row1 col1\" >0.000055</td>\n",
       "      <td id=\"T_45497_row1_col2\" class=\"data row1 col2\" >0.001532</td>\n",
       "      <td id=\"T_45497_row1_col3\" class=\"data row1 col3\" >0.002891</td>\n",
       "      <td id=\"T_45497_row1_col4\" class=\"data row1 col4\" >-0.004705</td>\n",
       "      <td id=\"T_45497_row1_col5\" class=\"data row1 col5\" >-0.005820</td>\n",
       "      <td id=\"T_45497_row1_col6\" class=\"data row1 col6\" >0.005643</td>\n",
       "      <td id=\"T_45497_row1_col7\" class=\"data row1 col7\" >0.001845</td>\n",
       "      <td id=\"T_45497_row1_col8\" class=\"data row1 col8\" >-0.002571</td>\n",
       "      <td id=\"T_45497_row1_col9\" class=\"data row1 col9\" >-0.004973</td>\n",
       "      <td id=\"T_45497_row1_col10\" class=\"data row1 col10\" >-0.001079</td>\n",
       "      <td id=\"T_45497_row1_col11\" class=\"data row1 col11\" >-0.001879</td>\n",
       "      <td id=\"T_45497_row1_col12\" class=\"data row1 col12\" >-0.006945</td>\n",
       "      <td id=\"T_45497_row1_col13\" class=\"data row1 col13\" >-0.001118</td>\n",
       "      <td id=\"T_45497_row1_col14\" class=\"data row1 col14\" >0.003429</td>\n",
       "      <td id=\"T_45497_row1_col15\" class=\"data row1 col15\" >-0.001715</td>\n",
       "      <td id=\"T_45497_row1_col16\" class=\"data row1 col16\" >-0.007308</td>\n",
       "      <td id=\"T_45497_row1_col17\" class=\"data row1 col17\" >-0.001248</td>\n",
       "      <td id=\"T_45497_row1_col18\" class=\"data row1 col18\" >0.001824</td>\n",
       "      <td id=\"T_45497_row1_col19\" class=\"data row1 col19\" >-0.000929</td>\n",
       "      <td id=\"T_45497_row1_col20\" class=\"data row1 col20\" >-0.006582</td>\n",
       "      <td id=\"T_45497_row1_col21\" class=\"data row1 col21\" >-0.001079</td>\n",
       "      <td id=\"T_45497_row1_col22\" class=\"data row1 col22\" >-0.001127</td>\n",
       "      <td id=\"T_45497_row1_col23\" class=\"data row1 col23\" >-0.004227</td>\n",
       "      <td id=\"T_45497_row1_col24\" class=\"data row1 col24\" >-0.004420</td>\n",
       "      <td id=\"T_45497_row1_col25\" class=\"data row1 col25\" >-0.003907</td>\n",
       "      <td id=\"T_45497_row1_col26\" class=\"data row1 col26\" >0.008929</td>\n",
       "      <td id=\"T_45497_row1_col27\" class=\"data row1 col27\" >-0.000727</td>\n",
       "      <td id=\"T_45497_row1_col28\" class=\"data row1 col28\" >-0.001560</td>\n",
       "      <td id=\"T_45497_row1_col29\" class=\"data row1 col29\" >-0.000767</td>\n",
       "      <td id=\"T_45497_row1_col30\" class=\"data row1 col30\" >0.001385</td>\n",
       "      <td id=\"T_45497_row1_col31\" class=\"data row1 col31\" >-0.003371</td>\n",
       "      <td id=\"T_45497_row1_col32\" class=\"data row1 col32\" >0.000841</td>\n",
       "      <td id=\"T_45497_row1_col33\" class=\"data row1 col33\" >-0.000632</td>\n",
       "      <td id=\"T_45497_row1_col34\" class=\"data row1 col34\" >0.005985</td>\n",
       "      <td id=\"T_45497_row1_col35\" class=\"data row1 col35\" >0.000292</td>\n",
       "      <td id=\"T_45497_row1_col36\" class=\"data row1 col36\" >0.008366</td>\n",
       "      <td id=\"T_45497_row1_col37\" class=\"data row1 col37\" >0.017231</td>\n",
       "      <td id=\"T_45497_row1_col38\" class=\"data row1 col38\" >0.010202</td>\n",
       "      <td id=\"T_45497_row1_col39\" class=\"data row1 col39\" >-0.004501</td>\n",
       "      <td id=\"T_45497_row1_col40\" class=\"data row1 col40\" >0.009431</td>\n",
       "      <td id=\"T_45497_row1_col41\" class=\"data row1 col41\" >-0.006993</td>\n",
       "      <td id=\"T_45497_row1_col42\" class=\"data row1 col42\" >-0.002311</td>\n",
       "      <td id=\"T_45497_row1_col43\" class=\"data row1 col43\" >-0.006982</td>\n",
       "      <td id=\"T_45497_row1_col44\" class=\"data row1 col44\" >-0.001612</td>\n",
       "      <td id=\"T_45497_row1_col45\" class=\"data row1 col45\" >-0.001346</td>\n",
       "      <td id=\"T_45497_row1_col46\" class=\"data row1 col46\" >-0.004612</td>\n",
       "      <td id=\"T_45497_row1_col47\" class=\"data row1 col47\" >-0.007687</td>\n",
       "      <td id=\"T_45497_row1_col48\" class=\"data row1 col48\" >-0.001471</td>\n",
       "      <td id=\"T_45497_row1_col49\" class=\"data row1 col49\" >0.002498</td>\n",
       "      <td id=\"T_45497_row1_col50\" class=\"data row1 col50\" >0.000149</td>\n",
       "      <td id=\"T_45497_row1_col51\" class=\"data row1 col51\" >0.001688</td>\n",
       "      <td id=\"T_45497_row1_col52\" class=\"data row1 col52\" >-0.002317</td>\n",
       "      <td id=\"T_45497_row1_col53\" class=\"data row1 col53\" >-0.001540</td>\n",
       "      <td id=\"T_45497_row1_col54\" class=\"data row1 col54\" >0.005606</td>\n",
       "      <td id=\"T_45497_row1_col55\" class=\"data row1 col55\" >0.013998</td>\n",
       "      <td id=\"T_45497_row1_col56\" class=\"data row1 col56\" >-0.000669</td>\n",
       "      <td id=\"T_45497_row1_col57\" class=\"data row1 col57\" >-0.005990</td>\n",
       "      <td id=\"T_45497_row1_col58\" class=\"data row1 col58\" >-0.001559</td>\n",
       "      <td id=\"T_45497_row1_col59\" class=\"data row1 col59\" >0.013590</td>\n",
       "      <td id=\"T_45497_row1_col60\" class=\"data row1 col60\" >0.013140</td>\n",
       "      <td id=\"T_45497_row1_col61\" class=\"data row1 col61\" >0.053973</td>\n",
       "      <td id=\"T_45497_row1_col62\" class=\"data row1 col62\" >0.003797</td>\n",
       "      <td id=\"T_45497_row1_col63\" class=\"data row1 col63\" >0.002326</td>\n",
       "      <td id=\"T_45497_row1_col64\" class=\"data row1 col64\" >0.012143</td>\n",
       "      <td id=\"T_45497_row1_col65\" class=\"data row1 col65\" >0.000027</td>\n",
       "      <td id=\"T_45497_row1_col66\" class=\"data row1 col66\" >0.009192</td>\n",
       "      <td id=\"T_45497_row1_col67\" class=\"data row1 col67\" >0.012819</td>\n",
       "      <td id=\"T_45497_row1_col68\" class=\"data row1 col68\" >-0.002771</td>\n",
       "      <td id=\"T_45497_row1_col69\" class=\"data row1 col69\" >0.002842</td>\n",
       "      <td id=\"T_45497_row1_col70\" class=\"data row1 col70\" >0.009120</td>\n",
       "      <td id=\"T_45497_row1_col71\" class=\"data row1 col71\" >0.013595</td>\n",
       "      <td id=\"T_45497_row1_col72\" class=\"data row1 col72\" >0.012653</td>\n",
       "      <td id=\"T_45497_row1_col73\" class=\"data row1 col73\" >0.000484</td>\n",
       "      <td id=\"T_45497_row1_col74\" class=\"data row1 col74\" >0.013400</td>\n",
       "      <td id=\"T_45497_row1_col75\" class=\"data row1 col75\" >0.013324</td>\n",
       "      <td id=\"T_45497_row1_col76\" class=\"data row1 col76\" >-0.005784</td>\n",
       "      <td id=\"T_45497_row1_col77\" class=\"data row1 col77\" >-0.001456</td>\n",
       "      <td id=\"T_45497_row1_col78\" class=\"data row1 col78\" >0.013135</td>\n",
       "      <td id=\"T_45497_row1_col79\" class=\"data row1 col79\" >-0.007665</td>\n",
       "      <td id=\"T_45497_row1_col80\" class=\"data row1 col80\" >0.013259</td>\n",
       "      <td id=\"T_45497_row1_col81\" class=\"data row1 col81\" >-0.007274</td>\n",
       "      <td id=\"T_45497_row1_col82\" class=\"data row1 col82\" >0.012402</td>\n",
       "      <td id=\"T_45497_row1_col83\" class=\"data row1 col83\" >-0.006322</td>\n",
       "      <td id=\"T_45497_row1_col84\" class=\"data row1 col84\" >0.012534</td>\n",
       "      <td id=\"T_45497_row1_col85\" class=\"data row1 col85\" >-0.008035</td>\n",
       "      <td id=\"T_45497_row1_col86\" class=\"data row1 col86\" >-0.002477</td>\n",
       "      <td id=\"T_45497_row1_col87\" class=\"data row1 col87\" >-0.010489</td>\n",
       "      <td id=\"T_45497_row1_col88\" class=\"data row1 col88\" >0.003209</td>\n",
       "      <td id=\"T_45497_row1_col89\" class=\"data row1 col89\" >0.001200</td>\n",
       "      <td id=\"T_45497_row1_col90\" class=\"data row1 col90\" >0.002259</td>\n",
       "      <td id=\"T_45497_row1_col91\" class=\"data row1 col91\" >0.004774</td>\n",
       "      <td id=\"T_45497_row1_col92\" class=\"data row1 col92\" >0.002939</td>\n",
       "      <td id=\"T_45497_row1_col93\" class=\"data row1 col93\" >0.055479</td>\n",
       "      <td id=\"T_45497_row1_col94\" class=\"data row1 col94\" >-0.006752</td>\n",
       "      <td id=\"T_45497_row1_col95\" class=\"data row1 col95\" >0.000498</td>\n",
       "      <td id=\"T_45497_row1_col96\" class=\"data row1 col96\" >0.006832</td>\n",
       "      <td id=\"T_45497_row1_col97\" class=\"data row1 col97\" >-0.001610</td>\n",
       "      <td id=\"T_45497_row1_col98\" class=\"data row1 col98\" >-0.002825</td>\n",
       "      <td id=\"T_45497_row1_col99\" class=\"data row1 col99\" >-0.001433</td>\n",
       "      <td id=\"T_45497_row1_col100\" class=\"data row1 col100\" >0.010190</td>\n",
       "      <td id=\"T_45497_row1_col101\" class=\"data row1 col101\" >-0.000322</td>\n",
       "      <td id=\"T_45497_row1_col102\" class=\"data row1 col102\" >-0.003314</td>\n",
       "      <td id=\"T_45497_row1_col103\" class=\"data row1 col103\" >-0.007866</td>\n",
       "      <td id=\"T_45497_row1_col104\" class=\"data row1 col104\" >-0.000711</td>\n",
       "      <td id=\"T_45497_row1_col105\" class=\"data row1 col105\" >0.000806</td>\n",
       "      <td id=\"T_45497_row1_col106\" class=\"data row1 col106\" >-0.003136</td>\n",
       "      <td id=\"T_45497_row1_col107\" class=\"data row1 col107\" >-0.007326</td>\n",
       "      <td id=\"T_45497_row1_col108\" class=\"data row1 col108\" >0.000494</td>\n",
       "      <td id=\"T_45497_row1_col109\" class=\"data row1 col109\" >0.001358</td>\n",
       "      <td id=\"T_45497_row1_col110\" class=\"data row1 col110\" >-0.003384</td>\n",
       "      <td id=\"T_45497_row1_col111\" class=\"data row1 col111\" >-0.003191</td>\n",
       "      <td id=\"T_45497_row1_col112\" class=\"data row1 col112\" >-0.004095</td>\n",
       "      <td id=\"T_45497_row1_col113\" class=\"data row1 col113\" >-0.000059</td>\n",
       "      <td id=\"T_45497_row1_col114\" class=\"data row1 col114\" >-0.002815</td>\n",
       "      <td id=\"T_45497_row1_col115\" class=\"data row1 col115\" >-0.016026</td>\n",
       "      <td id=\"T_45497_row1_col116\" class=\"data row1 col116\" >0.006768</td>\n",
       "      <td id=\"T_45497_row1_col117\" class=\"data row1 col117\" >-0.002393</td>\n",
       "      <td id=\"T_45497_row1_col118\" class=\"data row1 col118\" >-0.003277</td>\n",
       "      <td id=\"T_45497_row1_col119\" class=\"data row1 col119\" >0.001194</td>\n",
       "      <td id=\"T_45497_row1_col120\" class=\"data row1 col120\" >-0.002228</td>\n",
       "      <td id=\"T_45497_row1_col121\" class=\"data row1 col121\" >-0.003358</td>\n",
       "      <td id=\"T_45497_row1_col122\" class=\"data row1 col122\" >-0.008515</td>\n",
       "      <td id=\"T_45497_row1_col123\" class=\"data row1 col123\" >-0.008882</td>\n",
       "      <td id=\"T_45497_row1_col124\" class=\"data row1 col124\" >0.000149</td>\n",
       "      <td id=\"T_45497_row1_col125\" class=\"data row1 col125\" >-0.000829</td>\n",
       "      <td id=\"T_45497_row1_col126\" class=\"data row1 col126\" >-0.000684</td>\n",
       "      <td id=\"T_45497_row1_col127\" class=\"data row1 col127\" >-0.003167</td>\n",
       "      <td id=\"T_45497_row1_col128\" class=\"data row1 col128\" >-0.006841</td>\n",
       "      <td id=\"T_45497_row1_col129\" class=\"data row1 col129\" >-0.000809</td>\n",
       "      <td id=\"T_45497_row1_col130\" class=\"data row1 col130\" >0.004011</td>\n",
       "      <td id=\"T_45497_row1_col131\" class=\"data row1 col131\" >-0.002704</td>\n",
       "      <td id=\"T_45497_row1_col132\" class=\"data row1 col132\" >-0.006384</td>\n",
       "      <td id=\"T_45497_row1_col133\" class=\"data row1 col133\" >-0.001342</td>\n",
       "      <td id=\"T_45497_row1_col134\" class=\"data row1 col134\" >0.002615</td>\n",
       "      <td id=\"T_45497_row1_col135\" class=\"data row1 col135\" >0.000857</td>\n",
       "      <td id=\"T_45497_row1_col136\" class=\"data row1 col136\" >-0.030774</td>\n",
       "      <td id=\"T_45497_row1_col137\" class=\"data row1 col137\" >0.021823</td>\n",
       "      <td id=\"T_45497_row1_col138\" class=\"data row1 col138\" >0.002120</td>\n",
       "      <td id=\"T_45497_row1_col139\" class=\"data row1 col139\" >-0.002160</td>\n",
       "      <td id=\"T_45497_row1_col140\" class=\"data row1 col140\" >-0.000524</td>\n",
       "      <td id=\"T_45497_row1_col141\" class=\"data row1 col141\" >-0.001180</td>\n",
       "      <td id=\"T_45497_row1_col142\" class=\"data row1 col142\" >0.001490</td>\n",
       "      <td id=\"T_45497_row1_col143\" class=\"data row1 col143\" >-0.001340</td>\n",
       "      <td id=\"T_45497_row1_col144\" class=\"data row1 col144\" >0.000556</td>\n",
       "      <td id=\"T_45497_row1_col145\" class=\"data row1 col145\" >0.000234</td>\n",
       "      <td id=\"T_45497_row1_col146\" class=\"data row1 col146\" >-0.001745</td>\n",
       "      <td id=\"T_45497_row1_col147\" class=\"data row1 col147\" >-0.001402</td>\n",
       "      <td id=\"T_45497_row1_col148\" class=\"data row1 col148\" >-0.000643</td>\n",
       "      <td id=\"T_45497_row1_col149\" class=\"data row1 col149\" >-0.001052</td>\n",
       "      <td id=\"T_45497_row1_col150\" class=\"data row1 col150\" >0.016571</td>\n",
       "      <td id=\"T_45497_row1_col151\" class=\"data row1 col151\" >-0.000136</td>\n",
       "      <td id=\"T_45497_row1_col152\" class=\"data row1 col152\" >0.001183</td>\n",
       "      <td id=\"T_45497_row1_col153\" class=\"data row1 col153\" >0.004155</td>\n",
       "      <td id=\"T_45497_row1_col154\" class=\"data row1 col154\" >-0.001001</td>\n",
       "      <td id=\"T_45497_row1_col155\" class=\"data row1 col155\" >-0.009190</td>\n",
       "      <td id=\"T_45497_row1_col156\" class=\"data row1 col156\" >-0.004771</td>\n",
       "      <td id=\"T_45497_row1_col157\" class=\"data row1 col157\" >-0.000046</td>\n",
       "      <td id=\"T_45497_row1_col158\" class=\"data row1 col158\" >0.000079</td>\n",
       "      <td id=\"T_45497_row1_col159\" class=\"data row1 col159\" >-0.002770</td>\n",
       "      <td id=\"T_45497_row1_col160\" class=\"data row1 col160\" >-0.006862</td>\n",
       "      <td id=\"T_45497_row1_col161\" class=\"data row1 col161\" >-0.000912</td>\n",
       "      <td id=\"T_45497_row1_col162\" class=\"data row1 col162\" >0.002840</td>\n",
       "      <td id=\"T_45497_row1_col163\" class=\"data row1 col163\" >-0.002384</td>\n",
       "      <td id=\"T_45497_row1_col164\" class=\"data row1 col164\" >-0.006706</td>\n",
       "      <td id=\"T_45497_row1_col165\" class=\"data row1 col165\" >-0.001054</td>\n",
       "      <td id=\"T_45497_row1_col166\" class=\"data row1 col166\" >0.002789</td>\n",
       "      <td id=\"T_45497_row1_col167\" class=\"data row1 col167\" >-0.001981</td>\n",
       "      <td id=\"T_45497_row1_col168\" class=\"data row1 col168\" >-0.016658</td>\n",
       "      <td id=\"T_45497_row1_col169\" class=\"data row1 col169\" >0.000100</td>\n",
       "      <td id=\"T_45497_row1_col170\" class=\"data row1 col170\" >-0.002997</td>\n",
       "      <td id=\"T_45497_row1_col171\" class=\"data row1 col171\" >-0.004302</td>\n",
       "      <td id=\"T_45497_row1_col172\" class=\"data row1 col172\" >-0.000787</td>\n",
       "      <td id=\"T_45497_row1_col173\" class=\"data row1 col173\" >-0.000583</td>\n",
       "      <td id=\"T_45497_row1_col174\" class=\"data row1 col174\" >-0.002655</td>\n",
       "      <td id=\"T_45497_row1_col175\" class=\"data row1 col175\" >-0.001700</td>\n",
       "      <td id=\"T_45497_row1_col176\" class=\"data row1 col176\" >-0.002792</td>\n",
       "      <td id=\"T_45497_row1_col177\" class=\"data row1 col177\" >0.014911</td>\n",
       "      <td id=\"T_45497_row1_col178\" class=\"data row1 col178\" >0.001270</td>\n",
       "      <td id=\"T_45497_row1_col179\" class=\"data row1 col179\" >-0.002840</td>\n",
       "      <td id=\"T_45497_row1_col180\" class=\"data row1 col180\" >-0.012728</td>\n",
       "      <td id=\"T_45497_row1_col181\" class=\"data row1 col181\" >-0.003903</td>\n",
       "      <td id=\"T_45497_row1_col182\" class=\"data row1 col182\" >0.004282</td>\n",
       "      <td id=\"T_45497_row1_col183\" class=\"data row1 col183\" >-0.002131</td>\n",
       "      <td id=\"T_45497_row1_col184\" class=\"data row1 col184\" >0.001424</td>\n",
       "      <td id=\"T_45497_row1_col185\" class=\"data row1 col185\" >0.002956</td>\n",
       "      <td id=\"T_45497_row1_col186\" class=\"data row1 col186\" >0.000621</td>\n",
       "      <td id=\"T_45497_row1_col187\" class=\"data row1 col187\" >-0.002815</td>\n",
       "      <td id=\"T_45497_row1_col188\" class=\"data row1 col188\" >-0.001746</td>\n",
       "      <td id=\"T_45497_row1_col189\" class=\"data row1 col189\" >-0.007868</td>\n",
       "      <td id=\"T_45497_row1_col190\" class=\"data row1 col190\" >0.002390</td>\n",
       "      <td id=\"T_45497_row1_col191\" class=\"data row1 col191\" >-0.001544</td>\n",
       "      <td id=\"T_45497_row1_col192\" class=\"data row1 col192\" >-0.002801</td>\n",
       "      <td id=\"T_45497_row1_col193\" class=\"data row1 col193\" >-0.001669</td>\n",
       "      <td id=\"T_45497_row1_col194\" class=\"data row1 col194\" >-0.012581</td>\n",
       "      <td id=\"T_45497_row1_col195\" class=\"data row1 col195\" >0.000326</td>\n",
       "      <td id=\"T_45497_row1_col196\" class=\"data row1 col196\" >-0.002405</td>\n",
       "      <td id=\"T_45497_row1_col197\" class=\"data row1 col197\" >0.000502</td>\n",
       "      <td id=\"T_45497_row1_col198\" class=\"data row1 col198\" >0.006338</td>\n",
       "      <td id=\"T_45497_row1_col199\" class=\"data row1 col199\" >0.003693</td>\n",
       "      <td id=\"T_45497_row1_col200\" class=\"data row1 col200\" >0.003536</td>\n",
       "      <td id=\"T_45497_row1_col201\" class=\"data row1 col201\" >-0.000466</td>\n",
       "      <td id=\"T_45497_row1_col202\" class=\"data row1 col202\" >-0.000047</td>\n",
       "    </tr>\n",
       "  </tbody>\n",
       "</table>\n"
      ],
      "text/plain": [
       "<pandas.io.formats.style.Styler at 0x7f6a42a00ac0>"
      ]
     },
     "execution_count": 86,
     "metadata": {},
     "output_type": "execute_result"
    }
   ],
   "source": [
    "df = pd.DataFrame(\n",
    "    [\n",
    "        saliency[0][\"input_emb_grad\"].tokens,\n",
    "        saliency[0][\"input_emb_grad\"].salience,\n",
    "    ],\n",
    "    index=[\"token\", \"salience\"],\n",
    ")\n",
    "\n",
    "salience_series = saliency[0][\"input_emb_grad\"].salience\n",
    "abs_max = max(abs(salience_series.max()), abs(salience_series.min()))\n",
    "df.style.background_gradient(\n",
    "    axis=1,\n",
    "    gmap=df.loc[\"salience\", :].apply(pd.to_numeric),\n",
    "    vmin=-abs_max,\n",
    "    vmax=abs_max,\n",
    "    cmap=\"seismic\",\n",
    ")"
   ]
  },
  {
   "cell_type": "markdown",
   "id": "b4ae7ab4-5dff-4570-a387-acb7751c4787",
   "metadata": {
    "tags": []
   },
   "source": [
    "## What's next?\n",
    "\n",
    "To learn more about LIT and AI Explanations, check out the resources here.\n",
    "\n",
    "- [LIT documentation](https://pair-code.github.io/lit/)\n",
    "- [LIT github](https://github.com/PAIR-code/lit)\n",
    "- [Integrated gradients paper](https://arxiv.org/abs/1703.01365)"
   ]
  },
  {
   "cell_type": "markdown",
   "id": "9312e6d3-7339-4bea-b010-3bb64e1f5a10",
   "metadata": {},
   "source": [
    "Copyright 2024 Google Inc. Licensed under the Apache License, Version 2.0 (the \"License\"); you may not use this file except in compliance with the License. You may obtain a copy of the License at http://www.apache.org/licenses/LICENSE-2.0 Unless required by applicable law or agreed to in writing, software distributed under the License is distributed on an \"AS IS\" BASIS, WITHOUT WARRANTIES OR CONDITIONS OF ANY KIND, either express or implied. See the License for the specific language governing permissions and limitations under the License"
   ]
  }
 ],
 "metadata": {
  "accelerator": "GPU",
  "colab": {
   "gpuType": "T4",
   "provenance": []
  },
  "environment": {
   "kernel": "conda-base-py",
   "name": "workbench-notebooks.m124",
   "type": "gcloud",
   "uri": "us-docker.pkg.dev/deeplearning-platform-release/gcr.io/workbench-notebooks:m124"
  },
  "kernelspec": {
   "display_name": "Python 3 (ipykernel) (Local)",
   "language": "python",
   "name": "conda-base-py"
  },
  "language_info": {
   "codemirror_mode": {
    "name": "ipython",
    "version": 3
   },
   "file_extension": ".py",
   "mimetype": "text/x-python",
   "name": "python",
   "nbconvert_exporter": "python",
   "pygments_lexer": "ipython3",
   "version": "3.10.14"
  }
 },
 "nbformat": 4,
 "nbformat_minor": 5
}
