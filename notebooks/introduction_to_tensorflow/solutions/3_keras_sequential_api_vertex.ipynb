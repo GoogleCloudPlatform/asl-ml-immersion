{
 "cells": [
  {
   "cell_type": "markdown",
   "metadata": {},
   "source": [
    "# Introducing the Keras Sequential API"
   ]
  },
  {
   "cell_type": "markdown",
   "metadata": {},
   "source": [
    "**Learning Objectives**\n",
    "  1. Build a DNN model using the Keras Sequential API\n",
    "  1. Learn how to train a model with Keras\n",
    "  1. Learn how to save/load, and deploy a Keras model on GCP\n",
    "  1. Learn how to deploy and make predictions with the Keras model"
   ]
  },
  {
   "cell_type": "markdown",
   "metadata": {},
   "source": [
    "## Introduction"
   ]
  },
  {
   "cell_type": "markdown",
   "metadata": {},
   "source": [
    "The [Keras sequential API](https://keras.io/models/sequential/) allows you to create Tensorflow models layer-by-layer. This is useful for building most kinds of machine learning models but it does not allow you to create models that share layers, re-use layers or have multiple inputs or outputs. \n",
    "\n",
    "In this lab, we'll see how to build a simple deep neural network model using the Keras sequential api. Once we have trained our model, we will deploy it using Vertex AI and see how to call our model for online prediciton.\n"
   ]
  },
  {
   "cell_type": "markdown",
   "metadata": {},
   "source": [
    "Start by importing the necessary libraries for this lab."
   ]
  },
  {
   "cell_type": "code",
   "execution_count": 50,
   "metadata": {
    "tags": []
   },
   "outputs": [
    {
     "name": "stdout",
     "output_type": "stream",
     "text": [
      "env: PATH=/home/jupyter/.local/bin:/home/jupyter/.local/bin:/usr/local/cuda/bin:/opt/conda/bin:/opt/conda/condabin:/usr/local/bin:/usr/bin:/bin:/usr/local/games:/usr/games:/home/jupyter/.local/bin:.\n",
      "2.12.0\n"
     ]
    }
   ],
   "source": [
    "import os\n",
    "import warnings\n",
    "\n",
    "os.environ[\"TF_CPP_MIN_LOG_LEVEL\"] = \"2\"\n",
    "warnings.filterwarnings(\"ignore\")\n",
    "\n",
    "# Set `PATH` to include the directory containing saved_model_cli\n",
    "PATH = %env PATH\n",
    "%env PATH=/home/jupyter/.local/bin:{PATH}\n",
    "\n",
    "import datetime\n",
    "import shutil\n",
    "\n",
    "import numpy as np\n",
    "import pandas as pd\n",
    "import tensorflow as tf\n",
    "from google.cloud import aiplatform\n",
    "from matplotlib import pyplot as plt\n",
    "from tensorflow import keras\n",
    "from tensorflow.keras.callbacks import TensorBoard\n",
    "from tensorflow.keras.layers import Dense\n",
    "from tensorflow.keras.models import Sequential\n",
    "\n",
    "print(tf.__version__)\n",
    "%matplotlib inline"
   ]
  },
  {
   "cell_type": "markdown",
   "metadata": {},
   "source": [
    "## Load raw data"
   ]
  },
  {
   "cell_type": "markdown",
   "metadata": {},
   "source": [
    "We will use the taxifare dataset, using the CSV files that we created in the first notebook of this sequence. Those files have been saved into `../data`."
   ]
  },
  {
   "cell_type": "code",
   "execution_count": 2,
   "metadata": {
    "tags": []
   },
   "outputs": [
    {
     "name": "stdout",
     "output_type": "stream",
     "text": [
      "-rw-r--r-- 1 jupyter jupyter 123590 May 12 07:39 ../data/taxi-test.csv\n",
      "-rw-r--r-- 1 jupyter jupyter 579055 May 12 07:39 ../data/taxi-train.csv\n",
      "-rw-r--r-- 1 jupyter jupyter 399562 May 12 07:39 ../data/taxi-valid.csv\n"
     ]
    }
   ],
   "source": [
    "!ls -l ../data/*.csv"
   ]
  },
  {
   "cell_type": "code",
   "execution_count": 3,
   "metadata": {
    "tags": []
   },
   "outputs": [
    {
     "name": "stdout",
     "output_type": "stream",
     "text": [
      "==> ../data/taxi-test.csv <==\n",
      "6.0,2013-03-27 03:35:00 UTC,-73.977672,40.784052,-73.965332,40.801025,2,0\n",
      "19.3,2012-05-10 18:43:16 UTC,-73.954366,40.778924,-74.004094,40.723104,1,1\n",
      "7.5,2014-05-20 23:09:00 UTC,-73.999165,40.738377,-74.003473,40.723862,2,2\n",
      "12.5,2015-02-23 19:51:31 UTC,-73.9652099609375,40.76948165893555,-73.98949432373047,40.739742279052734,1,3\n",
      "10.9,2011-03-19 03:32:00 UTC,-73.99259,40.742957,-73.989908,40.711053,1,4\n",
      "7.0,2012-09-18 12:51:11 UTC,-73.971195,40.751566,-73.975922,40.756361,1,5\n",
      "19.0,2014-05-20 23:09:00 UTC,-73.998392,40.74517,-73.939845,40.74908,1,6\n",
      "8.9,2012-07-18 08:46:08 UTC,-73.997638,40.756541,-73.973303,40.762019,1,7\n",
      "4.5,2010-07-11 20:39:08 UTC,-73.976738,40.751321,-73.986671,40.74883,1,8\n",
      "7.0,2013-12-12 02:16:40 UTC,-73.985024,40.767537,-73.981273,40.779302,1,9\n",
      "\n",
      "==> ../data/taxi-train.csv <==\n",
      "11.3,2011-01-28 20:42:59 UTC,-73.999022,40.739146,-73.990369,40.717866,1,0\n",
      "7.7,2011-06-27 04:28:06 UTC,-73.987443,40.729221,-73.979013,40.758641,1,1\n",
      "10.5,2011-04-03 00:54:53 UTC,-73.982539,40.735725,-73.954797,40.778388,1,2\n",
      "16.2,2009-04-10 04:11:56 UTC,-74.001945,40.740505,-73.91385,40.758559,1,3\n",
      "33.5,2014-02-24 18:22:00 UTC,-73.993372,40.753382,-73.8609,40.732897,2,4\n",
      "6.9,2011-12-10 00:25:23 UTC,-73.996237,40.721848,-73.989416,40.718052,1,5\n",
      "6.1,2012-09-01 14:30:19 UTC,-73.977048,40.758461,-73.984899,40.744693,2,6\n",
      "9.5,2012-11-08 13:28:07 UTC,-73.969402,40.757545,-73.950049,40.776079,1,7\n",
      "9.0,2014-07-15 11:37:25 UTC,-73.979318,40.760949,-73.95767,40.773724,1,8\n",
      "3.3,2009-11-09 18:06:58 UTC,-73.955675,40.779154,-73.961172,40.772368,1,9\n",
      "\n",
      "==> ../data/taxi-valid.csv <==\n",
      "6.1,2009-07-16 17:41:00+00:00,-73.967683,40.792738,-73.968902,40.791675,2.0,unused\n",
      "16.0,2012-12-10 21:12:00+00:00,-74.005318,40.727682,-73.970285,40.756618,3.0,unused\n",
      "12.0,2014-02-24 20:57:00+00:00,-73.983618,40.771067,-73.943078,40.777297,1.0,unused\n",
      "16.5,2012-03-31 23:16:00+00:00,-73.934025,40.802195,-73.94788,40.755947,5.0,unused\n",
      "19.5,2015-05-02 11:39:19+00:00,-73.98455810546875,40.71536636352539,-73.97948455810547,40.75907897949219,1.0,unused\n",
      "6.1,2010-06-21 15:21:11+00:00,-73.978104,40.756639,-73.991559,40.749858,1.0,unused\n",
      "5.3,2010-06-28 08:05:20+00:00,-73.990191,40.756952,-73.97772,40.760308,1.0,unused\n",
      "14.5,2013-03-23 20:15:50+00:00,-73.986321,40.761607,-73.954787,40.805151,1.0,unused\n",
      "8.5,2014-02-24 20:57:00+00:00,-73.974252,40.757492,-73.985088,40.736077,3.0,unused\n",
      "13.0,2013-05-11 01:13:00+00:00,-73.984985,40.728037,-73.991272,40.754652,1.0,unused\n"
     ]
    }
   ],
   "source": [
    "!head ../data/taxi*.csv"
   ]
  },
  {
   "cell_type": "markdown",
   "metadata": {},
   "source": [
    "## Use tf.data to read the CSV files"
   ]
  },
  {
   "cell_type": "markdown",
   "metadata": {},
   "source": [
    "We wrote these functions for reading data from the csv files above in the [previous notebook](./2a_dataset_api.ipynb)."
   ]
  },
  {
   "cell_type": "code",
   "execution_count": 51,
   "metadata": {
    "tags": []
   },
   "outputs": [],
   "source": [
    "def parse_csv(row):\n",
    "    ds = tf.strings.split(row, \",\")\n",
    "    label = tf.strings.to_number(ds[0])\n",
    "    features = tf.strings.to_number(\n",
    "        ds[2:6]\n",
    "    )  # return pickup and drop off location only\n",
    "    return features, label\n",
    "\n",
    "\n",
    "def create_dataset(pattern, batch_size):\n",
    "    ds = tf.data.TextLineDataset(pattern)\n",
    "    ds = ds.map(parse_csv).batch(batch_size)\n",
    "    return ds"
   ]
  },
  {
   "cell_type": "markdown",
   "metadata": {},
   "source": [
    "## Build a simple keras DNN model"
   ]
  },
  {
   "cell_type": "markdown",
   "metadata": {},
   "source": [
    "Next, we create the DNN model. The Sequential model is a linear stack of layers and when building a model using the Sequential API, you configure each layer of the model in turn. Once all the layers have been added, you compile the model. "
   ]
  },
  {
   "cell_type": "code",
   "execution_count": 71,
   "metadata": {
    "tags": []
   },
   "outputs": [],
   "source": [
    "# Build a keras DNN model using Sequential API\n",
    "model = Sequential(\n",
    "    [\n",
    "        Dense(\n",
    "            units=4, input_shape=(2,), activation=\"relu\", name=\"input_layer\"\n",
    "        ),\n",
    "        Dense(units=4, activation=\"relu\"),\n",
    "        Dense(units=1, activation=\"linear\", name=\"output\"),\n",
    "    ]\n",
    ")"
   ]
  },
  {
   "cell_type": "markdown",
   "metadata": {},
   "source": [
    "Next, to prepare the model for training, you must configure the learning process. This is done using the compile method. The compile method takes three arguments:\n",
    "\n",
    "* An optimizer. This could be the string identifier of an existing optimizer (such as `rmsprop` or `adagrad`), or an instance of the [Optimizer class](https://www.tensorflow.org/versions/r2.0/api_docs/python/tf/keras/optimizers).\n",
    "* A loss function. This is the objective that the model will try to minimize. It can be the string identifier of an existing loss function from the [Losses class](https://www.tensorflow.org/versions/r2.0/api_docs/python/tf/keras/losses) (such as categorical_crossentropy or mse), or it can be a custom objective function.\n",
    "* A list of metrics. For any machine learning problem you will want a set of metrics to evaluate your model. A metric could be the string identifier of an existing metric or a custom metric function.\n",
    "\n",
    "We will add an additional custom metric called `rmse` to our list of metrics which will return the root mean square error. "
   ]
  },
  {
   "cell_type": "code",
   "execution_count": 73,
   "metadata": {
    "tags": []
   },
   "outputs": [],
   "source": [
    "# Create a custom evalution metric\n",
    "def rmse(y_true, y_pred):\n",
    "    return tf.sqrt(tf.reduce_mean(tf.square(y_pred - y_true)))\n",
    "\n",
    "\n",
    "# Compile the keras model\n",
    "model.compile(optimizer=\"adam\", loss=\"mse\", metrics=[rmse, \"mse\"])"
   ]
  },
  {
   "cell_type": "markdown",
   "metadata": {},
   "source": [
    "## Train the model"
   ]
  },
  {
   "cell_type": "markdown",
   "metadata": {},
   "source": [
    "To train your model, Keras provides two functions that can be used:\n",
    " 1. `.fit()` for training a model for a fixed number of epochs (iterations on a dataset).\n",
    " 2. `.train_on_batch()` runs a single gradient update on a single batch of data. \n",
    " \n",
    "The `.fit()` function works for various formats of data such as Numpy array, list of Tensors tf.data and Python generators. The `.train_on_batch()` method is for more fine-grained control over training and accepts only a single batch of data.\n",
    "\n",
    "Our `create_dataset` function above generates batches of training examples, so we can use `.fit`. \n",
    "\n",
    "We start by setting up some parameters for our training job and create the data generators for the training and validation data.\n"
   ]
  },
  {
   "cell_type": "code",
   "execution_count": 67,
   "metadata": {
    "tags": []
   },
   "outputs": [
    {
     "ename": "TypeError",
     "evalue": "create_dataset() got an unexpected keyword argument 'pattern'",
     "output_type": "error",
     "traceback": [
      "\u001b[0;31m---------------------------------------------------------------------------\u001b[0m",
      "\u001b[0;31mTypeError\u001b[0m                                 Traceback (most recent call last)",
      "Cell \u001b[0;32mIn[67], line 1\u001b[0m\n\u001b[0;32m----> 1\u001b[0m trainds \u001b[38;5;241m=\u001b[39m \u001b[43mcreate_dataset\u001b[49m\u001b[43m(\u001b[49m\u001b[43mpattern\u001b[49m\u001b[38;5;241;43m=\u001b[39;49m\u001b[38;5;124;43m\"\u001b[39;49m\u001b[38;5;124;43m../data/taxi-train.csv\u001b[39;49m\u001b[38;5;124;43m\"\u001b[39;49m\u001b[43m,\u001b[49m\u001b[43m \u001b[49m\u001b[43mbatch_size\u001b[49m\u001b[38;5;241;43m=\u001b[39;49m\u001b[38;5;241;43m32\u001b[39;49m\u001b[43m)\u001b[49m\n\u001b[1;32m      3\u001b[0m evalds \u001b[38;5;241m=\u001b[39m create_dataset(pattern\u001b[38;5;241m=\u001b[39m\u001b[38;5;124m\"\u001b[39m\u001b[38;5;124m../data/taxi-valid.csv\u001b[39m\u001b[38;5;124m\"\u001b[39m, batch_size\u001b[38;5;241m=\u001b[39m\u001b[38;5;241m32\u001b[39m)\n",
      "\u001b[0;31mTypeError\u001b[0m: create_dataset() got an unexpected keyword argument 'pattern'"
     ]
    }
   ],
   "source": [
    "trainds = create_dataset(pattern=\"../data/taxi-train.csv\", batch_size=32)\n",
    "\n",
    "evalds = create_dataset(pattern=\"../data/taxi-valid.csv\", batch_size=32)"
   ]
  },
  {
   "cell_type": "code",
   "execution_count": 68,
   "metadata": {
    "tags": []
   },
   "outputs": [],
   "source": [
    "def create_dataset(X, Y, epochs, batch_size):\n",
    "    dataset = tf.data.Dataset.from_tensor_slices((X, Y))\n",
    "    dataset = dataset.repeat(epochs).batch(batch_size, drop_remainder=True)\n",
    "    return dataset"
   ]
  },
  {
   "cell_type": "code",
   "execution_count": 69,
   "metadata": {
    "tags": []
   },
   "outputs": [],
   "source": [
    "from random import random\n",
    "\n",
    "X = []\n",
    "Y = []\n",
    "for i in range(10000):\n",
    "    x1 = (random()*2 -1)\n",
    "    x2 = (random()*2 -1)\n",
    "    y = tf.sqrt(x1 **2 + x2**2)\n",
    "    X.append([x1, x2])\n",
    "    Y.append([y])\n",
    "\n",
    "\n",
    "BATCH_SIZE = 100\n",
    "EPOCH = 2\n",
    "\n",
    "trainds = create_dataset(X, Y, epochs=EPOCH, batch_size=BATCH_SIZE)\n",
    "\n",
    "\n",
    "X = []\n",
    "Y = []\n",
    "for i in range(1000):\n",
    "    x1 = (random()*2 -1)\n",
    "    x2 = (random()*2 -1)\n",
    "    y = tf.sqrt(x1 **2 + x2**2)\n",
    "    X.append([x1, x2])\n",
    "    Y.append([y])\n",
    "\n",
    "\n",
    "BATCH_SIZE = 100\n",
    "EPOCH = 2\n",
    "\n",
    "evalds = create_dataset(X, Y, epochs=EPOCH, batch_size=BATCH_SIZE)\n",
    "\n"
   ]
  },
  {
   "cell_type": "markdown",
   "metadata": {},
   "source": [
    "There are various arguments you can set when calling the [.fit method](https://www.tensorflow.org/versions/r2.0/api_docs/python/tf/keras/Model#fit). Here `x` specifies the input data which in our case is a `tf.data` dataset returning a tuple of (inputs, targets). The `epochs` parameter is used to define the number of epochs. Here we are training for `10` epochs. Lastly, for the `callback` argument we specify a Tensorboard callback so we can inspect Tensorboard after training. "
   ]
  },
  {
   "cell_type": "code",
   "execution_count": 74,
   "metadata": {
    "tags": []
   },
   "outputs": [
    {
     "name": "stdout",
     "output_type": "stream",
     "text": [
      "Epoch 1/100\n",
      "200/200 [==============================] - 3s 6ms/step - loss: 0.3323 - rmse: 0.5719 - mse: 0.3323 - val_loss: 0.2332 - val_rmse: 0.4823 - val_mse: 0.2332\n",
      "Epoch 2/100\n",
      "200/200 [==============================] - 1s 5ms/step - loss: 0.1439 - rmse: 0.3693 - mse: 0.1439 - val_loss: 0.0678 - val_rmse: 0.2597 - val_mse: 0.0678\n",
      "Epoch 3/100\n",
      "200/200 [==============================] - 1s 5ms/step - loss: 0.0605 - rmse: 0.2452 - mse: 0.0605 - val_loss: 0.0581 - val_rmse: 0.2402 - val_mse: 0.0581\n",
      "Epoch 4/100\n",
      "200/200 [==============================] - 1s 4ms/step - loss: 0.0547 - rmse: 0.2331 - mse: 0.0547 - val_loss: 0.0509 - val_rmse: 0.2248 - val_mse: 0.0509\n",
      "Epoch 5/100\n",
      "200/200 [==============================] - 1s 3ms/step - loss: 0.0443 - rmse: 0.2100 - mse: 0.0443 - val_loss: 0.0401 - val_rmse: 0.1999 - val_mse: 0.0401\n",
      "Epoch 6/100\n",
      "200/200 [==============================] - 1s 4ms/step - loss: 0.0292 - rmse: 0.1695 - mse: 0.0292 - val_loss: 0.0200 - val_rmse: 0.1411 - val_mse: 0.0200\n",
      "Epoch 7/100\n",
      "200/200 [==============================] - 1s 3ms/step - loss: 0.0102 - rmse: 0.0987 - mse: 0.0102 - val_loss: 0.0053 - val_rmse: 0.0729 - val_mse: 0.0053\n",
      "Epoch 8/100\n",
      "200/200 [==============================] - 1s 3ms/step - loss: 0.0032 - rmse: 0.0559 - mse: 0.0032 - val_loss: 0.0020 - val_rmse: 0.0446 - val_mse: 0.0020\n",
      "Epoch 9/100\n",
      "200/200 [==============================] - 1s 3ms/step - loss: 0.0016 - rmse: 0.0396 - mse: 0.0016 - val_loss: 0.0013 - val_rmse: 0.0355 - val_mse: 0.0013\n",
      "Epoch 10/100\n",
      "200/200 [==============================] - 1s 3ms/step - loss: 0.0012 - rmse: 0.0342 - mse: 0.0012 - val_loss: 0.0011 - val_rmse: 0.0324 - val_mse: 0.0011\n",
      "Epoch 11/100\n",
      "200/200 [==============================] - 1s 3ms/step - loss: 0.0011 - rmse: 0.0323 - mse: 0.0011 - val_loss: 9.7319e-04 - val_rmse: 0.0311 - val_mse: 9.7319e-04\n",
      "Epoch 12/100\n",
      "200/200 [==============================] - 1s 3ms/step - loss: 9.8684e-04 - rmse: 0.0313 - mse: 9.8684e-04 - val_loss: 9.2230e-04 - val_rmse: 0.0303 - val_mse: 9.2230e-04\n",
      "Epoch 13/100\n",
      "200/200 [==============================] - 1s 3ms/step - loss: 9.4538e-04 - rmse: 0.0307 - mse: 9.4538e-04 - val_loss: 8.8850e-04 - val_rmse: 0.0298 - val_mse: 8.8850e-04\n",
      "Epoch 14/100\n",
      "200/200 [==============================] - 1s 3ms/step - loss: 9.1501e-04 - rmse: 0.0302 - mse: 9.1501e-04 - val_loss: 8.6154e-04 - val_rmse: 0.0293 - val_mse: 8.6154e-04\n",
      "Epoch 15/100\n",
      "200/200 [==============================] - 1s 3ms/step - loss: 8.9059e-04 - rmse: 0.0298 - mse: 8.9059e-04 - val_loss: 8.3805e-04 - val_rmse: 0.0289 - val_mse: 8.3805e-04\n",
      "Epoch 16/100\n",
      "200/200 [==============================] - 1s 3ms/step - loss: 8.6851e-04 - rmse: 0.0294 - mse: 8.6851e-04 - val_loss: 8.1411e-04 - val_rmse: 0.0285 - val_mse: 8.1411e-04\n",
      "Epoch 17/100\n",
      "200/200 [==============================] - 1s 3ms/step - loss: 8.4523e-04 - rmse: 0.0290 - mse: 8.4523e-04 - val_loss: 7.9290e-04 - val_rmse: 0.0281 - val_mse: 7.9290e-04\n",
      "Epoch 18/100\n",
      "200/200 [==============================] - 1s 3ms/step - loss: 8.1771e-04 - rmse: 0.0285 - mse: 8.1771e-04 - val_loss: 7.7006e-04 - val_rmse: 0.0277 - val_mse: 7.7006e-04\n",
      "Epoch 19/100\n",
      "200/200 [==============================] - 1s 3ms/step - loss: 7.8559e-04 - rmse: 0.0279 - mse: 7.8559e-04 - val_loss: 7.3919e-04 - val_rmse: 0.0272 - val_mse: 7.3919e-04\n",
      "Epoch 20/100\n",
      "200/200 [==============================] - 1s 3ms/step - loss: 7.4783e-04 - rmse: 0.0273 - mse: 7.4783e-04 - val_loss: 7.0760e-04 - val_rmse: 0.0266 - val_mse: 7.0760e-04\n",
      "Epoch 21/100\n",
      "200/200 [==============================] - 1s 3ms/step - loss: 7.1069e-04 - rmse: 0.0266 - mse: 7.1069e-04 - val_loss: 6.8353e-04 - val_rmse: 0.0261 - val_mse: 6.8353e-04\n",
      "Epoch 22/100\n",
      "200/200 [==============================] - 1s 3ms/step - loss: 6.7561e-04 - rmse: 0.0259 - mse: 6.7561e-04 - val_loss: 6.5804e-04 - val_rmse: 0.0256 - val_mse: 6.5804e-04\n",
      "Epoch 23/100\n",
      "200/200 [==============================] - 1s 3ms/step - loss: 6.5303e-04 - rmse: 0.0255 - mse: 6.5303e-04 - val_loss: 6.4009e-04 - val_rmse: 0.0253 - val_mse: 6.4009e-04\n",
      "Epoch 24/100\n",
      "200/200 [==============================] - 1s 4ms/step - loss: 6.3676e-04 - rmse: 0.0252 - mse: 6.3676e-04 - val_loss: 6.2289e-04 - val_rmse: 0.0249 - val_mse: 6.2289e-04\n",
      "Epoch 25/100\n",
      "200/200 [==============================] - 1s 4ms/step - loss: 6.2258e-04 - rmse: 0.0249 - mse: 6.2258e-04 - val_loss: 6.0899e-04 - val_rmse: 0.0246 - val_mse: 6.0899e-04\n",
      "Epoch 26/100\n",
      "200/200 [==============================] - 1s 3ms/step - loss: 6.0783e-04 - rmse: 0.0246 - mse: 6.0783e-04 - val_loss: 5.9480e-04 - val_rmse: 0.0243 - val_mse: 5.9480e-04\n",
      "Epoch 27/100\n",
      "200/200 [==============================] - 1s 3ms/step - loss: 5.9404e-04 - rmse: 0.0243 - mse: 5.9404e-04 - val_loss: 5.8206e-04 - val_rmse: 0.0241 - val_mse: 5.8206e-04\n",
      "Epoch 28/100\n",
      "200/200 [==============================] - 1s 3ms/step - loss: 5.8269e-04 - rmse: 0.0241 - mse: 5.8269e-04 - val_loss: 5.7158e-04 - val_rmse: 0.0238 - val_mse: 5.7158e-04\n",
      "Epoch 29/100\n",
      "200/200 [==============================] - 1s 3ms/step - loss: 5.7170e-04 - rmse: 0.0239 - mse: 5.7170e-04 - val_loss: 5.5810e-04 - val_rmse: 0.0236 - val_mse: 5.5810e-04\n",
      "Epoch 30/100\n",
      "200/200 [==============================] - 1s 3ms/step - loss: 5.5985e-04 - rmse: 0.0236 - mse: 5.5985e-04 - val_loss: 5.4298e-04 - val_rmse: 0.0232 - val_mse: 5.4298e-04\n",
      "Epoch 31/100\n",
      "200/200 [==============================] - 1s 3ms/step - loss: 5.4828e-04 - rmse: 0.0234 - mse: 5.4828e-04 - val_loss: 5.3005e-04 - val_rmse: 0.0230 - val_mse: 5.3005e-04\n",
      "Epoch 32/100\n",
      "200/200 [==============================] - 1s 3ms/step - loss: 5.3616e-04 - rmse: 0.0231 - mse: 5.3616e-04 - val_loss: 5.1445e-04 - val_rmse: 0.0226 - val_mse: 5.1445e-04\n",
      "Epoch 33/100\n",
      "200/200 [==============================] - 1s 3ms/step - loss: 5.2511e-04 - rmse: 0.0229 - mse: 5.2511e-04 - val_loss: 5.0119e-04 - val_rmse: 0.0223 - val_mse: 5.0119e-04\n",
      "Epoch 34/100\n",
      "200/200 [==============================] - 1s 3ms/step - loss: 5.1575e-04 - rmse: 0.0226 - mse: 5.1575e-04 - val_loss: 4.9103e-04 - val_rmse: 0.0221 - val_mse: 4.9103e-04\n",
      "Epoch 35/100\n",
      "200/200 [==============================] - 1s 3ms/step - loss: 5.0746e-04 - rmse: 0.0225 - mse: 5.0746e-04 - val_loss: 4.8142e-04 - val_rmse: 0.0219 - val_mse: 4.8142e-04\n",
      "Epoch 36/100\n",
      "200/200 [==============================] - 1s 3ms/step - loss: 4.9988e-04 - rmse: 0.0223 - mse: 4.9988e-04 - val_loss: 4.7374e-04 - val_rmse: 0.0217 - val_mse: 4.7374e-04\n",
      "Epoch 37/100\n",
      "200/200 [==============================] - 1s 3ms/step - loss: 4.9416e-04 - rmse: 0.0222 - mse: 4.9416e-04 - val_loss: 4.6880e-04 - val_rmse: 0.0216 - val_mse: 4.6880e-04\n",
      "Epoch 38/100\n",
      "200/200 [==============================] - 1s 3ms/step - loss: 4.8929e-04 - rmse: 0.0220 - mse: 4.8929e-04 - val_loss: 4.6475e-04 - val_rmse: 0.0215 - val_mse: 4.6475e-04\n",
      "Epoch 39/100\n",
      "200/200 [==============================] - 1s 3ms/step - loss: 4.8576e-04 - rmse: 0.0220 - mse: 4.8576e-04 - val_loss: 4.6080e-04 - val_rmse: 0.0214 - val_mse: 4.6080e-04\n",
      "Epoch 40/100\n",
      "200/200 [==============================] - 1s 3ms/step - loss: 4.8281e-04 - rmse: 0.0219 - mse: 4.8281e-04 - val_loss: 4.5679e-04 - val_rmse: 0.0213 - val_mse: 4.5679e-04\n",
      "Epoch 41/100\n",
      "200/200 [==============================] - 1s 3ms/step - loss: 4.8026e-04 - rmse: 0.0218 - mse: 4.8026e-04 - val_loss: 4.5323e-04 - val_rmse: 0.0212 - val_mse: 4.5323e-04\n",
      "Epoch 42/100\n",
      "200/200 [==============================] - 1s 3ms/step - loss: 4.7812e-04 - rmse: 0.0218 - mse: 4.7812e-04 - val_loss: 4.4955e-04 - val_rmse: 0.0211 - val_mse: 4.4955e-04\n",
      "Epoch 43/100\n",
      "200/200 [==============================] - 1s 3ms/step - loss: 4.7612e-04 - rmse: 0.0217 - mse: 4.7612e-04 - val_loss: 4.4524e-04 - val_rmse: 0.0210 - val_mse: 4.4524e-04\n",
      "Epoch 44/100\n",
      "200/200 [==============================] - 1s 3ms/step - loss: 4.7409e-04 - rmse: 0.0217 - mse: 4.7409e-04 - val_loss: 4.4197e-04 - val_rmse: 0.0209 - val_mse: 4.4197e-04\n",
      "Epoch 45/100\n",
      "200/200 [==============================] - 1s 3ms/step - loss: 4.7233e-04 - rmse: 0.0217 - mse: 4.7233e-04 - val_loss: 4.3971e-04 - val_rmse: 0.0209 - val_mse: 4.3971e-04\n",
      "Epoch 46/100\n",
      "200/200 [==============================] - 1s 3ms/step - loss: 4.7105e-04 - rmse: 0.0216 - mse: 4.7105e-04 - val_loss: 4.3719e-04 - val_rmse: 0.0208 - val_mse: 4.3719e-04\n",
      "Epoch 47/100\n",
      "200/200 [==============================] - 1s 3ms/step - loss: 4.6965e-04 - rmse: 0.0216 - mse: 4.6965e-04 - val_loss: 4.3453e-04 - val_rmse: 0.0207 - val_mse: 4.3453e-04\n",
      "Epoch 48/100\n",
      "200/200 [==============================] - 1s 3ms/step - loss: 4.6826e-04 - rmse: 0.0216 - mse: 4.6826e-04 - val_loss: 4.3251e-04 - val_rmse: 0.0207 - val_mse: 4.3251e-04\n",
      "Epoch 49/100\n",
      "200/200 [==============================] - 1s 3ms/step - loss: 4.6688e-04 - rmse: 0.0215 - mse: 4.6688e-04 - val_loss: 4.3021e-04 - val_rmse: 0.0206 - val_mse: 4.3021e-04\n",
      "Epoch 50/100\n",
      "200/200 [==============================] - 1s 4ms/step - loss: 4.6550e-04 - rmse: 0.0215 - mse: 4.6550e-04 - val_loss: 4.2824e-04 - val_rmse: 0.0206 - val_mse: 4.2824e-04\n",
      "Epoch 51/100\n",
      "200/200 [==============================] - 1s 3ms/step - loss: 4.6356e-04 - rmse: 0.0214 - mse: 4.6356e-04 - val_loss: 4.2588e-04 - val_rmse: 0.0205 - val_mse: 4.2588e-04\n",
      "Epoch 52/100\n",
      "200/200 [==============================] - 1s 3ms/step - loss: 4.6179e-04 - rmse: 0.0214 - mse: 4.6179e-04 - val_loss: 4.2458e-04 - val_rmse: 0.0205 - val_mse: 4.2458e-04\n",
      "Epoch 53/100\n",
      "200/200 [==============================] - 1s 3ms/step - loss: 4.6027e-04 - rmse: 0.0214 - mse: 4.6027e-04 - val_loss: 4.2308e-04 - val_rmse: 0.0205 - val_mse: 4.2308e-04\n",
      "Epoch 54/100\n",
      "200/200 [==============================] - 1s 3ms/step - loss: 4.5873e-04 - rmse: 0.0213 - mse: 4.5873e-04 - val_loss: 4.2163e-04 - val_rmse: 0.0204 - val_mse: 4.2163e-04\n",
      "Epoch 55/100\n",
      "200/200 [==============================] - 1s 3ms/step - loss: 4.5693e-04 - rmse: 0.0213 - mse: 4.5693e-04 - val_loss: 4.2071e-04 - val_rmse: 0.0204 - val_mse: 4.2071e-04\n",
      "Epoch 56/100\n",
      "200/200 [==============================] - 1s 3ms/step - loss: 4.5496e-04 - rmse: 0.0213 - mse: 4.5496e-04 - val_loss: 4.1951e-04 - val_rmse: 0.0204 - val_mse: 4.1951e-04\n",
      "Epoch 57/100\n",
      "200/200 [==============================] - 1s 3ms/step - loss: 4.5289e-04 - rmse: 0.0212 - mse: 4.5289e-04 - val_loss: 4.1832e-04 - val_rmse: 0.0204 - val_mse: 4.1832e-04\n",
      "Epoch 58/100\n",
      "200/200 [==============================] - 1s 3ms/step - loss: 4.5057e-04 - rmse: 0.0211 - mse: 4.5057e-04 - val_loss: 4.1652e-04 - val_rmse: 0.0203 - val_mse: 4.1652e-04\n",
      "Epoch 59/100\n",
      "200/200 [==============================] - 1s 3ms/step - loss: 4.4863e-04 - rmse: 0.0211 - mse: 4.4863e-04 - val_loss: 4.1556e-04 - val_rmse: 0.0203 - val_mse: 4.1556e-04\n",
      "Epoch 60/100\n",
      "200/200 [==============================] - 1s 3ms/step - loss: 4.4659e-04 - rmse: 0.0211 - mse: 4.4659e-04 - val_loss: 4.1378e-04 - val_rmse: 0.0202 - val_mse: 4.1378e-04\n",
      "Epoch 61/100\n",
      "200/200 [==============================] - 1s 3ms/step - loss: 4.4478e-04 - rmse: 0.0210 - mse: 4.4478e-04 - val_loss: 4.1247e-04 - val_rmse: 0.0202 - val_mse: 4.1247e-04\n",
      "Epoch 62/100\n",
      "200/200 [==============================] - 1s 3ms/step - loss: 4.4283e-04 - rmse: 0.0210 - mse: 4.4283e-04 - val_loss: 4.1042e-04 - val_rmse: 0.0202 - val_mse: 4.1042e-04\n",
      "Epoch 63/100\n",
      "200/200 [==============================] - 1s 3ms/step - loss: 4.4074e-04 - rmse: 0.0209 - mse: 4.4074e-04 - val_loss: 4.0884e-04 - val_rmse: 0.0201 - val_mse: 4.0884e-04\n",
      "Epoch 64/100\n",
      "200/200 [==============================] - 1s 3ms/step - loss: 4.3849e-04 - rmse: 0.0209 - mse: 4.3849e-04 - val_loss: 4.0632e-04 - val_rmse: 0.0201 - val_mse: 4.0632e-04\n",
      "Epoch 65/100\n",
      "200/200 [==============================] - 1s 3ms/step - loss: 4.3641e-04 - rmse: 0.0208 - mse: 4.3641e-04 - val_loss: 4.0434e-04 - val_rmse: 0.0200 - val_mse: 4.0434e-04\n",
      "Epoch 66/100\n",
      "200/200 [==============================] - 1s 3ms/step - loss: 4.3468e-04 - rmse: 0.0208 - mse: 4.3468e-04 - val_loss: 4.0277e-04 - val_rmse: 0.0200 - val_mse: 4.0277e-04\n",
      "Epoch 67/100\n",
      "200/200 [==============================] - 1s 3ms/step - loss: 4.3284e-04 - rmse: 0.0207 - mse: 4.3284e-04 - val_loss: 4.0037e-04 - val_rmse: 0.0199 - val_mse: 4.0037e-04\n",
      "Epoch 68/100\n",
      "200/200 [==============================] - 1s 3ms/step - loss: 4.3077e-04 - rmse: 0.0207 - mse: 4.3077e-04 - val_loss: 3.9797e-04 - val_rmse: 0.0199 - val_mse: 3.9797e-04\n",
      "Epoch 69/100\n",
      "200/200 [==============================] - 1s 3ms/step - loss: 4.2880e-04 - rmse: 0.0206 - mse: 4.2880e-04 - val_loss: 3.9521e-04 - val_rmse: 0.0198 - val_mse: 3.9521e-04\n",
      "Epoch 70/100\n",
      "200/200 [==============================] - 1s 3ms/step - loss: 4.2663e-04 - rmse: 0.0206 - mse: 4.2663e-04 - val_loss: 3.9261e-04 - val_rmse: 0.0197 - val_mse: 3.9261e-04\n",
      "Epoch 71/100\n",
      "200/200 [==============================] - 1s 3ms/step - loss: 4.2434e-04 - rmse: 0.0205 - mse: 4.2434e-04 - val_loss: 3.8932e-04 - val_rmse: 0.0196 - val_mse: 3.8932e-04\n",
      "Epoch 72/100\n",
      "200/200 [==============================] - 1s 3ms/step - loss: 4.2220e-04 - rmse: 0.0205 - mse: 4.2220e-04 - val_loss: 3.8583e-04 - val_rmse: 0.0196 - val_mse: 3.8583e-04\n",
      "Epoch 73/100\n",
      "200/200 [==============================] - 1s 3ms/step - loss: 4.2003e-04 - rmse: 0.0204 - mse: 4.2003e-04 - val_loss: 3.8156e-04 - val_rmse: 0.0194 - val_mse: 3.8156e-04\n",
      "Epoch 74/100\n",
      "200/200 [==============================] - 1s 3ms/step - loss: 4.1738e-04 - rmse: 0.0203 - mse: 4.1738e-04 - val_loss: 3.7755e-04 - val_rmse: 0.0193 - val_mse: 3.7755e-04\n",
      "Epoch 75/100\n",
      "200/200 [==============================] - 1s 4ms/step - loss: 4.1513e-04 - rmse: 0.0203 - mse: 4.1513e-04 - val_loss: 3.7444e-04 - val_rmse: 0.0193 - val_mse: 3.7444e-04\n",
      "Epoch 76/100\n",
      "200/200 [==============================] - 1s 3ms/step - loss: 4.1265e-04 - rmse: 0.0202 - mse: 4.1265e-04 - val_loss: 3.7111e-04 - val_rmse: 0.0192 - val_mse: 3.7111e-04\n",
      "Epoch 77/100\n",
      "200/200 [==============================] - 1s 4ms/step - loss: 4.1035e-04 - rmse: 0.0202 - mse: 4.1035e-04 - val_loss: 3.6787e-04 - val_rmse: 0.0191 - val_mse: 3.6787e-04\n",
      "Epoch 78/100\n",
      "200/200 [==============================] - 1s 3ms/step - loss: 4.0835e-04 - rmse: 0.0201 - mse: 4.0835e-04 - val_loss: 3.6530e-04 - val_rmse: 0.0190 - val_mse: 3.6530e-04\n",
      "Epoch 79/100\n",
      "200/200 [==============================] - 1s 3ms/step - loss: 4.0663e-04 - rmse: 0.0201 - mse: 4.0663e-04 - val_loss: 3.6323e-04 - val_rmse: 0.0190 - val_mse: 3.6323e-04\n",
      "Epoch 80/100\n",
      "200/200 [==============================] - 1s 3ms/step - loss: 4.0473e-04 - rmse: 0.0200 - mse: 4.0473e-04 - val_loss: 3.6098e-04 - val_rmse: 0.0189 - val_mse: 3.6098e-04\n",
      "Epoch 81/100\n",
      "200/200 [==============================] - 1s 3ms/step - loss: 4.0310e-04 - rmse: 0.0200 - mse: 4.0310e-04 - val_loss: 3.5907e-04 - val_rmse: 0.0189 - val_mse: 3.5907e-04\n",
      "Epoch 82/100\n",
      "200/200 [==============================] - 1s 3ms/step - loss: 4.0154e-04 - rmse: 0.0199 - mse: 4.0154e-04 - val_loss: 3.5739e-04 - val_rmse: 0.0188 - val_mse: 3.5739e-04\n",
      "Epoch 83/100\n",
      "200/200 [==============================] - 1s 3ms/step - loss: 4.0013e-04 - rmse: 0.0199 - mse: 4.0013e-04 - val_loss: 3.5589e-04 - val_rmse: 0.0188 - val_mse: 3.5589e-04\n",
      "Epoch 84/100\n",
      "200/200 [==============================] - 1s 3ms/step - loss: 3.9872e-04 - rmse: 0.0199 - mse: 3.9872e-04 - val_loss: 3.5461e-04 - val_rmse: 0.0187 - val_mse: 3.5461e-04\n",
      "Epoch 85/100\n",
      "200/200 [==============================] - 1s 3ms/step - loss: 3.9721e-04 - rmse: 0.0198 - mse: 3.9721e-04 - val_loss: 3.5373e-04 - val_rmse: 0.0187 - val_mse: 3.5373e-04\n",
      "Epoch 86/100\n",
      "200/200 [==============================] - 1s 3ms/step - loss: 3.9595e-04 - rmse: 0.0198 - mse: 3.9595e-04 - val_loss: 3.5301e-04 - val_rmse: 0.0187 - val_mse: 3.5301e-04\n",
      "Epoch 87/100\n",
      "200/200 [==============================] - 1s 3ms/step - loss: 3.9475e-04 - rmse: 0.0198 - mse: 3.9475e-04 - val_loss: 3.5242e-04 - val_rmse: 0.0187 - val_mse: 3.5242e-04\n",
      "Epoch 88/100\n",
      "200/200 [==============================] - 1s 3ms/step - loss: 3.9367e-04 - rmse: 0.0197 - mse: 3.9367e-04 - val_loss: 3.5213e-04 - val_rmse: 0.0187 - val_mse: 3.5213e-04\n",
      "Epoch 89/100\n",
      "200/200 [==============================] - 1s 3ms/step - loss: 3.9278e-04 - rmse: 0.0197 - mse: 3.9278e-04 - val_loss: 3.5173e-04 - val_rmse: 0.0187 - val_mse: 3.5173e-04\n",
      "Epoch 90/100\n",
      "200/200 [==============================] - 1s 3ms/step - loss: 3.9195e-04 - rmse: 0.0197 - mse: 3.9195e-04 - val_loss: 3.5115e-04 - val_rmse: 0.0186 - val_mse: 3.5115e-04\n",
      "Epoch 91/100\n",
      "200/200 [==============================] - 1s 3ms/step - loss: 3.9115e-04 - rmse: 0.0197 - mse: 3.9115e-04 - val_loss: 3.5086e-04 - val_rmse: 0.0186 - val_mse: 3.5086e-04\n",
      "Epoch 92/100\n",
      "200/200 [==============================] - 1s 4ms/step - loss: 3.9026e-04 - rmse: 0.0197 - mse: 3.9026e-04 - val_loss: 3.5084e-04 - val_rmse: 0.0186 - val_mse: 3.5084e-04\n",
      "Epoch 93/100\n",
      "200/200 [==============================] - 1s 3ms/step - loss: 3.8942e-04 - rmse: 0.0196 - mse: 3.8942e-04 - val_loss: 3.5074e-04 - val_rmse: 0.0186 - val_mse: 3.5074e-04\n",
      "Epoch 94/100\n",
      "200/200 [==============================] - 1s 3ms/step - loss: 3.8862e-04 - rmse: 0.0196 - mse: 3.8862e-04 - val_loss: 3.5046e-04 - val_rmse: 0.0186 - val_mse: 3.5046e-04\n",
      "Epoch 95/100\n",
      "200/200 [==============================] - 1s 4ms/step - loss: 3.8791e-04 - rmse: 0.0196 - mse: 3.8791e-04 - val_loss: 3.5034e-04 - val_rmse: 0.0186 - val_mse: 3.5034e-04\n",
      "Epoch 96/100\n",
      "200/200 [==============================] - 1s 4ms/step - loss: 3.8730e-04 - rmse: 0.0196 - mse: 3.8730e-04 - val_loss: 3.4998e-04 - val_rmse: 0.0186 - val_mse: 3.4998e-04\n",
      "Epoch 97/100\n",
      "200/200 [==============================] - 1s 4ms/step - loss: 3.8666e-04 - rmse: 0.0196 - mse: 3.8666e-04 - val_loss: 3.4961e-04 - val_rmse: 0.0186 - val_mse: 3.4961e-04\n",
      "Epoch 98/100\n",
      "200/200 [==============================] - 1s 5ms/step - loss: 3.8592e-04 - rmse: 0.0195 - mse: 3.8592e-04 - val_loss: 3.4939e-04 - val_rmse: 0.0186 - val_mse: 3.4939e-04\n",
      "Epoch 99/100\n",
      "200/200 [==============================] - 1s 3ms/step - loss: 3.8522e-04 - rmse: 0.0195 - mse: 3.8522e-04 - val_loss: 3.4910e-04 - val_rmse: 0.0186 - val_mse: 3.4910e-04\n",
      "Epoch 100/100\n",
      "200/200 [==============================] - 1s 3ms/step - loss: 3.8460e-04 - rmse: 0.0195 - mse: 3.8460e-04 - val_loss: 3.4898e-04 - val_rmse: 0.0186 - val_mse: 3.4898e-04\n",
      "CPU times: user 1min 26s, sys: 6.87 s, total: 1min 33s\n",
      "Wall time: 1min 5s\n"
     ]
    }
   ],
   "source": [
    "%%time\n",
    "\n",
    "LOGDIR = \"./taxi_trained\"\n",
    "history = model.fit(\n",
    "    x=trainds,\n",
    "    epochs=100,\n",
    "    validation_data=evalds,\n",
    "    callbacks=[TensorBoard(LOGDIR)],\n",
    ")"
   ]
  },
  {
   "cell_type": "markdown",
   "metadata": {},
   "source": [
    "### High-level model evaluation"
   ]
  },
  {
   "cell_type": "markdown",
   "metadata": {},
   "source": [
    "Once we've run data through the model, we can call `.summary()` on the model to get a high-level summary of our network. We can also plot the training and evaluation curves for the metrics we computed above. "
   ]
  },
  {
   "cell_type": "code",
   "execution_count": 60,
   "metadata": {},
   "outputs": [
    {
     "name": "stdout",
     "output_type": "stream",
     "text": [
      "Model: \"sequential_6\"\n",
      "_________________________________________________________________\n",
      " Layer (type)                Output Shape              Param #   \n",
      "=================================================================\n",
      " input_layer (Dense)         (None, 4)                 12        \n",
      "                                                                 \n",
      " output (Dense)              (None, 1)                 5         \n",
      "                                                                 \n",
      "=================================================================\n",
      "Total params: 17\n",
      "Trainable params: 17\n",
      "Non-trainable params: 0\n",
      "_________________________________________________________________\n"
     ]
    }
   ],
   "source": [
    "model.summary()"
   ]
  },
  {
   "cell_type": "markdown",
   "metadata": {},
   "source": [
    "Running `.fit` returns a History object which collects all the events recorded during training. Similar to Tensorboard, we can plot the training and validation curves for the model loss and rmse by accessing these elements of the History object."
   ]
  },
  {
   "cell_type": "code",
   "execution_count": 61,
   "metadata": {},
   "outputs": [
    {
     "data": {
      "text/plain": [
       "<Axes: >"
      ]
     },
     "execution_count": 61,
     "metadata": {},
     "output_type": "execute_result"
    },
    {
     "data": {
      "image/png": "[encoded data removed]",
      "text/plain": [
       "<Figure size 640x480 with 1 Axes>"
      ]
     },
     "metadata": {},
     "output_type": "display_data"
    }
   ],
   "source": [
    "RMSE_COLS = [\"rmse\", \"val_rmse\"]\n",
    "\n",
    "pd.DataFrame(history.history)[RMSE_COLS].plot()"
   ]
  },
  {
   "cell_type": "code",
   "execution_count": 62,
   "metadata": {},
   "outputs": [
    {
     "data": {
      "text/plain": [
       "<Axes: >"
      ]
     },
     "execution_count": 62,
     "metadata": {},
     "output_type": "execute_result"
    },
    {
     "data": {
      "image/png": "[encoded data removed]",
      "text/plain": [
       "<Figure size 640x480 with 1 Axes>"
      ]
     },
     "metadata": {},
     "output_type": "display_data"
    }
   ],
   "source": [
    "LOSS_COLS = [\"loss\", \"val_loss\"]\n",
    "\n",
    "pd.DataFrame(history.history)[LOSS_COLS].plot()"
   ]
  },
  {
   "cell_type": "markdown",
   "metadata": {},
   "source": [
    "# Making predictions with our model"
   ]
  },
  {
   "cell_type": "markdown",
   "metadata": {},
   "source": [
    "To make predictions with our trained model, we can call the [predict method](https://www.tensorflow.org/api_docs/python/tf/keras/Model#predict), passing to it a dictionary of values. The `steps` parameter determines the total number of steps before declaring the prediction round finished. Here since we have just one example, we set `steps=1` (setting `steps=None` would also work). Note, however, that if x is a `tf.data` dataset or a dataset iterator, and steps is set to None, predict will run until the input dataset is exhausted."
   ]
  },
  {
   "cell_type": "code",
   "execution_count": null,
   "metadata": {},
   "outputs": [],
   "source": [
    "model.predict([[-73.982683, 40.742104, -73.983766, 40.755174]])"
   ]
  },
  {
   "cell_type": "markdown",
   "metadata": {},
   "source": [
    "# Export and deploy our model"
   ]
  },
  {
   "cell_type": "markdown",
   "metadata": {},
   "source": [
    "Of course, making individual predictions is not realistic, because we can't expect client code to have a model object in memory. For others to use our trained model, we'll have to export our model to a file, and expect client code to instantiate the model from that exported file. \n",
    "\n",
    "We'll export the model to a TensorFlow SavedModel format. Once we have a model in this format, we have lots of ways to \"serve\" the model, from a web application, from JavaScript, from mobile applications, etc.\n",
    "\n",
    "Next, print the signature of your saved model using the SavedModel Command Line Interface command `saved_model_cli`. You can read more about the command line interface and the `show` and `run` commands it supports in the [documentation here](https://www.tensorflow.org/guide/saved_model#overview_of_commands). "
   ]
  },
  {
   "cell_type": "code",
   "execution_count": null,
   "metadata": {},
   "outputs": [],
   "source": [
    "OUTPUT_DIR = \"./export/savedmodel\"\n",
    "shutil.rmtree(OUTPUT_DIR, ignore_errors=True)\n",
    "TIMESTAMP = datetime.datetime.now().strftime(\"%Y%m%d%H%M%S\")\n",
    "\n",
    "EXPORT_PATH = os.path.join(OUTPUT_DIR, TIMESTAMP)\n",
    "\n",
    "tf.saved_model.save(model, EXPORT_PATH)  # with default serving function"
   ]
  },
  {
   "cell_type": "code",
   "execution_count": null,
   "metadata": {
    "tags": [
     "flake8-noqa-cell"
    ]
   },
   "outputs": [],
   "source": [
    "!saved_model_cli show \\\n",
    "    --tag_set serve \\\n",
    "    --signature_def serving_default \\\n",
    "    --dir {EXPORT_PATH}\n",
    "\n",
    "!find {EXPORT_PATH}\n",
    "os.environ['EXPORT_PATH'] = EXPORT_PATH"
   ]
  },
  {
   "cell_type": "markdown",
   "metadata": {},
   "source": [
    "## Deploy our model to Vertex AI"
   ]
  },
  {
   "cell_type": "markdown",
   "metadata": {},
   "source": [
    "Finally, we will deploy our trained model to Vertex AI and see how we can make online predicitons. "
   ]
  },
  {
   "cell_type": "code",
   "execution_count": null,
   "metadata": {
    "tags": [
     "flake8-noqa-line-1",
     "flake8-noqa-line-8-E501"
    ]
   },
   "outputs": [],
   "source": [
    "PROJECT = !gcloud config list --format 'value(core.project)' 2>/dev/null\n",
    "PROJECT = PROJECT[0]\n",
    "BUCKET = PROJECT\n",
    "REGION = \"us-central1\"\n",
    "MODEL_DISPLAYNAME = f\"taxifare-{TIMESTAMP}\"\n",
    "\n",
    "print(f\"MODEL_DISPLAYNAME: {MODEL_DISPLAYNAME}\")\n",
    "\n",
    "# from https://cloud.google.com/vertex-ai/docs/predictions/pre-built-containers\n",
    "SERVING_CONTAINER_IMAGE_URI = (\n",
    "    \"us-docker.pkg.dev/vertex-ai/prediction/tf2-cpu.2-12:latest\"\n",
    ")\n",
    "\n",
    "os.environ[\"BUCKET\"] = BUCKET\n",
    "os.environ[\"REGION\"] = REGION"
   ]
  },
  {
   "cell_type": "code",
   "execution_count": null,
   "metadata": {
    "tags": [
     "flake8-noqa-cell"
    ]
   },
   "outputs": [],
   "source": [
    "%%bash\n",
    "# Create GCS bucket if it doesn't exist already...\n",
    "exists=$(gsutil ls -d | grep -w gs://${BUCKET}/)\n",
    "\n",
    "if [ -n \"$exists\" ]; then\n",
    "    echo -e \"Bucket exists, let's not recreate it.\"\n",
    "else\n",
    "    echo \"Creating a new GCS bucket.\"\n",
    "    gsutil mb -l ${REGION} gs://${BUCKET}\n",
    "    echo \"\\nHere are your current buckets:\"\n",
    "    gsutil ls\n",
    "fi"
   ]
  },
  {
   "cell_type": "code",
   "execution_count": null,
   "metadata": {
    "tags": [
     "flake8-noqa-cell"
    ]
   },
   "outputs": [],
   "source": [
    "!gsutil cp -R $EXPORT_PATH gs://$BUCKET/$MODEL_DISPLAYNAME"
   ]
  },
  {
   "cell_type": "code",
   "execution_count": null,
   "metadata": {},
   "outputs": [],
   "source": [
    "uploaded_model = aiplatform.Model.upload(\n",
    "    display_name=MODEL_DISPLAYNAME,\n",
    "    artifact_uri=f\"gs://{BUCKET}/{MODEL_DISPLAYNAME}\",\n",
    "    serving_container_image_uri=SERVING_CONTAINER_IMAGE_URI,\n",
    ")"
   ]
  },
  {
   "cell_type": "code",
   "execution_count": null,
   "metadata": {},
   "outputs": [],
   "source": [
    "MACHINE_TYPE = \"n1-standard-2\"\n",
    "\n",
    "endpoint = uploaded_model.deploy(\n",
    "    machine_type=MACHINE_TYPE,\n",
    "    accelerator_type=None,\n",
    "    accelerator_count=None,\n",
    ")"
   ]
  },
  {
   "cell_type": "code",
   "execution_count": null,
   "metadata": {},
   "outputs": [],
   "source": [
    "instance = {\"input_layer_input\": [-73.982683, 40.742104, -73.983766, 40.755174]}"
   ]
  },
  {
   "cell_type": "code",
   "execution_count": null,
   "metadata": {},
   "outputs": [],
   "source": [
    "endpoint.predict([instance])"
   ]
  },
  {
   "cell_type": "markdown",
   "metadata": {},
   "source": [
    "# Cleanup\n",
    "\n",
    "When deploying a model to an endpoint for online prediction, the minimum `min-replica-count` is 1, and it is charged per node hour. So let's delete the endpoint to reduce unnecessary charges. Before we can delete the endpoint, we first undeploy all attached models... "
   ]
  },
  {
   "cell_type": "code",
   "execution_count": null,
   "metadata": {},
   "outputs": [],
   "source": [
    "endpoint.undeploy_all()"
   ]
  },
  {
   "cell_type": "markdown",
   "metadata": {},
   "source": [
    "...then delete the endpoint."
   ]
  },
  {
   "cell_type": "code",
   "execution_count": null,
   "metadata": {},
   "outputs": [],
   "source": [
    "endpoint.delete()"
   ]
  },
  {
   "cell_type": "markdown",
   "metadata": {},
   "source": [
    "Copyright 2021 Google Inc. Licensed under the Apache License, Version 2.0 (the \"License\"); you may not use this file except in compliance with the License. You may obtain a copy of the License at http://www.apache.org/licenses/LICENSE-2.0 Unless required by applicable law or agreed to in writing, software distributed under the License is distributed on an \"AS IS\" BASIS, WITHOUT WARRANTIES OR CONDITIONS OF ANY KIND, either express or implied. See the License for the specific language governing permissions and limitations under the License"
   ]
  }
 ],
 "metadata": {
  "environment": {
   "kernel": "conda-base-py",
   "name": "workbench-notebooks.m129",
   "type": "gcloud",
   "uri": "us-docker.pkg.dev/deeplearning-platform-release/gcr.io/workbench-notebooks:m129"
  },
  "kernelspec": {
   "display_name": "Python 3 (ipykernel)",
   "language": "python",
   "name": "conda-base-py"
  },
  "language_info": {
   "codemirror_mode": {
    "name": "ipython",
    "version": 3
   },
   "file_extension": ".py",
   "mimetype": "text/x-python",
   "name": "python",
   "nbconvert_exporter": "python",
   "pygments_lexer": "ipython3",
   "version": "3.10.16"
  },
  "toc-autonumbering": true,
  "toc-showmarkdowntxt": false
 },
 "nbformat": 4,
 "nbformat_minor": 4
}
