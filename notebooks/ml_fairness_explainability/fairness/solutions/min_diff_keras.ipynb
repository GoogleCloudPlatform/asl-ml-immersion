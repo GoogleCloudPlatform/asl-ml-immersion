{
 "cells": [
  {
   "cell_type": "markdown",
   "metadata": {
    "id": "YpbnPF_MEv4h"
   },
   "source": [
    "# MinDiff Model Remediation"
   ]
  },
  {
   "cell_type": "markdown",
   "metadata": {
    "id": "yMcQGRPHnjP9"
   },
   "source": [
    "In this notebook, we’ll train a text classifier to identify written content that could be considered toxic or harmful, and apply MinDiff to remediate some fairness concerns. In our workflow, we will:\n",
    "1.   Evaluate our baseline model’s performance on text containing references to sensitive groups.\n",
    "2.   Improve performance on any underperforming groups by training with MinDiff.\n",
    "3.   Evaluate the new model’s performance on our chosen metric.\n",
    "\n",
    "Our purpose is to demonstrate usage of the MinDiff technique with a very minimal workflow, not to lay out a principled approach to fairness in machine learning. As such, our evaluation will only focus on one sensitive category and a single metric. We also don’t address potential shortcomings in the dataset, nor tune our configurations. In a production setting, you would want to approach each of these with rigor. For more information on evaluating for fairness, see [this guide](https://www.tensorflow.org/responsible_ai/fairness_indicators/guide/guidance).\n"
   ]
  },
  {
   "cell_type": "markdown",
   "metadata": {
    "id": "_FCDIaf8wsll"
   },
   "source": [
    "## Setup\n",
    "\n",
    "We begin by installing Fairness Indicators and TensorFlow Model Remediation.\n"
   ]
  },
  {
   "cell_type": "code",
   "execution_count": 1,
   "metadata": {
    "colab": {
     "base_uri": "https://localhost:8080/"
    },
    "id": "WoA7i_6ShG6Y",
    "outputId": "a4d1e163-7a3e-49ea-e752-985115496c75"
   },
   "outputs": [
    {
     "name": "stdout",
     "output_type": "stream",
     "text": [
      "Requirement already satisfied: tensorflow-model-remediation in /opt/conda/lib/python3.10/site-packages (0.1.7.1)\n",
      "Requirement already satisfied: dill in /opt/conda/lib/python3.10/site-packages (from tensorflow-model-remediation) (0.3.1.1)\n",
      "Requirement already satisfied: mock in /opt/conda/lib/python3.10/site-packages (from tensorflow-model-remediation) (5.1.0)\n",
      "Requirement already satisfied: pandas in /opt/conda/lib/python3.10/site-packages (from tensorflow-model-remediation) (2.0.3)\n",
      "Requirement already satisfied: tensorflow-hub in /opt/conda/lib/python3.10/site-packages (from tensorflow-model-remediation) (0.14.0)\n",
      "Requirement already satisfied: tensorflow>=2.0.0 in /opt/conda/lib/python3.10/site-packages (from tensorflow-model-remediation) (2.12.0)\n",
      "Requirement already satisfied: absl-py>=1.0.0 in /opt/conda/lib/python3.10/site-packages (from tensorflow>=2.0.0->tensorflow-model-remediation) (1.4.0)\n",
      "Requirement already satisfied: astunparse>=1.6.0 in /opt/conda/lib/python3.10/site-packages (from tensorflow>=2.0.0->tensorflow-model-remediation) (1.6.3)\n",
      "Requirement already satisfied: flatbuffers>=2.0 in /opt/conda/lib/python3.10/site-packages (from tensorflow>=2.0.0->tensorflow-model-remediation) (23.5.26)\n",
      "Requirement already satisfied: gast<=0.4.0,>=0.2.1 in /opt/conda/lib/python3.10/site-packages (from tensorflow>=2.0.0->tensorflow-model-remediation) (0.4.0)\n",
      "Requirement already satisfied: google-pasta>=0.1.1 in /opt/conda/lib/python3.10/site-packages (from tensorflow>=2.0.0->tensorflow-model-remediation) (0.2.0)\n",
      "Requirement already satisfied: grpcio<2.0,>=1.24.3 in /home/jupyter/.local/lib/python3.10/site-packages (from tensorflow>=2.0.0->tensorflow-model-remediation) (1.57.0)\n",
      "Requirement already satisfied: h5py>=2.9.0 in /opt/conda/lib/python3.10/site-packages (from tensorflow>=2.0.0->tensorflow-model-remediation) (3.9.0)\n",
      "Requirement already satisfied: jax>=0.3.15 in /opt/conda/lib/python3.10/site-packages (from tensorflow>=2.0.0->tensorflow-model-remediation) (0.4.14)\n",
      "Requirement already satisfied: keras<2.13,>=2.12.0 in /opt/conda/lib/python3.10/site-packages (from tensorflow>=2.0.0->tensorflow-model-remediation) (2.12.0)\n",
      "Requirement already satisfied: libclang>=13.0.0 in /opt/conda/lib/python3.10/site-packages (from tensorflow>=2.0.0->tensorflow-model-remediation) (16.0.6)\n",
      "Requirement already satisfied: numpy<1.24,>=1.22 in /opt/conda/lib/python3.10/site-packages (from tensorflow>=2.0.0->tensorflow-model-remediation) (1.23.5)\n",
      "Requirement already satisfied: opt-einsum>=2.3.2 in /opt/conda/lib/python3.10/site-packages (from tensorflow>=2.0.0->tensorflow-model-remediation) (3.3.0)\n",
      "Requirement already satisfied: packaging in /opt/conda/lib/python3.10/site-packages (from tensorflow>=2.0.0->tensorflow-model-remediation) (23.1)\n",
      "Requirement already satisfied: protobuf!=4.21.0,!=4.21.1,!=4.21.2,!=4.21.3,!=4.21.4,!=4.21.5,<5.0.0dev,>=3.20.3 in /opt/conda/lib/python3.10/site-packages (from tensorflow>=2.0.0->tensorflow-model-remediation) (3.20.3)\n",
      "Requirement already satisfied: setuptools in /opt/conda/lib/python3.10/site-packages (from tensorflow>=2.0.0->tensorflow-model-remediation) (68.0.0)\n",
      "Requirement already satisfied: six>=1.12.0 in /opt/conda/lib/python3.10/site-packages (from tensorflow>=2.0.0->tensorflow-model-remediation) (1.16.0)\n",
      "Requirement already satisfied: tensorboard<2.13,>=2.12 in /opt/conda/lib/python3.10/site-packages (from tensorflow>=2.0.0->tensorflow-model-remediation) (2.12.3)\n",
      "Requirement already satisfied: tensorflow-estimator<2.13,>=2.12.0 in /opt/conda/lib/python3.10/site-packages (from tensorflow>=2.0.0->tensorflow-model-remediation) (2.12.0)\n",
      "Requirement already satisfied: termcolor>=1.1.0 in /opt/conda/lib/python3.10/site-packages (from tensorflow>=2.0.0->tensorflow-model-remediation) (2.3.0)\n",
      "Requirement already satisfied: typing-extensions>=3.6.6 in /opt/conda/lib/python3.10/site-packages (from tensorflow>=2.0.0->tensorflow-model-remediation) (4.5.0)\n",
      "Requirement already satisfied: wrapt<1.15,>=1.11.0 in /opt/conda/lib/python3.10/site-packages (from tensorflow>=2.0.0->tensorflow-model-remediation) (1.14.1)\n",
      "Requirement already satisfied: tensorflow-io-gcs-filesystem>=0.23.1 in /opt/conda/lib/python3.10/site-packages (from tensorflow>=2.0.0->tensorflow-model-remediation) (0.31.0)\n",
      "Requirement already satisfied: python-dateutil>=2.8.2 in /opt/conda/lib/python3.10/site-packages (from pandas->tensorflow-model-remediation) (2.8.2)\n",
      "Requirement already satisfied: pytz>=2020.1 in /opt/conda/lib/python3.10/site-packages (from pandas->tensorflow-model-remediation) (2023.3)\n",
      "Requirement already satisfied: tzdata>=2022.1 in /opt/conda/lib/python3.10/site-packages (from pandas->tensorflow-model-remediation) (2023.3)\n",
      "Requirement already satisfied: wheel<1.0,>=0.23.0 in /opt/conda/lib/python3.10/site-packages (from astunparse>=1.6.0->tensorflow>=2.0.0->tensorflow-model-remediation) (0.41.1)\n",
      "Requirement already satisfied: ml-dtypes>=0.2.0 in /opt/conda/lib/python3.10/site-packages (from jax>=0.3.15->tensorflow>=2.0.0->tensorflow-model-remediation) (0.2.0)\n",
      "Requirement already satisfied: scipy>=1.7 in /opt/conda/lib/python3.10/site-packages (from jax>=0.3.15->tensorflow>=2.0.0->tensorflow-model-remediation) (1.11.2)\n",
      "Requirement already satisfied: google-auth<3,>=1.6.3 in /opt/conda/lib/python3.10/site-packages (from tensorboard<2.13,>=2.12->tensorflow>=2.0.0->tensorflow-model-remediation) (2.22.0)\n",
      "Requirement already satisfied: google-auth-oauthlib<1.1,>=0.5 in /opt/conda/lib/python3.10/site-packages (from tensorboard<2.13,>=2.12->tensorflow>=2.0.0->tensorflow-model-remediation) (1.0.0)\n",
      "Requirement already satisfied: markdown>=2.6.8 in /opt/conda/lib/python3.10/site-packages (from tensorboard<2.13,>=2.12->tensorflow>=2.0.0->tensorflow-model-remediation) (3.4.4)\n",
      "Requirement already satisfied: requests<3,>=2.21.0 in /opt/conda/lib/python3.10/site-packages (from tensorboard<2.13,>=2.12->tensorflow>=2.0.0->tensorflow-model-remediation) (2.31.0)\n",
      "Requirement already satisfied: tensorboard-data-server<0.8.0,>=0.7.0 in /opt/conda/lib/python3.10/site-packages (from tensorboard<2.13,>=2.12->tensorflow>=2.0.0->tensorflow-model-remediation) (0.7.1)\n",
      "Requirement already satisfied: werkzeug>=1.0.1 in /opt/conda/lib/python3.10/site-packages (from tensorboard<2.13,>=2.12->tensorflow>=2.0.0->tensorflow-model-remediation) (2.1.2)\n",
      "Requirement already satisfied: cachetools<6.0,>=2.0.0 in /opt/conda/lib/python3.10/site-packages (from google-auth<3,>=1.6.3->tensorboard<2.13,>=2.12->tensorflow>=2.0.0->tensorflow-model-remediation) (4.2.4)\n",
      "Requirement already satisfied: pyasn1-modules>=0.2.1 in /opt/conda/lib/python3.10/site-packages (from google-auth<3,>=1.6.3->tensorboard<2.13,>=2.12->tensorflow>=2.0.0->tensorflow-model-remediation) (0.2.7)\n",
      "Requirement already satisfied: rsa<5,>=3.1.4 in /opt/conda/lib/python3.10/site-packages (from google-auth<3,>=1.6.3->tensorboard<2.13,>=2.12->tensorflow>=2.0.0->tensorflow-model-remediation) (4.9)\n",
      "Requirement already satisfied: urllib3<2.0 in /opt/conda/lib/python3.10/site-packages (from google-auth<3,>=1.6.3->tensorboard<2.13,>=2.12->tensorflow>=2.0.0->tensorflow-model-remediation) (1.26.15)\n",
      "Requirement already satisfied: requests-oauthlib>=0.7.0 in /opt/conda/lib/python3.10/site-packages (from google-auth-oauthlib<1.1,>=0.5->tensorboard<2.13,>=2.12->tensorflow>=2.0.0->tensorflow-model-remediation) (1.3.1)\n",
      "Requirement already satisfied: charset-normalizer<4,>=2 in /opt/conda/lib/python3.10/site-packages (from requests<3,>=2.21.0->tensorboard<2.13,>=2.12->tensorflow>=2.0.0->tensorflow-model-remediation) (3.2.0)\n",
      "Requirement already satisfied: idna<4,>=2.5 in /opt/conda/lib/python3.10/site-packages (from requests<3,>=2.21.0->tensorboard<2.13,>=2.12->tensorflow>=2.0.0->tensorflow-model-remediation) (3.4)\n",
      "Requirement already satisfied: certifi>=2017.4.17 in /opt/conda/lib/python3.10/site-packages (from requests<3,>=2.21.0->tensorboard<2.13,>=2.12->tensorflow>=2.0.0->tensorflow-model-remediation) (2023.7.22)\n",
      "Requirement already satisfied: pyasn1<0.5.0,>=0.4.6 in /opt/conda/lib/python3.10/site-packages (from pyasn1-modules>=0.2.1->google-auth<3,>=1.6.3->tensorboard<2.13,>=2.12->tensorflow>=2.0.0->tensorflow-model-remediation) (0.4.8)\n",
      "Requirement already satisfied: oauthlib>=3.0.0 in /opt/conda/lib/python3.10/site-packages (from requests-oauthlib>=0.7.0->google-auth-oauthlib<1.1,>=0.5->tensorboard<2.13,>=2.12->tensorflow>=2.0.0->tensorflow-model-remediation) (3.2.2)\n",
      "Note: you may need to restart the kernel to use updated packages.\n"
     ]
    }
   ],
   "source": [
    "%pip install --upgrade tensorflow-model-remediation"
   ]
  },
  {
   "cell_type": "markdown",
   "metadata": {
    "id": "SlyU3HZpob8i"
   },
   "source": [
    "Import all necessary components, including MinDiff and Fairness Indicators for evaluation."
   ]
  },
  {
   "cell_type": "code",
   "execution_count": 2,
   "metadata": {},
   "outputs": [],
   "source": [
    "import os\n",
    "import warnings\n",
    "\n",
    "os.environ[\"TF_CPP_MIN_LOG_LEVEL\"] = \"2\"\n",
    "warnings.filterwarnings(\"ignore\")"
   ]
  },
  {
   "cell_type": "code",
   "execution_count": 3,
   "metadata": {
    "id": "JYLW8UIsIMrE"
   },
   "outputs": [],
   "source": [
    "import copy\n",
    "import os\n",
    "import tempfile\n",
    "import zipfile\n",
    "\n",
    "# from fairness_indicators.tutorial_utils import util as fi_util\n",
    "import numpy as np\n",
    "import requests\n",
    "import seaborn as sns\n",
    "import tensorflow as tf\n",
    "import tensorflow_hub as hub\n",
    "import tensorflow_model_remediation.min_diff as md\n",
    "from tensorflow_model_remediation.tools.tutorials_utils import (\n",
    "    min_diff_keras_utils,\n",
    ")\n",
    "\n",
    "# from tensorflow_model_analysis.addons.fairness.view import widget_view"
   ]
  },
  {
   "cell_type": "markdown",
   "metadata": {
    "id": "zPkyRv5_ozdC"
   },
   "source": [
    "We use a utility function to download the preprocessed data and prepare the labels to match the model’s output shape. The function also downloads the data as TFRecords to make later evaluation quicker. Alternatively, you may convert the Pandas DataFrame into TFRecords with any available utility conversion function.\n"
   ]
  },
  {
   "cell_type": "code",
   "execution_count": 4,
   "metadata": {
    "colab": {
     "base_uri": "https://localhost:8080/"
    },
    "id": "-Hw5HdppwuBs",
    "outputId": "23fdc373-69f3-4dcc-bb1c-e0457193d9ee"
   },
   "outputs": [],
   "source": [
    "# We use a helper utility to preprocessed data for convenience and speed.\n",
    "(\n",
    "    data_train,\n",
    "    data_validate,\n",
    "    validate_tfrecord_file,\n",
    "    labels_train,\n",
    "    labels_validate,\n",
    ") = min_diff_keras_utils.download_and_process_civil_comments_data()"
   ]
  },
  {
   "cell_type": "markdown",
   "metadata": {
    "id": "LGum4JXSo-Qu"
   },
   "source": [
    "We define a few useful constants.  We will train the model on the `’comment_text’` feature, with our target label as `’toxicity’`. Note that the batch size here is chosen arbitrarily, but in a production setting you would need to tune it for best performance."
   ]
  },
  {
   "cell_type": "code",
   "execution_count": 5,
   "metadata": {
    "id": "Ular7EPMU_Y1"
   },
   "outputs": [],
   "source": [
    "TEXT_FEATURE = \"comment_text\"\n",
    "LABEL = \"toxicity\"\n",
    "BATCH_SIZE = 512"
   ]
  },
  {
   "cell_type": "markdown",
   "metadata": {
    "id": "tyRduaSapFqt"
   },
   "source": [
    "Set random seeds. (Note that this does not fully stabilize results.)"
   ]
  },
  {
   "cell_type": "code",
   "execution_count": 6,
   "metadata": {
    "id": "taGEqZGB_FWN"
   },
   "outputs": [],
   "source": [
    "# @title Seeds\n",
    "np.random.seed(1)\n",
    "tf.random.set_seed(1)"
   ]
  },
  {
   "cell_type": "markdown",
   "metadata": {
    "id": "D_r-uFyQpbkW"
   },
   "source": [
    "## Define and train the baseline model\n",
    "\n",
    "To reduce runtime, we use a pretrained model by default. It is a simple Keras sequential model with an initial embedding and convolution layers, outputting a toxicity prediction. If you prefer, you can change this and train from scratch using our utility function to create the model. (Note that since your environment is likely different from ours, you would need to customize the tuning and evaluation thresholds.)"
   ]
  },
  {
   "cell_type": "code",
   "execution_count": 7,
   "metadata": {},
   "outputs": [
    {
     "name": "stderr",
     "output_type": "stream",
     "text": [
      "2023-12-14 16:53:43.195896: E tensorflow/compiler/xla/stream_executor/cuda/cuda_driver.cc:266] failed call to cuInit: CUDA_ERROR_NO_DEVICE: no CUDA-capable device is detected\n"
     ]
    }
   ],
   "source": [
    "dataset_train_main = tf.data.Dataset.from_tensor_slices(\n",
    "    (\n",
    "        data_train[\"comment_text\"].values,\n",
    "        data_train[LABEL].values.reshape(-1, 1) * 1.0,\n",
    "    )\n",
    ").batch(BATCH_SIZE)"
   ]
  },
  {
   "cell_type": "code",
   "execution_count": 8,
   "metadata": {
    "id": "KcRceFceKyE_"
   },
   "outputs": [],
   "source": [
    "hub_url = \"https://tfhub.dev/google/tf2-preview/nnlm-en-dim128/1\"\n",
    "cnn_filter_sizes = [128, 128, 128]\n",
    "cnn_kernel_sizes = [5, 5, 5]\n",
    "cnn_pooling_sizes = [5, 5, 40]\n",
    "\n",
    "baseline_model = tf.keras.Sequential()\n",
    "\n",
    "# Embedding layer.\n",
    "hub_layer = hub.KerasLayer(\n",
    "    hub_url, output_shape=[128], input_shape=[], dtype=tf.string\n",
    ")\n",
    "baseline_model.add(hub_layer)\n",
    "baseline_model.add(tf.keras.layers.Dense(128, activation=\"relu\"))\n",
    "baseline_model.add(tf.keras.layers.Dense(1, activation=\"sigmoid\"))\n",
    "\n",
    "optimizer = tf.keras.optimizers.Adam(learning_rate=0.001)\n",
    "loss = tf.keras.losses.BinaryCrossentropy()\n",
    "\n",
    "baseline_model = min_diff_keras_utils.create_keras_sequential_model()"
   ]
  },
  {
   "cell_type": "code",
   "execution_count": 9,
   "metadata": {
    "colab": {
     "base_uri": "https://localhost:8080/",
     "height": 600
    },
    "id": "ID6DcW6e9vFM",
    "outputId": "7668a6aa-172c-4591-f7be-bc6e8ea2256e"
   },
   "outputs": [
    {
     "name": "stdout",
     "output_type": "stream",
     "text": [
      "Epoch 1/3\n",
      "2116/2116 [==============================] - 31s 14ms/step - loss: 0.2336 - accuracy: 0.9223\n",
      "Epoch 2/3\n",
      "2116/2116 [==============================] - 29s 14ms/step - loss: 0.2255 - accuracy: 0.9237\n",
      "Epoch 3/3\n",
      "2116/2116 [==============================] - 29s 14ms/step - loss: 0.2231 - accuracy: 0.9244\n"
     ]
    },
    {
     "data": {
      "text/plain": [
       "<keras.callbacks.History at 0x7feed2f26aa0>"
      ]
     },
     "execution_count": 9,
     "metadata": {},
     "output_type": "execute_result"
    }
   ],
   "source": [
    "baseline_model.compile(optimizer=optimizer, loss=loss, metrics=[\"accuracy\"])\n",
    "\n",
    "baseline_model.fit(x=dataset_train_main, batch_size=BATCH_SIZE, epochs=3)"
   ]
  },
  {
   "cell_type": "markdown",
   "metadata": {
    "id": "m8nsimBdp-lh"
   },
   "source": [
    "We save the model in order to evaluate using [Fairness Indicators](https://www.tensorflow.org/responsible_ai/fairness_indicators)."
   ]
  },
  {
   "cell_type": "code",
   "execution_count": 10,
   "metadata": {
    "id": "DRLTXwDfN6a7"
   },
   "outputs": [],
   "source": [
    "# base_dir = tempfile.mkdtemp(prefix='saved_models')\n",
    "# baseline_model_location = os.path.join(base_dir, 'model_export_baseline')\n",
    "# baseline_model.save(baseline_model_location, save_format='tf')"
   ]
  },
  {
   "cell_type": "markdown",
   "metadata": {
    "id": "7ZRoxj-iqNqm"
   },
   "source": [
    "Next we run Fairness Indicators. As a reminder, we’re just going to perform sliced evaluation for comments referencing one category, *religious groups*. In a production environment, we recommend taking a thoughtful approach to determining which categories and metrics to evaluate across.\n",
    "\n",
    "To compute model performance, the utility function makes a few convenient choices for metrics, slices, and classifier thresholds."
   ]
  },
  {
   "cell_type": "code",
   "execution_count": 11,
   "metadata": {
    "id": "4d6CZj2d-jrw"
   },
   "outputs": [],
   "source": [
    "# We use a helper utility to hide the evaluation logic for readability.\n",
    "# base_dir = tempfile.mkdtemp(prefix='eval')\n",
    "# eval_dir = os.path.join(base_dir, 'tfma_eval_result')\n",
    "# eval_result = fi_util.get_eval_results(\n",
    "#     baseline_model_location, eval_dir, validate_tfrecord_file)"
   ]
  },
  {
   "cell_type": "markdown",
   "metadata": {
    "id": "S1X0wtRXmHPX"
   },
   "source": [
    "###  Render Evaluation Results"
   ]
  },
  {
   "cell_type": "code",
   "execution_count": 12,
   "metadata": {
    "id": "ynbJR3Qc-j0D"
   },
   "outputs": [],
   "source": [
    "# widget_view.render_fairness_indicator(eval_result)"
   ]
  },
  {
   "cell_type": "markdown",
   "metadata": {
    "id": "o2cYxsxNqT_P"
   },
   "source": [
    "Let’s look at the evaluation results. Try selecting the metric false positive rate (FPR) with threshold 0.450. We can see that the model does not perform as well for some religious groups as for others, displaying a much higher FPR. Note the wide confidence intervals on some groups because they have too few examples. This makes it difficult to say with certainty that there is a significant difference in performance for these slices. We may want to collect more examples to address this issue. We can, however, attempt to apply MinDiff for the two groups that we are confident are underperforming.\n",
    "\n",
    "We’ve chosen to focus on FPR, because a higher FPR means that comments referencing these identity groups are more likely to be incorrectly flagged as toxic than other comments. This could lead to inequitable outcomes for users engaging in dialogue about religion, but note that disparities in other metrics can lead to other types of harm."
   ]
  },
  {
   "cell_type": "markdown",
   "metadata": {
    "id": "CRG6SHR8ryMV"
   },
   "source": [
    "## Define and Train the MinDiff Model\n",
    "\n",
    "Now, we’ll try to improve the FPR for underperforming religious groups. We’ll attempt to do so using [MinDiff](https://arxiv.org/abs/1910.11779), a remediation technique that seeks to balance error rates across slices of your data by penalizing disparities in performance during training. When we apply MinDiff, model performance may degrade slightly on other slices. As such, our goals with MinDiff will be:\n",
    "*   Improved performance for underperforming groups\n",
    "*   Limited degradation for other groups and overall performance\n",
    "\n"
   ]
  },
  {
   "cell_type": "markdown",
   "metadata": {
    "id": "opFCpJjadf7g"
   },
   "source": [
    "### Prepare your data\n",
    "\n",
    "To use MinDiff, we create two additional data splits:\n",
    "* A split for non-toxic examples referencing minority groups: In our case, this will include comments with references to our underperforming identity terms.  We don’t include some of the groups because there are too few examples, leading to higher uncertainty with wide confidence interval ranges.\n",
    "* A split for non-toxic examples referencing the majority group.\n",
    "\n",
    "It’s important to have sufficient examples belonging to the underperforming classes. Based on your model architecture, data distribution, and MinDiff configuration, the amount of data needed can vary significantly. In past applications, we have seen MinDiff work well with 5,000 examples in each data split.\n",
    "\n",
    "In our case, the groups in the minority splits have example quantities of 9,688 and 3,906. Note the class imbalances in the dataset; in practice, this could be cause for concern, but we won’t seek to address them in this notebook since our intention is just to demonstrate MinDiff.  \n",
    "\n",
    "We select only negative examples for these groups, so that MinDiff can optimize on getting these examples right. It may seem counterintuitive to carve out sets of ground truth *negative* examples if we’re primarily concerned with disparities in *false positive rate*, but remember that a false positive prediction is a ground truth negative example that’s incorrectly classified as positive, which is the issue we’re trying to address."
   ]
  },
  {
   "cell_type": "markdown",
   "metadata": {
    "id": "1QilngDumRfI"
   },
   "source": [
    "#### Create MinDiff DataFrames"
   ]
  },
  {
   "cell_type": "code",
   "execution_count": 13,
   "metadata": {
    "id": "jj4dychpyrqM"
   },
   "outputs": [],
   "source": [
    "# Create masks for the sensitive and nonsensitive groups\n",
    "minority_mask = data_train.religion.apply(\n",
    "    lambda x: any(religion in x for religion in (\"jewish\", \"muslim\"))\n",
    ")\n",
    "majority_mask = data_train.religion.apply(lambda x: x == \"['christian']\")\n",
    "\n",
    "# Select nontoxic examples, so MinDiff will be able to reduce sensitive FP rate.\n",
    "true_negative_mask = data_train[\"toxicity\"] == 0\n",
    "\n",
    "data_train_main = copy.copy(data_train)\n",
    "data_train_sensitive = data_train[minority_mask & true_negative_mask]\n",
    "data_train_nonsensitive = data_train[majority_mask & true_negative_mask]"
   ]
  },
  {
   "cell_type": "markdown",
   "metadata": {
    "id": "3lR_w3LHt6QK"
   },
   "source": [
    "We also need to convert our Pandas DataFrames into Tensorflow Datasets for MinDiff input.  Note that unlike the Keras model API for Pandas DataFrames, using Datasets means that we need to provide the model’s input features and labels together in one Dataset. Here we provide the `'comment_text'` as an input feature and reshape the label to match the model's expected output.\n",
    "\n",
    "We batch the Dataset at this stage, too, since MinDiff requires batched Datasets.  Note that we tune the batch size selection the same way it is tuned for the baseline model, taking into account training speed and hardware considerations while balancing with model performance. Here we have chosen the same batch size for all three datasets but this is not a requirement, although it’s good practice to have the two MinDiff batch sizes be equivalent."
   ]
  },
  {
   "cell_type": "markdown",
   "metadata": {
    "id": "yA4Kw9tsmopa"
   },
   "source": [
    "#### Create MinDiff Datasets"
   ]
  },
  {
   "cell_type": "code",
   "execution_count": 14,
   "metadata": {
    "id": "C0DkFMTOuIQT"
   },
   "outputs": [],
   "source": [
    "# Convert the pandas DataFrames to Datasets.\n",
    "dataset_train_main = tf.data.Dataset.from_tensor_slices(\n",
    "    (\n",
    "        data_train_main[\"comment_text\"].values,\n",
    "        data_train_main.pop(LABEL).values.reshape(-1, 1) * 1.0,\n",
    "    )\n",
    ").batch(BATCH_SIZE)\n",
    "dataset_train_sensitive = tf.data.Dataset.from_tensor_slices(\n",
    "    (\n",
    "        data_train_sensitive[\"comment_text\"].values,\n",
    "        data_train_sensitive.pop(LABEL).values.reshape(-1, 1) * 1.0,\n",
    "    )\n",
    ").batch(BATCH_SIZE)\n",
    "dataset_train_nonsensitive = tf.data.Dataset.from_tensor_slices(\n",
    "    (\n",
    "        data_train_nonsensitive[\"comment_text\"].values,\n",
    "        data_train_nonsensitive.pop(LABEL).values.reshape(-1, 1) * 1.0,\n",
    "    )\n",
    ").batch(BATCH_SIZE)"
   ]
  },
  {
   "cell_type": "markdown",
   "metadata": {},
   "source": [
    "## Viz"
   ]
  },
  {
   "cell_type": "code",
   "execution_count": 15,
   "metadata": {},
   "outputs": [
    {
     "data": {
      "image/png": "[encoded data removed]",
      "text/plain": [
       "<Figure size 640x480 with 1 Axes>"
      ]
     },
     "metadata": {},
     "output_type": "display_data"
    }
   ],
   "source": [
    "for (f, l), (non_f, non_l) in zip(\n",
    "    dataset_train_sensitive.take(1), dataset_train_nonsensitive.take(1)\n",
    "):\n",
    "    res = tf.squeeze(baseline_model(f))\n",
    "    non_res = tf.squeeze(baseline_model(non_f))\n",
    "    sns.histplot(\n",
    "        {\"sensitive\": res, \"nonsensitive\": non_res},\n",
    "        bins=60,\n",
    "        kde=True,\n",
    "        stat=\"density\",\n",
    "    )"
   ]
  },
  {
   "cell_type": "markdown",
   "metadata": {
    "id": "XRGvjZ8VuBvz"
   },
   "source": [
    "### Train and evaluate the model\n",
    "\n",
    "To train with MinDiff, simply take the original model and wrap it in a MinDiffModel with a corresponding `loss` and `loss_weight`.  We are using 1.5 as the default `loss_weight`, but this is a parameter that needs to be tuned for your use case, since it depends on your model and product requirements.  You can experiment with changing the value to see how it impacts the model, noting that increasing it pushes the performance of the minority and majority groups closer together but may come with more pronounced tradeoffs.\n",
    "\n",
    "Then we compile the model normally (using the regular non-MinDiff loss) and fit to train."
   ]
  },
  {
   "cell_type": "markdown",
   "metadata": {
    "id": "eP_eTUpYm6U-"
   },
   "source": [
    "#### Train MinDiffModel"
   ]
  },
  {
   "cell_type": "code",
   "execution_count": 16,
   "metadata": {
    "colab": {
     "base_uri": "https://localhost:8080/",
     "height": 686
    },
    "id": "xutVGl9fyikP",
    "outputId": "c6c7759b-9ba6-415c-e84b-dbc4b81f36d3"
   },
   "outputs": [
    {
     "name": "stdout",
     "output_type": "stream",
     "text": [
      "Epoch 1/30\n",
      "25/25 [==============================] - 3s 23ms/step - loss: 0.4426 - accuracy: 0.9155 - min_diff_loss: 0.0045\n",
      "Epoch 2/30\n",
      "25/25 [==============================] - 1s 22ms/step - loss: 0.3312 - accuracy: 0.9185 - min_diff_loss: 0.0036\n",
      "Epoch 3/30\n",
      "25/25 [==============================] - 1s 23ms/step - loss: 0.3137 - accuracy: 0.9186 - min_diff_loss: 0.0026\n",
      "Epoch 4/30\n",
      "25/25 [==============================] - 1s 22ms/step - loss: 0.2974 - accuracy: 0.9186 - min_diff_loss: 0.0025\n",
      "Epoch 5/30\n",
      "25/25 [==============================] - 1s 22ms/step - loss: 0.2829 - accuracy: 0.9186 - min_diff_loss: 0.0021\n",
      "Epoch 6/30\n",
      "25/25 [==============================] - 1s 23ms/step - loss: 0.2709 - accuracy: 0.9186 - min_diff_loss: 0.0016\n",
      "Epoch 7/30\n",
      "25/25 [==============================] - 1s 22ms/step - loss: 0.2616 - accuracy: 0.9186 - min_diff_loss: 0.0014\n",
      "Epoch 8/30\n",
      "25/25 [==============================] - 1s 22ms/step - loss: 0.2546 - accuracy: 0.9186 - min_diff_loss: 0.0014\n",
      "Epoch 9/30\n",
      "25/25 [==============================] - 1s 22ms/step - loss: 0.2493 - accuracy: 0.9186 - min_diff_loss: 0.0014\n",
      "Epoch 10/30\n",
      "25/25 [==============================] - 1s 23ms/step - loss: 0.2452 - accuracy: 0.9186 - min_diff_loss: 0.0015\n",
      "Epoch 11/30\n",
      "25/25 [==============================] - 1s 23ms/step - loss: 0.2420 - accuracy: 0.9187 - min_diff_loss: 0.0015\n",
      "Epoch 12/30\n",
      "25/25 [==============================] - 1s 23ms/step - loss: 0.2393 - accuracy: 0.9187 - min_diff_loss: 0.0015\n",
      "Epoch 13/30\n",
      "25/25 [==============================] - 1s 23ms/step - loss: 0.2370 - accuracy: 0.9188 - min_diff_loss: 0.0015\n",
      "Epoch 14/30\n",
      "25/25 [==============================] - 1s 22ms/step - loss: 0.2352 - accuracy: 0.9190 - min_diff_loss: 0.0015\n",
      "Epoch 15/30\n",
      "25/25 [==============================] - 1s 22ms/step - loss: 0.2336 - accuracy: 0.9192 - min_diff_loss: 0.0014\n",
      "Epoch 16/30\n",
      "25/25 [==============================] - 1s 22ms/step - loss: 0.2323 - accuracy: 0.9195 - min_diff_loss: 0.0014\n",
      "Epoch 17/30\n",
      "25/25 [==============================] - 1s 22ms/step - loss: 0.2311 - accuracy: 0.9197 - min_diff_loss: 0.0013\n",
      "Epoch 18/30\n",
      "25/25 [==============================] - 1s 22ms/step - loss: 0.2300 - accuracy: 0.9202 - min_diff_loss: 0.0013\n",
      "Epoch 19/30\n",
      "25/25 [==============================] - 1s 22ms/step - loss: 0.2290 - accuracy: 0.9206 - min_diff_loss: 0.0013\n",
      "Epoch 20/30\n",
      "25/25 [==============================] - 1s 22ms/step - loss: 0.2281 - accuracy: 0.9208 - min_diff_loss: 0.0013\n",
      "Epoch 21/30\n",
      "25/25 [==============================] - 1s 22ms/step - loss: 0.2272 - accuracy: 0.9211 - min_diff_loss: 0.0012\n",
      "Epoch 22/30\n",
      "25/25 [==============================] - 1s 22ms/step - loss: 0.2263 - accuracy: 0.9213 - min_diff_loss: 0.0012\n",
      "Epoch 23/30\n",
      "25/25 [==============================] - 1s 22ms/step - loss: 0.2255 - accuracy: 0.9219 - min_diff_loss: 0.0012\n",
      "Epoch 24/30\n",
      "25/25 [==============================] - 1s 22ms/step - loss: 0.2247 - accuracy: 0.9223 - min_diff_loss: 0.0012\n",
      "Epoch 25/30\n",
      "25/25 [==============================] - 1s 22ms/step - loss: 0.2238 - accuracy: 0.9226 - min_diff_loss: 0.0012\n",
      "Epoch 26/30\n",
      "25/25 [==============================] - 1s 22ms/step - loss: 0.2229 - accuracy: 0.9229 - min_diff_loss: 0.0011\n",
      "Epoch 27/30\n",
      "25/25 [==============================] - 1s 22ms/step - loss: 0.2220 - accuracy: 0.9234 - min_diff_loss: 0.0011\n",
      "Epoch 28/30\n",
      "25/25 [==============================] - 1s 22ms/step - loss: 0.2211 - accuracy: 0.9238 - min_diff_loss: 0.0011\n",
      "Epoch 29/30\n",
      "25/25 [==============================] - 1s 22ms/step - loss: 0.2202 - accuracy: 0.9237 - min_diff_loss: 0.0011\n",
      "Epoch 30/30\n",
      "25/25 [==============================] - 1s 22ms/step - loss: 0.2193 - accuracy: 0.9237 - min_diff_loss: 0.0010\n"
     ]
    },
    {
     "name": "stderr",
     "output_type": "stream",
     "text": [
      "WARNING:absl:Found untraced functions such as _update_step_xla while saving (showing 1 of 1). These functions will not be directly callable after loading.\n"
     ]
    },
    {
     "name": "stdout",
     "output_type": "stream",
     "text": [
      "INFO:tensorflow:Assets written to: /var/tmp/saved_modelsky_7w42k/model_export_min_diff/assets\n"
     ]
    },
    {
     "name": "stderr",
     "output_type": "stream",
     "text": [
      "INFO:tensorflow:Assets written to: /var/tmp/saved_modelsky_7w42k/model_export_min_diff/assets\n"
     ]
    }
   ],
   "source": [
    "base_dir = tempfile.mkdtemp(prefix=\"saved_models\")\n",
    "min_diff_model_location = os.path.join(base_dir, \"model_export_min_diff\")\n",
    "\n",
    "\n",
    "min_diff_weight = 1.5\n",
    "\n",
    "# Create the dataset that will be passed to the MinDiffModel during training.\n",
    "min_diff_dataset = md.keras.utils.input_utils.pack_min_diff_data(\n",
    "    dataset_train_main, dataset_train_sensitive, dataset_train_nonsensitive\n",
    ")\n",
    "\n",
    "original_model = tf.keras.Sequential()\n",
    "\n",
    "# Create the original model.\n",
    "hub_layer = hub.KerasLayer(\n",
    "    hub_url, output_shape=[128], input_shape=[], dtype=tf.string\n",
    ")\n",
    "\n",
    "original_model.add(hub_layer)\n",
    "original_model.add(tf.keras.layers.Dense(128, activation=\"relu\"))\n",
    "original_model.add(tf.keras.layers.Dense(1, activation=\"sigmoid\"))\n",
    "\n",
    "baseline_model = min_diff_keras_utils.create_keras_sequential_model()\n",
    "\n",
    "# Wrap the original model in a MinDiffModel, passing in one of the MinDiff\n",
    "# losses and using the set loss_weight.\n",
    "min_diff_loss = md.losses.MMDLoss()\n",
    "min_diff_model = md.keras.MinDiffModel(\n",
    "    original_model, min_diff_loss, min_diff_weight\n",
    ")\n",
    "\n",
    "# Compile the model normally after wrapping the original model.  Note that\n",
    "# this means we use the baseline's model's loss here.\n",
    "optimizer = tf.keras.optimizers.Adam(learning_rate=0.001)\n",
    "loss = tf.keras.losses.BinaryCrossentropy()\n",
    "min_diff_model.compile(optimizer=optimizer, loss=loss, metrics=[\"accuracy\"])\n",
    "\n",
    "min_diff_model.fit(min_diff_dataset, epochs=30)\n",
    "\n",
    "min_diff_model.save_original_model(min_diff_model_location, save_format=\"tf\")"
   ]
  },
  {
   "cell_type": "markdown",
   "metadata": {
    "id": "doJhbIKVwQdp"
   },
   "source": [
    "Next we evaluate the results.  "
   ]
  },
  {
   "cell_type": "code",
   "execution_count": 17,
   "metadata": {},
   "outputs": [
    {
     "data": {
      "image/png": "[encoded data removed]",
      "text/plain": [
       "<Figure size 640x480 with 1 Axes>"
      ]
     },
     "metadata": {},
     "output_type": "display_data"
    }
   ],
   "source": [
    "for (f, l), (non_f, non_l) in zip(\n",
    "    dataset_train_sensitive.take(1), dataset_train_nonsensitive.take(1)\n",
    "):\n",
    "    res = tf.squeeze(min_diff_model(f))\n",
    "    non_res = tf.squeeze(min_diff_model(non_f))\n",
    "    sns.histplot(\n",
    "        {\"sensitive\": res, \"nonsensitive\": non_res},\n",
    "        bins=60,\n",
    "        kde=True,\n",
    "        stat=\"density\",\n",
    "    )"
   ]
  },
  {
   "cell_type": "code",
   "execution_count": null,
   "metadata": {
    "id": "0CBdOQCH5IR6"
   },
   "outputs": [],
   "source": [
    "# min_diff_eval_subdir = os.path.join(base_dir, 'tfma_eval_result')\n",
    "# min_diff_eval_result = fi_util.get_eval_results(\n",
    "#     min_diff_model_location,\n",
    "#     min_diff_eval_subdir,\n",
    "#     validate_tfrecord_file,\n",
    "#     slice_selection='religion')"
   ]
  },
  {
   "cell_type": "markdown",
   "metadata": {
    "id": "JObiq-mVwUzL"
   },
   "source": [
    "To ensure we evaluate a new model correctly, we need to select a threshold the same way that we would the baseline model. In a production setting, this would mean ensuring that evaluation metrics meet launch standards. In our case, we will pick the threshold that results in a similar overall FPR to the baseline model. This threshold may be different from the one you selected for the baseline model.  Try selecting false positive rate with threshold 0.400.  (Note that the subgroups with very low quantity examples have very wide confidence range intervals and don’t have predictable results.)   "
   ]
  },
  {
   "cell_type": "markdown",
   "metadata": {
    "id": "sVRurkbZwYMj"
   },
   "source": [
    "Reviewing these results, you may notice that the FPRs for our target groups have improved. The gap between our lowest performing group and the majority group has improved from .024 to .006. Given the improvements we’ve observed and the continued strong performance for the majority group, we’ve satisfied both of our goals. Depending on the product, further improvements may be necessary, but this approach has gotten our model one step closer to performing equitably for all users."
   ]
  }
 ],
 "metadata": {
  "colab": {
   "name": "min_diff_keras.ipynb",
   "provenance": []
  },
  "environment": {
   "kernel": "python3",
   "name": "tf2-gpu.2-12.m110",
   "type": "gcloud",
   "uri": "gcr.io/deeplearning-platform-release/tf2-gpu.2-12:m110"
  },
  "kernelspec": {
   "display_name": "Python 3",
   "language": "python",
   "name": "python3"
  },
  "language_info": {
   "codemirror_mode": {
    "name": "ipython",
    "version": 3
   },
   "file_extension": ".py",
   "mimetype": "text/x-python",
   "name": "python",
   "nbconvert_exporter": "python",
   "pygments_lexer": "ipython3",
   "version": "3.10.12"
  }
 },
 "nbformat": 4,
 "nbformat_minor": 4
}
