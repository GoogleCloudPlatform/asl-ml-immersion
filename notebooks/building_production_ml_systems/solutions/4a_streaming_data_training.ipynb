{
 "cells": [
  {
   "cell_type": "markdown",
   "metadata": {},
   "source": [
    "# Training a model with `traffic_last_5min` feature\n",
    "\n",
    "\n",
    "## Introduction\n",
    "\n",
    "In this notebook, we'll train a taxifare prediction model but this time with an additional feature of `traffic_last_5min`."
   ]
  },
  {
   "cell_type": "code",
   "execution_count": null,
   "metadata": {},
   "outputs": [],
   "source": [
    "!sudo chown -R jupyter:jupyter /home/jupyter/training-data-analyst"
   ]
  },
  {
   "cell_type": "code",
   "execution_count": 1,
   "metadata": {},
   "outputs": [
    {
     "name": "stdout",
     "output_type": "stream",
     "text": [
      "2.1.0\n"
     ]
    }
   ],
   "source": [
    "import datetime\n",
    "import os\n",
    "import shutil\n",
    "\n",
    "import pandas as pd\n",
    "import tensorflow as tf\n",
    "\n",
    "from matplotlib import pyplot as plt\n",
    "from tensorflow import keras\n",
    "\n",
    "from tensorflow.keras.models import Sequential\n",
    "from tensorflow.keras.layers import Dense, DenseFeatures\n",
    "from tensorflow.keras.callbacks import TensorBoard\n",
    "\n",
    "print(tf.__version__)\n",
    "%matplotlib inline"
   ]
  },
  {
   "cell_type": "code",
   "execution_count": 2,
   "metadata": {},
   "outputs": [],
   "source": [
    "PROJECT = 'cloud-training-demos' # REPLACE WITH YOUR PROJECT ID\n",
    "BUCKET = 'cloud-training-demos' # REPLACE WITH YOUR BUCKET NAME\n",
    "REGION = 'us-central1' # REPLACE WITH YOUR BUCKET REGION e.g. us-central1"
   ]
  },
  {
   "cell_type": "code",
   "execution_count": 3,
   "metadata": {},
   "outputs": [],
   "source": [
    "# For Bash Code\n",
    "os.environ['PROJECT'] = PROJECT\n",
    "os.environ['BUCKET'] = BUCKET\n",
    "os.environ['REGION'] = REGION"
   ]
  },
  {
   "cell_type": "code",
   "execution_count": 4,
   "metadata": {},
   "outputs": [
    {
     "name": "stderr",
     "output_type": "stream",
     "text": [
      "Updated property [core/project].\n",
      "Updated property [compute/region].\n"
     ]
    }
   ],
   "source": [
    "%%bash\n",
    "gcloud config set project $PROJECT\n",
    "gcloud config set compute/region $REGION"
   ]
  },
  {
   "cell_type": "markdown",
   "metadata": {},
   "source": [
    "## Load raw data"
   ]
  },
  {
   "cell_type": "code",
   "execution_count": 68,
   "metadata": {},
   "outputs": [
    {
     "name": "stdout",
     "output_type": "stream",
     "text": [
      "-rw-r--r-- 1 jupyter jupyter 2186310 Feb 18 19:58 ../data/taxi-traffic-test.csv\n",
      "-rw-r--r-- 1 jupyter jupyter 9713118 Feb 18 19:58 ../data/taxi-traffic-train.csv\n",
      "-rw-r--r-- 1 jupyter jupyter 2036826 Feb 18 19:58 ../data/taxi-traffic-valid.csv\n"
     ]
    }
   ],
   "source": [
    "!ls -l ../data/taxi-traffic*"
   ]
  },
  {
   "cell_type": "code",
   "execution_count": 69,
   "metadata": {},
   "outputs": [
    {
     "name": "stdout",
     "output_type": "stream",
     "text": [
      "==> ../data/taxi-traffic-test.csv <==\n",
      "15.7,6,12,-73.990072,40.758199,-73.974686,40.742004,2089\n",
      "6.1,7,2,-73.95647,40.771226,-73.971845,40.750089,1738\n",
      "4.1,6,18,-73.987871,40.759855,-73.996375,40.763728,2971\n",
      "5.7,2,18,-73.974177,40.761154,-73.980953,40.769357,2320\n",
      "7.4,4,23,-73.924908,40.741879,-73.897524,40.747867,1491\n",
      "20.5,1,15,-73.957528,40.766847,-73.870813,40.774044,1794\n",
      "6.5,6,9,-73.996553,40.725558,-73.992503,40.737248,2341\n",
      "4.1,4,11,-73.98353,40.746821000000004,-73.976831,40.751082000000004,2329\n",
      "10.5,3,18,-73.863998,40.770439,-73.91671099999999,40.773011,2318\n",
      "10.1,6,1,-73.979685,40.727247999999996,-73.952508,40.772492,1455\n",
      "\n",
      "==> ../data/taxi-traffic-train.csv <==\n",
      "6.1,2,0,-73.98689499999999,40.729723,-74.00631,40.739407,1129\n",
      "9.7,7,0,-73.94578299999999,40.777807,-73.97539,40.757712,2876\n",
      "5.3,6,0,-74.00644,40.739349,-73.999379,40.731804,3950\n",
      "7.3,5,0,-73.96611800000001,40.753983000000005,-73.945605,40.782802000000004,1334\n",
      "6.5,7,0,-73.974153,40.762767,-73.989152,40.742727,2623\n",
      "22.9,1,0,-73.977188,40.774063,-73.962647,40.654768,2833\n",
      "22.9,2,0,-74.00188,40.745946999999994,-73.968497,40.639375,2002\n",
      "6.1,3,0,-73.994051,40.751077,-73.977333,40.778875,661\n",
      "5.3,5,0,-73.980898,40.744515,-73.973383,40.753496999999996,1938\n",
      "6.5,7,0,-74.00540600000001,40.708533,-74.005498,40.725617,2781\n",
      "\n",
      "==> ../data/taxi-traffic-valid.csv <==\n",
      "7.7,2,11,-73.97463,40.742118,-73.98544,40.760585999999996,1059\n",
      "30.1,7,1,-73.956921,40.777588,-73.965109,40.673271,2225\n",
      "7.7,6,13,-73.98073199999999,40.742109,-73.96415400000001,40.764891999999996,1994\n",
      "24.67,4,4,-73.953387,40.822733,-73.878697,40.755373,321\n",
      "7.7,2,1,-73.982304,40.723572,-73.972778,40.74928,1115\n",
      "8.1,5,18,-73.98474300000001,40.749171999999994,-74.00232,40.72825,2697\n",
      "6.1,4,1,-73.983588,40.72224,-73.997302,40.720786,868\n",
      "19.07,3,1,-73.94446500000001,40.807284,-73.876339,40.763073999999996,711\n",
      "12.5,4,10,-73.98696899999999,40.722343,-74.01621,40.715067,1990\n",
      "5.7,7,18,-74.007972,40.738759,-73.991973,40.73704,2048\n"
     ]
    }
   ],
   "source": [
    "!head ../data/taxi-traffic*"
   ]
  },
  {
   "cell_type": "markdown",
   "metadata": {},
   "source": [
    "## Use tf.data to read the CSV files\n",
    "\n",
    "These functions for reading data from the csv files are similar to what we used in the Introduction to Tensorflow module. Note that here we have an addtional feature `traffic_last_5min`."
   ]
  },
  {
   "cell_type": "code",
   "execution_count": 70,
   "metadata": {},
   "outputs": [],
   "source": [
    "CSV_COLUMNS = [\n",
    "    'fare_amount',\n",
    "    'dayofweek',\n",
    "    'hourofday',\n",
    "    'pickup_longitude',\n",
    "    'pickup_latitude',\n",
    "    'dropoff_longitude',\n",
    "    'dropoff_latitude',\n",
    "    'traffic_last_5min'\n",
    "]\n",
    "LABEL_COLUMN = 'fare_amount'\n",
    "DEFAULTS = [[0.0], [0.0], [0.0], [0.0], [0.0], [0.0], [0.0], [0.0]]\n",
    "\n",
    "\n",
    "def features_and_labels(row_data):\n",
    "    label = row_data.pop(LABEL_COLUMN)\n",
    "    features = row_data\n",
    "\n",
    "    return features, label\n",
    "\n",
    "\n",
    "def create_dataset(pattern, batch_size=1, mode=tf.estimator.ModeKeys.EVAL):\n",
    "    dataset = tf.data.experimental.make_csv_dataset(\n",
    "        pattern, batch_size, CSV_COLUMNS, DEFAULTS)\n",
    "\n",
    "    dataset = dataset.map(features_and_labels)\n",
    "\n",
    "    if mode == tf.estimator.ModeKeys.TRAIN:\n",
    "        dataset = dataset.shuffle(buffer_size=1000).repeat()\n",
    "\n",
    "    # take advantage of multi-threading; 1=AUTOTUNE\n",
    "    dataset = dataset.prefetch(1)\n",
    "    return dataset"
   ]
  },
  {
   "cell_type": "code",
   "execution_count": 71,
   "metadata": {},
   "outputs": [],
   "source": [
    "INPUT_COLS = [\n",
    "    'dayofweek',\n",
    "    'hourofday',\n",
    "    'pickup_longitude',\n",
    "    'pickup_latitude',\n",
    "    'dropoff_longitude',\n",
    "    'dropoff_latitude',\n",
    "    'traffic_last_5min'\n",
    "]\n",
    "\n",
    "# Create input layer of feature columns\n",
    "feature_columns = {\n",
    "    colname: tf.feature_column.numeric_column(colname)\n",
    "    for colname in INPUT_COLS\n",
    "    }"
   ]
  },
  {
   "cell_type": "markdown",
   "metadata": {},
   "source": [
    "## Build a simple keras DNN model"
   ]
  },
  {
   "cell_type": "code",
   "execution_count": 72,
   "metadata": {},
   "outputs": [],
   "source": [
    "# Build a keras DNN model using Sequential API\n",
    "def build_model(dnn_hidden_units):\n",
    "    model = Sequential(DenseFeatures(feature_columns=feature_columns.values()))\n",
    "    \n",
    "    for num_nodes in dnn_hidden_units:\n",
    "        model.add(Dense(units=num_nodes, activation=\"relu\"))\n",
    "    \n",
    "    model.add(Dense(units=1, activation=\"linear\"))    \n",
    "    \n",
    "    # Create a custom evalution metric\n",
    "    def rmse(y_true, y_pred):\n",
    "        return tf.sqrt(tf.reduce_mean(tf.square(y_pred - y_true)))\n",
    "\n",
    "    # Compile the keras model\n",
    "    model.compile(optimizer=\"adam\", loss=\"mse\", metrics=[rmse, \"mse\"])\n",
    "    \n",
    "    return model"
   ]
  },
  {
   "cell_type": "markdown",
   "metadata": {},
   "source": [
    "Next, we can call the `build_model` to create the model. Here we'll have two hidden layers before our final output layer. And we'll train with the same parameters we used before."
   ]
  },
  {
   "cell_type": "code",
   "execution_count": 73,
   "metadata": {},
   "outputs": [],
   "source": [
    "HIDDEN_UNITS = [32, 8]\n",
    "\n",
    "model = build_model(dnn_hidden_units=HIDDEN_UNITS)"
   ]
  },
  {
   "cell_type": "code",
   "execution_count": 75,
   "metadata": {},
   "outputs": [],
   "source": [
    "BATCH_SIZE = 1000\n",
    "NUM_TRAIN_EXAMPLES = 10000 * 6  # training dataset will repeat, wrap around\n",
    "NUM_EVALS = 60  # how many times to evaluate\n",
    "NUM_EVAL_EXAMPLES = 10000  # enough to get a reasonable sample\n",
    "\n",
    "trainds = create_dataset(\n",
    "    pattern='../data/taxi-traffic-train*',\n",
    "    batch_size=BATCH_SIZE,\n",
    "    mode=tf.estimator.ModeKeys.TRAIN)\n",
    "\n",
    "evalds = create_dataset(\n",
    "    pattern='../data/taxi-traffic-valid*',\n",
    "    batch_size=BATCH_SIZE,\n",
    "    mode=tf.estimator.ModeKeys.EVAL).take(NUM_EVAL_EXAMPLES//1000)"
   ]
  },
  {
   "cell_type": "code",
   "execution_count": 76,
   "metadata": {},
   "outputs": [
    {
     "name": "stdout",
     "output_type": "stream",
     "text": [
      "Train for 1 steps, validate for 10 steps\n",
      "Epoch 1/60\n",
      "1/1 [==============================] - 14s 14s/step - loss: 16714.0234 - rmse: 129.2827 - mse: 16714.0234 - val_loss: 15930.7977 - val_rmse: 126.2086 - val_mse: 15930.7969\n",
      "Epoch 2/60\n",
      "WARNING:tensorflow:Method (on_train_batch_end) is slow compared to the batch update (0.802815). Check your callbacks.\n",
      "1/1 [==============================] - 1s 1s/step - loss: 15724.3438 - rmse: 125.3967 - mse: 15724.3438 - val_loss: 14255.0899 - val_rmse: 119.3733 - val_mse: 14255.0898\n",
      "Epoch 3/60\n",
      "1/1 [==============================] - 0s 324ms/step - loss: 13122.7656 - rmse: 114.5546 - mse: 13122.7656 - val_loss: 12554.0063 - val_rmse: 112.0342 - val_mse: 12554.0059\n",
      "Epoch 4/60\n",
      "1/1 [==============================] - 0s 338ms/step - loss: 12369.3037 - rmse: 111.2174 - mse: 12369.3037 - val_loss: 10953.1569 - val_rmse: 104.6422 - val_mse: 10953.1572\n",
      "Epoch 5/60\n",
      "1/1 [==============================] - 0s 326ms/step - loss: 12113.4824 - rmse: 110.0613 - mse: 12113.4824 - val_loss: 9385.8480 - val_rmse: 96.8662 - val_mse: 9385.8486\n",
      "Epoch 6/60\n",
      "1/1 [==============================] - 0s 327ms/step - loss: 9851.1416 - rmse: 99.2529 - mse: 9851.1416 - val_loss: 7609.2677 - val_rmse: 87.2153 - val_mse: 7609.2681\n",
      "Epoch 7/60\n",
      "1/1 [==============================] - 0s 328ms/step - loss: 7457.4858 - rmse: 86.3567 - mse: 7457.4858 - val_loss: 5930.1696 - val_rmse: 76.9903 - val_mse: 5930.1694\n",
      "Epoch 8/60\n",
      "1/1 [==============================] - 0s 324ms/step - loss: 6144.3247 - rmse: 78.3857 - mse: 6144.3247 - val_loss: 4372.2186 - val_rmse: 66.1158 - val_mse: 4372.2188\n",
      "Epoch 9/60\n",
      "1/1 [==============================] - 0s 312ms/step - loss: 4498.1816 - rmse: 67.0685 - mse: 4498.1816 - val_loss: 3011.6439 - val_rmse: 54.8659 - val_mse: 3011.6440\n",
      "Epoch 10/60\n",
      "1/1 [==============================] - 0s 342ms/step - loss: 2807.3469 - rmse: 52.9844 - mse: 2807.3469 - val_loss: 1829.1998 - val_rmse: 42.7588 - val_mse: 1829.1998\n",
      "Epoch 11/60\n",
      "1/1 [==============================] - 0s 335ms/step - loss: 1798.4458 - rmse: 42.4081 - mse: 1798.4458 - val_loss: 954.7523 - val_rmse: 30.8876 - val_mse: 954.7523\n",
      "Epoch 12/60\n",
      "1/1 [==============================] - 0s 334ms/step - loss: 821.6986 - rmse: 28.6653 - mse: 821.6986 - val_loss: 413.3919 - val_rmse: 20.3260 - val_mse: 413.3919\n",
      "Epoch 13/60\n",
      "1/1 [==============================] - 0s 291ms/step - loss: 718.4465 - rmse: 26.8039 - mse: 718.4465 - val_loss: 203.9988 - val_rmse: 14.2689 - val_mse: 203.9988\n",
      "Epoch 14/60\n",
      "1/1 [==============================] - 0s 332ms/step - loss: 162.1362 - rmse: 12.7333 - mse: 162.1362 - val_loss: 286.2824 - val_rmse: 16.9101 - val_mse: 286.2824\n",
      "Epoch 15/60\n",
      "1/1 [==============================] - 0s 332ms/step - loss: 245.4696 - rmse: 15.6675 - mse: 245.4696 - val_loss: 561.9637 - val_rmse: 23.6998 - val_mse: 561.9636\n",
      "Epoch 16/60\n",
      "1/1 [==============================] - 0s 330ms/step - loss: 571.6968 - rmse: 23.9102 - mse: 571.6968 - val_loss: 927.2357 - val_rmse: 30.4469 - val_mse: 927.2357\n",
      "Epoch 17/60\n",
      "1/1 [==============================] - 0s 338ms/step - loss: 912.3591 - rmse: 30.2053 - mse: 912.3591 - val_loss: 1271.7959 - val_rmse: 35.6578 - val_mse: 1271.7959\n",
      "Epoch 18/60\n",
      "1/1 [==============================] - 0s 332ms/step - loss: 1298.4734 - rmse: 36.0343 - mse: 1298.4734 - val_loss: 1526.6203 - val_rmse: 39.0694 - val_mse: 1526.6202\n",
      "Epoch 19/60\n",
      "1/1 [==============================] - 0s 336ms/step - loss: 1575.0186 - rmse: 39.6865 - mse: 1575.0186 - val_loss: 1622.5404 - val_rmse: 40.2785 - val_mse: 1622.5404\n",
      "Epoch 20/60\n",
      "1/1 [==============================] - 0s 365ms/step - loss: 1767.7139 - rmse: 42.0442 - mse: 1767.7139 - val_loss: 1589.2117 - val_rmse: 39.8635 - val_mse: 1589.2117\n",
      "Epoch 21/60\n",
      "1/1 [==============================] - 0s 325ms/step - loss: 1772.7544 - rmse: 42.1041 - mse: 1772.7544 - val_loss: 1453.8313 - val_rmse: 38.1266 - val_mse: 1453.8313\n",
      "Epoch 22/60\n",
      "1/1 [==============================] - 0s 324ms/step - loss: 1414.6169 - rmse: 37.6114 - mse: 1414.6169 - val_loss: 1239.4731 - val_rmse: 35.2030 - val_mse: 1239.4731\n",
      "Epoch 23/60\n",
      "1/1 [==============================] - 0s 334ms/step - loss: 1230.8855 - rmse: 35.0840 - mse: 1230.8855 - val_loss: 958.4657 - val_rmse: 30.9550 - val_mse: 958.4656\n",
      "Epoch 24/60\n",
      "1/1 [==============================] - 0s 359ms/step - loss: 936.9202 - rmse: 30.6092 - mse: 936.9202 - val_loss: 703.8930 - val_rmse: 26.5253 - val_mse: 703.8930\n",
      "Epoch 25/60\n",
      "1/1 [==============================] - 0s 342ms/step - loss: 667.9628 - rmse: 25.8450 - mse: 667.9628 - val_loss: 470.6858 - val_rmse: 21.6873 - val_mse: 470.6858\n",
      "Epoch 26/60\n",
      "1/1 [==============================] - 0s 302ms/step - loss: 305.4423 - rmse: 17.4769 - mse: 305.4423 - val_loss: 319.8133 - val_rmse: 17.8691 - val_mse: 319.8133\n",
      "Epoch 27/60\n",
      "1/1 [==============================] - 0s 336ms/step - loss: 280.9639 - rmse: 16.7620 - mse: 280.9639 - val_loss: 220.7406 - val_rmse: 14.8449 - val_mse: 220.7406\n",
      "Epoch 28/60\n",
      "1/1 [==============================] - 0s 364ms/step - loss: 233.9235 - rmse: 15.2946 - mse: 233.9235 - val_loss: 176.7350 - val_rmse: 13.2884 - val_mse: 176.7350\n",
      "Epoch 29/60\n",
      "1/1 [==============================] - 0s 335ms/step - loss: 125.5928 - rmse: 11.2068 - mse: 125.5928 - val_loss: 160.5479 - val_rmse: 12.6562 - val_mse: 160.5479\n",
      "Epoch 30/60\n",
      "1/1 [==============================] - 0s 344ms/step - loss: 125.9371 - rmse: 11.2222 - mse: 125.9371 - val_loss: 164.1476 - val_rmse: 12.8075 - val_mse: 164.1476\n",
      "Epoch 31/60\n",
      "1/1 [==============================] - 0s 345ms/step - loss: 152.5454 - rmse: 12.3509 - mse: 152.5454 - val_loss: 184.1729 - val_rmse: 13.5652 - val_mse: 184.1729\n",
      "Epoch 32/60\n",
      "1/1 [==============================] - 0s 334ms/step - loss: 219.6855 - rmse: 14.8218 - mse: 219.6855 - val_loss: 201.3507 - val_rmse: 14.1832 - val_mse: 201.3507\n",
      "Epoch 33/60\n",
      "1/1 [==============================] - 0s 327ms/step - loss: 287.5493 - rmse: 16.9573 - mse: 287.5493 - val_loss: 205.3878 - val_rmse: 14.3286 - val_mse: 205.3878\n",
      "Epoch 34/60\n",
      "1/1 [==============================] - 0s 322ms/step - loss: 281.6186 - rmse: 16.7815 - mse: 281.6186 - val_loss: 213.9577 - val_rmse: 14.6219 - val_mse: 213.9577\n",
      "Epoch 35/60\n",
      "1/1 [==============================] - 0s 324ms/step - loss: 260.2236 - rmse: 16.1314 - mse: 260.2236 - val_loss: 218.4456 - val_rmse: 14.7728 - val_mse: 218.4456\n",
      "Epoch 36/60\n",
      "1/1 [==============================] - 0s 325ms/step - loss: 255.9205 - rmse: 15.9975 - mse: 255.9205 - val_loss: 209.7117 - val_rmse: 14.4772 - val_mse: 209.7117\n",
      "Epoch 37/60\n",
      "1/1 [==============================] - 0s 313ms/step - loss: 166.7349 - rmse: 12.9126 - mse: 166.7349 - val_loss: 201.4032 - val_rmse: 14.1873 - val_mse: 201.4032\n",
      "Epoch 38/60\n",
      "1/1 [==============================] - 0s 310ms/step - loss: 259.5526 - rmse: 16.1106 - mse: 259.5526 - val_loss: 190.8455 - val_rmse: 13.8114 - val_mse: 190.8456\n",
      "Epoch 39/60\n",
      "1/1 [==============================] - 0s 314ms/step - loss: 281.4590 - rmse: 16.7767 - mse: 281.4590 - val_loss: 181.1483 - val_rmse: 13.4510 - val_mse: 181.1483\n",
      "Epoch 40/60\n",
      "1/1 [==============================] - 0s 323ms/step - loss: 248.8743 - rmse: 15.7758 - mse: 248.8743 - val_loss: 161.9185 - val_rmse: 12.7232 - val_mse: 161.9185\n",
      "Epoch 41/60\n",
      "1/1 [==============================] - 0s 321ms/step - loss: 129.7522 - rmse: 11.3909 - mse: 129.7522 - val_loss: 148.0191 - val_rmse: 12.1627 - val_mse: 148.0191\n",
      "Epoch 42/60\n",
      "1/1 [==============================] - 0s 314ms/step - loss: 165.9798 - rmse: 12.8833 - mse: 165.9798 - val_loss: 134.9643 - val_rmse: 11.6059 - val_mse: 134.9643\n",
      "Epoch 43/60\n",
      "1/1 [==============================] - 0s 317ms/step - loss: 161.1231 - rmse: 12.6934 - mse: 161.1231 - val_loss: 132.6308 - val_rmse: 11.5131 - val_mse: 132.6308\n",
      "Epoch 44/60\n",
      "1/1 [==============================] - 0s 326ms/step - loss: 118.6543 - rmse: 10.8929 - mse: 118.6543 - val_loss: 128.1590 - val_rmse: 11.2904 - val_mse: 128.1590\n",
      "Epoch 45/60\n",
      "1/1 [==============================] - 0s 299ms/step - loss: 85.8883 - rmse: 9.2676 - mse: 85.8883 - val_loss: 133.9283 - val_rmse: 11.5576 - val_mse: 133.9283\n",
      "Epoch 46/60\n",
      "1/1 [==============================] - 0s 305ms/step - loss: 84.6787 - rmse: 9.2021 - mse: 84.6787 - val_loss: 140.5950 - val_rmse: 11.8419 - val_mse: 140.5950\n",
      "Epoch 47/60\n",
      "1/1 [==============================] - 0s 317ms/step - loss: 156.9078 - rmse: 12.5263 - mse: 156.9078 - val_loss: 142.4095 - val_rmse: 11.9199 - val_mse: 142.4095\n",
      "Epoch 48/60\n",
      "1/1 [==============================] - 0s 292ms/step - loss: 118.3664 - rmse: 10.8796 - mse: 118.3664 - val_loss: 160.4241 - val_rmse: 12.6590 - val_mse: 160.4241\n",
      "Epoch 49/60\n",
      "1/1 [==============================] - 0s 292ms/step - loss: 104.1960 - rmse: 10.2076 - mse: 104.1960 - val_loss: 167.9735 - val_rmse: 12.9324 - val_mse: 167.9735\n",
      "Epoch 50/60\n",
      "1/1 [==============================] - 0s 311ms/step - loss: 165.4168 - rmse: 12.8614 - mse: 165.4168 - val_loss: 169.4112 - val_rmse: 13.0050 - val_mse: 169.4112\n",
      "Epoch 51/60\n",
      "1/1 [==============================] - 0s 320ms/step - loss: 160.6625 - rmse: 12.6753 - mse: 160.6625 - val_loss: 176.0411 - val_rmse: 13.2445 - val_mse: 176.0411\n",
      "Epoch 52/60\n",
      "1/1 [==============================] - 0s 332ms/step - loss: 192.3002 - rmse: 13.8672 - mse: 192.3002 - val_loss: 173.2140 - val_rmse: 13.1431 - val_mse: 173.2140\n",
      "Epoch 53/60\n",
      "1/1 [==============================] - 0s 293ms/step - loss: 181.0224 - rmse: 13.4545 - mse: 181.0224 - val_loss: 162.0567 - val_rmse: 12.7129 - val_mse: 162.0567\n",
      "Epoch 54/60\n",
      "1/1 [==============================] - 0s 283ms/step - loss: 148.0330 - rmse: 12.1669 - mse: 148.0330 - val_loss: 164.4130 - val_rmse: 12.8136 - val_mse: 164.4130\n",
      "Epoch 55/60\n",
      "1/1 [==============================] - 0s 280ms/step - loss: 99.4831 - rmse: 9.9741 - mse: 99.4831 - val_loss: 152.6911 - val_rmse: 12.3397 - val_mse: 152.6911\n",
      "Epoch 56/60\n",
      "1/1 [==============================] - 0s 397ms/step - loss: 135.7400 - rmse: 11.6508 - mse: 135.7400 - val_loss: 139.7346 - val_rmse: 11.8085 - val_mse: 139.7346\n",
      "Epoch 57/60\n",
      "1/1 [==============================] - 0s 333ms/step - loss: 152.5120 - rmse: 12.3496 - mse: 152.5120 - val_loss: 138.1287 - val_rmse: 11.7433 - val_mse: 138.1288\n",
      "Epoch 58/60\n",
      "1/1 [==============================] - 0s 299ms/step - loss: 109.6043 - rmse: 10.4692 - mse: 109.6043 - val_loss: 122.5023 - val_rmse: 11.0580 - val_mse: 122.5023\n",
      "Epoch 59/60\n",
      "1/1 [==============================] - 0s 296ms/step - loss: 121.3671 - rmse: 11.0167 - mse: 121.3671 - val_loss: 123.5811 - val_rmse: 11.1065 - val_mse: 123.5811\n",
      "Epoch 60/60\n",
      "1/1 [==============================] - 0s 306ms/step - loss: 95.3763 - rmse: 9.7661 - mse: 95.3763 - val_loss: 117.2860 - val_rmse: 10.8048 - val_mse: 117.2860\n",
      "CPU times: user 1min 3s, sys: 15.4 s, total: 1min 18s\n",
      "Wall time: 47.7 s\n"
     ]
    }
   ],
   "source": [
    "%%time\n",
    "steps_per_epoch = NUM_TRAIN_EXAMPLES // (BATCH_SIZE * NUM_EVALS)\n",
    "\n",
    "LOGDIR = \"./taxi_trained\"\n",
    "history = model.fit(x=trainds,\n",
    "                    steps_per_epoch=steps_per_epoch,\n",
    "                    epochs=NUM_EVALS,\n",
    "                    validation_data=evalds,\n",
    "                    callbacks=[TensorBoard(LOGDIR)])"
   ]
  },
  {
   "cell_type": "code",
   "execution_count": 77,
   "metadata": {},
   "outputs": [
    {
     "data": {
      "text/plain": [
       "<matplotlib.axes._subplots.AxesSubplot at 0x7f4fe1f80ba8>"
      ]
     },
     "execution_count": 77,
     "metadata": {},
     "output_type": "execute_result"
    },
    {
     "data": {
      "image/png": "[encoded data removed]",
      "text/plain": [
       "<Figure size 432x288 with 1 Axes>"
      ]
     },
     "metadata": {
      "needs_background": "light"
     },
     "output_type": "display_data"
    }
   ],
   "source": [
    "RMSE_COLS = ['rmse', 'val_rmse']\n",
    "\n",
    "pd.DataFrame(history.history)[RMSE_COLS].plot()"
   ]
  },
  {
   "cell_type": "code",
   "execution_count": 81,
   "metadata": {},
   "outputs": [
    {
     "data": {
      "text/plain": [
       "array([[7.545066]], dtype=float32)"
      ]
     },
     "execution_count": 81,
     "metadata": {},
     "output_type": "execute_result"
    }
   ],
   "source": [
    "model.predict(x={\"dayofweek\": tf.convert_to_tensor([6]),\n",
    "                 \"hourofday\": tf.convert_to_tensor([17]),\n",
    "                 \"pickup_longitude\": tf.convert_to_tensor([-73.982683]),\n",
    "                 \"pickup_latitude\": tf.convert_to_tensor([40.742104]),\n",
    "                 \"dropoff_longitude\": tf.convert_to_tensor([-73.983766]),\n",
    "                 \"dropoff_latitude\": tf.convert_to_tensor([40.755174]),\n",
    "                \"traffic_last_5min\": tf.convert_to_tensor([114])},\n",
    "              steps=1)"
   ]
  },
  {
   "cell_type": "markdown",
   "metadata": {},
   "source": [
    "## Export and deploy model"
   ]
  },
  {
   "cell_type": "code",
   "execution_count": 82,
   "metadata": {},
   "outputs": [
    {
     "name": "stdout",
     "output_type": "stream",
     "text": [
      "WARNING:tensorflow:From /home/jupyter/.local/lib/python3.5/site-packages/tensorflow_core/python/ops/resource_variable_ops.py:1786: calling BaseResourceVariable.__init__ (from tensorflow.python.ops.resource_variable_ops) with constraint is deprecated and will be removed in a future version.\n",
      "Instructions for updating:\n",
      "If using Keras pass *_constraint arguments to layers.\n",
      "INFO:tensorflow:Assets written to: ./export/savedmodel/20200218200738/assets\n"
     ]
    }
   ],
   "source": [
    "OUTPUT_DIR = \"./export/savedmodel\"\n",
    "shutil.rmtree(OUTPUT_DIR, ignore_errors=True)\n",
    "EXPORT_PATH = os.path.join(OUTPUT_DIR,\n",
    "                           datetime.datetime.now().strftime(\"%Y%m%d%H%M%S\"))\n",
    "tf.saved_model.save(model, EXPORT_PATH)  # with default serving function\n",
    "os.environ['EXPORT_PATH'] = EXPORT_PATH"
   ]
  },
  {
   "cell_type": "code",
   "execution_count": 84,
   "metadata": {},
   "outputs": [
    {
     "name": "stdout",
     "output_type": "stream",
     "text": [
      "taxifare already exists\n",
      "Creating taxifare:traffic\n"
     ]
    }
   ],
   "source": [
    "%%bash\n",
    "PROJECT=${PROJECT}\n",
    "BUCKET=${BUCKET}\n",
    "REGION=${REGION}\n",
    "MODEL_NAME=taxifare\n",
    "VERSION_NAME=traffic\n",
    "\n",
    "if [[ $(gcloud ai-platform models list --format='value(name)' --region=$REGION | grep $MODEL_NAME) ]]; then\n",
    "    echo \"$MODEL_NAME already exists\"\n",
    "else\n",
    "    # create model\n",
    "    echo \"Creating $MODEL_NAME\"\n",
    "    gcloud ai-platform models create --region=$REGION $MODEL_NAME\n",
    "fi\n",
    "\n",
    "if [[ $(gcloud ai-platform versions list --model $MODEL_NAME --format='value(name)' --region=$REGION | grep $VERSION_NAME) ]]; then\n",
    "    echo \"Deleting already existing $MODEL_NAME:$VERSION_NAME ... \"\n",
    "    gcloud ai-platform versions delete --model=$MODEL_NAME $VERSION_NAME --region=$REGION\n",
    "    echo \"Please run this cell again if you don't see a Creating message ... \"\n",
    "    sleep 2\n",
    "fi\n",
    "\n",
    "# create model\n",
    "echo \"Creating $MODEL_NAME:$VERSION_NAME\"\n",
    "gcloud ai-platform versions create --model=$MODEL_NAME $VERSION_NAME --async \\\n",
    "       --framework=tensorflow --python-version=3.5 --runtime-version=1.14 \\\n",
    "       --origin=${EXPORT_PATH} --staging-bucket=gs://$BUCKET --region=$REGION"
   ]
  },
  {
   "cell_type": "markdown",
   "metadata": {},
   "source": [
    "Copyright 2019 Google Inc. Licensed under the Apache License, Version 2.0 (the \"License\"); you may not use this file except in compliance with the License. You may obtain a copy of the License at http://www.apache.org/licenses/LICENSE-2.0 Unless required by applicable law or agreed to in writing, software distributed under the License is distributed on an \"AS IS\" BASIS, WITHOUT WARRANTIES OR CONDITIONS OF ANY KIND, either express or implied. See the License for the specific language governing permissions and limitations under the License"
   ]
  }
 ],
 "metadata": {
  "environment": {
   "name": "tf2-gpu.2-3.m69",
   "type": "gcloud",
   "uri": "gcr.io/deeplearning-platform-release/tf2-gpu.2-3:m69"
  },
  "kernelspec": {
   "display_name": "Python 3",
   "language": "python",
   "name": "python3"
  },
  "language_info": {
   "codemirror_mode": {
    "name": "ipython",
    "version": 3
   },
   "file_extension": ".py",
   "mimetype": "text/x-python",
   "name": "python",
   "nbconvert_exporter": "python",
   "pygments_lexer": "ipython3",
   "version": "3.7.10"
  }
 },
 "nbformat": 4,
 "nbformat_minor": 4
}
