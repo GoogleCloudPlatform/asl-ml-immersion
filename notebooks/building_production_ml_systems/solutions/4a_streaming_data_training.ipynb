{
 "cells": [
  {
   "cell_type": "markdown",
   "metadata": {},
   "source": [
    "# Training a model with `traffic_last_5min` feature\n",
    "\n",
    "\n",
    "## Introduction\n",
    "\n",
    "In this notebook, we'll train a taxifare prediction model but this time with an additional feature of `traffic_last_5min`."
   ]
  },
  {
   "cell_type": "code",
   "execution_count": 5,
   "metadata": {},
   "outputs": [
    {
     "name": "stdout",
     "output_type": "stream",
     "text": [
      "2.3.2\n"
     ]
    }
   ],
   "source": [
    "import datetime\n",
    "import os\n",
    "import shutil\n",
    "\n",
    "import pandas as pd\n",
    "import tensorflow as tf\n",
    "\n",
    "from matplotlib import pyplot as plt\n",
    "from tensorflow import keras\n",
    "\n",
    "from tensorflow.keras.models import Sequential\n",
    "from tensorflow.keras.layers import Dense, DenseFeatures\n",
    "from tensorflow.keras.callbacks import TensorBoard\n",
    "\n",
    "print(tf.__version__)\n",
    "%matplotlib inline"
   ]
  },
  {
   "cell_type": "code",
   "execution_count": 6,
   "metadata": {},
   "outputs": [],
   "source": [
    "PROJECT = 'cloud-training-demos' # REPLACE WITH YOUR PROJECT ID\n",
    "BUCKET = 'cloud-training-demos' # REPLACE WITH YOUR BUCKET NAME\n",
    "REGION = 'us-central1' # REPLACE WITH YOUR BUCKET REGION e.g. us-central1"
   ]
  },
  {
   "cell_type": "code",
   "execution_count": 7,
   "metadata": {},
   "outputs": [],
   "source": [
    "# For Bash Code\n",
    "os.environ['PROJECT'] = PROJECT\n",
    "os.environ['BUCKET'] = BUCKET\n",
    "os.environ['REGION'] = REGION"
   ]
  },
  {
   "cell_type": "code",
   "execution_count": 8,
   "metadata": {},
   "outputs": [
    {
     "name": "stderr",
     "output_type": "stream",
     "text": [
      "Updated property [core/project].\n",
      "Updated property [compute/region].\n"
     ]
    }
   ],
   "source": [
    "%%bash\n",
    "gcloud config set project $PROJECT\n",
    "gcloud config set compute/region $REGION"
   ]
  },
  {
   "cell_type": "markdown",
   "metadata": {},
   "source": [
    "## Load raw data"
   ]
  },
  {
   "cell_type": "code",
   "execution_count": 10,
   "metadata": {},
   "outputs": [
    {
     "name": "stdout",
     "output_type": "stream",
     "text": [
      "-rw-r--r-- 1 jupyter jupyter 2186310 May 21 22:57 ../data/taxi-traffic-test.csv\n",
      "-rw-r--r-- 1 jupyter jupyter 9713118 May 21 22:57 ../data/taxi-traffic-train.csv\n",
      "-rw-r--r-- 1 jupyter jupyter 2036826 May 21 22:57 ../data/taxi-traffic-valid.csv\n"
     ]
    }
   ],
   "source": [
    "!ls -l ../data/taxi-traffic*"
   ]
  },
  {
   "cell_type": "code",
   "execution_count": 11,
   "metadata": {},
   "outputs": [
    {
     "name": "stdout",
     "output_type": "stream",
     "text": [
      "==> ../data/taxi-traffic-test.csv <==\n",
      "15.7,6,12,-73.990072,40.758199,-73.974686,40.742004,2089\n",
      "6.1,7,2,-73.95647,40.771226,-73.971845,40.750089,1738\n",
      "4.1,6,18,-73.987871,40.759855,-73.996375,40.763728,2971\n",
      "5.7,2,18,-73.974177,40.761154,-73.980953,40.769357,2320\n",
      "7.4,4,23,-73.924908,40.741879,-73.897524,40.747867,1491\n",
      "20.5,1,15,-73.957528,40.766847,-73.870813,40.774044,1794\n",
      "6.5,6,9,-73.996553,40.725558,-73.992503,40.737248,2341\n",
      "4.1,4,11,-73.98353,40.746821000000004,-73.976831,40.751082000000004,2329\n",
      "10.5,3,18,-73.863998,40.770439,-73.91671099999999,40.773011,2318\n",
      "10.1,6,1,-73.979685,40.727247999999996,-73.952508,40.772492,1455\n",
      "\n",
      "==> ../data/taxi-traffic-train.csv <==\n",
      "6.1,2,0,-73.98689499999999,40.729723,-74.00631,40.739407,1129\n",
      "9.7,7,0,-73.94578299999999,40.777807,-73.97539,40.757712,2876\n",
      "5.3,6,0,-74.00644,40.739349,-73.999379,40.731804,3950\n",
      "7.3,5,0,-73.96611800000001,40.753983000000005,-73.945605,40.782802000000004,1334\n",
      "6.5,7,0,-73.974153,40.762767,-73.989152,40.742727,2623\n",
      "22.9,1,0,-73.977188,40.774063,-73.962647,40.654768,2833\n",
      "22.9,2,0,-74.00188,40.745946999999994,-73.968497,40.639375,2002\n",
      "6.1,3,0,-73.994051,40.751077,-73.977333,40.778875,661\n",
      "5.3,5,0,-73.980898,40.744515,-73.973383,40.753496999999996,1938\n",
      "6.5,7,0,-74.00540600000001,40.708533,-74.005498,40.725617,2781\n",
      "\n",
      "==> ../data/taxi-traffic-valid.csv <==\n",
      "7.7,2,11,-73.97463,40.742118,-73.98544,40.760585999999996,1059\n",
      "30.1,7,1,-73.956921,40.777588,-73.965109,40.673271,2225\n",
      "7.7,6,13,-73.98073199999999,40.742109,-73.96415400000001,40.764891999999996,1994\n",
      "24.67,4,4,-73.953387,40.822733,-73.878697,40.755373,321\n",
      "7.7,2,1,-73.982304,40.723572,-73.972778,40.74928,1115\n",
      "8.1,5,18,-73.98474300000001,40.749171999999994,-74.00232,40.72825,2697\n",
      "6.1,4,1,-73.983588,40.72224,-73.997302,40.720786,868\n",
      "19.07,3,1,-73.94446500000001,40.807284,-73.876339,40.763073999999996,711\n",
      "12.5,4,10,-73.98696899999999,40.722343,-74.01621,40.715067,1990\n",
      "5.7,7,18,-74.007972,40.738759,-73.991973,40.73704,2048\n"
     ]
    }
   ],
   "source": [
    "!head ../data/taxi-traffic*"
   ]
  },
  {
   "cell_type": "markdown",
   "metadata": {},
   "source": [
    "## Use tf.data to read the CSV files\n",
    "\n",
    "These functions for reading data from the csv files are similar to what we used in the Introduction to Tensorflow module. Note that here we have an addtional feature `traffic_last_5min`."
   ]
  },
  {
   "cell_type": "code",
   "execution_count": 12,
   "metadata": {},
   "outputs": [],
   "source": [
    "CSV_COLUMNS = [\n",
    "    'fare_amount',\n",
    "    'dayofweek',\n",
    "    'hourofday',\n",
    "    'pickup_longitude',\n",
    "    'pickup_latitude',\n",
    "    'dropoff_longitude',\n",
    "    'dropoff_latitude',\n",
    "    'traffic_last_5min'\n",
    "]\n",
    "LABEL_COLUMN = 'fare_amount'\n",
    "DEFAULTS = [[0.0], [0.0], [0.0], [0.0], [0.0], [0.0], [0.0], [0.0]]\n",
    "\n",
    "\n",
    "def features_and_labels(row_data):\n",
    "    label = row_data.pop(LABEL_COLUMN)\n",
    "    features = row_data\n",
    "\n",
    "    return features, label\n",
    "\n",
    "\n",
    "def create_dataset(pattern, batch_size=1, mode=tf.estimator.ModeKeys.EVAL):\n",
    "    dataset = tf.data.experimental.make_csv_dataset(\n",
    "        pattern, batch_size, CSV_COLUMNS, DEFAULTS)\n",
    "\n",
    "    dataset = dataset.map(features_and_labels)\n",
    "\n",
    "    if mode == tf.estimator.ModeKeys.TRAIN:\n",
    "        dataset = dataset.shuffle(buffer_size=1000).repeat()\n",
    "\n",
    "    # take advantage of multi-threading; 1=AUTOTUNE\n",
    "    dataset = dataset.prefetch(1)\n",
    "    return dataset"
   ]
  },
  {
   "cell_type": "code",
   "execution_count": 13,
   "metadata": {},
   "outputs": [],
   "source": [
    "INPUT_COLS = [\n",
    "    'dayofweek',\n",
    "    'hourofday',\n",
    "    'pickup_longitude',\n",
    "    'pickup_latitude',\n",
    "    'dropoff_longitude',\n",
    "    'dropoff_latitude',\n",
    "    'traffic_last_5min'\n",
    "]\n",
    "\n",
    "# Create input layer of feature columns\n",
    "feature_columns = {\n",
    "    colname: tf.feature_column.numeric_column(colname)\n",
    "    for colname in INPUT_COLS\n",
    "    }"
   ]
  },
  {
   "cell_type": "markdown",
   "metadata": {},
   "source": [
    "## Build a simple keras DNN model"
   ]
  },
  {
   "cell_type": "code",
   "execution_count": 14,
   "metadata": {},
   "outputs": [],
   "source": [
    "# Build a keras DNN model using Sequential API\n",
    "def build_model(dnn_hidden_units):\n",
    "    model = Sequential(DenseFeatures(feature_columns=feature_columns.values()))\n",
    "    \n",
    "    for num_nodes in dnn_hidden_units:\n",
    "        model.add(Dense(units=num_nodes, activation=\"relu\"))\n",
    "    \n",
    "    model.add(Dense(units=1, activation=\"linear\"))    \n",
    "    \n",
    "    # Create a custom evalution metric\n",
    "    def rmse(y_true, y_pred):\n",
    "        return tf.sqrt(tf.reduce_mean(tf.square(y_pred - y_true)))\n",
    "\n",
    "    # Compile the keras model\n",
    "    model.compile(optimizer=\"adam\", loss=\"mse\", metrics=[rmse, \"mse\"])\n",
    "    \n",
    "    return model"
   ]
  },
  {
   "cell_type": "markdown",
   "metadata": {},
   "source": [
    "Next, we can call the `build_model` to create the model. Here we'll have two hidden layers before our final output layer. And we'll train with the same parameters we used before."
   ]
  },
  {
   "cell_type": "code",
   "execution_count": 15,
   "metadata": {},
   "outputs": [],
   "source": [
    "HIDDEN_UNITS = [32, 8]\n",
    "\n",
    "model = build_model(dnn_hidden_units=HIDDEN_UNITS)"
   ]
  },
  {
   "cell_type": "code",
   "execution_count": 16,
   "metadata": {},
   "outputs": [],
   "source": [
    "BATCH_SIZE = 1000\n",
    "NUM_TRAIN_EXAMPLES = 10000 * 6  # training dataset will repeat, wrap around\n",
    "NUM_EVALS = 60  # how many times to evaluate\n",
    "NUM_EVAL_EXAMPLES = 10000  # enough to get a reasonable sample\n",
    "\n",
    "trainds = create_dataset(\n",
    "    pattern='../data/taxi-traffic-train*',\n",
    "    batch_size=BATCH_SIZE,\n",
    "    mode=tf.estimator.ModeKeys.TRAIN)\n",
    "\n",
    "evalds = create_dataset(\n",
    "    pattern='../data/taxi-traffic-valid*',\n",
    "    batch_size=BATCH_SIZE,\n",
    "    mode=tf.estimator.ModeKeys.EVAL).take(NUM_EVAL_EXAMPLES//1000)"
   ]
  },
  {
   "cell_type": "code",
   "execution_count": 17,
   "metadata": {},
   "outputs": [
    {
     "name": "stdout",
     "output_type": "stream",
     "text": [
      "Epoch 1/60\n",
      "WARNING:tensorflow:Layers in a Sequential model should only have a single input tensor, but we receive a <class 'collections.OrderedDict'> input: OrderedDict([('dayofweek', <tf.Tensor 'ExpandDims:0' shape=(1000, 1) dtype=float32>), ('hourofday', <tf.Tensor 'ExpandDims_3:0' shape=(1000, 1) dtype=float32>), ('pickup_longitude', <tf.Tensor 'ExpandDims_5:0' shape=(1000, 1) dtype=float32>), ('pickup_latitude', <tf.Tensor 'ExpandDims_4:0' shape=(1000, 1) dtype=float32>), ('dropoff_longitude', <tf.Tensor 'ExpandDims_2:0' shape=(1000, 1) dtype=float32>), ('dropoff_latitude', <tf.Tensor 'ExpandDims_1:0' shape=(1000, 1) dtype=float32>), ('traffic_last_5min', <tf.Tensor 'ExpandDims_6:0' shape=(1000, 1) dtype=float32>)])\n",
      "Consider rewriting this model with the Functional API.\n",
      "WARNING:tensorflow:Layers in a Sequential model should only have a single input tensor, but we receive a <class 'collections.OrderedDict'> input: OrderedDict([('dayofweek', <tf.Tensor 'ExpandDims:0' shape=(1000, 1) dtype=float32>), ('hourofday', <tf.Tensor 'ExpandDims_3:0' shape=(1000, 1) dtype=float32>), ('pickup_longitude', <tf.Tensor 'ExpandDims_5:0' shape=(1000, 1) dtype=float32>), ('pickup_latitude', <tf.Tensor 'ExpandDims_4:0' shape=(1000, 1) dtype=float32>), ('dropoff_longitude', <tf.Tensor 'ExpandDims_2:0' shape=(1000, 1) dtype=float32>), ('dropoff_latitude', <tf.Tensor 'ExpandDims_1:0' shape=(1000, 1) dtype=float32>), ('traffic_last_5min', <tf.Tensor 'ExpandDims_6:0' shape=(1000, 1) dtype=float32>)])\n",
      "Consider rewriting this model with the Functional API.\n",
      "1/1 [==============================] - ETA: 0s - loss: 326196.0000 - rmse: 571.1357 - mse: 326196.0000WARNING:tensorflow:Layers in a Sequential model should only have a single input tensor, but we receive a <class 'collections.OrderedDict'> input: OrderedDict([('dayofweek', <tf.Tensor 'ExpandDims:0' shape=(1000, 1) dtype=float32>), ('hourofday', <tf.Tensor 'ExpandDims_3:0' shape=(1000, 1) dtype=float32>), ('pickup_longitude', <tf.Tensor 'ExpandDims_5:0' shape=(1000, 1) dtype=float32>), ('pickup_latitude', <tf.Tensor 'ExpandDims_4:0' shape=(1000, 1) dtype=float32>), ('dropoff_longitude', <tf.Tensor 'ExpandDims_2:0' shape=(1000, 1) dtype=float32>), ('dropoff_latitude', <tf.Tensor 'ExpandDims_1:0' shape=(1000, 1) dtype=float32>), ('traffic_last_5min', <tf.Tensor 'ExpandDims_6:0' shape=(1000, 1) dtype=float32>)])\n",
      "Consider rewriting this model with the Functional API.\n",
      "1/1 [==============================] - 1s 1s/step - loss: 326196.0000 - rmse: 571.1357 - mse: 326196.0000 - val_loss: 236854.5469 - val_rmse: 486.6064 - val_mse: 236854.5469\n",
      "Epoch 2/60\n",
      "WARNING:tensorflow:From /opt/conda/lib/python3.7/site-packages/tensorflow/python/ops/summary_ops_v2.py:1277: stop (from tensorflow.python.eager.profiler) is deprecated and will be removed after 2020-07-01.\n",
      "Instructions for updating:\n",
      "use `tf.profiler.experimental.stop` instead.\n",
      "1/1 [==============================] - 1s 627ms/step - loss: 200848.1719 - rmse: 448.1609 - mse: 200848.1719 - val_loss: 224257.6406 - val_rmse: 473.5064 - val_mse: 224257.6406\n",
      "Epoch 3/60\n",
      "1/1 [==============================] - 1s 755ms/step - loss: 291247.8438 - rmse: 539.6738 - mse: 291247.8438 - val_loss: 212841.9531 - val_rmse: 461.2941 - val_mse: 212841.9531\n",
      "Epoch 4/60\n",
      "1/1 [==============================] - 1s 688ms/step - loss: 125893.3750 - rmse: 354.8146 - mse: 125893.3750 - val_loss: 201926.7188 - val_rmse: 449.2992 - val_mse: 201926.7188\n",
      "Epoch 5/60\n",
      "1/1 [==============================] - 1s 782ms/step - loss: 210342.4688 - rmse: 458.6311 - mse: 210342.4688 - val_loss: 192696.3281 - val_rmse: 438.9440 - val_mse: 192696.3281\n",
      "Epoch 6/60\n",
      "1/1 [==============================] - 1s 733ms/step - loss: 314317.4062 - rmse: 560.6402 - mse: 314317.4062 - val_loss: 181536.2500 - val_rmse: 426.0072 - val_mse: 181536.2500\n",
      "Epoch 7/60\n",
      "1/1 [==============================] - 1s 691ms/step - loss: 134860.8281 - rmse: 367.2340 - mse: 134860.8281 - val_loss: 172850.6719 - val_rmse: 415.7148 - val_mse: 172850.6719\n",
      "Epoch 8/60\n",
      "1/1 [==============================] - 1s 707ms/step - loss: 169618.9062 - rmse: 411.8481 - mse: 169618.9062 - val_loss: 163316.2812 - val_rmse: 404.0732 - val_mse: 163316.2812\n",
      "Epoch 9/60\n",
      "1/1 [==============================] - 1s 691ms/step - loss: 171881.3438 - rmse: 414.5858 - mse: 171881.3438 - val_loss: 155463.5156 - val_rmse: 394.2636 - val_mse: 155463.5156\n",
      "Epoch 10/60\n",
      "1/1 [==============================] - 1s 809ms/step - loss: 234643.3281 - rmse: 484.4000 - mse: 234643.3281 - val_loss: 145782.3438 - val_rmse: 381.7677 - val_mse: 145782.3438\n",
      "Epoch 11/60\n",
      "1/1 [==============================] - 1s 778ms/step - loss: 153668.9375 - rmse: 392.0063 - mse: 153668.9375 - val_loss: 137802.5000 - val_rmse: 371.1565 - val_mse: 137802.5000\n",
      "Epoch 12/60\n",
      "1/1 [==============================] - 1s 657ms/step - loss: 113642.0625 - rmse: 337.1084 - mse: 113642.0625 - val_loss: 126588.0703 - val_rmse: 355.7717 - val_mse: 126588.0703\n",
      "Epoch 13/60\n",
      "1/1 [==============================] - 1s 717ms/step - loss: 77372.4453 - rmse: 278.1590 - mse: 77372.4453 - val_loss: 117355.8047 - val_rmse: 342.5363 - val_mse: 117355.8047\n",
      "Epoch 14/60\n",
      "1/1 [==============================] - 1s 624ms/step - loss: 121581.3125 - rmse: 348.6851 - mse: 121581.3125 - val_loss: 106655.7031 - val_rmse: 326.5574 - val_mse: 106655.7031\n",
      "Epoch 15/60\n",
      "1/1 [==============================] - 1s 811ms/step - loss: 100212.5234 - rmse: 316.5636 - mse: 100212.5234 - val_loss: 97123.4766 - val_rmse: 311.5722 - val_mse: 97123.4766\n",
      "Epoch 16/60\n",
      "1/1 [==============================] - 1s 668ms/step - loss: 161165.7969 - rmse: 401.4546 - mse: 161165.7969 - val_loss: 87664.8438 - val_rmse: 296.0671 - val_mse: 87664.8438\n",
      "Epoch 17/60\n",
      "1/1 [==============================] - 1s 634ms/step - loss: 86650.8281 - rmse: 294.3651 - mse: 86650.8281 - val_loss: 78731.0781 - val_rmse: 280.5490 - val_mse: 78731.0781\n",
      "Epoch 18/60\n",
      "1/1 [==============================] - 1s 768ms/step - loss: 115669.4844 - rmse: 340.1022 - mse: 115669.4844 - val_loss: 69083.8047 - val_rmse: 262.8002 - val_mse: 69083.8047\n",
      "Epoch 19/60\n",
      "1/1 [==============================] - 1s 696ms/step - loss: 109071.6172 - rmse: 330.2599 - mse: 109071.6172 - val_loss: 59809.0039 - val_rmse: 244.5109 - val_mse: 59809.0039\n",
      "Epoch 20/60\n",
      "1/1 [==============================] - 1s 716ms/step - loss: 94691.8125 - rmse: 307.7203 - mse: 94691.8125 - val_loss: 51556.4883 - val_rmse: 227.0300 - val_mse: 51556.4883\n",
      "Epoch 21/60\n",
      "1/1 [==============================] - 1s 723ms/step - loss: 49688.1836 - rmse: 222.9085 - mse: 49688.1836 - val_loss: 44271.1602 - val_rmse: 210.3896 - val_mse: 44271.1602\n",
      "Epoch 22/60\n",
      "1/1 [==============================] - 1s 604ms/step - loss: 46847.6328 - rmse: 216.4431 - mse: 46847.6328 - val_loss: 37298.9414 - val_rmse: 193.0975 - val_mse: 37298.9414\n",
      "Epoch 23/60\n",
      "1/1 [==============================] - 1s 704ms/step - loss: 36458.1680 - rmse: 190.9402 - mse: 36458.1680 - val_loss: 31152.8281 - val_rmse: 176.4848 - val_mse: 31152.8281\n",
      "Epoch 24/60\n",
      "1/1 [==============================] - 1s 839ms/step - loss: 30255.0000 - rmse: 173.9397 - mse: 30255.0000 - val_loss: 25774.5215 - val_rmse: 160.5218 - val_mse: 25774.5215\n",
      "Epoch 25/60\n",
      "1/1 [==============================] - 1s 758ms/step - loss: 42321.8867 - rmse: 205.7228 - mse: 42321.8867 - val_loss: 21043.4473 - val_rmse: 145.0436 - val_mse: 21043.4473\n",
      "Epoch 26/60\n",
      "1/1 [==============================] - 1s 597ms/step - loss: 33604.0898 - rmse: 183.3142 - mse: 33604.0898 - val_loss: 16759.0137 - val_rmse: 129.4362 - val_mse: 16759.0137\n",
      "Epoch 27/60\n",
      "1/1 [==============================] - 1s 724ms/step - loss: 16862.9316 - rmse: 129.8573 - mse: 16862.9316 - val_loss: 13052.7217 - val_rmse: 114.2280 - val_mse: 13052.7217\n",
      "Epoch 28/60\n",
      "1/1 [==============================] - 1s 648ms/step - loss: 21615.3223 - rmse: 147.0215 - mse: 21615.3223 - val_loss: 9857.4580 - val_rmse: 99.2638 - val_mse: 9857.4580\n",
      "Epoch 29/60\n",
      "1/1 [==============================] - 1s 676ms/step - loss: 17009.5156 - rmse: 130.4205 - mse: 17009.5156 - val_loss: 7206.0625 - val_rmse: 84.8736 - val_mse: 7206.0625\n",
      "Epoch 30/60\n",
      "1/1 [==============================] - 1s 724ms/step - loss: 11740.3203 - rmse: 108.3528 - mse: 11740.3203 - val_loss: 5121.1064 - val_rmse: 71.5404 - val_mse: 5121.1064\n",
      "Epoch 31/60\n",
      "1/1 [==============================] - 1s 754ms/step - loss: 9188.3271 - rmse: 95.8558 - mse: 9188.3271 - val_loss: 3390.5525 - val_rmse: 58.2177 - val_mse: 3390.5525\n",
      "Epoch 32/60\n",
      "1/1 [==============================] - 1s 927ms/step - loss: 4842.4409 - rmse: 69.5876 - mse: 4842.4409 - val_loss: 2134.9934 - val_rmse: 46.1945 - val_mse: 2134.9934\n",
      "Epoch 33/60\n",
      "1/1 [==============================] - 1s 674ms/step - loss: 3810.2686 - rmse: 61.7274 - mse: 3810.2686 - val_loss: 1191.0308 - val_rmse: 34.5037 - val_mse: 1191.0308\n",
      "Epoch 34/60\n",
      "1/1 [==============================] - 1s 682ms/step - loss: 1755.4048 - rmse: 41.8976 - mse: 1755.4048 - val_loss: 571.9589 - val_rmse: 23.9042 - val_mse: 571.9589\n",
      "Epoch 35/60\n",
      "1/1 [==============================] - 1s 753ms/step - loss: 1025.3235 - rmse: 32.0207 - mse: 1025.3235 - val_loss: 235.2799 - val_rmse: 15.3271 - val_mse: 235.2799\n",
      "Epoch 36/60\n",
      "1/1 [==============================] - 1s 654ms/step - loss: 219.1546 - rmse: 14.8039 - mse: 219.1546 - val_loss: 130.9128 - val_rmse: 11.4307 - val_mse: 130.9128\n",
      "Epoch 37/60\n",
      "1/1 [==============================] - 1s 790ms/step - loss: 137.8059 - rmse: 11.7391 - mse: 137.8059 - val_loss: 202.1770 - val_rmse: 14.2158 - val_mse: 202.1770\n",
      "Epoch 38/60\n",
      "1/1 [==============================] - 1s 767ms/step - loss: 145.3826 - rmse: 12.0575 - mse: 145.3826 - val_loss: 397.1466 - val_rmse: 19.9264 - val_mse: 397.1466\n",
      "Epoch 39/60\n",
      "1/1 [==============================] - 1s 857ms/step - loss: 296.8072 - rmse: 17.2281 - mse: 296.8072 - val_loss: 687.4018 - val_rmse: 26.2172 - val_mse: 687.4018\n",
      "Epoch 40/60\n",
      "1/1 [==============================] - 1s 670ms/step - loss: 788.1672 - rmse: 28.0743 - mse: 788.1672 - val_loss: 1028.7900 - val_rmse: 32.0746 - val_mse: 1028.7900\n",
      "Epoch 41/60\n",
      "1/1 [==============================] - 1s 647ms/step - loss: 1133.1527 - rmse: 33.6623 - mse: 1133.1527 - val_loss: 1391.5985 - val_rmse: 37.3032 - val_mse: 1391.5985\n",
      "Epoch 42/60\n",
      "1/1 [==============================] - 1s 710ms/step - loss: 910.6820 - rmse: 30.1775 - mse: 910.6820 - val_loss: 1752.7294 - val_rmse: 41.8634 - val_mse: 1752.7294\n",
      "Epoch 43/60\n",
      "1/1 [==============================] - 1s 689ms/step - loss: 2462.7249 - rmse: 49.6258 - mse: 2462.7249 - val_loss: 2089.5969 - val_rmse: 45.7102 - val_mse: 2089.5969\n",
      "Epoch 44/60\n",
      "1/1 [==============================] - 1s 680ms/step - loss: 1794.0594 - rmse: 42.3563 - mse: 1794.0594 - val_loss: 2394.7251 - val_rmse: 48.9344 - val_mse: 2394.7251\n",
      "Epoch 45/60\n",
      "1/1 [==============================] - 1s 754ms/step - loss: 1773.8698 - rmse: 42.1173 - mse: 1773.8698 - val_loss: 2646.3645 - val_rmse: 51.4416 - val_mse: 2646.3645\n",
      "Epoch 46/60\n",
      "1/1 [==============================] - 1s 706ms/step - loss: 2734.3999 - rmse: 52.2915 - mse: 2734.3999 - val_loss: 2846.1897 - val_rmse: 53.3471 - val_mse: 2846.1897\n",
      "Epoch 47/60\n",
      "1/1 [==============================] - 1s 633ms/step - loss: 2580.8901 - rmse: 50.8025 - mse: 2580.8901 - val_loss: 2982.5603 - val_rmse: 54.6096 - val_mse: 2982.5603\n",
      "Epoch 48/60\n",
      "1/1 [==============================] - 1s 662ms/step - loss: 1617.2783 - rmse: 40.2154 - mse: 1617.2783 - val_loss: 3106.0442 - val_rmse: 55.7313 - val_mse: 3106.0442\n",
      "Epoch 49/60\n",
      "1/1 [==============================] - 1s 707ms/step - loss: 2948.9944 - rmse: 54.3046 - mse: 2948.9944 - val_loss: 3154.1917 - val_rmse: 56.1592 - val_mse: 3154.1917\n",
      "Epoch 50/60\n",
      "1/1 [==============================] - 1s 822ms/step - loss: 4507.3149 - rmse: 67.1365 - mse: 4507.3149 - val_loss: 3142.7605 - val_rmse: 56.0581 - val_mse: 3142.7605\n",
      "Epoch 51/60\n",
      "1/1 [==============================] - 1s 818ms/step - loss: 3376.8071 - rmse: 58.1103 - mse: 3376.8071 - val_loss: 3065.8284 - val_rmse: 55.3683 - val_mse: 3065.8284\n",
      "Epoch 52/60\n",
      "1/1 [==============================] - 1s 714ms/step - loss: 3058.1077 - rmse: 55.3002 - mse: 3058.1077 - val_loss: 2939.3884 - val_rmse: 54.2131 - val_mse: 2939.3884\n",
      "Epoch 53/60\n",
      "1/1 [==============================] - 1s 730ms/step - loss: 3322.8042 - rmse: 57.6438 - mse: 3322.8042 - val_loss: 2771.2913 - val_rmse: 52.6415 - val_mse: 2771.2913\n",
      "Epoch 54/60\n",
      "1/1 [==============================] - 1s 708ms/step - loss: 2691.4709 - rmse: 51.8794 - mse: 2691.4709 - val_loss: 2598.8604 - val_rmse: 50.9760 - val_mse: 2598.8604\n",
      "Epoch 55/60\n",
      "1/1 [==============================] - 1s 904ms/step - loss: 2801.4685 - rmse: 52.9289 - mse: 2801.4685 - val_loss: 2391.7051 - val_rmse: 48.9025 - val_mse: 2391.7051\n",
      "Epoch 56/60\n",
      "1/1 [==============================] - 1s 697ms/step - loss: 3347.8860 - rmse: 57.8609 - mse: 3347.8860 - val_loss: 2175.9607 - val_rmse: 46.6463 - val_mse: 2175.9607\n",
      "Epoch 57/60\n",
      "1/1 [==============================] - 1s 804ms/step - loss: 2085.0371 - rmse: 45.6622 - mse: 2085.0371 - val_loss: 1933.7142 - val_rmse: 43.9725 - val_mse: 1933.7142\n",
      "Epoch 58/60\n",
      "1/1 [==============================] - 1s 754ms/step - loss: 2704.7595 - rmse: 52.0073 - mse: 2704.7595 - val_loss: 1692.8564 - val_rmse: 41.1439 - val_mse: 1692.8564\n",
      "Epoch 59/60\n",
      "1/1 [==============================] - 1s 701ms/step - loss: 2278.8167 - rmse: 47.7370 - mse: 2278.8167 - val_loss: 1451.6801 - val_rmse: 38.0995 - val_mse: 1451.6801\n",
      "Epoch 60/60\n",
      "1/1 [==============================] - 1s 644ms/step - loss: 1565.6007 - rmse: 39.5677 - mse: 1565.6007 - val_loss: 1220.2256 - val_rmse: 34.9301 - val_mse: 1220.2256\n",
      "CPU times: user 1min 37s, sys: 1min 14s, total: 2min 51s\n",
      "Wall time: 1min 2s\n"
     ]
    }
   ],
   "source": [
    "%%time\n",
    "steps_per_epoch = NUM_TRAIN_EXAMPLES // (BATCH_SIZE * NUM_EVALS)\n",
    "\n",
    "LOGDIR = \"./taxi_trained\"\n",
    "history = model.fit(x=trainds,\n",
    "                    steps_per_epoch=steps_per_epoch,\n",
    "                    epochs=NUM_EVALS,\n",
    "                    validation_data=evalds,\n",
    "                    callbacks=[TensorBoard(LOGDIR)])"
   ]
  },
  {
   "cell_type": "code",
   "execution_count": 18,
   "metadata": {},
   "outputs": [
    {
     "data": {
      "text/plain": [
       "<AxesSubplot:>"
      ]
     },
     "execution_count": 18,
     "metadata": {},
     "output_type": "execute_result"
    },
    {
     "data": {
      "image/png": "[encoded data removed]",
      "text/plain": [
       "<Figure size 432x288 with 1 Axes>"
      ]
     },
     "metadata": {
      "needs_background": "light"
     },
     "output_type": "display_data"
    }
   ],
   "source": [
    "RMSE_COLS = ['rmse', 'val_rmse']\n",
    "\n",
    "pd.DataFrame(history.history)[RMSE_COLS].plot()"
   ]
  },
  {
   "cell_type": "code",
   "execution_count": 19,
   "metadata": {},
   "outputs": [
    {
     "name": "stdout",
     "output_type": "stream",
     "text": [
      "WARNING:tensorflow:Layers in a Sequential model should only have a single input tensor, but we receive a <class 'dict'> input: {'dayofweek': <tf.Tensor 'ExpandDims:0' shape=(1, 1) dtype=int32>, 'hourofday': <tf.Tensor 'ExpandDims_3:0' shape=(1, 1) dtype=int32>, 'pickup_longitude': <tf.Tensor 'ExpandDims_5:0' shape=(1, 1) dtype=float32>, 'pickup_latitude': <tf.Tensor 'ExpandDims_4:0' shape=(1, 1) dtype=float32>, 'dropoff_longitude': <tf.Tensor 'ExpandDims_2:0' shape=(1, 1) dtype=float32>, 'dropoff_latitude': <tf.Tensor 'ExpandDims_1:0' shape=(1, 1) dtype=float32>, 'traffic_last_5min': <tf.Tensor 'ExpandDims_6:0' shape=(1, 1) dtype=int32>}\n",
      "Consider rewriting this model with the Functional API.\n"
     ]
    },
    {
     "data": {
      "text/plain": [
       "array([[3.755421]], dtype=float32)"
      ]
     },
     "execution_count": 19,
     "metadata": {},
     "output_type": "execute_result"
    }
   ],
   "source": [
    "model.predict(x={\"dayofweek\": tf.convert_to_tensor([6]),\n",
    "                 \"hourofday\": tf.convert_to_tensor([17]),\n",
    "                 \"pickup_longitude\": tf.convert_to_tensor([-73.982683]),\n",
    "                 \"pickup_latitude\": tf.convert_to_tensor([40.742104]),\n",
    "                 \"dropoff_longitude\": tf.convert_to_tensor([-73.983766]),\n",
    "                 \"dropoff_latitude\": tf.convert_to_tensor([40.755174]),\n",
    "                \"traffic_last_5min\": tf.convert_to_tensor([114])},\n",
    "              steps=1)"
   ]
  },
  {
   "cell_type": "markdown",
   "metadata": {},
   "source": [
    "## Export and deploy model"
   ]
  },
  {
   "cell_type": "code",
   "execution_count": 22,
   "metadata": {},
   "outputs": [
    {
     "name": "stdout",
     "output_type": "stream",
     "text": [
      "WARNING:tensorflow:Layers in a Sequential model should only have a single input tensor, but we receive a <class 'collections.OrderedDict'> input: OrderedDict([('dayofweek', <tf.Tensor 'dayofweek:0' shape=(None, 1) dtype=float32>), ('hourofday', <tf.Tensor 'hourofday:0' shape=(None, 1) dtype=float32>), ('pickup_longitude', <tf.Tensor 'pickup_longitude:0' shape=(None, 1) dtype=float32>), ('pickup_latitude', <tf.Tensor 'pickup_latitude:0' shape=(None, 1) dtype=float32>), ('dropoff_longitude', <tf.Tensor 'dropoff_longitude:0' shape=(None, 1) dtype=float32>), ('dropoff_latitude', <tf.Tensor 'dropoff_latitude:0' shape=(None, 1) dtype=float32>), ('traffic_last_5min', <tf.Tensor 'traffic_last_5min:0' shape=(None, 1) dtype=float32>)])\n",
      "Consider rewriting this model with the Functional API.\n",
      "WARNING:tensorflow:Layers in a Sequential model should only have a single input tensor, but we receive a <class 'collections.OrderedDict'> input: OrderedDict([('dayofweek', <tf.Tensor 'dayofweek:0' shape=(None, 1) dtype=float32>), ('hourofday', <tf.Tensor 'hourofday:0' shape=(None, 1) dtype=float32>), ('pickup_longitude', <tf.Tensor 'pickup_longitude:0' shape=(None, 1) dtype=float32>), ('pickup_latitude', <tf.Tensor 'pickup_latitude:0' shape=(None, 1) dtype=float32>), ('dropoff_longitude', <tf.Tensor 'dropoff_longitude:0' shape=(None, 1) dtype=float32>), ('dropoff_latitude', <tf.Tensor 'dropoff_latitude:0' shape=(None, 1) dtype=float32>), ('traffic_last_5min', <tf.Tensor 'traffic_last_5min:0' shape=(None, 1) dtype=float32>)])\n",
      "Consider rewriting this model with the Functional API.\n",
      "WARNING:tensorflow:Layers in a Sequential model should only have a single input tensor, but we receive a <class 'collections.OrderedDict'> input: OrderedDict([('dayofweek', <tf.Tensor 'dayofweek:0' shape=(None, 1) dtype=float32>), ('hourofday', <tf.Tensor 'hourofday:0' shape=(None, 1) dtype=float32>), ('pickup_longitude', <tf.Tensor 'pickup_longitude:0' shape=(None, 1) dtype=float32>), ('pickup_latitude', <tf.Tensor 'pickup_latitude:0' shape=(None, 1) dtype=float32>), ('dropoff_longitude', <tf.Tensor 'dropoff_longitude:0' shape=(None, 1) dtype=float32>), ('dropoff_latitude', <tf.Tensor 'dropoff_latitude:0' shape=(None, 1) dtype=float32>), ('traffic_last_5min', <tf.Tensor 'traffic_last_5min:0' shape=(None, 1) dtype=float32>)])\n",
      "Consider rewriting this model with the Functional API.\n",
      "WARNING:tensorflow:Layers in a Sequential model should only have a single input tensor, but we receive a <class 'collections.OrderedDict'> input: OrderedDict([('dayofweek', <tf.Tensor 'inputs:0' shape=(None, 1) dtype=float32>), ('hourofday', <tf.Tensor 'inputs_3:0' shape=(None, 1) dtype=float32>), ('pickup_longitude', <tf.Tensor 'inputs_5:0' shape=(None, 1) dtype=float32>), ('pickup_latitude', <tf.Tensor 'inputs_4:0' shape=(None, 1) dtype=float32>), ('dropoff_longitude', <tf.Tensor 'inputs_2:0' shape=(None, 1) dtype=float32>), ('dropoff_latitude', <tf.Tensor 'inputs_1:0' shape=(None, 1) dtype=float32>), ('traffic_last_5min', <tf.Tensor 'inputs_6:0' shape=(None, 1) dtype=float32>)])\n",
      "Consider rewriting this model with the Functional API.\n",
      "WARNING:tensorflow:Layers in a Sequential model should only have a single input tensor, but we receive a <class 'collections.OrderedDict'> input: OrderedDict([('dayofweek', <tf.Tensor 'inputs:0' shape=(None, 1) dtype=float32>), ('hourofday', <tf.Tensor 'inputs_3:0' shape=(None, 1) dtype=float32>), ('pickup_longitude', <tf.Tensor 'inputs_5:0' shape=(None, 1) dtype=float32>), ('pickup_latitude', <tf.Tensor 'inputs_4:0' shape=(None, 1) dtype=float32>), ('dropoff_longitude', <tf.Tensor 'inputs_2:0' shape=(None, 1) dtype=float32>), ('dropoff_latitude', <tf.Tensor 'inputs_1:0' shape=(None, 1) dtype=float32>), ('traffic_last_5min', <tf.Tensor 'inputs_6:0' shape=(None, 1) dtype=float32>)])\n",
      "Consider rewriting this model with the Functional API.\n",
      "WARNING:tensorflow:From /opt/conda/lib/python3.7/site-packages/tensorflow/python/training/tracking/tracking.py:111: Model.state_updates (from tensorflow.python.keras.engine.training) is deprecated and will be removed in a future version.\n",
      "Instructions for updating:\n",
      "This property should not be used in TensorFlow 2.0, as updates are applied automatically.\n",
      "WARNING:tensorflow:From /opt/conda/lib/python3.7/site-packages/tensorflow/python/training/tracking/tracking.py:111: Layer.updates (from tensorflow.python.keras.engine.base_layer) is deprecated and will be removed in a future version.\n",
      "Instructions for updating:\n",
      "This property should not be used in TensorFlow 2.0, as updates are applied automatically.\n",
      "WARNING:tensorflow:Layers in a Sequential model should only have a single input tensor, but we receive a <class 'collections.OrderedDict'> input: OrderedDict([('dayofweek', <tf.Tensor 'dayofweek:0' shape=(None, 1) dtype=float32>), ('hourofday', <tf.Tensor 'hourofday:0' shape=(None, 1) dtype=float32>), ('pickup_longitude', <tf.Tensor 'pickup_longitude:0' shape=(None, 1) dtype=float32>), ('pickup_latitude', <tf.Tensor 'pickup_latitude:0' shape=(None, 1) dtype=float32>), ('dropoff_longitude', <tf.Tensor 'dropoff_longitude:0' shape=(None, 1) dtype=float32>), ('dropoff_latitude', <tf.Tensor 'dropoff_latitude:0' shape=(None, 1) dtype=float32>), ('traffic_last_5min', <tf.Tensor 'traffic_last_5min:0' shape=(None, 1) dtype=float32>)])\n",
      "Consider rewriting this model with the Functional API.\n",
      "WARNING:tensorflow:Layers in a Sequential model should only have a single input tensor, but we receive a <class 'collections.OrderedDict'> input: OrderedDict([('dayofweek', <tf.Tensor 'dayofweek:0' shape=(None, 1) dtype=float32>), ('hourofday', <tf.Tensor 'hourofday:0' shape=(None, 1) dtype=float32>), ('pickup_longitude', <tf.Tensor 'pickup_longitude:0' shape=(None, 1) dtype=float32>), ('pickup_latitude', <tf.Tensor 'pickup_latitude:0' shape=(None, 1) dtype=float32>), ('dropoff_longitude', <tf.Tensor 'dropoff_longitude:0' shape=(None, 1) dtype=float32>), ('dropoff_latitude', <tf.Tensor 'dropoff_latitude:0' shape=(None, 1) dtype=float32>), ('traffic_last_5min', <tf.Tensor 'traffic_last_5min:0' shape=(None, 1) dtype=float32>)])\n",
      "Consider rewriting this model with the Functional API.\n",
      "WARNING:tensorflow:Layers in a Sequential model should only have a single input tensor, but we receive a <class 'collections.OrderedDict'> input: OrderedDict([('dayofweek', <tf.Tensor 'inputs/dayofweek:0' shape=(None, 1) dtype=float32>), ('hourofday', <tf.Tensor 'inputs/hourofday:0' shape=(None, 1) dtype=float32>), ('pickup_longitude', <tf.Tensor 'inputs/pickup_longitude:0' shape=(None, 1) dtype=float32>), ('pickup_latitude', <tf.Tensor 'inputs/pickup_latitude:0' shape=(None, 1) dtype=float32>), ('dropoff_longitude', <tf.Tensor 'inputs/dropoff_longitude:0' shape=(None, 1) dtype=float32>), ('dropoff_latitude', <tf.Tensor 'inputs/dropoff_latitude:0' shape=(None, 1) dtype=float32>), ('traffic_last_5min', <tf.Tensor 'inputs/traffic_last_5min:0' shape=(None, 1) dtype=float32>)])\n",
      "Consider rewriting this model with the Functional API.\n",
      "WARNING:tensorflow:Layers in a Sequential model should only have a single input tensor, but we receive a <class 'collections.OrderedDict'> input: OrderedDict([('dayofweek', <tf.Tensor 'inputs/dayofweek:0' shape=(None, 1) dtype=float32>), ('hourofday', <tf.Tensor 'inputs/hourofday:0' shape=(None, 1) dtype=float32>), ('pickup_longitude', <tf.Tensor 'inputs/pickup_longitude:0' shape=(None, 1) dtype=float32>), ('pickup_latitude', <tf.Tensor 'inputs/pickup_latitude:0' shape=(None, 1) dtype=float32>), ('dropoff_longitude', <tf.Tensor 'inputs/dropoff_longitude:0' shape=(None, 1) dtype=float32>), ('dropoff_latitude', <tf.Tensor 'inputs/dropoff_latitude:0' shape=(None, 1) dtype=float32>), ('traffic_last_5min', <tf.Tensor 'inputs/traffic_last_5min:0' shape=(None, 1) dtype=float32>)])\n",
      "Consider rewriting this model with the Functional API.\n",
      "INFO:tensorflow:Assets written to: ./export/savedmodel/20210523051438/assets\n"
     ]
    }
   ],
   "source": [
    "OUTPUT_DIR = \"./export/savedmodel\"\n",
    "shutil.rmtree(OUTPUT_DIR, ignore_errors=True)\n",
    "EXPORT_PATH = os.path.join(OUTPUT_DIR,\n",
    "                           datetime.datetime.now().strftime(\"%Y%m%d%H%M%S\"))\n",
    "tf.saved_model.save(model, EXPORT_PATH)  # with default serving function\n",
    "os.environ['EXPORT_PATH'] = EXPORT_PATH"
   ]
  },
  {
   "cell_type": "markdown",
   "metadata": {},
   "source": [
    "Note that the last `gcloud` call below, which deploys the mode, can take a few minutes, and you might not see the earlier `echo` outputs while that job is still running. If you want to make sure that your notebook is not stalled and your model is actually getting deployed, view your models in the console at https://console.cloud.google.com/vertex-ai/models, click on your model, and you should see your endpoint listed with an \"in progress\" icon next to it."
   ]
  },
  {
   "cell_type": "code",
   "execution_count": null,
   "metadata": {},
   "outputs": [],
   "source": [
    "%%bash\n",
    "PROJECT=${PROJECT}\n",
    "BUCKET=${BUCKET}\n",
    "REGION=${REGION}\n",
    "TIMESTAMP=$(date -u +%y%m%d_%H%M%S)\n",
    "MODEL_NAME=taxifare_$TIMESTAMP\n",
    "ENDPOINT_NAME=taxifare_endpoint_$TIMESTAMP\n",
    "IMAGE_URI=\"us-docker.pkg.dev/vertex-ai/prediction/tf2-cpu.2-3:latest\"\n",
    "ARTIFACT_DIRECTORY=gs://${BUCKET}/${MODEL_NAME}/\n",
    "echo $ARTIFACT_DIRECTORY\n",
    "\n",
    "gsutil cp -r ${EXPORT_PATH}/* ${ARTIFACT_DIRECTORY}\n",
    "\n",
    "# Model\n",
    "gcloud ai models upload \\\n",
    "    --region=$REGION \\\n",
    "    --display-name=$MODEL_NAME \\\n",
    "    --container-image-uri=$IMAGE_URI \\\n",
    "    --artifact-uri=$ARTIFACT_DIRECTORY\n",
    "\n",
    "MODEL_ID=$(gcloud ai models list \\\n",
    "    --region=$REGION \\\n",
    "    --filter=displayName=\"$MODEL_NAME\" | cut -d\" \" -f1 | head -n2 | tail -n1)\n",
    "\n",
    "echo \"MODEL_ID=${MODEL_ID}\"\n",
    "\n",
    "# Endpoint\n",
    "gcloud ai endpoints create \\\n",
    "  --region=$REGION \\\n",
    "  --display-name=$ENDPOINT_NAME\n",
    "\n",
    "ENDPOINT_ID=$(gcloud ai endpoints list \\\n",
    "  --region=$REGION \\\n",
    "  --filter=display_name=\"$ENDPOINT_NAME\" | cut -d\" \" -f1 | head -n2 | tail -n1)\n",
    "\n",
    "echo \"ENDPOINT_ID=${ENDPOINT_ID}\"\n",
    "\n",
    "# Deployment\n",
    "DEPLOYED_MODEL_NAME=${MODEL_NAME}_deployment\n",
    "MACHINE_TYPE=n1-standard-2\n",
    "MIN_REPLICA_COUNT=1\n",
    "MAX_REPLICA_COUNT=3\n",
    "\n",
    "gcloud ai endpoints deploy-model $ENDPOINT_ID \\\n",
    "  --region=$REGION \\\n",
    "  --model=$MODEL_ID \\\n",
    "  --display-name=$DEPLOYED_MODEL_NAME \\\n",
    "  --machine-type=$MACHINE_TYPE \\\n",
    "  --min-replica-count=$MIN_REPLICA_COUNT \\\n",
    "  --max-replica-count=$MAX_REPLICA_COUNT \\\n",
    "  --traffic-split=0=100"
   ]
  },
  {
   "cell_type": "markdown",
   "metadata": {},
   "source": [
    "The above model deployment can be initiated from the Vertex AI Python SDK as well, as seen below. If the `aiplatform`package is not installed yet in your notebook, run the next cell uncommented, and then restart your kernel."
   ]
  },
  {
   "cell_type": "code",
   "execution_count": null,
   "metadata": {},
   "outputs": [],
   "source": [
    "#!pip3 install -U google-cloud-aiplatform --user"
   ]
  },
  {
   "cell_type": "code",
   "execution_count": null,
   "metadata": {},
   "outputs": [],
   "source": [
    "from google.cloud import aiplatform\n",
    "\n",
    "TIMESTAMP=datetime.strftime(datetime.now(), '%Y%m%d_%H%M%S')\n",
    "MODEL_NAME=f\"taxifare_{TIMESTAMP}\"\n",
    "ENDPOINT_NAME=f\"taxifare_endpoint_{TIMESTAMP}\"\n",
    "ARTIFACT_DIRECTORY=\"gs://dsparing-sandbox-bucket/taxifare_210523_051934/\"\n",
    "IMAGE_URI=\"us-docker.pkg.dev/vertex-ai/prediction/tf2-cpu.2-3:latest\"\n",
    "\n",
    "aiplatform.init(project=PROJECT, location=REGION)\n",
    "\n",
    "# Model\n",
    "model = aiplatform.Model.upload(\n",
    "    display_name=MODEL_NAME,\n",
    "    artifact_uri=ARTIFACT_DIRECTORY,\n",
    "    serving_container_image_uri=IMAGE_URI,\n",
    ")\n",
    "\n",
    "model.wait()\n",
    "\n",
    "print(model.display_name)\n",
    "print(model.resource_name)\n",
    "\n",
    "# Endpoint\n",
    "endpoint = aiplatform.Endpoint.create(\n",
    "    display_name=ENDPOINT_NAME, project=PROJECT, location=REGION,\n",
    ")\n",
    "\n",
    "print(endpoint.display_name)\n",
    "print(endpoint.resource_name)\n",
    "\n",
    "# Deployment\n",
    "DEPLOYED_MODEL_NAME=f\"{MODEL_NAME}_deployment\"\n",
    "MACHINE_TYPE=\"n1-standard-2\"\n",
    "MIN_REPLICA_COUNT=1\n",
    "MAX_REPLICA_COUNT=3\n",
    "\n",
    "\n",
    "model = aiplatform.Model(model_name=model.resource_name)\n",
    "\n",
    "model.deploy(\n",
    "    endpoint=aiplatform.Endpoint(endpoint.resource_name),\n",
    "    deployed_model_display_name=DEPLOYED_MODEL_NAME,\n",
    "    traffic_split={\"0\": 100},\n",
    "    machine_type=MACHINE_TYPE,\n",
    "    min_replica_count=MIN_REPLICA_COUNT,\n",
    "    max_replica_count=MAX_REPLICA_COUNT,\n",
    ")\n",
    "\n",
    "model.wait()\n",
    "\n",
    "print(f\"Model {model.display_name} deployed to Endpoint {endpoint.display_name}.\")\n"
   ]
  },
  {
   "cell_type": "markdown",
   "metadata": {},
   "source": [
    "Copyright 2021 Google Inc. Licensed under the Apache License, Version 2.0 (the \"License\"); you may not use this file except in compliance with the License. You may obtain a copy of the License at http://www.apache.org/licenses/LICENSE-2.0 Unless required by applicable law or agreed to in writing, software distributed under the License is distributed on an \"AS IS\" BASIS, WITHOUT WARRANTIES OR CONDITIONS OF ANY KIND, either express or implied. See the License for the specific language governing permissions and limitations under the License"
   ]
  },
  {
   "cell_type": "code",
   "execution_count": null,
   "metadata": {},
   "outputs": [],
   "source": []
  }
 ],
 "metadata": {
  "environment": {
   "name": "tf2-gpu.2-3.m69",
   "type": "gcloud",
   "uri": "gcr.io/deeplearning-platform-release/tf2-gpu.2-3:m69"
  },
  "kernelspec": {
   "display_name": "Python 3",
   "language": "python",
   "name": "python3"
  },
  "language_info": {
   "codemirror_mode": {
    "name": "ipython",
    "version": 3
   },
   "file_extension": ".py",
   "mimetype": "text/x-python",
   "name": "python",
   "nbconvert_exporter": "python",
   "pygments_lexer": "ipython3",
   "version": "3.7.10"
  }
 },
 "nbformat": 4,
 "nbformat_minor": 4
}
