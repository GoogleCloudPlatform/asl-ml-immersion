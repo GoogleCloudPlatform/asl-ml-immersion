{
 "cells": [
  {
   "cell_type": "markdown",
   "metadata": {},
   "source": [
    "# CI/CD for a Kubeflow pipeline on Vertex AI"
   ]
  },
  {
   "cell_type": "markdown",
   "metadata": {},
   "source": [
    "**Learning Objectives:**\n",
    "1. Learn how to create a custom Cloud Build builder to pilote Vertex AI Pipelines\n",
    "1. Learn how to write a Cloud Build config file to build and push all the artifacts for a KFP\n",
    "1. Learn how to setup a Cloud Build GitHub trigger a new run of the Kubeflow PIpeline"
   ]
  },
  {
   "cell_type": "markdown",
   "metadata": {},
   "source": [
    "In this lab you will walk through authoring of a **Cloud Build** CI/CD workflow that automatically builds, deploys, and runs a Kubeflow pipeline on Vertex AI. You will also integrate your workflow with **GitHub** by setting up a trigger that starts the  workflow when a new tag is applied to the **GitHub** repo hosting the pipeline's code."
   ]
  },
  {
   "cell_type": "code",
   "execution_count": 1,
   "metadata": {
    "tags": []
   },
   "outputs": [],
   "source": [
    "import os"
   ]
  },
  {
   "cell_type": "markdown",
   "metadata": {},
   "source": [
    "## Configuring environment settings"
   ]
  },
  {
   "cell_type": "code",
   "execution_count": 2,
   "metadata": {
    "tags": []
   },
   "outputs": [],
   "source": [
    "PROJECT_ID = !(gcloud config get-value project)\n",
    "PROJECT_ID = PROJECT_ID[0]\n",
    "REGION = \"us-central1\"\n",
    "ARTIFACT_STORE = f\"gs://{PROJECT_ID}-kfp-artifact-store\"\n",
    "os.environ[\"REGION\"] = REGION\n",
    "os.environ[\"ARTIFACT_STORE\"] = ARTIFACT_STORE"
   ]
  },
  {
   "cell_type": "markdown",
   "metadata": {},
   "source": [
    "Let us make sure that the artifact store exists:"
   ]
  },
  {
   "cell_type": "code",
   "execution_count": 3,
   "metadata": {
    "tags": []
   },
   "outputs": [
    {
     "name": "stdout",
     "output_type": "stream",
     "text": [
      "gs://qwiklabs-asl-01-19968276eb55-kfp-artifact-store/\n"
     ]
    }
   ],
   "source": [
    "!gsutil ls | grep ^{ARTIFACT_STORE}/$ || gsutil mb -l {REGION} {ARTIFACT_STORE}"
   ]
  },
  {
   "cell_type": "markdown",
   "metadata": {
    "tags": []
   },
   "source": [
    "Also, this notebook assumes the dataset is already created and stored in Google Cloud Storage following the instructions covered in the [walkthrough notebook](https://github.com/GoogleCloudPlatform/asl-ml-immersion/blob/master/notebooks/kubeflow_pipelines/walkthrough/solutions/kfp_walkthrough_vertex.ipynb).\n",
    "\n",
    "If you haven't run it, please run the cell below and create the dataset before running the pipeline."
   ]
  },
  {
   "cell_type": "code",
   "execution_count": 4,
   "metadata": {
    "tags": []
   },
   "outputs": [
    {
     "name": "stderr",
     "output_type": "stream",
     "text": [
      "Copying gs://asl-public/data/covertype/training/dataset.csv [Content-Type=application/octet-stream]...\n",
      "/ [1 files][  2.1 MiB/  2.1 MiB]                                                \n",
      "Operation completed over 1 objects/2.1 MiB.                                      \n",
      "Copying gs://asl-public/data/covertype/validation/dataset.csv [Content-Type=application/octet-stream]...\n",
      "/ [1 files][529.7 KiB/529.7 KiB]                                                \n",
      "Operation completed over 1 objects/529.7 KiB.                                    \n"
     ]
    }
   ],
   "source": [
    "%%bash\n",
    "gsutil cp gs://asl-public/data/covertype/training/dataset.csv $ARTIFACT_STORE/data/training/dataset.csv\n",
    "gsutil cp gs://asl-public/data/covertype/validation/dataset.csv $ARTIFACT_STORE/data/validation/dataset.csv"
   ]
  },
  {
   "cell_type": "markdown",
   "metadata": {},
   "source": [
    "## Creating the KFP CLI builder for Vertex AI\n",
    "### Review the Dockerfile describing the KFP CLI builder"
   ]
  },
  {
   "cell_type": "code",
   "execution_count": 5,
   "metadata": {
    "tags": []
   },
   "outputs": [
    {
     "name": "stdout",
     "output_type": "stream",
     "text": [
      "FROM gcr.io/deeplearning-platform-release/base-cpu\n",
      "RUN pip install kfp==2.4.0 google-cloud-aiplatform==1.43.0 fire\n",
      "ENTRYPOINT [\"/bin/bash\"]\n"
     ]
    }
   ],
   "source": [
    "!cat kfp-cli_vertex/Dockerfile"
   ]
  },
  {
   "cell_type": "markdown",
   "metadata": {},
   "source": [
    "### Build the image and push it to your project's **Artifact Registry**."
   ]
  },
  {
   "cell_type": "code",
   "execution_count": 6,
   "metadata": {
    "tags": []
   },
   "outputs": [
    {
     "data": {
      "text/plain": [
       "'us-docker.pkg.dev/qwiklabs-asl-01-19968276eb55/asl-artifact-repo/kfp-cli-vertex:latest'"
      ]
     },
     "execution_count": 6,
     "metadata": {},
     "output_type": "execute_result"
    }
   ],
   "source": [
    "ARTIFACT_REGISTRY_DIR = \"asl-artifact-repo\"\n",
    "KFP_CLI_IMAGE_NAME = \"kfp-cli-vertex\"\n",
    "KFP_CLI_IMAGE_URI = f\"us-docker.pkg.dev/{PROJECT_ID}/{ARTIFACT_REGISTRY_DIR}/{KFP_CLI_IMAGE_NAME}:latest\"\n",
    "KFP_CLI_IMAGE_URI"
   ]
  },
  {
   "cell_type": "code",
   "execution_count": 7,
   "metadata": {
    "tags": []
   },
   "outputs": [
    {
     "name": "stdout",
     "output_type": "stream",
     "text": [
      "Creating temporary archive of 2 file(s) totalling 1.1 KiB before compression.\n",
      "Uploading tarball of [kfp-cli_vertex] to [gs://qwiklabs-asl-01-19968276eb55_cloudbuild/source/1747270413.774541-a9ecc826ff7b4a17a73a09c006be7e1a.tgz]\n",
      "Created [https://cloudbuild.googleapis.com/v1/projects/qwiklabs-asl-01-19968276eb55/locations/global/builds/b0fd4a92-2ad3-4f4b-9c25-cc0414199aa1].\n",
      "Logs are available at [ https://console.cloud.google.com/cloud-build/builds/b0fd4a92-2ad3-4f4b-9c25-cc0414199aa1?project=604342147284 ].\n",
      "Waiting for build to complete. Polling interval: 1 second(s).\n",
      "----------------------------- REMOTE BUILD OUTPUT ------------------------------\n",
      "starting build \"b0fd4a92-2ad3-4f4b-9c25-cc0414199aa1\"\n",
      "\n",
      "FETCHSOURCE\n",
      "Fetching storage object: gs://qwiklabs-asl-01-19968276eb55_cloudbuild/source/1747270413.774541-a9ecc826ff7b4a17a73a09c006be7e1a.tgz#1747270414668958\n",
      "Copying gs://qwiklabs-asl-01-19968276eb55_cloudbuild/source/1747270413.774541-a9ecc826ff7b4a17a73a09c006be7e1a.tgz#1747270414668958...\n",
      "/ [1 files][  898.0 B/  898.0 B]                                                \n",
      "Operation completed over 1 objects/898.0 B.\n",
      "BUILD\n",
      "Already have image (with digest): gcr.io/cloud-builders/docker\n",
      "Sending build context to Docker daemon  3.584kB\n",
      "Step 1/3 : FROM gcr.io/deeplearning-platform-release/base-cpu\n",
      "latest: Pulling from deeplearning-platform-release/base-cpu\n",
      "86e5016c2693: Pulling fs layer\n",
      "096ec609c919: Pulling fs layer\n",
      "f389eac6520c: Pulling fs layer\n",
      "4f4fb700ef54: Pulling fs layer\n",
      "8d47e4a1dc24: Pulling fs layer\n",
      "b942d15ed3b4: Pulling fs layer\n",
      "af505d28678e: Pulling fs layer\n",
      "d45018a075d4: Pulling fs layer\n",
      "67b3f6f31476: Pulling fs layer\n",
      "7528812e52eb: Pulling fs layer\n",
      "f2eff0439965: Pulling fs layer\n",
      "3dcaa61f66f2: Pulling fs layer\n",
      "1032889a1174: Pulling fs layer\n",
      "06ea551abd3c: Pulling fs layer\n",
      "fea4ca39a6c9: Pulling fs layer\n",
      "57be888208db: Pulling fs layer\n",
      "5f56d785927d: Pulling fs layer\n",
      "fd83492ed545: Pulling fs layer\n",
      "01b5c40f4fa3: Pulling fs layer\n",
      "2c42f1a8b1ce: Pulling fs layer\n",
      "bfd10bb5d68b: Pulling fs layer\n",
      "e68e52c74e67: Pulling fs layer\n",
      "cb2c9d9012be: Pulling fs layer\n",
      "6cd4e7838d20: Pulling fs layer\n",
      "adf2c8c5ce7a: Pulling fs layer\n",
      "acf7e3c186f2: Pulling fs layer\n",
      "0b9f3e32984a: Pulling fs layer\n",
      "668a1b099214: Pulling fs layer\n",
      "3979ae49c6c6: Pulling fs layer\n",
      "4f4fb700ef54: Waiting\n",
      "8d47e4a1dc24: Waiting\n",
      "b942d15ed3b4: Waiting\n",
      "af505d28678e: Waiting\n",
      "d45018a075d4: Waiting\n",
      "67b3f6f31476: Waiting\n",
      "7528812e52eb: Waiting\n",
      "f2eff0439965: Waiting\n",
      "3dcaa61f66f2: Waiting\n",
      "1032889a1174: Waiting\n",
      "06ea551abd3c: Waiting\n",
      "fea4ca39a6c9: Waiting\n",
      "57be888208db: Waiting\n",
      "5f56d785927d: Waiting\n",
      "fd83492ed545: Waiting\n",
      "01b5c40f4fa3: Waiting\n",
      "2c42f1a8b1ce: Waiting\n",
      "bfd10bb5d68b: Waiting\n",
      "e68e52c74e67: Waiting\n",
      "cb2c9d9012be: Waiting\n",
      "6cd4e7838d20: Waiting\n",
      "adf2c8c5ce7a: Waiting\n",
      "acf7e3c186f2: Waiting\n",
      "0b9f3e32984a: Waiting\n",
      "668a1b099214: Waiting\n",
      "3979ae49c6c6: Waiting\n",
      "f389eac6520c: Verifying Checksum\n",
      "f389eac6520c: Download complete\n",
      "4f4fb700ef54: Verifying Checksum\n",
      "4f4fb700ef54: Download complete\n",
      "86e5016c2693: Verifying Checksum\n",
      "86e5016c2693: Download complete\n",
      "096ec609c919: Verifying Checksum\n",
      "096ec609c919: Download complete\n",
      "af505d28678e: Verifying Checksum\n",
      "af505d28678e: Download complete\n",
      "d45018a075d4: Verifying Checksum\n",
      "d45018a075d4: Download complete\n",
      "67b3f6f31476: Download complete\n",
      "7528812e52eb: Verifying Checksum\n",
      "7528812e52eb: Download complete\n",
      "f2eff0439965: Download complete\n",
      "3dcaa61f66f2: Verifying Checksum\n",
      "3dcaa61f66f2: Download complete\n",
      "b942d15ed3b4: Verifying Checksum\n",
      "b942d15ed3b4: Download complete\n",
      "06ea551abd3c: Verifying Checksum\n",
      "06ea551abd3c: Download complete\n",
      "fea4ca39a6c9: Verifying Checksum\n",
      "fea4ca39a6c9: Download complete\n",
      "57be888208db: Verifying Checksum\n",
      "57be888208db: Download complete\n",
      "5f56d785927d: Verifying Checksum\n",
      "5f56d785927d: Download complete\n",
      "8d47e4a1dc24: Verifying Checksum\n",
      "8d47e4a1dc24: Download complete\n",
      "fd83492ed545: Verifying Checksum\n",
      "fd83492ed545: Download complete\n",
      "01b5c40f4fa3: Verifying Checksum\n",
      "01b5c40f4fa3: Download complete\n",
      "86e5016c2693: Pull complete\n",
      "2c42f1a8b1ce: Verifying Checksum\n",
      "2c42f1a8b1ce: Download complete\n",
      "bfd10bb5d68b: Verifying Checksum\n",
      "bfd10bb5d68b: Download complete\n",
      "e68e52c74e67: Verifying Checksum\n",
      "e68e52c74e67: Download complete\n",
      "cb2c9d9012be: Verifying Checksum\n",
      "cb2c9d9012be: Download complete\n",
      "adf2c8c5ce7a: Verifying Checksum\n",
      "adf2c8c5ce7a: Download complete\n",
      "1032889a1174: Verifying Checksum\n",
      "1032889a1174: Download complete\n",
      "acf7e3c186f2: Verifying Checksum\n",
      "acf7e3c186f2: Download complete\n",
      "0b9f3e32984a: Verifying Checksum\n",
      "0b9f3e32984a: Download complete\n",
      "668a1b099214: Verifying Checksum\n",
      "668a1b099214: Download complete\n",
      "3979ae49c6c6: Verifying Checksum\n",
      "3979ae49c6c6: Download complete\n",
      "096ec609c919: Pull complete\n",
      "f389eac6520c: Pull complete\n",
      "4f4fb700ef54: Pull complete\n",
      "6cd4e7838d20: Verifying Checksum\n",
      "6cd4e7838d20: Download complete\n",
      "8d47e4a1dc24: Pull complete\n",
      "b942d15ed3b4: Pull complete\n",
      "af505d28678e: Pull complete\n",
      "d45018a075d4: Pull complete\n",
      "67b3f6f31476: Pull complete\n",
      "7528812e52eb: Pull complete\n",
      "f2eff0439965: Pull complete\n",
      "3dcaa61f66f2: Pull complete\n",
      "1032889a1174: Pull complete\n",
      "06ea551abd3c: Pull complete\n",
      "fea4ca39a6c9: Pull complete\n",
      "57be888208db: Pull complete\n",
      "5f56d785927d: Pull complete\n",
      "fd83492ed545: Pull complete\n",
      "01b5c40f4fa3: Pull complete\n",
      "2c42f1a8b1ce: Pull complete\n",
      "bfd10bb5d68b: Pull complete\n",
      "e68e52c74e67: Pull complete\n",
      "cb2c9d9012be: Pull complete\n",
      "6cd4e7838d20: Pull complete\n",
      "adf2c8c5ce7a: Pull complete\n",
      "acf7e3c186f2: Pull complete\n",
      "0b9f3e32984a: Pull complete\n",
      "668a1b099214: Pull complete\n",
      "3979ae49c6c6: Pull complete\n",
      "Digest: sha256:394be02c6b020a39837e0719c546d56b829994ce091fde7970c232b7f16a6640\n",
      "Status: Downloaded newer image for gcr.io/deeplearning-platform-release/base-cpu:latest\n",
      " ---> 746ad2db8b1c\n",
      "Step 2/3 : RUN pip install kfp==2.4.0 google-cloud-aiplatform==1.43.0 fire\n",
      " ---> Running in 2f2322f9f8b0\n",
      "Collecting kfp==2.4.0\n",
      "  Downloading kfp-2.4.0.tar.gz (392 kB)\n",
      "  Installing build dependencies: started\n",
      "  Installing build dependencies: finished with status 'done'\n",
      "  Getting requirements to build wheel: started\n",
      "  Getting requirements to build wheel: finished with status 'done'\n",
      "  Preparing metadata (pyproject.toml): started\n",
      "  Preparing metadata (pyproject.toml): finished with status 'done'\n",
      "Collecting google-cloud-aiplatform==1.43.0\n",
      "  Downloading google_cloud_aiplatform-1.43.0-py2.py3-none-any.whl.metadata (27 kB)\n",
      "Collecting fire\n",
      "  Downloading fire-0.7.0.tar.gz (87 kB)\n",
      "  Installing build dependencies: started\n",
      "  Installing build dependencies: finished with status 'done'\n",
      "  Getting requirements to build wheel: started\n",
      "  Getting requirements to build wheel: finished with status 'done'\n",
      "  Preparing metadata (pyproject.toml): started\n",
      "  Preparing metadata (pyproject.toml): finished with status 'done'\n",
      "Requirement already satisfied: click<9,>=8.0.0 in /opt/python/3.10/lib/python3.10/site-packages (from kfp==2.4.0) (8.1.8)\n",
      "Requirement already satisfied: docstring-parser<1,>=0.7.3 in /opt/python/3.10/lib/python3.10/site-packages (from kfp==2.4.0) (0.16)\n",
      "Requirement already satisfied: google-api-core!=2.0.*,!=2.1.*,!=2.2.*,!=2.3.0,<3.0.0dev,>=1.31.5 in /opt/python/3.10/lib/python3.10/site-packages (from kfp==2.4.0) (1.34.1)\n",
      "Requirement already satisfied: google-auth<3,>=1.6.1 in /opt/python/3.10/lib/python3.10/site-packages (from kfp==2.4.0) (2.38.0)\n",
      "Requirement already satisfied: google-cloud-storage<3,>=2.2.1 in /opt/python/3.10/lib/python3.10/site-packages (from kfp==2.4.0) (2.14.0)\n",
      "Requirement already satisfied: kfp-pipeline-spec==0.2.2 in /opt/python/3.10/lib/python3.10/site-packages (from kfp==2.4.0) (0.2.2)\n",
      "Requirement already satisfied: kfp-server-api<2.1.0,>=2.0.0 in /opt/python/3.10/lib/python3.10/site-packages (from kfp==2.4.0) (2.0.5)\n",
      "Requirement already satisfied: kubernetes<27,>=8.0.0 in /opt/python/3.10/lib/python3.10/site-packages (from kfp==2.4.0) (26.1.0)\n",
      "Requirement already satisfied: protobuf<4,>=3.13.0 in /opt/python/3.10/lib/python3.10/site-packages (from kfp==2.4.0) (3.20.3)\n",
      "Requirement already satisfied: PyYAML<7,>=5.3 in /opt/python/3.10/lib/python3.10/site-packages (from kfp==2.4.0) (6.0.2)\n",
      "Requirement already satisfied: requests-toolbelt<1,>=0.8.0 in /opt/python/3.10/lib/python3.10/site-packages (from kfp==2.4.0) (0.10.1)\n",
      "Requirement already satisfied: tabulate<1,>=0.8.6 in /opt/python/3.10/lib/python3.10/site-packages (from kfp==2.4.0) (0.9.0)\n",
      "Requirement already satisfied: urllib3<2.0.0 in /opt/python/3.10/lib/python3.10/site-packages (from kfp==2.4.0) (1.26.20)\n",
      "Requirement already satisfied: proto-plus<2.0.0dev,>=1.22.0 in /opt/python/3.10/lib/python3.10/site-packages (from google-cloud-aiplatform==1.43.0) (1.26.1)\n",
      "Requirement already satisfied: packaging>=14.3 in /opt/python/3.10/lib/python3.10/site-packages (from google-cloud-aiplatform==1.43.0) (24.2)\n",
      "Requirement already satisfied: google-cloud-bigquery<4.0.0dev,>=1.15.0 in /opt/python/3.10/lib/python3.10/site-packages (from google-cloud-aiplatform==1.43.0) (3.25.0)\n",
      "Requirement already satisfied: google-cloud-resource-manager<3.0.0dev,>=1.3.3 in /opt/python/3.10/lib/python3.10/site-packages (from google-cloud-aiplatform==1.43.0) (1.14.2)\n",
      "Requirement already satisfied: shapely<3.0.0dev in /opt/python/3.10/lib/python3.10/site-packages (from google-cloud-aiplatform==1.43.0) (2.1.0)\n",
      "Collecting termcolor (from fire)\n",
      "  Downloading termcolor-3.1.0-py3-none-any.whl.metadata (6.4 kB)\n",
      "Requirement already satisfied: googleapis-common-protos<2.0dev,>=1.56.2 in /opt/python/3.10/lib/python3.10/site-packages (from google-api-core!=2.0.*,!=2.1.*,!=2.2.*,!=2.3.0,<3.0.0dev,>=1.31.5->kfp==2.4.0) (1.69.2)\n",
      "Requirement already satisfied: requests<3.0.0dev,>=2.18.0 in /opt/python/3.10/lib/python3.10/site-packages (from google-api-core!=2.0.*,!=2.1.*,!=2.2.*,!=2.3.0,<3.0.0dev,>=1.31.5->kfp==2.4.0) (2.32.3)\n",
      "Requirement already satisfied: grpcio<2.0dev,>=1.33.2 in /opt/python/3.10/lib/python3.10/site-packages (from google-api-core[grpc]!=2.0.*,!=2.1.*,!=2.2.*,!=2.3.*,!=2.4.*,!=2.5.*,!=2.6.*,!=2.7.*,<3.0.0dev,>=1.34.1->google-cloud-aiplatform==1.43.0) (1.72.0rc1)\n",
      "Requirement already satisfied: grpcio-status<2.0dev,>=1.33.2 in /opt/python/3.10/lib/python3.10/site-packages (from google-api-core[grpc]!=2.0.*,!=2.1.*,!=2.2.*,!=2.3.*,!=2.4.*,!=2.5.*,!=2.6.*,!=2.7.*,<3.0.0dev,>=1.34.1->google-cloud-aiplatform==1.43.0) (1.49.0rc1)\n",
      "Requirement already satisfied: cachetools<6.0,>=2.0.0 in /opt/python/3.10/lib/python3.10/site-packages (from google-auth<3,>=1.6.1->kfp==2.4.0) (5.5.2)\n",
      "Requirement already satisfied: pyasn1-modules>=0.2.1 in /opt/python/3.10/lib/python3.10/site-packages (from google-auth<3,>=1.6.1->kfp==2.4.0) (0.4.2)\n",
      "Requirement already satisfied: rsa<5,>=3.1.4 in /opt/python/3.10/lib/python3.10/site-packages (from google-auth<3,>=1.6.1->kfp==2.4.0) (4.9)\n",
      "Requirement already satisfied: google-cloud-core<3.0.0dev,>=1.6.0 in /opt/python/3.10/lib/python3.10/site-packages (from google-cloud-bigquery<4.0.0dev,>=1.15.0->google-cloud-aiplatform==1.43.0) (2.4.3)\n",
      "Requirement already satisfied: google-resumable-media<3.0dev,>=0.6.0 in /opt/python/3.10/lib/python3.10/site-packages (from google-cloud-bigquery<4.0.0dev,>=1.15.0->google-cloud-aiplatform==1.43.0) (2.7.2)\n",
      "Requirement already satisfied: python-dateutil<3.0dev,>=2.7.2 in /opt/python/3.10/lib/python3.10/site-packages (from google-cloud-bigquery<4.0.0dev,>=1.15.0->google-cloud-aiplatform==1.43.0) (2.9.0.post0)\n",
      "Requirement already satisfied: grpc-google-iam-v1<1.0.0,>=0.14.0 in /opt/python/3.10/lib/python3.10/site-packages (from google-cloud-resource-manager<3.0.0dev,>=1.3.3->google-cloud-aiplatform==1.43.0) (0.14.2)\n",
      "Requirement already satisfied: google-crc32c<2.0dev,>=1.0 in /opt/python/3.10/lib/python3.10/site-packages (from google-cloud-storage<3,>=2.2.1->kfp==2.4.0) (1.7.1)\n",
      "Requirement already satisfied: six>=1.10 in /opt/python/3.10/lib/python3.10/site-packages (from kfp-server-api<2.1.0,>=2.0.0->kfp==2.4.0) (1.17.0)\n",
      "Requirement already satisfied: certifi in /opt/python/3.10/lib/python3.10/site-packages (from kfp-server-api<2.1.0,>=2.0.0->kfp==2.4.0) (2025.1.31)\n",
      "Requirement already satisfied: setuptools>=21.0.0 in /opt/python/3.10/lib/python3.10/site-packages (from kubernetes<27,>=8.0.0->kfp==2.4.0) (65.5.0)\n",
      "Requirement already satisfied: websocket-client!=0.40.0,!=0.41.*,!=0.42.*,>=0.32.0 in /opt/python/3.10/lib/python3.10/site-packages (from kubernetes<27,>=8.0.0->kfp==2.4.0) (1.8.0)\n",
      "Requirement already satisfied: requests-oauthlib in /opt/python/3.10/lib/python3.10/site-packages (from kubernetes<27,>=8.0.0->kfp==2.4.0) (2.0.0)\n",
      "Requirement already satisfied: numpy>=1.21 in /opt/python/3.10/lib/python3.10/site-packages (from shapely<3.0.0dev->google-cloud-aiplatform==1.43.0) (1.25.2)\n",
      "Requirement already satisfied: pyasn1<0.7.0,>=0.6.1 in /opt/python/3.10/lib/python3.10/site-packages (from pyasn1-modules>=0.2.1->google-auth<3,>=1.6.1->kfp==2.4.0) (0.6.1)\n",
      "Requirement already satisfied: charset-normalizer<4,>=2 in /opt/python/3.10/lib/python3.10/site-packages (from requests<3.0.0dev,>=2.18.0->google-api-core!=2.0.*,!=2.1.*,!=2.2.*,!=2.3.0,<3.0.0dev,>=1.31.5->kfp==2.4.0) (3.4.1)\n",
      "Requirement already satisfied: idna<4,>=2.5 in /opt/python/3.10/lib/python3.10/site-packages (from requests<3.0.0dev,>=2.18.0->google-api-core!=2.0.*,!=2.1.*,!=2.2.*,!=2.3.0,<3.0.0dev,>=1.31.5->kfp==2.4.0) (3.10)\n",
      "Requirement already satisfied: oauthlib>=3.0.0 in /opt/python/3.10/lib/python3.10/site-packages (from requests-oauthlib->kubernetes<27,>=8.0.0->kfp==2.4.0) (3.2.2)\n",
      "Downloading google_cloud_aiplatform-1.43.0-py2.py3-none-any.whl (4.1 MB)\n",
      "   ━━━━━━━━━━━━━━━━━━━━━━━━━━━━━━━━━━━━━━━━ 4.1/4.1 MB 111.7 MB/s eta 0:00:00\n",
      "Downloading termcolor-3.1.0-py3-none-any.whl (7.7 kB)\n",
      "Building wheels for collected packages: kfp, fire\n",
      "  Building wheel for kfp (pyproject.toml): started\n",
      "  Building wheel for kfp (pyproject.toml): finished with status 'done'\n",
      "  Created wheel for kfp: filename=kfp-2.4.0-py3-none-any.whl size=543033 sha256=ecd15e2f2b0045fea42c706ec9cd4c6ecde73aab8b05ecef5b2d60467fac0617\n",
      "  Stored in directory: /root/.cache/pip/wheels/8f/68/87/2a7654c22807614c76ea1aefcdd6205a0f2035e64b958934ac\n",
      "  Building wheel for fire (pyproject.toml): started\n",
      "  Building wheel for fire (pyproject.toml): finished with status 'done'\n",
      "  Created wheel for fire: filename=fire-0.7.0-py3-none-any.whl size=114330 sha256=e907e9f203030de08444c1a9e43247b72d294212a1dbd20ba8b2b2b53ae82053\n",
      "  Stored in directory: /root/.cache/pip/wheels/19/39/2f/2d3cadc408a8804103f1c34ddd4b9f6a93497b11fa96fe738e\n",
      "Successfully built kfp fire\n",
      "Installing collected packages: termcolor, fire, kfp, google-cloud-aiplatform\n",
      "  Attempting uninstall: kfp\n",
      "    Found existing installation: kfp 2.5.0\n",
      "    Uninstalling kfp-2.5.0:\n",
      "      Successfully uninstalled kfp-2.5.0\n",
      "  Attempting uninstall: google-cloud-aiplatform\n",
      "    Found existing installation: google-cloud-aiplatform 1.88.0\n",
      "    Uninstalling google-cloud-aiplatform-1.88.0:\n",
      "      Successfully uninstalled google-cloud-aiplatform-1.88.0\n",
      "Successfully installed fire-0.7.0 google-cloud-aiplatform-1.43.0 kfp-2.4.0 termcolor-3.1.0\n",
      "\u001b[91mWARNING: Running pip as the 'root' user can result in broken permissions and conflicting behaviour with the system package manager, possibly rendering your system unusable. It is recommended to use a virtual environment instead: https://pip.pypa.io/warnings/venv. Use the --root-user-action option if you know what you are doing and want to suppress this warning.\n",
      "\u001b[0m\u001b[91m\n",
      "[notice] A new release of pip is available: 25.0.1 -> 25.1.1\n",
      "[notice] To update, run: pip install --upgrade pip\n",
      "\u001b[0mRemoving intermediate container 2f2322f9f8b0\n",
      " ---> 2920bde544a6\n",
      "Step 3/3 : ENTRYPOINT [\"/bin/bash\"]\n",
      " ---> Running in e517ceedaf8a\n",
      "Removing intermediate container e517ceedaf8a\n",
      " ---> b923402e0465\n",
      "Successfully built b923402e0465\n",
      "Successfully tagged us-docker.pkg.dev/qwiklabs-asl-01-19968276eb55/asl-artifact-repo/kfp-cli-vertex:latest\n",
      "PUSH\n",
      "Pushing us-docker.pkg.dev/qwiklabs-asl-01-19968276eb55/asl-artifact-repo/kfp-cli-vertex:latest\n",
      "The push refers to repository [us-docker.pkg.dev/qwiklabs-asl-01-19968276eb55/asl-artifact-repo/kfp-cli-vertex]\n",
      "1c01097dc323: Preparing\n",
      "d539591c8231: Preparing\n",
      "2bbfa27eabb6: Preparing\n",
      "4e020ec5d133: Preparing\n",
      "5f70bf18a086: Preparing\n",
      "907afd623d1c: Preparing\n",
      "e060e10d65b1: Preparing\n",
      "5f70bf18a086: Preparing\n",
      "79d1368dac1e: Preparing\n",
      "45ef86ee7852: Preparing\n",
      "1c81b840ebbc: Preparing\n",
      "b41c3a398424: Preparing\n",
      "e84ac8de4027: Preparing\n",
      "e8f50471ea10: Preparing\n",
      "0877472bb674: Preparing\n",
      "ebed6db02163: Preparing\n",
      "80fcfae98bdb: Preparing\n",
      "11a54efe1a9f: Preparing\n",
      "f5d0b797ecd6: Preparing\n",
      "b3728bc36be9: Preparing\n",
      "e4f87d7b828a: Preparing\n",
      "4a1f332fd020: Preparing\n",
      "6ba7721dfff5: Preparing\n",
      "2c57e5180c54: Preparing\n",
      "99ba7c40e807: Preparing\n",
      "b183c22ec44e: Preparing\n",
      "5f70bf18a086: Preparing\n",
      "ece1c68893aa: Preparing\n",
      "6c8ea5d035e4: Preparing\n",
      "5f70bf18a086: Preparing\n",
      "7e9a0fadd3bc: Preparing\n",
      "6679cc8cc005: Preparing\n",
      "fffe76c64ef2: Preparing\n",
      "907afd623d1c: Waiting\n",
      "e060e10d65b1: Waiting\n",
      "79d1368dac1e: Waiting\n",
      "45ef86ee7852: Waiting\n",
      "1c81b840ebbc: Waiting\n",
      "b41c3a398424: Waiting\n",
      "e84ac8de4027: Waiting\n",
      "e8f50471ea10: Waiting\n",
      "0877472bb674: Waiting\n",
      "ebed6db02163: Waiting\n",
      "80fcfae98bdb: Waiting\n",
      "f5d0b797ecd6: Waiting\n",
      "b3728bc36be9: Waiting\n",
      "e4f87d7b828a: Waiting\n",
      "4a1f332fd020: Waiting\n",
      "6ba7721dfff5: Waiting\n",
      "2c57e5180c54: Waiting\n",
      "99ba7c40e807: Waiting\n",
      "b183c22ec44e: Waiting\n",
      "ece1c68893aa: Waiting\n",
      "6c8ea5d035e4: Waiting\n",
      "7e9a0fadd3bc: Waiting\n",
      "6679cc8cc005: Waiting\n",
      "fffe76c64ef2: Waiting\n",
      "11a54efe1a9f: Waiting\n",
      "5f70bf18a086: Layer already exists\n",
      "2bbfa27eabb6: Pushed\n",
      "d539591c8231: Pushed\n",
      "4e020ec5d133: Pushed\n",
      "907afd623d1c: Pushed\n",
      "e060e10d65b1: Pushed\n",
      "45ef86ee7852: Pushed\n",
      "1c81b840ebbc: Pushed\n",
      "1c01097dc323: Pushed\n",
      "b41c3a398424: Pushed\n",
      "e84ac8de4027: Pushed\n",
      "e8f50471ea10: Pushed\n",
      "0877472bb674: Pushed\n",
      "ebed6db02163: Pushed\n",
      "80fcfae98bdb: Pushed\n",
      "11a54efe1a9f: Pushed\n",
      "e4f87d7b828a: Pushed\n",
      "4a1f332fd020: Pushed\n",
      "6ba7721dfff5: Pushed\n",
      "2c57e5180c54: Pushed\n",
      "99ba7c40e807: Pushed\n",
      "b183c22ec44e: Pushed\n",
      "f5d0b797ecd6: Pushed\n",
      "7e9a0fadd3bc: Pushed\n",
      "6679cc8cc005: Pushed\n",
      "fffe76c64ef2: Layer already exists\n",
      "b3728bc36be9: Pushed\n",
      "ece1c68893aa: Pushed\n",
      "6c8ea5d035e4: Pushed\n",
      "79d1368dac1e: Pushed\n",
      "latest: digest: sha256:ba3b76b29893326d114d6cbcc55344594edf4d97421a0d8502d1da64df33dc3b size: 7213\n",
      "DONE\n",
      "--------------------------------------------------------------------------------\n",
      "\n",
      "INFO: The service account running this build projects/qwiklabs-asl-01-19968276eb55/serviceAccounts/604342147284-compute@developer.gserviceaccount.com does not have permission to write logs to Cloud Logging. To fix this, grant the Logs Writer (roles/logging.logWriter) role to the service account.\n",
      "\n",
      "1 message(s) issued.\n",
      "ID                                    CREATE_TIME                DURATION  SOURCE                                                                                                      IMAGES                                                                                     STATUS\n",
      "b0fd4a92-2ad3-4f4b-9c25-cc0414199aa1  2025-05-15T00:53:34+00:00  6M23S     gs://qwiklabs-asl-01-19968276eb55_cloudbuild/source/1747270413.774541-a9ecc826ff7b4a17a73a09c006be7e1a.tgz  us-docker.pkg.dev/qwiklabs-asl-01-19968276eb55/asl-artifact-repo/kfp-cli-vertex (+1 more)  SUCCESS\n"
     ]
    }
   ],
   "source": [
    "!gcloud builds submit --timeout 15m --tag {KFP_CLI_IMAGE_URI} kfp-cli_vertex"
   ]
  },
  {
   "cell_type": "markdown",
   "metadata": {},
   "source": [
    "## Understanding the **Cloud Build** workflow.\n",
    "\n",
    "Review the `cloudbuild_vertex.yaml` file to understand how the CI/CD workflow is implemented and how environment specific settings are abstracted using **Cloud Build** variables.\n",
    "\n",
    "The CI/CD workflow automates the steps you walked through manually during `lab-02_vertex`:\n",
    "1. Builds the trainer image\n",
    "1. Compiles the pipeline\n",
    "1. Uploads and run the pipeline to the Vertex AI Pipeline environment\n",
    "1. Pushes the trainer to your project's **Artifact Registry**\n",
    " \n",
    "\n",
    "The **Cloud Build** workflow configuration uses both standard and custom [Cloud Build builders](https://cloud.google.com/cloud-build/docs/cloud-builders). The custom builder encapsulates **KFP CLI**. "
   ]
  },
  {
   "cell_type": "markdown",
   "metadata": {},
   "source": [
    "Let's create a GCS bucket to save the build log."
   ]
  },
  {
   "cell_type": "code",
   "execution_count": null,
   "metadata": {
    "tags": []
   },
   "outputs": [],
   "source": [
    "BUCKET = PROJECT_ID + \"-cicd-log\"\n",
    "os.environ[\"BUCKET\"] = BUCKET"
   ]
  },
  {
   "cell_type": "code",
   "execution_count": null,
   "metadata": {
    "tags": []
   },
   "outputs": [],
   "source": [
    "%%bash\n",
    "\n",
    "exists=$(gsutil ls -d | grep -w gs://${BUCKET}/)\n",
    "if [ -n \"$exists\" ]; then\n",
    "    echo -e \"Bucket exists, let's not recreate it.\"\n",
    "else\n",
    "    echo \"Creating a new GCS bucket.\"\n",
    "    gsutil mb -l ${REGION} gs://${BUCKET}\n",
    "    echo \"Here are your current buckets:\"\n",
    "    gsutil ls\n",
    "fi"
   ]
  },
  {
   "cell_type": "markdown",
   "metadata": {},
   "source": [
    "## Manually triggering CI/CD runs\n",
    "\n",
    "You can manually trigger **Cloud Build** runs using the [gcloud builds submit command]( https://cloud.google.com/sdk/gcloud/reference/builds/submit)."
   ]
  },
  {
   "cell_type": "code",
   "execution_count": null,
   "metadata": {},
   "outputs": [],
   "source": [
    "SUBSTITUTIONS = f\"_REGION={REGION},_PIPELINE_FOLDER=./\"\n",
    "SUBSTITUTIONS"
   ]
  },
  {
   "cell_type": "code",
   "execution_count": null,
   "metadata": {},
   "outputs": [],
   "source": [
    "!gcloud builds submit . --config cloudbuild_vertex.yaml --substitutions {SUBSTITUTIONS}"
   ]
  },
  {
   "cell_type": "markdown",
   "metadata": {},
   "source": [
    "**Note:** If you experience issues with CloudBuild being able to access Vertex AI, you may need to run the following commands in **CloudShell**:\n",
    "\n",
    "```\n",
    "PROJECT_ID=$(gcloud config get-value project)\n",
    "PROJECT_NUMBER=$(gcloud projects list --filter=\"name=$PROJECT_ID\" --format=\"value(PROJECT_NUMBER)\")\n",
    "\n",
    "gcloud projects add-iam-policy-binding $PROJECT_ID \\\n",
    "  --member serviceAccount:$PROJECT_NUMBER@cloudbuild.gserviceaccount.com \\\n",
    "  --role roles/editor\n",
    "gcloud projects add-iam-policy-binding $PROJECT_ID \\\n",
    "    --member serviceAccount:$PROJECT_NUMBER-compute@developer.gserviceaccount.com \\\n",
    "    --role roles/storage.objectAdmin\n",
    "```"
   ]
  },
  {
   "cell_type": "markdown",
   "metadata": {},
   "source": [
    "## Setting up GitHub integration\n",
    "\n",
    "In this exercise you integrate your CI/CD workflow with **GitHub**, using [Cloud Build GitHub App](https://github.com/marketplace/google-cloud-build). \n",
    "You will set up a trigger that starts the CI/CD workflow when a new tag is applied to the **GitHub** repo managing the  pipeline source code. You will use a fork of this repo as your source GitHub repository."
   ]
  },
  {
   "cell_type": "markdown",
   "metadata": {},
   "source": [
    "### Create a fork of this repo\n",
    "[Follow the GitHub documentation](https://help.github.com/en/github/getting-started-with-github/fork-a-repo) to fork [this repo](https://github.com/GoogleCloudPlatform/asl-ml-immersion)"
   ]
  },
  {
   "cell_type": "markdown",
   "metadata": {},
   "source": [
    "### Create a **Cloud Build** trigger\n",
    "\n",
    "Connect the fork you created in the previous step to your Google Cloud project and create a trigger following the steps in the [Creating GitHub app trigger](https://cloud.google.com/cloud-build/docs/create-github-app-triggers) article. Use the following values on the **Edit trigger** form:\n",
    "\n",
    "|Field|Value|\n",
    "|-----|-----|\n",
    "|Name|[YOUR TRIGGER NAME]|\n",
    "|Description|[YOUR TRIGGER DESCRIPTION]|\n",
    "|Event| Tag|\n",
    "|Source| [YOUR FORK]|\n",
    "|Tag (regex)|.\\*|\n",
    "|Build Configuration|Cloud Build configuration file (yaml or json)|\n",
    "|Cloud Build configuration file location| ./notebooks/kubeflow_pipelines/cicd/solutions/cloudbuild_vertex.yaml|\n",
    "|Service account| `<PROJECT NUMBER>-compute@developer.gserviceaccount.com` |\n",
    "\n",
    "\n",
    "Use the following values for the substitution variables:\n",
    "\n",
    "|Variable|Value|\n",
    "|--------|-----|\n",
    "|_REGION|us-central1|\n",
    "|_PIPELINE_FOLDER|notebooks/kubeflow_pipelines/cicd/solutions"
   ]
  },
  {
   "cell_type": "markdown",
   "metadata": {},
   "source": [
    "### Trigger the build\n",
    "\n",
    "To start an automated build [create a new release of the repo in GitHub](https://help.github.com/en/github/administering-a-repository/creating-releases). Alternatively, you can start the build by applying a tag using `git`. \n",
    "```\n",
    "git tag [TAG NAME]\n",
    "git push origin --tags\n",
    "```\n"
   ]
  },
  {
   "cell_type": "markdown",
   "metadata": {},
   "source": [
    "After running the command above, a build should have been automatically triggered, which you should able to inspect [here](https://console.cloud.google.com/cloud-build/builds)."
   ]
  },
  {
   "cell_type": "markdown",
   "metadata": {},
   "source": [
    "Copyright 2021 Google LLC\n",
    "\n",
    "Licensed under the Apache License, Version 2.0 (the \"License\");\n",
    "you may not use this file except in compliance with the License.\n",
    "You may obtain a copy of the License at\n",
    "\n",
    "    https://www.apache.org/licenses/LICENSE-2.0\n",
    "\n",
    "Unless required by applicable law or agreed to in writing, software\n",
    "distributed under the License is distributed on an \"AS IS\" BASIS,\n",
    "WITHOUT WARRANTIES OR CONDITIONS OF ANY KIND, either express or implied.\n",
    "See the License for the specific language governing permissions and\n",
    "limitations under the License."
   ]
  }
 ],
 "metadata": {
  "environment": {
   "kernel": "conda-base-py",
   "name": "workbench-notebooks.m129",
   "type": "gcloud",
   "uri": "us-docker.pkg.dev/deeplearning-platform-release/gcr.io/workbench-notebooks:m129"
  },
  "kernelspec": {
   "display_name": "Python 3 (ipykernel)",
   "language": "python",
   "name": "conda-base-py"
  },
  "language_info": {
   "codemirror_mode": {
    "name": "ipython",
    "version": 3
   },
   "file_extension": ".py",
   "mimetype": "text/x-python",
   "name": "python",
   "nbconvert_exporter": "python",
   "pygments_lexer": "ipython3",
   "version": "3.10.16"
  }
 },
 "nbformat": 4,
 "nbformat_minor": 4
}
